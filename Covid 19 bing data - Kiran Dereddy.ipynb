{
 "cells": [
  {
   "cell_type": "code",
   "execution_count": 36,
   "metadata": {},
   "outputs": [],
   "source": [
    "import pandas as pd\n",
    "import numpy as np\n",
    "import seaborn as sns\n",
    "import plotly.express as px\n",
    "import plotly.graph_objects as go\n",
    "from plotly.subplots import make_subplots\n",
    "import matplotlib.pyplot as plt\n",
    "import pandas_profiling as pp\n",
    "from IPython.core.display import display, HTML"
   ]
  },
  {
   "cell_type": "code",
   "execution_count": 37,
   "metadata": {},
   "outputs": [],
   "source": [
    "data = pd.read_csv(r'C:\\Users\\v-kirare\\Downloads\\Bing-COVID-19-Data-master\\Bing-COVID-19-Data-master\\data\\Bing-COVID19-Data.csv')"
   ]
  },
  {
   "cell_type": "code",
   "execution_count": 38,
   "metadata": {
    "scrolled": true
   },
   "outputs": [
    {
     "data": {
      "text/html": [
       "<style>.container { width:95% !important; }</style>"
      ],
      "text/plain": [
       "<IPython.core.display.HTML object>"
      ]
     },
     "metadata": {},
     "output_type": "display_data"
    }
   ],
   "source": [
    "display(HTML(\"<style>.container { width:95% !important; }</style>\"))\n"
   ]
  },
  {
   "cell_type": "code",
   "execution_count": 39,
   "metadata": {},
   "outputs": [],
   "source": [
    "data_filtered = data[data['Updated']>='03/01/2020']"
   ]
  },
  {
   "cell_type": "code",
   "execution_count": 42,
   "metadata": {
    "scrolled": true
   },
   "outputs": [
    {
     "data": {
      "text/html": [
       "<div>\n",
       "<style scoped>\n",
       "    .dataframe tbody tr th:only-of-type {\n",
       "        vertical-align: middle;\n",
       "    }\n",
       "\n",
       "    .dataframe tbody tr th {\n",
       "        vertical-align: top;\n",
       "    }\n",
       "\n",
       "    .dataframe thead th {\n",
       "        text-align: right;\n",
       "    }\n",
       "</style>\n",
       "<table border=\"1\" class=\"dataframe\">\n",
       "  <thead>\n",
       "    <tr style=\"text-align: right;\">\n",
       "      <th></th>\n",
       "      <th>ID</th>\n",
       "      <th>Updated</th>\n",
       "      <th>Confirmed</th>\n",
       "      <th>ConfirmedChange</th>\n",
       "      <th>Deaths</th>\n",
       "      <th>DeathsChange</th>\n",
       "      <th>Recovered</th>\n",
       "      <th>RecoveredChange</th>\n",
       "      <th>Latitude</th>\n",
       "      <th>Longitude</th>\n",
       "      <th>ISO2</th>\n",
       "      <th>ISO3</th>\n",
       "      <th>Country_Region</th>\n",
       "      <th>AdminRegion1</th>\n",
       "      <th>AdminRegion2</th>\n",
       "    </tr>\n",
       "  </thead>\n",
       "  <tbody>\n",
       "    <tr>\n",
       "      <td>40</td>\n",
       "      <td>339035</td>\n",
       "      <td>03/01/2020</td>\n",
       "      <td>87137</td>\n",
       "      <td>1734.0</td>\n",
       "      <td>2977.0</td>\n",
       "      <td>53.0</td>\n",
       "      <td>NaN</td>\n",
       "      <td>NaN</td>\n",
       "      <td>NaN</td>\n",
       "      <td>NaN</td>\n",
       "      <td>NaN</td>\n",
       "      <td>NaN</td>\n",
       "      <td>Worldwide</td>\n",
       "      <td>NaN</td>\n",
       "      <td>NaN</td>\n",
       "    </tr>\n",
       "    <tr>\n",
       "      <td>41</td>\n",
       "      <td>339036</td>\n",
       "      <td>03/02/2020</td>\n",
       "      <td>88948</td>\n",
       "      <td>1811.0</td>\n",
       "      <td>3043.0</td>\n",
       "      <td>66.0</td>\n",
       "      <td>NaN</td>\n",
       "      <td>NaN</td>\n",
       "      <td>NaN</td>\n",
       "      <td>NaN</td>\n",
       "      <td>NaN</td>\n",
       "      <td>NaN</td>\n",
       "      <td>Worldwide</td>\n",
       "      <td>NaN</td>\n",
       "      <td>NaN</td>\n",
       "    </tr>\n",
       "    <tr>\n",
       "      <td>42</td>\n",
       "      <td>339037</td>\n",
       "      <td>03/03/2020</td>\n",
       "      <td>90869</td>\n",
       "      <td>1921.0</td>\n",
       "      <td>3112.0</td>\n",
       "      <td>69.0</td>\n",
       "      <td>NaN</td>\n",
       "      <td>NaN</td>\n",
       "      <td>NaN</td>\n",
       "      <td>NaN</td>\n",
       "      <td>NaN</td>\n",
       "      <td>NaN</td>\n",
       "      <td>Worldwide</td>\n",
       "      <td>NaN</td>\n",
       "      <td>NaN</td>\n",
       "    </tr>\n",
       "    <tr>\n",
       "      <td>43</td>\n",
       "      <td>339038</td>\n",
       "      <td>03/04/2020</td>\n",
       "      <td>93091</td>\n",
       "      <td>2222.0</td>\n",
       "      <td>3198.0</td>\n",
       "      <td>86.0</td>\n",
       "      <td>NaN</td>\n",
       "      <td>NaN</td>\n",
       "      <td>NaN</td>\n",
       "      <td>NaN</td>\n",
       "      <td>NaN</td>\n",
       "      <td>NaN</td>\n",
       "      <td>Worldwide</td>\n",
       "      <td>NaN</td>\n",
       "      <td>NaN</td>\n",
       "    </tr>\n",
       "    <tr>\n",
       "      <td>44</td>\n",
       "      <td>339039</td>\n",
       "      <td>03/05/2020</td>\n",
       "      <td>95324</td>\n",
       "      <td>2233.0</td>\n",
       "      <td>3281.0</td>\n",
       "      <td>83.0</td>\n",
       "      <td>NaN</td>\n",
       "      <td>NaN</td>\n",
       "      <td>NaN</td>\n",
       "      <td>NaN</td>\n",
       "      <td>NaN</td>\n",
       "      <td>NaN</td>\n",
       "      <td>Worldwide</td>\n",
       "      <td>NaN</td>\n",
       "      <td>NaN</td>\n",
       "    </tr>\n",
       "  </tbody>\n",
       "</table>\n",
       "</div>"
      ],
      "text/plain": [
       "        ID     Updated  Confirmed  ConfirmedChange  Deaths  DeathsChange  \\\n",
       "40  339035  03/01/2020      87137           1734.0  2977.0          53.0   \n",
       "41  339036  03/02/2020      88948           1811.0  3043.0          66.0   \n",
       "42  339037  03/03/2020      90869           1921.0  3112.0          69.0   \n",
       "43  339038  03/04/2020      93091           2222.0  3198.0          86.0   \n",
       "44  339039  03/05/2020      95324           2233.0  3281.0          83.0   \n",
       "\n",
       "    Recovered  RecoveredChange  Latitude  Longitude ISO2 ISO3 Country_Region  \\\n",
       "40        NaN              NaN       NaN        NaN  NaN  NaN      Worldwide   \n",
       "41        NaN              NaN       NaN        NaN  NaN  NaN      Worldwide   \n",
       "42        NaN              NaN       NaN        NaN  NaN  NaN      Worldwide   \n",
       "43        NaN              NaN       NaN        NaN  NaN  NaN      Worldwide   \n",
       "44        NaN              NaN       NaN        NaN  NaN  NaN      Worldwide   \n",
       "\n",
       "   AdminRegion1 AdminRegion2  \n",
       "40          NaN          NaN  \n",
       "41          NaN          NaN  \n",
       "42          NaN          NaN  \n",
       "43          NaN          NaN  \n",
       "44          NaN          NaN  "
      ]
     },
     "execution_count": 42,
     "metadata": {},
     "output_type": "execute_result"
    }
   ],
   "source": [
    "data_filtered.head()"
   ]
  },
  {
   "cell_type": "code",
   "execution_count": 43,
   "metadata": {
    "scrolled": false
   },
   "outputs": [
    {
     "data": {
      "text/html": [
       "<div>\n",
       "<style scoped>\n",
       "    .dataframe tbody tr th:only-of-type {\n",
       "        vertical-align: middle;\n",
       "    }\n",
       "\n",
       "    .dataframe tbody tr th {\n",
       "        vertical-align: top;\n",
       "    }\n",
       "\n",
       "    .dataframe thead th {\n",
       "        text-align: right;\n",
       "    }\n",
       "</style>\n",
       "<table border=\"1\" class=\"dataframe\">\n",
       "  <thead>\n",
       "    <tr style=\"text-align: right;\">\n",
       "      <th></th>\n",
       "      <th>ID</th>\n",
       "      <th>Updated</th>\n",
       "      <th>Confirmed</th>\n",
       "      <th>ConfirmedChange</th>\n",
       "      <th>Deaths</th>\n",
       "      <th>DeathsChange</th>\n",
       "      <th>Recovered</th>\n",
       "      <th>RecoveredChange</th>\n",
       "      <th>Latitude</th>\n",
       "      <th>Longitude</th>\n",
       "      <th>ISO2</th>\n",
       "      <th>ISO3</th>\n",
       "      <th>Country_Region</th>\n",
       "      <th>AdminRegion1</th>\n",
       "      <th>AdminRegion2</th>\n",
       "    </tr>\n",
       "  </thead>\n",
       "  <tbody>\n",
       "    <tr>\n",
       "      <td>250122</td>\n",
       "      <td>19070555</td>\n",
       "      <td>05/25/2020</td>\n",
       "      <td>94</td>\n",
       "      <td>19.0</td>\n",
       "      <td>4.0</td>\n",
       "      <td>0.0</td>\n",
       "      <td>25.0</td>\n",
       "      <td>0.0</td>\n",
       "      <td>-19.00046</td>\n",
       "      <td>29.87184</td>\n",
       "      <td>ZW</td>\n",
       "      <td>ZWE</td>\n",
       "      <td>Zimbabwe</td>\n",
       "      <td>NaN</td>\n",
       "      <td>NaN</td>\n",
       "    </tr>\n",
       "    <tr>\n",
       "      <td>250123</td>\n",
       "      <td>19507925</td>\n",
       "      <td>05/26/2020</td>\n",
       "      <td>113</td>\n",
       "      <td>19.0</td>\n",
       "      <td>4.0</td>\n",
       "      <td>0.0</td>\n",
       "      <td>25.0</td>\n",
       "      <td>0.0</td>\n",
       "      <td>-19.00046</td>\n",
       "      <td>29.87184</td>\n",
       "      <td>ZW</td>\n",
       "      <td>ZWE</td>\n",
       "      <td>Zimbabwe</td>\n",
       "      <td>NaN</td>\n",
       "      <td>NaN</td>\n",
       "    </tr>\n",
       "    <tr>\n",
       "      <td>250124</td>\n",
       "      <td>20116989</td>\n",
       "      <td>05/27/2020</td>\n",
       "      <td>132</td>\n",
       "      <td>19.0</td>\n",
       "      <td>4.0</td>\n",
       "      <td>0.0</td>\n",
       "      <td>25.0</td>\n",
       "      <td>0.0</td>\n",
       "      <td>-19.00046</td>\n",
       "      <td>29.87184</td>\n",
       "      <td>ZW</td>\n",
       "      <td>ZWE</td>\n",
       "      <td>Zimbabwe</td>\n",
       "      <td>NaN</td>\n",
       "      <td>NaN</td>\n",
       "    </tr>\n",
       "    <tr>\n",
       "      <td>250125</td>\n",
       "      <td>20686620</td>\n",
       "      <td>05/28/2020</td>\n",
       "      <td>149</td>\n",
       "      <td>17.0</td>\n",
       "      <td>4.0</td>\n",
       "      <td>0.0</td>\n",
       "      <td>28.0</td>\n",
       "      <td>3.0</td>\n",
       "      <td>-19.00046</td>\n",
       "      <td>29.87184</td>\n",
       "      <td>ZW</td>\n",
       "      <td>ZWE</td>\n",
       "      <td>Zimbabwe</td>\n",
       "      <td>NaN</td>\n",
       "      <td>NaN</td>\n",
       "    </tr>\n",
       "    <tr>\n",
       "      <td>250126</td>\n",
       "      <td>21233709</td>\n",
       "      <td>05/29/2020</td>\n",
       "      <td>149</td>\n",
       "      <td>0.0</td>\n",
       "      <td>4.0</td>\n",
       "      <td>0.0</td>\n",
       "      <td>28.0</td>\n",
       "      <td>0.0</td>\n",
       "      <td>-19.00046</td>\n",
       "      <td>29.87184</td>\n",
       "      <td>ZW</td>\n",
       "      <td>ZWE</td>\n",
       "      <td>Zimbabwe</td>\n",
       "      <td>NaN</td>\n",
       "      <td>NaN</td>\n",
       "    </tr>\n",
       "  </tbody>\n",
       "</table>\n",
       "</div>"
      ],
      "text/plain": [
       "              ID     Updated  Confirmed  ConfirmedChange  Deaths  \\\n",
       "250122  19070555  05/25/2020         94             19.0     4.0   \n",
       "250123  19507925  05/26/2020        113             19.0     4.0   \n",
       "250124  20116989  05/27/2020        132             19.0     4.0   \n",
       "250125  20686620  05/28/2020        149             17.0     4.0   \n",
       "250126  21233709  05/29/2020        149              0.0     4.0   \n",
       "\n",
       "        DeathsChange  Recovered  RecoveredChange  Latitude  Longitude ISO2  \\\n",
       "250122           0.0       25.0              0.0 -19.00046   29.87184   ZW   \n",
       "250123           0.0       25.0              0.0 -19.00046   29.87184   ZW   \n",
       "250124           0.0       25.0              0.0 -19.00046   29.87184   ZW   \n",
       "250125           0.0       28.0              3.0 -19.00046   29.87184   ZW   \n",
       "250126           0.0       28.0              0.0 -19.00046   29.87184   ZW   \n",
       "\n",
       "       ISO3 Country_Region AdminRegion1 AdminRegion2  \n",
       "250122  ZWE       Zimbabwe          NaN          NaN  \n",
       "250123  ZWE       Zimbabwe          NaN          NaN  \n",
       "250124  ZWE       Zimbabwe          NaN          NaN  \n",
       "250125  ZWE       Zimbabwe          NaN          NaN  \n",
       "250126  ZWE       Zimbabwe          NaN          NaN  "
      ]
     },
     "execution_count": 43,
     "metadata": {},
     "output_type": "execute_result"
    }
   ],
   "source": [
    "data_filtered.tail()"
   ]
  },
  {
   "cell_type": "code",
   "execution_count": 44,
   "metadata": {},
   "outputs": [
    {
     "name": "stderr",
     "output_type": "stream",
     "text": [
      "C:\\Users\\v-kirare\\AppData\\Local\\Continuum\\anaconda3\\lib\\site-packages\\pandas\\core\\frame.py:4102: SettingWithCopyWarning:\n",
      "\n",
      "\n",
      "A value is trying to be set on a copy of a slice from a DataFrame\n",
      "\n",
      "See the caveats in the documentation: http://pandas.pydata.org/pandas-docs/stable/user_guide/indexing.html#returning-a-view-versus-a-copy\n",
      "\n"
     ]
    }
   ],
   "source": [
    "data_filtered.drop(['Latitude'],1,inplace=True)"
   ]
  },
  {
   "cell_type": "code",
   "execution_count": 45,
   "metadata": {},
   "outputs": [],
   "source": [
    "data_filtered.drop(['Longitude'],1,inplace=True)"
   ]
  },
  {
   "cell_type": "code",
   "execution_count": 46,
   "metadata": {
    "scrolled": true
   },
   "outputs": [
    {
     "data": {
      "text/html": [
       "<div>\n",
       "<style scoped>\n",
       "    .dataframe tbody tr th:only-of-type {\n",
       "        vertical-align: middle;\n",
       "    }\n",
       "\n",
       "    .dataframe tbody tr th {\n",
       "        vertical-align: top;\n",
       "    }\n",
       "\n",
       "    .dataframe thead th {\n",
       "        text-align: right;\n",
       "    }\n",
       "</style>\n",
       "<table border=\"1\" class=\"dataframe\">\n",
       "  <thead>\n",
       "    <tr style=\"text-align: right;\">\n",
       "      <th></th>\n",
       "      <th>ID</th>\n",
       "      <th>Updated</th>\n",
       "      <th>Confirmed</th>\n",
       "      <th>ConfirmedChange</th>\n",
       "      <th>Deaths</th>\n",
       "      <th>DeathsChange</th>\n",
       "      <th>Recovered</th>\n",
       "      <th>RecoveredChange</th>\n",
       "      <th>ISO2</th>\n",
       "      <th>ISO3</th>\n",
       "      <th>Country_Region</th>\n",
       "      <th>AdminRegion1</th>\n",
       "      <th>AdminRegion2</th>\n",
       "    </tr>\n",
       "  </thead>\n",
       "  <tbody>\n",
       "    <tr>\n",
       "      <td>250122</td>\n",
       "      <td>19070555</td>\n",
       "      <td>05/25/2020</td>\n",
       "      <td>94</td>\n",
       "      <td>19.0</td>\n",
       "      <td>4.0</td>\n",
       "      <td>0.0</td>\n",
       "      <td>25.0</td>\n",
       "      <td>0.0</td>\n",
       "      <td>ZW</td>\n",
       "      <td>ZWE</td>\n",
       "      <td>Zimbabwe</td>\n",
       "      <td>NaN</td>\n",
       "      <td>NaN</td>\n",
       "    </tr>\n",
       "    <tr>\n",
       "      <td>250123</td>\n",
       "      <td>19507925</td>\n",
       "      <td>05/26/2020</td>\n",
       "      <td>113</td>\n",
       "      <td>19.0</td>\n",
       "      <td>4.0</td>\n",
       "      <td>0.0</td>\n",
       "      <td>25.0</td>\n",
       "      <td>0.0</td>\n",
       "      <td>ZW</td>\n",
       "      <td>ZWE</td>\n",
       "      <td>Zimbabwe</td>\n",
       "      <td>NaN</td>\n",
       "      <td>NaN</td>\n",
       "    </tr>\n",
       "    <tr>\n",
       "      <td>250124</td>\n",
       "      <td>20116989</td>\n",
       "      <td>05/27/2020</td>\n",
       "      <td>132</td>\n",
       "      <td>19.0</td>\n",
       "      <td>4.0</td>\n",
       "      <td>0.0</td>\n",
       "      <td>25.0</td>\n",
       "      <td>0.0</td>\n",
       "      <td>ZW</td>\n",
       "      <td>ZWE</td>\n",
       "      <td>Zimbabwe</td>\n",
       "      <td>NaN</td>\n",
       "      <td>NaN</td>\n",
       "    </tr>\n",
       "    <tr>\n",
       "      <td>250125</td>\n",
       "      <td>20686620</td>\n",
       "      <td>05/28/2020</td>\n",
       "      <td>149</td>\n",
       "      <td>17.0</td>\n",
       "      <td>4.0</td>\n",
       "      <td>0.0</td>\n",
       "      <td>28.0</td>\n",
       "      <td>3.0</td>\n",
       "      <td>ZW</td>\n",
       "      <td>ZWE</td>\n",
       "      <td>Zimbabwe</td>\n",
       "      <td>NaN</td>\n",
       "      <td>NaN</td>\n",
       "    </tr>\n",
       "    <tr>\n",
       "      <td>250126</td>\n",
       "      <td>21233709</td>\n",
       "      <td>05/29/2020</td>\n",
       "      <td>149</td>\n",
       "      <td>0.0</td>\n",
       "      <td>4.0</td>\n",
       "      <td>0.0</td>\n",
       "      <td>28.0</td>\n",
       "      <td>0.0</td>\n",
       "      <td>ZW</td>\n",
       "      <td>ZWE</td>\n",
       "      <td>Zimbabwe</td>\n",
       "      <td>NaN</td>\n",
       "      <td>NaN</td>\n",
       "    </tr>\n",
       "  </tbody>\n",
       "</table>\n",
       "</div>"
      ],
      "text/plain": [
       "              ID     Updated  Confirmed  ConfirmedChange  Deaths  \\\n",
       "250122  19070555  05/25/2020         94             19.0     4.0   \n",
       "250123  19507925  05/26/2020        113             19.0     4.0   \n",
       "250124  20116989  05/27/2020        132             19.0     4.0   \n",
       "250125  20686620  05/28/2020        149             17.0     4.0   \n",
       "250126  21233709  05/29/2020        149              0.0     4.0   \n",
       "\n",
       "        DeathsChange  Recovered  RecoveredChange ISO2 ISO3 Country_Region  \\\n",
       "250122           0.0       25.0              0.0   ZW  ZWE       Zimbabwe   \n",
       "250123           0.0       25.0              0.0   ZW  ZWE       Zimbabwe   \n",
       "250124           0.0       25.0              0.0   ZW  ZWE       Zimbabwe   \n",
       "250125           0.0       28.0              3.0   ZW  ZWE       Zimbabwe   \n",
       "250126           0.0       28.0              0.0   ZW  ZWE       Zimbabwe   \n",
       "\n",
       "       AdminRegion1 AdminRegion2  \n",
       "250122          NaN          NaN  \n",
       "250123          NaN          NaN  \n",
       "250124          NaN          NaN  \n",
       "250125          NaN          NaN  \n",
       "250126          NaN          NaN  "
      ]
     },
     "execution_count": 46,
     "metadata": {},
     "output_type": "execute_result"
    }
   ],
   "source": [
    "data_filtered.tail()"
   ]
  },
  {
   "cell_type": "code",
   "execution_count": 47,
   "metadata": {},
   "outputs": [
    {
     "name": "stderr",
     "output_type": "stream",
     "text": [
      "C:\\Users\\v-kirare\\AppData\\Local\\Continuum\\anaconda3\\lib\\site-packages\\pandas_profiling\\describe.py:392: FutureWarning:\n",
      "\n",
      "The join_axes-keyword is deprecated. Use .reindex or .reindex_like on the result to achieve the same functionality.\n",
      "\n"
     ]
    },
    {
     "data": {
      "text/html": [
       "<!doctype html>\n",
       "\n",
       "<html lang=\"en\">\n",
       "<head>\n",
       "  <meta charset=\"utf-8\">\n",
       "\n",
       "  <title>Profile report</title>\n",
       "  <meta name=\"description\" content=\"Profile report generated by pandas-profiling. See GitHub.\">\n",
       "  <meta name=\"author\" content=\"pandas-profiling\">\n",
       "    <script src=\"https://ajax.googleapis.com/ajax/libs/jquery/1.11.3/jquery.min.js\"></script>\n",
       "\n",
       "    <link rel=\"stylesheet\" href=\"https://maxcdn.bootstrapcdn.com/bootstrap/3.3.6/css/bootstrap.min.css\"\n",
       "          integrity=\"sha384-1q8mTJOASx8j1Au+a5WDVnPi2lkFfwwEAa8hDDdjZlpLegxhjVME1fgjWPGmkzs7\" crossorigin=\"anonymous\">\n",
       "    <link rel=\"stylesheet\" href=\"https://maxcdn.bootstrapcdn.com/bootstrap/3.3.6/css/bootstrap-theme.min.css\"\n",
       "          integrity=\"sha384-fLW2N01lMqjakBkx3l/M9EahuwpSfeNvV63J5ezn3uZzapT0u7EYsXMjQV+0En5r\" crossorigin=\"anonymous\">\n",
       "    <script src=\"https://maxcdn.bootstrapcdn.com/bootstrap/3.3.6/js/bootstrap.min.js\" integrity=\"sha384-0mSbJDEHialfmuBBQP6A4Qrprq5OVfW37PRR3j5ELqxss1yVqOtnepnHVP9aJ7xS\" crossorigin=\"anonymous\"></script>\n",
       "    <script>\n",
       "      $(function () {\n",
       "            $('[data-toggle=\"tooltip\"]').tooltip()\n",
       "      })\n",
       "\n",
       "      $(\"a[href^='#'].anchor\").on('click', function(e) {\n",
       "\n",
       "       // prevent default anchor click behavior\n",
       "       e.preventDefault();\n",
       "\n",
       "       // store hash\n",
       "       var hash = this.hash;\n",
       "\n",
       "       // animate\n",
       "       $('html, body').animate({\n",
       "           scrollTop: $(hash).offset().top\n",
       "         }, 300, function(){\n",
       "\n",
       "           // when done, add hash to url\n",
       "           // (default click behaviour)\n",
       "           window.location.hash = hash;\n",
       "         });\n",
       "\n",
       "      });\n",
       "    </script>\n",
       "</head>\n",
       "\n",
       "<body>\n",
       "    <meta charset=\"UTF-8\">\n",
       "\n",
       "<style>\n",
       "\n",
       "        .variablerow {\n",
       "            border: 1px solid #e1e1e8;\n",
       "            border-top: hidden;\n",
       "            padding-top: 2em;\n",
       "            padding-bottom: 2em;\n",
       "            padding-left: 1em;\n",
       "            padding-right: 1em;\n",
       "        }\n",
       "\n",
       "        .headerrow {\n",
       "            border: 1px solid #e1e1e8;\n",
       "            background-color: #f5f5f5;\n",
       "            padding: 2em;\n",
       "        }\n",
       "        .namecol {\n",
       "            margin-top: -1em;\n",
       "            overflow-x: auto;\n",
       "        }\n",
       "\n",
       "        .dl-horizontal dt {\n",
       "            text-align: left;\n",
       "            padding-right: 1em;\n",
       "            white-space: normal;\n",
       "        }\n",
       "\n",
       "        .dl-horizontal dd {\n",
       "            margin-left: 0;\n",
       "        }\n",
       "\n",
       "        .ignore {\n",
       "            opacity: 0.4;\n",
       "        }\n",
       "\n",
       "        .container.pandas-profiling {\n",
       "            max-width:975px;\n",
       "        }\n",
       "\n",
       "        .col-md-12 {\n",
       "            padding-left: 2em;\n",
       "        }\n",
       "\n",
       "        .indent {\n",
       "            margin-left: 1em;\n",
       "        }\n",
       "\n",
       "        .center-img {\n",
       "            margin-left: auto !important;\n",
       "            margin-right: auto !important;\n",
       "            display: block;\n",
       "        }\n",
       "\n",
       "        /* Table example_values */\n",
       "            table.example_values {\n",
       "                border: 0;\n",
       "            }\n",
       "\n",
       "            .example_values th {\n",
       "                border: 0;\n",
       "                padding: 0 ;\n",
       "                color: #555;\n",
       "                font-weight: 600;\n",
       "            }\n",
       "\n",
       "            .example_values tr, .example_values td{\n",
       "                border: 0;\n",
       "                padding: 0;\n",
       "                color: #555;\n",
       "            }\n",
       "\n",
       "        /* STATS */\n",
       "            table.stats {\n",
       "                border: 0;\n",
       "            }\n",
       "\n",
       "            .stats th {\n",
       "                border: 0;\n",
       "                padding: 0 2em 0 0;\n",
       "                color: #555;\n",
       "                font-weight: 600;\n",
       "            }\n",
       "\n",
       "            .stats tr {\n",
       "                border: 0;\n",
       "            }\n",
       "\n",
       "            .stats td{\n",
       "                color: #555;\n",
       "                padding: 1px;\n",
       "                border: 0;\n",
       "            }\n",
       "\n",
       "\n",
       "        /* Sample table */\n",
       "            table.sample {\n",
       "                border: 0;\n",
       "                margin-bottom: 2em;\n",
       "                margin-left:1em;\n",
       "            }\n",
       "            .sample tr {\n",
       "                border:0;\n",
       "            }\n",
       "            .sample td, .sample th{\n",
       "                padding: 0.5em;\n",
       "                white-space: nowrap;\n",
       "                border: none;\n",
       "\n",
       "            }\n",
       "\n",
       "            .sample thead {\n",
       "                border-top: 0;\n",
       "                border-bottom: 2px solid #ddd;\n",
       "            }\n",
       "\n",
       "            .sample td {\n",
       "                width:100%;\n",
       "            }\n",
       "\n",
       "\n",
       "        /* There is no good solution available to make the divs equal height and then center ... */\n",
       "            .histogram {\n",
       "                margin-top: 3em;\n",
       "            }\n",
       "        /* Freq table */\n",
       "\n",
       "            table.freq {\n",
       "                margin-bottom: 2em;\n",
       "                border: 0;\n",
       "            }\n",
       "            table.freq th, table.freq tr, table.freq td {\n",
       "                border: 0;\n",
       "                padding: 0;\n",
       "            }\n",
       "\n",
       "            .freq thead {\n",
       "                font-weight: 600;\n",
       "                white-space: nowrap;\n",
       "                overflow: hidden;\n",
       "                text-overflow: ellipsis;\n",
       "\n",
       "            }\n",
       "\n",
       "            td.fillremaining{\n",
       "                width:auto;\n",
       "                max-width: none;\n",
       "            }\n",
       "\n",
       "            td.number, th.number {\n",
       "                text-align:right ;\n",
       "            }\n",
       "\n",
       "        /* Freq mini */\n",
       "            .freq.mini td{\n",
       "                width: 50%;\n",
       "                padding: 1px;\n",
       "                font-size: 12px;\n",
       "\n",
       "            }\n",
       "            table.freq.mini {\n",
       "                 width:100%;\n",
       "            }\n",
       "            .freq.mini th {\n",
       "                overflow: hidden;\n",
       "                text-overflow: ellipsis;\n",
       "                white-space: nowrap;\n",
       "                max-width: 5em;\n",
       "                font-weight: 400;\n",
       "                text-align:right;\n",
       "                padding-right: 0.5em;\n",
       "            }\n",
       "\n",
       "            .missing {\n",
       "                color: #a94442;\n",
       "            }\n",
       "            .alert, .alert > th, .alert > td {\n",
       "                color: #a94442;\n",
       "            }\n",
       "\n",
       "\n",
       "        /* Bars in tables */\n",
       "            .freq .bar{\n",
       "                float: left;\n",
       "                width: 0;\n",
       "                height: 100%;\n",
       "                line-height: 20px;\n",
       "                color: #fff;\n",
       "                text-align: center;\n",
       "                background-color: #337ab7;\n",
       "                border-radius: 3px;\n",
       "                margin-right: 4px;\n",
       "            }\n",
       "            .other .bar {\n",
       "                background-color: #999;\n",
       "            }\n",
       "            .missing .bar{\n",
       "                background-color: #a94442;\n",
       "            }\n",
       "            .tooltip-inner {\n",
       "                width: 100%;\n",
       "                white-space: nowrap;\n",
       "                text-align:left;\n",
       "            }\n",
       "\n",
       "            .extrapadding{\n",
       "                padding: 2em;\n",
       "            }\n",
       "\n",
       "            .pp-anchor{\n",
       "\n",
       "            }\n",
       "\n",
       "</style>\n",
       "\n",
       "<div class=\"container pandas-profiling\">\n",
       "    <div class=\"row headerrow highlight\">\n",
       "        <h1>Overview</h1>\n",
       "    </div>\n",
       "    <div class=\"row variablerow\">\n",
       "    <div class=\"col-md-6 namecol\">\n",
       "        <p class=\"h4\">Dataset info</p>\n",
       "        <table class=\"stats\" style=\"margin-left: 1em;\">\n",
       "            <tbody>\n",
       "            <tr>\n",
       "                <th>Number of variables</th>\n",
       "                <td>14 </td>\n",
       "            </tr>\n",
       "            <tr>\n",
       "                <th>Number of observations</th>\n",
       "                <td>248143 </td>\n",
       "            </tr>\n",
       "            <tr>\n",
       "                <th>Total Missing (%)</th>\n",
       "                <td>7.7% </td>\n",
       "            </tr>\n",
       "            <tr>\n",
       "                <th>Total size in memory</th>\n",
       "                <td>26.5 MiB </td>\n",
       "            </tr>\n",
       "            <tr>\n",
       "                <th>Average record size in memory</th>\n",
       "                <td>112.0 B </td>\n",
       "            </tr>\n",
       "            </tbody>\n",
       "        </table>\n",
       "    </div>\n",
       "    <div class=\"col-md-6 namecol\">\n",
       "        <p class=\"h4\">Variables types</p>\n",
       "        <table class=\"stats\" style=\"margin-left: 1em;\">\n",
       "            <tbody>\n",
       "            <tr>\n",
       "                <th>Numeric</th>\n",
       "                <td>5 </td>\n",
       "            </tr>\n",
       "            <tr>\n",
       "                <th>Categorical</th>\n",
       "                <td>6 </td>\n",
       "            </tr>\n",
       "            <tr>\n",
       "                <th>Boolean</th>\n",
       "                <td>0 </td>\n",
       "            </tr>\n",
       "            <tr>\n",
       "                <th>Date</th>\n",
       "                <td>0 </td>\n",
       "            </tr>\n",
       "            <tr>\n",
       "                <th>Text (Unique)</th>\n",
       "                <td>0 </td>\n",
       "            </tr>\n",
       "            <tr>\n",
       "                <th>Rejected</th>\n",
       "                <td>3 </td>\n",
       "            </tr>\n",
       "            <tr>\n",
       "                <th>Unsupported</th>\n",
       "                <td>0 </td>\n",
       "            </tr>\n",
       "            </tbody>\n",
       "        </table>\n",
       "    </div>\n",
       "    <div class=\"col-md-12\" style=\"padding-left: 1em;\">\n",
       "        \n",
       "        <p class=\"h4\">Warnings</p>\n",
       "        <ul class=\"list-unstyled\"><li><a href=\"#pp_var_Updated\"><code>Updated</code></a> has a high cardinality: 91 distinct values  <span class=\"label label-warning\">Warning</span></li><li><a href=\"#pp_var_Confirmed\"><code>Confirmed</code></a> has 6952 / 2.8% zeros <span class=\"label label-info\">Zeros</span></li><li><a href=\"#pp_var_Confirmed\"><code>Confirmed</code></a> is highly skewed (γ1 = 66.103)  <span class=\"label label-info\">Skewed</span></li><li><a href=\"#pp_var_ConfirmedChange\"><code>ConfirmedChange</code></a> has 4780 / 1.9% missing values <span class=\"label label-default\">Missing</span></li><li><a href=\"#pp_var_ConfirmedChange\"><code>ConfirmedChange</code></a> has 110806 / 44.7% zeros <span class=\"label label-info\">Zeros</span></li><li><a href=\"#pp_var_ConfirmedChange\"><code>ConfirmedChange</code></a> is highly skewed (γ1 = 52.394)  <span class=\"label label-info\">Skewed</span></li><li><a href=\"#pp_var_Deaths\"><code>Deaths</code></a> is highly correlated with <a href=\"#pp_var_Confirmed\"><code>Confirmed</code></a> (ρ = 0.98692) <span class=\"label label-primary\">Rejected</span></li><li><a href=\"#pp_var_DeathsChange\"><code>DeathsChange</code></a> is highly correlated with <a href=\"#pp_var_ConfirmedChange\"><code>ConfirmedChange</code></a> (ρ = 0.9127) <span class=\"label label-primary\">Rejected</span></li><li><a href=\"#pp_var_Recovered\"><code>Recovered</code></a> is highly correlated with <a href=\"#pp_var_Deaths\"><code>Deaths</code></a> (ρ = 0.96518) <span class=\"label label-primary\">Rejected</span></li><li><a href=\"#pp_var_RecoveredChange\"><code>RecoveredChange</code></a> has 188119 / 75.8% missing values <span class=\"label label-default\">Missing</span></li><li><a href=\"#pp_var_RecoveredChange\"><code>RecoveredChange</code></a> has 37526 / 15.1% zeros <span class=\"label label-info\">Zeros</span></li><li><a href=\"#pp_var_RecoveredChange\"><code>RecoveredChange</code></a> is highly skewed (γ1 = 43.725)  <span class=\"label label-info\">Skewed</span></li><li><a href=\"#pp_var_ISO2\"><code>ISO2</code></a> has a high cardinality: 220 distinct values  <span class=\"label label-warning\">Warning</span></li><li><a href=\"#pp_var_ISO3\"><code>ISO3</code></a> has a high cardinality: 221 distinct values  <span class=\"label label-warning\">Warning</span></li><li><a href=\"#pp_var_Country_Region\"><code>Country_Region</code></a> has a high cardinality: 230 distinct values  <span class=\"label label-warning\">Warning</span></li><li><a href=\"#pp_var_AdminRegion1\"><code>AdminRegion1</code></a> has 17219 / 6.9% missing values <span class=\"label label-default\">Missing</span></li><li><a href=\"#pp_var_AdminRegion1\"><code>AdminRegion1</code></a> has a high cardinality: 823 distinct values  <span class=\"label label-warning\">Warning</span></li><li><a href=\"#pp_var_AdminRegion2\"><code>AdminRegion2</code></a> has 56940 / 22.9% missing values <span class=\"label label-default\">Missing</span></li><li><a href=\"#pp_var_AdminRegion2\"><code>AdminRegion2</code></a> has a high cardinality: 2673 distinct values  <span class=\"label label-warning\">Warning</span></li> </ul>\n",
       "    </div>\n",
       "</div>\n",
       "    <div class=\"row headerrow highlight\">\n",
       "        <h1>Variables</h1>\n",
       "    </div>\n",
       "    <div class=\"row variablerow\">\n",
       "    <div class=\"col-md-3 namecol\">\n",
       "        <p class=\"h4 pp-anchor\" id=\"pp_var_index\">index<br/>\n",
       "            <small>Numeric</small>\n",
       "        </p>\n",
       "    </div><div class=\"col-md-6\">\n",
       "    <div class=\"row\">\n",
       "        <div class=\"col-sm-6\">\n",
       "            <table class=\"stats \">\n",
       "                <tr>\n",
       "                    <th>Distinct count</th>\n",
       "                    <td>248143</td>\n",
       "                </tr>\n",
       "                <tr>\n",
       "                    <th>Unique (%)</th>\n",
       "                    <td>100.0%</td>\n",
       "                </tr>\n",
       "                <tr class=\"ignore\">\n",
       "                    <th>Missing (%)</th>\n",
       "                    <td>0.0%</td>\n",
       "                </tr>\n",
       "                <tr class=\"ignore\">\n",
       "                    <th>Missing (n)</th>\n",
       "                    <td>0</td>\n",
       "                </tr>\n",
       "                <tr class=\"ignore\">\n",
       "                    <th>Infinite (%)</th>\n",
       "                    <td>0.0%</td>\n",
       "                </tr>\n",
       "                <tr class=\"ignore\">\n",
       "                    <th>Infinite (n)</th>\n",
       "                    <td>0</td>\n",
       "                </tr>\n",
       "            </table>\n",
       "\n",
       "        </div>\n",
       "        <div class=\"col-sm-6\">\n",
       "            <table class=\"stats \">\n",
       "\n",
       "                <tr>\n",
       "                    <th>Mean</th>\n",
       "                    <td>125410</td>\n",
       "                </tr>\n",
       "                <tr>\n",
       "                    <th>Minimum</th>\n",
       "                    <td>40</td>\n",
       "                </tr>\n",
       "                <tr>\n",
       "                    <th>Maximum</th>\n",
       "                    <td>250126</td>\n",
       "                </tr>\n",
       "                <tr class=\"ignore\">\n",
       "                    <th>Zeros (%)</th>\n",
       "                    <td>0.0%</td>\n",
       "                </tr>\n",
       "            </table>\n",
       "        </div>\n",
       "    </div>\n",
       "</div>\n",
       "<div class=\"col-md-3 collapse in\" id=\"minihistogram-1415099336495193989\">\n",
       "    <img src=\"data:image/png;base64,iVBORw0KGgoAAAANSUhEUgAAAMgAAABLCAYAAAA1fMjoAAAABHNCSVQICAgIfAhkiAAAAAlwSFlzAAAPYQAAD2EBqD%2BnaQAAADh0RVh0U29mdHdhcmUAbWF0cGxvdGxpYiB2ZXJzaW9uMy4yLjEsIGh0dHA6Ly9tYXRwbG90bGliLm9yZy%2Bj8jraAAABn0lEQVR4nO3XsY3bQBCG0aFwKalcELtwEe7JsUP34yLchQQVQOICB9Y6sHWJfX%2B4FA/vhdpgRsB8AYfWWqvOrtdrzfPceyw7d7lc6nw%2Bd5350nXaX%2BM4VtWfPzxN0xYrsCPLstQ8z29309MmgQzDUFVV0zTtKpBPX75vvcKH9%2BPr53ffHnfT0yaBJI6QZ3LYegF4ZgKBQCAQCAQCgUAgEAgEAoFAIBAIBAKBQCAQCAQCgUAgEAgEAoFAIBAIBAKBQCAQCAQCgUAgEAgEAoFAIBAIBAKBQCAQCAQCgUAgEAgEAoFAIBAIBAKBQCAQCAQCgUAgEAgEAoFAIBAIBAKBQCAQCASCly2GttaqqmpZln/efv187b0OT%2BR/N/H47XE3PW0SyLquVVU1z/MW43lix2/vv63rWsfjsd8yVTW0DbK83%2B91u91qHMcahqH3eHamtVbrutbpdKrDoe9XwSaBwF74SIdAIBAIBAKBQCAQCAQCgUAgEAgEAoFAIBAIBAKBQCAQCAQCgUAgEAgEAoFAIBAIBAKBQCAQCAQCgUAg%2BA1a30HaVEbSPgAAAABJRU5ErkJggg%3D%3D\">\n",
       "\n",
       "</div>\n",
       "<div class=\"col-md-12 text-right\">\n",
       "    <a role=\"button\" data-toggle=\"collapse\" data-target=\"#descriptives-1415099336495193989,#minihistogram-1415099336495193989\"\n",
       "       aria-expanded=\"false\" aria-controls=\"collapseExample\">\n",
       "        Toggle details\n",
       "    </a>\n",
       "</div>\n",
       "<div class=\"row collapse col-md-12\" id=\"descriptives-1415099336495193989\">\n",
       "    <ul class=\"nav nav-tabs\" role=\"tablist\">\n",
       "        <li role=\"presentation\" class=\"active\"><a href=\"#quantiles-1415099336495193989\"\n",
       "                                                  aria-controls=\"quantiles-1415099336495193989\" role=\"tab\"\n",
       "                                                  data-toggle=\"tab\">Statistics</a></li>\n",
       "        <li role=\"presentation\"><a href=\"#histogram-1415099336495193989\" aria-controls=\"histogram-1415099336495193989\"\n",
       "                                   role=\"tab\" data-toggle=\"tab\">Histogram</a></li>\n",
       "        <li role=\"presentation\"><a href=\"#common-1415099336495193989\" aria-controls=\"common-1415099336495193989\"\n",
       "                                   role=\"tab\" data-toggle=\"tab\">Common Values</a></li>\n",
       "        <li role=\"presentation\"><a href=\"#extreme-1415099336495193989\" aria-controls=\"extreme-1415099336495193989\"\n",
       "                                   role=\"tab\" data-toggle=\"tab\">Extreme Values</a></li>\n",
       "\n",
       "    </ul>\n",
       "\n",
       "    <div class=\"tab-content\">\n",
       "        <div role=\"tabpanel\" class=\"tab-pane active row\" id=\"quantiles-1415099336495193989\">\n",
       "            <div class=\"col-md-4 col-md-offset-1\">\n",
       "                <p class=\"h4\">Quantile statistics</p>\n",
       "                <table class=\"stats indent\">\n",
       "                    <tr>\n",
       "                        <th>Minimum</th>\n",
       "                        <td>40</td>\n",
       "                    </tr>\n",
       "                    <tr>\n",
       "                        <th>5-th percentile</th>\n",
       "                        <td>12669</td>\n",
       "                    </tr>\n",
       "                    <tr>\n",
       "                        <th>Q1</th>\n",
       "                        <td>63168</td>\n",
       "                    </tr>\n",
       "                    <tr>\n",
       "                        <th>Median</th>\n",
       "                        <td>125560</td>\n",
       "                    </tr>\n",
       "                    <tr>\n",
       "                        <th>Q3</th>\n",
       "                        <td>187840</td>\n",
       "                    </tr>\n",
       "                    <tr>\n",
       "                        <th>95-th percentile</th>\n",
       "                        <td>237630</td>\n",
       "                    </tr>\n",
       "                    <tr>\n",
       "                        <th>Maximum</th>\n",
       "                        <td>250126</td>\n",
       "                    </tr>\n",
       "                    <tr>\n",
       "                        <th>Range</th>\n",
       "                        <td>250086</td>\n",
       "                    </tr>\n",
       "                    <tr>\n",
       "                        <th>Interquartile range</th>\n",
       "                        <td>124680</td>\n",
       "                    </tr>\n",
       "                </table>\n",
       "            </div>\n",
       "            <div class=\"col-md-4 col-md-offset-2\">\n",
       "                <p class=\"h4\">Descriptive statistics</p>\n",
       "                <table class=\"stats indent\">\n",
       "                    <tr>\n",
       "                        <th>Standard deviation</th>\n",
       "                        <td>72114</td>\n",
       "                    </tr>\n",
       "                    <tr>\n",
       "                        <th>Coef of variation</th>\n",
       "                        <td>0.57503</td>\n",
       "                    </tr>\n",
       "                    <tr>\n",
       "                        <th>Kurtosis</th>\n",
       "                        <td>-1.1969</td>\n",
       "                    </tr>\n",
       "                    <tr>\n",
       "                        <th>Mean</th>\n",
       "                        <td>125410</td>\n",
       "                    </tr>\n",
       "                    <tr>\n",
       "                        <th>MAD</th>\n",
       "                        <td>62420</td>\n",
       "                    </tr>\n",
       "                    <tr class=\"\">\n",
       "                        <th>Skewness</th>\n",
       "                        <td>-0.0062719</td>\n",
       "                    </tr>\n",
       "                    <tr>\n",
       "                        <th>Sum</th>\n",
       "                        <td>31119065098</td>\n",
       "                    </tr>\n",
       "                    <tr>\n",
       "                        <th>Variance</th>\n",
       "                        <td>5200400000</td>\n",
       "                    </tr>\n",
       "                    <tr>\n",
       "                        <th>Memory size</th>\n",
       "                        <td>1.9 MiB</td>\n",
       "                    </tr>\n",
       "                </table>\n",
       "            </div>\n",
       "        </div>\n",
       "        <div role=\"tabpanel\" class=\"tab-pane col-md-8 col-md-offset-2\" id=\"histogram-1415099336495193989\">\n",
       "            <img src=\"data:image/png;base64,iVBORw0KGgoAAAANSUhEUgAAAlgAAAGQCAYAAAByNR6YAAAABHNCSVQICAgIfAhkiAAAAAlwSFlzAAAPYQAAD2EBqD%2BnaQAAADh0RVh0U29mdHdhcmUAbWF0cGxvdGxpYiB2ZXJzaW9uMy4yLjEsIGh0dHA6Ly9tYXRwbG90bGliLm9yZy%2Bj8jraAAAgAElEQVR4nO3df3BU5d3//9cakjXkTrYJIdmsxDSjwA0mdW6DhYDKL0lCCYh0BI2NoDTqjYC5ScaWOh3xMxZUELzv4Va5vR0QRGPvAtYOkBILYlMISCBCEJEqQpCEICwbEnETwvn%2B4XC%2BXRJ%2BFK%2BQXXg%2BZs6M55z3Xtc5l6fm1WvPOeuwLMsSAAAAjLmusw8AAADgakPAAgAAMIyABQAAYBgBCwAAwDACFgAAgGEELAAAAMMIWAAAAIYRsAAAAAwjYAEAABhGwAIAADCMgAUAAGAYAQsAAMAwAhYAAIBhBCwAAADDCFgAAACGEbAAAAAMI2ABAAAYRsACAAAwjIAFAABgGAELAADAMAIWAACAYQQsAAAAwwhYAAAAhhGwAAAADCNgAQAAGEbAAgAAMIyABQAAYBgBCwAAwDACFgAAgGEELAAAAMMIWAAAAIYRsAAAAAwjYAEAABhGwAIAADCMgAUAAGAYAQsAAMAwAhYAAIBhBCwAAADDunT2AVwLzpw5o8OHDys6OloOh6OzDwcAgGuCZVk6efKkPB6Prrvuys4pEbCugMOHDys5ObmzDwMAgGtSTU2NevTocUX7JGBdAdHR0ZK%2B/xccExPTyUcDAMC1oaGhQcnJyfbf4SuJgHUFnP1aMCYmhoAFAMAV1hm353CTOwAAgGEELAAAAMMIWAAAAIYRsAAAAAwjYAEAABhGwAIAADCMgAUAAGBYUAasOXPm6Pbbb1d0dLQSEhI0duxY7d27N6Bm0qRJcjgcAcuAAQMCavx%2Bv6ZNm6b4%2BHhFRUVpzJgxOnToUECN1%2BtVfn6%2BXC6XXC6X8vPzdeLEiYCagwcPavTo0YqKilJ8fLymT5%2Bu5ubmjjl5AAAQ8oIyYG3cuFFPPPGEKioqVFZWptOnTysrK0tNTU0BdTk5OaqtrbWXNWvWBOwvLCzUqlWrVFJSovLycjU2Nio3N1etra12TV5enqqqqlRaWqrS0lJVVVUpPz/f3t/a2qpRo0apqalJ5eXlKikp0YoVK1RUVNSxgwAAAEKWw7Isq7MP4mKOHj2qhIQEbdy4UXfddZek72ewTpw4offee6/dz/h8PnXv3l3Lli3ThAkTJP3/vwm4Zs0aZWdna8%2BePerbt68qKirUv39/SVJFRYUyMzP12WefqXfv3lq7dq1yc3NVU1Mjj8cjSSopKdGkSZNUX19/SW9mb2hokMvlks/n403uAABcIZ359zcoZ7DO5fP5JElxcXEB2z/88EMlJCSoV69eKigoUH19vb2vsrJSLS0tysrKsrd5PB6lpaVp06ZNkqTNmzfL5XLZ4UqSBgwYIJfLFVCTlpZmhytJys7Olt/vV2VlpfmTBQAAIS/of4vQsizNmDFDd9xxh9LS0uztI0eO1H333aeUlBTt379fv/3tbzVs2DBVVlbK6XSqrq5OERERio2NDWgvMTFRdXV1kqS6ujolJCS06TMhISGgJjExMWB/bGysIiIi7Jpz%2Bf1%2B%2Bf1%2Be72hoeHyTh4AAISkoA9YU6dO1c6dO1VeXh6w/ezXfpKUlpamfv36KSUlRatXr9a4cePO255lWQE/%2BtjeD0BeTs0/mjNnjp599tnznxRwjev3dGlnH8I/Zdvvcjr7EP4poTS%2BjG3HCrXxvZoEdcCaNm2a3n//fX300Ufq0aPHBWuTkpKUkpKiffv2SZLcbream5vl9XoDZrHq6%2Bs1cOBAu%2BbIkSNt2jp69Kg9a%2BV2u7Vly5aA/V6vVy0tLW1mts6aOXOmZsyYYa83NDQoOTn5Es4YuHyh9h/%2BUMLYdhzGtmOF0vhebWEwKO/BsixLU6dO1cqVK7V%2B/XqlpqZe9DPHjh1TTU2NkpKSJEkZGRkKDw9XWVmZXVNbW6vq6mo7YGVmZsrn82nr1q12zZYtW%2BTz%2BQJqqqurVVtba9esW7dOTqdTGRkZ7R6L0%2BlUTExMwAIAAK4dQTmD9cQTT%2Bjtt9/WH//4R0VHR9v3OrlcLkVGRqqxsVGzZs3Sz3/%2BcyUlJemrr77Sb37zG8XHx%2Bvee%2B%2B1aydPnqyioiJ169ZNcXFxKi4uVnp6uu6%2B%2B25JUp8%2BfZSTk6OCggItWrRIkvToo48qNzdXvXv3liRlZWWpb9%2B%2Bys/P19y5c3X8%2BHEVFxeroKCA4PRPCqX/JyVdff9vCgBw5QTlDNarr74qn8%2BnIUOGKCkpyV7effddSVJYWJh27dqle%2B65R7169dLEiRPVq1cvbd68WdHR0XY7CxYs0NixYzV%2B/HgNGjRIXbt21Z/%2B9CeFhYXZNcuXL1d6erqysrKUlZWln/zkJ1q2bJm9PywsTKtXr9b111%2BvQYMGafz48Ro7dqzmzZt35QYEAACElJB4D1ao68j3cITarFAoCbUZLK4FAKGsI/6b25nvwQrKrwiBYEBgAQBcrqD8ihAAACCUEbAAAAAMI2ABAAAYRsACAAAwjIAFAABgGAELAADAMAIWAACAYQQsAAAAwwhYAAAAhhGwAAAADCNgAQAAGEbAAgAAMIyABQAAYBgBCwAAwDACFgAAgGEELAAAAMMIWAAAAIYRsAAAAAwjYAEAABhGwAIAADCMgAUAAGAYAQsAAMAwAhYAAIBhBCwAAADDCFgAAACGEbAAAAAMI2ABAAAYRsACAAAwjIAFAABgGAELAADAMAIWAACAYQQsAAAAwwhYAAAAhhGwAAAADCNgAQAAGEbAAgAAMIyABQAAYBgBCwAAwDACFgAAgGEELAAAAMMIWAAAAIYRsAAAAAwjYAEAABhGwAIAADCMgAUAAGAYAQsAAMAwAhYAAIBhBCwAAADDCFgAAACGBWXAmjNnjm6//XZFR0crISFBY8eO1d69ewNqLMvSrFmz5PF4FBkZqSFDhmj37t0BNX6/X9OmTVN8fLyioqI0ZswYHTp0KKDG6/UqPz9fLpdLLpdL%2Bfn5OnHiREDNwYMHNXr0aEVFRSk%2BPl7Tp09Xc3Nzx5w8AAAIeUEZsDZu3KgnnnhCFRUVKisr0%2BnTp5WVlaWmpia75sUXX9T8%2BfO1cOFCffzxx3K73RoxYoROnjxp1xQWFmrVqlUqKSlReXm5GhsblZubq9bWVrsmLy9PVVVVKi0tVWlpqaqqqpSfn2/vb21t1ahRo9TU1KTy8nKVlJRoxYoVKioqujKDAQAAQo7Dsiyrsw/iYo4ePaqEhARt3LhRd911lyzLksfjUWFhoX71q19J%2Bn62KjExUS%2B88IIee%2Bwx%2BXw%2Bde/eXcuWLdOECRMkSYcPH1ZycrLWrFmj7Oxs7dmzR3379lVFRYX69%2B8vSaqoqFBmZqY%2B%2B%2Bwz9e7dW2vXrlVubq5qamrk8XgkSSUlJZo0aZLq6%2BsVExNz0eNvaGiQy%2BWSz%2Be7pPp/Rr%2BnS422BwBAZ9j2uxzjbXbk39%2BLCcoZrHP5fD5JUlxcnCRp//79qqurU1ZWll3jdDo1ePBgbdq0SZJUWVmplpaWgBqPx6O0tDS7ZvPmzXK5XHa4kqQBAwbI5XIF1KSlpdnhSpKys7Pl9/tVWVnZQWcMAABCWZfOPoCLsSxLM2bM0B133KG0tDRJUl1dnSQpMTExoDYxMVEHDhywayIiIhQbG9um5uzn6%2BrqlJCQ0KbPhISEgJpz%2B4mNjVVERIRdcy6/3y%2B/32%2BvNzQ0XPL5AgCA0Bf0M1hTp07Vzp079c4777TZ53A4AtYty2qz7Vzn1rRXfzk1/2jOnDn2TfMul0vJyckXPCYAAHB1CeqANW3aNL3//vvasGGDevToYW93u92S1GYGqb6%2B3p5tcrvdam5ultfrvWDNkSNH2vR79OjRgJpz%2B/F6vWppaWkzs3XWzJkz5fP57KWmpuafOW0AABDigjJgWZalqVOnauXKlVq/fr1SU1MD9qempsrtdqusrMze1tzcrI0bN2rgwIGSpIyMDIWHhwfU1NbWqrq62q7JzMyUz%2BfT1q1b7ZotW7bI5/MF1FRXV6u2ttauWbdunZxOpzIyMto9fqfTqZiYmIAFAABcO4LyHqwnnnhCb7/9tv74xz8qOjrankFyuVyKjIyUw%2BFQYWGhZs%2BerZ49e6pnz56aPXu2unbtqry8PLt28uTJKioqUrdu3RQXF6fi4mKlp6fr7rvvliT16dNHOTk5Kigo0KJFiyRJjz76qHJzc9W7d29JUlZWlvr27av8/HzNnTtXx48fV3FxsQoKCghOAACgXUEZsF599VVJ0pAhQwK2L168WJMmTZIkPfXUUzp16pSmTJkir9er/v37a926dYqOjrbrFyxYoC5dumj8%2BPE6deqUhg8friVLligsLMyuWb58uaZPn24/bThmzBgtXLjQ3h8WFqbVq1drypQpGjRokCIjI5WXl6d58%2BZ10NkDAIBQFxLvwQp1vAcLAIAL4z1YAAAAuCACFgAAgGEELAAAAMMIWAAAAIYRsAAAAAwjYAEAABhGwAIAADCMgAUAAGAYAQsAAMAwAhYAAIBhBCwAAADDCFgAAACGEbAAAAAMI2ABAAAYRsACAAAwjIAFAABgGAELAADAMAIWAACAYQQsAAAAwwhYAAAAhhGwAAAADCNgAQAAGEbAAgAAMIyABQAAYBgBCwAAwDACFgAAgGEELAAAAMMIWAAAAIYRsAAAAAwjYAEAABhGwAIAADCMgAUAAGAYAQsAAMAwAhYAAIBhBCwAAADDCFgAAACGEbAAAAAMI2ABAAAYRsACAAAwjIAFAABgGAELAADAMAIWAACAYQQsAAAAwwhYAAAAhhGwAAAADDMesPbv32%2B6SQAAgJBiPGDdfPPNGjp0qN566y199913ppsHAAAIesYD1ieffKJ/%2B7d/U1FRkdxutx577DFt3brVdDcAAABBy3jASktL0/z58/X1119r8eLFqqur0x133KFbbrlF8%2BfP19GjR013CQAAEFQ67Cb3Ll266N5779Xvf/97vfDCC/riiy9UXFysHj166KGHHlJtbW1HdQ0AANCpOixgbdu2TVOmTFFSUpLmz5%2Bv4uJiffHFF1q/fr2%2B/vpr3XPPPef97EcffaTRo0fL4/HI4XDovffeC9g/adIkORyOgGXAgAEBNX6/X9OmTVN8fLyioqI0ZswYHTp0KKDG6/UqPz9fLpdLLpdL%2Bfn5OnHiREDNwYMHNXr0aEVFRSk%2BPl7Tp09Xc3PzDxwdAABwNTMesObPn6/09HQNHDhQhw8f1tKlS3XgwAE999xzSk1N1aBBg7Ro0SJt3779vG00NTXp1ltv1cKFC89bk5OTo9raWntZs2ZNwP7CwkKtWrVKJSUlKi8vV2Njo3Jzc9Xa2mrX5OXlqaqqSqWlpSotLVVVVZXy8/Pt/a2trRo1apSamppUXl6ukpISrVixQkVFRT9ghAAAwNWui%2BkGX331VT3yyCN6%2BOGH5Xa726258cYb9cYbb5y3jZEjR2rkyJEX7MfpdJ63fZ/PpzfeeEPLli3T3XffLUl66623lJycrA8%2B%2BEDZ2dnas2ePSktLVVFRof79%2B0uSXn/9dWVmZmrv3r3q3bu31q1bp08//VQ1NTXyeDySpJdeekmTJk3S7373O8XExFx0PAAAwLXH%2BAzWvn37NHPmzPOGH0mKiIjQxIkTf1A/H374oRISEtSrVy8VFBSovr7e3ldZWamWlhZlZWXZ2zwej9LS0rRp0yZJ0ubNm%2BVyuexwJUkDBgyQy%2BUKqElLS7PDlSRlZ2fL7/ersrLyBx0/AAC4ehmfwVq8eLH%2B5V/%2BRffdd1/A9v/7v//Tt99%2B%2B4ODlfT9DNd9992nlJQU7d%2B/X7/97W81bNgwVVZWyul0qq6uThEREYqNjQ34XGJiourq6iRJdXV1SkhIaNN2QkJCQE1iYmLA/tjYWEVERNg17fH7/fL7/fZ6Q0PDZZ8rAAAIPcZnsJ5//nnFx8e32Z6QkKDZs2cb6WPChAkaNWqU0tLSNHr0aK1du1aff/65Vq9efcHPWZYlh8Nhr//jP/%2BQmnPNmTPHvnHe5XIpOTn5Uk4LAABcJYwHrAMHDig1NbXN9pSUFB08eNB0d5KkpKQkpaSkaN%2B%2BfZIkt9ut5uZmeb3egLr6%2Bnp7RsrtduvIkSNt2jp69GhAzbkzVV6vVy0tLW1mtv7RzJkz5fP57KWmpuYHnR8AAAgtxgNWQkKCdu7c2Wb7J598om7dupnuTpJ07Ngx1dTUKCkpSZKUkZGh8PBwlZWV2TW1tbWqrq7WwIEDJUmZmZny%2BXwBb5nfsmWLfD5fQE11dXXAO7vWrVsnp9OpjIyM8x6P0%2BlUTExMwAIAAK4dxu/Buv/%2B%2BzV9%2BnRFR0frrrvukiRt3LhRTz75pO6///5LaqOxsVF///vf7fX9%2B/erqqpKcXFxiouL06xZs/Tzn/9cSUlJ%2Buqrr/Sb3/xG8fHxuvfeeyVJLpdLkydPVlFRkbp166a4uDgVFxcrPT3dfqqwT58%2BysnJUUFBgRYtWiRJevTRR5Wbm6vevXtLkrKystS3b1/l5%2Bdr7ty5On78uIqLi1VQUEBoAgAA52U8YD333HM6cOCAhg8fri5dvm/%2BzJkzeuihhy75Hqxt27Zp6NCh9vqMGTMkSRMnTtSrr76qXbt2aenSpTpx4oSSkpI0dOhQvfvuu4qOjrY/s2DBAnXp0kXjx4/XqVOnNHz4cC1ZskRhYWF2zfLlyzV9%2BnT7acMxY8YEvHsrLCxMq1ev1pQpUzRo0CBFRkYqLy9P8%2BbNu/wBAgAAVz2HZVlWRzT8%2Beef65NPPlFkZKTS09OVkpLSEd2EhIaGBrlcLvl8PuMzX/2eLjXaHgAAnWHb73KMt9mRf38vxvgM1lm9evVSr169Oqp5AACAoGU8YLW2tmrJkiX6y1/%2Bovr6ep05cyZg//r16013CQAAEFSMB6wnn3xSS5Yssd9TdaH3RQEAAFyNjAeskpIS/f73v9fPfvYz000DAACEBOPvwYqIiNDNN99sulkAAICQYTxgFRUV6T//8z/VQQ8nAgAABD3jXxGWl5drw4YNWrt2rW655RaFh4cH7F%2B5cqXpLgEAAIKK8YD1ox/9yH6jOgAAwLXIeMBavHix6SYBAABCivF7sCTp9OnT%2BuCDD7Ro0SKdPHlSknT48GE1NjZ2RHcAAABBxfgM1oEDB5STk6ODBw/K7/drxIgRio6O1osvvqjvvvtOr732mukuAQAAgorxGawnn3xS/fr1k9frVWRkpL393nvv1V/%2B8hfT3QEAAASdDnmK8G9/%2B5siIiICtqekpOjrr7823R0AAEDQMT6DdebMGbW2trbZfujQIUVHR5vuDgAAIOgYD1gjRozQyy%2B/bK87HA41NjbqmWee4edzAADANcH4V4QLFizQ0KFD1bdvX3333XfKy8vTvn37FB8fr3feecd0dwAAAEHHeMDyeDyqqqrSO%2B%2B8o%2B3bt%2BvMmTOaPHmyHnzwwYCb3gEAAK5WxgOWJEVGRuqRRx7RI4880hHNAwAABDXjAWvp0qUX3P/QQw%2BZ7hIAACCoGA9YTz75ZMB6S0uLvv32W0VERKhr164ELAAAcNUz/hSh1%2BsNWBobG7V3717dcccd3OQOAACuCR3yW4Tn6tmzp55//vk2s1sAAABXoysSsCQpLCxMhw8fvlLdAQAAdBrj92C9//77AeuWZam2tlYLFy7UoEGDTHcHAAAQdIwHrLFjxwasOxwOde/eXcOGDdNLL71kujsAAICgYzxgnTlzxnSTAAAAIeWK3YMFAABwrTA%2BgzVjxoxLrp0/f77p7gEAADqd8YC1Y8cObd%2B%2BXadPn1bv3r0lSZ9//rnCwsJ022232XUOh8N01wAAAEHBeMAaPXq0oqOj9eabbyo2NlbS9y8fffjhh3XnnXeqqKjIdJcAAABBxfg9WC%2B99JLmzJljhytJio2N1XPPPcdThAAA4JpgPGA1NDToyJEjbbbX19fr5MmTprsDAAAIOsYD1r333quHH35Yf/jDH3To0CEdOnRIf/jDHzR58mSNGzfOdHcAAABBx/g9WK%2B99pqKi4v1i1/8Qi0tLd930qWLJk%2BerLlz55ruDgAAIOgYD1hdu3bVK6%2B8orlz5%2BqLL76QZVm6%2BeabFRUVZborAACAoNRhLxqtra1VbW2tevXqpaioKFmW1VFdAQAABBXjAevYsWMaPny4evXqpZ/97Geqra2VJP3yl7/kFQ0AAOCaYDxg/cd//IfCw8N18OBBde3a1d4%2BYcIElZaWmu4OAAAg6Bi/B2vdunX685//rB49egRs79mzpw4cOGC6OwAAgKBjfAarqakpYObqrG%2B%2B%2BUZOp9N0dwAAAEHHeMC66667tHTpUnvd4XDozJkzmjt3roYOHWq6OwAAgKBj/CvCuXPnasiQIdq2bZuam5v11FNPaffu3Tp%2B/Lj%2B9re/me4OAAAg6Bifwerbt6927typn/70pxoxYoSampo0btw47dixQzfddJPp7gAAAIKO0RmslpYWZWVladGiRXr22WdNNg0AABAyjM5ghYeHq7q6Wg6Hw2SzAAAAIcX4V4QPPfSQ3njjDdPNAgAAhAzjN7k3Nzfrf//3f1VWVqZ%2B/fq1%2BQ3C%2BfPnm%2B4SAAAgqBgLWF9%2B%2BaV%2B/OMfq7q6Wrfddpsk6fPPPw%2Bo4atDAABwLTAWsHr27Kna2lpt2LBB0vc/jfNf//VfSkxMNNUFAABASDB2D5ZlWQHra9euVVNTk6nmAQAAQobxm9zPOjdw/TM%2B%2BugjjR49Wh6PRw6HQ%2B%2B9916btmfNmiWPx6PIyEgNGTJEu3fvDqjx%2B/2aNm2a4uPjFRUVpTFjxujQoUMBNV6vV/n5%2BXK5XHK5XMrPz9eJEycCag4ePKjRo0crKipK8fHxmj59upqbmy/73AAAwNXPWMByOBxt7rG63HuumpqadOutt2rhwoXt7n/xxRc1f/58LVy4UB9//LHcbrdGjBihkydP2jWFhYVatWqVSkpKVF5ersbGRuXm5qq1tdWuycvLU1VVlUpLS1VaWqqqqirl5%2Bfb%2B1tbWzVq1Cg1NTWpvLxcJSUlWrFihYqKii7rvAAAwLXBYf2QqaZ/cN1112nkyJH2Dzr/6U9/0rBhw9o8Rbhy5cp/7gAdDq1atUpjx46V9P3slcfjUWFhoX71q19J%2Bn62KjExUS%2B88IIee%2Bwx%2BXw%2Bde/eXcuWLdOECRMkSYcPH1ZycrLWrFmj7Oxs7dmzR3379lVFRYX69%2B8vSaqoqFBmZqY%2B%2B%2Bwz9e7dW2vXrlVubq5qamrk8XgkSSUlJZo0aZLq6%2BsVExNzSefQ0NAgl8sln893yZ%2B5VP2eLjXaHgAAnWHb73KMt9mRf38vxtgM1sSJE5WQkGB/3faLX/xCHo/HXj%2B7/FD79%2B9XXV2dsrKy7G1Op1ODBw/Wpk2bJEmVlZX2W%2BXP8ng8SktLs2s2b94sl8tlhytJGjBggFwuV0BNWlqaHa4kKTs7W36/X5WVlT/4XAAAwNXJ2FOEixcvNtXUBdXV1UlSm6cTExMTdeDAAbsmIiJCsbGxbWrOfr6urk4JCQlt2k9ISAioObef2NhYRURE2DXt8fv98vv99npDQ8Olnh4AALgKdNhN7h3t3Pu7LMu66D1f59a0V385NeeaM2dOwKxdcnLyBY8LAABcXUIuYLndbklqM4NUX19vzza53W41NzfL6/VesObIkSNt2j969GhAzbn9eL1etbS0XPD9XjNnzpTP57OXmpqaf/IsAQBAKAu5gJWamiq3262ysjJ7W3NzszZu3KiBAwdKkjIyMhQeHh5QU1tbq%2BrqarsmMzNTPp9PW7dutWu2bNkin88XUFNdXa3a2lq7Zt26dXI6ncrIyDjvMTqdTsXExAQsAADg2mH8twhNaGxs1N///nd7ff/%2B/aqqqlJcXJxuvPFGFRYWavbs2erZs6d69uyp2bNnq2vXrsrLy5MkuVwuTZ48WUVFRerWrZvi4uJUXFys9PR03X333ZKkPn36KCcnRwUFBVq0aJEk6dFHH1Vubq569%2B4tScrKylLfvn2Vn5%2BvuXPn6vjx4youLlZBQQGhCQAAnFdQBqxt27Zp6NCh9vqMGTMkff%2Bk4pIlS/TUU0/p1KlTmjJlirxer/r3769169YpOjra/syCBQvUpUsXjR8/XqdOndLw4cO1ZMkShYWF2TXLly/X9OnT7acNx4wZE/DurbCwMK1evVpTpkzRoEGDFBkZqby8PM2bN6%2BjhwAAAIQwY%2B/BwvnxHiwAAC6M92ABAADggghYAAAAhhGwAAAADCNgAQAAGEbAAgAAMIyABQAAYBgBCwAAwDACFgAAgGEELAAAAMMIWAAAAIYRsAAAAAwjYAEAABhGwAIAADCMgAUAAGAYAQsAAMAwAhYAAIBhBCwAAADDCFgAAACGEbAAAAAMI2ABAAAYRsACAAAwjIAFAABgGAELAADAMAIWAACAYQQsAAAAwwhYAAAAhhGwAAAADCNgAQAAGEbAAgAAMIyABQAAYBgBCwAAwDACFgAAgGEELAAAAMMIWAAAAIYRsAAAAAwjYAEAABhGwAIAADCMgAUAAGAYAQsAAMAwAhYAAIBhBCwAAADDCFgAAACGEbAAAAAMI2ABAAAYRsACAAAwjIAFAABgGAELAADAMAIWAACAYQQsAAAAwwhYAAAAhoVswJo1a5YcDkfA4na77f2WZWnWrFnyeDyKjIzUkCFDtHv37oA2/H6/pk2bpvj4eEVFRWnMmDE6dOhQQI3X61V%2Bfr5cLpdcLpfy8/N14sSJK3KOAAAgNIVswJKkW265RbW1tfaya9cue9%2BLL76o%2BfPna%2BHChfr444/ldrs1YsQInTx50q4pLCzUqlWrVFJSovLycjU2Nio3N1etra12TV5enqqqqlRaWqrS0lJVVVUpPz//ip4nAAAILV06%2BwB%2BiC5dugTMWp1lWZZefvllPf300xo3bpwk6c0331RiYqLefvttPfbYY/L5fHrjjTe0bNky3X333ZKkt956S8nJyfrggw%2BUnZ2tPXv2qLS0VBUVFerfv78k6fXXX1dmZqb27t2r3mIxGwoAAA5ZSURBVL17X7mTBQAAISOkZ7D27dsnj8ej1NRU3X///fryyy8lSfv371ddXZ2ysrLsWqfTqcGDB2vTpk2SpMrKSrW0tATUeDwepaWl2TWbN2%2BWy%2BWyw5UkDRgwQC6Xy64BAAA4V8jOYPXv319Lly5Vr169dOTIET333HMaOHCgdu/erbq6OklSYmJiwGcSExN14MABSVJdXZ0iIiIUGxvbpubs5%2Bvq6pSQkNCm74SEBLumPX6/X36/315vaGi4vJMEAAAhKWQD1siRI%2B1/Tk9PV2Zmpm666Sa9%2BeabGjBggCTJ4XAEfMayrDbbznVuTXv1F2tnzpw5evbZZy/pPAAAwNUnpL8i/EdRUVFKT0/Xvn377Puyzp1lqq%2Bvt2e13G63mpub5fV6L1hz5MiRNn0dPXq0zezYP5o5c6Z8Pp%2B91NTU/KBzAwAAoeWqCVh%2Bv1979uxRUlKSUlNT5Xa7VVZWZu9vbm7Wxo0bNXDgQElSRkaGwsPDA2pqa2tVXV1t12RmZsrn82nr1q12zZYtW%2BTz%2Beya9jidTsXExAQsAADg2hGyXxEWFxdr9OjRuvHGG1VfX6/nnntODQ0NmjhxohwOhwoLCzV79mz17NlTPXv21OzZs9W1a1fl5eVJklwulyZPnqyioiJ169ZNcXFxKi4uVnp6uv1UYZ8%2BfZSTk6OCggItWrRIkvToo48qNzeXJwgBAMB5hWzAOnTokB544AF988036t69uwYMGKCKigqlpKRIkp566imdOnVKU6ZMkdfrVf/%2B/bVu3TpFR0fbbSxYsEBdunTR%2BPHjderUKQ0fPlxLlixRWFiYXbN8%2BXJNnz7dftpwzJgxWrhw4ZU9WQAAEFIclmVZnX0QV7uGhga5XC75fD7jXxf2e7rUaHsAAHSGbb/LMd5mR/79vZir5h4sAACAYEHAAgAAMIyABQAAYBgBCwAAwDACFgAAgGEELAAAAMMIWAAAAIYRsAAAAAwjYAEAABhGwAIAADCMgAUAAGAYAQsAAMAwAhYAAIBhBCwAAADDCFgAAACGEbAAAAAMI2ABAAAYRsACAAAwjIAFAABgGAELAADAMAIWAACAYQQsAAAAwwhYAAAAhhGwAAAADCNgAQAAGEbAAgAAMIyABQAAYBgBCwAAwDACFgAAgGEELAAAAMMIWAAAAIYRsAAAAAwjYAEAABhGwAIAADCMgAUAAGAYAQsAAMAwAhYAAIBhBCwAAADDCFgAAACGEbAAAAAMI2ABAAAYRsACAAAwjIAFAABgGAELAADAMAIWAACAYQQsAAAAwwhYAAAAhhGwAAAADCNgAQAAGEbAAgAAMIyABQAAYBgB6xK98sorSk1N1fXXX6%2BMjAz99a9/7exDAgAAQYqAdQneffddFRYW6umnn9aOHTt05513auTIkTp48GBnHxoAAAhCBKxLMH/%2BfE2ePFm//OUv1adPH7388stKTk7Wq6%2B%2B2tmHBgAAglCXzj6AYNfc3KzKykr9%2Bte/DtielZWlTZs2tfsZv98vv99vr/t8PklSQ0OD8eNr9TcZbxMAgCutI/5Gnm3TsizjbV8MAesivvnmG7W2tioxMTFge2Jiourq6tr9zJw5c/Tss8%2B22Z6cnNwhxwgAQKhzvdRxbZ88eVIul6vjOmgHAesSORyOgHXLstpsO2vmzJmaMWOGvX7mzBkdP35c3bp1O%2B9nLkdDQ4OSk5NVU1OjmJgYY%2B2Cse1IjG3HYWw7FuPbcTpqbC3L0smTJ%2BXxeIy1eakIWBcRHx%2BvsLCwNrNV9fX1bWa1znI6nXI6nQHbfvSjH3XYMcbExPA/9g7C2HYcxrbjMLYdi/HtOB0xtld65uosbnK/iIiICGVkZKisrCxge1lZmQYOHNhJRwUAAIIZM1iXYMaMGcrPz1e/fv2UmZmp//mf/9HBgwf1%2BOOPd/ahAQCAIBQ2a9asWZ19EMEuLS1N3bp10%2BzZszVv3jydOnVKy5Yt06233trZh6awsDANGTJEXbqQlU1jbDsOY9txGNuOxfh2nKttbB1WZzy7CAAAcBXjHiwAAADDCFgAAACGEbAAAAAMI2ABAAAYRsAKUa%2B88opSU1N1/fXXKyMjQ3/96187%2B5A61axZs%2BRwOAIWt9tt77csS7NmzZLH41FkZKSGDBmi3bt3B7Th9/s1bdo0xcfHKyoqSmPGjNGhQ4cCarxer/Lz8%2BVyueRyuZSfn68TJ04E1Bw8eFCjR49WVFSU4uPjNX36dDU3N3fcyRv20UcfafTo0fJ4PHI4HHrvvfcC9gfbWO7atUuDBw9WZGSkbrjhBv2///f/OuV3xy7FxcZ20qRJba7jAQMGBNQwtu2bM2eObr/9dkVHRyshIUFjx47V3r17A2q4di/PpYwt1247LISckpISKzw83Hr99detTz/91HryySetqKgo68CBA519aJ3mmWeesW655RartrbWXurr6%2B39zz//vBUdHW2tWLHC2rVrlzVhwgQrKSnJamhosGsef/xx64YbbrDKysqs7du3W0OHDrVuvfVW6/Tp03ZNTk6OlZaWZm3atMnatGmTlZaWZuXm5tr7T58%2BbaWlpVlDhw61tm/fbpWVlVkej8eaOnXqlRkIA9asWWM9/fTT1ooVKyxJ1qpVqwL2B9NY%2Bnw%2BKzEx0br//vutXbt2WStWrLCio6OtefPmdeAIXb6Lje3EiROtnJycgOv42LFjATWMbfuys7OtxYsXW9XV1VZVVZU1atQo68Ybb7QaGxvtGq7dy3MpY8u12xYBKwT99Kc/tR5//PGAbf/6r/9q/frXv%2B6kI%2Bp8zzzzjHXrrbe2u%2B/MmTOW2%2B22nn/%2BeXvbd999Z7lcLuu1116zLMuyTpw4YYWHh1slJSV2zddff21dd911VmlpqWVZlvXpp59akqyKigq7ZvPmzZYk67PPPrMs6/s/oNddd5319ddf2zXvvPOO5XQ6LZ/PZ%2B6Er5BzQ0CwjeUrr7xiuVwu67vvvrNr5syZY3k8HuvMmTMmh8K48wWse%2B6557yfYWwvXX19vSXJ2rhxo2VZXLsmnTu2lsW12x6%2BIgwxzc3NqqysVFZWVsD2rKwsbdq0qZOOKjjs27dPHo9Hqampuv/%2B%2B/Xll19Kkvbv36%2B6urqAMXM6nRo8eLA9ZpWVlWppaQmo8Xg8SktLs2s2b94sl8ul/v372zUDBgyQy%2BUKqElLSwv4YdHs7Gz5/X5VVlZ23MlfIcE2lps3b9bgwYMDfvszOztbhw8f1ldffWV%2BAK6ADz/8UAkJCerVq5cKCgpUX19v72NsL53P55MkxcXFSeLaNencsT2LazcQASvEfPPNN2ptbW3zQ9OJiYltfpD6WtK/f38tXbpUf/7zn/X666%2Brrq5OAwcO1LFjx%2BxxudCY1dXVKSIiQrGxsResSUhIaNN3QkJCQM25/cTGxioiIuKq%2BPcTbGPZXs3Z9VAc75EjR2r58uVav369XnrpJX388ccaNmyY/H6/JMb2UlmWpRkzZuiOO%2B5QWlqaJK5dU9obW4lrtz1Xx/vor0EOhyNg3bKsNtuuJSNHjrT/OT09XZmZmbrpppv05ptv2jdaXs6YnVvTXv3l1IS6YBrL9o7lfJ8NdhMmTLD/OS0tTf369VNKSopWr16tcePGnfdzjG2gqVOnaufOnSovL2%2Bzj2v3hznf2HLttsUMVoiJj49XWFhYmxReX1/fJrFfy6KiopSenq59%2B/bZTxNeaMzcbream5vl9XovWHPkyJE2fR09ejSg5tx%2BvF6vWlparop/P8E2lu3VnP1a4moY76SkJKWkpGjfvn2SGNtLMW3aNL3//vvasGGDevToYW/n2v3hzje27eHaJWCFnIiICGVkZKisrCxge1lZmQYOHNhJRxV8/H6/9uzZo6SkJKWmpsrtdgeMWXNzszZu3GiPWUZGhsLDwwNqamtrVV1dbddkZmbK5/Np69atds2WLVvk8/kCaqqrq1VbW2vXrFu3Tk6nUxkZGR16zldCsI1lZmamPvroo4BHtNetWyePx6Mf//jH5gfgCjt27JhqamqUlJQkibG9EMuyNHXqVK1cuVLr169XampqwH6u3ct3sbFtD9eueE1DKDr7moY33njD%2BvTTT63CwkIrKirK%2Buqrrzr70DpNUVGR9eGHH1pffvmlVVFRYeXm5lrR0dH2mDz//POWy%2BWyVq5cae3atct64IEH2n08u0ePHtYHH3xgbd%2B%2B3Ro2bFi7jxD/5Cc/sTZv3mxt3rzZSk9Pb/cR4uHDh1vbt2%2B3PvjgA6tHjx4h9ZqGkydPWjt27LB27NhhSbLmz59v7dixw34NSDCN5YkTJ6zExETrgQcesHbt2mWtXLnSiomJCcpH3S3rwmN78uRJq6ioyNq0aZO1f/9%2Ba8OGDVZmZqZ1ww03MLaX4N///d8tl8tlffjhhwGvCvj222/tGq7dy3OxseXabR8BK0T993//t5WSkmJFRERYt912W8Djsteis%2B%2BzCQ8PtzwejzVu3Dhr9%2B7d9v4zZ85YzzzzjOV2uy2n02nddddd1q5duwLaOHXqlDV16lQrLi7OioyMtHJzc62DBw8G1Bw7dsx68MEHrejoaCs6Otp68MEHLa/XG1Bz4MABa9SoUVZkZKQVFxdnTZ06NeBx4WC3YcMGS1KbZeLEiZZlBd9Y7ty507rzzjstp9Npud1ua9asWUH7mPuFxvbbb7%2B1srKyrO7du1vh4eHWjTfeaE2cOLHNuDG27WtvXCVZixcvtmu4di/PxcaWa7d9DssKwtfGAgAAhDDuwQIAADCMgAUAAGAYAQsAAMAwAhYAAIBhBCwAAADDCFgAAACGEbAAAAAMI2ABAAAYRsACAAAwjIAFAABgGAELAADAMAIWAACAYQQsAAAAwwhYAAAAhhGwAAAADCNgAQAAGEbAAgAAMIyABQAAYNj/B77WmS183e0jAAAAAElFTkSuQmCC\"/>\n",
       "        </div>\n",
       "        <div role=\"tabpanel\" class=\"tab-pane col-md-12\" id=\"common-1415099336495193989\">\n",
       "            \n",
       "<table class=\"freq table table-hover\">\n",
       "    <thead>\n",
       "    <tr>\n",
       "        <td class=\"fillremaining\">Value</td>\n",
       "        <td class=\"number\">Count</td>\n",
       "        <td class=\"number\">Frequency (%)</td>\n",
       "        <td style=\"min-width:200px\">&nbsp;</td>\n",
       "    </tr>\n",
       "    </thead>\n",
       "    <tr class=\"\">\n",
       "        <td class=\"fillremaining\">2047</td>\n",
       "        <td class=\"number\">1</td>\n",
       "        <td class=\"number\">0.0%</td>\n",
       "        <td>\n",
       "            <div class=\"bar\" style=\"width:1%\">&nbsp;</div>\n",
       "        </td>\n",
       "</tr><tr class=\"\">\n",
       "        <td class=\"fillremaining\">27224</td>\n",
       "        <td class=\"number\">1</td>\n",
       "        <td class=\"number\">0.0%</td>\n",
       "        <td>\n",
       "            <div class=\"bar\" style=\"width:1%\">&nbsp;</div>\n",
       "        </td>\n",
       "</tr><tr class=\"\">\n",
       "        <td class=\"fillremaining\">68212</td>\n",
       "        <td class=\"number\">1</td>\n",
       "        <td class=\"number\">0.0%</td>\n",
       "        <td>\n",
       "            <div class=\"bar\" style=\"width:1%\">&nbsp;</div>\n",
       "        </td>\n",
       "</tr><tr class=\"\">\n",
       "        <td class=\"fillremaining\">78451</td>\n",
       "        <td class=\"number\">1</td>\n",
       "        <td class=\"number\">0.0%</td>\n",
       "        <td>\n",
       "            <div class=\"bar\" style=\"width:1%\">&nbsp;</div>\n",
       "        </td>\n",
       "</tr><tr class=\"\">\n",
       "        <td class=\"fillremaining\">80498</td>\n",
       "        <td class=\"number\">1</td>\n",
       "        <td class=\"number\">0.0%</td>\n",
       "        <td>\n",
       "            <div class=\"bar\" style=\"width:1%\">&nbsp;</div>\n",
       "        </td>\n",
       "</tr><tr class=\"\">\n",
       "        <td class=\"fillremaining\">74353</td>\n",
       "        <td class=\"number\">1</td>\n",
       "        <td class=\"number\">0.0%</td>\n",
       "        <td>\n",
       "            <div class=\"bar\" style=\"width:1%\">&nbsp;</div>\n",
       "        </td>\n",
       "</tr><tr class=\"\">\n",
       "        <td class=\"fillremaining\">76400</td>\n",
       "        <td class=\"number\">1</td>\n",
       "        <td class=\"number\">0.0%</td>\n",
       "        <td>\n",
       "            <div class=\"bar\" style=\"width:1%\">&nbsp;</div>\n",
       "        </td>\n",
       "</tr><tr class=\"\">\n",
       "        <td class=\"fillremaining\">119407</td>\n",
       "        <td class=\"number\">1</td>\n",
       "        <td class=\"number\">0.0%</td>\n",
       "        <td>\n",
       "            <div class=\"bar\" style=\"width:1%\">&nbsp;</div>\n",
       "        </td>\n",
       "</tr><tr class=\"\">\n",
       "        <td class=\"fillremaining\">121454</td>\n",
       "        <td class=\"number\">1</td>\n",
       "        <td class=\"number\">0.0%</td>\n",
       "        <td>\n",
       "            <div class=\"bar\" style=\"width:1%\">&nbsp;</div>\n",
       "        </td>\n",
       "</tr><tr class=\"\">\n",
       "        <td class=\"fillremaining\">115309</td>\n",
       "        <td class=\"number\">1</td>\n",
       "        <td class=\"number\">0.0%</td>\n",
       "        <td>\n",
       "            <div class=\"bar\" style=\"width:1%\">&nbsp;</div>\n",
       "        </td>\n",
       "</tr><tr class=\"other\">\n",
       "        <td class=\"fillremaining\">Other values (248133)</td>\n",
       "        <td class=\"number\">248133</td>\n",
       "        <td class=\"number\">100.0%</td>\n",
       "        <td>\n",
       "            <div class=\"bar\" style=\"width:100%\">&nbsp;</div>\n",
       "        </td>\n",
       "</tr>\n",
       "</table>\n",
       "        </div>\n",
       "        <div role=\"tabpanel\" class=\"tab-pane col-md-12\"  id=\"extreme-1415099336495193989\">\n",
       "            <p class=\"h4\">Minimum 5 values</p>\n",
       "            \n",
       "<table class=\"freq table table-hover\">\n",
       "    <thead>\n",
       "    <tr>\n",
       "        <td class=\"fillremaining\">Value</td>\n",
       "        <td class=\"number\">Count</td>\n",
       "        <td class=\"number\">Frequency (%)</td>\n",
       "        <td style=\"min-width:200px\">&nbsp;</td>\n",
       "    </tr>\n",
       "    </thead>\n",
       "    <tr class=\"\">\n",
       "        <td class=\"fillremaining\">40</td>\n",
       "        <td class=\"number\">1</td>\n",
       "        <td class=\"number\">0.0%</td>\n",
       "        <td>\n",
       "            <div class=\"bar\" style=\"width:100%\">&nbsp;</div>\n",
       "        </td>\n",
       "</tr><tr class=\"\">\n",
       "        <td class=\"fillremaining\">41</td>\n",
       "        <td class=\"number\">1</td>\n",
       "        <td class=\"number\">0.0%</td>\n",
       "        <td>\n",
       "            <div class=\"bar\" style=\"width:100%\">&nbsp;</div>\n",
       "        </td>\n",
       "</tr><tr class=\"\">\n",
       "        <td class=\"fillremaining\">42</td>\n",
       "        <td class=\"number\">1</td>\n",
       "        <td class=\"number\">0.0%</td>\n",
       "        <td>\n",
       "            <div class=\"bar\" style=\"width:100%\">&nbsp;</div>\n",
       "        </td>\n",
       "</tr><tr class=\"\">\n",
       "        <td class=\"fillremaining\">43</td>\n",
       "        <td class=\"number\">1</td>\n",
       "        <td class=\"number\">0.0%</td>\n",
       "        <td>\n",
       "            <div class=\"bar\" style=\"width:100%\">&nbsp;</div>\n",
       "        </td>\n",
       "</tr><tr class=\"\">\n",
       "        <td class=\"fillremaining\">44</td>\n",
       "        <td class=\"number\">1</td>\n",
       "        <td class=\"number\">0.0%</td>\n",
       "        <td>\n",
       "            <div class=\"bar\" style=\"width:100%\">&nbsp;</div>\n",
       "        </td>\n",
       "</tr>\n",
       "</table>\n",
       "            <p class=\"h4\">Maximum 5 values</p>\n",
       "            \n",
       "<table class=\"freq table table-hover\">\n",
       "    <thead>\n",
       "    <tr>\n",
       "        <td class=\"fillremaining\">Value</td>\n",
       "        <td class=\"number\">Count</td>\n",
       "        <td class=\"number\">Frequency (%)</td>\n",
       "        <td style=\"min-width:200px\">&nbsp;</td>\n",
       "    </tr>\n",
       "    </thead>\n",
       "    <tr class=\"\">\n",
       "        <td class=\"fillremaining\">250122</td>\n",
       "        <td class=\"number\">1</td>\n",
       "        <td class=\"number\">0.0%</td>\n",
       "        <td>\n",
       "            <div class=\"bar\" style=\"width:100%\">&nbsp;</div>\n",
       "        </td>\n",
       "</tr><tr class=\"\">\n",
       "        <td class=\"fillremaining\">250123</td>\n",
       "        <td class=\"number\">1</td>\n",
       "        <td class=\"number\">0.0%</td>\n",
       "        <td>\n",
       "            <div class=\"bar\" style=\"width:100%\">&nbsp;</div>\n",
       "        </td>\n",
       "</tr><tr class=\"\">\n",
       "        <td class=\"fillremaining\">250124</td>\n",
       "        <td class=\"number\">1</td>\n",
       "        <td class=\"number\">0.0%</td>\n",
       "        <td>\n",
       "            <div class=\"bar\" style=\"width:100%\">&nbsp;</div>\n",
       "        </td>\n",
       "</tr><tr class=\"\">\n",
       "        <td class=\"fillremaining\">250125</td>\n",
       "        <td class=\"number\">1</td>\n",
       "        <td class=\"number\">0.0%</td>\n",
       "        <td>\n",
       "            <div class=\"bar\" style=\"width:100%\">&nbsp;</div>\n",
       "        </td>\n",
       "</tr><tr class=\"\">\n",
       "        <td class=\"fillremaining\">250126</td>\n",
       "        <td class=\"number\">1</td>\n",
       "        <td class=\"number\">0.0%</td>\n",
       "        <td>\n",
       "            <div class=\"bar\" style=\"width:100%\">&nbsp;</div>\n",
       "        </td>\n",
       "</tr>\n",
       "</table>\n",
       "        </div>\n",
       "    </div>\n",
       "</div>\n",
       "</div><div class=\"row variablerow\">\n",
       "    <div class=\"col-md-3 namecol\">\n",
       "        <p class=\"h4 pp-anchor\" id=\"pp_var_ID\">ID<br/>\n",
       "            <small>Numeric</small>\n",
       "        </p>\n",
       "    </div><div class=\"col-md-6\">\n",
       "    <div class=\"row\">\n",
       "        <div class=\"col-sm-6\">\n",
       "            <table class=\"stats \">\n",
       "                <tr>\n",
       "                    <th>Distinct count</th>\n",
       "                    <td>248143</td>\n",
       "                </tr>\n",
       "                <tr>\n",
       "                    <th>Unique (%)</th>\n",
       "                    <td>100.0%</td>\n",
       "                </tr>\n",
       "                <tr class=\"ignore\">\n",
       "                    <th>Missing (%)</th>\n",
       "                    <td>0.0%</td>\n",
       "                </tr>\n",
       "                <tr class=\"ignore\">\n",
       "                    <th>Missing (n)</th>\n",
       "                    <td>0</td>\n",
       "                </tr>\n",
       "                <tr class=\"ignore\">\n",
       "                    <th>Infinite (%)</th>\n",
       "                    <td>0.0%</td>\n",
       "                </tr>\n",
       "                <tr class=\"ignore\">\n",
       "                    <th>Infinite (n)</th>\n",
       "                    <td>0</td>\n",
       "                </tr>\n",
       "            </table>\n",
       "\n",
       "        </div>\n",
       "        <div class=\"col-sm-6\">\n",
       "            <table class=\"stats \">\n",
       "\n",
       "                <tr>\n",
       "                    <th>Mean</th>\n",
       "                    <td>10002000</td>\n",
       "                </tr>\n",
       "                <tr>\n",
       "                    <th>Minimum</th>\n",
       "                    <td>19</td>\n",
       "                </tr>\n",
       "                <tr>\n",
       "                    <th>Maximum</th>\n",
       "                    <td>22010400</td>\n",
       "                </tr>\n",
       "                <tr class=\"ignore\">\n",
       "                    <th>Zeros (%)</th>\n",
       "                    <td>0.0%</td>\n",
       "                </tr>\n",
       "            </table>\n",
       "        </div>\n",
       "    </div>\n",
       "</div>\n",
       "<div class=\"col-md-3 collapse in\" id=\"minihistogram-786822282470848759\">\n",
       "    <img src=\"data:image/png;base64,iVBORw0KGgoAAAANSUhEUgAAAMgAAABLCAYAAAA1fMjoAAAABHNCSVQICAgIfAhkiAAAAAlwSFlzAAAPYQAAD2EBqD%2BnaQAAADh0RVh0U29mdHdhcmUAbWF0cGxvdGxpYiB2ZXJzaW9uMy4yLjEsIGh0dHA6Ly9tYXRwbG90bGliLm9yZy%2Bj8jraAAADo0lEQVR4nO3dPUsraRiH8f/o2qiJqE0cErAxhSASWOysbFS0sLASIn4HLXRBbLawsLMUaysjVlsZSH0U0TYQwTcQq0TBCMmzxa6CJ57bt5OZRK4fpDCZydyBuZwMk6jnnHMK2MXFhRKJRNCbRZM7Pz9XPB4PdJt/BLq1/0UiEUn/veBoNBrGCGgixWJRiUTieb8JUiiBeJ4nSYpGo6EF8udf/3x4nR9/j9dhErzX034TpJbAtwg0EQIBDAQCGAgEMBAIYCAQwEAggIFAAAOBAIZQrqQ3q49efefKe/PjCAIYCAQwEAhgIBDAQCCAgUAAA4EABgIBDAQCGAgEMBAIYCAQwEAggIFAAAOBAAa%2BD/INfOavRAbhO3wf5lsE0qg7SKPOhffjLRZgaLgjCL910Ug4ggAGAgEMDfcWC9/Hd/gfLBxBAAOBAAYCAQwEAhgIBDAQCGAgEMBAIICBQAADgQAGAgEMBAIYCAQwhPJpXuecJKlYLNY8VinfBz0OGshr%2B8TTfU/7TZBCCaRUKkmSEolEGJtHA%2Bva%2BPVjpVJJXV1dwQ0jyXMhZFmtVnV1daVIJCLP84LePJqMc06lUkm%2B76ulJdizglACAZoFJ%2BmAgUAAA4Hgy3K5nKanp%2BX7vjzP097e3ofWX1tbk%2Bd5NbeOjo46Tfx%2BBIIvu7%2B/1/DwsDY3Nz%2B1/uLioq6vr1/cBgcHNTs7%2B5sn/QQH/EaSXCaTeXFfuVx2S0tLzvd9197e7kZGRlw2m/3lcxwfHztJLpfL1Xnat/Fnf1B3CwsLOjs7087OjnzfVyaT0fj4uE5PTzUwMFCz/NbWlpLJpEZHR0OY9idhF4rvRT8dQfL5vPM8z11eXr5YbmxszC0vL9es//Dw4Lq7u936%2BnrdZ30PjiCoq6OjIznnlEwmX9xfLpfV29tbs/zu7q5KpZLS6XRQI5oIBHVVrVbV2tqqw8NDtba2vniss7OzZvmtrS1NTU0pFosFNaKJQFBXqVRKlUpFNzc3b55TFAoFZbNZ7e/vBzTd2wgEX3Z3d6d8Pv/8c6FQ0PHxsXp6epRMJjU3N6d0Oq2NjQ2lUind3t7q4OBAQ0NDmpycfF5ve3tbfX19mpiYCONlvC7skyA0v2w26yTV3Obn551zzj0%2BPrrV1VXX39/v2traXCwWczMzM%2B7k5OT5OSqViovH425lZSWkV/E6PqwIGLiSDhgIBDAQCGAgEMBAIICBQAADgQAGAgEMBAIYCAQw/AtvecvLSBscbQAAAABJRU5ErkJggg%3D%3D\">\n",
       "\n",
       "</div>\n",
       "<div class=\"col-md-12 text-right\">\n",
       "    <a role=\"button\" data-toggle=\"collapse\" data-target=\"#descriptives-786822282470848759,#minihistogram-786822282470848759\"\n",
       "       aria-expanded=\"false\" aria-controls=\"collapseExample\">\n",
       "        Toggle details\n",
       "    </a>\n",
       "</div>\n",
       "<div class=\"row collapse col-md-12\" id=\"descriptives-786822282470848759\">\n",
       "    <ul class=\"nav nav-tabs\" role=\"tablist\">\n",
       "        <li role=\"presentation\" class=\"active\"><a href=\"#quantiles-786822282470848759\"\n",
       "                                                  aria-controls=\"quantiles-786822282470848759\" role=\"tab\"\n",
       "                                                  data-toggle=\"tab\">Statistics</a></li>\n",
       "        <li role=\"presentation\"><a href=\"#histogram-786822282470848759\" aria-controls=\"histogram-786822282470848759\"\n",
       "                                   role=\"tab\" data-toggle=\"tab\">Histogram</a></li>\n",
       "        <li role=\"presentation\"><a href=\"#common-786822282470848759\" aria-controls=\"common-786822282470848759\"\n",
       "                                   role=\"tab\" data-toggle=\"tab\">Common Values</a></li>\n",
       "        <li role=\"presentation\"><a href=\"#extreme-786822282470848759\" aria-controls=\"extreme-786822282470848759\"\n",
       "                                   role=\"tab\" data-toggle=\"tab\">Extreme Values</a></li>\n",
       "\n",
       "    </ul>\n",
       "\n",
       "    <div class=\"tab-content\">\n",
       "        <div role=\"tabpanel\" class=\"tab-pane active row\" id=\"quantiles-786822282470848759\">\n",
       "            <div class=\"col-md-4 col-md-offset-1\">\n",
       "                <p class=\"h4\">Quantile statistics</p>\n",
       "                <table class=\"stats indent\">\n",
       "                    <tr>\n",
       "                        <th>Minimum</th>\n",
       "                        <td>19</td>\n",
       "                    </tr>\n",
       "                    <tr>\n",
       "                        <th>5-th percentile</th>\n",
       "                        <td>1405500</td>\n",
       "                    </tr>\n",
       "                    <tr>\n",
       "                        <th>Q1</th>\n",
       "                        <td>5407300</td>\n",
       "                    </tr>\n",
       "                    <tr>\n",
       "                        <th>Median</th>\n",
       "                        <td>8476400</td>\n",
       "                    </tr>\n",
       "                    <tr>\n",
       "                        <th>Q3</th>\n",
       "                        <td>15215000</td>\n",
       "                    </tr>\n",
       "                    <tr>\n",
       "                        <th>95-th percentile</th>\n",
       "                        <td>20120000</td>\n",
       "                    </tr>\n",
       "                    <tr>\n",
       "                        <th>Maximum</th>\n",
       "                        <td>22010400</td>\n",
       "                    </tr>\n",
       "                    <tr>\n",
       "                        <th>Range</th>\n",
       "                        <td>22010381</td>\n",
       "                    </tr>\n",
       "                    <tr>\n",
       "                        <th>Interquartile range</th>\n",
       "                        <td>9807400</td>\n",
       "                    </tr>\n",
       "                </table>\n",
       "            </div>\n",
       "            <div class=\"col-md-4 col-md-offset-2\">\n",
       "                <p class=\"h4\">Descriptive statistics</p>\n",
       "                <table class=\"stats indent\">\n",
       "                    <tr>\n",
       "                        <th>Standard deviation</th>\n",
       "                        <td>5894200</td>\n",
       "                    </tr>\n",
       "                    <tr>\n",
       "                        <th>Coef of variation</th>\n",
       "                        <td>0.58933</td>\n",
       "                    </tr>\n",
       "                    <tr>\n",
       "                        <th>Kurtosis</th>\n",
       "                        <td>-1.0948</td>\n",
       "                    </tr>\n",
       "                    <tr>\n",
       "                        <th>Mean</th>\n",
       "                        <td>10002000</td>\n",
       "                    </tr>\n",
       "                    <tr>\n",
       "                        <th>MAD</th>\n",
       "                        <td>5145100</td>\n",
       "                    </tr>\n",
       "                    <tr class=\"\">\n",
       "                        <th>Skewness</th>\n",
       "                        <td>0.32551</td>\n",
       "                    </tr>\n",
       "                    <tr>\n",
       "                        <th>Sum</th>\n",
       "                        <td>2481804484854</td>\n",
       "                    </tr>\n",
       "                    <tr>\n",
       "                        <th>Variance</th>\n",
       "                        <td>34741000000000</td>\n",
       "                    </tr>\n",
       "                    <tr>\n",
       "                        <th>Memory size</th>\n",
       "                        <td>1.9 MiB</td>\n",
       "                    </tr>\n",
       "                </table>\n",
       "            </div>\n",
       "        </div>\n",
       "        <div role=\"tabpanel\" class=\"tab-pane col-md-8 col-md-offset-2\" id=\"histogram-786822282470848759\">\n",
       "            <img src=\"data:image/png;base64,iVBORw0KGgoAAAANSUhEUgAAAlgAAAGQCAYAAAByNR6YAAAABHNCSVQICAgIfAhkiAAAAAlwSFlzAAAPYQAAD2EBqD%2BnaQAAADh0RVh0U29mdHdhcmUAbWF0cGxvdGxpYiB2ZXJzaW9uMy4yLjEsIGh0dHA6Ly9tYXRwbG90bGliLm9yZy%2Bj8jraAAAgAElEQVR4nO3de3QUZZ7/8U%2BbmyGGnkBMml4jg2OIxKAHw2wIF8EBAkJg1D2rbrQBZRAXJGZIDsrwx%2BBZB5RLcPZkRbwseGGMq4DjWSSTjEA0A0GIRAkqOopcEwJD0wkROjHU7w9/1LEJ932SdML7dU7/UVXfep6nUqcOH56uqnZYlmUJAAAAxlzV3gMAAADobAhYAAAAhhGwAAAADCNgAQAAGEbAAgAAMIyABQAAYBgBCwAAwDACFgAAgGEELAAAAMMIWAAAAIYRsAAAAAwjYAEAABhGwAIAADCMgAUAAGAYAQsAAMAwAhYAAIBhBCwAAADDCFgAAACGEbAAAAAMI2ABAAAYRsACAAAwjIAFAABgGAELAADAMAIWAACAYQQsAAAAwwhYAAAAhhGwAAAADCNgAQAAGEbAAgAAMIyABQAAYBgBCwAAwDACFgAAgGEELAAAAMMIWAAAAIYRsAAAAAwjYAEAABhGwAIAADCMgAUAAGBYaHsP4Epw6tQpHTx4UNHR0XI4HO09HAAArgiWZam%2Bvl5ut1tXXdW2c0oErDZw8OBBJSQktPcwAAC4Iu3bt0/XXXddm/ZJwGoD0dHRkn48wV27dm3n0QAAcGWoq6tTQkKC/e9wWyJgtYHTXwt27dqVgAUAQBtrj9tzuMkdAADAsKAMWHPnzpXD4Qj4uFwue7tlWZo7d67cbrciIyM1bNgw7dy5M6ANv9%2BvGTNmKDY2VlFRURo/frz2798fUOP1euXxeOR0OuV0OuXxeHTs2LGAmr1792rcuHGKiopSbGyssrOz1djY2HoHDwAAOrygDFiSdPPNN6u6utr%2B7Nixw962YMEC5efnq6CgQFu3bpXL5dLIkSNVX19v1%2BTk5GjNmjUqLCxUWVmZjh8/rszMTDU3N9s1WVlZqqysVFFRkYqKilRZWSmPx2Nvb25u1tixY9XQ0KCysjIVFhZq1apVys3NbZs/AgAA6JisIPT73//euvXWW8%2B67dSpU5bL5bKeeeYZe93Jkyctp9NpvfDCC5ZlWdaxY8essLAwq7Cw0K45cOCAddVVV1lFRUWWZVnW559/bkmyysvL7ZrNmzdbkqwvv/zSsizLev/9962rrrrKOnDggF3z5ptvWhEREZbP57vo4/H5fJakS9oHAAD837Tnv79BO4P19ddfy%2B12q1evXrr//vv17bffSpJ2796tmpoaZWRk2LUREREaOnSoNm3aJEmqqKhQU1NTQI3b7VZKSopds3nzZjmdTqWlpdk1AwYMkNPpDKhJSUmR2%2B22a0aNGiW/36%2BKiopzjt3v96uuri7gAwAArhxBGbDS0tL02muv6S9/%2BYteeukl1dTUaODAgfrHP/6hmpoaSVJ8fHzAPvHx8fa2mpoahYeHKyYm5rw1cXFxLfqOi4sLqDmzn5iYGIWHh9s1ZzN//nz7vi6n08k7sAAAuMIEZcC688479S//8i/q27evRowYobVr10qSXn31VbvmzEcuLcu64GOYZ9acrf5yas40e/Zs%2BXw%2B%2B7Nv377zjgsAAHQuQRmwzhQVFaW%2Bffvq66%2B/tp8mPHMGqba21p5tcrlcamxslNfrPW/NoUOHWvR1%2BPDhgJoz%2B/F6vWpqamoxs/VTERER9juvePcVAABXng4RsPx%2Bv7744gv16NFDvXr1ksvlUklJib29sbFRpaWlGjhwoCQpNTVVYWFhATXV1dWqqqqya9LT0%2BXz%2BfTxxx/bNVu2bJHP5wuoqaqqUnV1tV1TXFysiIgIpaamtuoxAwCAjiso3%2BSel5encePG6frrr1dtba2efvpp1dXVaeLEiXI4HMrJydG8efOUmJioxMREzZs3T126dFFWVpYkyel0avLkycrNzVX37t3VrVs35eXl2V85SlKfPn00evRoTZkyRcuWLZMkPfLII8rMzFRSUpIkKSMjQ8nJyfJ4PFq4cKGOHj2qvLw8TZkyhVkpAABwTkEZsPbv369/%2B7d/05EjR3TttddqwIABKi8vV8%2BePSVJs2bN0okTJzRt2jR5vV6lpaWpuLg44LeGlixZotDQUN177706ceKEhg8frhUrVigkJMSuWblypbKzs%2B2nDcePH6%2BCggJ7e0hIiNauXatp06Zp0KBBioyMVFZWlhYtWtRGfwkAANAROSzLstp7EJ1dXV2dnE6nfD4fM18AALSR9vz3NyhnsIBg0H9OUXsP4ZJs%2B8Po9h4CAOD/6xA3uQMAAHQkBCwAAADDCFgAAACGEbAAAAAMI2ABAAAYRsACAAAwjIAFAABgGAELAADAMAIWAACAYQQsAAAAwwhYAAAAhhGwAAAADCNgAQAAGEbAAgAAMIyABQAAYBgBCwAAwDACFgAAgGEELAAAAMMIWAAAAIYRsAAAAAwjYAEAABhGwAIAADCMgAUAAGAYAQsAAMAwAhYAAIBhBCwAAADDCFgAAACGEbAAAAAMI2ABAAAYRsACAAAwjIAFAABgGAELAADAMAIWAACAYQQsAAAAwwhYAAAAhhGwAAAADCNgAQAAGEbAAgAAMIyABQAAYBgBCwAAwDACFgAAgGEELAAAAMMIWAAAAIYRsAAAAAwjYAEAABhGwAIAADCMgAUAAGAYAQsAAMAwAhYAAIBhBCwAAADDOkTAmj9/vhwOh3Jycux1lmVp7ty5crvdioyM1LBhw7Rz586A/fx%2Bv2bMmKHY2FhFRUVp/Pjx2r9/f0CN1%2BuVx%2BOR0%2BmU0%2BmUx%2BPRsWPHAmr27t2rcePGKSoqSrGxscrOzlZjY2PrHTAAAOjQgj5gbd26VS%2B%2B%2BKJuueWWgPULFixQfn6%2BCgoKtHXrVrlcLo0cOVL19fV2TU5OjtasWaPCwkKVlZXp%2BPHjyszMVHNzs12TlZWlyspKFRUVqaioSJWVlfJ4PPb25uZmjR07Vg0NDSorK1NhYaFWrVql3Nzc1j94AADQIQV1wDp%2B/LgeeOABvfTSS4qJibHXW5al5557TnPmzNE999yjlJQUvfrqq/r%2B%2B%2B/1pz/9SZLk8/n0yiuvaPHixRoxYoT69eunN954Qzt27NBf//pXSdIXX3yhoqIivfzyy0pPT1d6erpeeukl/e///q927dolSSouLtbnn3%2BuN954Q/369dOIESO0ePFivfTSS6qrq2v7PwoAAAh6QR2wpk%2BfrrFjx2rEiBEB63fv3q2amhplZGTY6yIiIjR06FBt2rRJklRRUaGmpqaAGrfbrZSUFLtm8%2BbNcjqdSktLs2sGDBggp9MZUJOSkiK3223XjBo1Sn6/XxUVFeYPGgAAdHih7T2AcyksLFRFRYW2bdvWYltNTY0kKT4%2BPmB9fHy89uzZY9eEh4cHzHydrjm9f01NjeLi4lq0HxcXF1BzZj8xMTEKDw%2B3a87k9/vl9/vtZWa6AAC4sgTlDNa%2Bffv0%2BOOPa%2BXKlbr66qvPWedwOAKWLctqse5MZ9acrf5yan5q/vz59k3zTqdTCQkJ5x0TAADoXIIyYFVUVKi2tlapqakKDQ1VaGioSktL9Z//%2BZ8KDQ21Z5TOnEGqra21t7lcLjU2Nsrr9Z635tChQy36P3z4cEDNmf14vV41NTW1mNk6bfbs2fL5fPZn3759l/FXAAAAHVVQBqzhw4drx44dqqystD/9%2B/fXAw88oMrKSt1www1yuVwqKSmx92lsbFRpaakGDhwoSUpNTVVYWFhATXV1taqqquya9PR0%2BXw%2Bffzxx3bNli1b5PP5AmqqqqpUXV1t1xQXFysiIkKpqalnHX9ERIS6du0a8AEAAFeOoLwHKzo6WikpKQHroqKi1L17d3t9Tk6O5s2bp8TERCUmJmrevHnq0qWLsrKyJElOp1OTJ09Wbm6uunfvrm7duikvL099%2B/a1b5rv06ePRo8erSlTpmjZsmWSpEceeUSZmZlKSkqSJGVkZCg5OVkej0cLFy7U0aNHlZeXpylTphCcAADAWQVlwLoYs2bN0okTJzRt2jR5vV6lpaWpuLhY0dHRds2SJUsUGhqqe%2B%2B9VydOnNDw4cO1YsUKhYSE2DUrV65Udna2/bTh%2BPHjVVBQYG8PCQnR2rVrNW3aNA0aNEiRkZHKysrSokWL2u5gAQBAh%2BKwLMtq70F0dnV1dXI6nfL5fMx6dSD95xS19xAuybY/jG7vIQBAUGnPf3%2BD8h4sAACAjqzDfkUIIFBHmnFjtg1AZ8cMFgAAgGEELAAAAMMIWAAAAIYRsAAAAAwjYAEAABhGwAIAADCMgAUAAGAYAQsAAMAwAhYAAIBhBCwAAADDCFgAAACGEbAAAAAMI2ABAAAYRsACAAAwjIAFAABgGAELAADAMAIWAACAYQQsAAAAwwhYAAAAhhGwAAAADCNgAQAAGEbAAgAAMIyABQAAYBgBCwAAwDACFgAAgGEELAAAAMMIWAAAAIYRsAAAAAwjYAEAABhGwAIAADCMgAUAAGAYAQsAAMAwAhYAAIBhBCwAAADDCFgAAACGEbAAAAAMI2ABAAAYRsACAAAwjIAFAABgGAELAADAMAIWAACAYQQsAAAAwwhYAAAAhhGwAAAADCNgAQAAGEbAAgAAMIyABQAAYBgBCwAAwDDjAWv37t2mmwQAAOhQjAesG2%2B8UXfccYfeeOMNnTx50nTzAAAAQc94wPr000/Vr18/5ebmyuVyaerUqfr4448vqY2lS5fqlltuUdeuXdW1a1elp6dr3bp19nbLsjR37ly53W5FRkZq2LBh2rlzZ0Abfr9fM2bMUGxsrKKiojR%2B/Hjt378/oMbr9crj8cjpdMrpdMrj8ejYsWMBNXv37tW4ceMUFRWl2NhYZWdnq7Gx8RL/KgAA4EpiPGClpKQoPz9fBw4c0PLly1VTU6PBgwfr5ptvVn5%2Bvg4fPnzBNq677jo988wz2rZtm7Zt26Zf/epX%2BvWvf22HqAULFig/P18FBQXaunWrXC6XRo4cqfr6eruNnJwcrVmzRoWFhSorK9Px48eVmZmp5uZmuyYrK0uVlZUqKipSUVGRKisr5fF47O3Nzc0aO3asGhoaVFZWpsLCQq1atUq5ubkG/2IAAKCzcViWZbVmB36/X88//7xmz56txsZGhYWF6b777tOzzz6rHj16XHQ73bp108KFC/Xwww/L7XYrJydHTzzxhN1HfHy8nn32WU2dOlU%2Bn0/XXnutXn/9dd13332SpIMHDyohIUHvv/%2B%2BRo0apS%2B%2B%2BELJyckqLy9XWlqaJKm8vFzp6en68ssvlZSUpHXr1ikzM1P79u2T2%2B2WJBUWFmrSpEmqra1V165dL2rsdXV1cjqd8vl8F70P2l//OUXtPYROa9sfRrf3EABcAdrz399We4pw27ZtmjZtmnr06KH8/Hzl5eXpm2%2B%2B0fr163XgwAH9%2Bte/vqh2mpubVVhYqIaGBqWnp2v37t2qqalRRkaGXRMREaGhQ4dq06ZNkqSKigo1NTUF1LjdbqWkpNg1mzdvltPptMOVJA0YMEBOpzOgJiUlxQ5XkjRq1Cj5/X5VVFScc8x%2Bv191dXUBHwAAcOUINd1gfn6%2Bli9frl27dmnMmDF67bXXNGbMGF111Y9ZrlevXlq2bJluuumm87azY8cOpaen6%2BTJk7rmmmu0Zs0aJScn2%2BEnPj4%2BoD4%2BPl579uyRJNXU1Cg8PFwxMTEtampqauyauLi4Fv3GxcUF1JzZT0xMjMLDw%2B2as5k/f76eeuqp8x4fAADovIwHrKVLl%2Brhhx/WQw89JJfLddaa66%2B/Xq%2B88sp520lKSlJlZaWOHTumVatWaeLEiSotLbW3OxyOgHrLslqsO9OZNWerv5yaM82ePVszZ860l%2Bvq6pSQkHDesQEAgM7DeMD6%2BuuvL1gTHh6uiRMnXrDmxhtvlCT1799fW7du1R//%2BEf7vquampqAe7hqa2vt2SaXy6XGxkZ5vd6AWaza2loNHDjQrjl06FCLfg8fPhzQzpYtWwK2e71eNTU1tZjZ%2BqmIiAhFRESc9/gAAEDnZfwerOXLl%2Bvtt99usf7tt9/Wq6%2B%2BetntWpYlv9%2BvXr16yeVyqaSkxN7W2Nio0tJSOzylpqYqLCwsoKa6ulpVVVV2TXp6unw%2BX8ArJLZs2SKfzxdQU1VVperqarumuLhYERERSk1NvexjAQAAnZvxgPXMM88oNja2xfq4uDjNmzfvotr43e9%2Bp48%2B%2BkjfffedduzYoTlz5mjjxo164IEH5HA4lJOTo3nz5mnNmjWqqqrSpEmT1KVLF2VlZUmSnE6nJk%2BerNzcXH3wwQfavn27HnzwQfXt21cjRoyQJPXp00ejR4/WlClTVF5ervLyck2ZMkWZmZlKSkqSJGVkZCg5OVkej0fbt2/XBx98oLy8PE2ZMoWnAQEAwDkZ/4pwz5496tWrV4v1PXv21N69ey%2BqjUOHDsnj8ai6ulpOp1O33HKLioqKNHLkSEnSrFmzdOLECU2bNk1er1dpaWkqLi5WdHS03caSJUsUGhqqe%2B%2B9VydOnNDw4cO1YsUKhYSE2DUrV65Udna2/bTh%2BPHjVVBQYG8PCQnR2rVrNW3aNA0aNEiRkZHKysrSokWLLutvAwAArgzG34N1/fXXq6CgQOPHjw9Y/%2Bc//1nTp09v8Tb1KwHvweqYeA9W6%2BE9WADaQqd6D9b999%2Bv7OxsbdiwQc3NzWpubtb69ev1%2BOOP6/777zfdHQAAQNAx/hXh008/rT179mj48OEKDf2x%2BVOnTmnChAkXfQ8WAABAR2Y8YIWHh%2Butt97Sf/zHf%2BjTTz9VZGSk%2Bvbtq549e5ruCgAAICgZD1in9e7dW717926t5gEAAIKW8YDV3NysFStW6IMPPlBtba1OnToVsH39%2BvWmuwQAAAgqxgPW448/rhUrVmjs2LFKSUm54M/XAAAAdDbGA1ZhYaH%2B53/%2BR2PGjDHdNAAAQIdg/DUNP/0NQQAAgCuR8YCVm5urP/7xjzL8/lIAAIAOw/hXhGVlZdqwYYPWrVunm2%2B%2BWWFhYQHbV69ebbpLAACAoGI8YP3sZz/T3XffbbpZAACADsN4wFq%2BfLnpJgEAADoU4/dgSdIPP/ygv/71r1q2bJnq6%2BslSQcPHtTx48dbozsAAICgYnwGa8%2BePRo9erT27t0rv9%2BvkSNHKjo6WgsWLNDJkyf1wgsvmO4SAAAgqBifwXr88cfVv39/eb1eRUZG2uvvvvtuffDBB6a7AwAACDqt8hTh3/72N4WHhwes79mzpw4cOGC6OwAAgKBjfAbr1KlTam5ubrF%2B//79io6ONt0dAABA0DEesEaOHKnnnnvOXnY4HDp%2B/Lh%2B//vf8/M5AADgimD8K8IlS5bojjvuUHJysk6ePKmsrCx9/fXXio2N1Ztvvmm6OwAAgKBjPGC53W5VVlbqzTff1CeffKJTp05p8uTJeuCBBwJuegcAAOisjAcsSYqMjNTDDz%2Bshx9%2BuDWaBwAACGrGA9Zrr7123u0TJkww3SUAAEBQMR6wHn/88YDlpqYmff/99woPD1eXLl0IWAAAoNMz/hSh1%2BsN%2BBw/fly7du3S4MGDuckdAABcEVrltwjPlJiYqGeeeabF7BYAAEBn1CYBS5JCQkJ08ODBtuoOAACg3Ri/B%2Bu9994LWLYsS9XV1SooKNCgQYNMdwcAABB0jAesu%2B66K2DZ4XDo2muv1a9%2B9SstXrzYdHcAAABBx3jAOnXqlOkmAQAAOpQ2uwcLAADgSmF8BmvmzJkXXZufn2%2B6ewAAgHZnPGBt375dn3zyiX744QclJSVJkr766iuFhITotttus%2BscDofprgEAAIKC8YA1btw4RUdH69VXX1VMTIykH18%2B%2BtBDD2nIkCHKzc013SUAAEBQMX4P1uLFizV//nw7XElSTEyMnn76aZ4iBAAAVwTjAauurk6HDh1qsb62tlb19fWmuwMAAAg6xgPW3XffrYceekjvvPOO9u/fr/379%2Budd97R5MmTdc8995juDgAAIOgYvwfrhRdeUF5enh588EE1NTX92EloqCZPnqyFCxea7g4AACDoGA9YXbp00fPPP6%2BFCxfqm2%2B%2BkWVZuvHGGxUVFWW6KwAAgKDUai8ara6uVnV1tXr37q2oqChZltVaXQEAAAQV4wHrH//4h4YPH67evXtrzJgxqq6uliT95je/4RUNAADgimA8YP32t79VWFiY9u7dqy5dutjr77vvPhUVFZnuDgAAIOgYvweruLhYf/nLX3TdddcFrE9MTNSePXtMdwcAABB0jM9gNTQ0BMxcnXbkyBFFRESY7g4AACDoGA9Yt99%2Bu1577TV72eFw6NSpU1q4cKHuuOMO090BAAAEHeNfES5cuFDDhg3Ttm3b1NjYqFmzZmnnzp06evSo/va3v5nuDgAAIOgYD1jJycn67LPPtHTpUoWEhKihoUH33HOPpk%2Bfrh49epjuDgCANtN/Tsd6WGvbH0a39xCuWEYDVlNTkzIyMrRs2TI99dRTJpsGAADoMIwGrLCwMFVVVcnhcJhsFgBwCTraLAvQGRn/inDChAl65ZVX9Mwzz5huGgDaBYEFwKUyHrAaGxv18ssvq6SkRP3792/xG4T5%2BfmmuwQAAAgqxgLWt99%2Bq5///OeqqqrSbbfdJkn66quvAmr46hCAxIwQgM7P2HuwEhMTdeTIEW3YsEEbNmxQXFycCgsL7eUNGzZo/fr1F9XW/Pnz9ctf/lLR0dGKi4vTXXfdpV27dgXUWJaluXPnyu12KzIyUsOGDdPOnTsDavx%2Bv2bMmKHY2FhFRUVp/Pjx2r9/f0CN1%2BuVx%2BOR0%2BmU0%2BmUx%2BPRsWPHAmr27t2rcePGKSoqSrGxscrOzlZjY%2BNl/JUAAMCVwFjAsiwrYHndunVqaGi4rLZKS0s1ffp0lZeXq6SkRD/88IMyMjIC2luwYIHy8/NVUFCgrVu3yuVyaeTIkaqvr7drcnJytGbNGhUWFqqsrEzHjx9XZmammpub7ZqsrCxVVlaqqKhIRUVFqqyslMfjsbc3Nzdr7NixamhoUFlZmQoLC7Vq1Sp%2BuBoAAJyTwzozGV2mq666SjU1NYqLi5MkRUdH69NPP9UNN9zwf2778OHDiouLU2lpqW6//XZZliW3262cnBw98cQTkn6crYqPj9ezzz6rqVOnyufz6dprr9Xrr7%2Bu%2B%2B67T5J08OBBJSQk6P3339eoUaP0xRdfKDk5WeXl5UpLS5MklZeXKz09XV9%2B%2BaWSkpK0bt06ZWZmat%2B%2BfXK73ZKkwsJCTZo0SbW1teratesFx19XVyen0ymfz3dR9QgOfI0FoKO70t%2BD1Z7//hq7B8vhcLS4x8rUPVc%2Bn0%2BS1K1bN0nS7t27VVNTo4yMDLsmIiJCQ4cO1aZNmzR16lRVVFTY7%2BU6ze12KyUlRZs2bdKoUaO0efNmOZ1OO1xJ0oABA%2BR0OrVp0yYlJSVp8%2BbNSklJscOVJI0aNUp%2Bv18VFRVn/fkfv98vv99vL9fV1Rn5O3R0BBYAwJXCWMCyLEuTJk2yf9D55MmTevTRR1s8Rbh69epLbnfmzJkaPHiwUlJSJEk1NTWSpPj4%2BIDa%2BPh47dmzx64JDw9XTExMi5rT%2B/90xu2n4uLiAmrO7CcmJkbh4eF2zZnmz5/Pi1YBALiCGQtYEydODFh%2B8MEHjbT72GOP6bPPPlNZWVmLbWfOkFmWdcFZszNrzlZ/OTU/NXv2bM2cOdNerqurU0JCwnnHBQAAOg9jAWv58uWmmrLNmDFD7733nj788ENdd9119nqXyyXpx9mln/6%2BYW1trT3b5HK51NjYKK/XGzCLVVtbq4EDB9o1hw4datHv4cOHA9rZsmVLwHav16umpqYWM1unRURE2DN5AADgymPsKUKTLMvSY489ptWrV2v9%2BvXq1atXwPZevXrJ5XKppKTEXtfY2KjS0lI7PKWmpiosLCygprq6WlVVVXZNenq6fD6fPv74Y7tmy5Yt8vl8ATVVVVWqrq62a4qLixUREaHU1FTzBw8AADo8429yN2H69On605/%2BpD//%2Bc%2BKjo6273VyOp2KjIyUw%2BFQTk6O5s2bp8TERCUmJmrevHnq0qWLsrKy7NrJkycrNzdX3bt3V7du3ZSXl6e%2BfftqxIgRkqQ%2Bffpo9OjRmjJlipYtWyZJeuSRR5SZmamkpCRJUkZGhpKTk%2BXxeLRw4UIdPXpUeXl5mjJlCk8EAgCAswrKgLV06VJJ0rBhwwLWL1%2B%2BXJMmTZIkzZo1SydOnNC0adPk9XqVlpam4uJiRUdH2/VLlixRaGio7r33Xp04cULDhw/XihUrFBISYtesXLlS2dnZ9tOG48ePV0FBgb09JCREa9eu1bRp0zRo0CBFRkYqKytLixYtaqWjBwAAHZ2x92Dh3HgP1o94TQMAtC3eg9V%2B//4G5T1YAAAAHRkBCwAAwDACFgAAgGEELAAAAMOC8ilCXDxuHAcAIPgwgwUAAGAYAQsAAMAwAhYAAIBhBCwAAADDCFgAAACGEbAAAAAMI2ABAAAYRsACAAAwjIAFAABgGAELAADAMAIWAACAYQQsAAAAwwhYAAAAhhGwAAAADCNgAQAAGEbAAgAAMIyABQAAYBgBCwAAwLDQ9h4AAABoHf3nFLX3EC7atj%2BMbu8hGMUMFgAAgGEELAAAAMMIWAAAAIYRsAAAAAwjYAEAABhGwAIAADCMgAUAAGAYAQsAAMAwAhYAAIBhBCwAAADDCFgAAACGEbAAAAAMI2ABAAAYRsACAAAwjIAFAABgGAELAADAMAIWAACAYQQsAAAAwwhYAAAAhhGwAAAADCNgAQAAGEbAAgAAMIyABQAAYBgBCwAAwDACFgAAgGEELAAAAMMIWAAAAIYFZcD68MMPNW7cOLndbjkcDr377rsB2y3L0ty5c%2BV2uxUZGalhw4Zp586dATV%2Bv18zZsxQbGysoqKiNH78eO3fvz%2Bgxuv1yuPxyOl0yul0yuPx6NixYwE1e/fu1bhx4xQVFaXY2FhlZ2ersbGxdQ4cAAB0CkEZsBoaGnTrrbeqoKDgrNsXLFig/Px8Fa/rkUEAAA2vSURBVBQUaOvWrXK5XBo5cqTq6%2BvtmpycHK1Zs0aFhYUqKyvT8ePHlZmZqebmZrsmKytLlZWVKioqUlFRkSorK%2BXxeOztzc3NGjt2rBoaGlRWVqbCwkKtWrVKubm5rXfwAACgw3NYlmW19yDOx%2BFwaM2aNbrrrrsk/Th75Xa7lZOToyeeeELSj7NV8fHxevbZZzV16lT5fD5de%2B21ev3113XfffdJkg4ePKiEhAS9//77GjVqlL744gslJyervLxcaWlpkqTy8nKlp6fryy%2B/VFJSktatW6fMzEzt27dPbrdbklRYWKhJkyaptrZWXbt2vahjqKurk9PplM/nu%2Bh9Llb/OUVG2wMAoD1s%2B8No42225r%2B/FxKUM1jns3v3btXU1CgjI8NeFxERoaFDh2rTpk2SpIqKCjU1NQXUuN1upaSk2DWbN2%2BW0%2Bm0w5UkDRgwQE6nM6AmJSXFDleSNGrUKPn9flVUVLTqcQIAgI4rtL0HcKlqamokSfHx8QHr4%2BPjtWfPHrsmPDxcMTExLWpO719TU6O4uLgW7cfFxQXUnNlPTEyMwsPD7Zqz8fv98vv99nJdXd3FHh4AAOgEOtwM1mkOhyNg2bKsFuvOdGbN2eovp%2BZM8%2BfPt2%2BcdzqdSkhIOO%2B4AABA59LhApbL5ZKkFjNItbW19myTy%2BVSY2OjvF7veWsOHTrUov3Dhw8H1JzZj9frVVNTU4uZrZ%2BaPXu2fD6f/dm3b98lHiUAAOjIOlzA6tWrl1wul0pKSux1jY2NKi0t1cCBAyVJqampCgsLC6iprq5WVVWVXZOeni6fz6ePP/7YrtmyZYt8Pl9ATVVVlaqrq%2B2a4uJiRUREKDU19ZxjjIiIUNeuXQM%2BAADgyhGU92AdP35cf//73%2B3l3bt3q7KyUt26ddP111%2BvnJwczZs3T4mJiUpMTNS8efPUpUsXZWVlSZKcTqcmT56s3Nxcde/eXd26dVNeXp769u2rESNGSJL69Omj0aNHa8qUKVq2bJkk6ZFHHlFmZqaSkpIkSRkZGUpOTpbH49HChQt19OhR5eXlacqUKYQmAABwTkEZsLZt26Y77rjDXp45c6YkaeLEiVqxYoVmzZqlEydOaNq0afJ6vUpLS1NxcbGio6PtfZYsWaLQ0FDde%2B%2B9OnHihIYPH64VK1YoJCTErlm5cqWys7Ptpw3Hjx8f8O6tkJAQrV27VtOmTdOgQYMUGRmprKwsLVq0qLX/BAAAoAML%2BvdgdQa8BwsAgPPjPVgAAAA4LwIWAACAYQQsAAAAwwhYAAAAhhGwAAAADCNgAQAAGEbAAgAAMIyABQAAYBgBCwAAwDACFgAAgGEELAAAAMMIWAAAAIYRsAAAAAwjYAEAABhGwAIAADCMgAUAAGAYAQsAAMAwAhYAAIBhBCwAAADDCFgAAACGEbAAAAAMI2ABAAAYRsACAAAwjIAFAABgGAELAADAMAIWAACAYQQsAAAAwwhYAAAAhhGwAAAADCNgAQAAGEbAAgAAMIyABQAAYBgBCwAAwDACFgAAgGEELAAAAMMIWAAAAIYRsAAAAAwjYAEAABhGwAIAADCMgAUAAGAYAQsAAMAwAhYAAIBhBCwAAADDCFgAAACGEbAAAAAMI2ABAAAYRsACAAAwjIAFAABgGAELAADAMAIWAACAYQQsAAAAwwhYAAAAhhGwLtLzzz%2BvXr166eqrr1Zqaqo%2B%2Buij9h4SAAAIUgSsi/DWW28pJydHc%2BbM0fbt2zVkyBDdeeed2rt3b3sPDQAABCEC1kXIz8/X5MmT9Zvf/EZ9%2BvTRc889p4SEBC1durS9hwYAAIJQaHsPINg1NjaqoqJCTz75ZMD6jIwMbdq06az7%2BP1%2B%2Bf1%2Be9nn80mS6urqjI%2Bv2d9gvE0AANpaa/wbebpNy7KMt30hBKwLOHLkiJqbmxUfHx%2BwPj4%2BXjU1NWfdZ/78%2BXrqqadarE9ISGiVMQIA0NE5F7de2/X19XI6na3XwVkQsC6Sw%2BEIWLYsq8W602bPnq2ZM2fay6dOndLRo0fVvXv3c%2B5zOerq6pSQkKB9%2B/apa9euxtrFpeNcBA/ORfDgXASPK/VcWJal%2Bvp6ud3uNu%2BbgHUBsbGxCgkJaTFbVVtb22JW67SIiAhFREQErPvZz37WamPs2rXrFXXBBDPORfDgXAQPzkXwuBLPRVvPXJ3GTe4XEB4ertTUVJWUlASsLykp0cCBA9tpVAAAIJgxg3URZs6cKY/Ho/79%2Bys9PV0vvvii9u7dq0cffbS9hwYAAIJQyNy5c%2Be29yCCXUpKirp376558%2BZp0aJFOnHihF5//XXdeuut7T00hYSEaNiwYQoNJSu3N85F8OBcBA/ORfDgXLQth9Uezy4CAAB0YtyDBQAAYBgBCwAAwDACFgAAgGEELAAAAMMIWEHu%2BeefV69evXT11VcrNTVVH3300XnrS0tLlZqaqquvvlo33HCDXnjhhTYaaed3Kedi48aNcjgcLT5ffvllG464c/rwww81btw4ud1uORwOvfvuuxfch%2BuidVzqueC6aB3z58/XL3/5S0VHRysuLk533XWXdu3adcH9uC5aFwEriL311lvKycnRnDlztH37dg0ZMkR33nmn9u7de9b63bt3a8yYMRoyZIi2b9%2Bu3/3ud8rOztaqVavaeOSdz6Wei9N27dql6upq%2B5OYmNhGI%2B68GhoadOutt6qgoOCi6rkuWs%2BlnovTuC7MKi0t1fTp01VeXq6SkhL98MMPysjIUENDwzn34bpoAxaC1j//8z9bjz76aMC6m266yXryySfPWj9r1izrpptuClg3depUa8CAAa02xivFpZ6LDRs2WJIsr9fbFsO7Ykmy1qxZc94arou2cTHnguuibdTW1lqSrNLS0nPWcF20PmawglRjY6MqKiqUkZERsD4jI0ObNm066z6bN29uUT9q1Cht27ZNTU1NrTbWzu5yzsVp/fr1U48ePTR8%2BHBt2LChNYeJc%2BC6CD5cF63L5/NJkrp163bOGq6L1kfAClJHjhxRc3Nzix%2BUjo%2BPb/HD06fV1NSctf6HH37QkSNHWm2snd3lnIsePXroxRdf1KpVq7R69WolJSVp%2BPDh%2BvDDD9tiyPgJrovgwXXR%2BizL0syZMzV48GClpKScs47rovXxvvwg53A4ApYty2qx7kL1Z1uPS3cp5yIpKUlJSUn2cnp6uvbt26dFixbp9ttvb9VxoiWui%2BDAddH6HnvsMX322WcqKyu7YC3XRetiBitIxcbGKiQkpMUMSW1tbYv/dZzmcrnOWh8aGqru3bu32lg7u8s5F2czYMAAff3116aHhwvgughuXBfmzJgxQ%2B%2B99542bNig66677ry1XBetj4AVpMLDw5WamqqSkpKA9SUlJRo4cOBZ90lPT29RX1xcrP79%2ByssLKzVxtrZXc65OJvt27erR48epoeHC%2BC6CG5cF/93lmXpscce0%2BrVq7V%2B/Xr16tXrgvtwXbSBdrzBHhdQWFhohYWFWa%2B88or1%2BeefWzk5OVZUVJT13XffWZZlWU8%2B%2BaTl8Xjs%2Bm%2B//dbq0qWL9dvf/tb6/PPPrVdeecUKCwuz3nnnnfY6hE7jUs/FkiVLrDVr1lhfffWVVVVVZT355JOWJGvVqlXtdQidRn19vbV9%2B3Zr%2B/btliQrPz/f2r59u7Vnzx7Lsrgu2tKlnguui9bx7//%2B75bT6bQ2btxoVVdX25/vv//eruG6aHsErCD3X//1X1bPnj2t8PBw67bbbgt47HbixInW0KFDA%2Bo3btxo9evXzwoPD7d%2B/vOfW0uXLm3jEXdel3Iunn32WesXv/iFdfXVV1sxMTHW4MGDrbVr17bDqDuf04/6n/mZOHGiZVlcF23pUs8F10XrONs5kGQtX77cruG6aHsOy/r/d7UBAADACO7BAgAAMIyABQAAYBgBCwAAwDACFgAAgGEELAAAAMMIWAAAAIYRsAAAAAwjYAEAgHbx4Ycfaty4cXK73XI4HHr33Xcvaf%2B5c%2BfK4XC0%2BERFRbXSiC8eAQsAALSLhoYG3XrrrSooKLis/fPy8lRdXR3wSU5O1r/%2B678aHumlI2ABAIB2ceedd%2Brpp5/WPffcc9btjY2NmjVrlv7pn/5JUVFRSktL08aNG%2B3t11xzjVwul/05dOiQPv/8c02ePLmNjuDcQtt7AAAAAGfz0EMP6bvvvlNhYaHcbrfWrFmj0aNHa8eOHUpMTGxR//LLL6t3794aMmRIO4w2EDNYAAAg6HzzzTd688039fbbb2vIkCH6xS9%2Boby8PA0ePFjLly9vUe/3%2B7Vy5cqgmL2SmMECAABB6JNPPpFlWerdu3fAer/fr%2B7du7eoX716terr6zVhwoS2GuJ5EbAAAEDQOXXqlEJCQlRRUaGQkJCAbddcc02L%2BpdfflmZmZlyuVxtNcTzImABAICg069fPzU3N6u2tvaC91Tt3r1bGzZs0HvvvddGo7swAhYAAGgXx48f19///nd7effu3aqsrFS3bt3Uu3dvPfDAA5owYYIWL16sfv366ciRI1q/fr369u2rMWPG2Pv993//t3r06KE777yzPQ7jrByWZVntPQgAAHDl2bhxo%2B64444W6ydOnKgVK1aoqalJTz/9tF577TUdOHBA3bt3V3p6up566in17dtX0o9fJfbs2VMTJkzQH/7wh7Y%2BhHMiYAEAABj2/wCgfODWVOp8pQAAAABJRU5ErkJggg%3D%3D\"/>\n",
       "        </div>\n",
       "        <div role=\"tabpanel\" class=\"tab-pane col-md-12\" id=\"common-786822282470848759\">\n",
       "            \n",
       "<table class=\"freq table table-hover\">\n",
       "    <thead>\n",
       "    <tr>\n",
       "        <td class=\"fillremaining\">Value</td>\n",
       "        <td class=\"number\">Count</td>\n",
       "        <td class=\"number\">Frequency (%)</td>\n",
       "        <td style=\"min-width:200px\">&nbsp;</td>\n",
       "    </tr>\n",
       "    </thead>\n",
       "    <tr class=\"\">\n",
       "        <td class=\"fillremaining\">4720639</td>\n",
       "        <td class=\"number\">1</td>\n",
       "        <td class=\"number\">0.0%</td>\n",
       "        <td>\n",
       "            <div class=\"bar\" style=\"width:1%\">&nbsp;</div>\n",
       "        </td>\n",
       "</tr><tr class=\"\">\n",
       "        <td class=\"fillremaining\">2682187</td>\n",
       "        <td class=\"number\">1</td>\n",
       "        <td class=\"number\">0.0%</td>\n",
       "        <td>\n",
       "            <div class=\"bar\" style=\"width:1%\">&nbsp;</div>\n",
       "        </td>\n",
       "</tr><tr class=\"\">\n",
       "        <td class=\"fillremaining\">19309954</td>\n",
       "        <td class=\"number\">1</td>\n",
       "        <td class=\"number\">0.0%</td>\n",
       "        <td>\n",
       "            <div class=\"bar\" style=\"width:1%\">&nbsp;</div>\n",
       "        </td>\n",
       "</tr><tr class=\"\">\n",
       "        <td class=\"fillremaining\">5325880</td>\n",
       "        <td class=\"number\">1</td>\n",
       "        <td class=\"number\">0.0%</td>\n",
       "        <td>\n",
       "            <div class=\"bar\" style=\"width:1%\">&nbsp;</div>\n",
       "        </td>\n",
       "</tr><tr class=\"\">\n",
       "        <td class=\"fillremaining\">12666238</td>\n",
       "        <td class=\"number\">1</td>\n",
       "        <td class=\"number\">0.0%</td>\n",
       "        <td>\n",
       "            <div class=\"bar\" style=\"width:1%\">&nbsp;</div>\n",
       "        </td>\n",
       "</tr><tr class=\"\">\n",
       "        <td class=\"fillremaining\">8480122</td>\n",
       "        <td class=\"number\">1</td>\n",
       "        <td class=\"number\">0.0%</td>\n",
       "        <td>\n",
       "            <div class=\"bar\" style=\"width:1%\">&nbsp;</div>\n",
       "        </td>\n",
       "</tr><tr class=\"\">\n",
       "        <td class=\"fillremaining\">19496313</td>\n",
       "        <td class=\"number\">1</td>\n",
       "        <td class=\"number\">0.0%</td>\n",
       "        <td>\n",
       "            <div class=\"bar\" style=\"width:1%\">&nbsp;</div>\n",
       "        </td>\n",
       "</tr><tr class=\"\">\n",
       "        <td class=\"fillremaining\">1668472</td>\n",
       "        <td class=\"number\">1</td>\n",
       "        <td class=\"number\">0.0%</td>\n",
       "        <td>\n",
       "            <div class=\"bar\" style=\"width:1%\">&nbsp;</div>\n",
       "        </td>\n",
       "</tr><tr class=\"\">\n",
       "        <td class=\"fillremaining\">11083125</td>\n",
       "        <td class=\"number\">1</td>\n",
       "        <td class=\"number\">0.0%</td>\n",
       "        <td>\n",
       "            <div class=\"bar\" style=\"width:1%\">&nbsp;</div>\n",
       "        </td>\n",
       "</tr><tr class=\"\">\n",
       "        <td class=\"fillremaining\">6886772</td>\n",
       "        <td class=\"number\">1</td>\n",
       "        <td class=\"number\">0.0%</td>\n",
       "        <td>\n",
       "            <div class=\"bar\" style=\"width:1%\">&nbsp;</div>\n",
       "        </td>\n",
       "</tr><tr class=\"other\">\n",
       "        <td class=\"fillremaining\">Other values (248133)</td>\n",
       "        <td class=\"number\">248133</td>\n",
       "        <td class=\"number\">100.0%</td>\n",
       "        <td>\n",
       "            <div class=\"bar\" style=\"width:100%\">&nbsp;</div>\n",
       "        </td>\n",
       "</tr>\n",
       "</table>\n",
       "        </div>\n",
       "        <div role=\"tabpanel\" class=\"tab-pane col-md-12\"  id=\"extreme-786822282470848759\">\n",
       "            <p class=\"h4\">Minimum 5 values</p>\n",
       "            \n",
       "<table class=\"freq table table-hover\">\n",
       "    <thead>\n",
       "    <tr>\n",
       "        <td class=\"fillremaining\">Value</td>\n",
       "        <td class=\"number\">Count</td>\n",
       "        <td class=\"number\">Frequency (%)</td>\n",
       "        <td style=\"min-width:200px\">&nbsp;</td>\n",
       "    </tr>\n",
       "    </thead>\n",
       "    <tr class=\"\">\n",
       "        <td class=\"fillremaining\">19</td>\n",
       "        <td class=\"number\">1</td>\n",
       "        <td class=\"number\">0.0%</td>\n",
       "        <td>\n",
       "            <div class=\"bar\" style=\"width:100%\">&nbsp;</div>\n",
       "        </td>\n",
       "</tr><tr class=\"\">\n",
       "        <td class=\"fillremaining\">28</td>\n",
       "        <td class=\"number\">1</td>\n",
       "        <td class=\"number\">0.0%</td>\n",
       "        <td>\n",
       "            <div class=\"bar\" style=\"width:100%\">&nbsp;</div>\n",
       "        </td>\n",
       "</tr><tr class=\"\">\n",
       "        <td class=\"fillremaining\">37</td>\n",
       "        <td class=\"number\">1</td>\n",
       "        <td class=\"number\">0.0%</td>\n",
       "        <td>\n",
       "            <div class=\"bar\" style=\"width:100%\">&nbsp;</div>\n",
       "        </td>\n",
       "</tr><tr class=\"\">\n",
       "        <td class=\"fillremaining\">46</td>\n",
       "        <td class=\"number\">1</td>\n",
       "        <td class=\"number\">0.0%</td>\n",
       "        <td>\n",
       "            <div class=\"bar\" style=\"width:100%\">&nbsp;</div>\n",
       "        </td>\n",
       "</tr><tr class=\"\">\n",
       "        <td class=\"fillremaining\">73</td>\n",
       "        <td class=\"number\">1</td>\n",
       "        <td class=\"number\">0.0%</td>\n",
       "        <td>\n",
       "            <div class=\"bar\" style=\"width:100%\">&nbsp;</div>\n",
       "        </td>\n",
       "</tr>\n",
       "</table>\n",
       "            <p class=\"h4\">Maximum 5 values</p>\n",
       "            \n",
       "<table class=\"freq table table-hover\">\n",
       "    <thead>\n",
       "    <tr>\n",
       "        <td class=\"fillremaining\">Value</td>\n",
       "        <td class=\"number\">Count</td>\n",
       "        <td class=\"number\">Frequency (%)</td>\n",
       "        <td style=\"min-width:200px\">&nbsp;</td>\n",
       "    </tr>\n",
       "    </thead>\n",
       "    <tr class=\"\">\n",
       "        <td class=\"fillremaining\">22010392</td>\n",
       "        <td class=\"number\">1</td>\n",
       "        <td class=\"number\">0.0%</td>\n",
       "        <td>\n",
       "            <div class=\"bar\" style=\"width:100%\">&nbsp;</div>\n",
       "        </td>\n",
       "</tr><tr class=\"\">\n",
       "        <td class=\"fillremaining\">22010394</td>\n",
       "        <td class=\"number\">1</td>\n",
       "        <td class=\"number\">0.0%</td>\n",
       "        <td>\n",
       "            <div class=\"bar\" style=\"width:100%\">&nbsp;</div>\n",
       "        </td>\n",
       "</tr><tr class=\"\">\n",
       "        <td class=\"fillremaining\">22010396</td>\n",
       "        <td class=\"number\">1</td>\n",
       "        <td class=\"number\">0.0%</td>\n",
       "        <td>\n",
       "            <div class=\"bar\" style=\"width:100%\">&nbsp;</div>\n",
       "        </td>\n",
       "</tr><tr class=\"\">\n",
       "        <td class=\"fillremaining\">22010398</td>\n",
       "        <td class=\"number\">1</td>\n",
       "        <td class=\"number\">0.0%</td>\n",
       "        <td>\n",
       "            <div class=\"bar\" style=\"width:100%\">&nbsp;</div>\n",
       "        </td>\n",
       "</tr><tr class=\"\">\n",
       "        <td class=\"fillremaining\">22010400</td>\n",
       "        <td class=\"number\">1</td>\n",
       "        <td class=\"number\">0.0%</td>\n",
       "        <td>\n",
       "            <div class=\"bar\" style=\"width:100%\">&nbsp;</div>\n",
       "        </td>\n",
       "</tr>\n",
       "</table>\n",
       "        </div>\n",
       "    </div>\n",
       "</div>\n",
       "</div><div class=\"row variablerow\">\n",
       "    <div class=\"col-md-3 namecol\">\n",
       "        <p class=\"h4 pp-anchor\" id=\"pp_var_Updated\">Updated<br/>\n",
       "            <small>Categorical</small>\n",
       "        </p>\n",
       "    </div><div class=\"col-md-3\">\n",
       "    <table class=\"stats \">\n",
       "        <tr class=\"alert\">\n",
       "            <th>Distinct count</th>\n",
       "            <td>91</td>\n",
       "        </tr>\n",
       "        <tr>\n",
       "            <th>Unique (%)</th>\n",
       "            <td>0.0%</td>\n",
       "        </tr>\n",
       "        <tr class=\"ignore\">\n",
       "            <th>Missing (%)</th>\n",
       "            <td>0.0%</td>\n",
       "        </tr>\n",
       "        <tr class=\"ignore\">\n",
       "            <th>Missing (n)</th>\n",
       "            <td>0</td>\n",
       "        </tr>\n",
       "    </table>\n",
       "</div>\n",
       "<div class=\"col-md-6 collapse in\" id=\"minifreqtable-6197322913627503045\">\n",
       "    <table class=\"mini freq\">\n",
       "        <tr class=\"\">\n",
       "    <th>05/29/2020</th>\n",
       "    <td>\n",
       "        <div class=\"bar\" style=\"width:3%\" data-toggle=\"tooltip\" data-placement=\"right\" data-html=\"true\"\n",
       "             data-delay=500 title=\"Percentage: 1.9%\">\n",
       "            &nbsp;\n",
       "        </div>\n",
       "        4752\n",
       "    </td>\n",
       "</tr><tr class=\"\">\n",
       "    <th>05/27/2020</th>\n",
       "    <td>\n",
       "        <div class=\"bar\" style=\"width:3%\" data-toggle=\"tooltip\" data-placement=\"right\" data-html=\"true\"\n",
       "             data-delay=500 title=\"Percentage: 1.9%\">\n",
       "            &nbsp;\n",
       "        </div>\n",
       "        4741\n",
       "    </td>\n",
       "</tr><tr class=\"\">\n",
       "    <th>05/28/2020</th>\n",
       "    <td>\n",
       "        <div class=\"bar\" style=\"width:3%\" data-toggle=\"tooltip\" data-placement=\"right\" data-html=\"true\"\n",
       "             data-delay=500 title=\"Percentage: 1.9%\">\n",
       "            &nbsp;\n",
       "        </div>\n",
       "        4734\n",
       "    </td>\n",
       "</tr><tr class=\"other\">\n",
       "    <th>Other values (88)</th>\n",
       "    <td>\n",
       "        <div class=\"bar\" style=\"width:100%\" data-toggle=\"tooltip\" data-placement=\"right\" data-html=\"true\"\n",
       "             data-delay=500 title=\"Percentage: 94.3%\">\n",
       "            233916\n",
       "        </div>\n",
       "        \n",
       "    </td>\n",
       "</tr>\n",
       "    </table>\n",
       "</div>\n",
       "<div class=\"col-md-12 text-right\">\n",
       "    <a role=\"button\" data-toggle=\"collapse\" data-target=\"#freqtable-6197322913627503045, #minifreqtable-6197322913627503045\"\n",
       "       aria-expanded=\"true\" aria-controls=\"collapseExample\">\n",
       "        Toggle details\n",
       "    </a>\n",
       "</div>\n",
       "<div class=\"col-md-12 extrapadding collapse\" id=\"freqtable-6197322913627503045\">\n",
       "    \n",
       "<table class=\"freq table table-hover\">\n",
       "    <thead>\n",
       "    <tr>\n",
       "        <td class=\"fillremaining\">Value</td>\n",
       "        <td class=\"number\">Count</td>\n",
       "        <td class=\"number\">Frequency (%)</td>\n",
       "        <td style=\"min-width:200px\">&nbsp;</td>\n",
       "    </tr>\n",
       "    </thead>\n",
       "    <tr class=\"\">\n",
       "        <td class=\"fillremaining\">05/29/2020</td>\n",
       "        <td class=\"number\">4752</td>\n",
       "        <td class=\"number\">1.9%</td>\n",
       "        <td>\n",
       "            <div class=\"bar\" style=\"width:3%\">&nbsp;</div>\n",
       "        </td>\n",
       "</tr><tr class=\"\">\n",
       "        <td class=\"fillremaining\">05/27/2020</td>\n",
       "        <td class=\"number\">4741</td>\n",
       "        <td class=\"number\">1.9%</td>\n",
       "        <td>\n",
       "            <div class=\"bar\" style=\"width:3%\">&nbsp;</div>\n",
       "        </td>\n",
       "</tr><tr class=\"\">\n",
       "        <td class=\"fillremaining\">05/28/2020</td>\n",
       "        <td class=\"number\">4734</td>\n",
       "        <td class=\"number\">1.9%</td>\n",
       "        <td>\n",
       "            <div class=\"bar\" style=\"width:3%\">&nbsp;</div>\n",
       "        </td>\n",
       "</tr><tr class=\"\">\n",
       "        <td class=\"fillremaining\">05/26/2020</td>\n",
       "        <td class=\"number\">4731</td>\n",
       "        <td class=\"number\">1.9%</td>\n",
       "        <td>\n",
       "            <div class=\"bar\" style=\"width:3%\">&nbsp;</div>\n",
       "        </td>\n",
       "</tr><tr class=\"\">\n",
       "        <td class=\"fillremaining\">05/17/2020</td>\n",
       "        <td class=\"number\">4303</td>\n",
       "        <td class=\"number\">1.7%</td>\n",
       "        <td>\n",
       "            <div class=\"bar\" style=\"width:3%\">&nbsp;</div>\n",
       "        </td>\n",
       "</tr><tr class=\"\">\n",
       "        <td class=\"fillremaining\">05/14/2020</td>\n",
       "        <td class=\"number\">4296</td>\n",
       "        <td class=\"number\">1.7%</td>\n",
       "        <td>\n",
       "            <div class=\"bar\" style=\"width:3%\">&nbsp;</div>\n",
       "        </td>\n",
       "</tr><tr class=\"\">\n",
       "        <td class=\"fillremaining\">05/13/2020</td>\n",
       "        <td class=\"number\">4295</td>\n",
       "        <td class=\"number\">1.7%</td>\n",
       "        <td>\n",
       "            <div class=\"bar\" style=\"width:3%\">&nbsp;</div>\n",
       "        </td>\n",
       "</tr><tr class=\"\">\n",
       "        <td class=\"fillremaining\">05/18/2020</td>\n",
       "        <td class=\"number\">4294</td>\n",
       "        <td class=\"number\">1.7%</td>\n",
       "        <td>\n",
       "            <div class=\"bar\" style=\"width:3%\">&nbsp;</div>\n",
       "        </td>\n",
       "</tr><tr class=\"\">\n",
       "        <td class=\"fillremaining\">05/06/2020</td>\n",
       "        <td class=\"number\">4293</td>\n",
       "        <td class=\"number\">1.7%</td>\n",
       "        <td>\n",
       "            <div class=\"bar\" style=\"width:3%\">&nbsp;</div>\n",
       "        </td>\n",
       "</tr><tr class=\"\">\n",
       "        <td class=\"fillremaining\">05/15/2020</td>\n",
       "        <td class=\"number\">4291</td>\n",
       "        <td class=\"number\">1.7%</td>\n",
       "        <td>\n",
       "            <div class=\"bar\" style=\"width:3%\">&nbsp;</div>\n",
       "        </td>\n",
       "</tr><tr class=\"other\">\n",
       "        <td class=\"fillremaining\">Other values (81)</td>\n",
       "        <td class=\"number\">203413</td>\n",
       "        <td class=\"number\">82.0%</td>\n",
       "        <td>\n",
       "            <div class=\"bar\" style=\"width:100%\">&nbsp;</div>\n",
       "        </td>\n",
       "</tr>\n",
       "</table>\n",
       "</div>\n",
       "</div><div class=\"row variablerow\">\n",
       "    <div class=\"col-md-3 namecol\">\n",
       "        <p class=\"h4 pp-anchor\" id=\"pp_var_Confirmed\">Confirmed<br/>\n",
       "            <small>Numeric</small>\n",
       "        </p>\n",
       "    </div><div class=\"col-md-6\">\n",
       "    <div class=\"row\">\n",
       "        <div class=\"col-sm-6\">\n",
       "            <table class=\"stats \">\n",
       "                <tr>\n",
       "                    <th>Distinct count</th>\n",
       "                    <td>12758</td>\n",
       "                </tr>\n",
       "                <tr>\n",
       "                    <th>Unique (%)</th>\n",
       "                    <td>5.1%</td>\n",
       "                </tr>\n",
       "                <tr class=\"ignore\">\n",
       "                    <th>Missing (%)</th>\n",
       "                    <td>0.0%</td>\n",
       "                </tr>\n",
       "                <tr class=\"ignore\">\n",
       "                    <th>Missing (n)</th>\n",
       "                    <td>0</td>\n",
       "                </tr>\n",
       "                <tr class=\"ignore\">\n",
       "                    <th>Infinite (%)</th>\n",
       "                    <td>0.0%</td>\n",
       "                </tr>\n",
       "                <tr class=\"ignore\">\n",
       "                    <th>Infinite (n)</th>\n",
       "                    <td>0</td>\n",
       "                </tr>\n",
       "            </table>\n",
       "\n",
       "        </div>\n",
       "        <div class=\"col-sm-6\">\n",
       "            <table class=\"stats \">\n",
       "\n",
       "                <tr>\n",
       "                    <th>Mean</th>\n",
       "                    <td>2526.7</td>\n",
       "                </tr>\n",
       "                <tr>\n",
       "                    <th>Minimum</th>\n",
       "                    <td>0</td>\n",
       "                </tr>\n",
       "                <tr>\n",
       "                    <th>Maximum</th>\n",
       "                    <td>5916464</td>\n",
       "                </tr>\n",
       "                <tr class=\"alert\">\n",
       "                    <th>Zeros (%)</th>\n",
       "                    <td>2.8%</td>\n",
       "                </tr>\n",
       "            </table>\n",
       "        </div>\n",
       "    </div>\n",
       "</div>\n",
       "<div class=\"col-md-3 collapse in\" id=\"minihistogram5120298757736022983\">\n",
       "    <img src=\"data:image/png;base64,iVBORw0KGgoAAAANSUhEUgAAAMgAAABLCAYAAAA1fMjoAAAABHNCSVQICAgIfAhkiAAAAAlwSFlzAAAPYQAAD2EBqD%2BnaQAAADh0RVh0U29mdHdhcmUAbWF0cGxvdGxpYiB2ZXJzaW9uMy4yLjEsIGh0dHA6Ly9tYXRwbG90bGliLm9yZy%2Bj8jraAAAD9UlEQVR4nO3asUtbaxjH8d/RSKAkEeygDabVCoqDqHi1Q3EIXURwsMVNsEKhQwenDnLB7Tqp%2BA%2B4OLlZqMPFwYDgdtvBoWjVpVYHSQtN6pCiee7Qqxev8lxs40mV7wey5Bze9z3kfDk5OQnMzBSyjx8/KpVKhT0trrnd3V3V19eHOmck1Nn%2BEY/HJX0/4EQiUY4l4BrJ5XJKpVKn502YyhJIEASSpEQicS6Q337/89Lj/fVHX0nWhV/byXkTporQZwSuEQIBHAQCOAgEcBAI4CAQwEEggINAAAeBAA4CARwEAjgIBHAQCOAgEMBBIICDQAAHgQAOAgEcBAI4CARwEAjgIBDAQSCAg0AAB4EADgIBHAQCOAgEcBAI4CAQwEEggINAAAeBAA4CARwEAjgIBHAQCOAgEMBBIICDQAAHgQAOAgEcBAI4CARwEAjgiJRjUjOTJOVyuXPbjguHlx7vonFwc5x8vifnTZjKEkg%2Bn5ckpVKpkoxXPV2SYfCLy%2Bfzqq6uDnXOwMqQZbFY1P7%2BvuLxuIIgCHt6XDNmpnw%2Br2QyqYqKcO8KyhIIcF1wkw44CARwEAh%2B2urqqgYGBpRMJhUEgV69enXpMcxMU1NTam5uVjQaVSqV0uTk5BWs9nLK8isWbpbDw0O1t7drdHRUT548%2BaExxsbGtLy8rKmpKbW1tenLly/KZrMlXukPMKCEJNni4uKZ9wqFgr18%2BdKSyaTdunXLenp6LJPJnG5/9%2B6dRSIR29jYCHm1/4%2BvWLhyo6OjWltb08LCgtbX1zU0NKS%2Bvj5tbW1Jkl6/fq379%2B9raWlJjY2Namho0LNnz/T58%2Bcyr1xcQVBa%2Bs8VZHt724IgsL29vTP7PXr0yMbHx83M7Pnz5xaNRu3Bgwe2urpqmUzGOjo6LJ1Oh7r2i3APgiv19u1bmZmam5vPvF8oFHT79m1J3x8cFwoFzc/Pn%2B43Nzenrq4ubW5uqqWlJfR1nyAQXKlisajKykq9efNGlZWVZ7bFYjFJ0p07dxSJRM5E1NraKkn68OEDgeDm6uzs1PHxsQ4ODtTb23vhPg8fPtTR0ZF2dnbU1NQkSXr//r0k6d69e6Gt9SL81QQ/7evXr9re3pb0PYiZmRml02nV1NTo7t27Gh4e1tramqanp9XZ2alsNquVlRW1tbWpv79fxWJR3d3disVimp2dVbFY1IsXL5RIJLS8vFzegyvzPRBugEwmY5LOvUZGRszM7Nu3bzYxMWENDQ1WVVVldXV1Njg4aOvr66dj7O3t2ePHjy0Wi1ltba09ffrUPn36VKYj%2BhdXEMDBcxDAQSCAg0AAB4EADgIBHAQCOAgEcBAI4CAQwEEggONv1BDSIaNwAtIAAAAASUVORK5CYII%3D\">\n",
       "\n",
       "</div>\n",
       "<div class=\"col-md-12 text-right\">\n",
       "    <a role=\"button\" data-toggle=\"collapse\" data-target=\"#descriptives5120298757736022983,#minihistogram5120298757736022983\"\n",
       "       aria-expanded=\"false\" aria-controls=\"collapseExample\">\n",
       "        Toggle details\n",
       "    </a>\n",
       "</div>\n",
       "<div class=\"row collapse col-md-12\" id=\"descriptives5120298757736022983\">\n",
       "    <ul class=\"nav nav-tabs\" role=\"tablist\">\n",
       "        <li role=\"presentation\" class=\"active\"><a href=\"#quantiles5120298757736022983\"\n",
       "                                                  aria-controls=\"quantiles5120298757736022983\" role=\"tab\"\n",
       "                                                  data-toggle=\"tab\">Statistics</a></li>\n",
       "        <li role=\"presentation\"><a href=\"#histogram5120298757736022983\" aria-controls=\"histogram5120298757736022983\"\n",
       "                                   role=\"tab\" data-toggle=\"tab\">Histogram</a></li>\n",
       "        <li role=\"presentation\"><a href=\"#common5120298757736022983\" aria-controls=\"common5120298757736022983\"\n",
       "                                   role=\"tab\" data-toggle=\"tab\">Common Values</a></li>\n",
       "        <li role=\"presentation\"><a href=\"#extreme5120298757736022983\" aria-controls=\"extreme5120298757736022983\"\n",
       "                                   role=\"tab\" data-toggle=\"tab\">Extreme Values</a></li>\n",
       "\n",
       "    </ul>\n",
       "\n",
       "    <div class=\"tab-content\">\n",
       "        <div role=\"tabpanel\" class=\"tab-pane active row\" id=\"quantiles5120298757736022983\">\n",
       "            <div class=\"col-md-4 col-md-offset-1\">\n",
       "                <p class=\"h4\">Quantile statistics</p>\n",
       "                <table class=\"stats indent\">\n",
       "                    <tr>\n",
       "                        <th>Minimum</th>\n",
       "                        <td>0</td>\n",
       "                    </tr>\n",
       "                    <tr>\n",
       "                        <th>5-th percentile</th>\n",
       "                        <td>1</td>\n",
       "                    </tr>\n",
       "                    <tr>\n",
       "                        <th>Q1</th>\n",
       "                        <td>5</td>\n",
       "                    </tr>\n",
       "                    <tr>\n",
       "                        <th>Median</th>\n",
       "                        <td>31</td>\n",
       "                    </tr>\n",
       "                    <tr>\n",
       "                        <th>Q3</th>\n",
       "                        <td>236</td>\n",
       "                    </tr>\n",
       "                    <tr>\n",
       "                        <th>95-th percentile</th>\n",
       "                        <td>3739</td>\n",
       "                    </tr>\n",
       "                    <tr>\n",
       "                        <th>Maximum</th>\n",
       "                        <td>5916464</td>\n",
       "                    </tr>\n",
       "                    <tr>\n",
       "                        <th>Range</th>\n",
       "                        <td>5916464</td>\n",
       "                    </tr>\n",
       "                    <tr>\n",
       "                        <th>Interquartile range</th>\n",
       "                        <td>231</td>\n",
       "                    </tr>\n",
       "                </table>\n",
       "            </div>\n",
       "            <div class=\"col-md-4 col-md-offset-2\">\n",
       "                <p class=\"h4\">Descriptive statistics</p>\n",
       "                <table class=\"stats indent\">\n",
       "                    <tr>\n",
       "                        <th>Standard deviation</th>\n",
       "                        <td>59509</td>\n",
       "                    </tr>\n",
       "                    <tr>\n",
       "                        <th>Coef of variation</th>\n",
       "                        <td>23.552</td>\n",
       "                    </tr>\n",
       "                    <tr>\n",
       "                        <th>Kurtosis</th>\n",
       "                        <td>5058.3</td>\n",
       "                    </tr>\n",
       "                    <tr>\n",
       "                        <th>Mean</th>\n",
       "                        <td>2526.7</td>\n",
       "                    </tr>\n",
       "                    <tr>\n",
       "                        <th>MAD</th>\n",
       "                        <td>4365.7</td>\n",
       "                    </tr>\n",
       "                    <tr class=\"alert\">\n",
       "                        <th>Skewness</th>\n",
       "                        <td>66.103</td>\n",
       "                    </tr>\n",
       "                    <tr>\n",
       "                        <th>Sum</th>\n",
       "                        <td>626974341</td>\n",
       "                    </tr>\n",
       "                    <tr>\n",
       "                        <th>Variance</th>\n",
       "                        <td>3541300000</td>\n",
       "                    </tr>\n",
       "                    <tr>\n",
       "                        <th>Memory size</th>\n",
       "                        <td>1.9 MiB</td>\n",
       "                    </tr>\n",
       "                </table>\n",
       "            </div>\n",
       "        </div>\n",
       "        <div role=\"tabpanel\" class=\"tab-pane col-md-8 col-md-offset-2\" id=\"histogram5120298757736022983\">\n",
       "            <img src=\"data:image/png;base64,iVBORw0KGgoAAAANSUhEUgAAAlgAAAGQCAYAAAByNR6YAAAABHNCSVQICAgIfAhkiAAAAAlwSFlzAAAPYQAAD2EBqD%2BnaQAAADh0RVh0U29mdHdhcmUAbWF0cGxvdGxpYiB2ZXJzaW9uMy4yLjEsIGh0dHA6Ly9tYXRwbG90bGliLm9yZy%2Bj8jraAAAgAElEQVR4nO3df1RVdb7/8dcJ5IQEZ1ACPGXGrXQ0qCloFK3UTNQEs%2B7NuowkZdxamsoAqxmne9e1rkk/FJvRm/24Lc2yaJqiW9ciyBKHlFKSEjNz%2BgUqiBUehLEDwf7%2B4bi/c8SUM33wgD4fa%2B21PHu/z97v85nV4jWf/cthWZYlAAAAGHNGoBsAAAA41RCwAAAADCNgAQAAGEbAAgAAMIyABQAAYBgBCwAAwDACFgAAgGEELAAAAMMIWAAAAIYRsAAAAAwjYAEAABhGwAIAADCMgAUAAGAYAQsAAMAwAhYAAIBhBCwAAADDCFgAAACGEbAAAAAMI2ABAAAYRsACAAAwjIAFAABgGAELAADAMAIWAACAYQQsAAAAwwhYAAAAhhGwAAAADCNgAQAAGEbAAgAAMIyABQAAYBgBCwAAwDACFgAAgGEELAAAAMMIWAAAAIYRsAAAAAwjYAEAABhGwAIAADCMgAUAAGAYAQsAAMCw4EA3cDro6OjQ3r17FR4eLofDEeh2AAA4LViWpYMHD8rtduuMM07unBIB6yTYu3evBg4cGOg2AAA4LdXW1urcc889qcckYJ0E4eHhkg7/DxwRERHgbgAAOD00NTVp4MCB9t/hk4mAdRIcOS0YERFBwAIA4CQLxOU5XOQOAABgGAELAADAMAIWAACAYQQsAAAAwwhYAAAAhp30gJWfn68rrrhC4eHhio6O1tSpU7Vz506fmszMTDkcDp9lxIgRPjVer1dz5sxRVFSUwsLCNGXKFO3evdunprGxURkZGXK5XHK5XMrIyNCBAwd8ampqapSWlqawsDBFRUVp7ty5am1t9anZtm2bRo8erdDQUJ1zzjm6//77ZVmWwVEBAACnkpMesMrKyjR79mxVVFSotLRUP/zwg1JSUtTS0uJTN3HiRNXV1dnLG2%2B84bM9OztbRUVFKiwsVHl5uZqbm5Wamqr29na7Jj09XVVVVSouLlZxcbGqqqqUkZFhb29vb9fkyZPV0tKi8vJyFRYW6uWXX1Zubq5d09TUpPHjx8vtdmvz5s1atmyZFi9erIKCgm4aIQAA0OtZAdbQ0GBJssrKyux1M2bMsK6//vof/c6BAwesPn36WIWFhfa6PXv2WGeccYZVXFxsWZZlffLJJ5Ykq6Kiwq7ZtGmTJcn69NNPLcuyrDfeeMM644wzrD179tg1L7zwguV0Oi2Px2NZlmU99thjlsvlsr7//nu7Jj8/33K73VZHR0eXfqPH47Ek2fsEAADdL5B/fwN%2BDZbH45Ek9evXz2f9%2BvXrFR0drcGDBysrK0sNDQ32tsrKSrW1tSklJcVe53a7FR8fr40bN0qSNm3aJJfLpeHDh9s1I0aMkMvl8qmJj4%2BX2%2B22ayZMmCCv16vKykq7ZvTo0XI6nT41e/fu1VdffWVoFAAAwKkkoAHLsizl5OToyiuvVHx8vL1%2B0qRJWrNmjd555x0tWbJEmzdv1jXXXCOv1ytJqq%2BvV0hIiCIjI332FxMTo/r6ersmOjq60zGjo6N9amJiYny2R0ZGKiQk5Lg1Rz4fqTma1%2BtVU1OTzwIAAE4fAX1Vzt13362PP/5Y5eXlPutvvvlm%2B9/x8fFKSkrSoEGDtHbtWt14440/uj/Lsnweh3%2BsR%2BObqLH%2BdoH7jz16Pz8/X/fdd9%2BP9gkAAE5tAZvBmjNnjl577TW9%2B%2B67J3zD9YABAzRo0CDt2rVLkhQbG6vW1lY1Njb61DU0NNizS7Gxsdq3b1%2Bnfe3fv9%2Bn5uhZqMbGRrW1tR235sjpyqNnto6YP3%2B%2BPB6PvdTW1h739wEAgFPLSZ/BsixLc%2BbMUVFRkdavX6%2B4uLgTfufbb79VbW2tBgwYIElKTExUnz59VFpaqmnTpkmS6urqVF1drYcffliSlJycLI/How8%2B%2BEC//OUvJUnvv/%2B%2BPB6PRo4cadc88MADqqurs/ddUlIip9OpxMREu%2BZ3v/udWltbFRISYte43W6df/75x%2BzX6XT6XLPVnZLuLT4pxzFhywMTA90CAAAnxUmfwZo9e7aee%2B45Pf/88woPD1d9fb3q6%2Bt16NAhSVJzc7Py8vK0adMmffXVV1q/fr3S0tIUFRWlG264QZLkcrk0c%2BZM5ebmat26ddq6daumT5%2BuhIQEXXvttZKkoUOHauLEicrKylJFRYUqKiqUlZWl1NRUDRkyRJKUkpKiYcOGKSMjQ1u3btW6deuUl5enrKwsRURESDr8qAen06nMzExVV1erqKhIixYtUk5OTkDezg0AAHq%2Bkx6wVqxYIY/HozFjxmjAgAH28uKLL0qSgoKCtG3bNl1//fUaPHiwZsyYocGDB2vTpk0KDw%2B397N06VJNnTpV06ZN06hRo9S3b1%2B9/vrrCgoKsmvWrFmjhIQEpaSkKCUlRZdccomeffZZe3tQUJDWrl2rM888U6NGjdK0adM0depULV682K5xuVwqLS3V7t27lZSUpFmzZiknJ0c5OTknYbQAAEBv5LAsHkne3ZqamuRyueTxeOyZMVM4RQgAwLF159/fEwn4c7AAAABONQQsAAAAwwhYAAAAhhGwAAAADCNgAQAAGEbAAgAAMIyABQAAYBgBCwAAwDACFgAAgGEELAAAAMMIWAAAAIYRsAAAAAwjYAEAABhGwAIAADCMgAUAAGAYAQsAAMAwAhYAAIBhBCwAAADDCFgAAACGEbAAAAAMI2ABAAAYRsACAAAwjIAFAABgGAELAADAMAIWAACAYQQsAAAAwwhYAAAAhhGwAAAADCNgAQAAGEbAAgAAMIyABQAAYBgBCwAAwDACFgAAgGEELAAAAMMIWAAAAIYRsAAAAAwjYAEAABhGwAIAADCMgAUAAGAYAQsAAMAwAhYAAIBhBCwAAADDCFgAAACGEbAAAAAMI2ABAAAYRsACAAAwjIAFAABgGAELAADAMAIWAACAYQQsAAAAwwhYAAAAhp30gJWfn68rrrhC4eHhio6O1tSpU7Vz506fGsuytGDBArndboWGhmrMmDHavn27T43X69WcOXMUFRWlsLAwTZkyRbt37/apaWxsVEZGhlwul1wulzIyMnTgwAGfmpqaGqWlpSksLExRUVGaO3euWltbfWq2bdum0aNHKzQ0VOecc47uv/9%2BWZZlcFQAAMCp5KQHrLKyMs2ePVsVFRUqLS3VDz/8oJSUFLW0tNg1Dz/8sAoKCrR8%2BXJt3rxZsbGxGj9%2BvA4ePGjXZGdnq6ioSIWFhSovL1dzc7NSU1PV3t5u16Snp6uqqkrFxcUqLi5WVVWVMjIy7O3t7e2aPHmyWlpaVF5ersLCQr388svKzc21a5qamjR%2B/Hi53W5t3rxZy5Yt0%2BLFi1VQUNDNIwUAAHorhxXgqZj9%2B/crOjpaZWVluvrqq2VZltxut7Kzs/Wb3/xG0uHZqpiYGD300EO688475fF4dPbZZ%2BvZZ5/VzTffLEnau3evBg4cqDfeeEMTJkzQjh07NGzYMFVUVGj48OGSpIqKCiUnJ%2BvTTz/VkCFD9Oabbyo1NVW1tbVyu92SpMLCQmVmZqqhoUERERFasWKF5s%2Bfr3379snpdEqSHnzwQS1btky7d%2B%2BWw%2BE44W9samqSy%2BWSx%2BNRRESE0fFLurfY6P6605YHJga6BQDAaaQ7//6eSMCvwfJ4PJKkfv36SZK%2B/PJL1dfXKyUlxa5xOp0aPXq0Nm7cKEmqrKxUW1ubT43b7VZ8fLxds2nTJrlcLjtcSdKIESPkcrl8auLj4%2B1wJUkTJkyQ1%2BtVZWWlXTN69Gg7XB2p2bt3r7766qtj/iav16umpiafBQAAnD4CGrAsy1JOTo6uvPJKxcfHS5Lq6%2BslSTExMT61MTEx9rb6%2BnqFhIQoMjLyuDXR0dGdjhkdHe1Tc/RxIiMjFRISctyaI5%2BP1BwtPz/fvu7L5XJp4MCBJxgJAABwKglowLr77rv18ccf64UXXui07ehTb5ZlnfB03NE1x6o3UXPkrOqP9TN//nx5PB57qa2tPW7fAADg1BKwgDVnzhy99tprevfdd3Xuuefa62NjYyV1nh1qaGiwZ45iY2PV2tqqxsbG49bs27ev03H379/vU3P0cRobG9XW1nbcmoaGBkmdZ9mOcDqdioiI8FkAAMDp46QHLMuydPfdd%2BuVV17RO%2B%2B8o7i4OJ/tcXFxio2NVWlpqb2utbVVZWVlGjlypCQpMTFRffr08ampq6tTdXW1XZOcnCyPx6MPPvjArnn//ffl8Xh8aqqrq1VXV2fXlJSUyOl0KjEx0a7ZsGGDz6MbSkpK5Ha7df755xsaFQAAcCo56QFr9uzZeu655/T8888rPDxc9fX1qq%2Bv16FDhyQdPu2WnZ2tRYsWqaioSNXV1crMzFTfvn2Vnp4uSXK5XJo5c6Zyc3O1bt06bd26VdOnT1dCQoKuvfZaSdLQoUM1ceJEZWVlqaKiQhUVFcrKylJqaqqGDBkiSUpJSdGwYcOUkZGhrVu3at26dcrLy1NWVpY965Seni6n06nMzExVV1erqKhIixYtUk5OTpfuIAQAAKef4JN9wBUrVkiSxowZ47N%2B5cqVyszMlCTdc889OnTokGbNmqXGxkYNHz5cJSUlCg8Pt%2BuXLl2q4OBgTZs2TYcOHdK4ceO0atUqBQUF2TVr1qzR3Llz7bsNp0yZouXLl9vbg4KCtHbtWs2aNUujRo1SaGio0tPTtXjxYrvG5XKptLRUs2fPVlJSkiIjI5WTk6OcnBzTQwMAAE4RAX8O1umA52AdxnOwAAAn02n9HCwAAIBTDQELAADAMAIWAACAYQQsAAAAwwhYAAAAhhGwAAAADCNgAQAAGEbAAgAAMIyABQAAYBgBCwAAwDACFgAAgGEELAAAAMMIWAAAAIYRsAAAAAwjYAEAABhGwAIAADCMgAUAAGAYAQsAAMAwAhYAAIBhBCwAAADDCFgAAACGEbAAAAAMI2ABAAAYRsACAAAwjIAFAABgGAELAADAMAIWAACAYQQsAAAAwwhYAAAAhhGwAAAADCNgAQAAGEbAAgAAMIyABQAAYBgBCwAAwDACFgAAgGEELAAAAMMIWAAAAIYRsAAAAAwjYAEAABhGwAIAADCMgAUAAGAYAQsAAMAwAhYAAIBhBCwAAADDCFgAAACGEbAAAAAM8ytgffnll93VBwAAwCnDr4B14YUXauzYsXruuef0/fffd1dPAAAAvZpfAeujjz7SZZddptzcXMXGxurOO%2B/UBx980F29AQAA9Ep%2BBaz4%2BHgVFBRoz549Wrlyperr63XllVfq4osvVkFBgfbv399dfQIAAPQa/9BF7sHBwbrhhhv0xz/%2BUQ899JA%2B//xz5eXl6dxzz9Wtt96qurq6435/w4YNSktLk9vtlsPh0KuvvuqzPTMzUw6Hw2cZMWKET43X69WcOXMUFRWlsLAwTZkyRbt37/apaWxsVEZGhlwul1wulzIyMnTgwAGfmpqaGqWlpSksLExRUVGaO3euWltbfWq2bdum0aNHKzQ0VOecc47uv/9%2BWZbl77ABAIDTxD8UsLZs2aJZs2ZpwIABKigoUF5enj7//HO988472rNnj66//vrjfr%2BlpUWXXnqpli9f/qM1EydOVF1dnb288cYbPtuzs7NVVFSkwsJClZeXq7m5WampqWpvb7dr0tPTVVVVpeLiYhUXF6uqqkoZGRn29vb2dk2ePFktLS0qLy9XYWGhXn75ZeXm5to1TU1NGj9%2BvNxutzZv3qxly5Zp8eLFKigo8HfYAADAaSLYn%2BKCggKtXLlSO3fu1HXXXafVq1fruuuu0xlnHM5pcXFxeuKJJ/Tzn//8uPuZNGmSJk2adNwap9Op2NjYY27zeDx6%2Bumn9eyzz%2Braa6%2BVJD333HMaOHCg3n77bU2YMEE7duxQcXGxKioqNHz4cEnSU089peTkZO3cuVNDhgxRSUmJPvnkE9XW1srtdkuSlixZoszMTD3wwAOKiIjQmjVr9P3332vVqlVyOp2Kj4/XZ599poKCAuXk5MjhcPgzhAAA4DTg1wzWihUrlJ6erpqaGr366qtKTU21w9UR5513np5%2B%2Bumf3Nj69esVHR2twYMHKysrSw0NDfa2yspKtbW1KSUlxV7ndrsVHx%2BvjRs3SpI2bdokl8tlhytJGjFihFwul09NfHy8Ha4kacKECfJ6vaqsrLRrRo8eLafT6VOzd%2B9effXVVz/5dwIAgFOPXzNYu3btOmFNSEiIZsyY8Q83JB2e4brppps0aNAgffnll/qP//gPXXPNNaqsrJTT6VR9fb1CQkIUGRnp872YmBjV19dLkurr6xUdHd1p39HR0T41MTExPtsjIyMVEhLiU3P%2B%2Bed3Os6RbXFxcZ2O4fV65fV67c9NTU1%2BjgAAAOjN/ApYK1eu1FlnnaWbbrrJZ/1LL72kv/71rz85WB1x88032/%2BOj49XUlKSBg0apLVr1%2BrGG2/80e9ZluVzyu5Yp%2B9M1By5wP3HTg/m5%2Bfrvvvu%2B9E%2BAQDAqc2vU4QPPvigoqKiOq2Pjo7WokWLjDV1tAEDBmjQoEH2DFpsbKxaW1vV2NjoU9fQ0GDPLsXGxmrfvn2d9rV//36fmiMzVUc0Njaqra3tuDVHTlcePft1xPz58%2BXxeOyltrbW358MAAB6Mb8C1tdff33MU2KDBg1STU2NsaaO9u2336q2tlYDBgyQJCUmJqpPnz4qLS21a%2Brq6lRdXa2RI0dKkpKTk%2BXxeHwehPr%2B%2B%2B/L4/H41FRXV/s8VqKkpEROp1OJiYl2zYYNG3we3VBSUiK3293p1OERTqdTERERPgsAADh9%2BBWwoqOj9fHHH3da/9FHH6l///5d3k9zc7OqqqpUVVUl6fA7DquqqlRTU6Pm5mbl5eVp06ZN%2Buqrr7R%2B/XqlpaUpKipKN9xwgyTJ5XJp5syZys3N1bp167R161ZNnz5dCQkJ9l2FQ4cO1cSJE5WVlaWKigpVVFQoKytLqampGjJkiCQpJSVFw4YNU0ZGhrZu3ap169YpLy9PWVlZdihKT0%2BX0%2BlUZmamqqurVVRUpEWLFnEHIQAA%2BFF%2BXYN1yy23aO7cuQoPD9fVV18tSSorK9O8efN0yy23dHk/W7Zs0dixY%2B3POTk5kqQZM2ZoxYoV2rZtm1avXq0DBw5owIABGjt2rF588UWFh4fb31m6dKmCg4M1bdo0HTp0SOPGjdOqVasUFBRk16xZs0Zz58617zacMmWKz7O3goKCtHbtWs2aNUujRo1SaGio0tPTtXjxYrvG5XKptLRUs2fPVlJSkiIjI5WTk2P3DAAAcDSH5ccjyVtbW5WRkaGXXnpJwcGHs1lHR4duvfVWPf744woJCem2RnuzpqYmuVwueTwe46cLk%2B4tNrq/7rTlgYmBbgEAcBrpzr%2B/J%2BLXDFZISIhefPFF/dd//Zc%2B%2BugjhYaGKiEhQYMGDequ/gAAAHodvwLWEYMHD9bgwYNN9wIAAHBK8Ctgtbe3a9WqVVq3bp0aGhrU0dHhs/2dd94x2hwAAEBv5FfAmjdvnlatWqXJkycrPj6eu%2BgAAACOwa%2BAVVhYqD/%2B8Y%2B67rrruqsfAACAXs%2Bv52CFhITowgsv7K5eAAAATgl%2BBazc3Fz9/ve/lx9PdgAAADjt%2BHWKsLy8XO%2B%2B%2B67efPNNXXzxxerTp4/P9ldeecVocwAAAL2RXwHrZz/7mf26GgAAABybXwFr5cqV3dUHAADAKcOva7Ak6YcfftDbb7%2BtJ554QgcPHpQk7d27V83NzcabAwAA6I38msH6%2BuuvNXHiRNXU1Mjr9Wr8%2BPEKDw/Xww8/rO%2B//16PP/54d/UJAADQa/g1gzVv3jwlJSWpsbFRoaGh9vobbrhB69atM94cAABAb%2BT3XYTvvfeeQkJCfNYPGjRIe/bsMdoYAABAb%2BXXDFZHR4fa29s7rd%2B9e7fCw8ONNQUAANCb%2BRWwxo8fr0cffdT%2B7HA41NzcrP/8z//k9TkAAAB/49cpwqVLl2rs2LEaNmyYvv/%2Be6Wnp2vXrl2KiorSCy%2B80F09AgAA9Cp%2BBSy3262qqiq98MIL%2BvDDD9XR0aGZM2fqV7/6lc9F7wAAAKczvwKWJIWGhur222/X7bff3h39AAAA9Hp%2BBazVq1cfd/utt976k5oBAAA4FfgVsObNm%2Bfzua2tTX/9618VEhKivn37ErAAAADk512EjY2NPktzc7N27typK6%2B8kovcAQAA/sbvdxEe7aKLLtKDDz7YaXYLAADgdPWTA5YkBQUFae/evSZ2BQAA0Ov5dQ3Wa6%2B95vPZsizV1dVp%2BfLlGjVqlNHGAAAAeiu/AtbUqVN9PjscDp199tm65pprtGTJEqONAQAA9FZ%2BBayOjo7u6gMAAOCUYeQaLAAAAPx/fs1g5eTkdLm2oKDA72YAAABOBX4FrK1bt%2BrDDz/UDz/8oCFDhkiSPvvsMwUFBenyyy%2B36xwOh9kuAQAAehG/AlZaWprCw8P1zDPPKDIyUtLhh4/edtttuuqqq5Sbm9stTQIAAPQmfl2DtWTJEuXn59vhSpIiIyO1cOFC7iIEAAD4G78CVlNTk/bt29dpfUNDgw4ePGisKQAAgN7Mr4B1ww036LbbbtOf/vQn7d69W7t379af/vQnzZw5UzfeeGN39QgAANCr%2BHUN1uOPP668vDxNnz5dbW1th3cQHKyZM2fqkUce6ZYGAQAAehu/Albfvn312GOP6ZFHHtHnn38uy7J04YUXKiwsrLv6AwAA6HX%2BoQeN1tXVqa6uToMHD1ZYWJgsyzLdFwAAQK/lV8D69ttvNW7cOA0ePFjXXXed6urqJEl33HEHj2gAAAD4G78C1q9//Wv16dNHNTU16tu3r73%2B5ptvVnFxsfHmAAAAeiO/rsEqKSnRW2%2B9pXPPPddn/UUXXaSvv/7aaGMAAAC9lV8zWC0tLT4zV0d88803cjqdxpoCAADozfwKWFdffbVWr15tf3Y4HOro6NAjjzyisWPHGm8OAACgN/LrFOEjjzyiMWPGaMuWLWptbdU999yj7du367vvvtN7773XXT0CAAD0Kn7NYA0bNkwff/yxfvnLX2r8%2BPFqaWnRjTfeqK1bt%2BqCCy7orh4BAAB6lS7PYLW1tSklJUVPPPGE7rvvvu7sCQAAoFfr8gxWnz59VF1dLYfD0Z39AAAA9Hp%2BnSK89dZb9fTTT3dXLwAAAKcEvy5yb21t1f/8z/%2BotLRUSUlJnd5BWFBQYLQ5AACA3qhLAeuLL77Q%2Beefr%2Brqal1%2B%2BeWSpM8%2B%2B8ynhlOHAAAAh3UpYF100UWqq6vTu%2B%2B%2BK%2Bnwq3H%2B8Ic/KCYmplubAwAA6I26dA2WZVk%2Bn9988021tLR0S0MAAAC9nV8XuR9xdODy14YNG5SWlia32y2Hw6FXX3210/4XLFggt9ut0NBQjRkzRtu3b/ep8Xq9mjNnjqKiohQWFqYpU6Zo9%2B7dPjWNjY3KyMiQy%2BWSy%2BVSRkaGDhw44FNTU1OjtLQ0hYWFKSoqSnPnzlVra6tPzbZt2zR69GiFhobqnHPO0f333/%2BTxwAAAJy6uhSwHA5Hp2usfso1Vy0tLbr00ku1fPnyY25/%2BOGHVVBQoOXLl2vz5s2KjY3V%2BPHjdfDgQbsmOztbRUVFKiwsVHl5uZqbm5Wamqr29na7Jj09XVVVVSouLlZxcbGqqqqUkZFhb29vb9fkyZPV0tKi8vJyFRYW6uWXX1Zubq5d09TUpPHjx8vtdmvz5s1atmyZFi9ezAX9AADgRzmsLkzFnHHGGZo0aZL9QufXX39d11xzTae7CF955RX/G3A4VFRUpKlTp0o6PHvldruVnZ2t3/zmN5IOz1bFxMTooYce0p133imPx6Ozzz5bzz77rG6%2B%2BWZJ0t69ezVw4EC98cYbmjBhgnbs2KFhw4apoqJCw4cPlyRVVFQoOTlZn376qYYMGaI333xTqampqq2tldvtliQVFhYqMzNTDQ0NioiI0IoVKzR//nzt27fP/v0PPvigli1bpt27d3cpaDY1Ncnlcsnj8SgiIsLvMTqepHuLje6vO215YGKgWwAAnEa68%2B/viXRpBmvGjBmKjo62T7VNnz5dbrfb/nxkMeHLL79UfX29UlJS7HVOp1OjR4/Wxo0bJUmVlZX2k%2BWPcLvdio%2BPt2s2bdokl8tlhytJGjFihFwul09NfHy8Ha4kacKECfJ6vaqsrLRrRo8ebYerIzV79%2B7VV199dczf4PV61dTU5LMAAIDTR5fuIly5cmV392Grr6%2BXpE53KMbExOjrr7%2B2a0JCQhQZGdmp5sj36%2BvrFR0d3Wn/0dHRPjVHHycyMlIhISE%2BNeeff36n4xzZFhcX1%2BkY%2Bfn5vE4IAIDT2D90kfvJcPSpN8uyTng67uiaY9WbqDlyVvXH%2Bpk/f748Ho%2B91NbWHrdvAABwaulxASs2NlbS/5/JOqKhocGeOYqNjVVra6saGxuPW7Nv375O%2B9%2B/f79PzdHHaWxsVFtb23FrGhoaJHWeZTvC6XQqIiLCZwEAAKePHhew4uLiFBsbq9LSUntda2urysrKNHLkSElSYmKi%2BvTp41NTV1en6upquyY5OVkej0cffPCBXfP%2B%2B%2B/L4/H41FRXV6uurs6uKSkpkdPpVGJiol2zYcMGn0c3lJSUyO12dzp1CAAAIAUoYDU3N6uqqkpVVVWSDl/YXlVVpZqaGjkcDmVnZ2vRokUqKipSdXW1MjMz1bdvX6Wnp0uSXC6XZs6cqdzcXK1bt05bt27V9OnTlZCQoGuvvVaSNHToUE2cOFFZWVmqqKhQRUWFsrKylJqaqiFDhkiSUlJSNGzYMGVkZGjr1q1at26d8vLylJWVZc86paeny%2Bl0KjMzU9XV1SoqKtKiRYuUk5PD64EAAMAx%2BfWyZ1O2bNmisWPH2p9zcnIkHb5bcdWqVbrnnnt06NAhzZo1S42NjRo%2BfLhKSkoUHh5uf2fp0qUKDg7WtGnTdOjQIY0bN06rVq1SUFCQXbNmzRrNnff935YAABHmSURBVDvXvttwypQpPs/eCgoK0tq1azVr1iyNGjVKoaGhSk9P1%2BLFi%2B0al8ul0tJSzZ49W0lJSYqMjFROTo7dMwAAwNG69Bws/DQ8B%2BswnoMFADiZevxzsAAAANB1BCwAAADDCFgAAACGEbAAAAAMI2ABAAAYRsACAAAwjIAFAABgGAELAADAMAIWAACAYQQsAAAAwwhYAAAAhhGwAAAADCNgAQAAGEbAAgAAMIyABQAAYBgBCwAAwDACFgAAgGEELAAAAMMIWAAAAIYRsAAAAAwjYAEAABhGwAIAADCMgAUAAGAYAQsAAMAwAhYAAIBhBCwAAADDCFgAAACGEbAAAAAMI2ABAAAYRsACAAAwjIAFAABgGAELAADAMAIWAACAYQQsAAAAwwhYAAAAhhGwAAAADCNgAQAAGEbAAgAAMIyABQAAYBgBCwAAwDACFgAAgGEELAAAAMMIWAAAAIYRsAAAAAwjYAEAABhGwAIAADCMgAUAAGAYAQsAAMAwAhYAAIBhBCwAAADDemTAWrBggRwOh88SGxtrb7csSwsWLJDb7VZoaKjGjBmj7du3%2B%2BzD6/Vqzpw5ioqKUlhYmKZMmaLdu3f71DQ2NiojI0Mul0sul0sZGRk6cOCAT01NTY3S0tIUFhamqKgozZ07V62trd334wEAQK/XIwOWJF188cWqq6uzl23bttnbHn74YRUUFGj58uXavHmzYmNjNX78eB08eNCuyc7OVlFRkQoLC1VeXq7m5malpqaqvb3drklPT1dVVZWKi4tVXFysqqoqZWRk2Nvb29s1efJktbS0qLy8XIWFhXr55ZeVm5t7cgYBAAD0SsGBbuDHBAcH%2B8xaHWFZlh599FHde%2B%2B9uvHGGyVJzzzzjGJiYvT888/rzjvvlMfj0dNPP61nn31W1157rSTpueee08CBA/X2229rwoQJ2rFjh4qLi1VRUaHhw4dLkp566iklJydr586dGjJkiEpKSvTJJ5%2BotrZWbrdbkrRkyRJlZmbqgQceUERExEkaDQAA0Jv02BmsXbt2ye12Ky4uTrfccou%2B%2BOILSdKXX36p%2Bvp6paSk2LVOp1OjR4/Wxo0bJUmVlZVqa2vzqXG73YqPj7drNm3aJJfLZYcrSRoxYoRcLpdPTXx8vB2uJGnChAnyer2qrKzsvh8PAAB6tR45gzV8%2BHCtXr1agwcP1r59%2B7Rw4UKNHDlS27dvV319vSQpJibG5zsxMTH6%2BuuvJUn19fUKCQlRZGRkp5oj36%2Bvr1d0dHSnY0dHR/vUHH2cyMhIhYSE2DXH4vV65fV67c9NTU1d/ekAAOAU0CMD1qRJk%2Bx/JyQkKDk5WRdccIGeeeYZjRgxQpLkcDh8vmNZVqd1Rzu65lj1/0jN0fLz83XfffcdtxcAAHDq6rGnCP9eWFiYEhIStGvXLvu6rKNnkBoaGuzZptjYWLW2tqqxsfG4Nfv27et0rP379/vUHH2cxsZGtbW1dZrZ%2Bnvz58%2BXx%2BOxl9raWj9/MQAA6M16RcDyer3asWOHBgwYoLi4OMXGxqq0tNTe3traqrKyMo0cOVKSlJiYqD59%2BvjU1NXVqbq62q5JTk6Wx%2BPRBx98YNe8//778ng8PjXV1dWqq6uza0pKSuR0OpWYmPij/TqdTkVERPgsAADg9NEjTxHm5eUpLS1N5513nhoaGrRw4UI1NTVpxowZcjgcys7O1qJFi3TRRRfpoosu0qJFi9S3b1%2Blp6dLklwul2bOnKnc3Fz1799f/fr1U15enhISEuy7CocOHaqJEycqKytLTzzxhCTp3/7t35SamqohQ4ZIklJSUjRs2DBlZGTokUce0Xfffae8vDxlZWURmgAAwI/qkQFr9%2B7d%2Btd//Vd98803OvvsszVixAhVVFRo0KBBkqR77rlHhw4d0qxZs9TY2Kjhw4erpKRE4eHh9j6WLl2q4OBgTZs2TYcOHdK4ceO0atUqBQUF2TVr1qzR3Llz7bsNp0yZouXLl9vbg4KCtHbtWs2aNUujRo1SaGio0tPTtXjx4pM0EgAAoDdyWJZlBbqJU11TU5NcLpc8Ho/xma%2Bke4uN7q87bXlgYqBbAACcRrrz7%2B%2BJ9IprsAAAAHoTAhYAAIBhBCwAAADDCFgAAACGEbAAAAAMI2ABAAAYRsACAAAwjIAFAABgGAELAADAMAIWAACAYQQsAAAAwwhYAAAAhhGwAAAADCNgAQAAGEbAAgAAMIyABQAAYBgBCwAAwDACFgAAgGEELAAAAMMIWAAAAIYRsAAAAAwjYAEAABhGwAIAADCMgAUAAGAYAQsAAMAwAhYAAIBhBCwAAADDCFgAAACGEbAAAAAMI2ABAAAYRsACAAAwjIAFAABgGAELAADAMAIWAACAYQQsAAAAwwhYAAAAhhGwAAAADCNgAQAAGEbAAgAAMIyABQAAYBgBCwAAwDACFgAAgGEELAAAAMMIWAAAAIYRsAAAAAwjYAEAABhGwAIAADCMgAUAAGAYAQsAAMAwAhYAAIBhBCwAAADDCFhd9NhjjykuLk5nnnmmEhMT9ec//znQLQEAgB6KgNUFL774orKzs3Xvvfdq69atuuqqqzRp0iTV1NQEujUAANADEbC6oKCgQDNnztQdd9yhoUOH6tFHH9XAgQO1YsWKQLcGAAB6oOBAN9DTtba2qrKyUr/97W991qekpGjjxo3H/I7X65XX67U/ezweSVJTU5Px/tq9Lcb32V264/cDAPBjjvzdsSzrpB%2BbgHUC33zzjdrb2xUTE%2BOzPiYmRvX19cf8Tn5%2Bvu67775O6wcOHNgtPfYWriWB7gAAcDo6ePCgXC7XST0mAauLHA6Hz2fLsjqtO2L%2B/PnKycmxP3d0dOi7775T//79f/Q7/4impiYNHDhQtbW1ioiIMLbfUw3jdGKMUdcwTl3DOHUN43RiP3WMLMvSwYMH5Xa7u6G74yNgnUBUVJSCgoI6zVY1NDR0mtU6wul0yul0%2Bqz72c9%2B1m09RkRE8B9nFzBOJ8YYdQ3j1DWMU9cwTif2U8boZM9cHcFF7icQEhKixMRElZaW%2BqwvLS3VyJEjA9QVAADoyZjB6oKcnBxlZGQoKSlJycnJevLJJ1VTU6O77ror0K0BAIAeKGjBggULAt1ETxcfH6/%2B/ftr0aJFWrx4sQ4dOqRnn31Wl156aaBbU1BQkMaMGaPgYLLy8TBOJ8YYdQ3j1DWMU9cwTifWW8fIYQXi3kUAAIBTGNdgAQAAGEbAAgAAMIyABQAAYBgBCwAAwDACVi/12GOPKS4uTmeeeaYSExP15z//OdAt9TgbNmxQWlqa3G63HA6HXn311UC31OPk5%2BfriiuuUHh4uKKjozV16lTt3Lkz0G31OCtWrNAll1xiP%2BwwOTlZb775ZqDb6tHy8/PlcDiUnZ0d6FZ6lAULFsjhcPgssbGxgW6rR9qzZ4%2BmT5%2Bu/v37q2/fvvrFL36hysrKQLfVZQSsXujFF19Udna27r33Xm3dulVXXXWVJk2apJqamkC31qO0tLTo0ksv1fLlywPdSo9VVlam2bNnq6KiQqWlpfrhhx%2BUkpKilpbe8xLxk%2BHcc8/Vgw8%2BqC1btmjLli265pprdP3112v79u2Bbq1H2rx5s5588kldcsklgW6lR7r44otVV1dnL9u2bQt0Sz1OY2OjRo0apT59%2BujNN9/UJ598oiVLlnTrW1FM4zENvdDw4cN1%2BeWXa8WKFfa6oUOHaurUqcrPzw9gZz2Xw%2BFQUVGRpk6dGuhWerT9%2B/crOjpaZWVluvrqqwPdTo/Wr18/PfLII5o5c2agW%2BlRmpubdfnll%2Buxxx7TwoUL9Ytf/EKPPvpooNvqMRYsWKBXX31VVVVVgW6lR/vtb3%2Br9957r1efnWEGq5dpbW1VZWWlUlJSfNanpKRo48aNAeoKpwqPxyPpcHjAsbW3t6uwsFAtLS1KTk4OdDs9zuzZszV58mRde%2B21gW6lx9q1a5fcbrfi4uJ0yy236Isvvgh0Sz3Oa6%2B9pqSkJN10002Kjo7WZZddpqeeeirQbfmFgNXLfPPNN2pvb%2B/0oumYmJhOL6QG/GFZlnJycnTllVcqPj4%2B0O30ONu2bdNZZ50lp9Opu%2B66S0VFRRo2bFig2%2BpRCgsLVVlZyUz6cQwfPlyrV6/WW2%2B9paeeekr19fUaOXKkvv3220C31qN88cUXWrFihS666CK99dZbuuuuuzR37lytXr060K11We967jxsDofD57NlWZ3WAf64%2B%2B679fHHH6u8vDzQrfRIQ4YMUVVVlQ4cOKCXX35ZM2bMUFlZGSHrb2prazVv3jyVlJTozDPPDHQ7PdakSZPsfyckJCg5OVkXXHCBnnnmGeXk5ASws56lo6NDSUlJWrRokSTpsssu0/bt27VixQrdeuutAe6ua5jB6mWioqIUFBTUabaqoaGh06wW0FVz5szRa6%2B9pnfffVfnnntuoNvpkUJCQnThhRcqKSlJ%2Bfn5uvTSS/X73/8%2B0G31GJWVlWpoaFBiYqKCg4MVHByssrIy/eEPf1BwcLDa29sD3WKPFBYWpoSEBO3atSvQrfQoAwYM6PR/XoYOHdqrbuYiYPUyISEhSkxMVGlpqc/60tJSjRw5MkBdobeyLEt33323XnnlFb3zzjuKi4sLdEu9hmVZ8nq9gW6jxxg3bpy2bdumqqoqe0lKStKvfvUrVVVVKSgoKNAt9kher1c7duzQgAEDAt1KjzJq1KhOj4z57LPPNGjQoAB15D9OEfZCOTk5ysjIUFJSkpKTk/Xkk0%2BqpqZGd911V6Bb61Gam5v1l7/8xf785ZdfqqqqSv369dN5550XwM56jtmzZ%2Bv555/X//7v/yo8PNyeGXW5XAoNDQ1wdz3H7373O02aNEkDBw7UwYMHVVhYqPXr16u4uDjQrfUY4eHhna7dCwsLU//%2B/bmm7%2B/k5eUpLS1N5513nhoaGrRw4UI1NTVpxowZgW6tR/n1r3%2BtkSNHatGiRZo2bZo%2B%2BOADPfnkk3ryyScD3VrXWeiV/vu//9saNGiQFRISYl1%2B%2BeVWWVlZoFvqcd59911LUqdlxowZgW6txzjW%2BEiyVq5cGejWepTbb7/d/u/t7LPPtsaNG2eVlJQEuq0eb/To0da8efMC3UaPcvPNN1sDBgyw%2BvTpY7ndbuvGG2%2B0tm/fHui2eqTXX3/dio%2BPt5xOp/Xzn//cevLJJwPdkl94DhYAAIBhXIMFAABgGAELAADAMAIWAACAYQQsAAAAwwhYAAAAhhGwAAAADCNgAQAAGEbAAgAAAbFhwwalpaXJ7XbL4XDo1Vdf9XsflmVp8eLFGjx4sJxOpwYOHGi/JDqQeFUOAAAIiJaWFl166aW67bbb9M///M//0D7mzZunkpISLV68WAkJCfJ4PPrmm28Md%2Bo/nuQOAAACzuFwqKioSFOnTrXXtba26t///d%2B1Zs0aHThwQPHx8XrooYc0ZswYSdKOHTt0ySWXqLq6WkOGDAlQ58fGKUIAANAj3XbbbXrvvfdUWFiojz/%2BWDfddJMmTpyoXbt2SZJef/11/dM//ZP%2B7//%2BT3FxcTr//PN1xx136Lvvvgtw5wQsAADQA33%2B%2Bed64YUX9NJLL%2Bmqq67SBRdcoLy8PF155ZVauXKlJOmLL77Q119/rZdeekmrV6/WqlWrVFlZqX/5l38JcPdcgwUAAHqgDz/8UJZlafDgwT7rvV6v%2BvfvL0nq6OiQ1%2BvV6tWr7bqnn35aiYmJ2rlzZ0BPGxKwAABAj9PR0aGgoCBVVlYqKCjIZ9tZZ50lSRowYICCg4N9QtjQoUMlSTU1NQQsAACAv3fZZZepvb1dDQ0Nuuqqq45ZM2rUKP3www/6/PPPdcEFF0iSPvvsM0nSoEGDTlqvx8JdhAAAICCam5v1l7/8RdLhQFVQUKCxY8eqX79%2BOu%2B88zR9%2BnS99957WrJkiS677DJ98803euedd5SQkKDrrrtOHR0duuKKK3TWWWfp0UcfVUdHh2bPnq2IiAiVlJQE9LcRsAAAQECsX79eY8eO7bR%2BxowZWrVqldra2rRw4UKtXr1ae/bsUf/%2B/ZWcnKz77rtPCQkJkqS9e/dqzpw5KikpUVhYmCZNmqQlS5aoX79%2BJ/vn%2BCBgAQAAGPb/AHvbcW5Pdoh4AAAAAElFTkSuQmCC\"/>\n",
       "        </div>\n",
       "        <div role=\"tabpanel\" class=\"tab-pane col-md-12\" id=\"common5120298757736022983\">\n",
       "            \n",
       "<table class=\"freq table table-hover\">\n",
       "    <thead>\n",
       "    <tr>\n",
       "        <td class=\"fillremaining\">Value</td>\n",
       "        <td class=\"number\">Count</td>\n",
       "        <td class=\"number\">Frequency (%)</td>\n",
       "        <td style=\"min-width:200px\">&nbsp;</td>\n",
       "    </tr>\n",
       "    </thead>\n",
       "    <tr class=\"\">\n",
       "        <td class=\"fillremaining\">1</td>\n",
       "        <td class=\"number\">19004</td>\n",
       "        <td class=\"number\">7.7%</td>\n",
       "        <td>\n",
       "            <div class=\"bar\" style=\"width:12%\">&nbsp;</div>\n",
       "        </td>\n",
       "</tr><tr class=\"\">\n",
       "        <td class=\"fillremaining\">2</td>\n",
       "        <td class=\"number\">12147</td>\n",
       "        <td class=\"number\">4.9%</td>\n",
       "        <td>\n",
       "            <div class=\"bar\" style=\"width:8%\">&nbsp;</div>\n",
       "        </td>\n",
       "</tr><tr class=\"\">\n",
       "        <td class=\"fillremaining\">3</td>\n",
       "        <td class=\"number\">9977</td>\n",
       "        <td class=\"number\">4.0%</td>\n",
       "        <td>\n",
       "            <div class=\"bar\" style=\"width:6%\">&nbsp;</div>\n",
       "        </td>\n",
       "</tr><tr class=\"\">\n",
       "        <td class=\"fillremaining\">4</td>\n",
       "        <td class=\"number\">7517</td>\n",
       "        <td class=\"number\">3.0%</td>\n",
       "        <td>\n",
       "            <div class=\"bar\" style=\"width:5%\">&nbsp;</div>\n",
       "        </td>\n",
       "</tr><tr class=\"\">\n",
       "        <td class=\"fillremaining\">0</td>\n",
       "        <td class=\"number\">6952</td>\n",
       "        <td class=\"number\">2.8%</td>\n",
       "        <td>\n",
       "            <div class=\"bar\" style=\"width:5%\">&nbsp;</div>\n",
       "        </td>\n",
       "</tr><tr class=\"\">\n",
       "        <td class=\"fillremaining\">5</td>\n",
       "        <td class=\"number\">6451</td>\n",
       "        <td class=\"number\">2.6%</td>\n",
       "        <td>\n",
       "            <div class=\"bar\" style=\"width:4%\">&nbsp;</div>\n",
       "        </td>\n",
       "</tr><tr class=\"\">\n",
       "        <td class=\"fillremaining\">6</td>\n",
       "        <td class=\"number\">5832</td>\n",
       "        <td class=\"number\">2.4%</td>\n",
       "        <td>\n",
       "            <div class=\"bar\" style=\"width:4%\">&nbsp;</div>\n",
       "        </td>\n",
       "</tr><tr class=\"\">\n",
       "        <td class=\"fillremaining\">7</td>\n",
       "        <td class=\"number\">4564</td>\n",
       "        <td class=\"number\">1.8%</td>\n",
       "        <td>\n",
       "            <div class=\"bar\" style=\"width:3%\">&nbsp;</div>\n",
       "        </td>\n",
       "</tr><tr class=\"\">\n",
       "        <td class=\"fillremaining\">8</td>\n",
       "        <td class=\"number\">4248</td>\n",
       "        <td class=\"number\">1.7%</td>\n",
       "        <td>\n",
       "            <div class=\"bar\" style=\"width:3%\">&nbsp;</div>\n",
       "        </td>\n",
       "</tr><tr class=\"\">\n",
       "        <td class=\"fillremaining\">9</td>\n",
       "        <td class=\"number\">3501</td>\n",
       "        <td class=\"number\">1.4%</td>\n",
       "        <td>\n",
       "            <div class=\"bar\" style=\"width:3%\">&nbsp;</div>\n",
       "        </td>\n",
       "</tr><tr class=\"other\">\n",
       "        <td class=\"fillremaining\">Other values (12748)</td>\n",
       "        <td class=\"number\">167950</td>\n",
       "        <td class=\"number\">67.7%</td>\n",
       "        <td>\n",
       "            <div class=\"bar\" style=\"width:100%\">&nbsp;</div>\n",
       "        </td>\n",
       "</tr>\n",
       "</table>\n",
       "        </div>\n",
       "        <div role=\"tabpanel\" class=\"tab-pane col-md-12\"  id=\"extreme5120298757736022983\">\n",
       "            <p class=\"h4\">Minimum 5 values</p>\n",
       "            \n",
       "<table class=\"freq table table-hover\">\n",
       "    <thead>\n",
       "    <tr>\n",
       "        <td class=\"fillremaining\">Value</td>\n",
       "        <td class=\"number\">Count</td>\n",
       "        <td class=\"number\">Frequency (%)</td>\n",
       "        <td style=\"min-width:200px\">&nbsp;</td>\n",
       "    </tr>\n",
       "    </thead>\n",
       "    <tr class=\"\">\n",
       "        <td class=\"fillremaining\">0</td>\n",
       "        <td class=\"number\">6952</td>\n",
       "        <td class=\"number\">2.8%</td>\n",
       "        <td>\n",
       "            <div class=\"bar\" style=\"width:37%\">&nbsp;</div>\n",
       "        </td>\n",
       "</tr><tr class=\"\">\n",
       "        <td class=\"fillremaining\">1</td>\n",
       "        <td class=\"number\">19004</td>\n",
       "        <td class=\"number\">7.7%</td>\n",
       "        <td>\n",
       "            <div class=\"bar\" style=\"width:100%\">&nbsp;</div>\n",
       "        </td>\n",
       "</tr><tr class=\"\">\n",
       "        <td class=\"fillremaining\">2</td>\n",
       "        <td class=\"number\">12147</td>\n",
       "        <td class=\"number\">4.9%</td>\n",
       "        <td>\n",
       "            <div class=\"bar\" style=\"width:64%\">&nbsp;</div>\n",
       "        </td>\n",
       "</tr><tr class=\"\">\n",
       "        <td class=\"fillremaining\">3</td>\n",
       "        <td class=\"number\">9977</td>\n",
       "        <td class=\"number\">4.0%</td>\n",
       "        <td>\n",
       "            <div class=\"bar\" style=\"width:52%\">&nbsp;</div>\n",
       "        </td>\n",
       "</tr><tr class=\"\">\n",
       "        <td class=\"fillremaining\">4</td>\n",
       "        <td class=\"number\">7517</td>\n",
       "        <td class=\"number\">3.0%</td>\n",
       "        <td>\n",
       "            <div class=\"bar\" style=\"width:40%\">&nbsp;</div>\n",
       "        </td>\n",
       "</tr>\n",
       "</table>\n",
       "            <p class=\"h4\">Maximum 5 values</p>\n",
       "            \n",
       "<table class=\"freq table table-hover\">\n",
       "    <thead>\n",
       "    <tr>\n",
       "        <td class=\"fillremaining\">Value</td>\n",
       "        <td class=\"number\">Count</td>\n",
       "        <td class=\"number\">Frequency (%)</td>\n",
       "        <td style=\"min-width:200px\">&nbsp;</td>\n",
       "    </tr>\n",
       "    </thead>\n",
       "    <tr class=\"\">\n",
       "        <td class=\"fillremaining\">5471768</td>\n",
       "        <td class=\"number\">1</td>\n",
       "        <td class=\"number\">0.0%</td>\n",
       "        <td>\n",
       "            <div class=\"bar\" style=\"width:100%\">&nbsp;</div>\n",
       "        </td>\n",
       "</tr><tr class=\"\">\n",
       "        <td class=\"fillremaining\">5559130</td>\n",
       "        <td class=\"number\">1</td>\n",
       "        <td class=\"number\">0.0%</td>\n",
       "        <td>\n",
       "            <div class=\"bar\" style=\"width:100%\">&nbsp;</div>\n",
       "        </td>\n",
       "</tr><tr class=\"\">\n",
       "        <td class=\"fillremaining\">5682389</td>\n",
       "        <td class=\"number\">1</td>\n",
       "        <td class=\"number\">0.0%</td>\n",
       "        <td>\n",
       "            <div class=\"bar\" style=\"width:100%\">&nbsp;</div>\n",
       "        </td>\n",
       "</tr><tr class=\"\">\n",
       "        <td class=\"fillremaining\">5803416</td>\n",
       "        <td class=\"number\">1</td>\n",
       "        <td class=\"number\">0.0%</td>\n",
       "        <td>\n",
       "            <div class=\"bar\" style=\"width:100%\">&nbsp;</div>\n",
       "        </td>\n",
       "</tr><tr class=\"\">\n",
       "        <td class=\"fillremaining\">5916464</td>\n",
       "        <td class=\"number\">1</td>\n",
       "        <td class=\"number\">0.0%</td>\n",
       "        <td>\n",
       "            <div class=\"bar\" style=\"width:100%\">&nbsp;</div>\n",
       "        </td>\n",
       "</tr>\n",
       "</table>\n",
       "        </div>\n",
       "    </div>\n",
       "</div>\n",
       "</div><div class=\"row variablerow\">\n",
       "    <div class=\"col-md-3 namecol\">\n",
       "        <p class=\"h4 pp-anchor\" id=\"pp_var_ConfirmedChange\">ConfirmedChange<br/>\n",
       "            <small>Numeric</small>\n",
       "        </p>\n",
       "    </div><div class=\"col-md-6\">\n",
       "    <div class=\"row\">\n",
       "        <div class=\"col-sm-6\">\n",
       "            <table class=\"stats \">\n",
       "                <tr>\n",
       "                    <th>Distinct count</th>\n",
       "                    <td>2855</td>\n",
       "                </tr>\n",
       "                <tr>\n",
       "                    <th>Unique (%)</th>\n",
       "                    <td>1.2%</td>\n",
       "                </tr>\n",
       "                <tr class=\"alert\">\n",
       "                    <th>Missing (%)</th>\n",
       "                    <td>1.9%</td>\n",
       "                </tr>\n",
       "                <tr class=\"alert\">\n",
       "                    <th>Missing (n)</th>\n",
       "                    <td>4780</td>\n",
       "                </tr>\n",
       "                <tr class=\"ignore\">\n",
       "                    <th>Infinite (%)</th>\n",
       "                    <td>0.0%</td>\n",
       "                </tr>\n",
       "                <tr class=\"ignore\">\n",
       "                    <th>Infinite (n)</th>\n",
       "                    <td>0</td>\n",
       "                </tr>\n",
       "            </table>\n",
       "\n",
       "        </div>\n",
       "        <div class=\"col-sm-6\">\n",
       "            <table class=\"stats \">\n",
       "\n",
       "                <tr>\n",
       "                    <th>Mean</th>\n",
       "                    <td>72.46</td>\n",
       "                </tr>\n",
       "                <tr>\n",
       "                    <th>Minimum</th>\n",
       "                    <td>-15723</td>\n",
       "                </tr>\n",
       "                <tr>\n",
       "                    <th>Maximum</th>\n",
       "                    <td>123260</td>\n",
       "                </tr>\n",
       "                <tr class=\"alert\">\n",
       "                    <th>Zeros (%)</th>\n",
       "                    <td>44.7%</td>\n",
       "                </tr>\n",
       "            </table>\n",
       "        </div>\n",
       "    </div>\n",
       "</div>\n",
       "<div class=\"col-md-3 collapse in\" id=\"minihistogram-8432787808141001930\">\n",
       "    <img src=\"data:image/png;base64,iVBORw0KGgoAAAANSUhEUgAAAMgAAABLCAYAAAA1fMjoAAAABHNCSVQICAgIfAhkiAAAAAlwSFlzAAAPYQAAD2EBqD%2BnaQAAADh0RVh0U29mdHdhcmUAbWF0cGxvdGxpYiB2ZXJzaW9uMy4yLjEsIGh0dHA6Ly9tYXRwbG90bGliLm9yZy%2Bj8jraAAABm0lEQVR4nO3XMY7TUBiF0d/RtHb6KN4Fi2BP1JTsh0Wwi0RZgK0pKMijgEx5pYHMsyyd09vXlt9XeGitterser3WPM%2B9Z9m5y%2BVS5/O56%2BZL17W/xnGsqj8vPE3TFo/AjizLUvM8v52bnjYJZBiGqqqapukpgXz68v3d1/z4%2Bvm/d%2BnrcW56OnRfhB0RCAQCgUAgEAgEAoFAIBAIBAKBQCAQCAQCgUAgEAgEAoFAIBAIBAKBQCAQCAQCgUAgEAgEAoFAIBAIBAKBQCAQCAQCgUAgEAgEAoFAIBAIBAKBQCAQCAQCgUAgEAgEAoFAIBAIBAKBQCAQCAQCgUAgEAgEgpctRltrVVW1LMtT7vfr5%2Bu7r3nWNh/v8a0e56anTQJZ17WqquZ53mK%2BqqqO3zab5h%2Bt61rH47Hr5tA2yPJ%2Bv9ftdqtxHGsYht7z7ExrrdZ1rdPpVIdD37%2BCTQKBvfCTDoFAIBAIBAKBQCAQCAQCgUAgEAgEAoFAIBAIBAKBQCAQCAQCgUAgEAgEAoFAIBAIBAKBQCAQCAQCgUDwG2siQHFVv2/wAAAAAElFTkSuQmCC\">\n",
       "\n",
       "</div>\n",
       "<div class=\"col-md-12 text-right\">\n",
       "    <a role=\"button\" data-toggle=\"collapse\" data-target=\"#descriptives-8432787808141001930,#minihistogram-8432787808141001930\"\n",
       "       aria-expanded=\"false\" aria-controls=\"collapseExample\">\n",
       "        Toggle details\n",
       "    </a>\n",
       "</div>\n",
       "<div class=\"row collapse col-md-12\" id=\"descriptives-8432787808141001930\">\n",
       "    <ul class=\"nav nav-tabs\" role=\"tablist\">\n",
       "        <li role=\"presentation\" class=\"active\"><a href=\"#quantiles-8432787808141001930\"\n",
       "                                                  aria-controls=\"quantiles-8432787808141001930\" role=\"tab\"\n",
       "                                                  data-toggle=\"tab\">Statistics</a></li>\n",
       "        <li role=\"presentation\"><a href=\"#histogram-8432787808141001930\" aria-controls=\"histogram-8432787808141001930\"\n",
       "                                   role=\"tab\" data-toggle=\"tab\">Histogram</a></li>\n",
       "        <li role=\"presentation\"><a href=\"#common-8432787808141001930\" aria-controls=\"common-8432787808141001930\"\n",
       "                                   role=\"tab\" data-toggle=\"tab\">Common Values</a></li>\n",
       "        <li role=\"presentation\"><a href=\"#extreme-8432787808141001930\" aria-controls=\"extreme-8432787808141001930\"\n",
       "                                   role=\"tab\" data-toggle=\"tab\">Extreme Values</a></li>\n",
       "\n",
       "    </ul>\n",
       "\n",
       "    <div class=\"tab-content\">\n",
       "        <div role=\"tabpanel\" class=\"tab-pane active row\" id=\"quantiles-8432787808141001930\">\n",
       "            <div class=\"col-md-4 col-md-offset-1\">\n",
       "                <p class=\"h4\">Quantile statistics</p>\n",
       "                <table class=\"stats indent\">\n",
       "                    <tr>\n",
       "                        <th>Minimum</th>\n",
       "                        <td>-15723</td>\n",
       "                    </tr>\n",
       "                    <tr>\n",
       "                        <th>5-th percentile</th>\n",
       "                        <td>0</td>\n",
       "                    </tr>\n",
       "                    <tr>\n",
       "                        <th>Q1</th>\n",
       "                        <td>0</td>\n",
       "                    </tr>\n",
       "                    <tr>\n",
       "                        <th>Median</th>\n",
       "                        <td>1</td>\n",
       "                    </tr>\n",
       "                    <tr>\n",
       "                        <th>Q3</th>\n",
       "                        <td>6</td>\n",
       "                    </tr>\n",
       "                    <tr>\n",
       "                        <th>95-th percentile</th>\n",
       "                        <td>115</td>\n",
       "                    </tr>\n",
       "                    <tr>\n",
       "                        <th>Maximum</th>\n",
       "                        <td>123260</td>\n",
       "                    </tr>\n",
       "                    <tr>\n",
       "                        <th>Range</th>\n",
       "                        <td>138980</td>\n",
       "                    </tr>\n",
       "                    <tr>\n",
       "                        <th>Interquartile range</th>\n",
       "                        <td>6</td>\n",
       "                    </tr>\n",
       "                </table>\n",
       "            </div>\n",
       "            <div class=\"col-md-4 col-md-offset-2\">\n",
       "                <p class=\"h4\">Descriptive statistics</p>\n",
       "                <table class=\"stats indent\">\n",
       "                    <tr>\n",
       "                        <th>Standard deviation</th>\n",
       "                        <td>1516.7</td>\n",
       "                    </tr>\n",
       "                    <tr>\n",
       "                        <th>Coef of variation</th>\n",
       "                        <td>20.932</td>\n",
       "                    </tr>\n",
       "                    <tr>\n",
       "                        <th>Kurtosis</th>\n",
       "                        <td>3101.5</td>\n",
       "                    </tr>\n",
       "                    <tr>\n",
       "                        <th>Mean</th>\n",
       "                        <td>72.46</td>\n",
       "                    </tr>\n",
       "                    <tr>\n",
       "                        <th>MAD</th>\n",
       "                        <td>127.43</td>\n",
       "                    </tr>\n",
       "                    <tr class=\"alert\">\n",
       "                        <th>Skewness</th>\n",
       "                        <td>52.394</td>\n",
       "                    </tr>\n",
       "                    <tr>\n",
       "                        <th>Sum</th>\n",
       "                        <td>17634000</td>\n",
       "                    </tr>\n",
       "                    <tr>\n",
       "                        <th>Variance</th>\n",
       "                        <td>2300400</td>\n",
       "                    </tr>\n",
       "                    <tr>\n",
       "                        <th>Memory size</th>\n",
       "                        <td>1.9 MiB</td>\n",
       "                    </tr>\n",
       "                </table>\n",
       "            </div>\n",
       "        </div>\n",
       "        <div role=\"tabpanel\" class=\"tab-pane col-md-8 col-md-offset-2\" id=\"histogram-8432787808141001930\">\n",
       "            <img src=\"data:image/png;base64,iVBORw0KGgoAAAANSUhEUgAAAlgAAAGQCAYAAAByNR6YAAAABHNCSVQICAgIfAhkiAAAAAlwSFlzAAAPYQAAD2EBqD%2BnaQAAADh0RVh0U29mdHdhcmUAbWF0cGxvdGxpYiB2ZXJzaW9uMy4yLjEsIGh0dHA6Ly9tYXRwbG90bGliLm9yZy%2Bj8jraAAAgAElEQVR4nO3dfVyVdZ7/8Tdyc0QGTigCHjWzSU0Haw1nvOkGTQVKNGsfY0qSTA6b4y2DbuW2jx1rC6zM2tXVmraHduNE0yizzWok3mTjCN6gJKSWWxogIFZ4UFNA%2BP7%2BaLh%2BHfEG8kIEXs/H43o8Otf1Oef6fA/Eefu9bo6XMcYIAAAAtunQ0g0AAAC0NQQsAAAAmxGwAAAAbEbAAgAAsBkBCwAAwGYELAAAAJsRsAAAAGxGwAIAALAZAQsAAMBmBCwAAACbEbAAAABsRsACAACwGQELAADAZgQsAAAAmxGwAAAAbEbAAgAAsBkBCwAAwGYELAAAAJsRsAAAAGxGwAIAALAZAQsAAMBmBCwAAACbEbAAAABsRsACAACwGQELAADAZgQsAAAAmxGwAAAAbEbAAgAAsBkBCwAAwGYELAAAAJsRsAAAAGxGwAIAALAZAQsAAMBmBCwAAACbEbAAAABsRsACAACwGQELAADAZgQsAAAAm/m0dAPtQV1dnUpKShQYGCgvL6%2BWbgcAgHbBGKOTJ0/K5XKpQ4erO6dEwLoKSkpK1LNnz5ZuAwCAdqmoqEg9evS4qvskYF0FgYGBkr7/AQcFBbVwNwAAtA%2BVlZXq2bOn9Tl8VZmrLDU11QwePNj85Cc/MV27djX33XefOXjwoEfN1KlTjSSPZciQIR41Z8%2BeNbNmzTJdunQxnTp1MuPGjTNFRUUeNd9%2B%2B62ZMmWKCQoKMkFBQWbKlCmmoqLCo%2Barr74ycXFxplOnTqZLly5m9uzZpqqqyqNm37595q677jIdO3Y0LpfLPPXUU6aurq7RY3a73UaScbvdjX4OAAC4Mi35%2BXvVT3LfunWrZs6cqZycHGVlZencuXOKjo7W6dOnPepiY2NVWlpqLevXr/fYnpycrIyMDKWnp2vbtm06deqU4uLiVFtba9XEx8crLy9PmZmZyszMVF5enhISEqzttbW1Gjt2rE6fPq1t27YpPT1da9as0bx586yayspKjRkzRi6XS7t27dLSpUu1ePFiLVmypJneIQAA0Opd9Uh3nvLyciPJbN261Vo3depUc9999130OSdOnDC%2Bvr4mPT3dWnf06FHToUMHk5mZaYwxZv/%2B/UaSycnJsWqys7ONJGvGbP369aZDhw7m6NGjVs0777xjHA6HlXaXL19unE6nOXv2rFWTlpZmXC5Xo2exmMECAODqa1czWOdzu92SpM6dO3us/%2BijjxQaGqq%2BffsqKSlJ5eXl1rbc3FzV1NQoOjraWudyuRQREaHt27dLkrKzs%2BV0OjVkyBCrZujQoXI6nR41ERERcrlcVk1MTIyqqqqUm5tr1URFRcnhcHjUlJSU6MiRIza9CwAAoC1p0YBljFFKSoruuOMORUREWOvvuecerV69Wps3b9aLL76oXbt26e6771ZVVZUkqaysTH5%2BfgoODvZ4vbCwMJWVlVk1oaGhDfYZGhrqURMWFuaxPTg4WH5%2BfpesqX9cX3O%2BqqoqVVZWeiwAAKD9aNGrCGfNmqV9%2B/Zp27ZtHusffPBB678jIiI0ePBg9erVS%2BvWrdMDDzxw0dczxnjcZ%2BpC95yyo8YYc9HnSlJaWpqeeuqpi/YJAADathabwZo9e7bef/99bdmy5bL3pujWrZt69eqlQ4cOSZLCw8NVXV2tiooKj7ry8nJrdik8PFzHjh1r8FrHjx/3qDl/FqqiokI1NTWXrKk/XHn%2BzFa9BQsWyO12W0tRUdElxwcAANqWqx6wjDGaNWuW1q5dq82bN6t3796Xfc4333yjoqIidevWTZIUGRkpX19fZWVlWTWlpaUqKCjQ8OHDJUnDhg2T2%2B3Wzp07rZodO3bI7XZ71BQUFKi0tNSq2bBhgxwOhyIjI62ajz/%2BWNXV1R41LpdLN9xwwwX7dTgcCgoK8lgAAEA7crXPqv/Nb35jnE6n%2Beijj0xpaam1fPfdd8YYY06ePGnmzZtntm/fbg4fPmy2bNlihg0bZrp3724qKyut15k%2Bfbrp0aOH2bhxo9mzZ4%2B5%2B%2B67za233mrOnTtn1cTGxppbbrnFZGdnm%2BzsbDNw4EATFxdnbT937pyJiIgwo0aNMnv27DEbN240PXr0MLNmzbJqTpw4YcLCwszkyZNNfn6%2BWbt2rQkKCjKLFy9u9Ji5ihAAgKuvJT9/r3rA0nk3EK1fVq5caYwx5rvvvjPR0dGma9euxtfX11x//fVm6tSpprCw0ON1zpw5Y2bNmmU6d%2B5s/P39TVxcXIOab775xjz00EMmMDDQBAYGmoceeuiCNxodO3as8ff3N507dzazZs3yuCWDMd/faPTOO%2B80DofDhIeHm4ULF3KjUQAArnEt%2BfnrZczfz9hGs6msrJTT6ZTb7eZwIQAAV0lLfv62%2BH2wAAAA2hoCFgAAgM1a9D5YaF8GP5nZ0i00ye5nY1u6BQBAK8UMFgAAgM0IWAAAADYjYAEAANiMgAUAAGAzAhYAAIDNCFgAAAA2I2ABAADYjIAFAABgMwIWAACAzQhYAAAANiNgAQAA2IyABQAAYDMCFgAAgM0IWAAAADYjYAEAANiMgAUAAGAzAhYAAIDNCFgAAAA2I2ABAADYjIAFAABgMwIWAACAzQhYAAAANiNgAQAA2IyABQAAYDMCFgAAgM0IWAAAADYjYAEAANiMgAUAAGAzAhYAAIDNCFgAAAA2I2ABAADYjIAFAABgMwIWAACAzQhYAAAANiNgAQAA2IyABQAAYDMCFgAAgM0IWAAAADYjYAEAANiMgAUAAGAzAhYAAIDNCFgAAAA2I2ABAADYjIAFAABgMwIWAACAzQhYAAAANiNgAQAA2IyABQAAYDMCFgAAgM2uesBKS0vTz3/%2BcwUGBio0NFQTJkzQZ5995lFjjNHChQvlcrnk7%2B%2BvESNG6NNPP/Woqaqq0uzZsxUSEqKAgACNHz9excXFHjUVFRVKSEiQ0%2BmU0%2BlUQkKCTpw44VFTWFiocePGKSAgQCEhIZozZ46qq6s9avLz8xUVFSV/f391795dTz/9tIwxNr4rAACgLbnqAWvr1q2aOXOmcnJylJWVpXPnzik6OlqnT5%2B2ap5//nktWbJEy5Yt065duxQeHq4xY8bo5MmTVk1ycrIyMjKUnp6ubdu26dSpU4qLi1Ntba1VEx8fr7y8PGVmZiozM1N5eXlKSEiwttfW1mrs2LE6ffq0tm3bpvT0dK1Zs0bz5s2zaiorKzVmzBi5XC7t2rVLS5cu1eLFi7VkyZJmfqcAAEBr5WVaeCrm%2BPHjCg0N1datW3XXXXfJGCOXy6Xk5GQ9/vjjkr6frQoLC9Nzzz2nRx99VG63W127dtVbb72lBx98UJJUUlKinj17av369YqJidGBAwc0YMAA5eTkaMiQIZKknJwcDRs2TAcPHlS/fv30wQcfKC4uTkVFRXK5XJKk9PR0JSYmqry8XEFBQVqxYoUWLFigY8eOyeFwSJIWLVqkpUuXqri4WF5eXpcdY2VlpZxOp9xut4KCgprjbWwVBj%2BZ2dItNMnuZ2NbugUAwBVoyc/fFj8Hy%2B12S5I6d%2B4sSTp8%2BLDKysoUHR1t1TgcDkVFRWn79u2SpNzcXNXU1HjUuFwuRUREWDXZ2dlyOp1WuJKkoUOHyul0etRERERY4UqSYmJiVFVVpdzcXKsmKirKClf1NSUlJTpy5MgFx1RVVaXKykqPBQAAtB8tGrCMMUpJSdEdd9yhiIgISVJZWZkkKSwszKM2LCzM2lZWViY/Pz8FBwdfsiY0NLTBPkNDQz1qzt9PcHCw/Pz8LllT/7i%2B5nxpaWnWeV9Op1M9e/a8zDsBAADakhYNWLNmzdK%2Bffv0zjvvNNh2/qE3Y8xlD8edX3Ohejtq6o%2BqXqyfBQsWyO12W0tRUdEl%2BwYAAG1LiwWs2bNn6/3339eWLVvUo0cPa314eLikhrND5eXl1sxReHi4qqurVVFRccmaY8eONdjv8ePHPWrO309FRYVqamouWVNeXi6p4SxbPYfDoaCgII8FAAC0H1c9YBljNGvWLK1du1abN29W7969Pbb37t1b4eHhysrKstZVV1dr69atGj58uCQpMjJSvr6%2BHjWlpaUqKCiwaoYNGya3262dO3daNTt27JDb7faoKSgoUGlpqVWzYcMGORwORUZGWjUff/yxx60bNmzYIJfLpRtuuMGmdwUAALQlVz1gzZw5U2%2B//bb%2B8Ic/KDAwUGVlZSorK9OZM2ckfX/YLTk5WampqcrIyFBBQYESExPVqVMnxcfHS5KcTqemTZumefPmadOmTdq7d6%2BmTJmigQMHavTo0ZKk/v37KzY2VklJScrJyVFOTo6SkpIUFxenfv36SZKio6M1YMAAJSQkaO/evdq0aZPmz5%2BvpKQka9YpPj5eDodDiYmJKigoUEZGhlJTU5WSktKoKwgBAED743O1d7hixQpJ0ogRIzzWr1y5UomJiZKkxx57TGfOnNGMGTNUUVGhIUOGaMOGDQoMDLTqX3rpJfn4%2BGjixIk6c%2BaMRo0apVWrVsnb29uqWb16tebMmWNdbTh%2B/HgtW7bM2u7t7a1169ZpxowZuv322%2BXv76/4%2BHgtXrzYqnE6ncrKytLMmTM1ePBgBQcHKyUlRSkpKXa/NQAAoI1o8ftgtQfcB%2Bt73AcLAHA1tev7YAEAALQ1BCwAAACbEbAAAABsRsACAACwGQELAADAZgQsAAAAmxGwAAAAbEbAAgAAsBkBCwAAwGYELAAAAJsRsAAAAGxGwAIAALAZAQsAAMBmBCwAAACbEbAAAABsRsACAACwGQELAADAZgQsAAAAmxGwAAAAbEbAAgAAsBkBCwAAwGYELAAAAJsRsAAAAGxGwAIAALAZAQsAAMBmBCwAAACbEbAAAABsRsACAACwGQELAADAZgQsAAAAmxGwAAAAbEbAAgAAsBkBCwAAwGYELAAAAJsRsAAAAGxGwAIAALAZAQsAAMBmBCwAAACbEbAAAABsRsACAACwGQELAADAZgQsAAAAmxGwAAAAbEbAAgAAsBkBCwAAwGYELAAAAJsRsAAAAGxGwAIAALAZAQsAAMBmBCwAAACbEbAAAABs1qSAdfjw4ebqAwAAoM1oUsC66aabNHLkSL399ts6e/bsj97pxx9/rHHjxsnlcsnLy0t//vOfPbYnJibKy8vLYxk6dKhHTVVVlWbPnq2QkBAFBARo/PjxKi4u9qipqKhQQkKCnE6nnE6nEhISdOLECY%2BawsJCjRs3TgEBAQoJCdGcOXNUXV3tUZOfn6%2BoqCj5%2B/ure/fuevrpp2WM%2BdHjBwAAbVuTAtYnn3yiQYMGad68eQoPD9ejjz6qnTt3Nnmnp0%2Bf1q233qply5ZdtCY2NlalpaXWsn79eo/tycnJysjIUHp6urZt26ZTp04pLi5OtbW1Vk18fLzy8vKUmZmpzMxM5eXlKSEhwdpeW1ursWPH6vTp09q2bZvS09O1Zs0azZs3z6qprKzUmDFj5HK5tGvXLi1dulSLFy/WkiVLmjxuAADQPniZHzEVc%2B7cOf3lL3/RqlWr9MEHH6hPnz6aNm2aEhIS1LVr16Y14OWljIwMTZgwwVqXmJioEydONJjZqud2u9W1a1e99dZbevDBByVJJSUl6tmzp9avX6%2BYmBgdOHBAAwYMUE5OjoYMGSJJysnJ0bBhw3Tw4EH169dPH3zwgeLi4lRUVCSXyyVJSk9PV2JiosrLyxUUFKQVK1ZowYIFOnbsmBwOhyRp0aJFWrp0qYqLi%2BXl5XXZMVZWVsrpdMrtdisoKKhJ709bMvjJzJZuoUl2Pxvb0i0AAK5AS37%2B/qiT3H18fHT//ffrj3/8o5577jl98cUXmj9/vnr06KGHH35YpaWlV9zYRx99pNDQUPXt21dJSUkqLy%2B3tuXm5qqmpkbR0dHWOpfLpYiICG3fvl2SlJ2dLafTaYUrSRo6dKicTqdHTUREhBWuJCkmJkZVVVXKzc21aqKioqxwVV9TUlKiI0eOXLD3qqoqVVZWeiwAAKD9%2BFEBa/fu3ZoxY4a6deumJUuWaP78%2Bfriiy%2B0efNmHT16VPfdd98VNXXPPfdo9erV2rx5s1588UXt2rVLd999t6qqqiRJZWVl8vPzU3BwsMfzwsLCVFZWZtWEhoY2eO3Q0FCPmrCwMI/twcHB8vPzu2RN/eP6mvOlpaVZ5305nU717NmzqW8BAABoxXyaUrxkyRKtXLlSn332me699169%2Beabuvfee9Whw/c5rXfv3nr11Vd18803X1FT9Yf9JCkiIkKDBw9Wr169tG7dOj3wwAMXfZ4xxuOQ3YUO39lRU39U9WKHBxcsWKCUlBTrcWVlJSELAIB2pEkBa8WKFXrkkUf0q1/9SuHh4Resuf766/X666/b0ly9bt26qVevXjp06JAkKTw8XNXV1aqoqPCYxSovL9fw4cOtmmPHjjV4rePHj1szUOHh4dqxY4fH9oqKCtXU1HjUnD9TVX%2B48vyZrXoOh8PjkCIAAGhfmnSI8NChQ1qwYMFFw5Uk%2Bfn5aerUqVfc2A998803KioqUrdu3SRJkZGR8vX1VVZWllVTWlqqgoICK2ANGzZMbrfb4yrHHTt2yO12e9QUFBR4nDO2YcMGORwORUZGWjUff/yxx60bNmzYIJfLpRtuuMHWcQIAgLahSQFr5cqVeu%2B99xqsf%2B%2B99/TGG280%2BnVOnTqlvLw85eXlSfr%2BBqZ5eXkqLCzUqVOnNH/%2BfGVnZ%2BvIkSP66KOPNG7cOIWEhOj%2B%2B%2B%2BXJDmdTk2bNk3z5s3Tpk2btHfvXk2ZMkUDBw7U6NGjJUn9%2B/dXbGyskpKSlJOTo5ycHCUlJSkuLk79%2BvWTJEVHR2vAgAFKSEjQ3r17tWnTJs2fP19JSUnW1Qbx8fFyOBxKTExUQUGBMjIylJqaqpSUlEZdQQgAANqfJgWsRYsWKSQkpMH60NBQpaamNvp1du/erUGDBmnQoEGSpJSUFA0aNEj/9m//Jm9vb%2BXn5%2Bu%2B%2B%2B5T3759NXXqVPXt21fZ2dkKDAy0XuOll17ShAkTNHHiRN1%2B%2B%2B3q1KmT/vKXv8jb29uqWb16tQYOHKjo6GhFR0frlltu0VtvvWVt9/b21rp169SxY0fdfvvtmjhxoiZMmKDFixdbNU6nU1lZWSouLtbgwYM1Y8YMpaSkeJxjBQAA8ENNug9Wx44ddfDgwQaHxo4cOaL%2B/fvrzJkzdvfXJnAfrO9xHywAwNXUau6DFRoaqn379jVY/8knn6hLly62NQUAANCaNSlgTZo0SXPmzNGWLVtUW1ur2tpabd68WXPnztWkSZOaq0cAAIBWpUm3aXjmmWf01VdfadSoUfLx%2Bf6pdXV1evjhh5t0DhYAAEBb1qSA5efnp3fffVf//u//rk8%2B%2BUT%2B/v4aOHCgevXq1Vz9AQAAtDpNClj1%2Bvbtq759%2B9rdCwAAQJvQpIBVW1urVatWadOmTSovL1ddXZ3H9s2bN9vaHAAAQGvUpIA1d%2B5crVq1SmPHjlVERAQ32gQAALiAJgWs9PR0/fGPf9S9997bXP0AAAC0ek26TYOfn59uuumm5uoFAACgTWhSwJo3b57%2B4z/%2BQ024%2BTsAAEC706RDhNu2bdOWLVv0wQcf6Gc/%2B5l8fX09tq9du9bW5gAAAFqjJgWs6667Tvfff39z9QIAANAmNClgrVy5srn6AAAAaDOadA6WJJ07d04bN27Uq6%2B%2BqpMnT0qSSkpKdOrUKdubAwAAaI2aNIP11VdfKTY2VoWFhaqqqtKYMWMUGBio559/XmfPntUrr7zSXH0CAAC0Gk2awZo7d64GDx6siooK%2Bfv7W%2Bvvv/9%2Bbdq0yfbmAAAAWqMmX0X4t7/9TX5%2Bfh7re/XqpaNHj9raGAAAQGvVpBmsuro61dbWNlhfXFyswMBA25oCAABozZoUsMaMGaOXX37Zeuzl5aVTp07pd7/7HV%2BfAwAA8HdNOkT40ksvaeTIkRowYIDOnj2r%2BPh4HTp0SCEhIXrnnXeaq0cAAIBWpUkBy%2BVyKS8vT%2B%2B884727Nmjuro6TZs2TQ899JDHSe8AAADtWZMCliT5%2B/vrkUce0SOPPNIc/QAAALR6TQpYb7755iW3P/zww1fUDAAAQFvQpIA1d%2B5cj8c1NTX67rvv5Ofnp06dOhGwAAAA1MSrCCsqKjyWU6dO6bPPPtMdd9zBSe4AAAB/1%2BTvIjxfnz59tGjRogazWwAAAO3VFQcsSfL29lZJSYkdLwUAANDqNekcrPfff9/jsTFGpaWlWrZsmW6//XZbGwMAAGitmhSwJkyY4PHYy8tLXbt21d13360XX3zR1sYAAABaqyYFrLq6uubqAwAAoM2w5RwsAAAA/H9NmsFKSUlpdO2SJUua3AwAAEBb0KSAtXfvXu3Zs0fnzp1Tv379JEmff/65vL29ddttt1l1Xl5e9nYJAADQijQpYI0bN06BgYF64403FBwcLOn7m4/%2B6le/0p133ql58%2BY1S5MAAACtSZPOwXrxxReVlpZmhStJCg4O1jPPPMNVhAAAAH/XpIBVWVmpY8eONVhfXl6ukydP2tYUAABAa9akgHX//ffrV7/6lf70pz%2BpuLhYxcXF%2BtOf/qRp06bpgQceaK4eAQAAWpUmnYP1yiuvaP78%2BZoyZYpqamq%2BfwEfH02bNk0vvPBCszQIAADQ2jQpYHXq1EnLly/XCy%2B8oC%2B%2B%2BELGGN10000KCAhorv4AAABanR91o9HS0lKVlpaqb9%2B%2BCggIkDHG7r4AAABarSYFrG%2B%2B%2BUajRo1S3759de%2B996q0tFSS9Otf/5pbNAAAAPxdkwLWb3/7W/n6%2BqqwsFCdOnWy1j/44IPKzMy0vTkAAIDWqEnnYG3YsEEffvihevTo4bG%2BT58%2B%2Buqrr2xtDAAAoLVq0gzW6dOnPWau6n399ddyOBy2NQUAANCaNSlg3XXXXXrzzTetx15eXqqrq9MLL7ygkSNH2t4cAABAa9SkQ4QvvPCCRowYod27d6u6ulqPPfaYPv30U3377bf629/%2B1lw9AgAAtCpNmsEaMGCA9u3bp1/84hcaM2aMTp8%2BrQceeEB79%2B7VT3/60%2BbqEQAAoFVp9AxWTU2NoqOj9eqrr%2Bqpp55qzp4AAABatUbPYPn6%2BqqgoEBeXl7N2Q8AAECr16RDhA8//LBef/315uoFAACgTWjSSe7V1dX67//%2Bb2VlZWnw4MENvoNwyZIltjYHAADQGjVqBuvLL79UXV2dCgoKdNtttykoKEiff/659u7day15eXmN3unHH3%2BscePGyeVyycvLS3/%2B8589thtjtHDhQrlcLvn7%2B2vEiBH69NNPPWqqqqo0e/ZshYSEKCAgQOPHj1dxcbFHTUVFhRISEuR0OuV0OpWQkKATJ0541BQWFmrcuHEKCAhQSEiI5syZo%2Brqao%2Ba/Px8RUVFyd/fX927d9fTTz/N9y8CAICLalTA6tOnj77%2B%2Bmtt2bJFW7ZsUWhoqNLT063HW7Zs0ebNmxu909OnT%2BvWW2/VsmXLLrj9%2Beef15IlS7Rs2TLt2rVL4eHhGjNmjE6ePGnVJCcnKyMjQ%2Bnp6dq2bZtOnTqluLg41dbWWjXx8fHKy8tTZmamMjMzlZeXp4SEBGt7bW2txo4dq9OnT2vbtm1KT0/XmjVrPL5XsbKyUmPGjJHL5dKuXbu0dOlSLV68mNk6AABwUV6mEVMxHTp0UFlZmUJDQyVJQUFBysvL04033njlDXh5KSMjQxMmTJD0/eyVy%2BVScnKyHn/8cUnfz1aFhYXpueee06OPPiq3262uXbvqrbfe0oMPPihJKikpUc%2BePbV%2B/XrFxMTowIEDGjBggHJycjRkyBBJUk5OjoYNG6aDBw%2BqX79%2B%2BuCDDxQXF6eioiK5XC5JUnp6uhITE1VeXq6goCCtWLFCCxYs0LFjx6y71S9atEhLly5VcXFxo076r6yslNPplNvtVlBQ0BW/Z63V4Cdb1/dV7n42tqVbAABcgZb8/G3SSe71mvPw2OHDh1VWVqbo6GhrncPhUFRUlLZv3y5Jys3NtW4bUc/lcikiIsKqyc7OltPptMKVJA0dOlROp9OjJiIiwgpXkhQTE6Oqqirl5uZaNVFRUR5fBRQTE6OSkhIdOXLE/jcAAAC0eo0KWF5eXg1maprrdg1lZWWSpLCwMI/1YWFh1raysjL5%2BfkpODj4kjX1M24/FBoa6lFz/n6Cg4Pl5%2Bd3yZr6x/U156uqqlJlZaXHAgAA2o9GXUVojFFiYqI1i3P27FlNnz69wVWEa9euta2x8wOcMeayoe78mgvV21FTP4N3sX7S0tK4GSsAAO1Yo2awpk6dqtDQUOtqvClTpsjlclmP6xc7hIeHS2o4O1ReXm7NHIWHh6u6uloVFRWXrDl27FiD1z9%2B/LhHzfn7qaioUE1NzSVrysvLJTWcZau3YMECud1uaykqKrr8wAEAQJvRqBmslStXNncflt69eys8PFxZWVkaNGiQpO/vv7V161Y999xzkqTIyEj5%2BvoqKytLEydOlCSVlpaqoKBAzz//vCRp2LBhcrvd2rlzp37xi19Iknbs2CG3263hw4dbNc8%2B%2B6xKS0vVrVs3SdKGDRvkcDgUGRlp1fzLv/yLqqur5efnZ9W4XC7dcMMNFxyDw%2BHwOGcLAAC0Lz/qJPcrderUKeXl5Vn3zjp8%2BLDy8vJUWFgoLy8vJScnKzU1VRkZGSooKFBiYqI6deqk%2BPh4SZLT6dS0adM0b948bdq0SXv37tWUKVM0cOBAjR49WpLUv39/xcbGKikpSTk5OcrJyVFSUpLi4uLUr18/SVJ0dLQGDBighIQE7d27V5s2bdL8%2BfOVlJRkXW0QHx8vh8OhxMREFRQUKCMjQ6mpqUpJSeFrgwAAwAU16U7udtm9e7dGjhxpPU5JSZH0/aHIVatW6bHHHtOZM2c0Y8YMVVRUaMiQIdqwYYMCAwOt57z00kvy8fHRxIkTdebMGY0aNUqrVq2StzO43DgAABWdSURBVLe3VbN69WrNmTPHutpw/PjxHvfe8vb21rp16zRjxgzdfvvt8vf3V3x8vBYvXmzVOJ1OZWVlaebMmRo8eLCCg4OVkpJi9QwAAHC%2BRt0HC1eG%2B2B9j/tgAQCuplZ3HywAAABcHAELAADAZgQsAAAAmxGwAAAAbEbAAgAAsBkBCwAAwGYELAAAAJsRsAAAAGxGwAIAALAZAQsAAMBmBCwAAACbEbAAAABsRsACAACwGQELAADAZgQsAAAAmxGwAAAAbEbAAgAAsBkBCwAAwGYELAAAAJsRsAAAAGxGwAIAALAZAQsAAMBmBCwAAACbEbAAAABsRsACAACwGQELAADAZgQsAAAAmxGwAAAAbEbAAgAAsBkBCwAAwGYELAAAAJsRsAAAAGxGwAIAALAZAQsAAMBmBCwAAACbEbAAAABsRsACAACwGQELAADAZgQsAAAAmxGwAAAAbEbAAgAAsBkBCwAAwGYELAAAAJsRsAAAAGxGwAIAALAZAQsAAMBmBCwAAACbEbAAAABsRsACAACwGQELAADAZgQsAAAAmxGwAAAAbHZNBqyFCxfKy8vLYwkPD7e2G2O0cOFCuVwu%2Bfv7a8SIEfr00089XqOqqkqzZ89WSEiIAgICNH78eBUXF3vUVFRUKCEhQU6nU06nUwkJCTpx4oRHTWFhocaNG6eAgACFhIRozpw5qq6ubr7BAwCAVu%2BaDFiS9LOf/UylpaXWkp%2Bfb217/vnntWTJEi1btky7du1SeHi4xowZo5MnT1o1ycnJysjIUHp6urZt26ZTp04pLi5OtbW1Vk18fLzy8vKUmZmpzMxM5eXlKSEhwdpeW1ursWPH6vTp09q2bZvS09O1Zs0azZs37%2Bq8CQAAoFXyaekGLsbHx8dj1qqeMUYvv/yynnzyST3wwAOSpDfeeENhYWH6wx/%2BoEcffVRut1uvv/663nrrLY0ePVqS9Pbbb6tnz57auHGjYmJidODAAWVmZionJ0dDhgyRJL322msaNmyYPvvsM/Xr108bNmzQ/v37VVRUJJfLJUl68cUXlZiYqGeffVZBQUFX6d0AAACtyTU7g3Xo0CG5XC717t1bkyZN0pdffilJOnz4sMrKyhQdHW3VOhwORUVFafv27ZKk3Nxc1dTUeNS4XC5FRERYNdnZ2XI6nVa4kqShQ4fK6XR61ERERFjhSpJiYmJUVVWl3Nzci/ZeVVWlyspKjwUAALQf12TAGjJkiN588019%2BOGHeu2111RWVqbhw4frm2%2B%2BUVlZmSQpLCzM4zlhYWHWtrKyMvn5%2BSk4OPiSNaGhoQ32HRoa6lFz/n6Cg4Pl5%2Bdn1VxIWlqadV6X0%2BlUz549m/gOAACA1uyaDFj33HOP/vEf/1EDBw7U6NGjtW7dOknfHwqs5%2BXl5fEcY0yDdec7v%2BZC9T%2Bm5nwLFiyQ2%2B22lqKiokv2BQAA2pZrMmCdLyAgQAMHDtShQ4es87LOn0EqLy%2B3ZpvCw8NVXV2tioqKS9YcO3aswb6OHz/uUXP%2BfioqKlRTU9NgZuuHHA6HgoKCPBYAANB%2BtIqAVVVVpQMHDqhbt27q3bu3wsPDlZWVZW2vrq7W1q1bNXz4cElSZGSkfH19PWpKS0tVUFBg1QwbNkxut1s7d%2B60anbs2CG32%2B1RU1BQoNLSUqtmw4YNcjgcioyMbNYxAwCA1uuavIpw/vz5GjdunK6//nqVl5frmWeeUWVlpaZOnSovLy8lJycrNTVVffr0UZ8%2BfZSamqpOnTopPj5ekuR0OjVt2jTNmzdPXbp0UefOnTV//nzrkKMk9e/fX7GxsUpKStKrr74qSfqnf/onxcXFqV%2B/fpKk6OhoDRgwQAkJCXrhhRf07bffav78%2BUpKSmJWCgAAXNQ1GbCKi4s1efJkff311%2BratauGDh2qnJwc9erVS5L02GOP6cyZM5oxY4YqKio0ZMgQbdiwQYGBgdZrvPTSS/Lx8dHEiRN15swZjRo1SqtWrZK3t7dVs3r1as2ZM8e62nD8%2BPFatmyZtd3b21vr1q3TjBkzdPvtt8vf31/x8fFavHjxVXonAABAa%2BRljDEt3URbV1lZKafTKbfb3a5nvgY/mdnSLTTJ7mdjW7oFAMAVaMnP31ZxDhYAAEBrQsACAACwGQELAADAZgQsAAAAmxGwAAAAbEbAAgAAsBkBCwAAwGYELAAAAJsRsAAAAGxGwAIAALAZAQsAAMBmBCwAAACbEbAAAABsRsACAACwGQELAADAZgQsAAAAmxGwAAAAbEbAAgAAsBkBCwAAwGYELAAAAJsRsAAAAGxGwAIAALAZAQsAAMBmBCwAAACbEbAAAABsRsACAACwGQELAADAZgQsAAAAmxGwAAAAbEbAAgAAsBkBCwAAwGYELAAAAJsRsAAAAGxGwAIAALAZAQsAAMBmBCwAAACbEbAAAABsRsACAACwGQELAADAZgQsAAAAmxGwAAAAbEbAAgAAsBkBCwAAwGYELAAAAJsRsAAAAGxGwAIAALAZAQsAAMBmBCwAAACbEbAAAABsRsACAACwGQELAADAZgQsAAAAmxGwGmn58uXq3bu3OnbsqMjISP31r39t6ZYAAMA1ioDVCO%2B%2B%2B66Sk5P15JNPau/evbrzzjt1zz33qLCwsKVbAwAA1yACViMsWbJE06ZN069//Wv1799fL7/8snr27KkVK1a0dGsAAOAa5NPSDVzrqqurlZubqyeeeMJjfXR0tLZv337B51RVVamqqsp67Ha7JUmVlZXN12grUFt1uqVbaJL2/vMCgNau/u%2B4Meaq75uAdRlff/21amtrFRYW5rE%2BLCxMZWVlF3xOWlqannrqqQbre/bs2Sw9onk4X2zpDgAAdjh58qScTudV3ScBq5G8vLw8HhtjGqyrt2DBAqWkpFiP6%2Brq9O2336pLly4XfE5lZaV69uypoqIiBQUF2dv4NY6xM3bG3j6013FLjL0lx26M0cmTJ%2BVyua76vglYlxESEiJvb%2B8Gs1Xl5eUNZrXqORwOORwOj3XXXXfdZfcVFBTU7v7nq8fYGXt7017H3l7HLTH2lhr71Z65qsdJ7pfh5%2BenyMhIZWVleazPysrS8OHDW6grAABwLWMGqxFSUlKUkJCgwYMHa9iwYfr973%2BvwsJCTZ8%2BvaVbAwAA1yDvhQsXLmzpJq51ERER6tKli1JTU7V48WKdOXNGb731lm699Vbb9uHt7a0RI0bIx6f9ZV7Gztjbm/Y69vY6bomxt8exe5mWuHYRAACgDeMcLAAAAJsRsAAAAGxGwAIAALAZAQsAAMBmBCybHDlyRNOmTVPv3r3l7%2B%2Bvn/70p/rd736n6upqj7rCwkKNGzdOAQEBCgkJ0Zw5cxrU5OfnKyoqSv7%2B/urevbuefvrpBt%2BjtHXrVkVGRqpjx4668cYb9corrzToac2aNRowYIAcDocGDBigjIwM%2Bwd%2BhZYvX67evXurY8eOioyM1F//%2BteWbumi0tLS9POf/1yBgYEKDQ3VhAkT9Nlnn3nUGGO0cOFCuVwu%2Bfv7a8SIEfr00089aqqqqjR79myFhIQoICBA48ePV3FxsUdNRUWFEhIS5HQ65XQ6lZCQoBMnTnjUNOZ3qTmkpaXJy8tLycnJ1rq2PO6jR49qypQp6tKlizp16qR/%2BId/UG5ubpsf%2B7lz5/Sv//qv1t%2B0G2%2B8UU8//bTq6ura3Ng//vhjjRs3Ti6XS15eXvrzn//ssf1aG2djPiPsGHtNTY0ef/xxDRw4UAEBAXK5XHr44YdVUlLSJsbe7Axs8cEHH5jExETz4Ycfmi%2B%2B%2BML8z//8jwkNDTXz5s2zas6dO2ciIiLMyJEjzZ49e0xWVpZxuVxm1qxZVo3b7TZhYWFm0qRJJj8/36xZs8YEBgaaxYsXWzVffvml6dSpk5k7d67Zv3%2B/ee2114yvr6/505/%2BZNVs377deHt7m9TUVHPgwAGTmppqfHx8TE5OztV5QxohPT3d%2BPr6mtdee83s37/fzJ071wQEBJivvvqqpVu7oJiYGLNy5UpTUFBg8vLyzNixY831119vTp06ZdUsWrTIBAYGmjVr1pj8/Hzz4IMPmm7dupnKykqrZvr06aZ79%2B4mKyvL7Nmzx4wcOdLceuut5ty5c1ZNbGysiYiIMNu3bzfbt283ERERJi4uztremN%2Bl5rBz505zww03mFtuucXMnTu3zY/722%2B/Nb169TKJiYlmx44d5vDhw2bjxo3m//7v/9r82J955hnTpUsX87//%2B7/m8OHD5r333jM/%2BclPzMsvv9zmxr5%2B/Xrz5JNPmjVr1hhJJiMjw2P7tTTOxnxG2DX2EydOmNGjR5t3333XHDx40GRnZ5shQ4aYyMhIj9dorWNvbgSsZvT888%2Bb3r17W4/Xr19vOnToYI4ePWqte%2Bedd4zD4TBut9sYY8zy5cuN0%2Bk0Z8%2BetWrS0tKMy%2BUydXV1xhhjHnvsMXPzzTd77OvRRx81Q4cOtR5PnDjRxMbGetTExMSYSZMm2TfAK/SLX/zCTJ8%2B3WPdzTffbJ544okW6qhpysvLjSSzdetWY4wxdXV1Jjw83CxatMiqOXv2rHE6neaVV14xxnz/B8vX19ekp6dbNUePHjUdOnQwmZmZxhhj9u/fbyR5hOHs7GwjyRw8eNAY07jfJbudPHnS9OnTx2RlZZmoqCgrYLXlcT/%2B%2BOPmjjvuuOj2tjz2sWPHmkceecRj3QMPPGCmTJlijGm7Yz8/ZFxr42zMZ4RdY7%2BQnTt3GknWP4TbytibA4cIm5Hb7Vbnzp2tx9nZ2YqIiPD40smYmBhVVVVZhxyys7MVFRXl8V2GMTExKikp0ZEjR6ya6Ohoj33FxMRo9%2B7dqqmpuWTN9u3bbR3jj1VdXa3c3NwGPUZHR18zPV6O2%2B2WJOtnfPjwYZWVlXmMyeFwKCoqyhpTbm6uampqPGpcLpciIiKsmuzsbDmdTg0ZMsSqGTp0qJxOp0fN5X6X7DZz5kyNHTtWo0eP9ljflsf9/vvva/DgwfrlL3%2Bp0NBQDRo0SK%2B99lq7GPsdd9yhTZs26fPPP5ckffLJJ9q2bZvuvffeNj/2H7rWxtmYz4jm5Ha75eXlZX2/bnsae1MRsJrJF198oaVLl3p8nU5ZWVmDL4gODg6Wn5%2Bf9WXSF6qpf3y5mnPnzunrr7%2B%2BZM35X1rdUr7%2B%2BmvV1tZe0z1eijFGKSkpuuOOOxQRESHp//98LjWmsrIy%2Bfn5KTg4%2BJI1oaGhDfYZGhp6yd%2BB83%2BX7JSenq7c3FylpaU12NaWx/3ll19qxYoV6tOnjz788ENNnz5dc%2BbM0Ztvvmn1Uz%2BOS42rNY798ccf1%2BTJk3XzzTfL19dXgwYNUnJysiZPnmz1Uz%2BOS42rNY79h661cTbmM6K5nD17Vk888YTi4%2BOtL25uL2P/MQhYl7Fw4UJ5eXldctm9e7fHc0pKShQbG6tf/vKX%2BvWvf%2B2xzcvLq8E%2BjDEe68%2BvMX8/gc%2BOmgvtvyW1hh4vZNasWdq3b5/eeeedBtt%2BzJgu9zvwY2vsUFRUpLlz52r16tXq2LHjReva2rglqa6uTrfddptSU1M1aNAgPfroo0pKStKKFSs86tri2N999129/fbb%2BsMf/qA9e/bojTfe0OLFi/XGG2941LXFsV/ItTTOxvz9t1tNTY0mTZqkuro6LV%2B%2B/LL1bWnsPxYB6zJmzZqlAwcOXHKpn8GQvg9XI0eOtL4U%2BofCw8MbpOyKigrV1NRYKfxCNeXl5ZJ02RofHx916dLlkjXnp/%2BWEhISIm9v72u6x4uZPXu23n//fW3ZskU9evSw1oeHh0tq%2BC%2BpH44pPDxc1dXVqqiouGTNsWPHGuz3%2BPHjl/wdOP93yS65ubkqLy9XZGSkfHx85OPjo61bt%2Bo///M/5ePjc9F/Qbb2cUtSt27dNGDAAI91/fv3V2FhodWP1DbH/s///M964oknNGnSJA0cOFAJCQn67W9/a81ituWx/9C1Ns7GfEbYraamRhMnTtThw4eVlZVlzV7V99OWx35FrsJ5Xu1GcXGx6dOnj5k0aZLH1RP16k/iKykpsdalp6c3OInvuuuuM1VVVVbNokWLGpzk3r9/f4/Xnj59eoOT3O%2B55x6PmtjY2GvuJPff/OY3Huv69%2B9/zZ7kXldXZ2bOnGlcLpf5/PPPL7g9PDzcPPfcc9a6qqqqC54M%2B%2B6771o1JSUlFzwhdMeOHVZNTk7OBU8IvdTvkl0qKytNfn6%2BxzJ48GAzZcoUk5%2Bf32bHbYwxkydPbnCSe3Jyshk2bJgxpu3%2BzI0xpnPnzmb58uUe61JTU02fPn2MMW137LrISe7Xyjgb8xlh19iNMaa6utpMmDDB/OxnPzPl5eUNntNWxt4cCFg2OXr0qLnpppvM3XffbYqLi01paam11Ku/DHXUqFFmz549ZuPGjaZHjx4el6GeOHHChIWFmcmTJ5v8/Hyzdu1aExQUdMHbNPz2t781%2B/fvN6%2B//nqD2zT87W9/M97e3mbRokXmwIEDZtGiRdfsbRpef/11s3//fpOcnGwCAgLMkSNHWrq1C/rNb35jnE6n%2Beijjzx%2Bvt99951Vs2jRIuN0Os3atWtNfn6%2BmTx58gUv5%2B7Ro4fZuHGj2bNnj7n77rsveEnzLbfcYrKzs012drYZOHDgBS9pvtTvUnP64VWEbXncO3fuND4%2BPubZZ581hw4dMqtXrzadOnUyb7/9dpsf%2B9SpU0337t2t2zSsXbvWhISEmMcee6zNjf3kyZNm7969Zu/evUaSWbJkidm7d691pdy1NM7GfEbYNfaamhozfvx406NHD5OXl%2Bfxd%2B%2BHIae1jr25EbBssnLlSiPpgssPffXVV2bs2LHG39/fdO7c2cyaNcvjklNjjNm3b5%2B58847jcPhMOHh4WbhwoUN0vlHH31kBg0aZPz8/MwNN9xgVqxY0aCn9957z/Tr18/4%2Bvqam2%2B%2B2axZs8b%2BgV%2Bh//qv/zK9evUyfn5%2B5rbbbrNueXAtutjPd%2BXKlVZNXV2d%2Bd3vfmfCw8ONw%2BEwd911l8nPz/d4nTNnzphZs2aZzp07G39/fxMXF2cKCws9ar755hvz0EMPmcDAQBMYGGgeeughU1FR4VHTmN%2Bl5nJ%2BwGrL4/7LX/5iIiIijMPhMDfffLP5/e9/77G9rY69srLSzJ0711x//fWmY8eO5sYbbzRPPvmkxwdrWxn7li1bLvj/9tSpU6/JcTbmM8KOsR8%2BfPiif/e2bNnS6sfe3LyMuVZvgQoAANA6cZI7AACAzQhYAAAANiNgAQAA2IyABQAAYDMCFgAAgM0IWAAAADYjYAEAANiMgAUAAGAzAhYAAIDNCFgAAAA2I2ABAADYjIAFAABgMwIWAACAzQhYAAAANiNgAQAA2IyABQAAYDMCFgAAgM0IWAAAADb7fxtVbo2z5glxAAAAAElFTkSuQmCC\"/>\n",
       "        </div>\n",
       "        <div role=\"tabpanel\" class=\"tab-pane col-md-12\" id=\"common-8432787808141001930\">\n",
       "            \n",
       "<table class=\"freq table table-hover\">\n",
       "    <thead>\n",
       "    <tr>\n",
       "        <td class=\"fillremaining\">Value</td>\n",
       "        <td class=\"number\">Count</td>\n",
       "        <td class=\"number\">Frequency (%)</td>\n",
       "        <td style=\"min-width:200px\">&nbsp;</td>\n",
       "    </tr>\n",
       "    </thead>\n",
       "    <tr class=\"\">\n",
       "        <td class=\"fillremaining\">0.0</td>\n",
       "        <td class=\"number\">110806</td>\n",
       "        <td class=\"number\">44.7%</td>\n",
       "        <td>\n",
       "            <div class=\"bar\" style=\"width:100%\">&nbsp;</div>\n",
       "        </td>\n",
       "</tr><tr class=\"\">\n",
       "        <td class=\"fillremaining\">1.0</td>\n",
       "        <td class=\"number\">31169</td>\n",
       "        <td class=\"number\">12.6%</td>\n",
       "        <td>\n",
       "            <div class=\"bar\" style=\"width:28%\">&nbsp;</div>\n",
       "        </td>\n",
       "</tr><tr class=\"\">\n",
       "        <td class=\"fillremaining\">2.0</td>\n",
       "        <td class=\"number\">14355</td>\n",
       "        <td class=\"number\">5.8%</td>\n",
       "        <td>\n",
       "            <div class=\"bar\" style=\"width:13%\">&nbsp;</div>\n",
       "        </td>\n",
       "</tr><tr class=\"\">\n",
       "        <td class=\"fillremaining\">3.0</td>\n",
       "        <td class=\"number\">9069</td>\n",
       "        <td class=\"number\">3.7%</td>\n",
       "        <td>\n",
       "            <div class=\"bar\" style=\"width:9%\">&nbsp;</div>\n",
       "        </td>\n",
       "</tr><tr class=\"\">\n",
       "        <td class=\"fillremaining\">4.0</td>\n",
       "        <td class=\"number\">6586</td>\n",
       "        <td class=\"number\">2.7%</td>\n",
       "        <td>\n",
       "            <div class=\"bar\" style=\"width:6%\">&nbsp;</div>\n",
       "        </td>\n",
       "</tr><tr class=\"\">\n",
       "        <td class=\"fillremaining\">5.0</td>\n",
       "        <td class=\"number\">5039</td>\n",
       "        <td class=\"number\">2.0%</td>\n",
       "        <td>\n",
       "            <div class=\"bar\" style=\"width:5%\">&nbsp;</div>\n",
       "        </td>\n",
       "</tr><tr class=\"\">\n",
       "        <td class=\"fillremaining\">6.0</td>\n",
       "        <td class=\"number\">4148</td>\n",
       "        <td class=\"number\">1.7%</td>\n",
       "        <td>\n",
       "            <div class=\"bar\" style=\"width:4%\">&nbsp;</div>\n",
       "        </td>\n",
       "</tr><tr class=\"\">\n",
       "        <td class=\"fillremaining\">7.0</td>\n",
       "        <td class=\"number\">3235</td>\n",
       "        <td class=\"number\">1.3%</td>\n",
       "        <td>\n",
       "            <div class=\"bar\" style=\"width:3%\">&nbsp;</div>\n",
       "        </td>\n",
       "</tr><tr class=\"\">\n",
       "        <td class=\"fillremaining\">8.0</td>\n",
       "        <td class=\"number\">2905</td>\n",
       "        <td class=\"number\">1.2%</td>\n",
       "        <td>\n",
       "            <div class=\"bar\" style=\"width:3%\">&nbsp;</div>\n",
       "        </td>\n",
       "</tr><tr class=\"\">\n",
       "        <td class=\"fillremaining\">9.0</td>\n",
       "        <td class=\"number\">2502</td>\n",
       "        <td class=\"number\">1.0%</td>\n",
       "        <td>\n",
       "            <div class=\"bar\" style=\"width:3%\">&nbsp;</div>\n",
       "        </td>\n",
       "</tr><tr class=\"other\">\n",
       "        <td class=\"fillremaining\">Other values (2844)</td>\n",
       "        <td class=\"number\">53549</td>\n",
       "        <td class=\"number\">21.6%</td>\n",
       "        <td>\n",
       "            <div class=\"bar\" style=\"width:48%\">&nbsp;</div>\n",
       "        </td>\n",
       "</tr><tr class=\"missing\">\n",
       "        <td class=\"fillremaining\">(Missing)</td>\n",
       "        <td class=\"number\">4780</td>\n",
       "        <td class=\"number\">1.9%</td>\n",
       "        <td>\n",
       "            <div class=\"bar\" style=\"width:5%\">&nbsp;</div>\n",
       "        </td>\n",
       "</tr>\n",
       "</table>\n",
       "        </div>\n",
       "        <div role=\"tabpanel\" class=\"tab-pane col-md-12\"  id=\"extreme-8432787808141001930\">\n",
       "            <p class=\"h4\">Minimum 5 values</p>\n",
       "            \n",
       "<table class=\"freq table table-hover\">\n",
       "    <thead>\n",
       "    <tr>\n",
       "        <td class=\"fillremaining\">Value</td>\n",
       "        <td class=\"number\">Count</td>\n",
       "        <td class=\"number\">Frequency (%)</td>\n",
       "        <td style=\"min-width:200px\">&nbsp;</td>\n",
       "    </tr>\n",
       "    </thead>\n",
       "    <tr class=\"\">\n",
       "        <td class=\"fillremaining\">-15723.0</td>\n",
       "        <td class=\"number\">1</td>\n",
       "        <td class=\"number\">0.0%</td>\n",
       "        <td>\n",
       "            <div class=\"bar\" style=\"width:50%\">&nbsp;</div>\n",
       "        </td>\n",
       "</tr><tr class=\"\">\n",
       "        <td class=\"fillremaining\">-9103.0</td>\n",
       "        <td class=\"number\">2</td>\n",
       "        <td class=\"number\">0.0%</td>\n",
       "        <td>\n",
       "            <div class=\"bar\" style=\"width:100%\">&nbsp;</div>\n",
       "        </td>\n",
       "</tr><tr class=\"\">\n",
       "        <td class=\"fillremaining\">-9065.0</td>\n",
       "        <td class=\"number\">1</td>\n",
       "        <td class=\"number\">0.0%</td>\n",
       "        <td>\n",
       "            <div class=\"bar\" style=\"width:50%\">&nbsp;</div>\n",
       "        </td>\n",
       "</tr><tr class=\"\">\n",
       "        <td class=\"fillremaining\">-8027.0</td>\n",
       "        <td class=\"number\">1</td>\n",
       "        <td class=\"number\">0.0%</td>\n",
       "        <td>\n",
       "            <div class=\"bar\" style=\"width:50%\">&nbsp;</div>\n",
       "        </td>\n",
       "</tr><tr class=\"\">\n",
       "        <td class=\"fillremaining\">-6008.0</td>\n",
       "        <td class=\"number\">1</td>\n",
       "        <td class=\"number\">0.0%</td>\n",
       "        <td>\n",
       "            <div class=\"bar\" style=\"width:50%\">&nbsp;</div>\n",
       "        </td>\n",
       "</tr>\n",
       "</table>\n",
       "            <p class=\"h4\">Maximum 5 values</p>\n",
       "            \n",
       "<table class=\"freq table table-hover\">\n",
       "    <thead>\n",
       "    <tr>\n",
       "        <td class=\"fillremaining\">Value</td>\n",
       "        <td class=\"number\">Count</td>\n",
       "        <td class=\"number\">Frequency (%)</td>\n",
       "        <td style=\"min-width:200px\">&nbsp;</td>\n",
       "    </tr>\n",
       "    </thead>\n",
       "    <tr class=\"\">\n",
       "        <td class=\"fillremaining\">108157.0</td>\n",
       "        <td class=\"number\">1</td>\n",
       "        <td class=\"number\">0.0%</td>\n",
       "        <td>\n",
       "            <div class=\"bar\" style=\"width:100%\">&nbsp;</div>\n",
       "        </td>\n",
       "</tr><tr class=\"\">\n",
       "        <td class=\"fillremaining\">113048.0</td>\n",
       "        <td class=\"number\">1</td>\n",
       "        <td class=\"number\">0.0%</td>\n",
       "        <td>\n",
       "            <div class=\"bar\" style=\"width:100%\">&nbsp;</div>\n",
       "        </td>\n",
       "</tr><tr class=\"\">\n",
       "        <td class=\"fillremaining\">115888.0</td>\n",
       "        <td class=\"number\">1</td>\n",
       "        <td class=\"number\">0.0%</td>\n",
       "        <td>\n",
       "            <div class=\"bar\" style=\"width:100%\">&nbsp;</div>\n",
       "        </td>\n",
       "</tr><tr class=\"\">\n",
       "        <td class=\"fillremaining\">121027.0</td>\n",
       "        <td class=\"number\">1</td>\n",
       "        <td class=\"number\">0.0%</td>\n",
       "        <td>\n",
       "            <div class=\"bar\" style=\"width:100%\">&nbsp;</div>\n",
       "        </td>\n",
       "</tr><tr class=\"\">\n",
       "        <td class=\"fillremaining\">123259.0</td>\n",
       "        <td class=\"number\">1</td>\n",
       "        <td class=\"number\">0.0%</td>\n",
       "        <td>\n",
       "            <div class=\"bar\" style=\"width:100%\">&nbsp;</div>\n",
       "        </td>\n",
       "</tr>\n",
       "</table>\n",
       "        </div>\n",
       "    </div>\n",
       "</div>\n",
       "</div><div class=\"row variablerow ignore\">\n",
       "    <div class=\"col-md-3 namecol\">\n",
       "        <p class=\"h4 pp-anchor\" id=\"pp_var_Deaths\"><s>Deaths</s><br/>\n",
       "            <small>Highly correlated</small>\n",
       "        </p>\n",
       "    </div><div class=\"col-md-3\">\n",
       "    <p><em>This variable is highly correlated with <a href=\"#pp_var_Confirmed\"><code>Confirmed</code></a> and should be ignored for analysis</em></p>\n",
       "</div>\n",
       "<div class=\"col-md-6\">\n",
       "    <table class=\"stats \">\n",
       "        <tr>\n",
       "            <th>Correlation</th>\n",
       "            <td>0.98692</td>\n",
       "        </tr>\n",
       "    </table>\n",
       "</div>\n",
       "</div><div class=\"row variablerow ignore\">\n",
       "    <div class=\"col-md-3 namecol\">\n",
       "        <p class=\"h4 pp-anchor\" id=\"pp_var_DeathsChange\"><s>DeathsChange</s><br/>\n",
       "            <small>Highly correlated</small>\n",
       "        </p>\n",
       "    </div><div class=\"col-md-3\">\n",
       "    <p><em>This variable is highly correlated with <a href=\"#pp_var_ConfirmedChange\"><code>ConfirmedChange</code></a> and should be ignored for analysis</em></p>\n",
       "</div>\n",
       "<div class=\"col-md-6\">\n",
       "    <table class=\"stats \">\n",
       "        <tr>\n",
       "            <th>Correlation</th>\n",
       "            <td>0.9127</td>\n",
       "        </tr>\n",
       "    </table>\n",
       "</div>\n",
       "</div><div class=\"row variablerow ignore\">\n",
       "    <div class=\"col-md-3 namecol\">\n",
       "        <p class=\"h4 pp-anchor\" id=\"pp_var_Recovered\"><s>Recovered</s><br/>\n",
       "            <small>Highly correlated</small>\n",
       "        </p>\n",
       "    </div><div class=\"col-md-3\">\n",
       "    <p><em>This variable is highly correlated with <a href=\"#pp_var_Deaths\"><code>Deaths</code></a> and should be ignored for analysis</em></p>\n",
       "</div>\n",
       "<div class=\"col-md-6\">\n",
       "    <table class=\"stats \">\n",
       "        <tr>\n",
       "            <th>Correlation</th>\n",
       "            <td>0.96518</td>\n",
       "        </tr>\n",
       "    </table>\n",
       "</div>\n",
       "</div><div class=\"row variablerow\">\n",
       "    <div class=\"col-md-3 namecol\">\n",
       "        <p class=\"h4 pp-anchor\" id=\"pp_var_RecoveredChange\">RecoveredChange<br/>\n",
       "            <small>Numeric</small>\n",
       "        </p>\n",
       "    </div><div class=\"col-md-6\">\n",
       "    <div class=\"row\">\n",
       "        <div class=\"col-sm-6\">\n",
       "            <table class=\"stats \">\n",
       "                <tr>\n",
       "                    <th>Distinct count</th>\n",
       "                    <td>1713</td>\n",
       "                </tr>\n",
       "                <tr>\n",
       "                    <th>Unique (%)</th>\n",
       "                    <td>0.7%</td>\n",
       "                </tr>\n",
       "                <tr class=\"alert\">\n",
       "                    <th>Missing (%)</th>\n",
       "                    <td>75.8%</td>\n",
       "                </tr>\n",
       "                <tr class=\"alert\">\n",
       "                    <th>Missing (n)</th>\n",
       "                    <td>188119</td>\n",
       "                </tr>\n",
       "                <tr class=\"ignore\">\n",
       "                    <th>Infinite (%)</th>\n",
       "                    <td>0.0%</td>\n",
       "                </tr>\n",
       "                <tr class=\"ignore\">\n",
       "                    <th>Infinite (n)</th>\n",
       "                    <td>0</td>\n",
       "                </tr>\n",
       "            </table>\n",
       "\n",
       "        </div>\n",
       "        <div class=\"col-sm-6\">\n",
       "            <table class=\"stats \">\n",
       "\n",
       "                <tr>\n",
       "                    <th>Mean</th>\n",
       "                    <td>90.597</td>\n",
       "                </tr>\n",
       "                <tr>\n",
       "                    <th>Minimum</th>\n",
       "                    <td>-97486</td>\n",
       "                </tr>\n",
       "                <tr>\n",
       "                    <th>Maximum</th>\n",
       "                    <td>206380</td>\n",
       "                </tr>\n",
       "                <tr class=\"alert\">\n",
       "                    <th>Zeros (%)</th>\n",
       "                    <td>15.1%</td>\n",
       "                </tr>\n",
       "            </table>\n",
       "        </div>\n",
       "    </div>\n",
       "</div>\n",
       "<div class=\"col-md-3 collapse in\" id=\"minihistogram-6009902033636035816\">\n",
       "    <img src=\"data:image/png;base64,iVBORw0KGgoAAAANSUhEUgAAAMgAAABLCAYAAAA1fMjoAAAABHNCSVQICAgIfAhkiAAAAAlwSFlzAAAPYQAAD2EBqD%2BnaQAAADh0RVh0U29mdHdhcmUAbWF0cGxvdGxpYiB2ZXJzaW9uMy4yLjEsIGh0dHA6Ly9tYXRwbG90bGliLm9yZy%2Bj8jraAAABnUlEQVR4nO3XsW3bUBiF0Z%2BCW1K9IG7hIbJTapfZJ0NkCwkagEQKF9FL4cjlBRwgj2FyTk3gPhLvKzi01lp1dr1ea57n3rPs3OVyqfP53HXzqevaL%2BM4VtXbC0/TtMUR2JFlWWqe5/d709MmgQzDUFVV0zTtKpDnz18/9Py3l09/6CT/p8e96enQfRF2RCAQCAQCgUAgEAgEAoFAIBAIBAKBQCAQCAQCgUAgEAgEAoFAIBAIBAKBQCAQCAQCgUAgEAgEAoFAIBAIBAKBQCAQCAQCgUAgEAgEAoFAIBAIBAKBQCAQCAQCgUAgEAgEAoFAIBAIBAKBQCAQCAQCgUAgEAiethhtrVVV1bIsW8z/th%2Bv3z/0/N7e72/1%2BI6Pe9PTJoGs61pVVfM8bzHfzfHL1if4t6zrWsfjsevm0DbI8n6/1%2B12q3EcaxiG3vPsTGut1nWt0%2BlUh0Pfv4JNAoG98JMOgUAgEAgEAoFAIBAIBAKBQCAQCAQCgUAgEAgEAoFAIBAIBAKBQCAQCAQCgUAgEAgEAoFAIBAIBAKBQPATsUpAcZ5f/ecAAAAASUVORK5CYII%3D\">\n",
       "\n",
       "</div>\n",
       "<div class=\"col-md-12 text-right\">\n",
       "    <a role=\"button\" data-toggle=\"collapse\" data-target=\"#descriptives-6009902033636035816,#minihistogram-6009902033636035816\"\n",
       "       aria-expanded=\"false\" aria-controls=\"collapseExample\">\n",
       "        Toggle details\n",
       "    </a>\n",
       "</div>\n",
       "<div class=\"row collapse col-md-12\" id=\"descriptives-6009902033636035816\">\n",
       "    <ul class=\"nav nav-tabs\" role=\"tablist\">\n",
       "        <li role=\"presentation\" class=\"active\"><a href=\"#quantiles-6009902033636035816\"\n",
       "                                                  aria-controls=\"quantiles-6009902033636035816\" role=\"tab\"\n",
       "                                                  data-toggle=\"tab\">Statistics</a></li>\n",
       "        <li role=\"presentation\"><a href=\"#histogram-6009902033636035816\" aria-controls=\"histogram-6009902033636035816\"\n",
       "                                   role=\"tab\" data-toggle=\"tab\">Histogram</a></li>\n",
       "        <li role=\"presentation\"><a href=\"#common-6009902033636035816\" aria-controls=\"common-6009902033636035816\"\n",
       "                                   role=\"tab\" data-toggle=\"tab\">Common Values</a></li>\n",
       "        <li role=\"presentation\"><a href=\"#extreme-6009902033636035816\" aria-controls=\"extreme-6009902033636035816\"\n",
       "                                   role=\"tab\" data-toggle=\"tab\">Extreme Values</a></li>\n",
       "\n",
       "    </ul>\n",
       "\n",
       "    <div class=\"tab-content\">\n",
       "        <div role=\"tabpanel\" class=\"tab-pane active row\" id=\"quantiles-6009902033636035816\">\n",
       "            <div class=\"col-md-4 col-md-offset-1\">\n",
       "                <p class=\"h4\">Quantile statistics</p>\n",
       "                <table class=\"stats indent\">\n",
       "                    <tr>\n",
       "                        <th>Minimum</th>\n",
       "                        <td>-97486</td>\n",
       "                    </tr>\n",
       "                    <tr>\n",
       "                        <th>5-th percentile</th>\n",
       "                        <td>0</td>\n",
       "                    </tr>\n",
       "                    <tr>\n",
       "                        <th>Q1</th>\n",
       "                        <td>0</td>\n",
       "                    </tr>\n",
       "                    <tr>\n",
       "                        <th>Median</th>\n",
       "                        <td>0</td>\n",
       "                    </tr>\n",
       "                    <tr>\n",
       "                        <th>Q3</th>\n",
       "                        <td>3</td>\n",
       "                    </tr>\n",
       "                    <tr>\n",
       "                        <th>95-th percentile</th>\n",
       "                        <td>117</td>\n",
       "                    </tr>\n",
       "                    <tr>\n",
       "                        <th>Maximum</th>\n",
       "                        <td>206380</td>\n",
       "                    </tr>\n",
       "                    <tr>\n",
       "                        <th>Range</th>\n",
       "                        <td>303870</td>\n",
       "                    </tr>\n",
       "                    <tr>\n",
       "                        <th>Interquartile range</th>\n",
       "                        <td>3</td>\n",
       "                    </tr>\n",
       "                </table>\n",
       "            </div>\n",
       "            <div class=\"col-md-4 col-md-offset-2\">\n",
       "                <p class=\"h4\">Descriptive statistics</p>\n",
       "                <table class=\"stats indent\">\n",
       "                    <tr>\n",
       "                        <th>Standard deviation</th>\n",
       "                        <td>1731.1</td>\n",
       "                    </tr>\n",
       "                    <tr>\n",
       "                        <th>Coef of variation</th>\n",
       "                        <td>19.107</td>\n",
       "                    </tr>\n",
       "                    <tr>\n",
       "                        <th>Kurtosis</th>\n",
       "                        <td>4258.6</td>\n",
       "                    </tr>\n",
       "                    <tr>\n",
       "                        <th>Mean</th>\n",
       "                        <td>90.597</td>\n",
       "                    </tr>\n",
       "                    <tr>\n",
       "                        <th>MAD</th>\n",
       "                        <td>176.12</td>\n",
       "                    </tr>\n",
       "                    <tr class=\"alert\">\n",
       "                        <th>Skewness</th>\n",
       "                        <td>43.725</td>\n",
       "                    </tr>\n",
       "                    <tr>\n",
       "                        <th>Sum</th>\n",
       "                        <td>5438000</td>\n",
       "                    </tr>\n",
       "                    <tr>\n",
       "                        <th>Variance</th>\n",
       "                        <td>2996600</td>\n",
       "                    </tr>\n",
       "                    <tr>\n",
       "                        <th>Memory size</th>\n",
       "                        <td>1.9 MiB</td>\n",
       "                    </tr>\n",
       "                </table>\n",
       "            </div>\n",
       "        </div>\n",
       "        <div role=\"tabpanel\" class=\"tab-pane col-md-8 col-md-offset-2\" id=\"histogram-6009902033636035816\">\n",
       "            <img src=\"data:image/png;base64,iVBORw0KGgoAAAANSUhEUgAAAlgAAAGQCAYAAAByNR6YAAAABHNCSVQICAgIfAhkiAAAAAlwSFlzAAAPYQAAD2EBqD%2BnaQAAADh0RVh0U29mdHdhcmUAbWF0cGxvdGxpYiB2ZXJzaW9uMy4yLjEsIGh0dHA6Ly9tYXRwbG90bGliLm9yZy%2Bj8jraAAAgAElEQVR4nO3df3BU5d3//1fMjzWkyTYQk2UFMa0RiUGLoQ0BW0AgQQlUnftGGxuhUsSbQogkg6XOfMTeGhAw2A63iNQBf1DTWqS3cyNpYkVaGn5GUgkgpYXyMyEoywYwbGK4vn/45UyXQIz0gmzg%2BZg5M%2Bw57z3Xda6cJa%2B5cs7ZMGOMEQAAAKy5pqM7AAAAcKUhYAEAAFhGwAIAALCMgAUAAGAZAQsAAMAyAhYAAIBlBCwAAADLCFgAAACWEbAAAAAsI2ABAABYRsACAACwjIAFAABgGQELAADAMgIWAACAZQQsAAAAywhYAAAAlhGwAAAALCNgAQAAWEbAAgAAsIyABQAAYBkBCwAAwDICFgAAgGUELAAAAMsIWAAAAJYRsAAAACwjYAEAAFhGwAIAALCMgAUAAGAZAQsAAMAyAhYAAIBlBCwAAADLCFgAAACWEbAAAAAsI2ABAABYRsACAACwjIAFAABgGQELAADAMgIWAACAZREd3YGrwZkzZ3T48GHFxsYqLCyso7sDAMBVwRijEydOyOv16pprLu%2BcEgHrMjh8%2BLB69uzZ0d0AAOCqdODAAfXo0eOytknAugxiY2MlffEDjouL6%2BDeAABwdWhoaFDPnj2d38OXEwHrMjj7Z8G4uDgCFgAAl1lHXJ7DRe4AAACWEbAAAAAsI2ABAABYRsACAACwjIAFAABgGQELAADAMgIWAACAZQQsAAAAy0I2YB06dEg//OEP1a1bN3Xp0kXf%2Bta3VFVV5Ww3xmjWrFnyer2Kjo7WkCFDtH379qB9BAIBTZ06VQkJCYqJidGYMWN08ODBoBqfz6e8vDy53W653W7l5eXp%2BPHjQTX79%2B/X6NGjFRMTo4SEBOXn56upqenSHTwAAOjUQjJg%2BXw%2BDRo0SJGRkVq9erV27Nih559/Xl//%2Btedmrlz56qkpEQLFy7U5s2b5fF4NGLECJ04ccKpKSgo0MqVK1VaWqp169bp5MmTysnJUUtLi1OTm5ur6upqlZWVqaysTNXV1crLy3O2t7S0aNSoUTp16pTWrVun0tJSrVixQoWFhZdnMAAAQOdjQtATTzxh7rzzzgtuP3PmjPF4PGbOnDnOutOnTxu3221eeuklY4wxx48fN5GRkaa0tNSpOXTokLnmmmtMWVmZMcaYHTt2GElmw4YNTs369euNJPPxxx8bY4x59913zTXXXGMOHTrk1Lz55pvG5XIZv9/fruPx%2B/1GUrvrAQDAv68jf/%2BG5AzWO%2B%2B8o/79%2B%2Bs///M/lZiYqH79%2BmnJkiXO9r1796qurk5ZWVnOOpfLpcGDB6uyslKSVFVVpebm5qAar9ertLQ0p2b9%2BvVyu93KyMhwagYMGCC32x1Uk5aWJq/X69RkZ2crEAgE/cnyXwUCATU0NAQtAADg6hGSX/a8Z88eLVq0SNOnT9fPfvYzbdq0Sfn5%2BXK5XHr44YdVV1cnSUpKSgp6X1JSkvbt2ydJqqurU1RUlOLj41vVnH1/XV2dEhMTW7WfmJgYVHNuO/Hx8YqKinJqzjV79mw9/fTTF3HkwMXr/2RZR3eh3bY8O7KjuwAAl1RIzmCdOXNGd9xxh4qLi9WvXz9NmjRJEydO1KJFi4Lqzv12bGPMl35j9rk156u/mJp/NXPmTPn9fmc5cOBAm30CAABXlpAMWN27d1dqamrQuj59%2Bmj//v2SJI/HI0mtZpDq6%2Bud2SaPx6Ompib5fL42a44cOdKq/aNHjwbVnNuOz%2BdTc3Nzq5mts1wul%2BLi4oIWAABw9QjJgDVo0CDt2rUraN3f/vY39erVS5KUnJwsj8ejiooKZ3tTU5PWrl2rgQMHSpLS09MVGRkZVFNbW6uamhqnJjMzU36/X5s2bXJqNm7cKL/fH1RTU1Oj2tpap6a8vFwul0vp6emWjxwAAFwJQvIarMcff1wDBw5UcXGxxo4dq02bNunll1/Wyy%2B/LOmLP9kVFBSouLhYKSkpSklJUXFxsbp06aLc3FxJktvt1oQJE1RYWKhu3bqpa9euKioqUt%2B%2BfTV8%2BHBJX8yKjRw5UhMnTtTixYslSY8%2B%2BqhycnLUu3dvSVJWVpZSU1OVl5enefPm6dixYyoqKtLEiROZmQIAAOcVkgHr29/%2BtlauXKmZM2fq5z//uZKTk/XCCy/ooYcecmpmzJihxsZGTZ48WT6fTxkZGSovL1dsbKxTs2DBAkVERGjs2LFqbGzUsGHDtGzZMoWHhzs1y5cvV35%2BvnO34ZgxY7Rw4UJne3h4uFatWqXJkydr0KBBio6OVm5urubPn38ZRgIAAHRGYcYY09GduNI1NDTI7XbL7/cz64VLhrsIASBYR/7%2BDclrsAAAADozAhYAAIBlBCwAAADLCFgAAACWEbAAAAAsI2ABAABYRsACAACwjIAFAABgGQELAADAMgIWAACAZQQsAAAAywhYAAAAlhGwAAAALCNgAQAAWEbAAgAAsIyABQAAYBkBCwAAwDICFgAAgGUELAAAAMsIWAAAAJYRsAAAACwjYAEAAFhGwAIAALCMgAUAAGAZAQsAAMAyAhYAAIBlBCwAAADLCFgAAACWEbAAAAAsI2ABAABYRsACAACwjIAFAABgGQELAADAMgIWAACAZQQsAAAAywhYAAAAlhGwAAAALCNgAQAAWEbAAgAAsCwkA9asWbMUFhYWtHg8Hme7MUazZs2S1%2BtVdHS0hgwZou3btwftIxAIaOrUqUpISFBMTIzGjBmjgwcPBtX4fD7l5eXJ7XbL7XYrLy9Px48fD6rZv3%2B/Ro8erZiYGCUkJCg/P19NTU2X7uABAECnF5IBS5JuvfVW1dbWOsu2bducbXPnzlVJSYkWLlyozZs3y%2BPxaMSIETpx4oRTU1BQoJUrV6q0tFTr1q3TyZMnlZOTo5aWFqcmNzdX1dXVKisrU1lZmaqrq5WXl%2Bdsb2lp0ahRo3Tq1CmtW7dOpaWlWrFihQoLCy/PIAAAgE4poqM7cCERERFBs1ZnGWP0wgsv6Mknn9T9998vSXr11VeVlJSkX//615o0aZL8fr9eeeUVvf766xo%2BfLgk6Y033lDPnj313nvvKTs7Wzt37lRZWZk2bNigjIwMSdKSJUuUmZmpXbt2qXfv3iovL9eOHTt04MABeb1eSdLzzz%2Bv8ePH69lnn1VcXNxlGg0AANCZhOwM1u7du%2BX1epWcnKwHH3xQe/bskSTt3btXdXV1ysrKcmpdLpcGDx6syspKSVJVVZWam5uDarxer9LS0pya9evXy%2B12O%2BFKkgYMGCC32x1Uk5aW5oQrScrOzlYgEFBVVdWlO3gAANCpheQMVkZGhl577TXdfPPNOnLkiJ555hkNHDhQ27dvV11dnSQpKSkp6D1JSUnat2%2BfJKmurk5RUVGKj49vVXP2/XV1dUpMTGzVdmJiYlDNue3Ex8crKirKqTmfQCCgQCDgvG5oaGjvoQMAgCtASAasu%2B%2B%2B2/l33759lZmZqW9%2B85t69dVXNWDAAElSWFhY0HuMMa3WnevcmvPVX0zNuWbPnq2nn366zb4AAIArV8j%2BifBfxcTEqG/fvtq9e7dzXda5M0j19fXObJPH41FTU5N8Pl%2BbNUeOHGnV1tGjR4Nqzm3H5/Opubm51czWv5o5c6b8fr%2BzHDhw4CseMQAA6Mw6RcAKBALauXOnunfvruTkZHk8HlVUVDjbm5qatHbtWg0cOFCSlJ6ersjIyKCa2tpa1dTUODWZmZny%2B/3atGmTU7Nx40b5/f6gmpqaGtXW1jo15eXlcrlcSk9Pv2B/XS6X4uLighYAAHD1CMk/ERYVFWn06NG64YYbVF9fr2eeeUYNDQ0aN26cwsLCVFBQoOLiYqWkpCglJUXFxcXq0qWLcnNzJUlut1sTJkxQYWGhunXrpq5du6qoqEh9%2B/Z17irs06ePRo4cqYkTJ2rx4sWSpEcffVQ5OTnq3bu3JCkrK0upqanKy8vTvHnzdOzYMRUVFWnixImEJgAAcEEhGbAOHjyoH/zgB/rkk0903XXXacCAAdqwYYN69eolSZoxY4YaGxs1efJk%2BXw%2BZWRkqLy8XLGxsc4%2BFixYoIiICI0dO1aNjY0aNmyYli1bpvDwcKdm%2BfLlys/Pd%2B42HDNmjBYuXOhsDw8P16pVqzR58mQNGjRI0dHRys3N1fz58y/TSAAAgM4ozBhjOroTV7qGhga53W75/X5mvnDJ9H%2ByrKO70G5bnh3Z0V0AcBXoyN%2B/neIaLAAAgM6EgAUAAGAZAQsAAMAyAhYAAIBlBCwAAADLCFgAAACWEbAAAAAsI2ABAABYRsACAACwjIAFAABgGQELAADAMgIWAACAZQQsAAAAywhYAAAAlhGwAAAALCNgAQAAWEbAAgAAsIyABQAAYBkBCwAAwDICFgAAgGUELAAAAMsIWAAAAJYRsAAAACwjYAEAAFhGwAIAALCMgAUAAGAZAQsAAMAyAhYAAIBlBCwAAADLCFgAAACWEbAAAAAsI2ABAABYRsACAACwjIAFAABgGQELAADAMgIWAACAZQQsAAAAywhYAAAAlhGwAAAALCNgAQAAWNYpAtbs2bMVFhamgoICZ50xRrNmzZLX61V0dLSGDBmi7du3B70vEAho6tSpSkhIUExMjMaMGaODBw8G1fh8PuXl5cntdsvtdisvL0/Hjx8Pqtm/f79Gjx6tmJgYJSQkKD8/X01NTZfugAEAQKcW8gFr8%2BbNevnll3XbbbcFrZ87d65KSkq0cOFCbd68WR6PRyNGjNCJEyecmoKCAq1cuVKlpaVat26dTp48qZycHLW0tDg1ubm5qq6uVllZmcrKylRdXa28vDxne0tLi0aNGqVTp05p3bp1Ki0t1YoVK1RYWHjpDx4AAHRKIR2wTp48qYceekhLlixRfHy8s94YoxdeeEFPPvmk7r//fqWlpenVV1/VZ599pl//%2BteSJL/fr1deeUXPP/%2B8hg8frn79%2BumNN97Qtm3b9N5770mSdu7cqbKyMv3qV79SZmamMjMztWTJEv3f//2fdu3aJUkqLy/Xjh079MYbb6hfv34aPny4nn/%2BeS1ZskQNDQ2Xf1AAAEDIC%2BmA9ZOf/ESjRo3S8OHDg9bv3btXdXV1ysrKcta5XC4NHjxYlZWVkqSqqio1NzcH1Xi9XqWlpTk169evl9vtVkZGhlMzYMAAud3uoJq0tDR5vV6nJjs7W4FAQFVVVfYPGgAAdHoRHd2BCyktLVVVVZW2bNnSaltdXZ0kKSkpKWh9UlKS9u3b59RERUUFzXydrTn7/rq6OiUmJrbaf2JiYlDNue3Ex8crKirKqTlXIBBQIBBwXjPTBQDA1SUkZ7AOHDigadOmafny5br22msvWBcWFhb02hjTat25zq05X/3F1Pyr2bNnOxfNu91u9ezZs80%2BAQCAK0tIBqyqqirV19crPT1dERERioiI0Nq1a/XLX/5SERERzozSuTNI9fX1zjaPx6Ompib5fL42a44cOdKq/aNHjwbVnNuOz%2BdTc3Nzq5mts2bOnCm/3%2B8sBw4cuIhRAAAAnVVIBqxhw4Zp27Ztqq6udpb%2B/fvroYceUnV1tb7xjW/I4/GooqLCeU9TU5PWrl2rgQMHSpLS09MVGRkZVFNbW6uamhqnJjMzU36/X5s2bXJqNm7cKL/fH1RTU1Oj2tpap6a8vFwul0vp6enn7b/L5VJcXFzQAgAArh4heQ1WbGys0tLSgtbFxMSoW7duzvqCggIVFxcrJSVFKSkpKi4uVpcuXZSbmytJcrvdmjBhggoLC9WtWzd17dpVRUVF6tu3r3PRfJ8%2BfTRy5EhNnDhRixcvliQ9%2BuijysnJUe/evSVJWVlZSk1NVV5enubNm6djx46pqKhIEydOJDgBAIDzCsmA1R4zZsxQY2OjJk%2BeLJ/Pp4yMDJWXlys2NtapWbBggSIiIjR27Fg1NjZq2LBhWrZsmcLDw52a5cuXKz8/37nbcMyYMVq4cKGzPTw8XKtWrdLkyZM1aNAgRUdHKzc3V/Pnz798BwsAADqVMGOM6ehOXOkaGhrkdrvl9/uZ9cIl0//Jso7uQrtteXZkR3cBwFWgI3//huQ1WAAAAJ0ZAQsAAMAyAhYAAIBlBCwAAADLrAesvXv32t4lAABAp2I9YN10000aOnSo3njjDZ0%2Bfdr27gEAAEKe9YD117/%2BVf369VNhYaE8Ho8mTZoU9KR0AACAK531gJWWlqaSkhIdOnRIS5cuVV1dne68807deuutKikp0dGjR203CQAAEFIu2UXuERERuu%2B%2B%2B/Tb3/5Wzz33nP7xj3%2BoqKhIPXr00MMPPxz03X4AAABXkksWsLZs2aLJkyere/fuKikpUVFRkf7xj3/o/fff16FDh/T973//UjUNAADQoax/F2FJSYmWLl2qXbt26Z577tFrr72me%2B65R9dc80WWS05O1uLFi3XLLbfYbhoAACAkWA9YixYt0iOPPKIf/ehH8ng856254YYb9Morr9huGgAAICRYD1i7d%2B/%2B0pqoqCiNGzfOdtMAAAAhwfo1WEuXLtVbb73Vav1bb72lV1991XZzAAAAIcd6wJozZ44SEhJarU9MTFRxcbHt5gAAAEKO9YC1b98%2BJScnt1rfq1cv7d%2B/33ZzAAAAIcd6wEpMTNRHH33Uav1f//pXdevWzXZzAAAAIcd6wHrwwQeVn5%2BvNWvWqKWlRS0tLXr//fc1bdo0Pfjgg7abAwAACDnW7yJ85plntG/fPg0bNkwREV/s/syZM3r44Ye5BgsAAFwVrAesqKgo/eY3v9F///d/669//auio6PVt29f9erVy3ZTAAAAIcl6wDrr5ptv1s0333ypdg8AABCyrAeslpYWLVu2TH/84x9VX1%2BvM2fOBG1///33bTcJAAAQUqwHrGnTpmnZsmUaNWqU0tLSFBYWZrsJAACAkGY9YJWWluq3v/2t7rnnHtu7BgAA6BSsP6YhKipKN910k%2B3dAgAAdBrWA1ZhYaF%2B8YtfyBhje9cAAACdgvU/Ea5bt05r1qzR6tWrdeuttyoyMjJo%2B9tvv227SQAAgJBiPWB9/etf13333Wd7twAAAJ2G9YC1dOlS27sEAADoVKxfgyVJn3/%2Bud577z0tXrxYJ06ckCQdPnxYJ0%2BevBTNAQAAhBTrM1j79u3TyJEjtX//fgUCAY0YMUKxsbGaO3euTp8%2BrZdeesl2kwAAACHF%2BgzWtGnT1L9/f/l8PkVHRzvr77vvPv3xj3%2B03RwAAEDIuSR3Ef7lL39RVFRU0PpevXrp0KFDtpsDAAAIOdZnsM6cOaOWlpZW6w8ePKjY2FjbzQEAAIQc6wFrxIgReuGFF5zXYWFhOnnypJ566im%2BPgcAAFwVrP%2BJcMGCBRo6dKhSU1N1%2BvRp5ebmavfu3UpISNCbb75puzkAAICQYz1geb1eVVdX680339SHH36oM2fOaMKECXrooYeCLnoHAAC4UlkPWJIUHR2tRx55RI888sil2D0AAEBIsx6wXnvttTa3P/zww7abBAAACCnWA9a0adOCXjc3N%2Buzzz5TVFSUunTpQsACAABXPOt3Efp8vqDl5MmT2rVrl%2B688852X%2BS%2BaNEi3XbbbYqLi1NcXJwyMzO1evVqZ7sxRrNmzZLX61V0dLSGDBmi7du3B%2B0jEAho6tSpSkhIUExMjMaMGaODBw%2B26mteXp7cbrfcbrfy8vJ0/PjxoJr9%2B/dr9OjRiomJUUJCgvLz89XU1HSRowMAAK4Gl%2BS7CM%2BVkpKiOXPmtJrdupAePXpozpw52rJli7Zs2aK77rpL3//%2B950QNXfuXJWUlGjhwoXavHmzPB6PRowY4XzvoSQVFBRo5cqVKi0t1bp163Ty5Enl5OQEPaMrNzdX1dXVKisrU1lZmaqrq5WXl%2Bdsb2lp0ahRo3Tq1CmtW7dOpaWlWrFihQoLCy2NDAAAuBKFGWPM5Who69atGjx4sBoaGi7q/V27dtW8efP0yCOPyOv1qqCgQE888YSkL2arkpKS9Nxzz2nSpEny%2B/267rrr9Prrr%2BuBBx6Q9MWXTffs2VPvvvuusrOztXPnTqWmpmrDhg3KyMiQJG3YsEGZmZn6%2BOOP1bt3b61evVo5OTk6cOCAvF6vJKm0tFTjx49XfX294uLi2tX3hoYGud1u%2Bf3%2Bdr8H%2BKr6P1nW0V1oty3PjuzoLgC4CnTk71/r12C98847Qa%2BNMaqtrdXChQs1aNCgr7y/lpYWvfXWWzp16pQyMzO1d%2B9e1dXVKSsry6lxuVwaPHiwKisrNWnSJFVVVam5uTmoxuv1Ki0tTZWVlcrOztb69evldrudcCVJAwYMkNvtVmVlpXr37q3169crLS3NCVeSlJ2drUAgoKqqKg0dOvQrHw8AALjyWQ9Y9957b9DrsLAwXXfddbrrrrv0/PPPt3s/27ZtU2Zmpk6fPq2vfe1rWrlypVJTU1VZWSlJSkpKCqpPSkrSvn37JEl1dXWKiopSfHx8q5q6ujqnJjExsVW7iYmJQTXnthMfH6%2BoqCin5nwCgYACgYDz%2BmJn7QAAQOdkPWCdOXPGyn569%2B6t6upqHT9%2BXCtWrNC4ceO0du1aZ3tYWFhQvTGm1bpznVtzvvqLqTnX7Nmz9fTTT7fZFwAAcOW6LBe5X4yoqCjddNNN6t%2B/v2bPnq3bb79dv/jFL%2BTxeCSp1QxSfX29M9vk8XjU1NQkn8/XZs2RI0datXv06NGgmnPb8fl8am5ubjWz9a9mzpwpv9/vLAcOHPiKRw8AADoz6zNY06dPb3dtSUlJu2uNMQoEAkpOTpbH41FFRYX69esnSWpqatLatWv13HPPSZLS09MVGRmpiooKjR07VpJUW1urmpoazZ07V5KUmZkpv9%2BvTZs26Tvf%2BY4kaePGjfL7/Ro4cKBT8%2Byzz6q2tlbdu3eXJJWXl8vlcik9Pf2CfXW5XHK5XO0%2BNgAAcGWxHrC2bt2qDz/8UJ9//rl69%2B4tSfrb3/6m8PBw3XHHHU5dW39i%2B9nPfqa7775bPXv21IkTJ1RaWqoPPvhAZWVlCgsLU0FBgYqLi5WSkqKUlBQVFxerS5cuys3NlSS53W5NmDBBhYWF6tatm7p27aqioiL17dtXw4cPlyT16dNHI0eO1MSJE7V48WJJ0qOPPqqcnByn31lZWUpNTVVeXp7mzZunY8eOqaioSBMnTuRuQAAAcEHWA9bo0aMVGxurV1991bnI3Ofz6Uc/%2BpG%2B%2B93vtusZUkeOHFFeXp5qa2vldrt12223qaysTCNGjJAkzZgxQ42NjZo8ebJ8Pp8yMjJUXl6u2NhYZx8LFixQRESExo4dq8bGRg0bNkzLli1TeHi4U7N8%2BXLl5%2Bc7dxuOGTNGCxcudLaHh4dr1apVmjx5sgYNGqTo6Gjl5uZq/vz5VsYKAABcmaw/B%2Bv6669XeXm5br311qD1NTU1ysrK0uHDh2021ynwHCxcDjwHCwCCdeTvX%2BsXuTc0NJz34vH6%2BvqgJ60DAABcqawHrPvuu08/%2BtGP9Lvf/U4HDx7UwYMH9bvf/U4TJkzQ/fffb7s5AACAkGP9GqyXXnpJRUVF%2BuEPf6jm5uYvGomI0IQJEzRv3jzbzQEAAIQc6wGrS5cuevHFFzVv3jz94x//kDFGN910k2JiYmw3BQAAEJIu2YNGa2trVVtbq5tvvlkxMTG6TN8pDQAA0OGsB6xPP/1Uw4YN080336x77rlHtbW1kqQf//jH7XpEAwAAQGdnPWA9/vjjioyM1P79%2B9WlSxdn/QMPPKCyss5zGzkAAMDFsn4NVnl5uf7whz%2BoR48eQetTUlK0b98%2B280BAACEHOszWKdOnQqauTrrk08%2B4fv5AADAVcF6wPre976n1157zXkdFhamM2fOaN68eRo6dKjt5gAAAEKO9T8Rzps3T0OGDNGWLVvU1NSkGTNmaPv27Tp27Jj%2B8pe/2G4OAAAg5FifwUpNTdVHH32k73znOxoxYoROnTql%2B%2B%2B/X1u3btU3v/lN280BAACEHKszWM3NzcrKytLixYv19NNP29w1AABAp2F1BisyMlI1NTUKCwuzuVsAAIBOxfqfCB9%2B%2BGG98sortncLAADQaVi/yL2pqUm/%2BtWvVFFRof79%2B7f6DsKSkhLbTQIAAIQUawFrz549uvHGG1VTU6M77rhDkvS3v/0tqIY/HQIAgKuBtYCVkpKi2tparVmzRtIXX43zy1/%2BUklJSbaaAAAA6BSsXYNljAl6vXr1ap06dcrW7gEAADoN6xe5n3Vu4AIAALhaWAtYYWFhra6x4porAABwNbJ2DZYxRuPHj3e%2B0Pn06dN67LHHWt1F%2BPbbb9tqEgAAICRZC1jjxo0Lev3DH/7Q1q4BAAA6FWsBa%2BnSpbZ2BQAA0KldsovcAQAArlYELAAAAMsIWAAAAJYRsAAAACwjYAEAAFhGwAIAALCMgAUAAGAZAQsAAMAyAhYAAIBlBCwAAADLCFgAAACWEbAAAAAsI2ABAABYRsACAACwjIAFAABgGQELAADAspAMWLNnz9a3v/1txcbGKjExUffee6927doVVGOM0axZs%2BT1ehUdHa0hQ4Zo%2B/btQTWBQEBTp05VQkKCYmJiNGbMGB08eDCoxufzKS8vT263W263W3l5eTp%2B/HhQzf79%2BzV69GjFxMQoISFB%2Bfn5ampqujQHDwAAOr2QDFhr167VT37yE23YsEEVFRX6/PPPlZWVpVOnTjk1c%2BfOVUlJiRYuXKjNmzfL4/FoxIgROnHihFNTUFCglStXqrS0VOvWrdPJkyeVk5OjlpYWpyY3N1fV1dUqKytTWVmZqqurlZeX52xvaWnRqFGjdOrUKa1bt06lpaVasWKFCgsLL89gAACATifMGGM6uhNf5ujRo0pMTNTatWv1ve99T8YYeb1eFRQU6IknnpD0xWxVUlKSnnvuOU2aNEl%2Bv1/XXXedXn/9dT3wwAOSpMOHD6tnz5569913lZ2drZ07dyo1NVUbNmxQRpFdQ9oAABZbSURBVEaGJGnDhg3KzMzUxx9/rN69e2v16tXKycnRgQMH5PV6JUmlpaUaP3686uvrFRcX96X9b2hokNvtlt/vb1c9cDH6P1nW0V1oty3PjuzoLgC4CnTk79%2BQnME6l9/vlyR17dpVkrR3717V1dUpKyvLqXG5XBo8eLAqKyslSVVVVWpubg6q8Xq9SktLc2rWr18vt9vthCtJGjBggNxud1BNWlqaE64kKTs7W4FAQFVVVeftbyAQUENDQ9ACAACuHiEfsIwxmj59uu68806lpaVJkurq6iRJSUlJQbVJSUnOtrq6OkVFRSk%2BPr7NmsTExFZtJiYmBtWc2058fLyioqKcmnPNnj3buabL7XarZ8%2BeX/WwAQBAJxbyAWvKlCn66KOP9Oabb7baFhYWFvTaGNNq3bnOrTlf/cXU/KuZM2fK7/c7y4EDB9rsEwAAuLKEdMCaOnWq3nnnHa1Zs0Y9evRw1ns8HklqNYNUX1/vzDZ5PB41NTXJ5/O1WXPkyJFW7R49ejSo5tx2fD6fmpubW81sneVyuRQXFxe0AACAq0dIBixjjKZMmaK3335b77//vpKTk4O2Jycny%2BPxqKKiwlnX1NSktWvXauDAgZKk9PR0RUZGBtXU1taqpqbGqcnMzJTf79emTZucmo0bN8rv9wfV1NTUqLa21qkpLy%2BXy%2BVSenq6/YMHAACdXkRHd%2BB8fvKTn%2BjXv/61/vd//1exsbHODJLb7VZ0dLTCwsJUUFCg4uJipaSkKCUlRcXFxerSpYtyc3Od2gkTJqiwsFDdunVT165dVVRUpL59%2B2r48OGSpD59%2BmjkyJGaOHGiFi9eLEl69NFHlZOTo969e0uSsrKylJqaqry8PM2bN0/Hjh1TUVGRJk6cyMwUAAA4r5AMWIsWLZIkDRkyJGj90qVLNX78eEnSjBkz1NjYqMmTJ8vn8ykjI0Pl5eWKjY116hcsWKCIiAiNHTtWjY2NGjZsmJYtW6bw8HCnZvny5crPz3fuNhwzZowWLlzobA8PD9eqVas0efJkDRo0SNHR0crNzdX8%2BfMv0dEDAIDOrlM8B6uz4zlYuBx4DhYABOM5WAAAAFcQAhYAAIBlBCwAAADLCFgAAACWEbAAAAAsI2ABAABYRsACAACwjIAFAABgGQELAADAMgIWAACAZQQsAAAAywhYAAAAlhGwAAAALCNgAQAAWEbAAgAAsIyABQAAYBkBCwAAwDICFgAAgGUELAAAAMsIWAAAAJYRsAAAACwjYAEAAFhGwAIAALCMgAUAAGAZAQsAAMAyAhYAAIBlBCwAAADLCFgAAACWEbAAAAAsI2ABAABYRsACAACwjIAFAABgGQELAADAMgIWAACAZQQsAAAAywhYAAAAlhGwAAAALCNgAQAAWEbAAgAAsIyABQAAYFlIBqw//elPGj16tLxer8LCwvT73/8%2BaLsxRrNmzZLX61V0dLSGDBmi7du3B9UEAgFNnTpVCQkJiomJ0ZgxY3Tw4MGgGp/Pp7y8PLndbrndbuXl5en48eNBNfv379fo0aMVExOjhIQE5efnq6mp6dIcOAAAuCKEZMA6deqUbr/9di1cuPC82%2BfOnauSkhItXLhQmzdvlsfj0YgRI3TixAmnpqCgQCtXrlRpaanWrVunkydPKicnRy0tLU5Nbm6uqqurVVZWprKyMlVXVysvL8/Z3tLSolGjRunUqVNat26dSktLtWLFChUWFl66gwcAAJ1emDHGdHQn2hIWFqaVK1fq3nvvlfTF7JXX61VBQYGeeOIJSV/MViUlJem5557TpEmT5Pf7dd111%2Bn111/XAw88IEk6fPiwevbsqXfffVfZ2dnauXOnUlNTtWHDBmVkZEiSNmzYoMzMTH388cfq3bu3Vq9erZycHB04cEBer1eSVFpaqvHjx6u%2Bvl5xcXHtOoaGhga53W75/f52vwf4qvo/WdbRXWi3Lc%2BO7OguALgKdOTv35CcwWrL3r17VVdXp6ysLGedy%2BXS4MGDVVlZKUmqqqpSc3NzUI3X61VaWppTs379erndbidcSdKAAQPkdruDatLS0pxwJUnZ2dkKBAKqqqq6YB8DgYAaGhqCFgAAcPXodAGrrq5OkpSUlBS0PikpydlWV1enqKgoxcfHt1mTmJjYav%2BJiYlBNee2Ex8fr6ioKKfmfGbPnu1c1%2BV2u9WzZ8%2BveJQAAKAz63QB66ywsLCg18aYVuvOdW7N%2BeovpuZcM2fOlN/vd5YDBw602S8AAHBl6XQBy%2BPxSFKrGaT6%2Bnpntsnj8aipqUk%2Bn6/NmiNHjrTa/9GjR4Nqzm3H5/Opubm51czWv3K5XIqLiwtaAADA1aPTBazk5GR5PB5VVFQ465qamrR27VoNHDhQkpSenq7IyMigmtraWtXU1Dg1mZmZ8vv92rRpk1OzceNG%2Bf3%2BoJqamhrV1tY6NeXl5XK5XEpPT7%2BkxwkAADqviI7uwPmcPHlSf//7353Xe/fuVXV1tbp27aobbrhBBQUFKi4uVkpKilJSUlRcXKwuXbooNzdXkuR2uzVhwgQVFhaqW7du6tq1q4qKitS3b18NHz5cktSnTx%2BNHDlSEydO1OLFiyVJjz76qHJyctS7d29JUlZWllJTU5WXl6d58%2Bbp2LFjKioq0sSJE5mVAgAAFxSSAWvLli0aOnSo83r69OmSpHHjxmnZsmWaMWOGGhsbNXnyZPl8PmVkZKi8vFyxsbHOexYsWKCIiAiNHTtWjY2NGjZsmJYtW6bw8HCnZvny5crPz3fuNhwzZkzQs7fCw8O1atUqTZ48WYMGDVJ0dLRyc3M1f/78Sz0EAACgEwv552BdCXgOFi4HnoMFAMF4DhYAAMAVhIAFAABgGQELAADAMgIWAACAZQQsAAAAywhYAAAAlhGwAAAALCNgAQAAWEbAAgAAsIyABQAAYBkBCwAAwDICFgAAgGUELAAAAMsIWAAAAJYRsAAAACwjYAEAAFhGwAIAALCMgAUAAGAZAQsAAMAyAhYAAIBlBCwAAADLCFgAAACWEbAAAAAsI2ABAABYRsACAACwjIAFAABgGQELAADAMgIWAACAZQQsAAAAywhYAAAAlhGwAAAALCNgAQAAWEbAAgAAsIyABQAAYBkBCwAAwDICFgAAgGUELAAAAMsIWAAAAJYRsAAAACwjYAEAAFhGwGqnF198UcnJybr22muVnp6uP//5zx3dJQAAEKIIWO3wm9/8RgUFBXryySe1detWffe739Xdd9%2Bt/fv3d3TXAABACCJgtUNJSYkmTJigH//4x%2BrTp49eeOEF9ezZU4sWLerorgEAgBAU0dEdCHVNTU2qqqrST3/606D1WVlZqqysPO97AoGAAoGA89rv90uSGhoaLl1HcdVrCZzq6C60G58FAJfD2f9rjDGXvW0C1pf45JNP1NLSoqSkpKD1SUlJqqurO%2B97Zs%2BeraeffrrV%2Bp49e16SPgKdjfv5ju4BgKvJiRMn5Ha7L2ubBKx2CgsLC3ptjGm17qyZM2dq%2BvTpzuszZ87o2LFj6tat2wXf0x4NDQ3q2bOnDhw4oLi4uIvez5WK8Wkb49M2xufCGJu2MT5t68jxMcboxIkT8nq9l7VdiYD1pRISEhQeHt5qtqq%2Bvr7VrNZZLpdLLpcraN3Xv/51a32Ki4vjQ9wGxqdtjE/bGJ8LY2zaxvi0raPG53LPXJ3FRe5fIioqSunp6aqoqAhaX1FRoYEDB3ZQrwAAQChjBqsdpk%2Bfrry8PPXv31%2BZmZl6%2BeWXtX//fj322GMd3TUAABCCwmfNmjWrozsR6tLS0tStWzcVFxdr/vz5amxs1Ouvv67bb7/9svclPDxcQ4YMUUQE2fh8GJ%2B2MT5tY3wujLFpG%2BPTtqtxfMJMR9y7CAAAcAXjGiwAAADLCFgAAACWEbAAAAAsI2ABAABYRsC6xJ599lkNHDhQXbp0ueDDRvfv36/Ro0crJiZGCQkJys/PV1NTU1DNtm3bNHjwYEVHR%2Bv666/Xz3/%2B81bfrbR27Vqlp6fr2muv1Te%2B8Q299NJLrdpasWKFUlNT5XK5lJqaqpUrV7aqefHFF5WcnKxrr71W6enp%2BvOf//xvjMBXd%2BONNyosLCxoOfe7IENtzEJdR/9MbZs1a1arc8Tj8TjbjTGaNWuWvF6voqOjNWTIEG3fvj1oH4FAQFOnTlVCQoJiYmI0ZswYHTx4MKjG5/MpLy9PbrdbbrdbeXl5On78eFBNe87FS%2B1Pf/qTRo8eLa/Xq7CwMP3%2B978P2h5q49Gez6ZNXzY%2B48ePb3U%2BDRgwIKjmSh2f2bNn69vf/rZiY2OVmJioe%2B%2B9V7t27QqqudrPn4tmcEn9v//3/0xJSYmZPn26cbvdrbZ//vnnJi0tzQwdOtR8%2BOGHpqKiwni9XjNlyhSnxu/3m6SkJPPggw%2Babdu2mRUrVpjY2Fgzf/58p2bPnj2mS5cuZtq0aWbHjh1myZIlJjIy0vzud79zaiorK014eLgpLi42O3fuNMXFxSYiIsJs2LDBqSktLTWRkZFmyZIlZseOHWbatGkmJibG7Nu37xKNUGu9evUyP//5z01tba2znDhxwtkeamMW6kLhZ2rbU089ZW699dagc6S%2Bvt7ZPmfOHBMbG2tWrFhhtm3bZh544AHTvXt309DQ4NQ89thj5vrrrzcVFRXmww8/NEOHDjW33367%2Bfzzz52akSNHmrS0NFNZWWkqKytNWlqaycnJcba351y8HN59913z5JNPmhUrVhhJZuXKlUHbQ2k82vPZvNzjM27cODNy5Mig8%2BnTTz8NqrlSxyc7O9ssXbrU1NTUmOrqajNq1Chzww03mJMnTzo1V/v5c7EIWJfJ0qVLzxuw3n33XXPNNdeYQ4cOOevefPNN43K5jN/vN8YY8%2BKLLxq3221Onz7t1MyePdt4vV5z5swZY4wxM2bMMLfcckvQvidNmmQGDBjgvB47dqwZOXJkUE12drZ58MEHndff%2Bc53zGOPPRZUc8stt5if/vSnX/WQL1qvXr3MggULLrg91MYs1IXCz9S2p556ytx%2B%2B%2B3n3XbmzBnj8XjMnDlznHWnT582brfbvPTSS8YYY44fP24iIyNNaWmpU3Po0CFzzTXXmLKyMmOMMTt27DCSgsL0%2BvXrjSTz8ccfG2Pady5ebucGiFAbj/Z8Ni%2BlCwWs73//%2Bxd8z9U0PvX19UaSWbt2rTGG8%2BffwZ8IO9j69euVlpYW9EWU2dnZCgQCqqqqcmoGDx4c9P2G2dnZOnz4sP75z386NVlZWUH7zs7O1pYtW9Tc3NxmTWVlpSSpqalJVVVVrWqysrKcmsvlueeeU7du3fStb31Lzz77bNAUcSiNWagLpZ%2Bpbbt375bX61VycrIefPBB7dmzR5K0d%2B9e1dXVBR2zy%2BXS4MGDnWOuqqpSc3NzUI3X61VaWppTs379erndbmVkZDg1AwYMkNvtDqr5snOxo4XaeLTns9kRPvjgAyUmJurmm2/WxIkTVV9f72y7msbH7/dLkrp27SqJ8%2BffQcDqYHV1da2%2BNDo%2BPl5RUVHOF0yfr%2Bbs6y%2Br%2Bfzzz/XJJ5%2B0WXN2H5988olaWlrarLkcpk2bptLSUq1Zs0ZTpkzRCy%2B8oMmTJzvbQ2nMQl2o/Exty8jI0GuvvaY//OEPWrJkierq6jRw4EB9%2BumnznG1dcx1dXWKiopSfHx8mzWJiYmt2k5MTGzzHDr3XOxooTYe7flsXm533323li9frvfff1/PP/%2B8Nm/erLvuukuBQMDp19UwPsYYTZ8%2BXXfeeafS0tKC2uT8%2BequnmfWWzRr1iw9/fTTbdZs3rxZ/fv3b9f%2BwsLCWq0zxgStP7fG/P8X9NmoOXdde2q%2Bqq8yZo8//riz7rbbblN8fLz%2B4z/%2Bw5nVOl8fz9fPyzlmoe5KOIZ/dffddzv/7tu3rzIzM/XNb35Tr776qnNx8sUc85edQxdbEwpCaTza87m7nB544AHn32lpaerfv7969eqlVatW6f7777/g%2B6608ZkyZYo%2B%2BugjrVu3rtU2zp%2BvjhmsizBlyhTt3LmzzeVs%2Bv8yHo%2BnVer2%2BXxqbm52Uvn5as5OX39ZTUREhBNKLlRzdh8JCQkKDw9vs%2BZi/TtjdvYX5t///vcLHkdHjVmou5Q/01ASExOjvn37avfu3c7dhG0ds8fjUVNTk3w%2BX5s1R44cadXW0aNH2zyHzj0XO1qojUd7PpsdrXv37urVq5d2794t6eoYn6lTp%2Bqdd97RmjVr1KNHD2c958/FI2BdhISEBN1yyy1tLtdee2279pWZmamamhrV1tY668rLy%2BVyuZSenu7U/OlPfwq6Dqm8vFxer1c33nijU1NRURG07/LycvXv31%2BRkZFt1gwcOFCSFBUVpfT09FY1FRUVTs3F%2BnfGbOvWrZK%2B%2BE/v7HGEypiFukv5Mw0lgUBAO3fuVPfu3ZWcnCyPxxN0zE1NTVq7dq1zzOnp6YqMjAyqqa2tVU1NjVOTmZkpv9%2BvTZs2OTUbN26U3%2B8Pqvmyc7Gjhdp4tOez2dE%2B/fRTHThwwPk/50oeH2OMpkyZorffflvvv/%2B%2BkpOTg7Zz/vwbLseV9Fezffv2ma1bt5qnn37afO1rXzNbt241W7dudR47cPa21GHDhpkPP/zQvPfee6ZHjx5Bt6UeP37cJCUlmR/84Adm27Zt5u233zZxcXHnfeTA448/bnbs2GFeeeWVVo8c%2BMtf/mLCw8PNnDlzzM6dO82cOXMu%2BJiGV155xezYscMUFBSYmJgY889//vMyjNYXj0UoKSkxW7duNXv27DG/%2Bc1vjNfrNWPGjHFqQm3MQl1H/0wvhcLCQvPBBx%2BYPXv2mA0bNpicnBwTGxvrHNOcOXOM2%2B02b7/9ttm2bZv5wQ9%2BcN7bynv06GHee%2B898%2BGHH5q77rrrvLeV33bbbWb9%2BvVm/fr1pm/fvue9rbytc/FyOHHihPN/iyTnM3T2URyhNB7t%2BWxezvE5ceKEKSwsNJWVlWbv3r1mzZo1JjMz01x//fVXxfj813/9l3G73eaDDz4IekzFZ5995tRc7efPxSJgXWLjxo0zklota9ascWr27dtnRo0aZaKjo03Xrl3NlClTgm5BNcaYjz76yHz3u981LpfLeDweM2vWrFa3pH7wwQemX79%2BJioqytx4441m0aJFrfrz1ltvmd69e5vIyEhzyy23mBUrVrSq%2BZ//%2BR/Tq1cvExUVZe644w7ndt3LoaqqymRkZBi3222uvfZa07t3b/PUU0%2BZU6dOBdWF2piFuo78mV4KZ5/DExkZabxer7n//vvN9u3bne1nzpwxTz31lPF4PMblcpnvfe97Ztu2bUH7aGxsNFOmTDFdu3Y10dHRJicnx%2Bzfvz%2Bo5tNPPzUPPfSQiY2NNbGxseahhx4yPp8vqKY95%2BKltmbNmvP%2BPzNu3DhjTOiNR3s%2Bmza1NT6fffaZycrKMtddd52JjIw0N9xwgxk3blyrY79Sx%2Bd84yLJLF261Km52s%2BfixVmTCg%2B/hQAAKDz4hosAAAAywhYAAAAlhGwAAAALCNgAQAAWEbAAgAAsIyABQAAYBkBCwAAwDICFgAAgGUELAAAAMsIWAAAAJYRsAAAACwjYAEAAFhGwAIAALCMgAUAAGAZAQsAAMAyAhYAAIBlBCwAAADLCFgAAACW/X8cmxh244UvaQAAAABJRU5ErkJggg%3D%3D\"/>\n",
       "        </div>\n",
       "        <div role=\"tabpanel\" class=\"tab-pane col-md-12\" id=\"common-6009902033636035816\">\n",
       "            \n",
       "<table class=\"freq table table-hover\">\n",
       "    <thead>\n",
       "    <tr>\n",
       "        <td class=\"fillremaining\">Value</td>\n",
       "        <td class=\"number\">Count</td>\n",
       "        <td class=\"number\">Frequency (%)</td>\n",
       "        <td style=\"min-width:200px\">&nbsp;</td>\n",
       "    </tr>\n",
       "    </thead>\n",
       "    <tr class=\"\">\n",
       "        <td class=\"fillremaining\">0.0</td>\n",
       "        <td class=\"number\">37526</td>\n",
       "        <td class=\"number\">15.1%</td>\n",
       "        <td>\n",
       "            <div class=\"bar\" style=\"width:20%\">&nbsp;</div>\n",
       "        </td>\n",
       "</tr><tr class=\"\">\n",
       "        <td class=\"fillremaining\">1.0</td>\n",
       "        <td class=\"number\">3888</td>\n",
       "        <td class=\"number\">1.6%</td>\n",
       "        <td>\n",
       "            <div class=\"bar\" style=\"width:3%\">&nbsp;</div>\n",
       "        </td>\n",
       "</tr><tr class=\"\">\n",
       "        <td class=\"fillremaining\">2.0</td>\n",
       "        <td class=\"number\">1907</td>\n",
       "        <td class=\"number\">0.8%</td>\n",
       "        <td>\n",
       "            <div class=\"bar\" style=\"width:2%\">&nbsp;</div>\n",
       "        </td>\n",
       "</tr><tr class=\"\">\n",
       "        <td class=\"fillremaining\">3.0</td>\n",
       "        <td class=\"number\">1345</td>\n",
       "        <td class=\"number\">0.5%</td>\n",
       "        <td>\n",
       "            <div class=\"bar\" style=\"width:1%\">&nbsp;</div>\n",
       "        </td>\n",
       "</tr><tr class=\"\">\n",
       "        <td class=\"fillremaining\">4.0</td>\n",
       "        <td class=\"number\">1042</td>\n",
       "        <td class=\"number\">0.4%</td>\n",
       "        <td>\n",
       "            <div class=\"bar\" style=\"width:1%\">&nbsp;</div>\n",
       "        </td>\n",
       "</tr><tr class=\"\">\n",
       "        <td class=\"fillremaining\">5.0</td>\n",
       "        <td class=\"number\">753</td>\n",
       "        <td class=\"number\">0.3%</td>\n",
       "        <td>\n",
       "            <div class=\"bar\" style=\"width:1%\">&nbsp;</div>\n",
       "        </td>\n",
       "</tr><tr class=\"\">\n",
       "        <td class=\"fillremaining\">6.0</td>\n",
       "        <td class=\"number\">591</td>\n",
       "        <td class=\"number\">0.2%</td>\n",
       "        <td>\n",
       "            <div class=\"bar\" style=\"width:1%\">&nbsp;</div>\n",
       "        </td>\n",
       "</tr><tr class=\"\">\n",
       "        <td class=\"fillremaining\">7.0</td>\n",
       "        <td class=\"number\">561</td>\n",
       "        <td class=\"number\">0.2%</td>\n",
       "        <td>\n",
       "            <div class=\"bar\" style=\"width:1%\">&nbsp;</div>\n",
       "        </td>\n",
       "</tr><tr class=\"\">\n",
       "        <td class=\"fillremaining\">8.0</td>\n",
       "        <td class=\"number\">489</td>\n",
       "        <td class=\"number\">0.2%</td>\n",
       "        <td>\n",
       "            <div class=\"bar\" style=\"width:1%\">&nbsp;</div>\n",
       "        </td>\n",
       "</tr><tr class=\"\">\n",
       "        <td class=\"fillremaining\">9.0</td>\n",
       "        <td class=\"number\">424</td>\n",
       "        <td class=\"number\">0.2%</td>\n",
       "        <td>\n",
       "            <div class=\"bar\" style=\"width:1%\">&nbsp;</div>\n",
       "        </td>\n",
       "</tr><tr class=\"other\">\n",
       "        <td class=\"fillremaining\">Other values (1702)</td>\n",
       "        <td class=\"number\">11498</td>\n",
       "        <td class=\"number\">4.6%</td>\n",
       "        <td>\n",
       "            <div class=\"bar\" style=\"width:7%\">&nbsp;</div>\n",
       "        </td>\n",
       "</tr><tr class=\"missing\">\n",
       "        <td class=\"fillremaining\">(Missing)</td>\n",
       "        <td class=\"number\">188119</td>\n",
       "        <td class=\"number\">75.8%</td>\n",
       "        <td>\n",
       "            <div class=\"bar\" style=\"width:100%\">&nbsp;</div>\n",
       "        </td>\n",
       "</tr>\n",
       "</table>\n",
       "        </div>\n",
       "        <div role=\"tabpanel\" class=\"tab-pane col-md-12\"  id=\"extreme-6009902033636035816\">\n",
       "            <p class=\"h4\">Minimum 5 values</p>\n",
       "            \n",
       "<table class=\"freq table table-hover\">\n",
       "    <thead>\n",
       "    <tr>\n",
       "        <td class=\"fillremaining\">Value</td>\n",
       "        <td class=\"number\">Count</td>\n",
       "        <td class=\"number\">Frequency (%)</td>\n",
       "        <td style=\"min-width:200px\">&nbsp;</td>\n",
       "    </tr>\n",
       "    </thead>\n",
       "    <tr class=\"\">\n",
       "        <td class=\"fillremaining\">-97486.0</td>\n",
       "        <td class=\"number\">1</td>\n",
       "        <td class=\"number\">0.0%</td>\n",
       "        <td>\n",
       "            <div class=\"bar\" style=\"width:100%\">&nbsp;</div>\n",
       "        </td>\n",
       "</tr><tr class=\"\">\n",
       "        <td class=\"fillremaining\">-64939.0</td>\n",
       "        <td class=\"number\">1</td>\n",
       "        <td class=\"number\">0.0%</td>\n",
       "        <td>\n",
       "            <div class=\"bar\" style=\"width:100%\">&nbsp;</div>\n",
       "        </td>\n",
       "</tr><tr class=\"\">\n",
       "        <td class=\"fillremaining\">-26915.0</td>\n",
       "        <td class=\"number\">1</td>\n",
       "        <td class=\"number\">0.0%</td>\n",
       "        <td>\n",
       "            <div class=\"bar\" style=\"width:100%\">&nbsp;</div>\n",
       "        </td>\n",
       "</tr><tr class=\"\">\n",
       "        <td class=\"fillremaining\">-15855.0</td>\n",
       "        <td class=\"number\">1</td>\n",
       "        <td class=\"number\">0.0%</td>\n",
       "        <td>\n",
       "            <div class=\"bar\" style=\"width:100%\">&nbsp;</div>\n",
       "        </td>\n",
       "</tr><tr class=\"\">\n",
       "        <td class=\"fillremaining\">-10821.0</td>\n",
       "        <td class=\"number\">1</td>\n",
       "        <td class=\"number\">0.0%</td>\n",
       "        <td>\n",
       "            <div class=\"bar\" style=\"width:100%\">&nbsp;</div>\n",
       "        </td>\n",
       "</tr>\n",
       "</table>\n",
       "            <p class=\"h4\">Maximum 5 values</p>\n",
       "            \n",
       "<table class=\"freq table table-hover\">\n",
       "    <thead>\n",
       "    <tr>\n",
       "        <td class=\"fillremaining\">Value</td>\n",
       "        <td class=\"number\">Count</td>\n",
       "        <td class=\"number\">Frequency (%)</td>\n",
       "        <td style=\"min-width:200px\">&nbsp;</td>\n",
       "    </tr>\n",
       "    </thead>\n",
       "    <tr class=\"\">\n",
       "        <td class=\"fillremaining\">67566.0</td>\n",
       "        <td class=\"number\">1</td>\n",
       "        <td class=\"number\">0.0%</td>\n",
       "        <td>\n",
       "            <div class=\"bar\" style=\"width:100%\">&nbsp;</div>\n",
       "        </td>\n",
       "</tr><tr class=\"\">\n",
       "        <td class=\"fillremaining\">68495.0</td>\n",
       "        <td class=\"number\">1</td>\n",
       "        <td class=\"number\">0.0%</td>\n",
       "        <td>\n",
       "            <div class=\"bar\" style=\"width:100%\">&nbsp;</div>\n",
       "        </td>\n",
       "</tr><tr class=\"\">\n",
       "        <td class=\"fillremaining\">87387.0</td>\n",
       "        <td class=\"number\">1</td>\n",
       "        <td class=\"number\">0.0%</td>\n",
       "        <td>\n",
       "            <div class=\"bar\" style=\"width:100%\">&nbsp;</div>\n",
       "        </td>\n",
       "</tr><tr class=\"\">\n",
       "        <td class=\"fillremaining\">97969.0</td>\n",
       "        <td class=\"number\">1</td>\n",
       "        <td class=\"number\">0.0%</td>\n",
       "        <td>\n",
       "            <div class=\"bar\" style=\"width:100%\">&nbsp;</div>\n",
       "        </td>\n",
       "</tr><tr class=\"\">\n",
       "        <td class=\"fillremaining\">206380.0</td>\n",
       "        <td class=\"number\">1</td>\n",
       "        <td class=\"number\">0.0%</td>\n",
       "        <td>\n",
       "            <div class=\"bar\" style=\"width:100%\">&nbsp;</div>\n",
       "        </td>\n",
       "</tr>\n",
       "</table>\n",
       "        </div>\n",
       "    </div>\n",
       "</div>\n",
       "</div><div class=\"row variablerow\">\n",
       "    <div class=\"col-md-3 namecol\">\n",
       "        <p class=\"h4 pp-anchor\" id=\"pp_var_ISO2\">ISO2<br/>\n",
       "            <small>Categorical</small>\n",
       "        </p>\n",
       "    </div><div class=\"col-md-3\">\n",
       "    <table class=\"stats \">\n",
       "        <tr class=\"alert\">\n",
       "            <th>Distinct count</th>\n",
       "            <td>220</td>\n",
       "        </tr>\n",
       "        <tr>\n",
       "            <th>Unique (%)</th>\n",
       "            <td>0.1%</td>\n",
       "        </tr>\n",
       "        <tr class=\"ignore\">\n",
       "            <th>Missing (%)</th>\n",
       "            <td>0.1%</td>\n",
       "        </tr>\n",
       "        <tr class=\"ignore\">\n",
       "            <th>Missing (n)</th>\n",
       "            <td>234</td>\n",
       "        </tr>\n",
       "    </table>\n",
       "</div>\n",
       "<div class=\"col-md-6 collapse in\" id=\"minifreqtable-7955004578386892395\">\n",
       "    <table class=\"mini freq\">\n",
       "        <tr class=\"\">\n",
       "    <th>US</th>\n",
       "    <td>\n",
       "        <div class=\"bar\" style=\"width:100%\" data-toggle=\"tooltip\" data-placement=\"right\" data-html=\"true\"\n",
       "             data-delay=500 title=\"Percentage: 70.9%\">\n",
       "            176033\n",
       "        </div>\n",
       "        \n",
       "    </td>\n",
       "</tr><tr class=\"\">\n",
       "    <th>IN</th>\n",
       "    <td>\n",
       "        <div class=\"bar\" style=\"width:6%\" data-toggle=\"tooltip\" data-placement=\"right\" data-html=\"true\"\n",
       "             data-delay=500 title=\"Percentage: 4.3%\">\n",
       "            &nbsp;\n",
       "        </div>\n",
       "        10652\n",
       "    </td>\n",
       "</tr><tr class=\"\">\n",
       "    <th>GB</th>\n",
       "    <td>\n",
       "        <div class=\"bar\" style=\"width:5%\" data-toggle=\"tooltip\" data-placement=\"right\" data-html=\"true\"\n",
       "             data-delay=500 title=\"Percentage: 3.4%\">\n",
       "            &nbsp;\n",
       "        </div>\n",
       "        8430\n",
       "    </td>\n",
       "</tr><tr class=\"other\">\n",
       "    <th>Other values (216)</th>\n",
       "    <td>\n",
       "        <div class=\"bar\" style=\"width:30%\" data-toggle=\"tooltip\" data-placement=\"right\" data-html=\"true\"\n",
       "             data-delay=500 title=\"Percentage: 21.3%\">\n",
       "            52794\n",
       "        </div>\n",
       "        \n",
       "    </td>\n",
       "</tr>\n",
       "    </table>\n",
       "</div>\n",
       "<div class=\"col-md-12 text-right\">\n",
       "    <a role=\"button\" data-toggle=\"collapse\" data-target=\"#freqtable-7955004578386892395, #minifreqtable-7955004578386892395\"\n",
       "       aria-expanded=\"true\" aria-controls=\"collapseExample\">\n",
       "        Toggle details\n",
       "    </a>\n",
       "</div>\n",
       "<div class=\"col-md-12 extrapadding collapse\" id=\"freqtable-7955004578386892395\">\n",
       "    \n",
       "<table class=\"freq table table-hover\">\n",
       "    <thead>\n",
       "    <tr>\n",
       "        <td class=\"fillremaining\">Value</td>\n",
       "        <td class=\"number\">Count</td>\n",
       "        <td class=\"number\">Frequency (%)</td>\n",
       "        <td style=\"min-width:200px\">&nbsp;</td>\n",
       "    </tr>\n",
       "    </thead>\n",
       "    <tr class=\"\">\n",
       "        <td class=\"fillremaining\">US</td>\n",
       "        <td class=\"number\">176033</td>\n",
       "        <td class=\"number\">70.9%</td>\n",
       "        <td>\n",
       "            <div class=\"bar\" style=\"width:100%\">&nbsp;</div>\n",
       "        </td>\n",
       "</tr><tr class=\"\">\n",
       "        <td class=\"fillremaining\">IN</td>\n",
       "        <td class=\"number\">10652</td>\n",
       "        <td class=\"number\">4.3%</td>\n",
       "        <td>\n",
       "            <div class=\"bar\" style=\"width:6%\">&nbsp;</div>\n",
       "        </td>\n",
       "</tr><tr class=\"\">\n",
       "        <td class=\"fillremaining\">GB</td>\n",
       "        <td class=\"number\">8430</td>\n",
       "        <td class=\"number\">3.4%</td>\n",
       "        <td>\n",
       "            <div class=\"bar\" style=\"width:5%\">&nbsp;</div>\n",
       "        </td>\n",
       "</tr><tr class=\"\">\n",
       "        <td class=\"fillremaining\">RU</td>\n",
       "        <td class=\"number\">3694</td>\n",
       "        <td class=\"number\">1.5%</td>\n",
       "        <td>\n",
       "            <div class=\"bar\" style=\"width:3%\">&nbsp;</div>\n",
       "        </td>\n",
       "</tr><tr class=\"\">\n",
       "        <td class=\"fillremaining\">CR</td>\n",
       "        <td class=\"number\">3066</td>\n",
       "        <td class=\"number\">1.2%</td>\n",
       "        <td>\n",
       "            <div class=\"bar\" style=\"width:2%\">&nbsp;</div>\n",
       "        </td>\n",
       "</tr><tr class=\"\">\n",
       "        <td class=\"fillremaining\">JP</td>\n",
       "        <td class=\"number\">2337</td>\n",
       "        <td class=\"number\">0.9%</td>\n",
       "        <td>\n",
       "            <div class=\"bar\" style=\"width:2%\">&nbsp;</div>\n",
       "        </td>\n",
       "</tr><tr class=\"\">\n",
       "        <td class=\"fillremaining\">IT</td>\n",
       "        <td class=\"number\">1709</td>\n",
       "        <td class=\"number\">0.7%</td>\n",
       "        <td>\n",
       "            <div class=\"bar\" style=\"width:1%\">&nbsp;</div>\n",
       "        </td>\n",
       "</tr><tr class=\"\">\n",
       "        <td class=\"fillremaining\">ES</td>\n",
       "        <td class=\"number\">1673</td>\n",
       "        <td class=\"number\">0.7%</td>\n",
       "        <td>\n",
       "            <div class=\"bar\" style=\"width:1%\">&nbsp;</div>\n",
       "        </td>\n",
       "</tr><tr class=\"\">\n",
       "        <td class=\"fillremaining\">CH</td>\n",
       "        <td class=\"number\">1515</td>\n",
       "        <td class=\"number\">0.6%</td>\n",
       "        <td>\n",
       "            <div class=\"bar\" style=\"width:1%\">&nbsp;</div>\n",
       "        </td>\n",
       "</tr><tr class=\"\">\n",
       "        <td class=\"fillremaining\">ID</td>\n",
       "        <td class=\"number\">1514</td>\n",
       "        <td class=\"number\">0.6%</td>\n",
       "        <td>\n",
       "            <div class=\"bar\" style=\"width:1%\">&nbsp;</div>\n",
       "        </td>\n",
       "</tr><tr class=\"other\">\n",
       "        <td class=\"fillremaining\">Other values (209)</td>\n",
       "        <td class=\"number\">37286</td>\n",
       "        <td class=\"number\">15.0%</td>\n",
       "        <td>\n",
       "            <div class=\"bar\" style=\"width:21%\">&nbsp;</div>\n",
       "        </td>\n",
       "</tr>\n",
       "</table>\n",
       "</div>\n",
       "</div><div class=\"row variablerow\">\n",
       "    <div class=\"col-md-3 namecol\">\n",
       "        <p class=\"h4 pp-anchor\" id=\"pp_var_ISO3\">ISO3<br/>\n",
       "            <small>Categorical</small>\n",
       "        </p>\n",
       "    </div><div class=\"col-md-3\">\n",
       "    <table class=\"stats \">\n",
       "        <tr class=\"alert\">\n",
       "            <th>Distinct count</th>\n",
       "            <td>221</td>\n",
       "        </tr>\n",
       "        <tr>\n",
       "            <th>Unique (%)</th>\n",
       "            <td>0.1%</td>\n",
       "        </tr>\n",
       "        <tr class=\"ignore\">\n",
       "            <th>Missing (%)</th>\n",
       "            <td>0.1%</td>\n",
       "        </tr>\n",
       "        <tr class=\"ignore\">\n",
       "            <th>Missing (n)</th>\n",
       "            <td>160</td>\n",
       "        </tr>\n",
       "    </table>\n",
       "</div>\n",
       "<div class=\"col-md-6 collapse in\" id=\"minifreqtable9169715443392807277\">\n",
       "    <table class=\"mini freq\">\n",
       "        <tr class=\"\">\n",
       "    <th>USA</th>\n",
       "    <td>\n",
       "        <div class=\"bar\" style=\"width:100%\" data-toggle=\"tooltip\" data-placement=\"right\" data-html=\"true\"\n",
       "             data-delay=500 title=\"Percentage: 70.9%\">\n",
       "            176033\n",
       "        </div>\n",
       "        \n",
       "    </td>\n",
       "</tr><tr class=\"\">\n",
       "    <th>IND</th>\n",
       "    <td>\n",
       "        <div class=\"bar\" style=\"width:6%\" data-toggle=\"tooltip\" data-placement=\"right\" data-html=\"true\"\n",
       "             data-delay=500 title=\"Percentage: 4.3%\">\n",
       "            &nbsp;\n",
       "        </div>\n",
       "        10652\n",
       "    </td>\n",
       "</tr><tr class=\"\">\n",
       "    <th>GBR</th>\n",
       "    <td>\n",
       "        <div class=\"bar\" style=\"width:5%\" data-toggle=\"tooltip\" data-placement=\"right\" data-html=\"true\"\n",
       "             data-delay=500 title=\"Percentage: 3.4%\">\n",
       "            &nbsp;\n",
       "        </div>\n",
       "        8430\n",
       "    </td>\n",
       "</tr><tr class=\"other\">\n",
       "    <th>Other values (217)</th>\n",
       "    <td>\n",
       "        <div class=\"bar\" style=\"width:30%\" data-toggle=\"tooltip\" data-placement=\"right\" data-html=\"true\"\n",
       "             data-delay=500 title=\"Percentage: 21.3%\">\n",
       "            52868\n",
       "        </div>\n",
       "        \n",
       "    </td>\n",
       "</tr>\n",
       "    </table>\n",
       "</div>\n",
       "<div class=\"col-md-12 text-right\">\n",
       "    <a role=\"button\" data-toggle=\"collapse\" data-target=\"#freqtable9169715443392807277, #minifreqtable9169715443392807277\"\n",
       "       aria-expanded=\"true\" aria-controls=\"collapseExample\">\n",
       "        Toggle details\n",
       "    </a>\n",
       "</div>\n",
       "<div class=\"col-md-12 extrapadding collapse\" id=\"freqtable9169715443392807277\">\n",
       "    \n",
       "<table class=\"freq table table-hover\">\n",
       "    <thead>\n",
       "    <tr>\n",
       "        <td class=\"fillremaining\">Value</td>\n",
       "        <td class=\"number\">Count</td>\n",
       "        <td class=\"number\">Frequency (%)</td>\n",
       "        <td style=\"min-width:200px\">&nbsp;</td>\n",
       "    </tr>\n",
       "    </thead>\n",
       "    <tr class=\"\">\n",
       "        <td class=\"fillremaining\">USA</td>\n",
       "        <td class=\"number\">176033</td>\n",
       "        <td class=\"number\">70.9%</td>\n",
       "        <td>\n",
       "            <div class=\"bar\" style=\"width:100%\">&nbsp;</div>\n",
       "        </td>\n",
       "</tr><tr class=\"\">\n",
       "        <td class=\"fillremaining\">IND</td>\n",
       "        <td class=\"number\">10652</td>\n",
       "        <td class=\"number\">4.3%</td>\n",
       "        <td>\n",
       "            <div class=\"bar\" style=\"width:6%\">&nbsp;</div>\n",
       "        </td>\n",
       "</tr><tr class=\"\">\n",
       "        <td class=\"fillremaining\">GBR</td>\n",
       "        <td class=\"number\">8430</td>\n",
       "        <td class=\"number\">3.4%</td>\n",
       "        <td>\n",
       "            <div class=\"bar\" style=\"width:5%\">&nbsp;</div>\n",
       "        </td>\n",
       "</tr><tr class=\"\">\n",
       "        <td class=\"fillremaining\">RUS</td>\n",
       "        <td class=\"number\">3694</td>\n",
       "        <td class=\"number\">1.5%</td>\n",
       "        <td>\n",
       "            <div class=\"bar\" style=\"width:3%\">&nbsp;</div>\n",
       "        </td>\n",
       "</tr><tr class=\"\">\n",
       "        <td class=\"fillremaining\">CRI</td>\n",
       "        <td class=\"number\">3066</td>\n",
       "        <td class=\"number\">1.2%</td>\n",
       "        <td>\n",
       "            <div class=\"bar\" style=\"width:2%\">&nbsp;</div>\n",
       "        </td>\n",
       "</tr><tr class=\"\">\n",
       "        <td class=\"fillremaining\">JPN</td>\n",
       "        <td class=\"number\">2337</td>\n",
       "        <td class=\"number\">0.9%</td>\n",
       "        <td>\n",
       "            <div class=\"bar\" style=\"width:2%\">&nbsp;</div>\n",
       "        </td>\n",
       "</tr><tr class=\"\">\n",
       "        <td class=\"fillremaining\">ITA</td>\n",
       "        <td class=\"number\">1709</td>\n",
       "        <td class=\"number\">0.7%</td>\n",
       "        <td>\n",
       "            <div class=\"bar\" style=\"width:1%\">&nbsp;</div>\n",
       "        </td>\n",
       "</tr><tr class=\"\">\n",
       "        <td class=\"fillremaining\">ESP</td>\n",
       "        <td class=\"number\">1673</td>\n",
       "        <td class=\"number\">0.7%</td>\n",
       "        <td>\n",
       "            <div class=\"bar\" style=\"width:1%\">&nbsp;</div>\n",
       "        </td>\n",
       "</tr><tr class=\"\">\n",
       "        <td class=\"fillremaining\">CHE</td>\n",
       "        <td class=\"number\">1515</td>\n",
       "        <td class=\"number\">0.6%</td>\n",
       "        <td>\n",
       "            <div class=\"bar\" style=\"width:1%\">&nbsp;</div>\n",
       "        </td>\n",
       "</tr><tr class=\"\">\n",
       "        <td class=\"fillremaining\">IDN</td>\n",
       "        <td class=\"number\">1514</td>\n",
       "        <td class=\"number\">0.6%</td>\n",
       "        <td>\n",
       "            <div class=\"bar\" style=\"width:1%\">&nbsp;</div>\n",
       "        </td>\n",
       "</tr><tr class=\"other\">\n",
       "        <td class=\"fillremaining\">Other values (210)</td>\n",
       "        <td class=\"number\">37360</td>\n",
       "        <td class=\"number\">15.1%</td>\n",
       "        <td>\n",
       "            <div class=\"bar\" style=\"width:22%\">&nbsp;</div>\n",
       "        </td>\n",
       "</tr>\n",
       "</table>\n",
       "</div>\n",
       "</div><div class=\"row variablerow\">\n",
       "    <div class=\"col-md-3 namecol\">\n",
       "        <p class=\"h4 pp-anchor\" id=\"pp_var_Country_Region\">Country_Region<br/>\n",
       "            <small>Categorical</small>\n",
       "        </p>\n",
       "    </div><div class=\"col-md-3\">\n",
       "    <table class=\"stats \">\n",
       "        <tr class=\"alert\">\n",
       "            <th>Distinct count</th>\n",
       "            <td>230</td>\n",
       "        </tr>\n",
       "        <tr>\n",
       "            <th>Unique (%)</th>\n",
       "            <td>0.1%</td>\n",
       "        </tr>\n",
       "        <tr class=\"ignore\">\n",
       "            <th>Missing (%)</th>\n",
       "            <td>0.0%</td>\n",
       "        </tr>\n",
       "        <tr class=\"ignore\">\n",
       "            <th>Missing (n)</th>\n",
       "            <td>0</td>\n",
       "        </tr>\n",
       "    </table>\n",
       "</div>\n",
       "<div class=\"col-md-6 collapse in\" id=\"minifreqtable8545212626377873654\">\n",
       "    <table class=\"mini freq\">\n",
       "        <tr class=\"\">\n",
       "    <th>United States</th>\n",
       "    <td>\n",
       "        <div class=\"bar\" style=\"width:100%\" data-toggle=\"tooltip\" data-placement=\"right\" data-html=\"true\"\n",
       "             data-delay=500 title=\"Percentage: 70.9%\">\n",
       "            176033\n",
       "        </div>\n",
       "        \n",
       "    </td>\n",
       "</tr><tr class=\"\">\n",
       "    <th>India</th>\n",
       "    <td>\n",
       "        <div class=\"bar\" style=\"width:6%\" data-toggle=\"tooltip\" data-placement=\"right\" data-html=\"true\"\n",
       "             data-delay=500 title=\"Percentage: 4.3%\">\n",
       "            &nbsp;\n",
       "        </div>\n",
       "        10652\n",
       "    </td>\n",
       "</tr><tr class=\"\">\n",
       "    <th>United Kingdom</th>\n",
       "    <td>\n",
       "        <div class=\"bar\" style=\"width:5%\" data-toggle=\"tooltip\" data-placement=\"right\" data-html=\"true\"\n",
       "             data-delay=500 title=\"Percentage: 3.4%\">\n",
       "            &nbsp;\n",
       "        </div>\n",
       "        8430\n",
       "    </td>\n",
       "</tr><tr class=\"other\">\n",
       "    <th>Other values (227)</th>\n",
       "    <td>\n",
       "        <div class=\"bar\" style=\"width:30%\" data-toggle=\"tooltip\" data-placement=\"right\" data-html=\"true\"\n",
       "             data-delay=500 title=\"Percentage: 21.4%\">\n",
       "            53028\n",
       "        </div>\n",
       "        \n",
       "    </td>\n",
       "</tr>\n",
       "    </table>\n",
       "</div>\n",
       "<div class=\"col-md-12 text-right\">\n",
       "    <a role=\"button\" data-toggle=\"collapse\" data-target=\"#freqtable8545212626377873654, #minifreqtable8545212626377873654\"\n",
       "       aria-expanded=\"true\" aria-controls=\"collapseExample\">\n",
       "        Toggle details\n",
       "    </a>\n",
       "</div>\n",
       "<div class=\"col-md-12 extrapadding collapse\" id=\"freqtable8545212626377873654\">\n",
       "    \n",
       "<table class=\"freq table table-hover\">\n",
       "    <thead>\n",
       "    <tr>\n",
       "        <td class=\"fillremaining\">Value</td>\n",
       "        <td class=\"number\">Count</td>\n",
       "        <td class=\"number\">Frequency (%)</td>\n",
       "        <td style=\"min-width:200px\">&nbsp;</td>\n",
       "    </tr>\n",
       "    </thead>\n",
       "    <tr class=\"\">\n",
       "        <td class=\"fillremaining\">United States</td>\n",
       "        <td class=\"number\">176033</td>\n",
       "        <td class=\"number\">70.9%</td>\n",
       "        <td>\n",
       "            <div class=\"bar\" style=\"width:100%\">&nbsp;</div>\n",
       "        </td>\n",
       "</tr><tr class=\"\">\n",
       "        <td class=\"fillremaining\">India</td>\n",
       "        <td class=\"number\">10652</td>\n",
       "        <td class=\"number\">4.3%</td>\n",
       "        <td>\n",
       "            <div class=\"bar\" style=\"width:6%\">&nbsp;</div>\n",
       "        </td>\n",
       "</tr><tr class=\"\">\n",
       "        <td class=\"fillremaining\">United Kingdom</td>\n",
       "        <td class=\"number\">8430</td>\n",
       "        <td class=\"number\">3.4%</td>\n",
       "        <td>\n",
       "            <div class=\"bar\" style=\"width:5%\">&nbsp;</div>\n",
       "        </td>\n",
       "</tr><tr class=\"\">\n",
       "        <td class=\"fillremaining\">Russia</td>\n",
       "        <td class=\"number\">3694</td>\n",
       "        <td class=\"number\">1.5%</td>\n",
       "        <td>\n",
       "            <div class=\"bar\" style=\"width:3%\">&nbsp;</div>\n",
       "        </td>\n",
       "</tr><tr class=\"\">\n",
       "        <td class=\"fillremaining\">Costa Rica</td>\n",
       "        <td class=\"number\">3066</td>\n",
       "        <td class=\"number\">1.2%</td>\n",
       "        <td>\n",
       "            <div class=\"bar\" style=\"width:2%\">&nbsp;</div>\n",
       "        </td>\n",
       "</tr><tr class=\"\">\n",
       "        <td class=\"fillremaining\">Japan</td>\n",
       "        <td class=\"number\">2337</td>\n",
       "        <td class=\"number\">0.9%</td>\n",
       "        <td>\n",
       "            <div class=\"bar\" style=\"width:2%\">&nbsp;</div>\n",
       "        </td>\n",
       "</tr><tr class=\"\">\n",
       "        <td class=\"fillremaining\">Italy</td>\n",
       "        <td class=\"number\">1709</td>\n",
       "        <td class=\"number\">0.7%</td>\n",
       "        <td>\n",
       "            <div class=\"bar\" style=\"width:1%\">&nbsp;</div>\n",
       "        </td>\n",
       "</tr><tr class=\"\">\n",
       "        <td class=\"fillremaining\">Spain</td>\n",
       "        <td class=\"number\">1673</td>\n",
       "        <td class=\"number\">0.7%</td>\n",
       "        <td>\n",
       "            <div class=\"bar\" style=\"width:1%\">&nbsp;</div>\n",
       "        </td>\n",
       "</tr><tr class=\"\">\n",
       "        <td class=\"fillremaining\">Switzerland</td>\n",
       "        <td class=\"number\">1515</td>\n",
       "        <td class=\"number\">0.6%</td>\n",
       "        <td>\n",
       "            <div class=\"bar\" style=\"width:1%\">&nbsp;</div>\n",
       "        </td>\n",
       "</tr><tr class=\"\">\n",
       "        <td class=\"fillremaining\">Indonesia</td>\n",
       "        <td class=\"number\">1514</td>\n",
       "        <td class=\"number\">0.6%</td>\n",
       "        <td>\n",
       "            <div class=\"bar\" style=\"width:1%\">&nbsp;</div>\n",
       "        </td>\n",
       "</tr><tr class=\"other\">\n",
       "        <td class=\"fillremaining\">Other values (220)</td>\n",
       "        <td class=\"number\">37520</td>\n",
       "        <td class=\"number\">15.1%</td>\n",
       "        <td>\n",
       "            <div class=\"bar\" style=\"width:22%\">&nbsp;</div>\n",
       "        </td>\n",
       "</tr>\n",
       "</table>\n",
       "</div>\n",
       "</div><div class=\"row variablerow\">\n",
       "    <div class=\"col-md-3 namecol\">\n",
       "        <p class=\"h4 pp-anchor\" id=\"pp_var_AdminRegion1\">AdminRegion1<br/>\n",
       "            <small>Categorical</small>\n",
       "        </p>\n",
       "    </div><div class=\"col-md-3\">\n",
       "    <table class=\"stats \">\n",
       "        <tr class=\"alert\">\n",
       "            <th>Distinct count</th>\n",
       "            <td>823</td>\n",
       "        </tr>\n",
       "        <tr>\n",
       "            <th>Unique (%)</th>\n",
       "            <td>0.3%</td>\n",
       "        </tr>\n",
       "        <tr class=\"alert\">\n",
       "            <th>Missing (%)</th>\n",
       "            <td>6.9%</td>\n",
       "        </tr>\n",
       "        <tr class=\"alert\">\n",
       "            <th>Missing (n)</th>\n",
       "            <td>17219</td>\n",
       "        </tr>\n",
       "    </table>\n",
       "</div>\n",
       "<div class=\"col-md-6 collapse in\" id=\"minifreqtable-8408061290045996757\">\n",
       "    <table class=\"mini freq\">\n",
       "        <tr class=\"\">\n",
       "    <th>Texas</th>\n",
       "    <td>\n",
       "        <div class=\"bar\" style=\"width:6%\" data-toggle=\"tooltip\" data-placement=\"right\" data-html=\"true\"\n",
       "             data-delay=500 title=\"Percentage: 4.4%\">\n",
       "            &nbsp;\n",
       "        </div>\n",
       "        10950\n",
       "    </td>\n",
       "</tr><tr class=\"\">\n",
       "    <th>Georgia</th>\n",
       "    <td>\n",
       "        <div class=\"bar\" style=\"width:6%\" data-toggle=\"tooltip\" data-placement=\"right\" data-html=\"true\"\n",
       "             data-delay=500 title=\"Percentage: 4.2%\">\n",
       "            &nbsp;\n",
       "        </div>\n",
       "        10436\n",
       "    </td>\n",
       "</tr><tr class=\"\">\n",
       "    <th>England</th>\n",
       "    <td>\n",
       "        <div class=\"bar\" style=\"width:4%\" data-toggle=\"tooltip\" data-placement=\"right\" data-html=\"true\"\n",
       "             data-delay=500 title=\"Percentage: 3.0%\">\n",
       "            &nbsp;\n",
       "        </div>\n",
       "        7434\n",
       "    </td>\n",
       "</tr><tr class=\"other\">\n",
       "    <th>Other values (819)</th>\n",
       "    <td>\n",
       "        <div class=\"bar\" style=\"width:100%\" data-toggle=\"tooltip\" data-placement=\"right\" data-html=\"true\"\n",
       "             data-delay=500 title=\"Percentage: 81.4%\">\n",
       "            202104\n",
       "        </div>\n",
       "        \n",
       "    </td>\n",
       "</tr><tr class=\"missing\">\n",
       "    <th>(Missing)</th>\n",
       "    <td>\n",
       "        <div class=\"bar\" style=\"width:9%\" data-toggle=\"tooltip\" data-placement=\"right\" data-html=\"true\"\n",
       "             data-delay=500 title=\"Percentage: 6.9%\">\n",
       "            &nbsp;\n",
       "        </div>\n",
       "        17219\n",
       "    </td>\n",
       "</tr>\n",
       "    </table>\n",
       "</div>\n",
       "<div class=\"col-md-12 text-right\">\n",
       "    <a role=\"button\" data-toggle=\"collapse\" data-target=\"#freqtable-8408061290045996757, #minifreqtable-8408061290045996757\"\n",
       "       aria-expanded=\"true\" aria-controls=\"collapseExample\">\n",
       "        Toggle details\n",
       "    </a>\n",
       "</div>\n",
       "<div class=\"col-md-12 extrapadding collapse\" id=\"freqtable-8408061290045996757\">\n",
       "    \n",
       "<table class=\"freq table table-hover\">\n",
       "    <thead>\n",
       "    <tr>\n",
       "        <td class=\"fillremaining\">Value</td>\n",
       "        <td class=\"number\">Count</td>\n",
       "        <td class=\"number\">Frequency (%)</td>\n",
       "        <td style=\"min-width:200px\">&nbsp;</td>\n",
       "    </tr>\n",
       "    </thead>\n",
       "    <tr class=\"\">\n",
       "        <td class=\"fillremaining\">Texas</td>\n",
       "        <td class=\"number\">10950</td>\n",
       "        <td class=\"number\">4.4%</td>\n",
       "        <td>\n",
       "            <div class=\"bar\" style=\"width:7%\">&nbsp;</div>\n",
       "        </td>\n",
       "</tr><tr class=\"\">\n",
       "        <td class=\"fillremaining\">Georgia</td>\n",
       "        <td class=\"number\">10436</td>\n",
       "        <td class=\"number\">4.2%</td>\n",
       "        <td>\n",
       "            <div class=\"bar\" style=\"width:7%\">&nbsp;</div>\n",
       "        </td>\n",
       "</tr><tr class=\"\">\n",
       "        <td class=\"fillremaining\">England</td>\n",
       "        <td class=\"number\">7434</td>\n",
       "        <td class=\"number\">3.0%</td>\n",
       "        <td>\n",
       "            <div class=\"bar\" style=\"width:5%\">&nbsp;</div>\n",
       "        </td>\n",
       "</tr><tr class=\"\">\n",
       "        <td class=\"fillremaining\">Virginia</td>\n",
       "        <td class=\"number\">7206</td>\n",
       "        <td class=\"number\">2.9%</td>\n",
       "        <td>\n",
       "            <div class=\"bar\" style=\"width:5%\">&nbsp;</div>\n",
       "        </td>\n",
       "</tr><tr class=\"\">\n",
       "        <td class=\"fillremaining\">North Carolina</td>\n",
       "        <td class=\"number\">6150</td>\n",
       "        <td class=\"number\">2.5%</td>\n",
       "        <td>\n",
       "            <div class=\"bar\" style=\"width:4%\">&nbsp;</div>\n",
       "        </td>\n",
       "</tr><tr class=\"\">\n",
       "        <td class=\"fillremaining\">Missouri</td>\n",
       "        <td class=\"number\">5978</td>\n",
       "        <td class=\"number\">2.4%</td>\n",
       "        <td>\n",
       "            <div class=\"bar\" style=\"width:4%\">&nbsp;</div>\n",
       "        </td>\n",
       "</tr><tr class=\"\">\n",
       "        <td class=\"fillremaining\">Kentucky</td>\n",
       "        <td class=\"number\">5940</td>\n",
       "        <td class=\"number\">2.4%</td>\n",
       "        <td>\n",
       "            <div class=\"bar\" style=\"width:4%\">&nbsp;</div>\n",
       "        </td>\n",
       "</tr><tr class=\"\">\n",
       "        <td class=\"fillremaining\">Indiana</td>\n",
       "        <td class=\"number\">5914</td>\n",
       "        <td class=\"number\">2.4%</td>\n",
       "        <td>\n",
       "            <div class=\"bar\" style=\"width:4%\">&nbsp;</div>\n",
       "        </td>\n",
       "</tr><tr class=\"\">\n",
       "        <td class=\"fillremaining\">Illinois</td>\n",
       "        <td class=\"number\">5720</td>\n",
       "        <td class=\"number\">2.3%</td>\n",
       "        <td>\n",
       "            <div class=\"bar\" style=\"width:4%\">&nbsp;</div>\n",
       "        </td>\n",
       "</tr><tr class=\"\">\n",
       "        <td class=\"fillremaining\">Tennessee</td>\n",
       "        <td class=\"number\">5545</td>\n",
       "        <td class=\"number\">2.2%</td>\n",
       "        <td>\n",
       "            <div class=\"bar\" style=\"width:4%\">&nbsp;</div>\n",
       "        </td>\n",
       "</tr><tr class=\"other\">\n",
       "        <td class=\"fillremaining\">Other values (812)</td>\n",
       "        <td class=\"number\">159651</td>\n",
       "        <td class=\"number\">64.3%</td>\n",
       "        <td>\n",
       "            <div class=\"bar\" style=\"width:100%\">&nbsp;</div>\n",
       "        </td>\n",
       "</tr><tr class=\"missing\">\n",
       "        <td class=\"fillremaining\">(Missing)</td>\n",
       "        <td class=\"number\">17219</td>\n",
       "        <td class=\"number\">6.9%</td>\n",
       "        <td>\n",
       "            <div class=\"bar\" style=\"width:11%\">&nbsp;</div>\n",
       "        </td>\n",
       "</tr>\n",
       "</table>\n",
       "</div>\n",
       "</div><div class=\"row variablerow\">\n",
       "    <div class=\"col-md-3 namecol\">\n",
       "        <p class=\"h4 pp-anchor\" id=\"pp_var_AdminRegion2\">AdminRegion2<br/>\n",
       "            <small>Categorical</small>\n",
       "        </p>\n",
       "    </div><div class=\"col-md-3\">\n",
       "    <table class=\"stats \">\n",
       "        <tr class=\"alert\">\n",
       "            <th>Distinct count</th>\n",
       "            <td>2673</td>\n",
       "        </tr>\n",
       "        <tr>\n",
       "            <th>Unique (%)</th>\n",
       "            <td>1.1%</td>\n",
       "        </tr>\n",
       "        <tr class=\"alert\">\n",
       "            <th>Missing (%)</th>\n",
       "            <td>22.9%</td>\n",
       "        </tr>\n",
       "        <tr class=\"alert\">\n",
       "            <th>Missing (n)</th>\n",
       "            <td>56940</td>\n",
       "        </tr>\n",
       "    </table>\n",
       "</div>\n",
       "<div class=\"col-md-6 collapse in\" id=\"minifreqtable6848690600175268612\">\n",
       "    <table class=\"mini freq\">\n",
       "        <tr class=\"\">\n",
       "    <th>Washington County</th>\n",
       "    <td>\n",
       "        <div class=\"bar\" style=\"width:1%\" data-toggle=\"tooltip\" data-placement=\"right\" data-html=\"true\"\n",
       "             data-delay=500 title=\"Percentage: 0.7%\">\n",
       "            &nbsp;\n",
       "        </div>\n",
       "        1751\n",
       "    </td>\n",
       "</tr><tr class=\"\">\n",
       "    <th>Jefferson County</th>\n",
       "    <td>\n",
       "        <div class=\"bar\" style=\"width:1%\" data-toggle=\"tooltip\" data-placement=\"right\" data-html=\"true\"\n",
       "             data-delay=500 title=\"Percentage: 0.6%\">\n",
       "            &nbsp;\n",
       "        </div>\n",
       "        1511\n",
       "    </td>\n",
       "</tr><tr class=\"\">\n",
       "    <th>Franklin County</th>\n",
       "    <td>\n",
       "        <div class=\"bar\" style=\"width:1%\" data-toggle=\"tooltip\" data-placement=\"right\" data-html=\"true\"\n",
       "             data-delay=500 title=\"Percentage: 0.6%\">\n",
       "            &nbsp;\n",
       "        </div>\n",
       "        1426\n",
       "    </td>\n",
       "</tr><tr class=\"other\">\n",
       "    <th>Other values (2669)</th>\n",
       "    <td>\n",
       "        <div class=\"bar\" style=\"width:100%\" data-toggle=\"tooltip\" data-placement=\"right\" data-html=\"true\"\n",
       "             data-delay=500 title=\"Percentage: 75.2%\">\n",
       "            186515\n",
       "        </div>\n",
       "        \n",
       "    </td>\n",
       "</tr><tr class=\"missing\">\n",
       "    <th>(Missing)</th>\n",
       "    <td>\n",
       "        <div class=\"bar\" style=\"width:31%\" data-toggle=\"tooltip\" data-placement=\"right\" data-html=\"true\"\n",
       "             data-delay=500 title=\"Percentage: 22.9%\">\n",
       "            56940\n",
       "        </div>\n",
       "        \n",
       "    </td>\n",
       "</tr>\n",
       "    </table>\n",
       "</div>\n",
       "<div class=\"col-md-12 text-right\">\n",
       "    <a role=\"button\" data-toggle=\"collapse\" data-target=\"#freqtable6848690600175268612, #minifreqtable6848690600175268612\"\n",
       "       aria-expanded=\"true\" aria-controls=\"collapseExample\">\n",
       "        Toggle details\n",
       "    </a>\n",
       "</div>\n",
       "<div class=\"col-md-12 extrapadding collapse\" id=\"freqtable6848690600175268612\">\n",
       "    \n",
       "<table class=\"freq table table-hover\">\n",
       "    <thead>\n",
       "    <tr>\n",
       "        <td class=\"fillremaining\">Value</td>\n",
       "        <td class=\"number\">Count</td>\n",
       "        <td class=\"number\">Frequency (%)</td>\n",
       "        <td style=\"min-width:200px\">&nbsp;</td>\n",
       "    </tr>\n",
       "    </thead>\n",
       "    <tr class=\"\">\n",
       "        <td class=\"fillremaining\">Washington County</td>\n",
       "        <td class=\"number\">1751</td>\n",
       "        <td class=\"number\">0.7%</td>\n",
       "        <td>\n",
       "            <div class=\"bar\" style=\"width:1%\">&nbsp;</div>\n",
       "        </td>\n",
       "</tr><tr class=\"\">\n",
       "        <td class=\"fillremaining\">Jefferson County</td>\n",
       "        <td class=\"number\">1511</td>\n",
       "        <td class=\"number\">0.6%</td>\n",
       "        <td>\n",
       "            <div class=\"bar\" style=\"width:1%\">&nbsp;</div>\n",
       "        </td>\n",
       "</tr><tr class=\"\">\n",
       "        <td class=\"fillremaining\">Franklin County</td>\n",
       "        <td class=\"number\">1426</td>\n",
       "        <td class=\"number\">0.6%</td>\n",
       "        <td>\n",
       "            <div class=\"bar\" style=\"width:1%\">&nbsp;</div>\n",
       "        </td>\n",
       "</tr><tr class=\"\">\n",
       "        <td class=\"fillremaining\">Jackson County</td>\n",
       "        <td class=\"number\">1328</td>\n",
       "        <td class=\"number\">0.5%</td>\n",
       "        <td>\n",
       "            <div class=\"bar\" style=\"width:1%\">&nbsp;</div>\n",
       "        </td>\n",
       "</tr><tr class=\"\">\n",
       "        <td class=\"fillremaining\">Lincoln County</td>\n",
       "        <td class=\"number\">1274</td>\n",
       "        <td class=\"number\">0.5%</td>\n",
       "        <td>\n",
       "            <div class=\"bar\" style=\"width:1%\">&nbsp;</div>\n",
       "        </td>\n",
       "</tr><tr class=\"\">\n",
       "        <td class=\"fillremaining\">Montgomery County</td>\n",
       "        <td class=\"number\">1123</td>\n",
       "        <td class=\"number\">0.5%</td>\n",
       "        <td>\n",
       "            <div class=\"bar\" style=\"width:1%\">&nbsp;</div>\n",
       "        </td>\n",
       "</tr><tr class=\"\">\n",
       "        <td class=\"fillremaining\">Madison County</td>\n",
       "        <td class=\"number\">1098</td>\n",
       "        <td class=\"number\">0.4%</td>\n",
       "        <td>\n",
       "            <div class=\"bar\" style=\"width:1%\">&nbsp;</div>\n",
       "        </td>\n",
       "</tr><tr class=\"\">\n",
       "        <td class=\"fillremaining\">Union County</td>\n",
       "        <td class=\"number\">1005</td>\n",
       "        <td class=\"number\">0.4%</td>\n",
       "        <td>\n",
       "            <div class=\"bar\" style=\"width:1%\">&nbsp;</div>\n",
       "        </td>\n",
       "</tr><tr class=\"\">\n",
       "        <td class=\"fillremaining\">Clay County</td>\n",
       "        <td class=\"number\">960</td>\n",
       "        <td class=\"number\">0.4%</td>\n",
       "        <td>\n",
       "            <div class=\"bar\" style=\"width:1%\">&nbsp;</div>\n",
       "        </td>\n",
       "</tr><tr class=\"\">\n",
       "        <td class=\"fillremaining\">Marion County</td>\n",
       "        <td class=\"number\">953</td>\n",
       "        <td class=\"number\">0.4%</td>\n",
       "        <td>\n",
       "            <div class=\"bar\" style=\"width:1%\">&nbsp;</div>\n",
       "        </td>\n",
       "</tr><tr class=\"other\">\n",
       "        <td class=\"fillremaining\">Other values (2662)</td>\n",
       "        <td class=\"number\">178774</td>\n",
       "        <td class=\"number\">72.0%</td>\n",
       "        <td>\n",
       "            <div class=\"bar\" style=\"width:100%\">&nbsp;</div>\n",
       "        </td>\n",
       "</tr><tr class=\"missing\">\n",
       "        <td class=\"fillremaining\">(Missing)</td>\n",
       "        <td class=\"number\">56940</td>\n",
       "        <td class=\"number\">22.9%</td>\n",
       "        <td>\n",
       "            <div class=\"bar\" style=\"width:32%\">&nbsp;</div>\n",
       "        </td>\n",
       "</tr>\n",
       "</table>\n",
       "</div>\n",
       "</div>\n",
       "    <div class=\"row headerrow highlight\">\n",
       "        <h1>Correlations</h1>\n",
       "    </div>\n",
       "    <div class=\"row variablerow\">\n",
       "    <img src=\"data:image/png;base64,iVBORw0KGgoAAAANSUhEUgAAAqQAAAJYCAYAAAC0FvTLAAAABHNCSVQICAgIfAhkiAAAAAlwSFlzAAAPYQAAD2EBqD%2BnaQAAADh0RVh0U29mdHdhcmUAbWF0cGxvdGxpYiB2ZXJzaW9uMy4yLjEsIGh0dHA6Ly9tYXRwbG90bGliLm9yZy%2Bj8jraAAAgAElEQVR4nOzdeVyVZf7/8RebbC5YgLhjKPpNc0BRWtRR1HDPKdPSTENtQUHNGm3m65YtNllNSqZfc9wtHDUzc8aaMnP6lVZiGYaKWyQKiKSyyXZ%2BfxAnT1KiN/d9DN/Px%2BM8bs51L5/rvg4HPnyu%2Bz642Gw2GyIiIiIiTuLq7A6IiIiIyPVNCamIiIiIOJUSUhERERFxKiWkIiIiIuJUSkhFRERExKmUkIqIiIiIUykhFRERERGnUkIqIiIiIk6lhFREREREnMrd2R0QEakuP/zwAz179vzV9R4eHtSuXZvg4GC6d%2B/OAw88QO3atS3soYiIVMZF/zpURGqKixPS0NDQS5LN4uJizpw5w4kTJwBo1KgRy5cvp3nz5pb3VUREfqaEVERqjIsT0pUrVxIZGVnpdrt27SI2Npbc3FzCw8N56623rOymiIj8gq4hFZHrTmRkJI8//jgASUlJfPvtt07ukYjI9U0JqYhcl3r37m3/%2Buuvv3ZiT0RERDc1ich1qU6dOvav8/LyHNZ98cUXrFq1ij179vDjjz9St25dwsLCGDlyJLfddlulxzt37hxvvfUWO3bsIDU1ldzcXLy9vWnWrBk9evTgwQcfpF69eg77tG7dGoBPP/2UuXPn8uGHH%2BLq6krbtm35xz/%2Bgbu7O19//TXLly9n//79nDx5Ek9PT1q0aEGvXr0YPnx4pTdlFRYW8tZbb7F161ZSU1MpLi6mQYMG3H777cTExBAcHOyw/a5du3jwwQf5wx/%2BwJo1a1i1ahWbNm3i%2BPHjeHh40LZtW0aOHEmvXr2uZqhFRC5LCamIXJeOHz9u/zooKMj%2B9bx581iyZAkA9erVIzQ0lMzMTD788EM%2B/PBDxo4dy5NPPulwrGPHjjF69GhOnjyJu7s7zZo1o3Hjxpw4cYLk5GSSk5N577332LBhA76%2Bvpf0JS4ujqSkJEJDQzlz5gwBAQG4u7vz/vvvM3nyZEpKSqhfvz4tW7YkLy%2BPb775hq%2B//prNmzfz1ltvOSSlp06d4qGHHuLIkSMABAcH4%2Bvry%2BHDh0lMTGTTpk3MnTuXfv36XdKP4uJixo0bx2effUb9%2BvUJCQnh6NGjfP7553z%2B%2BefMmjWL%2B%2B%2B/39jAi4hUxiYiUkOkpaXZQkNDbaGhobbPP//8N7f985//bAsNDbW1bdvWlpWVZbPZbLY333zTFhoaaouIiLC988479m3Lysps7733ni0sLMwWGhpqW7duncOxHnjgAVtoaKht6NChtoyMDIf93n77bVubNm1soaGhttWrVzvsV9HXdu3a2Xbv3m2z2Wy20tJSW05Ojq20tNR2xx132EJDQ21LliyxlZSU2Pf79ttvbbfeeqstNDTUtnjxYnt7SUmJ7a677rKFhobaoqOjbd9995193fnz521//etf7ee8d%2B9e%2B7rPP//c3pewsDDb5s2b7evOnTtnGzVqlC00NNTWuXNnW3Fx8W%2BOq4jI1dA1pCJy3SgsLGT//v3MnDmTTZs2ATB69Gj8/f0pKipiwYIFADz33HMMGjTIvp%2BLiwv9%2BvWzV0YXLFhASUkJANnZ2Rw6dAiAOXPmEBgY6LDf4MGD6dy5MwAHDhyotF99%2B/alU6dOALi6uuLn58eZM2fIysoCYOjQobi5udm3b9u2LZMnT6ZXr174%2BfnZ2//973/z3Xff4enpyZIlS2jTpo19Xe3atXnmmWfo2rUrxcXFvPLKK5X2JT4%2BnoEDB9qf16lTx37eP/74I0ePHv2V0RURuXqasheRGunBBx%2B87Db33nsvEydOBMrvtj99%2BjS%2Bvr6/%2BuH6gwYNYs6cOWRkZLB//37at2/PjTfeyOeff05hYSFeXl6X7FNaWmqfUi8sLKz0uB07drykrX79%2BtSrV4%2BzZ8/yxBNP8Nhjj/GHP/wBV9fyOsLQoUMZOnSowz4fffQRAFFRUTRt2rTSWA899BA7d%2B5k9%2B7dnD9/3uFaWoAePXpcsk9ISIj963PnzlV6XBERI5SQikiN9MsPxndxccHT0xM/Pz9at25Nr169aNmypX19RZWzuLiYESNG/Opx3dzcKCsr48iRI7Rv397e7uXlxcmTJ/n666/5/vvvSUtL4/Dhw3z33Xfk5%2BcDUFZWVukxAwICKo3zxBNPMH36dHbs2MGOHTuoV68ekZGR3HHHHXTv3t3h2lfAXr1s27btr/a/Yl1paSnHjx%2BnXbt2DusbNGhwyT4XJ9qlpaW/emwRkaulhFREaqT//d///dUPxq/M%2BfPnASgqKmLPnj2X3f7iSuGRI0f429/%2Bxo4dOxySztq1axMREUFmZiYpKSm/eqzKKqtQXgVt3rw5y5Yt4//9v//H2bNnef/993n//fdxcXGhe/fuzJo1y56Y5ubmAlxS9bzYxUn6Lz9dAMr/vepvsel/qYiICZSQiogA3t7eQHkFcePGjVXeLzs7mwceeIDs7GwaNWrE0KFDufnmm7npppto0qQJLi4uTJky5TcT0t8SGRlJZGQkhYWFfPnll3zxxRfs3LmT5ORktm/fzsmTJ9m0aRMuLi72O/grkuvKXJxIV3bHv4iIMyghFREBWrRoAZR/hFNJSQnu7pf%2BeLTZbOzatYugoCAaNWpErVq12LBhA9nZ2fj5%2BbFhwwZuuOGGS/bLyMi44v4UFRWRlpZGbm4uf/jDH/Dy8qJLly506dKFyZMn89577/H444%2BTkpLCgQMHaNOmDTfddBP79%2B8nOTn5V4%2B7b98%2BoPwShmbNml1xv0REzKC77EVEgE6dOlGnTh3y8vJ%2BtUL67rvvMmrUKPr27cupU6cA%2BOGHHwBo1KhRpcloamoqe/fuBa7s%2BstPPvmEfv368fDDD1NUVHTJ%2Bttvv93%2BdcVxK25I%2Buijj0hLS6v0uCtXrgQgLCyMunXrVrk/IiJmUkIqIgL4%2BPjw8MMPA/Dss8%2ByYcMGh%2BtB//Of/zBz5kyg/GOaKqqLN910EwApKSls27bNvr3NZuOTTz5h7NixFBcXA1BQUFDl/nTr1o369evz448/MnXqVH788Uf7ury8PF544QUAGjZsSKtWrQDo06cPrVu35sKFC4wbN87hMoHc3FymT5/Of//7X9zd3XniiSeqPjgiIibTlL2IyE/GjRtHWloa69at4y9/%2BQsvvvgiTZo0ISMjg8zMTAA6dOjAM888Y99nyJAhrF27luPHjxMfH0/jxo2pX78%2BJ0%2BeJDs7Gw8PDzp37szu3buvaOq%2BVq1avPrqq4wZM4atW7fy4Ycf0qxZM1xdXUlLSyM/Px9vb2/mzp1LrVq1AHB3d2fhwoWMGzeOI0eOcNdddzn8p6aKj6aaPXs2ERER1Tt4IiIGKCEVEfmJi4sLc%2BbMITo6mrfeeou9e/faP2g%2BLCyMAQMGMGzYMHsCCOV3ra9fv54lS5awfft2fvjhB06fPk1QUBDdu3dn1KhR%2BPj40KtXL1JSUkhPT6dRo0ZV6k9kZCT//Oc/WbZsGV999RXHjh3D3d2doKAgunTpQkxMzCXHatKkCRs2bODNN9/k3//%2BN4cPH%2BbUqVM0bNiQrl27MmLEiEv%2Bl72IiLO52PQZHiIiIiLiRLqGVEREREScSgmpiIiIiDiVElIRERERcSolpCIiIiI12JkzZ%2Bjduze7du361W127NjBwIEDCQsLo2/fvmzfvt1h/ZIlS%2BjWrRthYWGMHDmSI0eOVGsflZCKiIiI1FBfffUVw4YN4/vvv//VbY4dO0ZcXBwTJ07kyy%2B/JC4ujkmTJtk/qu7tt99m1apVLF26lF27dtG2bVvi4%2BOpzvvilZCKiIiI1EBvv/02TzzxBJMnT77sdhEREfTq1Qt3d3f69etHp06dSExMBGDdunUMHz6cVq1a4enpyZQpU0hPT//NiuuVUkIqIiIicg3KzMwkOTnZ4VHxTzqqokuXLnzwwQf069fvN7dLTU0lNDTUoa1ly5b2//b2y/UeHh4EBwc7/Dc4o/TB%2BHLlXFzMj9GiBRw6BK1awdGjpoc7mW7%2Bx/G6uUFAAGRlwRX8S/OrVqeO%2BTFcXMDHB/LzwYpPNLYihosL%2BPpCXp418aygc6qeeFbEsPL95OZmfgwXF/D0hAsXrDknb2/zY1TKpG%2BQxPnzSUhIcGibMGECcXFxVdo/ICCgStvl5eXh/YvB8/LyIj8/v0rrq4MSUrk2%2BfmV/7T083N2T6qNi8vPj5ri4nOqSYmOzunap3P6/ahJP/OsNmzYMKKiohzaqppkXglvb28KCwsd2goLC/H19a3S%2BuqghFRERETECFdzroAMDAwkMDDQlGNfLDQ0lOTkZIe21NRU2rVrB0CrVq04dOgQPXr0AKC4uJhjx45dMs1vhK4hFRERETHC1dWch0UGDRrE7t272bp1KyUlJWzdupXdu3dz1113AXDPPfewevVqUlJSuHDhAi%2B99BL%2B/v5ERERUWx%2BUkIqIiIhcZ8LDw9m8eTMAISEhvPbaayxevJhOnTqxcOFCFixYQIsWLQAYMmQIo0ePZvz48dx6663s37%2BfxYsX4%2BHhUW39cbFV54dIyfXBiguCwsNhzx7o0AGSkkwPZ8VNTe7uP9/UVFJiejhLbmpydf35JoyyMvPjWfHTytX155tlrDgnK%2BicjLPix57V7yerbmry8oLCwhp%2BU5OnpznHvXDBnONeg1QhFRERERGn0k1NIiIiIkZYeL1nTaWEVERERMQIJaSGaQRFRERExKlUIRURERExQhVSwzSCIiIiIuJUqpCKiIiIGKEKqWFKSEVERESMUEJqmEZQRERERJxKFVIRERERI1QhNUwjKCIiIiJOpQqpiIiIiBGqkBqmhFRERETECCWkhmkERURERMSpVCEVERERMUIVUsM0giIiIiLiVEpInSQ9PZ3w8HDS09OveN9p06Yxbdo0E3olIiIiV8zV1ZzHdURT9k7SqFEjkpKSnN0NERERMeo6Sx7NoBF0kh9%2B%2BIHWrVvbl6tWrSI6Oprw8HDuu%2B8%2BDhw4YN/2ww8/pH///oSFhfHII4%2BQk5PjcKz33nuPgQMH0rFjR%2B6%2B%2B27%2B%2B9//ApCTk0O3bt3429/%2BBkBJSQn33Xcfjz/%2BuHUnKiIiInIZqpBeI9577z1Wr16Nl5cX8fHx/O1vf2Pp0qUcOXKEiRMn8txzz9GvXz8%2B/vhj4uPjGTRoEAA7duxg5syZvP7663To0IFPPvmEuLg41q1bR6tWrXjxxRcZM2YMvXv3Zvv27eTk5PDGG29UuV%2BZmZlkZWU5tAW0aEGgn1%2B1nv8l2rRxXJrM3YJ3QkUMK2KBNX%2Bwu7j8vLQins1mfoyK86hJBQ%2Bdk3EV3%2BtWxLDq/WT1OZnNip8Pv6omvbmcRAnpNWLkyJEEBAQA0LdvXxYvXgzA1q1badeunT0B7dWrFz169LDvt3r1au6//346deoEQI8ePYiKiuKtt95i%2BvTpREZGMmbMGCZNmsS5c%2Bd48803qV27dpX7lZiYSEJCgkPbhIkTiZs40dD5VtnatZaECbAkSrn69S0MZhFvb2f3oPrpnH4fdE6/D56e5scoKDA/hphHCek1wt/f3/61u7s7tp/%2B1MvIyKBRo0YO2zZr1sw%2BbX/ixAl2797Nm2%2B%2BaV9fWlrKrbfean8%2BfPhw3njjDcLDw2lzhRXHYcOGERUV5dAWMHAgrFhxRce5Ym3alCejw4dDSoq5sYCsbXtMj%2BHuXp6M5uRASYnp4fD1NT%2BGi0v5L8%2BCAmuqE1ZVSCvOqazM/HhW0DkZZ1U10cr3k1VVWE9PuHDByRVMs6lCapgS0mtcUFAQH3/8sUPbqVOn8Pzpz82goCAGDx7Mww8/bF%2Bfnp6Ol5eX/fn06dPp2rUr%2B/btY%2B3atQwfPrzK8QMDAwkMDHRsPHr0yk/kaqWkgAU3f1mRIF4cy4p4VvySrvgZbLNZE8/KX2hlZTUneaugc7p6ViSkVr%2BfrDinCjabElL5bRrBa9ygQYM4ePAg69ato6SkhP/%2B97988MEH9vVDhw5l5cqVfPPNNwDs27ePu%2B%2B%2Bmy1btgCwYsUK9u/fz/PPP8/TTz/NCy%2B8wKFDh5xyLiIiIiKVUYX0Gte0aVMWLVrE3LlzefbZZ2nbti29e/e2r%2B/Tpw/5%2Bfn85S9/IT09HT8/P0aPHs3IkSNJSUlh3rx5zJ8/n/r169OzZ0/69evH448/zvr16%2B1VVhERETFAFVLDXGy2Gl1EFzNYMc8THg579kCHDpZM2Z9MN/9t4O4OAQGQlWXNlH2dOubHcHUFHx/Iz685U/auruXX3%2Bbl1ZzpbZ2TcVZN2Vv5fnJzMz%2BGiwt4eUFhoTXvX6fdENaqlTnHvY5mNFUhFRERETFCFVLDlJCKiIiIGKGE1DCNoIiIiIg4lSqkIiIiIkaoQmqYRlBEREREnEoVUhEREREjVCE1TAmpiIiIiBFKSA3TCIqIiIiIU6lCKiIiImKEKqSGaQRFRERExKlUIRURERExQhVSw5SQioiIiBihhNQwjaCIiIiIOJUqpCIiIiJGqEJqmBJSERERESOUkBqmERQRERERp1KFVERERMQIVUgNU0IqIiIiUgNlZ2czffp0du/ejZubG4MGDWLq1Km4uzumf2PHjuWrr75yaMvPz2fYsGE8/fTTlJWV0bFjR2w2Gy4uLvZtPv30U3x8fKqlr0pIRURERIy4RiukkyZNokGDBuzcuZPTp0/z2GOPsXz5csaOHeuw3RtvvOHwfP369SQkJDBhwgQAUlNTKS4uZs%2BePdSqVcuUvl6bIygiIiLye%2BHqas7DgOPHj7N7926efPJJvL29adq0KbGxsaxZs%2BY39zty5Ahz5sxh3rx5BAYGArBv3z5at25tWjIKqpDKVTiZbjM9hrs7BABZ2/ZQUmJ6OBo2crn8RkaFh8OePQREd4CkJPPjFRWZHwMAD3w8iq0J5W7VjywXfH3M/z4HsOQbHAAPfGtZ8zqVunpYEgfAy8uaOG5lFn2P19D3k5enRe8nLPhZbqHMzEyysrIc2gICAuyJ4m85dOgQfn5%2BNGjQwN4WEhJCeno6586do27dupXuN3v2bAYPHkxERIS9bd%2B%2BfVy4cIF77rmHEydOEBISwpQpU%2BjQocNVntmllJCKiIiIGGHSlH1iYiIJCQkObRMmTCAuLu6y%2B%2Bbl5eHt7e3QVvE8Pz%2B/0oT0yy%2B/5Ouvv2bevHkO7V5eXrRv356JEydSr1491qxZw5gxY9i8eTNNmza90tOqlBJSERERkWvQsGHDiIqKcmgLCAio0r4%2BPj4UFBQ4tFU89/X1rXSfxMRE%2Bvbte0mMadOmOTwfM2YMGzduZMeOHTzwwANV6s/lKCEVERERMcKkCmlgYGCVpucr06pVK3788UdOnz6Nv78/AIcPHyYoKIg6depcsn1JSQkffvghr7322iXrXnnlFaKjo7n55pvtbUVFRXh6el5V3yqjm5pEREREjLgGb2oKDg6mY8eOPPfcc%2BTm5pKWlsbChQsZMmRIpdsfOHCACxcuVHpd6MGDB3n22WfJysqiqKiIhIQEcnNz6d27t6E%2BXkwJqYiIiEgNNH/%2BfEpKSujZsydDhw6la9euxMbGAhAeHs7mzZvt26alpVGvXr1Kq57PP/88zZo146677iIyMpLdu3ezbNky/Pz8qq2vLjabzapb36SGOHnS/Bju7hAQAFlZ1tyEbOVd9nSoYXfZe3hAcQ27K9jFBaz60WjVXfYWvk5W3WXv5galpZaEsu4ue72fjMdyhuhoc467bZs5x70GqUIqIiIiIk6lm5pEREREjLhG/1PT74kSUhEREREjlJAaphEUEREREadShVRERETECFVIDdMIioiIiIhTqUIqIiIiYoQqpIYpIRURERExQgmpYRpBEREREXEqVUhFREREjFCF1DCNoIiIiIg4lSqkIiIiIkaoQmqYElIRERERI5SQGqYRFBERERGnUoVURERExAhVSA3TCIqIiIiIU6lCWkOMHDmSzp0786c//YmePXvi7e2Ni4sLNpsNd3d3br75ZuLj44mIiHB2V0VERGoWVUgNU0JaQ23ZsoUmTZoAcP78eVatWsVDDz3EsmXLlJSKiIhUJyWkhmkErwN16tQhNjaWO%2B%2B8k3nz5jm7OyIiIiIOVCG9jvTo0YMnnniCgoICvL29q7RPZmYmWVlZDm0uLgEEBASa0UU7d3fHpenCw82P0aaN41JERGoGVUgNU0J6Halfvz42m41z585VOSFNTEwkISHBoW38%2BAnEx8eZ0cVL1K9vSRjYs8eiQMDatdbFsoqHh7N7UP1cXKyJY%2BXYWRTLzZIoP8WyKphbzXudLGXF%2B8lmMz%2BGmEYJ6XUkOzsbNzc36tWrV%2BV9hg0bRlRUlEObi0sAvyiaVjt39/JkNCcHSkrMjQUQEN3B/CBt2pQno8OHQ0qK%2BfF27TI/BpT/8iwutiaWVSVzFxfrfrlZ8Q0Olr5Opa4WJb5uUFpqSSjcyiz6Htf76fdJFVLDlJBeR7Zv306HDh3w8vKq8j6BgYEEBjpOz588ad3v0JISi2IlJVkQ5CcpKdbGExERcykhNUwJ6XXg7NmzrFq1iu3bt7N8%2BXJnd0dERETEgRLSGmrAgAG4/HTNjq%2BvL2FhYaxevZp27do5uWciIiI1jCqkhikhrSFWrVpl//rAgQNO7ImIiIjIlVFCKiIiImKEKqSGKSEVERERMUIJqWEaQRERERFxKlVIRURERIxQhdQwJaQiIiIiRighNUwjKCIiIiJOpQqpiIiIiBGqkBqmERQRERERp1KFVERERMQIVUgNU0IqIiIiYoQSUsM0giIiIiLiVKqQioiIiBihCqlhGkERERERcSpVSEVERESMUIXUMCWkIiIiIkYoITVMIygiIiIiTqUKqYiIiIgRqpAaphEUERERqYGys7OJjY0lIiKCyMhInn32WUpKSirdduzYsdxyyy2Eh4fbH5988ol9/ZIlS%2BjWrRthYWGMHDmSI0eOVGtflZCKiIiIGOHqas7DoEmTJuHj48POnTtZv349n332GcuXL69022%2B//ZalS5eSlJRkf3Tr1g2At99%2Bm1WrVrF06VJ27dpF27ZtiY%2BPx2azGe5jBSWkIiIiIkZcgwnp8ePH2b17N08%2B%2BSTe3t40bdqU2NhY1qxZc8m2aWlpnD17lptvvrnSY61bt47hw4fTqlUrPD09mTJlCunp6ezatctQHy%2Bma0jlitWpY36Mivehry%2BUlZkfj6IiC4L8pBrfwL%2BpVi3zY4SHw549EBkJSUnmx2vY0PwYt9wC27ZBnz6wb5/58U6dMj9GeDh89RXceqslr5NbZKTpMQgNhRUrcIsZBQcPmh9vzx7zY4SFlf986NIF9u41P16HDubH%2BOl1YvRoa16nzz4zP4aFMjMzycrKcmgLCAggMDDwsvseOnQIPz8/GjRoYG8LCQkhPT2dc%2BfOUbduXXv7vn378PX1ZfLkyezbtw9/f39Gjx7NkCFDAEhNTWXcuHH27T08PAgODiYlJYVbb73V6GkCSkhFREREjDHppqbExEQSEhIc2iZMmEBcXNxl983Ly8Pb29uhreJ5fn6%2BQ0JaVFREWFgYkydPplWrVuzatYu4uDh8fX3p27dvpcfy8vIiPz//ak/tEkpIRURERK5Bw4YNIyoqyqEtICCgSvv6%2BPhQUFDg0Fbx3NfX16F98ODBDB482P68S5cuDB48mH/961/07dsXb29vCgsLHfYpLCy85DhGKCEVERERMcKkCmlgYGCVpucr06pVK3788UdOnz6Nv78/AIcPHyYoKIg6v7j2bv369fZqaIWioiI8PT3txzp06BA9evQAoLi4mGPHjhEaGnpVfauMbmoSERERMeIavKkpODiYjh078txzz5Gbm0taWhoLFy60Xxd6sdzcXObMmcP%2B/fspKyvj448/ZsuWLQwbNgyAe%2B65h9WrV5OSksKFCxd46aWX8Pf3JyIiwlAfL6YKqYiIiEgNNH/%2BfJ5%2B%2Bml69uyJq6srgwcPJjY2FoDw8HBmz57NoEGDGDVqFPn5%2BUyYMIHs7GyaNm3KCy%2B8YE84hwwZwvnz5xk/fjxnzpzhlltuYfHixXh4eFRbX5WQioiIiBhxjf6nJn9/f%2BbPn1/puqSLPnHDxcWF2NhYe7L6Sy4uLsTExBATE2NKP0FT9iIiIiLiZKqQioiIiBhxjVZIf0%2BUkIqIiIgYoYTUMI2giIiIiDiVKqQiIiIiRqhCaphGUEREREScShVSERERESNUITVMCamIiIiIEUpIDdMIioiIiIhTqUIqIiIiYoQqpIZpBEVERETEqVQhFRERETFCFVLDlJCKiIiIGKGE1DCNoIiIiIg4lSqkIiIiIkaoQmqYRlBEREREnEoJKXD06FGmTp1Kt27dCA8Pp1evXsybN4%2B8vDzDx7bZbEyZMoWwsDCioqJ4/fXXGTt2bDX0%2BupERUWxceNGp8UXERGpcVxdzXlcR677Kfs9e/YQExNDTEwMmzZt4oYbbuDo0aPMmDGDmJgY1q5di5ub21UfPzMzky1btrBx40batm1bjT0XERGRa8J1ljya4bofwRkzZjB48GDi4%2BO54YYbAGjRogWvvPIKN954I2lpaZw4cYJJkyZx2223cccddzBlyhQyMzMB2LVrl73y2bVrVzp37kxcXBy5ubns37%2Bf6OhoAEaMGMH8%2BfNZsGABI0eOBGDjxo3cfffdxMTEEBERwbvvvsvIkSOZP38%2B999/P2FhYQwaNIhvvvmGKVOm0KFDB6Kiovj444/t/U9OTmbkyJF06tSJO%2B%2B8k%2BXLl2Oz2YDy6uyiRYvo0qULERERvPDCC5SWllo4uiIiIiKXd11XSL///nsOHTrErFmzLlnn7%2B/PwoULKS4uZsCAAbRr1473338fm83G7NmzefTRR1m3bh0AJ06cICMjgw8%2B%2BICMjAxGjBjB2rVrefjhh9myZQs9e/Zky5YtNGnShAULFjjESU5OZu7cuSxatIiysjLWrVtHYmIiK1asoFmzZsTExDB8%2BHD%2B/ve/M0XfJXIAACAASURBVHfuXF5%2B%2BWXmzJlD9%2B7dycjIYNSoUUyePJl//OMfHD9%2BnNjYWLy8vLjvvvvYsGEDK1as4I033qBVq1YkJCRw6tSpKxqjzMxMsrKyHNp8fQMIDAy8ssG%2BQi4uPy/1h%2BdVCg83P0abNo5LswUEmB%2BjZUvHpdkaNjQ/htWvU2io%2BTGaN3dcmq2szPwYrVs7Ls1W016ngwfNj/Fr9IvKsOs6IT1z5gxQnnz%2Bmi%2B//JK0tDQ2bNhA7dq1AZg9ezadO3fm22%2B/tW83fvx4vLy8aN68OZGRkRw9erRKffDw8OCuu%2B7C9aJv5ujoaFr%2B9MswIiKCc%2BfO0atXLwC6devGsmXLANi8eTMhISGMGDECgJYtWzJmzBhWr17NfffdxzvvvMPQoUPtlwpMnDjRnkRXVWJiIgkJCQ5t48dPID4%2B7oqOc7W8vS0JA3hYFQg8LIq1Z481cQDWrrUullVee83ZPah%2Ba9Y4uwfV7%2Bmnnd2D6rdypbN7UP2seJ1uu838GGKa6zohDfip2pKVlUVwcPAl60%2BfPk12djb169e3J6MAtWvXxs/PjxMnTtiT2YCLKjceHh72afOq9MH1F39Z%2Bfn52b92c3OjXr169ueurq72Y584cYLk5GQiIiLs68vKyuzXvGZmZtLwouqLm5sbjRo1qlK/KgwbNoyoqCiHNl/fAPLzr%2BgwV8zFpTwZLSiAKg6lIT4exeYHgfJktNiiWJGR5sdo06Y8GR0%2BHFJSzI9nVYX0tddg/HhITTU/3unT5sdo06Y8GR0xwprXqV0782M0b16e5MyYAcePmx/PinFr3bo8GX3wQThwwPx4VlTMrX6dnEUVUsOu64S0cePGhIaGsnXrVjp16uSwLjs7mx49ejBhwgRycnLIzc21J6Xnz58nJyeHgICAKieev8alYm76Mm2VCQoKIjIykqVLl9rbcnJy7J8OEBQURFpamn2dzWazX/taVYGBgZdMz%2Bfmmj97VfHettmsmSmrkZKSrIuVkmJNPCumtyukpsK%2BfebHucLLaAyx6nWqVcv8GBWOH7dmqnbvXvNjVDhwwJp4ViZRVr1OzqKE1LDrfgSnT5/Ohg0bSEhIICcnB5vNxnfffcejjz5K27ZtiYmJoWXLlsycOZPz589z/vx5Zs2aRbNmzejQoYNT%2Bz5w4ED27t3L5s2bKSkpITMzk0cffZS5c%2BcCcO%2B997Ju3TqSkpIoLi7m9ddfv%2BR6UBERERFnu64rpACdO3dm9erVLFq0iP79%2B1NQUIC/vz99%2BvThkUcewcPDg8WLFzN37lyio6MpKiri9ttvZ9myZbi7O3f4GjduzBtvvMG8efN45plncHNzo3v37vz1r38FYMCAAeTk5DB58mTOnj1Lnz59aG3VxfIiIiLXC1VIDXOxGZ1zlutObq75MVxdwccH8vOtmbKv7VkDryG1Yto0PLz85qkOHWrOlP0tt8C2bRAdXXOm7MPD4auvoGNHa14nK65fDg2FFStg1ChrpoKtuEkwLAx27SofPyum7K2Y5bP6dfrsM/NjVObNN8057v33m3Pca5BSehERERFxqut%2Byl5ERETEEE3ZG6YRFBERERGnUoVURERExAhVSA1TQioiIiJihBJSwzSCIiIiIuJUqpCKiIiIGKEKqWEaQRERERFxKlVIRURERIxQhdQwJaQiIiIiRighNUwjKCIiIiJOpQqpiIiIiBGqkBqmERQRERERp1KFVERERMQIVUgNU0IqIiIiYoQSUsM0giIiIiLiVKqQioiIiBihCqlhSkhFREREaqDs7GymT5/O7t27cXNzY9CgQUydOhV390vTvzfffJPly5eTmZlJYGAgDz74ICNGjACgrKyMjh07YrPZcHFxse/z6aef4uPjUy19VUIqIiIiYsQ1WiGdNGkSDRo0YOfOnZw%2BfZrHHnuM5cuXM3bsWIft/vOf//Dyyy%2BzZMkS/vCHP7B3714efvhh/P39iY6OJjU1leLiYvbs2UOtWrVM6asSUhEREREjTEpIMzMzycrKcmgLCAggMDDwsvseP36c3bt388knn%2BDt7U3Tpk2JjY3lxRdfvCQhzcjIYNy4cYSFhQEQHh5OZGQkX3zxBdHR0ezbt4/WrVubloyCElK5CjabdTFsNmviUcn0xe8%2BVsOG5scICPh5aUW8kyfNjxEUVL7MyrImXnCw%2BTEqXpuGDeHMGfPjHTlifgxf3/LliRPWxAsJMT9GkyY/L8%2BfNz9e3brmx6hd%2B%2BelFfFqmMTERBISEhzaJkyYQFxc3GX3PXToEH5%2BfjRo0MDeFhISQnp6OufOnaPuRa9HxdR8hezsbL744gueeuopAPbt28eFCxe45557OHHiBCEhIUyZMoUOHToYOT0HSkhFREREjDCpQjps2DCioqIc2gIqCgGXkZeXh7e3t0NbxfP8/HyHhPRiWVlZPPLII7Rr144BAwYA4OXlRfv27Zk4cSL16tVjzZo1jBkzhs2bN9O0adMrPa1KKSEVERERuQYFBgZWaXq%2BMj4%2BPhQUFDi0VTz3rZhh%2BIW9e/cyceJEIiIieP755%2B03P02bNs1huzFjxrBx40Z27NjBAw88cFX9%2B6Vr8ypcERERkd8LV1dzHga0atWKH3/8kdOnT9vbDh8%2BTFBQEHXq1Llk%2B/Xr1zN69GhGjRrFSy%2B95HC96CuvvML%2B/fsdti8qKsLT09NQHy%2BmhFRERETEiGswIQ0ODqZjx44899xz5ObmkpaWxsKFCxkyZMgl227bto1Zs2axYMECYmJiLll/8OBBnn32WbKysigqKiIhIYHc3Fx69%2B5tqI8XU0IqIiIiUgPNnz%2BfkpISevbsydChQ%2BnatSuxsbFA%2BZ30mzdvBiAhIYHS0lLi4%2BMJDw%2B3P2bMmAHA888/T7NmzbjrrruIjIxk9%2B7dLFu2DD8/v2rrq64hFRERETHiGv0cUn9/f%2BbPn1/puqSkJPvX77777m8ex8/Pj%2Beff75a%2B/ZL1%2BYIioiIiMh1QxVSERERESOu0Qrp74kSUhEREREjlJAaphEUEREREadShVRERETECFVIDdMIioiIiIhTqUIqIiIiYoQqpIYpIRURERExQgmpYRpBEREREXEqVUhFREREjFCF1DCNoIiIiIg4lSqkIiIiIkaoQmqYElIRERERI5SQGqYRFBERERGnUoVURERExAhVSA1TQioiIiJihBJSwwyP4NGjR5k6dSrdunUjPDycXr16MW/ePPLy8gx3zmazMWXKFMLCwoiKiuL1119n7Nixho97taKioti4caP9eVFREYsXL2bgwIF07NiR22%2B/nccee4zk5GT7NtOmTWPatGnO6K6IiIjI74KhCumePXuIiYkhJiaGTZs2ccMNN3D06FFmzJhBTEwMa9euxc3N7aqPn5mZyZYtW9i4cSNt27Y10tVqd%2BHCBUaOHEmtWrV44YUXaNOmDQUFBaxcuZIHHniAFStW0L59e2d3U0RERMymCqlhhkZwxowZDB48mPj4eG644QYAWrRowSuvvMKNN95IWloaJ06cYNKkSdx2223ccccdTJkyhczMTAB27dplr3x27dqVzp07ExcXR25uLvv37yc6OhqAESNGMH/%2BfBYsWMDIkSMB2LhxI3fffTcxMTFERETw7rvvMnLkSObPn8/9999PWFgYgwYN4ptvvmHKlCl06NCBqKgoPv74Y3v/k5OTGTlyJJ06deLOO%2B9k%2BfLl2Gw2oLw6u2jRIrp06UJERAQvvPACpaWl9n1XrVrFDz/8wKJFi7j55ptxdXXF19eXxx57jPvuu4%2BDBw/at83OziY%2BPp7IyEi6dOnC6tWr7esOHz7MI488Qvfu3Wnfvj39%2BvVj%2B/btAPzwww%2B0bt2af/7zn0RFRdGxY0ceeughTp06Zd//vffeIzo6moiICMaMGcP06dPtFVmbzcbKlSvt64cPH863335r5CUXERERqXZXXSH9/vvvOXToELNmzbpknb%2B/PwsXLqS4uJgBAwbQrl073n//fWw2G7Nnz%2BbRRx9l3bp1AJw4cYKMjAw%2B%2BOADMjIyGDFiBGvXruXhhx9my5Yt9OzZky1bttCkSRMWLFjgECc5OZm5c%2BeyaNEiysrKWLduHYmJiaxYsYJmzZoRExPD8OHD%2Bfvf/87cuXN5%2BeWXmTNnDt27dycjI4NRo0YxefJk/vGPf3D8%2BHFiY2Px8vLivvvuY8OGDaxYsYI33niDVq1akZCQ4JAIfvTRR3Tv3p3atWtfcv5Tp051eP7555%2BzePFiXn31VTZt2sRTTz1F7969adCgAXFxcfTs2ZOEhARsNhvz5s1j1qxZ9OjRw77/xx9/zKZNmygqKuKhhx5i4cKFPP300yQlJTF16lTmz59Pt27d2L59O5MmTWLgwIEArF27lmXLlvH6668TEhLCO%2B%2B8w0MPPcS//vUv/P39q/Q6Z2ZmkpWV5dDm4xNAYGBglfa/WhV/bOqPTgNuucX8GC1bOi7NFhRkfow2bRyXZmvUyPwYISGOS7MVFpofw%2BrvvXr1zI/RooXj0mxWvJ%2BaNnVcmik11fwYv0a/rAy76oT0zJkzAL%2BZ2Hz55ZekpaWxYcMGe%2BI2e/ZsOnfu7FCpGz9%2BPF5eXjRv3pzIyEiOHj1apT54eHhw11134XrRN0J0dDQtf/oBFRERwblz5%2BjVqxcA3bp1Y9myZQBs3ryZkJAQRowYAUDLli0ZM2YMq1ev5r777uOdd95h6NCh9ksFJk6caE%2BiK86/U6dOVernHXfcwe233w5A//79mTZtGmlpaTRo0IDFixfToEEDbDYbJ06coG7dumRkZDjsP27cOOrWrQuUX8ealJQEwIYNG7jzzjuJiooCoHfv3vZzBVizZg2PPPIIbX76xTpkyBDWr1/P5s2biYmJqVLfExMTSUhIcGgbP34C8fFxVdrfKG9vS8IALlYFAheLYm3bZk0cgNdesy6WVdaudXYPqt%2Brrzq7B9Vv0SJn96D6zZvn7B5UPyvupfhpVtUplJAadtUJaUBAAABZWVkEBwdfsv706dNkZ2dTv359hypi7dq18fPz48SJE/ZktuJYUJ5kVkybV6UPrr/4JvDz87N/7ebmRr2L/qp1dXW1H/vEiRMkJycTERFhX19WVma/5jUzM5OGDRs6HKvRRZWMgIAA%2B6UHv3T27Fm8vb2pVavWJX2qaKuY/k9JSSE2NpasrCxCQkK44YYbLjn/i5N%2Bd3d3%2B/qTJ09y8803O2zbtGlTTp8%2BbT/HF154gXkX/XArKSmhXbt2lfa7MsOGDbMnvBV8fAKohnvWfpOra3kyWlAAZWXmxgLw9ana95xhLi5Qxe9vw/r0MT9Gy5blyej48dZUJ35RrTdFmzblyejw4ZCSYn48qyqkr74KEyfC4cPmx7OqQrpoETz6qDXfe1ZVSOfNgyeegCoWZgyxqkI6bRrMnQtpaebHk9%2Btq05IGzduTGhoKFu3br2kUpidnU2PHj2YMGECOTk55Obm2pPS8%2BfPk5OTQ0BAQJUTz1/jUkmlqbK2ygQFBREZGcnSpUvtbTk5OfZPBwgKCiLtojePzWZzSECjoqJ44403HM6twl//%2BlcKCgocjl2ZjIwMJk6cSEJCgj3p27ZtG%2B%2B//36VzqFx48akp6c7tKWnp9uT3qCgIOLj4%2Bnfv799/ffff%2B%2BQIF9OYGDgJdPz589bkyRCeRyrYtU4%2B/ZZFys11Zp4J0%2BaH6NCSgr8NBthqpwc82NUOHwYLvoUENPk55sfo4JV33s33mh%2BjApHj8J335kfJzfX/BgV0tKcO6VuNlVIDTM0gtOnT2fDhg0kJCSQk5ODzWbju%2B%2B%2B49FHH6Vt27bExMTQsmVLZs6cyfnz5zl//jyzZs2iWbNmdOjQobrO4aoMHDiQvXv3snnzZkpKSsjMzOTRRx9l7ty5ANx7772sW7eOpKQkiouLef311x2upRw%2BfDj%2B/v489thjpKSkYLPZyMnJ4aWXXuLTTz8lPj7%2Bsn3Iy8ujtLQU75/mpVNTU3ntp6nPoqKiy%2B5/77338sEHH7Bz505KS0vZsWOHQzI7dOhQXn/9dQ7/VBHZuXMn/fv354svvqj6QImIiIiYzNDHPnXu3JnVq1ezaNEi%2BvfvT0FBAf7%2B/vTp04dHHnkEDw8PFi9ezNy5c4mOjqaoqIjbb7%2BdZcuW4e7u3M/kb9y4MW%2B88Qbz5s3jmWeewc3Nje7du/PXv/4VgAEDBpCTk8PkyZM5e/Ysffr0oXXr1vb9PT09WbNmDa%2B99hrx8fGcPn0aLy8vwsLCWL16dZU%2Bpuqmm27iz3/%2BM08%2B%2BSQFBQUEBQUxdOhQXnzxRQ4ePHjZSuYtt9zC7NmzmTVrFjk5OURERHDbbbfh4eEBwOjRo7HZbMTGxpKZmUmDBg2YMWMGPXv2NDByIiIi4kAVUsNcbEbnzcVpjh49SllZGSEX3TkbFxfHTTfdxOTJk02Le/68aYe2c3UFX1/Iy7Nmyr5O7Rp4DWnjxubHuOWW8punoqNrzpR9eDjs2QMdOlgzZV/JNfjVrm1b2LIFBgyoOVP2t9wC//kP9OpVc6bs/%2Bd/YMMGuOcea6bsrbjz3errzK28mfNiZv1suuhelppOKf3vWGpqKqNGjeL7778Hyj/XdefOnfzxj390cs9EREREqk7/y/53rHfv3qSmpvLggw9y9uxZGjduzJw5c5x%2Bfa6IiMh1RVP2hikh/Z177LHHeOyxx5zdDREREZGrpoRURERExAhVSA1TQioiIiJihBJSwzSCIiIiIuJUqpCKiIiIGKEKqWEaQRERERFxKlVIRURERIxQhdQwJaQiIiIiRighNUwjKCIiIiJOpQqpiIiIiBGqkBqmERQRERERp1KFVERERMQIVUgNU0IqIiIiYoQSUsM0giIiIiLiVKqQioiIiBihCqlhGkERERGRGig7O5vY2FgiIiKIjIzk2WefpaSkpNJtd%2BzYwcCBAwkLC6Nv375s377dYf2SJUvo1q0bYWFhjBw5kiNHjlRrX5WQioiIiBjh6mrOw6BJkybh4%2BPDzp07Wb9%2BPZ999hnLly%2B/ZLtjx44RFxfHxIkT%2BfLLL4mLi2PSpElkZGQA8Pbbb7Nq1SqWLl3Krl27aNu2LfHx8dhsNsN9rKCEVERERMQIkxLSzMxMkpOTHR6ZmZlV6tLx48fZvXs3Tz75JN7e3jRt2pTY2FjWrFlzybZvv/02ERER9OrVC3d3d/r160enTp1ITEwEYN26dQwfPpxWrVrh6enJlClTSE9PZ9euXdU2hLqGVATgV6Ywqp2Hh3WxTp0yP0bDhuXL06etiRccbH6MRo1%2BXubkmB/v2DHzY9SvX75MT7cm3m23mR%2BjSZOfl/n55sdLSjI/Rr165cv0dDh61Px4N95ofozCwp%2BXVrxONUxiYiIJCQkObRMmTCAuLu6y%2Bx46dAg/Pz8aNGhgbwsJCSE9PZ1z585Rt25de3tqaiqhoaEO%2B7ds2ZKUlBT7%2BnHjxtnXeXh4EBwcTEpKCrfeeutVndsvKSEVERERMcCGiynHHTZsGFFRUQ5tAQEBVdo3Ly8Pb29vh7aK5/n5%2BQ4JaWXbenl5kf/THxGXW18dlJCKiIiIXIMCAwMJDAy8qn19fHwoKChwaKt47uvr69Du7e1NYUU1%2ByeFhYX27S63vjroGlIRERERA8rKzHkY0apVK3788UdOnz5tbzt8%2BDBBQUHUqVPHYdvQ0FAOHTrk0JaamkqrVq3sx7p4fXFxMceOHbtkmt8IJaQiIiIiBlyLCWlwcDAdO3bkueeeIzc3l7S0NBYuXMiQIUMu2XbQoEHs3r2brVu3UlJSwtatW9m9ezd33XUXAPfccw%2BrV68mJSWFCxcu8NJLL%2BHv709ERISxTl5ECamIiIhIDTR//nxKSkro2bMnQ4cOpWvXrsTGxgIQHh7O5s2bgfKbnV577TUWL15Mp06dWLhwIQsWLKBFixYADBkyhNGjRzN%2B/HhuvfVW9u/fz%2BLFi/Hw8Ki2vuoaUhEREREDjFYzzeLv78/8%2BfMrXZf0i0%2BO6Nq1K127dq10WxcXF2JiYoiJian2PlZQhVREREREnEoVUhEREREDrtUK6e%2BJElIRERERA5SQGqcpexERERFxKlVIRURERAxQhdQ4JaQiIiIiBighNU5T9iIiIiLiVKqQioiIiBigCqlxqpCKiIiIiFOpQioiIiJigCqkxikhFRERETFACalxmrIXEREREadShVRERETEAFVIjVOFVEREREScShVSEREREQNUITVOFdLfmWPHjjm7CyIiInKRsjJzHtcTVUirUVRUFFlZWbi7lw%2BrzWajefPmPPDAA9x7772Gj79//36GDh3Kt99%2BC8C0adMAmDt3ruFji4iIiDiLEtJqNnv2bO6%2B%2B24AioqK%2BPjjj3nqqafIycnh4YcfNnTs8%2BfPU1xcXB3dFBERkWpyvVUzzaApexPVqlWLO%2B%2B8k6lTp5KQkEBubi6nT5/miSee4I477qBLly7MmDGD3Nxc%2Bz7r16/n7rvvJjIykvDwcB555BHOnDlDWloa48aNAyA8PJykpCQAsrOziY%2BPJzIyki5durB69Wr7sbZt20b//v3p2LEjffv2ZeHChdYOgIiIiEgVqEJqge7duzN9%2BnS%2B%2BuorXnvtNYKDg9m2bRvFxcU89dRTzJgxg5dffplvvvmGZ555hpUrV9K%2BfXtOnTrFqFGjWLlyJZMmTWLJkiU8%2BOCD9mQ0MTGRzz//nMWLF/Pqq6%2ByadMmnnrqKXr37k29evV48sknWbJkCZGRkezfv58RI0bQpUsX2rdvX%2BW%2BZ2ZmkpWV5dDm4xNAYGBgtY7RL7m6Oi7lKoSHmx%2BjTRvHpdkaNjQ/RkiI49Js9eubH8Pq1yk01PwYzZs7Ls1ms5kfo2LcrBg/q%2BI0a%2Ba4NNPBg%2BbH%2BBWqkBqnhNQC9X/6hbNv3z6Sk5NZtmwZvr6%2BAEydOpU%2Bffowffp0QkND2bJlC02aNOHs2bNkZmZyww03kJGR8avHvuOOO7j99tsB6N%2B/P9OmTSMtLY169erh5eXF%2BvXrKSsro0OHDnz11Ve4XmGGl5iYSEJCgkPb%2BPETiI%2BPu6LjXC1vb0vCAB5WBQIPi2J99ZU1cQDWrLEullVefdXZPah%2Ba9c6uwfVb/ZsZ/eg%2Bq1Y4eweVL%2BZM82P0bWr%2BTF%2BhRJS45SQWuDMmTMA3HTTTZSWlvLHP/7RYX2tWrVIS0ujTZs2rFy5knfffRcfHx9at25Nbm4utt/4y9zPz8/hOAClpaV4eXnx5ptvsnDhQqZMmUJubi7R0dH87//%2BL/Xq1aty34cNG0ZUVJRDm49PAHl5VT7EVXF1LU9GCwqseaP71rLo2lwPD7DqOuBbbzU/Rps25cnoiBGQkmJ%2BPKsqpK%2B%2BChMnwuHD5sdLTzc/Rps25cno8OHWvE5XMAtz1Zo3L09GZ86E48fNj3fggPkxQkPLk9FRo6yp9t18s/kxmjUrf41mz4bvvzc/nvxuKSG1wEcffYSPjw/%2B/v54eXmxa9cu3NzcgPIbn9LS0mjevDn/%2BMc/%2BPTTT3n33Xfx9/cH4NFHH72qmLm5uWRmZvLSSy8B8N133/H444%2BzaNEipk6dWuXjBAYGXjI9f/68dX8NXo8ffVFtfrq0wxIpKdbE%2B%2BmPO0scPgzJyebHsfKj3Kx6nby8zI9R4fhxa5K3vXvNj1Hh4EFr4rlbmAJ8/71Tp9TNpt9TxukKPRMVFRWxdetWXn75ZSZPnkyHDh1o3rw5c%2BfOJS8vj8LCQp577jlGjx5NaWkpubm5uLu74%2BHhQUlJCe%2B88w47d%2B6031nv6ekJlN9tfzl5eXmMGzeOd999F5vNRmBgIK6urvbLB0RERESuFaqQVrOZM2cyZ84coDyBvOmmm5g9ezb9%2BvUDYPHixbzwwgvceeedXLhwgfbt27Ns2TI8PT2JiYnh4MGD9OjRA09PT26%2B%2BWaGDx/O559/DkBoaCgdO3aka9euvHqZ69saNGjA/Pnz%2Bfvf/86MGTPw8vKiX79%2BjB492tTzFxERud6oQmqcEtJq9NFHH112m6CgIF555ZVK1/n5%2BbFo0aJf3dfHx4e1F92U8MtrUQEOXHSdU1RU1CXXf4qIiEj1UkJqnKbsRURERMSpVCEVERERMUAVUuNUIRURERERp1KFVERERMQAVUiNU0IqIiIiYoASUuM0ZS8iIiIiTqUKqYiIiIgBqpAapwqpiIiIiDiVKqQiIiIiBqhCapwSUhEREREDlJAapyl7EREREXEqVUhFREREDFCF1DhVSEVERETEqVQhFRERETFAFVLjlJCKiIiIGKCE1DhN2YuIiIiIU6lCKiIiImKAKqTGKSEVERERuc7k5%2BczZ84cPvroI0pKSujZsyczZ87E19e30u23bdvGwoULSUtLw8/Pj7vvvpvY2FhcXcsn2/v27Ut6err9OcD69esJCQmpUn%2BUkIqIiIgY8HuskM6ZM4eTJ0%2Bybds2SktLmTRpEvPmzWPmzJmXbPvtt9/y5z//mb///e/88Y9/5OjRo4wbNw4fHx9iYmLIzc3l6NGjfPjhhzRu3Piq%2BqNrSEVEREQMKCsz55GZmUlycrLDIzMz03B/CwoKePfdd4mPj8fPz48bb7yRJ554go0bN1JQUHDJ9idOnOC%2B%2B%2B6jR48euLq6EhISQu/evfniiy%2BA8oTVz8/vqpNRUIVUBIBSVw9L4rhZGSsy0vwgoaHly3btoFYt8%2BMdOWJ%2BjMLCn5f5%2BebHu%2B0282NUvE7t24OXl/nxPvvM/BgVr9M330BSkvnxBg0yP8ZNN5Uvb70VAgPNj1e3rvkxGjb8eVlUZH68GiYxMZGEhASHtgkTJhAXF3fZfQsLC8nIyKh0XUFBAcXFxYRW/GwAQkJCKCws5NixY/zP//yPw/bR0dFER0c7HPvjjz9m4MCBAOzbtw9vb28eeOABDh06ROPGjYmLi6NHjx5VPlclpCIiIiIGmDVlP2zYMKKiohzaAgICqrTv119/zYMPPljpsfLA4wAAIABJREFUuokTJwLg4%2BNjb/P29gYgLy/vN4%2Bbm5vLxIkT8fLyYvTo0QC4uLhwyy238Pjjj9OoUSP%2B/e9/ExcXx%2BrVqwkLC6tSf5WQioiIiFyDAgMDCbzKanlkZCQHDhyodN3%2B/ft59dVXKSgosN/EVDFVX7t27V895pEjR4iPj%2BfGG29k5cqV9m3Hjh3rsN2gQYPYsmUL27Ztq3JCqmtIRURERAww6xpSs7Ro0QIPDw9SU1PtbYcPH8bDw4Pg4OBK99mxYwf33nsvXbt2ZenSpdSrV8%2B%2BbunSpXz2i0t1ioqK8PT0rHKflJCKiIiIGPB7S0i9vb3p27cv8%2BbN48yZM5w5c4Z58%2BYxYMAAvCq5znzv3r2MHz%2Bep556iqlTp%2BLu7jjBfvLkSWbPnk1aWholJSWsX7%2BepKQk/vSnP1W5T0pIRURERK4zM2fOJDg4mIEDB9KnTx%2BaNGnCjBkz7Ov79%2B/PokWLAFi0aBElJSU8%2B%2ByzhIeH2x8VU/V//vOf6datG8OHDyciIoK33nqL//u//6N58%2BZV7o%2BuIRUREREx4Pf4OaS1a9dmzpw5zJkzp9L17733nv3risT0/7N393E13///wB9dF0a6kkLmIjEiF8t1OYgtLIkSXdhMoZJrDTVixWJDub6eZjaXIWPWZuznoq/F5HK5TNJJ4aN03fv3R%2BvMmUx1nPPu5HG/3dyO83qf9/v1POd06vl6vl7v93kVXV1dfPbZZ/jss8%2BqHQ8TUiIiIiIFqGNCWtNwyp6IiIiIRMUKKREREZECWCFVHCukRERERCQqVkiJiIiIFMAKqeKYkBIREREpgAmp4jhlT0RERESiYoWUiIiISAGskCqOFVIiIiIiEhUrpEREREQKYIVUcUxIiYiIiBTAhFRxnLInIiIiIlGxQkpERESkAFZIFccKKRERERGJihVSIiIiIgWwQqq4t6pCeufOHbFDICIiolqmtFQ5/94mNaZCKpFIkJmZCW3tspAEQYCVlRXGjh2LkSNHKnz8K1euYNSoUUhOTgYAzJkzBwAQGRlZreNJpVKsWbMGJ06cwOPHj9GgQQM4ODggMDAQJiYmsucUEBAAV1dXheMnIiIiqq1qVIV0wYIFSEpKQlJSEs6dO4fJkycjMjIS69evV/jYz549Q1FR0RuIErh79y6GDh2K0tJSxMbGIikpCd999x2ePHmC0aNHIycn5430Q0RERDUfK6SKq1EJ6Yt0dXXh5OSE2bNnIzo6Gjk5OXj06BFmzJiBXr16oXfv3ggNDZVL/nbv3g1XV1fY29vDzs4Ofn5%2ByM7ORmpqKj799FMAgJ2dHZKSkgAAWVlZCAoKgr29PXr37o0dO3bIjnX06FE4OzujS5cu%2BOCDD7B69WrZtsWLF8PW1hYLFixA48aNAQDm5uZYunQp2rZti7/%2B%2Bkv22MuXL8PDwwOdO3eGs7Mzzp07J9uWkJAADw8P9OjRAx07dsTYsWNlywr27t2L0aNHY9GiRejevTt69OiBuXPnypLqkpISfP311%2BjVqxd69uyJsLAweHh4YO/evQCAnJwcLFy4EA4ODujRowemTp2KR48evcm3iIiIiOiNqDFT9q/i6OiI%2BfPn4/z584iJiUHz5s1x9OhRFBUVISQkBKGhoVi%2BfDn%2B/PNPLFq0CNu3b4etrS0ePnwIHx8fbN%2B%2BHcHBwdiwYQO8vb1lyeiuXbtw5swZrFu3DitWrMD%2B/fsREhKCgQMHokGDBpg5cyY2bNgAe3t7XLlyBWPGjEHv3r1hY2ODkydPIiIi4qVY9fT0sHLlSrm2U6dOYcOGDbCwsMDnn3%2BO%2BfPn4%2BjRo3j48CGmTJmCFStWQCKR4PHjxwgICEBMTAy%2B/PJLAMAff/yBvn374uTJk7h69Sp8fHzQs2dPODs7Y9OmTYiLi8O2bdvQrFkzrFq1CklJSRg1ahQA4LPPPkNubi727t0LfX19REZGIiAgADt37oSGhkalX3%2BpVIrMzEy5tjp1TGFmZlal97GqNDXlb6karK2V34eVlfytstWtq/w%2BWrWSv1W2Jk2U34eq36f8fOX3YWMjf6tsLVoov4/ynwVV/EwAqvk8/V20kd0q0927yu/jFd62aqYy1PiEtGHDhgCAS5cu4fLly9iyZQvq/v0hmj17NgYPHoz58%2BfD2toahw4dQpMmTfD06VNIpVIYGRkhIyPjlccury4CgLOzM%2BbMmYPU1FQ0aNAA%2Bvr62L17N0pLS9G5c2ecP38empqayMzMRGlpKUxNTSsVv7u7O5o1awYAGDx4sKyCaWRkhMOHD6NZs2bIycnBw4cP0bBhQ7l49fX14e/vDw0NDdja2qJNmza4ffs2gLJq8IQJE9Dq7z%2BawcHB2LdvH4Cyyu/Ro0dx5MgRGBsbAyhLULt27YrLly%2Bjffv2lXvxUZa4R0dHy7VNnhyAoKDASh9DEQYGKulGpbS0VNTRtm0q6gjAwoWq60tV1q4VO4I3b8ECsSN48779VuwI3rzp08WO4M2bPFn5fXh5Kb%2BPV2BCqrgan5BmZ2cDAFq0aIGSkhI4ODjIbdfV1UVqaipsbGywfft2HDx4EHXq1EGbNm2Qk5MDQRBeeWxDQ0O54wBlU%2BH6%2BvrYuXMnVq9ejenTpyMnJweDBg3CvHnzYGhoCB0dnZeqhuWysrJgZGQkq0K%2B2IeOjg5KSkpk/z906BC%2B%2B%2B47aGhowNraGjk5ObKTugDA2NhYrpqpo6Mjez7p6emwtLSUbdPS0oKFhQUAIC0tDQBk1dIXH3P//v0qJaTu7u6QSCRybXXqmCI3t9KHqBZNzbJkNC9PNR90fX3l9wGUJaN//wgov6%2BPfZTfiZVVWTIaGqqa6sTfP9tK1apVWTLq7w%2BkpCi/P1VVSBcsAMLCVPM%2B/fmn8vuwsSlLRj09gWvXlN/fv/72KEWTJmXJ6LJlwP37yu9PVRXSyZOBmBggPV35/ZHaqvEJaUJCAurUqQMTExPo6%2Bvj7Nmz0Pq7xFRYWIjU1FRYWVlh8%2BbN%2BP3333Hw4EHZWe7%2B/v7V6jMnJwdSqRTLli0DAFy9ehXTpk3D2rVrMXv2bPTu3Rvx8fFwcXGR26%2BwsBAfffQRvLy84Ofn9599HDlyBDt27MDOnTth9fc0Wnh4OG7cuFGpGC0sLPDgwQPZfUEQkP73h71Ro0ayPl6s5KakpKBp06aVOn45MzOzl6bnnz1T3WjwbVzY/cZU8mfpjbh7VzX93bql/D7KpaQAly4pv5/nz5XfRzlVvU9/L41SiWvXVNNfFX93KuT%2BfdX8rNevr/w%2ByqWnizqlrmz8O6W4GrtCr7CwEPHx8Vi%2BfDmmTp2Kzp07w8rKCpGRkcjNzUV%2Bfj6%2B%2BOIL%2BPr6oqSkRFZd1NHRQXFxMQ4cOICTJ0/KTgLS09MDUHa2/evk5ubi008/xcGDByEIAszMzKCpqSlbPjBr1iycP38e4eHhsin2O3fuICAgAHXr1oW7u/tr%2B3j27Bk0NTWhr68PQRDw22%2B/Yf/%2B/ZW%2BEoC7uzs2b96M27dvo7CwEDExMZBKpQDKElJHR0csXrwYjx8/RlFREdasWQM3Nzf873//q9TxiYiIiFSlRlVIw8LCEB4eDqAsgWzRogUWLFiADz/8EACwbt06LFmyBE5OTigoKICtrS22bNkCPT09fPzxx7hx4wb69esHPT09tGvXDp6enjhz5gwAwNraGl26dEGfPn2wYsWK/4yjUaNGWLlyJb7%2B%2BmuEhoZCX18fH374IXx9fQGULR/YvXs3YmJi4ObmhpycHBgaGsLBwQFffPGF3DT9qwwfPhznz5%2BHs7MztLS00KJFC/j4%2BCA2NhaFhYWv3d/HxweZmZnw8PCAlpYWPvzwQ5ibm0NHRwcAsHTpUixbtgwuLi7IyclB69atsXHjxkqvfSUiIqLKYYVUcRrCfy2ypBrr4sWLsLS0lC1PEAQB3bt3x/Lly9GrVy%2Bl9l2JIrPCNDXLljfl5qrmg16njvL7AFS8hrR3D%2BV3Ym1ddvKUj0/tmbLv0AE4fhwYMEA1U/YtWyq/D2trYOtWwNdXNe/T6dPK78PODvjjD6BzZ9VM2Q8bpvw%2BWrQAvvoKmDq19kzZW1kBixYB8%2BapZsr%2Bm2%2BU30cF1q1TznFfs/qvVqmxU/b03w4ePIhZs2bh2bNnKC4uxpYtWwAAnTp1EjkyIiIioqphQqqmgoODYWJigoEDB%2BL999/HL7/8gk2bNskuiUVERESqwW9qUlyNWkNKlVevXj0sXbpU7DCIiIiIFMaElIiIiEgBb1s1UxmYkBIREREpgAmp4riGlIiIiIhExQopERERkQJYIVUcK6REREREJCpWSImIiIgUwAqp4piQEhERESmACaniOGVPRERERKJihZSIiIhIAayQKo4VUiIiIiISFSukRERERApghVRxTEiJiIiIFMCEVHGcsiciIiIiUTEhJSIiIlJAaaly/inT8%2BfPERISAnt7e3Tp0gWzZs1Cbm7uKx8fFhaG9u3bw87OTvZv165dsu379u3DwIED0alTJ7i6uiIpKalK8TAhJSIiIlKAOiak4eHhSE9Px9GjR3Hs2DGkp6cjKirqlY%2B/dOkSwsPDkZSUJPvn7u4OADh79izCw8MRGRmJxMREDBs2DBMnTkReXl6l42FCSkRERPQWycvLw8GDBxEUFARDQ0MYGxtjxowZ2Lt3b4VJZGFhIW7cuIH27dtXeLwffvgBzs7O6NKlC3R0dODr64uGDRsiPj6%2B0jHxpCYiIiIiBSirmimVSpGZmSnXZmpqCjMzs9fum5%2Bfj4yMjAq35eXloaioCNbW1rK2li1bIj8/H3fu3EHbtm3lHn/t2jUUFxdj5cqVOH/%2BPN555x2MGDEC48ePh6amJlJSUjBixAi5fVq1aoVr165V9qkyIaWq09BQXR8aGqrpT6u0SPmdAICWjur6%2BuMP5fdR/lv42jXgwgXl99eypfL7aNDgn1tjY%2BX3V8V1VtUiCGW316%2Br5n0aNkz5fbRoUXbr4AA0bar8/uLilN%2BHnV3Z7YkTqvm56N5d%2BX1o/j0Rm5oKpKQov79aZteuXYiOjpZrCwgIQGBg4Gv3vXjxIry9vSvcNmXKFABAnTp1ZG0GBgYAUOE60mfPnuH999%2BHl5cXli9fjqtXr2Ly5MnQ1NTE%2BPHjkZubK9u/nL6%2BPp4/f/7aOMsxISUiIiJSgLIqpO7u7pBIJHJtpqamldrX3t4e169fr3DblStXsGLFCuTl5aFu3boAIJuqr1ev3kuP79WrF3r16iW7b2trCx8fH8THx2P8%2BPEwMDBAfn6%2B3D75%2Bflo2LBhpWIFmJASERERKURZCamZmVmlpuer6t1334WOjg5SUlLQsWNHAMDNmzeho6OD5s2bv/T448eP49GjR/Dw8JC1FRYWQl9fHwDQunVr/PXXX3L7pKSkoG/fvpWOiSc1EREREb1FDAwM8MEHHyAqKgrZ2dnIzs5GVFQUhgwZIksyXyQIAiIiInD69GkIgoCkpCRs375ddpa9m5sbDh48iDNnzqCoqAhbt25FVlYWBg4cWOmYWCElIiIiUoA6flNTWFgYlixZgqFDh6KoqAj9%2B/fH/PnzZdudnZ0xdOhQ%2BPv7Y%2BDAgQgJCcHnn3%2BOjIwMmJiYIDAwEB999BEAoEePHggLC5Ntb9WqFTZs2ABDQ8NKx8OElIiIiOgtU69ePYSHhyM8PLzC7YcPH5a77%2BHhITdl/28fffSRLEGtDiakRERERApQxwppTcOElIiIiEgBTEgVx5OaiIiIiEhUrJASERERKYAVUsWxQkpEREREomKFlIiIiEgBrJAqjgkpERERkQKYkCqOU/ZEREREJCpWSImIiIgUwAqp4lghJSIiIiJRsUJKREREpABWSBXHhJSIiIhIAUxIFccpeyIiIiISFSukRERERApghVRxrJASERERkahYISUiIiJSACukimNCSkRERKQAJqSKe%2BsSUolEgszMTGhrlz11QRCgqamJtm3bYu7cuWjXrp3IESqPRCJBQEAAXF1dxQ6FiIiISOatXEO6YMECJCUlISkpCRcuXMCxY8fwzjvvICAgAKUc5hAREVEVlJYq59/b5K1MSP/NxMQE7u7uSEtLw5MnT/Do0SPMmDEDvXr1Qu/evREaGoqcnBzZ43///Xe4ubnBzs4OEokEO3bskG07fvw4XF1d0blzZwwaNAhbt25FaWkp7t27BxsbG9y6dUv22Js3b%2BK9996DVCqFIAjYvn07Bg0ahK5du8LT0xPJycmyx0okEoSGhqJXr15wcXFBaWkpLl%2B%2BDC8vL3Tr1g1OTk7YunUrBEEAUFb5Xbt2LXr37o2uXbtiyZIlKCkpUcGrSURERFQ1b92UfUXS09OxY8cOdOjQAYaGhvDw8EDz5s1x9OhRFBUVISQkBKGhoVi%2BfDlu374Nf39/hIWFwcXFBdeuXYO3tzesrKygo6OD4OBgLF26FE5OTrh%2B/TomTZoEAPD19YW9vT0OHDiAqVOnAgD27t2LPn36wMzMDLGxsdiyZQvWrFmDli1b4sCBAxg3bhyOHDkCExMTAMCff/6JI0eOAAAyMzPh4%2BODqVOnYvPmzbh79y4mTZoEfX19eHh4YM%2BePdi2bRs2btyI1q1bIzo6Gg8fPqzyayOVSpGZmSnXVreuKczMzBR5yV9LQ%2BOfW00Om6qnUyfl99GmjfytsjVpovw%2B3n1X/lbZGjRQfh/W1vK3ytaihfL7KP9ZUMXPBADY2Sm/Dxsb%2BVtlU8XPg5WV/K0y3bih/D5e4W2rZiqDhlBeUntLSCQSZGVlQUdHB8XFxSgqKoK5uTkGDhwIPz8/pKamYvTo0Th37hzq1q0LALh9%2BzYGDx6MM2fOIDY2FqdOncJ3330nO%2Ba1a9dgZmaGyMhIFBQUYMWKFbJtsbGx%2BOabb/Djjz/i0KFDWLZsGRISElBaWgpHR0eEhYVhwIAB%2BPDDD%2BHt7Q0PDw/Zvh4eHnBycsLHH38MiUSCkSNHYuLEiQCADRs24Pjx49i1a5fs8bt27cKOHTtw8OBBeHl5oXPnzrLkt6SkBL169cKsWbOqtIZ01apViI6OlmubPDkAQUGBVXjViYiIlKxHD%2BD0aVG69vFRznG3bVPOcWuit7JCGhYWBldXVxQWFmL79u1Yu3YtHBwc0LBhQ5w%2BfRolJSVwcHCQ20dXVxepqamQSqWwsLCQ22bz92g2KysLbdu2ldvWpEkTpKWlAQCcnJwQHh6Os2fPoqCgAIIgwNHREQCQlpaGJUuWICoqSrZvcXEx2rdvL7v/YlUyLS0Nly9fRteuXWVtpaWl0NLSAlBW2WzcuLFsm5aW1ktxV4a7uzskEolcW926pnj%2BvMqHqhINDcDAAMjLA1QxZKqjU6T8TgBARwcoUlFfvXsrv482bYDt2wFvb%2BD6deX3p6oKaVQUMGMGcPu28vt78ED5fVhbl/1l8/FRTRWpe3fl99GkCTB9OrBsGXD/vvL7O3FC%2BX3Y2ADffgt4egLXrim/vw4dlN%2BHlRWwcCEQGgrcvav8/khtvZUJaTldXV2MHz8eT58%2BxaRJk7Bz506Ym5tDX18fZ8%2BelSV3hYWFSE1NhZWVFRo3bowT//rFtGfPHhgbG8PS0hL37t2T25aamgpTU1NZf8OGDcOhQ4eQl5cHFxcX2dn%2B5ubmCAoKgrOzs2zfe/fuwdDQUHZfo3we%2B%2B/H29vbY9OmTbK2x48fIzc3V7Y9NTVVtk0QBEil0iq/RmZmZi9Nz%2BfkKH96onyaXhA4FVJtFy6orq/r11XT37Nnyu%2Bj3O3bwNWrqulHVW7cUM37pOQlPXLu3wdeWJuvNElJyu%2Bj3LVrqulPT0/5fZS7e1fUKXVl498pxXF1HoDg4GC0adMG06ZNg7W1NaysrBAZGYnc3Fzk5%2Bfjiy%2B%2BgK%2BvL0pKSuDs7IwrV65g//79KCkpQXJyMiIjI6GtrY0RI0YgISEBR44cQUlJCa5cuYINGzZgxIgRsr5GjRqF48ePIyEhAW5ubnLta9aswc2bNwEAJ0%2BehLOzMxITEyuMeejQobhw4QLi4uJQXFwMqVQKf39/REZGAgBGjhyJ77//HklJSSgqKsKaNWteWgtKREREVBO81RXSclpaWvjyyy/h4uKCZcuWYd26dViyZAmcnJxQUFAAW1tbbNmyBXp6emjWrBnWr1%2BPZcuWITw8HMbGxpgzZw56/z09umLFCsTExOCzzz5Dw4YNMXr0aHz66aeyvlq3bo3mzZtDW1sbzZs3l7X7%2BvpCEARMmjQJUqkUjRo1QmhoKPr3719hzJaWlti4cSOioqKwaNEiaGlpwdHREXPnzgUADBkyBI8fP8bUqVPx9OlTDB48GG1UdeIJERHRW4QVUsW9dQlpQkJChe1NmzbF%2BfPnZfe/%2BuqrVx6je/fu%2BOGHHyrc1r9//1cmkeVePCGqnJaWFsaPH4/x48dXuE9FcdvZ2SE2NvaV/Xh5ecHLy%2Bs/YyEiIiLFMCFVHKfsiYiIiEhUb12FlIiIiOhNYoVUcayQEhEREZGoWCElIiIiUgArpIpjQkpERESkACakiuOUPRERERGJihVSIiIiIgWwQqo4JqRERERECmBCqjhO2RMRERGRqFghJSIiIlIAK6SKY4WUiIiIiETFCikRERGRAlghVRwTUiIiIiIFMCFVHKfsiYiIiEhUrJASERERKYAVUsWxQkpEREREomKFlIiIiEgB6lghff78OcLDw5GQkIDi4mL0798fYWFhqFu37kuPDQ0NxcGDB%2BXa8vPz0bNnT2zatAkA8MEHH%2BDBgwfQ1Pyn1rl79260bNmyUvEwISUiIiJSgDompOHh4UhPT8fRo0dRUlKC4OBgREVFISws7KXHLly4EAsXLpTdP3XqFKZPn445c%2BYAAHJycnD79m38/PPPsLS0rFY8nLInIiIieovk5eXh4MGDCAoKgqGhIYyNjTFjxgzs3bsXeXl5/7lvdnY2ZsyYgblz56J169YAgOTkZBgaGlY7GQVYISUiIiJSiLIqpFKpFJmZmXJtpqamMDMze%2B2%2B%2Bfn5yMjIqHBbXl4eioqKYG1tLWtr2bIl8vPzcefOHbRt2/aVx42KikL79u0xbNgwWdulS5dgYGCAsWPH4q%2B//oKlpSUCAwPRr1%2B/18ZZjgkpVZmWlvL70NAou9XU/Of/SqWtwo%2BCqvrq3Fn5fZT/MrOxKXuzlK1%2BfeX3YW7%2Bz21OjvL7MzZWfh/l71O7dqr5%2BVPF%2B1S%2Bzq1uXdX017278vsof586dAD09JTf35kzyu%2BjoKDs9tIlIClJ%2Bf3VMrt27UJ0dLRcW0BAAAIDA1%2B778WLF%2BHt7V3htilTpgAA6tSpI2szMDAAAOTm5r7ymKmpqYiLi8MPP/wg166hoYEOHTpg2rRpsLCwwI8//ojAwEDs2LEDnTp1em2sABNSIiIiIoUoq0Lq7u4OiUQi12Zqalqpfe3t7XH9%2BvUKt125cgUrVqxAXl6e7CSm8qn6evXqvfKYe/bsgZ2d3UsV1PHjx8vdHzZsGA4dOoSjR48yISUiIiJSBWUlpGZmZpWanq%2Bqd999Fzo6OkhJSUHHjh0BADdv3oSOjg6aN2/%2Byv2OHTuGjz/%2B%2BKX2TZs2oV27dujRo4esrbCwEHpVqPTzpCYiIiKit4iBgQE%2B%2BOADREVFITs7G9nZ2YiKisKQIUOgr69f4T6PHz/GzZs30a1bt5e2paenY8GCBUhNTUVxcTF2796NpKQkDB8%2BvNIxsUJKREREpAB1vOxTWFgYlixZgqFDh6KoqAj9%2B/fH/PnzZdudnZ0xdOhQ%2BPv7AwDu378PAGjUqNFLx5o1axY0NTXh6emJZ8%2BeoVWrVli/fj2srKwqHQ8TUiIiIqK3TL169RAeHo7w8PAKtx8%2BfFjufocOHV65JlVXVxefffYZPvvss2rHw4SUiIiISAHqWCGtaZiQEhERESmACanieFITEREREYmKFVIiIiIiBbBCqjhWSImIiIhIVKyQEhERESmAFVLFMSElIiIiUgATUsVxyp6IiIiIRMUKKREREZECWCFVHCukRERERCQqVkiJiIiIFMAKqeKYkBIREREpgAmp4jhlT0RERESiYoWUiIiISAGskCqOFVIiIiIiEhUrpEREREQKYIVUcUxIiYiIiBTAhFRxVUpIJRIJMjMzoa1dtpsgCNDU1ETbtm0xd%2B5ctGvXTilB1gQSiQQBAQFwdXUFABQWFmLLli04dOgQHjx4AD09PXTs2BEBAQF47733AABz5swBAERGRooWNxEREVFNV%2BU1pAsWLEBSUhKSkpJw4cIFHDt2DO%2B88w4CAgJQ%2BpYMEQoKCjB27FicPHkSS5YsQWJiIn766SfY2tpi7Nix%2BPPPP8UOkYiIiFSktFQ5/94mCp/UZGJiAnd3d6SlpeHJkyd49OgRZsyYgV69eqF3794IDQ1FTk6O7PG///473NzcYGdnB4lEgh07dsi2HT9%2BHK6urujcuTMGDRqErVu3orS0FPfu3YONjQ1u3bole%2BzNmzfx3nvvQSqVQhAEbN%2B%2BHYMGDULXrl3h6emJ5ORk2WMlEglCQ0PRq1cvuLi4oLS0FJcvX4aXlxe6desGJycnbN26FYIgACir/K5duxa9e/dG165dsWTJEpSUlMiO98033%2BD%2B/ftYu3Yt2rVrB01NTdStWxcTJ06Eh4cHbty4IXtsVlYWgoKCYG9vj969e8s935s3b8LPzw%2BOjo6wtbXFhx9%2BiF9%2B%2BQUAcP/%2BfbRp0wY//PADJBIJunTpgnHjxuHhw4ey/Q8fPix7zp988gnmz58vq8q%2B7jUhIiIiqikUXkOanp6OHTt2oEOHDjA0NISHhweaN2%2BOo0ePoqioCCEhIQgNDcXy5ctx%2B/Zt%2BPv7IywsDC4uLrh27Rq8vb1hZWUFHR0dBAcHY%2BnSpXBycsL169cxadIkAICvry/s7e1x4MABTJ06FQCwd%2B9e9OnTB2ZmZoiNjcWWLVuwZs0atGzZEgcOHMC4ceNw5MgRmJg%2ByJ%2BEAAAgAElEQVSYAAD%2B/PNPHDlyBACQmZkJHx8fTJ06FZs3b8bdu3cxadIk6Ovrw8PDA3v27MG2bduwceNGtG7dGtHR0XKJYEJCAhwdHVGvXr2XXo/Zs2fL3T9z5gzWrVuHFStWYP/%2B/QgJCcHAgQPRqFEjBAYGon///oiOjoYgCIiKisLnn3%2BOfv36yfb/9ddfsX//fhQWFmLcuHFYvXo1Fi5ciKSkJMyePRsrV65E37598csvvyA4OBhDhw4FAHz77bevfU0qQyqVIjMzU66tfn1TmJqaVfoY1aGhIX9L1WBtrfw%2BrKzkb5Wtgs/cG9e0qfytsuXnK7%2BPZs3kb5WtcWPV9aGKvgBAUwUXpVH156mgQPl92NjI3ypTUpLy%2B3iFt62aqRRCFfTr10%2BwtbUVunTpInTs2FFo166dIJFIhIiICCE7O1u4ePGi0K5dOyEnJ0e2z61btwRra2shOztbWLVqleDu7i53zKtXrwpZWVnCzJkzhaCgILltO3bsEAYNGiQIgiAcPHhQcHR0FEpLS4Xi4mKhd%2B/ewk8//SQIgiB88MEHws6dO%2BX2dXd3FzZt2iSLe/Xq1bJt69evF0aNGiX3%2BO%2B%2B%2B04YMmSIIAiCMHbsWGH58uWybcXFxYK9vb2wZ88eQRAEYdCgQXLbX2X27NmCn5%2Bf7H5BQYFgbW0tJCYmCoIgCPfu3RMKCgqEgoIC4datW8KqVauENm3aCIIgCKmpqYK1tbWQlJQk23/58uWCl5eXIAiCMHfuXGHq1Kly/QUFBQmzZ8%2Bu1GtSWStXrhSsra3l/q1YsbJKxyAiIlK6qqU0b1SzZsr59zapcoU0LCwMrq6uKCwsxPbt27F27Vo4ODigYcOGOH36NEpKSuDg4CC3j66uLlJTUyGVSmFhYSG3zebvUVNWVhbatm0rt61JkyZIS0sDADg5OSE8PBxnz55FQUEBBEGAo6MjACAtLQ1LlixBVFSUbN/i4mK0b99edt/M7J%2BKXlpaGi5fvoyuXbvK2kpLS6GlpQWgrCrY%2BIVRt5aWllzcpqamkEqlFb4%2BT58%2BhYGBAXR1dQEAhoaGcq8DANn0/7Vr1zBp0iRkZmaiZcuWMDIyki0bKPdiNVNbW1u2PT09/aWTyJo2bYpHjx5V%2BjWpDHd3d0gkErm2%2BvVNlV7U0dAA9PTKBvD/ekmUQl9PBZ0AZU9MFU8IAHx9ld%2BHlRWwcCEQGgrcvav8/lRVIZ0zB4iMBFJTld%2BfqiqkYWHAggXAvXvK709VFdLJk4GYGCA9Xfn9qeJnQdWfp0uXlN%2BHjQ3w7beApydw7Zry%2ByO1Ve0pe11dXYwfPx5Pnz7FpEmTsHPnTpibm0NfXx9nz56VJXeFhYVITU2FlZUVGjdujBMnTsgdZ8%2BePTA2NoalpSXu/esXZWpqKkxNTWX9DRs2DIcOHUJeXh5cXFxkZ/ubm5sjKCgIzs7Osn3v3bsnlwxqvDD3a25uDnt7e2zatEnW9vjxY%2BTm5sq2p77wy0cQBLkEVCKRYOPGjcjJyXlp2n7u3LnIy8uTO3ZFMjIyMGXKFERHR8sSvqNHj%2BLYsWP/uV85S0tLPHjwQK7twYMHsqS3Mq9JZZiZmckl8wCQl6e6nKpsyKuavmqdF9YyK93du6rpr3595fdRLjUVSElRfj/Pnyu/j3L37qnmfSosVH4f5dLTVZO8qeJnoZyqPk%2BqnOK%2Bdk3UKXVl45S94hReFBMcHIw2bdpg2rRpsLa2hpWVFSIjI5Gbm4v8/Hx88cUX8PX1RUlJCZydnXHlyhXs378fJSUlSE5ORmRkJLS1tTFixAgkJCTgyJEjKCkpwZUrV7BhwwaMGDFC1teoUaNw/PhxJCQkwM3NTa59zZo1uHnzJgDg5MmTcHZ2RmJiYoUxDx06FBcuXEBcXByKi4shlUrh7%2B8vuzzTyJEj8f333yMpKQlFRUVYs2aN3DpKT09PmJiYYOLEibh27RoEQcDjx4%2BxbNky/P777wgKCnrt65abm4uSkhIYGBgAAFJSUhATEwOgLIl/nZEjR%2BKnn37CyZMnUVJSghMnTsgls1V9TYiIiIjEovBJTVpaWvjyyy/h4uKCZcuWYd26dViyZAmcnJxQUFAAW1tbbNmyBXp6emjWrBnWr1%2BPZcuWITw8HMbGxpgzZw569%2B4NAFixYgViYmLw2WefoWHDhhg9ejQ%2B/fRTWV%2BtW7dG8%2BbNoa2tjebNm8vafX19IQgCJk2aBKlUikaNGiE0NBT9%2B/evMGZLS0ts3LgRUVFRWLRoEbS0tODo6Ii5c%2BcCAIYMGYLHjx9j6tSpePr0KQYPHow2bdrI9tfT00NsbCxiYmIQFBSER48eQV9fH506dcKOHTtk1yH9Ly1atMCsWbMwc%2BZM5OXlwdzcHKNGjcKXX36JGzduvLaS2aFDByxYsACff/45Hj9%2BjK5du6JHjx7Q0dGp1mtCRERE1cMKqeI0hH8vWiS1cPv2bZSWlqJly5aytsDAQLRo0UJ2JQJlyctT6uEBlC211NcvW16nip9QA/1auIa0Z0/l92FtDWzbBvj41J4p%2B1atytYlTp5ce6bsra2BTZuATz5Rzfv0QsFAaaysgEWLgHnzas%2BUvao/T2fOKL8POzvgjz%2BAzp1VM2UvUkqjrGXTqlgeXVOo4DoWpAwpKSnw8fGRrbs9e/YsTp48%2BdIJZUREREQ1Hb/LXk0NHDgQKSkp8Pb2xtOnT2FpaYnw8HB07txZ7NCIiIjeKpyyVxwTUjU2ceJETJw4UewwiIiI3mpMSBXHKXsiIiIiEhUrpEREREQKYIVUcayQEhEREZGoWCElIiIiUgArpIpjQkpERESkACakiuOUPRERERGJihVSIiIiIgWwQqo4VkiJiIiISFSskBIREREpgBVSxTEhJSIiIlIAE1LFccqeiIiIiETFCikRERGRAlghVRwrpEREREQkKiakRERERAooLVXOP1XIy8uDu7s79u7d%2B5%2BPu3jxIkaOHAk7OztIJBL88MMPctv37duHgQMHolOnTnB1dUVSUlKV4mBCSkRERKQAdU1I//rrL4wZMwYXLlz4z8c9ffoUEyZMgIuLCxITE7F48WJERETgzz//BACcPXsW4eHhiIyMRGJiIoYNG4aJEyciLy%2Bv0rEwISUiIiJ6y5w%2BfRo%2BPj4YPnw4LCws/vOxx44dg6GhIcaMGQNtbW306NEDQ4cORWxsLADghx9%2BgLOzM7p06QIdHR34%2BvqiYcOGiI%2BPr3Q8PKmJiIiISAHKqmZKpVJkZmbKtZmamsLMzOy1%2B%2Bbn5yMjI6PCbaamprCxscEvv/wCPT09bNmy5T%2BP9ddff8Ha2lqurVWrVti9ezcAICUlBSNGjHhp%2B7Vr114bZzkmpFRlBgbK70MqlWLDhl1wd3ev1AdPcRpK70EqlWLXLhU%2Bp9Onld6FVCrFrlWr4P7llyp6n5RP9pzCwmrfc4qIqH3PKSio9j2n2vh5%2BvHHWvOcKiIIyjnuqlW7EB0dLdcWEBCAwMDA1%2B578eJFeHt7V7gtJiYGAwYMqHQcubm5MPjXH399fX08f/68Utsrgwkp1UiZmZmIjo6GRCKpNb/E%2BJzUA5%2BTeuBzUg%2B18Tmpkru7OyQSiVybqalppfa1t7fH9evX30gcBgYGePbsmVxbfn4%2B6tatK9uen5//0vaGDRtWug8mpEREREQ1kJmZWY1I5K2trfH777/LtaWkpKB169YAgNatW%2BOvv/56aXvfvn0r3QdPaiIiIiKiVxo4cCAePXqErVu3oqioCGfOnMHBgwdl60bd3Nxw8OBBnDlzBkVFRdi6dSuysrIwcODASvfBhJSIiIiI5Dg7O2Pt2rUAgIYNG2Lz5s348ccfYW9vj3nz5mHevHno3r07AKBHjx4ICwvD559/jvfffx%2BHDx/Ghg0bYGhoWOn%2BOGVPNZKpqSkCAgIqvVZGHfA5qQc%2BJ/XA56QeauNzqo0SEhJeajt8%2BLDc/Q4dOuC777575TE%2B%2BugjfPTRR9WOQUMQlHVuGBERERHR63HKnoiIiIhExYSUiIiIiETFhJSIiIiIRMWElIiIiIhExYSUiIiIiETFhJSIiIiIRMWElIiIiIhExYSUiIiIiETFhJSIiIiIRMWElIiIiIhExYSUarzCwkKxQyAiIiIl0hY7AKJy06dPx6JFi2BgYCBru3nzJqZNm4YDBw6IGJliCgoK8PTpUxgaGkJXV1fscKpt//79r32Mi4uLCiJRjuzsbMTFxSEtLQ1TpkxBYmIi%2BvXrJ3ZYVIErV67g/v37cHR0xLNnz2BsbCx2SESkICakVGOkpaXB1dUVK1euROvWrbFz504sWbIEH374odihVcv58%2BcRFRWFixcvQhAEaGlpwc7ODjNnzoStra3Y4VXZypUrAQClpaXIyMiAoaEhLCwsIJVK8ejRI7Rp00ZtE9LLly9j3LhxaNGiBa5fvw5vb29MmTIFYWFhGDFihNjhVVtycjLat2%2BP//3vf1i3bh2MjIzg4%2BMDbW31/NWflZWFyZMnIzk5GTo6Oti9ezfc3NywefNm2NnZiR1elXCARyRPQxAEQewgiACgpKQEK1aswI4dO/Dee%2B/h9u3bWLhwISQSidihVdn58%2Bcxbtw4ODk5oV%2B/fmjYsCGysrKQkJCAX3/9Fd9%2B%2By3atm0rdpjVsmTJEujq6mLKlCnQ1Cxb9bN69Wrcv38fX3zxhcjRVc/YsWPh6uoKV1dXdOvWDYmJiTh58iQiIiIQHx8vdnjVsmbNGmzcuBHnz5/HrFmzkJycDE1NTfTo0QNz584VO7xqmT59OurWrYuQkBD07dsXiYmJWLNmDX777Tfs3LlT7PCqpPz32n8N8CqTtNZE/x7gxcXFwdnZWe0HeKRkAlENkpSUJDg4OAjvvfeeMHHiROHJkydih1QtPj4%2BwurVqyvctmrVKiEwMFDFEb053bp1EwoLC%2BXaioqKhM6dO4sUkeK6desmFBcXy/5fTp2f04cffihcvXpVKCgoEGxtbYWrV68Kjx49Enr27Cl2aNXWs2dP4fnz54Ig/PM%2BFRYWCl27dhUzLIVERkYKy5cvF0pKSmRtMTExQkhIiIhRKWbMmDHCnj17BEEQZO/Nb7/9JnzwwQdihkU1HE9qohrjyy%2B/hJeXF4YPH46EhAQUFxdjyJAhOHHihNihVdmVK1fg5eVV4TZvb29cuHBBxRG9OXp6erh586ZcW3JyMurXry9SRIozMjLCrVu35Npu3boFExMTkSJSnFQqhY2NDc6fP4933nkHNjY2MDY2Rl5entihVZuOjg7y8/MBAMLfk3u5ubmoW7eumGEpZM%2BePQgICJDNNgDAhAkTcPToURGjUsyNGzfw0UcfAQA0NDQAAH369EFGRoaYYVENp54LiahWOnToEDZt2oT3338fALB%2B/Xps27YNQUFBuHjxosjRVU1RURHq1atX4bb69esjNzdXxRG9OWPGjMEnn3yCkSNHwsLCAqmpqfj%2B%2B%2B8RFBQkdmjV5unpCT8/P/j7%2B6O4uBjx8fFYs2YN3N3dxQ6t2ho1aoTExETs378fPXr0AFD2GWvatKnIkVWfRCLBzJkzMW/ePGhoaCArKwuLFi2Cg4OD2KFVW/kAz8bGRtZWWwZ4rVu3lrWp%2BwCPlI8JKdUYBw4cgKGhoVybj48P7O3tRYqo%2BsqrAq8iqPHSbX9/f5iYmCAuLg5HjhxB48aNERoaCmdnZ7FDqzZvb29oaWlh27ZtKC0txYoVK%2BDu7g5fX1%2BxQ6u2wMBAjB8/Hvr6%2Bti5cydOnz6NkJAQrFq1SuzQqm369OkICQnB4MGDAQC9e/eGg4MDFi5cKHJk1ccBHlEZntRENcrNmzexc%2BdOPHz4EOHh4Th8%2BDDGjh0rdlhVZmdnh/j4%2BFcmns7OzkhKSlJxVPS2KSgoAFBWhcvJycHz589hZmYmclSKy87Oxv3792Fubl4rns/u3bsRFxeHjIwMNG7cGCNHjlTrAR4AxMbG4ttvv0VaWhoaNWokG%2BC9uDSB6EVMSKnG%2BP333xEYGIh%2B/frhl19%2BweHDh%2BHq6opx48ZhwoQJYodXJTY2NtDQ0HhlQqqhoYGrV6%2BqOKo35/vvv8eOHTuQkZGBffv2ITIyEhEREWq7li8kJKTCdh0dHRgZGcHR0RGdOnVScVSKy8zMRGpqKkpKSuTau3XrJlJEinnVWefl71OnTp3krmNMROqDU/ZUYyxfvhxfffUVHBwc0K1bNzRu3Bjr169HcHCw2iWkP//8s9ghKM3WrVuxc%2BdOfPLJJ1i6dCnq1q2LjIwMREREYNGiRWKHVy06OjrYu3cvBgwYgKZNm%2BLBgwc4duwYevbsiSdPnmDbtm1YvHixWl0TNzY2FosWLXppUKTOg6Fdu3bhwoULMDY2hqWlJdLT05GZmQlzc3Pk5eVBQ0MDmzdvVrtLqnGAR8SElGqQu3fvom/fvgD%2BWYPZoUMHPH36VMywqmXfvn2vfUxAQIAKInnzdu7cidWrV6Nly5aIiopCgwYNsGrVKgwfPlzs0KotPT0dX3/9NQYMGCBrO3HiBHbu3ImVK1fi7NmzWLRokVolpOvWrUNERAScnZ2ho6MjdjhvRJs2bdCtWzcEBwfLpn6jo6Px9OlTzJ07F5s3b0ZERAS2b98ucqSVxwEeURkmpFRjWFhY4I8//kCXLl1kbZcuXULjxo1FjKp6zp49%2B5/bX3fSU032%2BPFjvPvuuwD%2BOTnL2NgYxcXFYoalkIsXL2LdunVybX369MH06dMBAPb29khLSxMjtGorLCxU62/6qcjx48fxyy%2B/yK1D9PPzQ79%2B/TB37lx4e3tj9erVIkZYdRzgEZVhQko1hp%2BfHyZOnIjRo0ejqKgIGzZswDfffINp06aJHVqVffPNN2KHoDQ2NjbYtWsXRo8eLUus4%2BPj5S7xom6MjIxw8uRJucsHnT59WnbVh9TUVDRo0ECs8KrF3t4eZ86cQffu3cUO5Y1KTU1FixYtZPfT0tJkg6H8/Hy1qwZzgEdUhgkp1RjOzs6oV68eYmNjYWFhgTNnzmDu3LkYNGiQ2KHRC2bPng1fX18cOHAAz58/x6effooLFy5g48aNYodWbYGBgQgICICTkxOaNGmCtLQ0HD9%2BHJ9//jlu3boFHx8ftbnaQ/n6vby8PPj5%2BaFnz54vXU4tIiJCjNAU5ubmhgkTJsDPzw8WFhZ48OABNm3aBFdXV2RlZWHWrFlqd01SDvCIyvAseyKqsoyMDMTFxeHBgwcwNzfH0KFDYWFhIXZYCklKSsLevXuRnp4OCwsLjBo1Cu3bt8edO3eQkpIiN/1Yk73qhJIXqWtCWlpaio0bN2LPnj2y98nd3R0%2BPj5ITk7GwYMHERwcrFYnA12%2BfBm%2Bvr5o2bIlkpOT0aNHD9kAr2PHjmKHVy2HDx/GnDlzKhzg2draygZ4fn5%2BYodKNQgTUhJdbf4DSiSWixcvVpjQ/Pbbb7KTB6lmkEqliIuLQ1paGgd49NZiQkqiK09IHz9%2BjJMnT6Jfv35o2rQpMjIy8NNPP8HJyQnLli0TOUoqd%2BLECSxatAhpaWkvXVJIXS8nlJGRgTVr1uDOnTsoLS2V26ZOZ2y/qHPnzvjjjz/k2nJyctCnTx%2B1/VKGkpISHD16tML3SV2vWuHq6ort27e/8quGid4WXENKoiuvfvr7%2B2PlypXo37%2B/bNupU6ewdu1asUKjCixcuBBOTk5wcHCoNd%2B6EhISgkePHqFfv35qd1LMi%2B7evQtnZ2eUlJRAEIQKr8fZuXNnESJ7M8LCwnD48GHY2NhAW/ufP1/qfNUKqVQqdghvXG0c4JHysUJKNYadnR3Onz8vl%2BSUlJSga9eualvRqY26dOmCc%2BfOQUtLS%2BxQ3phu3brh6NGjMDIyEjsUhV29ehX/%2B9//MGHCBGzYsEFum56eHqytrdX224x69eqFtWvXokOHDmKH8saEhYXh0qVLGDRoEMzMzOSSa3W9bNfHH3/8ygGeulaySflYIaUaw9LSEkeOHJH7Due9e/fCyspKxKjo3/r164cTJ05AIpGIHcob884770BXV1fsMN6I8qrooUOH0LRpU5GjebNKS0vRrl07scN4o06ePAmg7FuoXqShoaG2CemlS5dqzQCPVIcVUqoxfv75Z0yZMgW2trZo3Lgx7t%2B/jxs3bmDt2rWwt7cXOzz6259//glPT0%2B0atUK9evXl9umrtNxu3fvxokTJ/Dpp5/CxMREbpu6nlzy%2BPFjfPPNN8jIyJBNmxYVFeHGjRuIi4sTObrqWbx4MUxNTdXuq4TfNhKJBHFxcVwXS1XChJRqlFu3biE%2BPh5SqVR2tmltq/KoOxcXF7zzzjvo2rXrS9P26jodZ2NjI/t/%2BZSpIAhq/b3v/v7%2BuHPnDoyMjJCbm4vGjRvj1KlTGDNmTKWubFETeXp64o8//oCBgcFL1beff/5ZpKgUl52dLbuMWlBQEBITE9GvXz%2Bxw6q22jjAI%2BVjQkpEVWJnZ4dz586p9ck///Zf3xpjaWmpwkjenC5duiA%2BPh4ZGRlYv349oqOjceDAARw6dOiltaXqYt%2B%2Bfa/cpq5ftXn58mWMGzcOLVq0wPXr1xEXFwdnZ2eEhYVhxIgRYodXLbVxgEfKxzWkVGP89ddfWLp0aYVnZqpz9aO2adu27Utf36juKko6i4uLcePGDbVNSLW1tdGoUSMYGBjg%2BvXrAMq%2BDW3p0qUiR1Z9r0o61flrNiMiIjBnzhy4urqiW7duaNq0KWJiYhAREaG2CSl/X1N1MCGlGiM0NBQGBgaYMGGC3CVdqGbp0aMHvL29MXjw4Je%2BklJdp%2Bx//fVXLFiwABkZGXLXVtXW1salS5dEjKz6LC0tkZycjPbt2yM3NxfZ2dnQ1tZGfn6%2B2KFV27179xATE/PSutjbt2/jzJkzIkdXPTdu3MBHH30E4J9qYp8%2BfRAcHCxmWAqpjQM8Uj7%2B1aca4/r16/jtt9%2B4EL6GO3fuHN59911Z1a2cOl8LMioqCk5OTqhfvz6uX7%2BOIUOGICYmBm5ubmKHVm2enp7w8vLC4cOHMWTIEPj4%2BEBbWxvdunUTO7Rqmzt3LgRBQMOGDZGVlYV27dph//798PX1FTu0ajMyMsKtW7fkvrv%2B1q1bL629VCe1cYBHyseElGoMMzMzFBYWih0GvYaHhwcGDBgAPT09sUN5Y1JTUzFz5kzcv38fZ86cgZOTE1q0aIGpU6fCy8tL7PCqxc3NDdbW1jAxMcHMmTOxZcsW5Obm4uOPPxY7tGpLTk7Gr7/%2BigcPHuDrr7/GvHnz0LdvX6xbt05tq/Oenp7w8/ODv78/iouLER8fjzVr1sDd3V3s0KqtNg7wSPmYkFKNMXbsWEyePBne3t4vVQfUuapT2yxYsABOTk5ih/FGGRkZQVNTExYWFrh58yYAoFWrVnj48KHIkSnG1tYWT58%2BRWpqKsaPH4/i4mK1vt6qgYEBGjRoAG1tbdy4cQMA0LdvX8yePVvkyKrP29sbWlpa2LZtG0pLS7Fy5UqMGjVKrau%2BtXGAR8rHhJRqjEWLFgHAS9/KxDMza5YOHTogPj5etu6tNmjTpg1WrFiByZMnw9jYGCdOnIC%2Bvr5aV4Fzc3MRGhqKw4cPQ19fH3v37sW4ceOwZcsWtT0hrVmzZjhx4gQcHBxQWlqK1NRU6OrqqvVJTY8ePcKYMWMwZswYsUN5Y2rrAI%2BUiwkpie7hw4cwNzfHzz//DA0NDfz7SmTqvDaxNnry5Almz56N%2BfPnw8TERO79Udeza2fOnImgoCCMGjUKQUFBmDRpEkpLSzFr1iyxQ6u2pUuX4vnz5zhy5AhGjRqFpk2bol%2B/fli8eDE2bdokdnjVMmHCBAQFBeHQoUNwd3eHh4cHtLS00L9/f7FDqzZHR0f07dsXI0eOhIODg9xXJ6ur2jjAI%2BXjdUhJdJ07d8Yff/wBGxubVyafrJDWHLXxWpD/JpVKkZubi3fffVfsUKqtb9%2B%2BOHjwIBo0aID3338f586dQ35%2BPvr27Ytz586JHV61ZWRkwMjICDo6OoiPj0dOTg5cXFzUdinCzZs3sW/fPsTFxUEQBAwfPhxubm5o1qyZ2KFV282bNxEUFIT169fjypUrCA4Olg3wxo0bJ3Z4VEMxISXRpaeno3HjxrXy4uSkPjIzM5GamoqSkhK5dnVdv9y7d2/89NNPMDAwQLdu3ZCYmIjnz5/DyckJp06dEjs8%2BpfS0lKcOnUKBw4cwK%2B//or33ntPbb%2BK999qwwCPlI9T9iS6xo0bA2DSWdNNmDAB69evh5eX1ysr2er6BzQ2NhaLFi2qcLmIulbnu3fvjoULFyI0NFT2fn399dd4//33RY6s%2BhITExEaGlrhwEFd36dympqa0NfXR506daCrq4uioiKxQ1JIRQO8R48eqe0Aj5SPCSkRVUqXLl0AAPb29iJH8uatW7cOERERcHZ2rjVfiRoSEoJJkyahW7duKCkpgZ2dHZo3b461a9eKHVq1LVy4EF27dsW8efNqzft0584d7N%2B/H3FxccjLy8OwYcPwzTffoFWrVmKHVm21cYBHyscpeyKqlAEDBuD48eOIjo5W22s%2Bvkr37t3V9pt%2BXiU3Nxf/93//h0uXLqFly5YwNTWFnZ0dtLS0xA6t2rp06YLExMRaceJPubZt26J79%2B5wc3PDwIED1XYt7Iv69u2LadOm1aoBHikfK6REVClZWVm4evUqNm3ahBEjRrxU/QAACwsLESJTnL29Pc6cOYPu3buLHcobsXHjRkRHR6OgoED2PtWtWxfTpk1T68sLtW7dGg8ePECTJk3EDuWNOXbsGJo2bSp2GG9UYWEhXFxcxA6D1AwTUiKqFIlEguHDh0NDQwMSiURumyAIajkdFxISAgDIy8uDn58fevbsCUNDQ7nHREREiBFatf3www9Yu3Yt5s6dC0dHR9nXbCYkJOCrr76CiYkJBg0aJHaYVbJ//34AQPv27fHpp5/C3d39pfdJXROgpk2bYlJq3%2BgAABiySURBVNu2bdi1axfS0tJgamoKNzc3%2BPn5qe0l72rbAI9Ug1P2RFRpGRkZGDx4MA4dOlThdnU7Ma08If0v6paQDh8%2BHJMmTcLAgQNf2hYfH49vv/0WO3bsECGy6vv3AOjfNDQ01PYauNu2bcOWLVswYcIENGnSBPfu3cPGjRvh6emJCRMmiB1elZR/nrKysnD27NlaMcAj1WFCSkRVcvXqVbRt21bsMOgV7OzskJiYCG3tlyfACgsL4ejoiP/3//6fCJFRRT744AMsW7YM7dq1k7VduXIFgYGBapdk18YBHqkOp%2ByJqEqaNWuGDRs24M6dOygtLZXbpo5/bJKTk3Hjxg24uroCAIqKijBx4kRMmTIFHTp0EDm6qtPQ0KgwGQUAXV1d5OfnqziiNyM3NxcpKSno2LGjrG39%2BvUYPXo03nnnHREjU4xUKoWNjY1cm42NDZ48eSJSRNWnjp9/qjlqz6mKRKQSISEh2L59OwoKCsQORWFXrlyBl5eX7Pu2gbL1pPr6%2BvDx8VG7NbG1VVZWFoYPH47NmzfL2rKzs7F9%2B3aMGjUK2dnZIkanGCsrK/z0009ybT/99BOsrKxEikgxycnJ2Lt3r%2Bx%2BUVERxo8fj0uXLokYFakDVkiJqErOnj2L3bt314ozg2NiYuDn5wd/f39ZW/369REdHY1ly5YhJiYG0dHRIkZYdcXFxbKTgCry7wvKq4NVq1ahXbt2WLp0qazNyMgICQkJCAwMRExMDObPny9ihNU3adIkBAcH48cff0TTpk1x7949/Pzzz1i5cqXYoVVZ%2BQDP09NT1vbiAC82NpbLfeiVuIaUiKqkb9%2B%2BOH78eK24XuKLX6/5b0%2BePMGQIUPU7ms2X3cCEAAkJCSoIJI3RyKRYOfOnWjUqNFL2%2B7cuYOPP/5Y7Z7Ti86cOYN9%2B/bh0aNHsLS0hJubG2xtbcUOq8omT56MDh06yA3wyi1btgy3b99WuwEeqQ4rpERUJZ6enoiMjERAQACMjIzEDkch%2Bfn5FSajAGBoaKiW6y3VOTF7ladPn1aYjAJA8%2BbN1XK95YtKSkowZ84cNGzYECdOnEBOTo7YIVXLxYsXERUVVeG2Tz75BEOGDFFxRKROuIaUiKrk%2B%2B%2B/x7fffotevXqhbdu2cv/UjYWFBa5du1bhtuvXr8PY2FjFEVFFDA0NkZGRUeG2jIwM1KtXT8URvTmxsbGYMmUKMjMzAZStlw0ODv7PZRc1VW0c4JHqsEJKRFUSGRkpdghvjLOzMxYvXoz169fL/SF9/vw5vvjiCwwYMEDE6Kicg4MD1q1bh9DQ0Je2bdiwQa0vwL5lyxZs27YN1tbWAABXV1dYW1tj%2BvTpanex//IB3r%2BvGgBwgEevxzWkRFRlpaWlSE5Oxv3792FmZobOnTur5feLFxYWYuzYsXjw4AEcHR1hYmKCzMxMnDhxAqampoiNjUWdOnXEDvOtl5mZiaFDh6Jjx45wdnaGqakppFIpjhw5gvPnz2P37t1qe1a6nZ0dzp8/L/f5KS0txfvvv4//%2B7//EzGyqlu3bh1OnTpV4QBv4sSJaN%2B%2BPWbOnClihFSTMSEloirJzMyEv78/rl27BkNDQzx%2B/BjNmzfH5s2bYW5uLnZ4VVZYWIjt27fjl19%2BQXZ2NkxNTSGRSODp6VkrTtyqLe7evYvFixfj1KlTKC0thba2Nvr06YNZs2bh3XffFTu8ahs5ciQ8PT0xfPhwWduBAwcQGxuL77//XsTIqo4DPFIEE1IiqpIZM2ZAEAQsXLgQdevWxbNnz/D555%2BjuLgYK1asEDs8quWKiorw9OlTGBoavvILANTJ77//jokTJ%2BK9996DhYUF0tPT8f/bu/OgKMg%2BDuDfBRZRUQxBENsQNAIlC4wFzDBCraTMA0%2BgFA2P8SCPSacR1EKKKbtINo4sFTzKEHCBMrOaKFtLTdDtmLxWSo4V0na1XJb3j172BQQF9OXZdb%2BfGf7Y5%2BGP7www/J77xIkTyMjIgFwuFx2vwzjAo85iQUpEHTJy5EiUlJQ0O0hy6dIlREREQKVSCUzWce05OGJp%2B/hud%2BXl5fD398elS5egUCjg7OyMZ555xqKL01OnTkGpVKK6uhr9%2B/dHZGTkbXHPL1FHWO5fMBEJYTQaIZFImrVJJBJIpVJBiTqv8fJxo9GIyspK9OnTBx4eHqiqqkJNTQ3uueceFqRmJD09HVlZWfjhhx/w4osvory8HDY2Njh//jxeeOEF0fE6zcvLC7GxsdBoNPDz87PIxwsADvDo5nCGlIg65LnnnoOdnR3WrVuHHj16QKfTISkpCfX19Xj99ddFx%2BuUV155Bfb29li6dKnpcMmmTZtw7tw5bNiwQXA6ahQZGYnXXnsN3t7eCAoKws6dO%2BHq6orx48ejtLRUdLxO0el0SExMhFKphIODAz7%2B%2BGPMnj0bmzdvhre3t%2Bh4HdL4KMP1BniWeJ0VdQ3OkBJRh6xcuRKzZ8%2BGXC5Hnz59UFdXh0GDBiEjI0N0tE7bvXs3SktLm510jo%2BPR3BwMAtSM1JVVQVfX198%2B%2B236NWrl%2Bl6ocuXLwtO1nmpqanQ6/UoLi7G1KlTIZPJEB4ejuTkZGRnZ4uO1yGNjzJcb4BH1BYWpETUbg0NDTAYDFAqlfj%2B%2B%2B%2Bh1WpRUVGBOXPmwNbWVnS8TuvWrRt%2B%2B%2B23ZvcnlpeXo3fv3gJTUUtubm44dOgQ9uzZg9DQUADA3r17LXq/5YEDB1BYWAgnJyfT1pdVq1YhLCxMdLRO4wCPOoMFKRG1i16vR1xcHFxcXJCWloaQkBBotVqEh4fjiy%2B%2BQFZWlsVe6RIdHY05c%2BZgypQp8PDwgEajwa5du7BkyRLR0aiJxYsXY%2B7cuXBwcMD27dvx7bffYvXq1Xj77bdFR%2Bs0o9FoOn3euIOuaZsl4gCPOoN7SImoXV577TUcPXoUb7zxRrMXV7RaLRYsWIDQ0FA899xzAhPenI8%2B%2BggFBQWorKxE//79MWXKFERGRoqORS38/fffAP4tev766y/o9Xr069dPcKrOW7FiBaRSKRITEzFq1CioVCps2LABNTU12Lhxo%2Bh4naJQKLB169ZWB3jR0dGi45GZYkFKRO0yduxYZGZmtvoijlqtRkJCAj755BMByciaVFdXQ6PRXHMSPSgoSFCim9M4oDtx4gTq6%2Bvh4OCAgQMHQqFQwM3NTXS8TuMAjzqKBSkRtcvw4cPxww8/tNkfGBiIw4cPd2GiW2vXrl3Ytm0bKisrkZeXh5dffhkpKSno2bOn6Gj0Xzk5OXjppZfQ8t%2BWRCKBWq0WlOrm1NXVwcnJCWVlZaioqIC7uzt8fHywceNGrFmzRnQ8oi5jeY9PE5EQjo6OqK2tbbWvrq6u2dvVlub9999HdnY2YmJiUF9fj549e6KyshIpKSmio1ET7777LlJSUlBWVoaffvrJ9GWJxaharUZERARCQ0Mxffp0eHp64vHHH0ePHj0wbdo0FBQUiI54U3bt2oXx48cjODgYv//%2BO5YsWQKdTic6FpkxFqRE1C6hoaHIyclptS83Nxf3339/Fye6dbZv345NmzZh6tSpsLGxgZOTE95%2B%2B20cOHBAdDRq4p9//sGECRMs8hGGlpKTk%2BHj44P09HQ4OjpCoVDg4MGDmDFjBnr16oW8vDzRETuNAzzqDJ6yJ6J2mTdvHiZNmoTa2lqMGzcOrq6uqKqqQnFxMXbv3o1t27aJjthptbW18PLyAvC/k859%2B/aFwWAQGYtaCA4OxsGDBxESEiI6yk1Tq9XYt28fnJ2d4evri5iYGOzevRsxMTFISEhodmWSpWkc4A0aNAivvvqqaYA3ceJE0dHIjLEgJaJ28fLyQnZ2NpKSkpCTkwOJRIKGhgb4%2BPggMzMT/v7%2BoiN2mq%2BvL3bu3IkZM2aYnkUtKirC3XffLTgZAcDq1asB/HsB/rx58zBixAj06dOn2fdY2uyb0WiEs7MzAMDd3R3nz5/HsmXLEBcXJzjZzeMAjzqDBSkRtVtgYCAKCwuh0Whw4cIFuLq6wsPDQ3Ssm/b8889j1qxZyM/Ph16vx7PPPoujR48iKytLdDRqom/fvhg3bpzoGLdE48CnkVQqRWxsrKA0txYHeNQZPGVPRASgsrISBQUF%2BP333%2BHu7o4nn3zytii2byc//vgj7rvvvmvav/rqK4t72ajlrRRyuRwqlUpgolvn%2BPHjmDVrFgYNGoTy8nKEhoaaBnit/fyIABakRERkIVq7Wuyvv/7CQw89hCNHjghK1TnDhg3D%2BvXrTZ/XrVuHpKSkZt8zYcKEro51y1RVVaGgoMB0lRUHeHQjLEiJyOp9%2BeWXeOmll1BRUXHNHZeWeKXQ7eTMmTOIjIxEfX09GhoarlnqBv4tVNu6AcJcPfLII9ftl0gk2L9/fxelubUmTZqELVu2wNHRUXQUsiAsSInI6kVERGDs2LEYNWrUNaeb5XK5oFTUSK1W4%2BLFi4iPj0dmZmazvm7dusHHx8ei78G93YwcORIlJSUsSKlDWJASkdUbPnw4VCoVbG1tRUeh69BoNJDJZKJj0A0kJSWhrKwMjz76KPr169dsVtuStyHQ/xcLUiKyeitWrMC4ceNuuIxKYtXW1mLr1q2orKyE0WgEAFy9ehW//PKLxb9sdDtp6%2B/Ikrch0P8fC1IisnrHjh3DzJkzMXjwYPTu3btZ35YtWwSlopbmz5%2BP06dPw9nZGTqdDv3798fXX3%2BN6Oho012lRGSZeA8pEVm9xMREBAQE4IEHHuCyvRk7dOgQioqKUFlZiYyMDKSlpSE/Px979%2B4VHY1auHDhgukatSVLluDQoUMIDw8XHYvMGAtSIrJ6Z86cgUqlui3eSL%2Bd2dnZwc3NDd27d8fPP/8MAIiMjERqaqrgZNTU8ePHMXv2bHh7e%2BPnn39GbGwsli5diqSkJEyePFl0PDJTlvtYLhHRLeLn5weNRiM6Bt3AgAEDUF5ejt69e0On0%2BHChQvQ6/W4cuWK6GjUREpKClatWoUdO3bAzs4OMpkM77zzDrKzs0VHIzPGGVIisnqhoaF4%2Bumn8dhjj13zRvqiRYsEpaKWZs6cidjYWCiVSjzxxBN45plnYGdnh6CgINHRqIlffvkFTz31FID/PZH60EMPISEhQWQsMnMsSInI6qlUKnh5eZmWgRu1dgk7iRMVFQUfHx%2B4uLhg5cqV2Lx5M3Q6HeLi4kRHoyacnZ1x8uTJZm/Xnzx5Ei4uLgJTkbljQUpEVm/69OkYPXo0unXrJjoK3cCwYcPw559/QqPRYO7cuTAYDLC3txcdi5qYOXMm5s2bh/nz58NgMKCoqAjp6emYNm2a6GhkxnjtExFZPblcjtLSUh5qMnM6nQ6JiYlQKpVwcHDAxx9/jNmzZ2Pz5s3w9vYWHY%2BayMnJQW5urukt%2B6lTp2LWrFnXvIRG1Ii/GURk9e69914UFRWJjkE3kJqaCr1ej%2BLiYkilUshkMoSHhyM5OVl0NGqipqYG0dHRUCqVOHr0KEpKShAXF8dilK6LM6REZPUmT56M48ePw97eHi4uLs32jvJlGfMRFhaGwsJCODk5QS6XQ6VS4cqVKwgLC4NKpRIdj/7L398fYWFhmDJlCkaNGsVClNqFe0iJyOrFxMSIjkDtYDQaTftFG%2BdSmraRecjPz0deXh6SkpLQ0NCAiRMnIioqCnfddZfoaGTGOENKREQWYcWKFZBKpUhMTMSoUaOgUqmwYcMG1NTUYOPGjaLjUQtGoxFff/018vPz8cUXX2Do0KF8ipfaxBlSIrJa8fHxyMjIQGxsbJtXPPEfqPlYvXo1Fi5ciKCgINTX1yMgIAADBw6EQqEQHY1aYWNjAwcHB/To0QP29va4evWq6EhkxliQEpHVGj58OAAgODhYcBJqDwcHByxcuBBlZWUYNGgQXF1dERAQAFtbW9HRqInTp09jz549KCgowOXLlzF%2B/Hhs3boVgwcPFh2NzBiX7InIao0ePRqfffYZ0tLS%2BCKTmcvKykJaWhr%2B/vtv0/7Rnj17YtmyZYiOjhacjpry8/NDSEgIoqKiMGbMGO7xpXbhDCkRWS2tVgu1Wo3s7GxMnjwZrY3PPTw8BCSjpj788EMoFAq88MILePjhh3HHHXdAq9Xi888/x%2Buvvw4XFxc8%2BuijomPSf3366aeQyWSiY5CF4QwpEVmt5cuXQ6lUtrp/tKGhARKJBGq1WkAyamrixIlYuHAhxowZc01fUVERcnNzsW3bNgHJqC0ffPABdu7ciYqKCri6uiIqKgrz5s3jc7zUJhakRGTVKisr8dhjj2Hv3r2t9g8YMKCLE1FLAQEBOHToEOzsrl3U%2B%2Beff/Dwww/jm2%2B%2BEZCMWvPBBx9g8%2BbNiI%2BPx5133omzZ88iKysLM2fORHx8vOh4ZKa4ZE9EVs3NzQ25ubksPM2YRCJptRgFAHt7e1y5cqWLE9H17NixA5s2bcKQIUNMbYGBgVi8eDELUmoTC1Iisnp33XUXMjMzcfr0aRiNxmZ9KSkpglIRWaaqqir4%2Bvo2a/P19UVdXZ2gRGQJWJASkdVbvXo1jhw5guDgYEilUtFxqAWDwYA9e/a02V9fX9%2BFaehGPD09sW/fvmYHzfbt2wdPT0%2BBqcjcsSAlIqv33Xff4aOPPuLJYDPl4uKCt956q83%2Bvn37dmEaupGFCxciISEBJSUlkMlkOHv2LPbv33/dnyERDzURkdULCwvDZ599xvsSiW6RgwcPIi8vDzU1NRgwYACioqIwbNgw0bHIjLEgJSKrp1AoUFVVhUWLFsHZ2Vl0HCKLV1paiiFDhuCOO%2B7Al19%2BCalUihEjRoiORWbMRnQAIiLRdu3ahdzcXDz44IPw8/Nr9kVEHZOTk4OlS5eiuroawL8PUCQkJFx3HzARZ0iJyOqpVKo2%2B%2BRyeRcmIbJ8o0ePxptvvomhQ4ea2srLy7F8%2BXJ88sknApOROeOhJiKyenK5HEajEeXl5Th37hz69euHwMBA2NhwEYmoo7Ra7TWrC0OGDIFWqxWUiCwBC1IisnrV1dWYP38%2BfvrpJ/Tp0we1tbUYOHAg3nvvPbi7u4uOR2RRBg8ejPz8fEycONHUVlhYCG9vb4GpyNxxyZ6IrN6KFSvQ0NCA9evXo2fPnrh06RLWrl0Lg8GAN998U3Q8IotSWlqKBQsWYOjQofDw8MAff/yBEydOICMjg1tgqE0sSInI6o0cORIlJSVwdHQ0tV26dAkRERHX3V9KRK07deoUlEolqqur0b9/f0RGRvKeX7ouLtkTkdUzGo2QSCTN2iQSCV9tIuokLy8vxMbGQqPRwM/Pj69p0Q1xxz4RWb3g4GCsXbsWer0eAKDT6bB27VouLxJ1gk6nw/LlyxEcHIyYmBicOXMGY8aMwcmTJ0VHIzPGgpSIrN7KlStx7NgxyOVyjBw5EsHBwfj111%2BxatUq0dGILE5qair0ej2Ki4shlUohk8kQHh6O5ORk0dHIjHHJnoisWkNDAwwGA5RKJb7//ntotVpUVFRgzpw5sLW1FR2PyOIcOHAAhYWFcHJyMm19WbVqFcLCwkRHIzPGGVIislp6vR4zZsxAamoq7OzsEBISgpCQEKSlpSE2Nta0hE9E7Wc0GmFvbw/g3wFfyzai1rAgJSKrlZ6eDqlUinXr1pna%2BvbtiwMHDsBgMODdd98VmI7IMoWEhGD9%2BvW4fPmy6bDgG2%2B8wT3ZdF289omIrNbYsWORmZkJT0/Pa/rUajUSEhL41CFRB2m1WixYsAAnTpxAfX09HBwcMHDgQCgUCri5uYmOR2aKe0iJyGpptdpWi1EA8PPzQ3V1dRcnIrJ8tra22LlzJ8rKylBRUQF3d3f4%2BPhg48aNWLNmjeh4ZKa4ZE9EVsvR0RG1tbWt9tXV1aF79%2B5dnIjIcqnVakRERCA0NBTTp0%2BHp6cnHn/8cfTo0QPTpk1DQUGB6IhkxliQEpHVCg0NRU5OTqt9ubm5uP/%2B%2B7s4EZHlSk5Oho%2BPD9LT0%2BHo6AiFQoGDBw9ixowZ6NWrF/Ly8kRHJDPGPaREZLVOnTqFSZMmYdKkSRg3bhxcXV1RVVWF4uJi7N69G9u2bYO/v7/omEQWYfjw4di3bx%2BcnZ1x/vx5xMTE4OLFi5g%2BfToSEhJgY8M5MGobC1IismqHDx9GUlISfv31V0gkEjQ0NMDHxwdr1qxBUFCQ6HhEFiMgIABHjhwxffb398eyZcsQFxcnMBVZChakREQANBoNLly4AFdXV3h4eIiOQ2RxAgMDcfjwYdPngIAAqFQqSKVSganIUvCUPRERAJlMBplMJjoG0W1DKpWyGKV2Y0FKREREN81gMGDPnj2mz1evXm32GQAmTJjQ1bHIQnDJnoiIiG7aI488ct1%2BiUSC/fv3d1EasjQsSImIiIhIKN7BQERERERCsSAlIiIiIqFYkBIRERGRUCxIiYiIiEgoFqREREREJBQLUiIiIiISigUpEREREQn1H5NCc%2Bh6a0KpAAAAAElFTkSuQmCC\" class=\"center-img\">\n",
       "    <img src=\"data:image/png;base64,iVBORw0KGgoAAAANSUhEUgAAAqQAAAJYCAYAAAC0FvTLAAAABHNCSVQICAgIfAhkiAAAAAlwSFlzAAAPYQAAD2EBqD%2BnaQAAADh0RVh0U29mdHdhcmUAbWF0cGxvdGxpYiB2ZXJzaW9uMy4yLjEsIGh0dHA6Ly9tYXRwbG90bGliLm9yZy%2Bj8jraAAAgAElEQVR4nOzdeXyNZ/7/8Vc2WWxBEqklaCQUNQkhbS1DUEtLjaq0VBFVlUowpl/aKaWLMqWmkSJfWrtODNqqmm%2BXGbTT31TailYR%2BxJCNrFEIouc3x9pzjhEG%2B7c56S8n4/HedzOdS%2Bf61w5Tj75XPd9HyeLxWJBRERERMRBnB3dARERERG5sykhFRERERGHUkIqIiIiIg6lhFREREREHEoJqYiIiIg4lBJSEREREXEoJaQiIiIi4lBKSEVERETEoZSQioiIiIhDuTq6AyIiFZGSksL69ev5z3/%2BQ3p6OgUFBdStW5egoCC6devG4MGD8fDwcHQ3RUTkFjjpq0NFpKqLi4tj0aJFlJSUUKNGDQICAnBzcyMzM5O0tDQA7rrrLt555x1at27t4N6KiMjNUkIqIlXahg0bePHFF/Hy8uKNN96gV69euLi4WNcfPnyYF198kV27dlGnTh22bNlC3bp1HdhjERG5WTqHVESqtMWLFwPwP//zP/Tp08cmGQUIDAxk0aJF1KtXj5ycHFauXOmIboqIiAFKSEWkyrpw4QInTpwA4He/%2B90Nt6tbty49e/YE4Mcff7RL30REpPLooiYRqbJcXf/7EbV161ZatWp1w21jYmJ46qmnqFevnrVt6tSpfPDBB7zwwgt06dKF%2BfPn8%2B2331JYWEiTJk34wx/%2BwOOPP467u3u5x/z2229ZtWoVO3fu5Ny5c9SqVYuQkBCGDx/O/fffX%2B4%2BFy5c4G9/%2Bxvbt2/n0KFD5Obm4unpSUBAAN27d%2Bepp56idu3aNvu0aNECgK%2B//prZs2fzz3/%2BE2dnZ1q3bs17773HSy%2B9xAcffMBrr71Ghw4dWLBgAd988w0XL16kUaNGPPbYY4wcORInJyc%2B%2B%2BwzVqxYwb59%2BygpKaFly5aMGzeO3//%2B99f19fLly2zYsIEvvviC/fv3c%2BHCBapVq0aDBg3o3Lkzo0aNon79%2Bjb7REREcOrUKbZs2UJ2djZLly7lhx9%2BIC8vj0aNGtG3b19Gjx5N9erVb/izEhG5ls4hFZEq7YknnmDnzp04OTnxyCOPMHjwYNq1a3fd1H15yhLSQYMG8emnn5KXl0dQUBDFxcUcOXIEgPbt25OQkEDNmjVt9p07dy5LliwBoHbt2jRq1IiMjAwyMzMBePrpp3n%2B%2Bedt9jl27BgjR47k9OnTuLq6EhAQgKenJ6dOneLcuXMANGvWjA0bNtgkbGUJabt27UhOTiY4OJizZ88SHh7OvHnzbF7HP/7xD4qLiwkMDCQ7O9van2eeeQYnJycSEhKoVasWjRs35ujRo%2BTl5eHk5MT//u//0rVrV2vMs2fPMmLECA4cOICTkxMBAQHUrFmT9PR06zHr1avHxo0b8ff3t%2B5XlpCOGjWK5cuXU61aNZo2bcr58%2Bc5c%2BYMAKGhoaxZs6ZCPyMREQAsIiJV2J49eywhISGW4OBg66Ndu3aWMWPGWBISEiy7du2yXLlypdx9p0yZYt2ne/fulr1791rX7dy50/LAAw9YgoODLdOmTbPZ7/3337cEBwdbwsLCLB999JG1vaSkxPLJJ59Y%2B7Nu3Tqb/Z588klLcHCwZciQIZb09HSb/T744ANLy5YtLcHBwZbVq1fb7FfWxzZt2liSkpIsFovFcuXKFUtOTs51r%2BOJJ56wZGRkWLeZOnWqJTg42NKyZUtLixYtLO%2B%2B%2B651PM6ePWsZOHCgJTg42PLkk0%2BWOza9evWyHD161Gbdl19%2Bafnd735nCQ4OtsyePdtmXffu3a19mTp1quXChQvW17h69Wrrus8//7zcn4mISHl0DqmIVGmtWrXi73//O%2B3bt7e25ebmsn37dubNm8eQIUPo3Lkz8%2BfPJz8/v9xjODs7s3DhQu655x5rW2hoKHPmzAHg73//O%2Bnp6QAUFhayYMECAGbNmsWAAQOs%2Bzg5OdGvXz9rZXTBggUUFxcDkJ2dzcGDBwF49dVX8fPzs9lv4MCBdOzYEYD9%2B/eX28%2B%2BffvSoUMHa5%2B9vb1t1ru6uvLWW2/h6%2Btr3eaZZ54BoKSkhEceeYSoqCicnUs/2uvUqcNTTz0FwN69e63HKS4u5rvvvsPJyYkXXniBpk2b2sTp0qUL/fr1A%2BDAgQPl9rVly5bMmjXLWll2cnJi2LBh1mrv999/X%2B5%2BIiLlUUIqIlVe8%2BbNWbt2LR9%2B%2BCHjx48nNDQUNzc36/rs7GwWL17MgAEDrNPGV7vvvvto2bLlde2dO3emUaNGlJSUsHXrVgCSk5PJysqievXq9OjRo9z%2BDBgwAGdnZ9LT062JXr169fjmm2/44YcfCA4Ovm6fK1euUKNGDaD03M3yXJ10l6dFixY20%2BcADRs2tP67vPNEyxLj3Nxca5urqytffPEFP/zwA926dbtuH4vFgpeX1y/2tVu3bjg5OV3XfvfddwNw8eLFX3wtIiJX00VNIvKbcc8993DPPfcQExNDfn4%2BO3fu5N///jcfffQR2dnZnDhxggkTJpCYmGizX9u2bW94zBYtWnDy5EmOHTsGYK1yFhUVMWzYsBvu5%2BLiQklJCUeOHLE5voeHB6dPn%2BaHH37gxIkTpKamcvjwYfbt20deXh5QWs0sT1nl80buuuuu69qqVatm/XedOnWuW3/1hWHXcnd3Jzs7m127dnHs2DFOnjzJkSNH2LdvH%2BfPn//Fvl5dAb5a2bdlXbly5cYvRETkGkpIReQ3ydPTk06dOtGpUycmTJjAiy%2B%2ByCeffMKuXbvYs2ePzTc2XXtV%2B9XKKoEXLlwA/lvZKywsZOfOnb/aj7L9AI4cOcJf/vIXtm/fbpPI1ahRg7CwMDIyMkhJSbnhsX7tq089PT1/cX3ZVH1FZGZmMmfOHP7v//6PoqIimxj33nsvV65c%2BcVp96sT4fJYdL2siNwEJaQiUmVNnz6db775hj/84Q%2BMGzfuhtt5eHjwyiuv8Nlnn1FUVMTRo0dtEtKyymR5yqayy24XVZb0tW7dmo0bN1a4r9nZ2Tz55JNkZ2fToEEDhgwZQqtWrbj77rtp1KgRTk5OTJ48%2BRcTUnspKChgxIgRHD58GG9vb5544gnatGlDYGAgAQEBuLi4MH/%2BfJ0HKiJ2o4RURKqsgoICjh8/zhdffPGLCSmUViGrV6/OuXPnrvvq0LJp%2BPKUJYjNmzcHSm/LBKW3cCouLi53yttisbBjxw78/f1p0KAB1apVY8OGDWRnZ%2BPt7c2GDRvK/frSsgunHO2LL77g8OHDuLq6kpiYeN1FTUC55%2BKKiJhFFzWJSJVVdoX7Tz/99KvVyn//%2B9%2BcO3cOb2/v677V6csvv7TeW/NqW7du5fTp01SrVo2IiAgAOnToQM2aNbl06dINY3788ceMGDGCvn37WhO3kydPAtCgQYNyk9FDhw6xa9cuwPHnV5b1tXr16uUmo1lZWWzbtg1wfF9F5M6ghFREqqxOnTrRu3dvAF566SVef/11azJVpqCggA0bNjBx4kQAJkyYcN23BOXl5REdHc3p06etbTt27OCFF14ASm8qX3b7Ii8vL%2ButlF5//XU2bNhgcz7oF198wcsvvwyU3qYpICAA%2BO/V5SkpKXz66afW7S0WC19%2B%2BSVPP/209VzNG92eyl7K%2Bnr%2B/HlWrFhhc77nrl27GDVqlPVG/o7uq4jcGTRlLyJV2ty5c/Hy8uLDDz9k5cqVrFy5kgYNGlCvXj0KCgo4duwYhYWFuLm5MXnyZIYOHXrdMZo2bcq%2Bffvo2bMnwcHB5OXlWa%2Bqf/jhhxk7dqzN9mPGjCE1NZV169bx4osv8uabb9KoUSPS09PJyMgASr9V6bXXXrPuM3jwYNauXcvx48eJjY2lYcOG1KlTh9OnT5OdnY2bmxsdO3YkKSnJ4VP3ERERhIaGkpyczKxZs1iyZAn169cnMzOT9PR0nJyceOCBB/h//%2B//kZGRgcViKfcWTyIilUUJqYhUadWqVWP27NkMGzaMLVu2sGPHDtLT00lJScHT05NmzZrRuXNnBg8ebK38Xevee%2B9l7ty5xMXF8f333%2BPq6krHjh154oknrDeAv5qTkxOvvvoqvXv35m9/%2Bxu7du1i3759uLu7ExISwsMPP0xkZKTNleY1atRg/fr1LFmyhK1bt3Ly5EmysrLw9/enW7dujBgxAi8vL3r27ElKSgppaWk0aNDAtHH7JS4uLixfvpxVq1bxySefkJqayoEDB/D19aVfv34MGzaM1q1bEx4ezrlz59i5c%2Bev3iNVRMQIfZe9iNy2yr4Dvn///sydO9fR3RERkRvQOaQiIiIi4lBKSEVERETEoZSQioiIiIhDKSEVERERuY2dPXuWXr16sWPHjhtus337dvr3709ISAh9%2B/Zl69atNuuXLFlC165dCQkJYfjw4Rw5cqRS%2B6iEVERuW7Nnz2b//v26oElE7ljff/89kZGRnDhx4obbHDt2jJiYGCZMmMB3331HTEwMEydOtN6i7oMPPmDVqlW8%2B%2B677Nixg9atWxMbG0tlXhevhFRERETkNvTBBx/wpz/9iUmTJv3qdmFhYfTs2RNXV1f69etHhw4dSExMBGDdunUMHTqUoKAg3N3dmTx5Mmlpab9Ycb1ZSkhFREREqqCMjAz27Nlj8yj7co6K6Ny5M59//nm591u%2B2qFDhwgODrZpa968OSkpKeWud3Nzo2nTptb1lUE3xpebZ49vbGnWDA4ehKAgOHrU9HCpJ8y/Ha%2BLC9x1F5w%2BDfb4evDvvjM/hpcXPPggfPYZ5OWZH69RI/NjuLvDvffC7t1QUGB%2BPHvEcHeHsLDS94Q94tWrZ34MNzcIDITDh%2BHnb2Q1VW6u%2BTHs/d7z8zM/hqsrNGgAaWlQXGx%2BvCZNzI9RLpN%2BLybGxREfH2/TNn78eGJiYiq0v6%2Bvb4W2u3TpEp6enjZtHh4e5P38wf5r6yuDElKpmry9SzM4b29H96TSODuXfmY5O9snIbUHN7fS1%2BTm5uieVB4Xl9LX5OLi6J5UHlfX0tfk6mqfRMcerv452SMhtYfb8b139eee3LzIyEgiIiJs2iqaZN4MT09PLl%2B%2BbNN2%2BfJlqlevXqH1lUEJqYiIiIgRJmXcfn5%2B%2BNmhlB0cHMyePXts2g4dOkSbNm0ACAoK4uDBg3Tv3h2AoqIijh07dt00vxH6m0VERETECGdncx52MmDAAJKSktiyZQvFxcVs2bKFpKQkHnnkEQAeffRRVq9eTUpKCgUFBcybNw8fHx/CwsIqrQ9KSEVERETuMKGhoWzatAmAwMBA3nnnHRISEujQoQMLFy5kwYIFNGvWDIDBgwczcuRInnvuOe677z727t1LQkICbpV4vpam7EVERESM%2BA2cJLt//36b58nJyTbPu3TpQpcuXcrd18nJiaioKKKiokzrX9UfQRERERG5ralCKiIiImLEb6BCWtUpIRURERExQgmpYRpBEREREXEoVUhFREREjFCF1DCNoIiIiIg4lCqkIiIiIkaoQmqYElIRERERI5SQGqYRFBERERGHUoVURERExAhVSA3TCIqIiIiIQ6lCKiIiImKEKqSGKSEVERERMUIJqWEaQRERERFxKFVIRURERIxQhdQwjaCIiIiIOJQSUgdJS0sjNDSUtLS0m9536tSpTJ061YReiYiIyE1zdjbncQfRlL2DNGjQgOTkZEd3Q0RERIy6w5JHM2gEHeTkyZO0aNHCuly1ahW9e/cmNDSUxx9/nP3791u3/ec//8lDDz1ESEgIY8eOJScnx%2BZYn3zyCf3796d9%2B/YMGjSIf//73wDk5OTQtWtX/vKXvwBQXFzM448/zh//%2BEf7vVARERGRX6EKaRXxySefsHr1ajw8PIiNjeUvf/kL7777LkeOHGHChAnMmjWLfv36sW3bNmJjYxkwYAAA27dv5%2BWXX2bRokW0a9eOL7/8kpiYGNatW0dQUBBvvvkmo0ePplevXmzdupWcnByWLl1a4X5lZGSQmZlp0%2BbbrBl%2B3t6V%2Bvqv07Kl7dJkbm7mx3B1tV2arXZt82PUqGG7NJuXl/kxPDxsl2azx/vB09N2aTZ7jF21arZLs5WUmB/D3u89e4ydPT/3CgvNj3FDqpAapoS0ihg%2BfDi%2Bvr4A9O3bl4SEBAC2bNlCmzZtrAloz5496d69u3W/1atX88QTT9ChQwcAunfvTkREBH/729%2BYNm0a4eHhjB49mokTJ3LhwgXef/99atxE9pCYmEh8fLxN2/gJE4iZMMHQ662wtWvtEsbfLlFK%2BfjYJ46/HV9Ux472i2UvgYGO7kHls9Pfd3bVsKGje1D5bsf33s%2B/3kx1/Lj5McQ8SkirCJ%2BrshRXV1csFgsA6enpNGjQwGbbgIAA67T9qVOnSEpK4v3337euv3LlCvfdd5/1%2BdChQ1m6dCmhoaG0vMnfSJGRkURERNi0%2BfbvDytW3NRxblrLlqXJ6NChkJJibizgzJadpsdwdS1NRrOyoLjY9HDs3Wt%2BjBo1SpPRpCTIzTU/Xv365sfw8ChNCA4fhsuXzY9nj6qOp2fpf6mUFMjPNz%2Be2RMoUFrda9gQTp2yzxjm5Zkfw97vvbp1zY/h6lqajGZm2udzz2FUITVMCWkV5%2B/vz7Zt22zazpw5g7u7u3X9wIEDeeaZZ6zr09LS8LhqzmfatGl06dKF3bt3s3btWoYOHVrh%2BH5%2Bfvj5%2Bdk2Hj168y/kVqWkgB0u/ioqMj2EVXGxfeKdP29%2BjDK5ufaJV7Om%2BTHKXL5snySkoMD8GGXy8%2BHSJfPj2GvKGUqTUXskb/Z4L5Sx13vPXqfaQOnnnkOn1M2mhNQwjWAVN2DAAA4cOMC6desoLi7m3//%2BN59//rl1/ZAhQ1i5ciU//vgjALt372bQoEFs3rwZgBUrVrB3717eeOMNXnnlFebMmcPBgwcd8lpEREREyqMKaRXXuHFjFi9ezOzZs3n99ddp3bo1vXr1sq7v06cPeXl5vPjii6SlpeHt7c3IkSMZPnw4KSkpzJ07l7i4OOrUqUOPHj3o168ff/zjH1m/fr21yioiIiIGqEJqmBJSB2nUqJH11k5X3%2BIJYNCgQQwaNMj6/P777%2Bejjz664bGu3b5My5Yt2b17t03bG2%2B8YaTbIiIiIpVOCamIiIiIEaqQGqaEVERERMQIJaSGaQRFRERExKFUIRURERExQhVSwzSCIiIiIuJQqpCKiIiIGKEKqWFKSEVERESMUEJqmEZQRERERBxKFVIRERERI1QhNUwjKCIiIiIOpQqpiIiIiBGqkBqmhFRERETECCWkhmkERURERMShVCEVERERMUIVUsOUkIqIiIgYoYTUMI2giIiIiDiUKqQiIiIiRqhCapgSUhEREZHbUHZ2NtOmTSMpKQkXFxcGDBjAlClTcHW1Tf%2Befvppvv/%2Be5u2vLw8IiMjeeWVVygpKaF9%2B/ZYLBacnJys23z99dd4eXlVSl%2BVkIqIiIgYUUUrpBMnTqR%2B/fp89dVXZGVlMW7cOJYvX87TTz9ts93SpUttnq9fv574%2BHjGjx8PwKFDhygqKmLnzp1Uq1bNlL5WzREUERER%2Ba1wdjbnYcDx48dJSkri%2Beefx9PTk8aNGxMdHc2aNWt%2Bcb8jR47w6quvMnfuXPz8/ADYvXs3LVq0MC0ZBVVI5RaknrCYHsPNDfyBM1t2UlRkejgaBzj9%2BkZGhYbCzp3492sHycmmh2u8bZvpMahRA2hPRO3vwSXX9HA5zX9vegwXl9Jl48Zw5Yrp4ahz4gfzg3h6AsGEVj8Azvmmhytq/jvTY5Rp1Mg%2Bcdy2fGR%2BkNq1gW60ztwG58%2BbHy%2Bkn/kxAHDjLh87fJD/HOt2kpGRQWZmpk2br6%2BvNVH8JQcPHsTb25v69etb2wIDA0lLS%2BPChQvUqlWr3P1mzpzJwIEDCQsLs7bt3r2bgoICHn30UU6dOkVgYCCTJ0%2BmXbt2t/jKrqeEVERERMQIk6bsExMTiY%2BPt2kbP348MTExv7rvpUuX8PT0tGkre56Xl1duQvrdd9/xww8/MHfuXJt2Dw8P2rZty4QJE6hduzZr1qxh9OjRbNq0icaNG9/syyqXElIRERGRKigyMpKIiAibNl9f3wrt6%2BXlRX6%2B7YxI2fPq1auXu09iYiJ9%2B/a9LsbUqVNtno8ePZqNGzeyfft2nnzyyQr159coIRURERExwqQKqZ%2BfX4Wm58sTFBTEuXPnyMrKwsfHB4DDhw/j7%2B9PzZo1r9u%2BuLiYf/7zn7zzzjvXrZs/fz69e/emVatW1rbCwkLc3d1vqW/l0UVNIiIiIkZUwYuamjZtSvv27Zk1axa5ubmkpqaycOFCBg8eXO72%2B/fvp6CgoNzzQg8cOMDrr79OZmYmhYWFxMfHk5ubS69evQz18WpKSEVERERuQ3FxcRQXF9OjRw%2BGDBlCly5diI6OBiA0NJRNmzZZt01NTaV27drlVj3feOMNAgICeOSRRwgPDycpKYlly5bh7e1daX3VlL2IiIiIEVX0PqQ%2BPj7ExcWVuy75mru99OnThz59%2BpS7rbe3N2%2B88Ual9%2B9qVXMERUREROSOoQqpiIiIiBFVtEL6W6KEVERERMQIJaSGaQRFRERExKFUIRURERExQhVSwzSCIiIiIuJQqpCKiIiIGKEKqWFKSEVERESMUEJqmEZQRERERBxKFVIRERERI1QhNUwjKCIiIiIOpQqpiIiIiBGqkBqmhFRERETECCWkhmkERURERMShVCEVERERMUIVUsM0giIiIiLiUKqQ3iaGDx9Ox44d%2BcMf/kCPHj3w9PTEyckJi8WCq6srrVq1IjY2lrCwMEd3VURE5PaiCqlhSkhvU5s3b6ZRo0YAXLx4kVWrVjFq1CiWLVumpFRERKQyKSE1TCN4B6hZsybR0dE8%2BOCDzJ0719HdEREREbGhCukdpHv37vzpT38iPz8fT0/PCu2TkZFBZmamTVtJiS%2B%2Bvn5mdNHK1dV2abrQUPNjtGxpuzRbjRrmxyh7H1Xw/WSUi4v5McoKHXYreNhj7NzdbZdy82rXNj9G2f9Ze/zflcqlCqlhSkjvIHXq1MFisXDhwoUKJ6SJiYnEx8fbtD333HhiY2PM6OJ1fHzsEgZ27rRTIGDtWvvFspdWrewSppZdopSyW05QK9hOgYAmTewSxs0uUX6OZa9g3brZKRBwO55WZY8fVFGR%2BTHENEpI7yDZ2dm4uLhQ%2Byb%2B0o%2BMjCQiIsKmraTElzNnKrt3tlxdS5PRrCwoLjY3FoB/v3bmB2nZsjQZHToUUlLMj7dkifkxPD1Lk9G9eyE/3/RwF4Lamx7D2bk0Gc3NhZIS08NR68wB84O4u5cmo8ePQ0GB6eGKmtknyXZzs18O4vb1NvOD1KhRmox%2B913pG9BsnTqZHwPs%2B4NyFFVIDVNCegfZunUr7dq1w8PDo8L7%2BPn54ednOz2fmmq/z5biYjvFSk62Q5CfpaTYJ549fqGVyc%2B3S7wrV0wPYVVSYqd4dkjkrQoK7BvvdnL%2BvP1i5ebaN54Yp4TUMCWkd4Dz58%2BzatUqtm7dyvLlyx3dHREREREbSkhvUw8//DBOTk4AVK9enZCQEFavXk2bNm0c3DMREZHbjCqkhikhvU2sWrXK%2Bu/9%2B/c7sCciIiIiN0cJqYiIiIgRqpAapoRURERExAglpIZpBEVERETEoVQhFRERETFCFVLDlJCKiIiIGKGE1DCNoIiIiIg4lCqkIiIiIkaoQmqYRlBEREREHEoVUhEREREjVCE1TAmpiIiIiBFKSA3TCIqIiIiIQ6lCKiIiImKEKqSGaQRFRERExKFUIRURERExQhVSw5SQioiIiBihhNQwjaCIiIiIOJQqpCIiIiJGqEJqmEZQRERE5DaUnZ1NdHQ0YWFhhIeH8/rrr1NcXFzutk8//TT33nsvoaGh1seXX35pXb9kyRK6du1KSEgIw4cP58iRI5XaVyWkIiIiIkY4O5vzMGjixIl4eXnx1VdfsX79ev7zn/%2BwfPnycrf96aefePfdd0lOTrY%2BunbtCsAHH3zAqlWrePfdd9mxYwetW7cmNjYWi8ViuI9llJCKiIiIGFEFE9Ljx4%2BTlJTE888/j6enJ40bNyY6Opo1a9Zct21qairnz5%2BnVatW5R5r3bp1DB06lKCgINzd3Zk8eTJpaWns2LHDUB%2BvpnNI5aZ99535MWrXBn9/2LsXzp83P17jbdvMD1KjRulyyRLIzTU/Xrdu5scIDYWdO2HMGEhONj1cnZ49TY9B8%2BawaBG1poyDQ4fMj3fmjPkx7rkH1q2Dl16CfftMD%2BfWv7/pMWjQAMaPxy0hHtLSzI%2B3YYP5MVq1Kv1/%2B/bbpR9%2BZrPH516jRjB5MsTFwcmT5sebP9/8GHaUkZFBZmamTZuvry9%2Bfn6/uu/Bgwfx9vamfv361rbAwEDS0tK4cOECtWrVsrbv3r2b6tWrM2nSJHbv3o2Pjw8jR45k8ODBABw6dIgxY8ZYt3dzc6Np06akpKRw3333GX2ZgBJSEREREWNMuqgpMTGR%2BPh4m7bx48cTExPzq/teunQJT09Pm7ay53l5eTYJaWFhISEhIUyaNImgoCB27NhBTEwM1atXp2/fvuUey8PDg7y8vFt9addRQioiIiJSBUVGRhIREWHT5uvrW6F9vby8yM/Pt2kre169enWb9oEDBzJw4EDr886dOzNw4ED%2B8Y9/0LdvXzw9Pbl8%2BbLNPpcvX77uOEYoIRURERExwqQKqZ%2BfX4Wm58sTFBTEuXPnyMrKwsfHB4DDhw/j7%2B9PzZo1bbZdv369tRpaprCwEHd3d%2BuxDh48SPfu3QEoKiri2LFjBAcH31LfyqOLmkRERESMqIIXNTVt2pT27dsza9YscnNzSU1NZeHChdbzQq%2BWm5vLq6%2B%2Byt69eykpKWHbtm1s3ryZyMhIAB599FFWr15NSkoKBQUFzJs3Dx8fH8LCwgz18WqqkIqIiIjchuLi4njllVfo0aMHzs7ODBw4kOjoaABCQ0OZOXMmAwYMYMSIEeTl5Qc6%2Bt8AACAASURBVDF%2B/Hiys7Np3Lgxc%2BbMsSacgwcP5uLFizz33HOcPXuWe%2B%2B9l4SEBNzc3Cqtr0pIRURERIyoot/U5OPjQ1xcXLnrkq%2B6M4qTkxPR0dHWZPVaTk5OREVFERUVZUo/QVP2IiIiIuJgqpCKiIiIGFFFK6S/JUpIRURERIxQQmqYRlBEREREHEoVUhEREREjVCE1TCMoIiIiIg6lCqmIiIiIEaqQGqaEVERERMQIJaSGaQRFRERExKFUIRURERExQhVSwzSCIiIiIuJQqpCKiIiIGKEKqWFKSEVERESMUEJqmEZQRERERBxKFVIRERERI1QhNUwjKCIiIiIOpYQUOHr0KFOmTKFr166EhobSs2dP5s6dy6VLlwwf22KxMHnyZEJCQoiIiGDRokU8/fTTldDrWxMREcHGjRsdFl9EROS24%2BxszuMOcsdP2e/cuZOoqCiioqL48MMPqVu3LkePHmX69OlERUWxdu1aXFxcbvn4GRkZbN68mY0bN9K6detK7LmIiIhUCXdY8miGO34Ep0%2BfzsCBA4mNjaVu3boANGvWjPnz51OvXj1SU1M5deoUEydO5P7776dTp05MnjyZjIwMAHbs2GGtfHbp0oWOHTsSExNDbm4ue/fupXfv3gAMGzaMuLg4FixYwPDhwwHYuHEjgwYNIioqirCwMD7%2B%2BGOGDx9OXFwcTzzxBCEhIQwYMIAff/yRyZMn065dOyIiIti2bZu1/3v27GH48OF06NCBBx98kOXLl2OxWIDS6uzixYvp3LkzYWFhzJkzhytXrthxdEVERER%2B3R1dIT1x4gQHDx5kxowZ163z8fFh4cKFFBUV8fDDD9OmTRs%2B%2B%2BwzLBYLM2fO5Nlnn2XdunUAnDp1ivT0dD7//HPS09MZNmwYa9eu5ZlnnmHz5s306NGDzZs306hRIxYsWGATZ8%2BePcyePZvFixdTUlLCunXrSExMZMWKFQQEBBAVFcXQoUP561//yuzZs3nrrbd49dVX6datG%2Bnp6YwYMYJJkybx3nvvcfz4caKjo/Hw8ODxxx9nw4YNrFixgqVLlxIUFER8fDxnzpy5qTHKyMggMzPTpq2oyBcfH7%2BbG%2BybVKOG7dJ09gjk6Wm7NFtoqPkxWra0XZqteXPzYzRubLs0W5065sdo1sx2abYGDcyP4etruzRbq1bmx7j7btul2Ro1Mj%2BGn5/t0kwnT5of40ZUITXsjk5Iz549C5Qmnzfy3XffkZqayoYNG6jxc9Iyc%2BZMOnbsyE8//WTd7rnnnsPDw4MmTZoQHh7O0aNHK9QHNzc3HnnkEZyvejP37t2b5j//4g0LC%2BPChQv07NkTgK5du7Js2TIANm3aRGBgIMOGDQOgefPmjB49mtWrV/P444/z0UcfMWTIEOupAhMmTLAm0RWVmJhIfHy8Tdtzz41nyJCYmzrOrerY0S5hgPb2CmSfX2wAO3faJw7A2rX2i2UvL77o6B5UvjlzHN2DyhcZaZ8448fbJw7AvHn2i2UvP88MmmrSJPNjiGnu6ITU9%2Be/rDMzM2natOl167OyssjOzqZOnTrWZBSgRo0aeHt7c%2BrUKWsy63vVX%2Blubm7WafOK9MH5mr%2BsvL29rf92cXGhdu3a1ufOzs7WY586dYo9e/YQFhZmXV9SUmI95zUjI4O77rrL5lgNbrJyERkZSUREhE3bnj2%2B/OtfN3WYm1ajRmkympQEubnmxgKIqP29%2BUE8PUuT0b17IT/f/Hhjxpgfo2XL0mR06FBISTE/Xni4%2BTEaNy5NRmfNgtRU8%2BNlZ5sfo1mz0mR0yhSo4B/LhnTtan4MX9/SZDQxEa6ZxTHFP/9pfoy77y5NRidPhiNHzI/XubP5Mfz8SpPRVavg51PdbkuqkBp2RyekDRs2JDg4mC1bttChQwebddnZ2XTv3p3x48eTk5NDbm6uNSm9ePEiOTk5%2BPr6VjjxvBEnJ6cKtZXH39%2Bf8PBw3n33XWtbTk6O9e4A/v7%2BpF71C9VisVjPfa0oPz8//K6ZajlwAM6fv6nD3LLcXDvFcrFD1lsmP98%2BWXZysvkxyqSk2CdevXrmxyiTmgqHDpkf5yZPozHk6FHYt8/8OPY4taJMZiakpZkfZ%2B9e82OUOXLEPvHKKcSYJiPDsVPqZlNCatgdP4LTpk1jw4YNxMfHk5OTg8ViYd%2B%2BfTz77LO0bt2aqKgomjdvzssvv8zFixe5ePEiM2bMICAggHbt2jm07/3792fXrl1s2rSJ4uJiMjIyePbZZ5k9ezYAjz32GOvWrSM5OZmioiIWLVp03fmgIiIiIo52R1dIATp27Mjq1atZvHgxDz30EPn5%2Bfj4%2BNCnTx/Gjh2Lm5sbCQkJzJ49m969e1NYWMgDDzzAsmXLcHV17PA1bNiQpUuXMnfuXF577TVcXFzo1q0bf/7znwF4%2BOGHycnJYdKkSZw/f54%2BffrQokULh/ZZRETktqMKqWF3fEIK0LZtWxYuXHjD9XfddRdvv/12uevCw8PZv3%2B/TVtZhRKgUaNGNutjYv57MdCgQYMYNGiQzb6rVq2yeX719uXFCw0NZc2aNTfs%2B/Dhw623mRIRERETKCE1TCMoIiIiIg6lCqmIiIiIEaqQGqYRFBERERGHUoVURERExAhVSA1TQioiIiJihBJSwzSCIiIiIuJQqpCKiIiIGKEKqWEaQRERERFxKFVIRURERIxQhdQwJaQiIiIiRighNUwjKCIiIiIOpQqpiIiIiBGqkBqmERQRERERh1KFVERERMQIVUgNU0IqIiIiYoQSUsM0giIiIiLiUKqQioiIiBihCqlhSkhFREREbkPZ2dlMmzaNpKQkXFxcGDBgAFOmTMHV9fr07/3332f58uVkZGTg5%2BfHU089xbBhwwAoKSmhffv2WCwWnJycrPt8/fXXeHl5VUpflZCKiIiIGFFFK6QTJ06kfv36fPXVV2RlZTFu3DiWL1/O008/bbPdF198wVtvvcWSJUv43e9%2Bx65du3jmmWfw8fGhd%2B/eHDp0iKKiInbu3Em1atVM6asSUhEREREjTEpIMzIyyMzMtGnz9fXFz8/vV/c9fvw4SUlJfPnll3h6etK4cWOio6N58803r0tI09PTGTNmDCEhIQCEhoYSHh7Ot99%2BS%2B/evdm9ezctWrQwLRkFJaRyCxo1Mj9G2QxA/fpQs6b58XKa/970GC4uUAu4ENSeK1dMD0ednj3ND9K8eekyPBzq1TM/3hdfmB8jO7t0uWMHJCebH2/UKPNjBASULlu1gho1zI93%2BbL5MQoK/ru0R7yhQ82P4e9fuuzTB35ODExVNoZmcnf/79LT0/x4t5nExETi4%2BNt2saPH09MTMyv7nvw4EG8vb2pX7%2B%2BtS0wMJC0tDQuXLhArVq1rO1lU/NlsrOz%2Bfbbb3nhhRcA2L17NwUFBTz66KOcOnWKwMBAJk%2BeTLt27Yy8PBtKSEVERESMMKlCGhkZSUREhE2br69vhfa9dOkSntf8EVD2PC8vzyYhvVpmZiZjx46lTZs2PPzwwwB4eHjQtm1bJkyYQO3atVmzZg2jR49m06ZNNG7c%2BGZfVrmUkIqIiIhUQX5%2BfhWani%2BPl5cX%2Bfn5Nm1lz6tXr17uPrt27WLChAmEhYXxxhtvWC9%2Bmjp1qs12o0ePZuPGjWzfvp0nn3zylvp3rap5Fq6IiIjIb4WzszkPA4KCgjh37hxZWVnWtsOHD%2BPv70/Ncs6FW79%2BPSNHjmTEiBHMmzfP5nzR%2BfPns3fvXpvtCwsLcS87JaMSKCEVERERMaIKJqRNmzalffv2zJo1i9zcXFJTU1m4cCGDBw%2B%2BbttPP/2UGTNmsGDBAqKioq5bf%2BDAAV5//XUyMzMpLCwkPj6e3NxcevXqZaiPV1NCKiIiInIbiouLo7i4mB49ejBkyBC6dOlCdHQ0UHol/aZNmwCIj4/nypUrxMbGEhoaan1Mnz4dgDfeeIOAgAAeeeQRwsPDSUpKYtmyZXh7e1daX3UOqYiIiIgRVfQ%2BpD4%2BPsTFxZW7Lvmqu4h8/PHHv3gcb29v3njjjUrt27Wq5giKiIiIyB1DFVIRERERI6pohfS3RAmpiIiIiBFKSA3TCIqIiIiIQ6lCKiIiImKEKqSGaQRFRERExKFUIRURERExQhVSw5SQioiIiBihhNQwjaCIiIiIOJQqpCIiIiJGqEJqmEZQRERERBxKFVIRERERI1QhNUwJqYiIiIgRSkgN0wiKiIiIiEOpQioiIiJihCqkhikhFRERETFCCalhhkfw6NGjTJkyha5duxIaGkrPnj2ZO3culy5dMtw5i8XC5MmTCQkJISIigkWLFvH0008bPu6tioiIYOPGjdbnhYWFJCQk0L9/f9q3b88DDzzAuHHj2LNnj3WbqVOnMnXqVEd0V0REROQ3wVCFdOfOnURFRREVFcWHH35I3bp1OXr0KNOnTycqKoq1a9fi4uJyy8fPyMhg8%2BbNbNy4kdatWxvpaqUrKChg%2BPDhVKtWjTlz5tCyZUvy8/NZuXIlTz75JCtWrKBt27aO7qaIiIiYTRVSwwyN4PTp0xk4cCCxsbHUrVsXgGbNmjF//nzq1atHamoqp06dYuLEidx///106tSJyZMnk5GRAcCOHTuslc8uXbrQsWNHYmJiyM3NZe/evfTu3RuAYcOGERcXx4IFCxg%2BfDgAGzduZNCgQURFRREWFsbHH3/M8OHDiYuL44knniAkJIQBAwbw448/MnnyZNq1a0dERATbtm2z9n/Pnj0MHz6cDh068OCDD7J8%2BXIsFgtQWp1dvHgxnTt3JiwsjDlz5nDlyhXrvqtWreLkyZMsXryYVq1a4ezsTPXq1Rk3bhyPP/44Bw4csG6bnZ1NbGws4eHhdO7cmdWrV1vXHT58mLFjx9KtWzfatm1Lv3792Lp1KwAnT56kRYsW/P3vfyciIoL27dszatQozpw5Y93/k08%2BoXfv3oSFhTF69GimTZtmrchaLBZWrlxpXT906FB%2B%2BuknIz9yERERkUp3yxXSEydOcPDgQWbMmHHdOh8fHxYuXEhRUREPP/wwbdq04bPPPsNisTBz5kyeffZZ1q1bB8CpU6dIT0/n888/Jz09nWHDhrF27VqeeeYZNm/eTI8ePdi8eTONGjViwYIFNnH27NnD7NmzWbx4MSUlJaxbt47ExERWrFhBQEAAUVFRDB06lL/%2B9a/Mnj2bt956i1dffZVu3bqRnp7OiBEjmDRpEu%2B99x7Hjx8nOjoaDw8PHn/8cTZs2MCKFStYunQpQUFBxMfH2ySC//rXv%2BjWrRs1atS47vVPmTLF5vk333xDQkICb7/9Nh9%2B%2BCEvvPACvXr1on79%2BsTExNCjRw/i4%2BOxWCzMnTuXGTNm0L17d%2Bv%2B27Zt48MPP6SwsJBRo0axcOFCXnnlFZKTk5kyZQpxcXF07dqVrVu3MnHiRPr37w/A2rVrWbZsGYsWLSIwMJCPPvqIUaNG8Y9//AMfH58K/ZwzMjLIzMy0acvL88XHx69C%2B98qDw/bpdkMFPIrrOwPaLv9Id28ufkxGje2XZotO9v8GC1b2i7NFhBgfoy77rJdmq1mTfNj%2BPnZLs1Wzmd9pSv7XK7g57NhRUXmx/D1tV2aKS3N/Bg3ogqpYbeckJ49exbgFxOb7777jtTUVDZs2GBN3GbOnEnHjh1tKnXPPfccHh4eNGnShPDwcI4ePVqhPri5ufHII4/gfNUboXfv3jT/%2BRdxWFgYFy5coGfPngB07dqVZcuWAbBp0yYCAwMZNmwYAM2bN2f06NGsXr2axx9/nI8%2B%2BoghQ4ZYTxWYMGGCNYkue/0dOnSoUD87derEAw88AMBDDz3E1KlTSU1NpX79%2BiQkJFC/fn0sFgunTp2iVq1apKen2%2Bw/ZswYatWqBZSex5qcnAzAhg0bePDBB4mIiACgV69e1tcKsGbNGsaOHUvLn3%2BxDh48mPXr17Np0yaioqIq1PfExETi4%2BNt2p57bjyxsTEV2t%2BowEC7hLEre/xeA2DRIjsFAl580X6x7GXtWkf3oPKNHevoHlS%2Bn2fNbiuPPuroHlS%2ByEjzYzjyc0gJqWG3nJD6/vzXTmZmJk2bNr1ufVZWFtnZ2dSpU8emilijRg28vb05deqUNZn1veovJzc3N%2Bu0eUX64HzNm8Db29v6bxcXF2rXrm197uzsbD32qVOn2LNnD2FhYdb1JSUl1nNeMzIyuOuqaoKLiwsNGjSwiV126sG1zp8/j6enJ9WqVbuuT2VtZdP/KSkpREdHk5mZSWBgIHXr1r3u9V%2Bd9Lu6ulrXnz59mlatWtls27hxY7Kysqyvcc6cOcydO9e6vri4mDZt2pTb7/JERkZaE94yWVm%2BXHXdlik8PEqT0cOH4fJlc2OBfQp8zs6lyWhuLpSUmB%2Bv1pRx5gdp3Lj0l8CsWZCaan68HTvMj9GyZWkyOnQopKSYH2/AAPNj3HVXaTKakACnT5sfz14V0uHDYdUquMFncaWyV4X00Udhwwb4%2BXPcVPaqkEZGQmIiXDPbJnK1W05IGzZsSHBwMFu2bLmuUpidnU337t0ZP348OTk55ObmWpPSixcvkpOTg6%2Bvb4UTzxtxcnKqUFt5/P39CQ8P591337W25eTkWO8O4O/vT%2BpVv2AtFotNAhoREcHSpUttXluZP//5z%2BTn59scuzzp6elMmDCB%2BPh4a9L36aef8tlnn1XoNTRs2JC0a6Yo0tLSrEmvv78/sbGxPPTQQ9b1J06csEmQf42fnx9%2B10yJffst5OVV%2BBCGXL5sn1hXnR5supISO8U7dMgOQX6WmmqfeD/PDthFSop94oWEmB%2BjzOnTcOKE%2BXFu4jPGsIwMOHXK/DhXFTdMl5UFV50iZpqCAvNjlMnMdOyUutlUITXM0AhOmzaNDRs2EB8fT05ODhaLhX379vHss8/SunVroqKiaN68OS%2B//DIXL17k4sWLzJgxg4CAANq1a1dZr%2BGW9O/fn127drFp0yaKi4vJyMjg2WefZfbs2QA89thjrFu3juTkZIqKili0aJHNuZRDhw7Fx8eHcePGkZKSgsViIScnh3nz5vH1118TGxv7q324dOkSV65cwdPTE4BDhw7xzjvvAKW3lPo1jz32GJ9//jlfffUVV65cYfv27TbJ7JAhQ1i0aBGHDx8G4KuvvuKhhx7i22%2B/rfhAiYiIiJjM0G2fOnbsyOrVq1m8eDEPPfQQ%2Bfn5%2BPj40KdPH8aOHYubmxsJCQnMnj2b3r17U1hYyAMPPMCyZctwdXXsPfkbNmzI0qVLmTt3Lq%2B99houLi5069aNP//5zwA8/PDD5OTkMGnSJM6fP0%2BfPn1o0aKFdX93d3fWrFnDO%2B%2B8Q2xsLFlZWXh4eBASEsLq1asrdJuqu%2B%2B%2Bm//5n//h%2BeefJz8/H39/f4YMGcKbb77JgQMHfrWSee%2B99zJz5kxmzJhBTk4OYWFh3H///bi5uQEwcuRILBYL0dHRZGRkUL9%2BfaZPn06PHj0MjJyIiIjYUIXUMCeL0XlzcZijR49SUlJC4FVX/sTExHD33XczadIk0%2BLao8Dq5QWtW8OePfaZsrfHBekuLlCrFly4YJ8p%2BzpDepkfpHnz0ounxo2zz5T9F1%2BYHyM0FHbuhHbt7DNlP2qU%2BTECAmDGjNLH7TJl37AhTJ4M8%2BbdPlP2/v7/Pdf3dpmyb9AAxo%2BH%2BHj7TNnPmmV%2BjPKYdW62ve6MUQUopf8NO3ToECNGjODEz79gduzYwVdffcXvf/97B/dMREREpOL0Xfa/Yb169eLQoUM89dRTnD9/noYNG/Lqq686/PxcERGRO4qm7A1TQvobN27cOMaNs8PtfURERERMooRURERExAhVSA1TQioiIiJihBJSwzSCIiIiIuJQqpCKiIiIGKEKqWEaQRERERFxKFVIRURERIxQhdQwJaQiIiIiRighNUwjKCIiIiIOpQqpiIiIiBGqkBqmERQRERERh1KFVERERMQIVUgNU0IqIiIiYoQSUsM0giIiIiLiUKqQioiIiBihCqlhGkERERGR21B2djbR0dGEhYURHh7O66%2B/TnFxcbnbbt%2B%2Bnf79%2BxMSEkLfvn3ZunWrzfolS5bQtWtXQkJCGD58OEeOHKnUviohFRERETHC2dmch0ETJ07Ey8uLr776ivXr1/Of//yH5cuXX7fdsWPHiImJYcKECXz33XfExMQwceJE0tPTAfjggw9YtWoV7777Ljt27KB169bExsZisVgM97GMElIRERERI0xKSDMyMtizZ4/NIyMjo0JdOn78OElJSTz//PN4enrSuHFjoqOjWbNmzXXbfvDBB4SFhdGzZ09cXV3p168fHTp0IDExEYB169YxdOhQgoKCcHd3Z/LkyaSlpbFjx45KG0KdQyo3raDA/BiuP78zCwvtE6/OiR/MD%2BLpCbWCqXXmAOTnmx/vzBnzY9SpU7rMzrZPvFGjzI8REFC6HDAAQkLMj7dsmfkxQkNhxgzYtAmSk82PN368%2BTHKph2Li6GoyPx4X3xhfozgYBg7FpKS4MAB8%2BNFRJgfo%2BzD3NUV3NzMj3ebSUxMJD4%2B3qZt/PjxxMTE/Oq%2BBw8exNvbm/r161vbAgMDSUtL48KFC9SqVcvafujQIYKDg232b968OSkpKdb1Y8aMsa5zc3OjadOmpKSkcN99993Sa7uWElIRERERAyw4mXLcyMhIIq75w8HX17dC%2B166dAlPT0%2BbtrLneXl5Nglpedt6eHiQl5dXofWVQQmpiIiISBXk5%2BeHn5/fLe3r5eVF/jWzcWXPq1evbtPu6enJ5cuXbdouX75s3e7X1lcGnUMqIiIiYkBJiTkPI4KCgjh37hxZWVnWtsOHD%2BPv70/NmjVttg0ODubgwYM2bYcOHSIoKMh6rKvXFxUVcezYseum%2BY1QQioiIiJiQFVMSJs2bUr79u2ZNWsWubm5pKamsnDhQgYPHnzdtgMGDCApKYktW7ZQXFzMli1bSEpK4pFHHgHg0UcfZfXq1aSkpFBQUMC8efPw8fEhLCzMWCevooRURERE5DYUFxdHcXExPXr0YMiQIXTp0oXo6GgAQkND2bRpE1B6sdM777xDQkICHTp0YOHChSxYsIBmzZoBMHjwYEaOHMlzzz3Hfffdx969e0lISMCtEi9U0zmkIiIiIgYYrWaaxcfHh7i4uHLXJV9zx40uXbrQpUuXcrd1cnIiKiqKqKioSu9jGVVIRURERMShVCEVERERMaCqVkh/S5SQioiIiBighNQ4TdmLiIiIiEOpQioiIiJigCqkxikhFRERETFACalxmrIXEREREYdShVRERETEAFVIjVOFVEREREQcShVSEREREQNUITVOCamIiIiIAUpIjdOUvYiIiIg4lCqkIiIiIgaoQmqcKqQiIiIi4lCqkIqIiIgYoAqpcaqQ/sYcO3bM0V0QERGRq5SUmPO4k6hCWokiIiLIzMzE1bV0WC0WC02aNOHJJ5/kscceM3z8vXv3MmTIEH766ScApk6dCsDs2bMNH1tERETEUZSQVrKZM2cyaNAgAAoLC9m2bRsvvPACOTk5PPPMM4aOffHiRYqKiiqjmyIiIlJJ7rRqphk0ZW%2BiatWq8eCDDzJlyhTi4%2BPJzc0lKyuLP/3pT3Tq1InOnTszffp0cnNzrfusX7%2BeQYMGER4eTmhoKGPHjuXs2bOkpqYyZswYAEJDQ0lOTgYgOzub2NhYwsPD6dy5M6tXr7Ye69NPP%2BWhhx6iffv29O3bl4ULF9p3AEREREQqQBVSO%2BjWrRvTpk3j%2B%2B%2B/55133qFp06Z8%2BumnFBUV8cILLzB9%2BnTeeustfvzxR1577TVWrlxJ27ZtOXPmDCNGjGDlypVMnDiRJUuW8NRTT1mT0cTERL755hsSEhJ4%2B%2B23%2BfDDD3nhhRfo1asXtWvX5vnnn2fJkiWEh4ezd%2B9ehg0bRufOnWnbtm2F%2B56RkUFmZqZNW16eL76%2BfpU6Rtfy9LRdms4egdzdbZdmu%2Bce82M0a2a7NFtAgPkx7rrLdmm20FDzY7Rsabs0W6NG5seoX992aba8PPNjlL2/7fE%2BB/u8x318bJdmOn3a/Bg3oAqpcUpI7aBOnToA7N69mz179rBs2TKqV68OwJQpU%2BjTpw/Tpk0jODiYzZs306hRI86fP09GRgZ169YlPT39hsfu1KkTDzzwAAAPPfQQU6dOJTU1ldq1a%2BPh4cH69espKSmhXbt2fP/99zg731xRPDExkfj4eJu2554bz4MPxtzUcW6VvX5/QrC9AkGTJvaJs26dfeIAzJljv1j2MnasfeLMmGGfOABr19ovlr2MHOnoHlS%2Bl192dA8q3%2BDB5sdw4LgpITVOCakdnD17FoC7776bK1eu8Pvf/95mfbVq1UhNTaVly5asXLmSjz/%2BGC8vL1q0aEFubi4Wi%2BWGx/b29rY5DsCVK1fw8PDg/fffZ%2BHChUyePJnc3Fx69%2B7NSy%2B9RO3atSvc98jISCIiImzaTp3y5ecirWk8PUuT0ZQUyM83NxZAaPUD5gdxdy9NRo8fh4IC8%2BO99JL5MZo1K01Gp0yBo0fNj9eqlfkx7rqrNBlNSLBPxWXTJvNjtGxZmowOHVr6n8pskZHmx6hfvzQZXb4cfuGP9kpzwA6fEQEBpUnVzJlw4oT58Tp0MD%2BGj09pMrp%2BPWRlmR9PfrOUkNrBv/71L7y8vPDx8cHDw4MdO3bg4uIClF74lJqaSpMmTXjvvff4%2Buuv%2Bfjjj/H5eXrj2WefvaWYubm5ZGRkMG/ePAD27dvHH//4RxYvXsyUKVMqfBw/Pz/8/Gyn53Ny4NKlW%2BrWTcvPt1MsZztkvWUKCuyTZe/bZ36MMkeP2idejRrmxyhz%2BrR9kgKz/7q7WkqKfeJ16mR%2BjDLp6XDypPlx7JGQljlxwj7x7HFqRZmsLIdOqZtNFVLjdFGTiQoLC9myZQtvvfUWkyZNol27djRp0oTZs2dz6dIlLl%2B%2BzKxZsxg5ciRXrlwhNzcXsjjESAAAIABJREFUV1dX3NzcKC4u5qOPPuKrr76yXlnv/vO5hxcvXvzV2JcuXWLMmDF8/PHHWCwW/Pz8cHZ2tp4%2BICIiIlJVqEJayV5%2B%2BWVeffVVoDSBvPvuu5k5cyb9%2BvUDICEhgTlz5vDggw9SUFBA27ZtWbZsGe7u7kRFRXHgwAG6d%2B%2BOu7s7rVq1YujQoXzzzTcABAcH0759e7p06cLbb7/9i/2oX78%2BcXFx/PWvf2X69Ol4eHjQr18/Rt6O51uJiIg4kCqkxikhrUT/%2Bte/fnUbf39/5s%2BfX%2B46b29vFi9efMN9vby8WHvVRQnXnosKsH//fuu/IyIirjv/U0RERCqXElLjNGUvIiIiIg6lCqmIiIiIAaqQGqcKqYiIiIg4lCqkIiIiIgaoQmqcElIRERERA5SQGqcpexERERFxKFVIRURERAxQhdQ4VUhFRERExKFUIRURERExQBVS45SQioiIiBighNQ4TdmLiIiIiEOpQioiIiJigCqkxqlCKiIiIiIOpQqpiIiIiAGqkBqnhFRERETEACWkxmnKXkREREQcShVSEREREQNUITVOCamIiIjIHSYv7/%2Bzd%2B9xOd///8AfHRU26USFzCExmhyWc3WZsLAkauhgc1bJWWw1sonFhpzPxswcRpFl1ma239DXYnIWJklXB/NZ6dz790e65ppQvb17d%2BVxv926vV3v0/N5XZeunu/n6/1%2BX48QFhaGuLg4FBUVoW/fvggNDUW9evXKXT82NhZr1qxBcnIyjIyM4O7ujsmTJ0Nbu3SwfeDAgbh3757qMQDs27cPLVu2rFA%2BLEiJiIiIRNDEDmlYWBhSU1MRGxuL4uJiBAUFISIiAqGhoU%2Btm5iYiNmzZ%2BPLL7%2BEo6Mjbt26hXHjxqFu3br44IMPkJ2djVu3buHHH3%2BElZVVlfLhOaREREREIpSUSPOjVCpx8eJFtR%2BlUik639zcXERHRyMwMBBGRkYwMTHBzJkzceDAAeTm5j61fkpKCry8vODs7AxtbW20bNkS/fr1Q3x8PIDSgtXIyKjKxSjADilVgYmJ9DEMDEqnRkb//ltKha3ekj4IAD0AhW/YVE%2BswYOlD2JpWTrt0wdo1Ur6eHl50sd47bV/p0ZG0sfz95c%2BRpMmpVNPT6BnT%2BnjRUZKH8PeHpgzB9izB0hIkD5eRIT0MczNS6dOTkC7dtLHKyqSPkbZB7iBAVC3rvTxapk9e/Yg8j%2B/T/7%2B/ggICHjhtnl5eUhLSyt3WW5uLgoLC2Fj8%2B/fo5YtWyIvLw%2B3b99G27Zt1dbv378/%2Bvfvr7bvn3/%2BGYMf/525cOECDA0NMXr0aFy/fh1WVlYICAiAs7NzhZ8rC1IiIiIiEaQasvf09IRCoVCbZ2ZmVqFtz58/Dx8fn3KXTZ06FQBQ94mDBENDQwBATk7Oc/ebnZ2NqVOnwsDAAH5%2BfgAALS0tdOjQAdOnT4elpSW%2B//57BAQEYOfOnejYsWOF8mVBSkRERFQDmZubw7ysc15JDg4OuHr1arnLLl26hBUrViA3N1d1EVPZUH39%2BvWfuc%2BbN28iMDAQJiYm2LFjh2rdsWPHqq03ZMgQHD58GLGxsRUuSHkOKREREZEIUp1DKpU33ngDenp6uHHjhmpeUlIS9PT00Lx583K3OXHiBIYPH47evXtj8%2BbNaNCggWrZ5s2b8fvvv6utX1BQgDp16lQ4JxakRERERCJoWkFqaGiIgQMHIiIiAllZWcjKykJERAQGDRoEg3Iu3Dh37hymTJmC4OBgzJkzB7q66gPsqampWLBgAZKTk1FUVIR9%2B/YhISEBQ4cOrXBOLEiJiIiIXjGhoaFo3rw5Bg8ejAEDBqBJkyYICQlRLXd1dcW6desAAOvWrUNRURE%2B/fRT2Nvbq37Khupnz56NPn36YOTIkejSpQu%2B%2BeYbbNiwAdbW1hXOh%2BeQEhEREYmgifchrV%2B/PsLCwhAWFlbu8iNHjqj%2BXVaYPou%2Bvj7mzZuHefPmVTkfFqREREREImhiQVrTcMieiIiIiGTFDikRERGRCOyQiscOKRERERHJih1SIiIiIhHYIRWPBSkRERGRCCxIxeOQPRERERHJih1SIiIiIhHYIRWPHVIiIiIikhU7pEREREQisEMqHgtSIiIiIhFYkIrHIXsiIiIikhU7pEREREQisEMqHjukRERERCQrdkiJiIiIRGCHVLxXqkN6%2B/ZtuVMgIiKiWqakRJqfV0mN6ZAqFAqkp6dDV7c0JUEQYG1tjdGjR2P48OGi93/p0iWMGDECiYmJAIC5c%2BcCAMLDw6u0P6VSibVr1%2BLEiRN48OABGjRoAEdHRwQEBMDU1FT1nPz9/eHu7i46fyIiIqLaqkZ1SBcsWICEhAQkJCTgzJkzmDJlCsLDw7FhwwbR%2B/7nn39QWFj4ErIE/vrrLwwePBglJSXYtWsXEhIS8M033%2BDvv//G%2B%2B%2B/j%2Bzs7JcSh4iIiGo%2BdkjFq1EF6ZP09fXh4uKCOXPmIDIyEtnZ2cjIyMDMmTPRs2dP9OrVCyEhIWrF3759%2B%2BDu7g4HBwfY29tjwoQJyMrKQnJyMsaNGwcAsLe3R0JCAgAgMzMTgYGBcHBwQK9evbBz507VvmJjY%2BHq6orOnTtj4MCBWLNmjWrZp59%2BCjs7OyxYsAAWFhYAgMaNG2Pp0qVo27Ytrl%2B/rlr34sWL8PLyQqdOneDq6oozZ86olsXFxcHLywvdu3fHW2%2B9hdGjR6tOKzhw4ADef/99LFq0CN26dUP37t0xf/58VVFdXFyML7/8Ej179kSPHj0QGhoKLy8vHDhwAACQnZ2NhQsXwtHREd27d8e0adOQkZHxMt8iIiIiopeixgzZP4uTkxM%2B/vhjnD17FqtXr0bz5s0RGxuLwsJCBAcHIyQkBMuXL8eff/6JRYsWYceOHbCzs8P9%2B/fh6%2BuLHTt2ICgoCBs3boSPj4%2BqGN2zZw9OnTqF9evXY8WKFTh48CCCg4PRr18/NGjQALNmzcLGjRvh4OCAS5cuYdSoUejVqxdsbW1x8uRJLF68%2BKlc69Spg5UrV6rN%2B/XXX7Fx40ZYWlrik08%2Bwccff4zY2Fjcv38fU6dOxYoVK6BQKPDgwQP4%2B/tj9erV%2BPzzzwEAf/zxB/r06YOTJ0/i8uXL8PX1RY8ePeDq6orNmzcjKioK27dvR7NmzbBq1SokJCRgxIgRAIB58%2BYhJycHBw4cgIGBAcLDw%2BHv74/du3dDS0urwq%2B/UqlEenq62rycHDOYmZlX6n2sLH199SlVgaWl9DHMzNSnUsvPlz6Gubn6VGpFRdLHaNRIfSo1e3vpY9jaqk%2BlVh3/H4yN1adSKy6WPkZ1Pqe0NOljPMOr1s2UQo0vSBs2bAgAuHDhAi5evIitW7eiXr16AIA5c%2BZgwIAB%2BPjjj2FjY4PDhw%2BjSZMmePjwIZRKJYyNjZH2nP%2BgZd1FAHB1dcXcuXORnJyMBg0awMDAAPv27UNJSQk6deqEs2fPQltbG%2Bnp6SgpKYFZBf8Ae3p6olmzZgCAAQMGqDqYxsbGOHLkCJo1a4bs7Gzcv38fDRs2VMvXwMAAEydOhJaWFuzs7NCmTRvcunULQGk3ePz48WjVqhUAICgoCN999x2A0s5vbGwsjh49ChMTEwClBWqXLl1w8eJFtG/fvmIvPkoL98jISLV5U6b4IzAwoML7EMPKqlrCVCs9vWoK5O9fTYEAeHpWX6zq4u0tdwYvn59f9cSZM6d64gDA119XX6zq4uoqdwYv35Ah0sdYskT6GM/AglS8Gl%2BQZmVlAQBatGiB4uJiODo6qi3X19dHcnIybG1tsWPHDkRHR6Nu3bpo06YNsrOzIQjCM/dtZGSkth%2BgdCjcwMAAu3fvxpo1azBjxgxkZ2ejf//%2B%2BOijj2BkZAQ9Pb2nuoZlMjMzYWxsrOpCPhlDT08PxY%2BPSPX09HD48GF888030NLSgo2NDbKzs1UXdQGAiYmJWjdTT09P9XxSU1Nh9US1pqOjA8vHHbGUlBQAUHVLn1zn7t27lSpIPT09oVAo1Obl5JjhcV0sGX390mI0JQUoKJA2FgA0aSJ9DKC0GH1JpzK/ONb6yBevJJaZWWkxumcP8IzfiZequjqk3t7AV18BSqX08aqrQ%2BrnB2zbVj1dpD17pI9ha1tajI4cCVy5In28adOkj2FsXFqMHjkCPP7bJ6nq6pAOGQJERVXPcyKNVeML0ri4ONStWxempqYwMDDA6dOnoaOjAwAoKChAcnIyrK2tsWXLFvz222%2BIjo5WXeU%2BceLEKsXMzs6GUqnEsmXLAACXL1/G9OnTsW7dOsyZMwe9evVCTEwM3Nzc1LYrKCjAe%2B%2B9B29vb0yYMOG5MY4ePYqdO3di9%2B7dsLa2BgCEhYXh2rVrFcrR0tIS9%2B7dUz0WBAGpqakAgEaPh%2BWOHj2q1sm9ceMGmjZtWqH9lzE3N4f5f4aqLl8G8vIqtZsqKyiovli1zhP/PySXnl498arzP4NSWXpEJLXqOkIBSovRu3elj/P41KhqceVK9cSrjoOTMllZtedgqExWlqxD6lJjh1S8GntRU0FBAWJiYrB8%2BXJMmzYNnTp1grW1NcLDw5GTk4O8vDx89tln8PPzQ3Fxsaq7qKenh6KiIhw6dAgnT55UXQRUp04dAKVX279ITk4Oxo0bh%2BjoaAiCAHNzc2hra6tOH5g9ezbOnj2LsLAw1RD77du34e/vj3r16sGzAsOX//zzD7S1tWFgYABBEPDLL7/g4MGDFb4TgKenJ7Zs2YJbt26hoKAAq1evhvLxB1ijRo3g5OSETz/9FA8ePEBhYSHWrl0LDw8P/O9//6vQ/omIiIiqS43qkIaGhiIsLAxAaQHZokULLFiwAO%2B%2B%2By4AYP369ViyZAlcXFyQn58POzs7bN26FXXq1MEHH3yAa9euwdnZGXXq1EG7du0wcuRInDp1CgBgY2ODzp07o3fv3lixYsVz82jUqBFWrlyJL7/8EiEhITAwMMC7774Lv8fnX7Vo0QL79u3D6tWr4eHhgezsbBgZGcHR0RGfffaZ2jD9swwdOhRnz56Fq6srdHR00KJFC/j6%2BmLXrl0oqMAYta%2BvL9LT0%2BHl5QUdHR28%2B%2B67aNy4MfQen6C4dOlSLFu2DG5ubsjOzkbr1q2xadOmCp/7SkRERBXDDql4WsLzTrKkGuv8%2BfOwsrJSnZ4gCAK6deuG5cuXo2fPnpLGvnxZ0t0DAAwMgDfeAG7dqp5R2sfXhkmuWs8hDZ0nfRBLy9KLpyIja8%2BQvZUVMGMGsGxZ7Rmyb9Kk9EKjJUuqZ8g%2BshrOX7a3B/74A%2BjUqXqG7CMipI/B85fFq84L6p6wfr00%2B33B2X%2B1So0dsqfni46OxuzZs/HPP/%2BgqKgIW7duBQB07NhR5syIiIiIKocFqYYKCgqCqakp%2BvXrh7fffhs//fQTNm/erLolFhEREVUPflOTeDXqHFKquPr162Pp0qVyp0FEREQkGgtSIiIiIhFetW6mFFiQEhEREYnAglQ8nkNKRERERLJih5SIiIhIBHZIxWOHlIiIiIhkxQ4pERERkQjskIrHgpSIiIhIBBak4nHInoiIiIhkxQ4pERERkQjskIrHDikRERERyYodUiIiIiIR2CEVjwUpERERkQgsSMXjkD0RERERyYoFKREREZEIJSXS/Ejp0aNHCA4OhoODAzp37ozZs2cjJyfnmeuHhoaiffv2sLe3V/3s2bNHtfy7775Dv3790LFjR7i7uyMhIaFS%2BbAgJSIiIhJBEwvSsLAwpKamIjY2FseOHUNqaioiIiKeuf6FCxcQFhaGhIQE1Y%2BnpycA4PTp0wgLC0N4eDji4%2BMxZMgQTJo0Cbm5uRXOhwUpERER0SskNzcX0dHRCAwMhJGREUxMTDBz5kwcOHCg3CKyoKAA165dQ/v27cvd3969e%2BHq6orOnTtDT08Pfn5%2BaNiwIWJiYiqcEy9qIiIiIhJBqm6mUqlEenq62jwzMzOYm5u/cNu8vDykpaWVuyw3NxeFhYWwsbFRzWvZsiXy8vJw%2B/ZttG3bVm39K1euoKioCCtXrsTZs2fx2muvYdiwYRg7diy0tbVx48YNDBs2TG2bVq1a4cqVKxV9qixIqfKys6WPUfbL/ehR6Y/U9GIOSR%2BkQQPAyQl6v/0MPHwofbz9%2B6WP0a4d4O8P/PgjcOmS9PFGjpQ%2BRv36/04bNJA%2B3vHj0sco%2ByW6dq30R2rPGfZ7acr%2BIE%2BbBiiV0sebOVP6GPb2gLc38MUXQCXPv6uSSZOkj1H2YZ6aCiQnSx%2BvltmzZw8iIyPV5vn7%2ByMgIOCF254/fx4%2BPj7lLps6dSoAoG7duqp5hoaGAFDueaT//PMP3n77bXh7e2P58uW4fPkypkyZAm1tbYwdOxY5OTmq7csYGBjgUSX%2BgLMgJSIiIhJBqg6pp6cnFAqF2jwzM7MKbevg4ICrV6%2BWu%2BzSpUtYsWIFcnNzUa9ePQBQDdXXLzsof0LPnj3Rs2dP1WM7Ozv4%2BvoiJiYGY8eOhaGhIfLy8tS2ycvLQ8OGDSuUK8CClIiIiEgUqQpSc3PzCg3PV9Ybb7wBPT093LhxA2%2B99RYAICkpCXp6emjevPlT6x8/fhwZGRnw8vJSzSsoKICBgQEAoHXr1rh%2B/braNjdu3ECfPn0qnBMvaiIiIiJ6hRgaGmLgwIGIiIhAVlYWsrKyEBERgUGDBqmKzCcJgoDFixfj999/hyAISEhIwI4dO1RX2Xt4eCA6OhqnTp1CYWEhtm3bhszMTPTr16/CObFDSkRERCSCJn5TU2hoKJYsWYLBgwejsLAQffv2xccff6xa7urqisGDB2PixIno168fgoOD8cknnyAtLQ2mpqYICAjAe%2B%2B9BwDo3r07QkNDVctbtWqFjRs3wsjIqML5sCAlIiIiesXUr18fYWFhCAsLK3f5kSNH1B57eXmpDdn/13vvvacqUKuCBSkRERGRCJrYIa1pWJASERERicCCVDxe1EREREREsmKHlIiIiEgEdkjFY4eUiIiIiGTFDikRERGRCOyQiseClIiIiEgEFqTiccieiIiIiGTFDikRERGRCOyQiscOKRERERHJih1SIiIiIhHYIRWPBSkRERGRCCxIxeOQPRERERHJih1SIiIiIhHYIRWPHVIiIiIikhU7pEREREQisEMqHgtSIiIiIhFYkIr3yhWkCoUC6enp0NUtfeqCIEBbWxtt27bF/Pnz0a5dO5kzlI5CoYC/vz/c3d3lToWIiIhI5ZU8h3TBggVISEhAQkICzp07h2PHjuG1116Dv78/SniYQ0RERJVQUiLNz6vklSxI/8vU1BSenp5ISUnB33//jYyMDMycORM9e/ZEr169EBISguzsbNX6v/32Gzw8PGBvbw%2BFQoGdO3eqlh0/fhzu7u7o1KkT%2Bvfvj23btqGkpAR37tyBra0tbt68qVo3KSkJb775JpRKJQRBwI4dO9C/f3906dIFI0eORGJiompdhUKBkJAQ9OzZE25ubigpKcHFixfh7e2Nrl27wsXFBdu2bYMgCABKO7/r1q1Dr1690KVLFyxZsgTFxcXV8GoSERERVc4rN2RfntTUVOzcuRMdOnSAkZERvLy80Lx5c8TGxqKwsBDBwcEICQnB8uXLcevWLUycOBGhoaFwc3PDlStX4OPjA2tra%2Bjp6SEoKAhLly6Fi4sLrl69ismTJwMA/Pz84ODggEOHDmHatGkAgAMHDqB3794wNzfHrl27sHXrVqxduxYtW7bEoUOHMGbMGBw9ehSmpqYAgD///BNHjx4FAKSnp8PX1xfTpk3Dli1b8Ndff2Hy5MkwMDCAl5cX9u/fj%2B3bt2PTpk1o3bo1IiMjcf/%2B/Uq/NkqlEunp6WrzHj0yg6mpuZiX/IUMDNSnkmvQQPoY9eurT6VWHaeftGihPpVa48bSx3j8%2B6aaSs3GRvoYzZqpT6VmLu3nAwDA2Fh9KjV7e%2Blj2NqqT6XWtKn0MRo1Up9KKTlZ%2BhjP8Kp1M6WgJZS11F4RCoUCmZmZ0NPTQ1FREQoLC9G4cWP069cPEyZMQHJyMt5//32cOXMG9erVAwDcunULAwYMwKlTp7Br1y78%2Buuv%2BOabb1T7vHLlCszNzREeHo78/HysWLFCtWzXrl346quv8P333%2BPw4cNYtmwZ4uLiUFJSAicnJ4SGhuKdd97Bu%2B%2B%2BCx8fH3h5eam29fLygouLCz744AMoFAoMHz4ckyZNAgBs3LgRx48fx549e1Tr79mzBzt37kR0dDS8vb3RqVMnVfFbXFyMnj17Yvbs2ZU6h3TVqlWIjIxUmzdlij8CAwMq8aoTERFJbPJkYM0aWUL7%2Bkqz3%2B3bpdlvTfRKdkhDQ0Ph7u6OgoIC7NixA%2BvWrYOjoyMaNmyI33//HcXFxXB0dFTbRl9fH8nJyVAqlbC0tFRbZvv4aDYzMxNt27ZVW9akSROkpKQAAFxcXBAWFobTp08jPz8fgiDAyckJAJCSkoIlS5YgIiJCtW1RURHat2%2Bvemz%2BRNchJSUFFy9eRJcuXVTzSkpKoKOjA6C0s2lhYaFapqOj81TeFeHp6QmFQqE2LyPDDBcvVnpXlWJgALRsCSQlAXl50sYCgDfTf5Y%2BSP36QJcuwP/9H/DEKSCSeeLASDItWgDLlgEzZgBPnI4imQEDpI9hagoMGwbs3w9kZEgf78wZ6WM0awaEhgILFgB37kgf7/HnmqSMjQFXV%2BDIESArS/p4X3whfQxbW%2BDrr4GRI4ErV6SPN3y49DEaNQI%2B%2BADYsgVIS5M%2BHmmsV7IgLaOvr4%2BxY8fi4cOHmDx5Mnbv3o3GjRvDwMAAp0%2BfVhV3BQUFSE5OhrW1NSwsLHDixAm1/ezfvx8mJiawsrLCnf982CcnJ8PMzEwVb8iQITh8%2BDByc3Ph5uamutq/cePGCAwMhKurq2rbO3fuwMjISPVYS0tL9e/GjRvDwcEBmzdvVs178OABcnJyVMuTnxi%2BEAQBSqWy0q%2BRubm5WiEMAPHxwKNHld5VleTlVVOshw%2BrIchj2dnVE%2B/SJeljlLl5s3ridewofYwyGRlAFU5zqbRr16SPUebOneqJV513K8nKAqrw2VZpCQnSxyhz5Ur1xOvWTfoYZdLSZB1SlxqH7MXjRU0AgoKC0KZNG0yfPh02NjawtrZGeHg4cnJykJeXh88%2B%2Bwx%2Bfn4oLi6Gq6srLl26hIMHD6K4uBiJiYkIDw%2BHrq4uhg0bhri4OBw9ehTFxcW4dOkSNm7ciGHDhqlijRgxAsePH0dcXBw8PDzU5q9duxZJSUkAgJMnT8LV1RXx8fHl5jx48GCcO3cOUVFRKCoqglKpxMSJExEeHg4AGD58OL799lskJCSgsLAQa9eufepcUCIiIqKa4JXukJbR0dHB559/Djc3Nyxbtgzr16/HkiVL4OLigvz8fNjZ2WHr1q2oU6cOmjVrhg0bNmDZsmUICwuDiYkJ5s6di169egEAVqxYgdWrV2PevHlo2LAh3n//fYwbN04Vq3Xr1mjevDl0dXXRvHlz1Xw/Pz8IgoDJkydDqVSiUaNGCAkJQd%2B%2BfcvN2crKCps2bUJERAQWLVoEHR0dODk5Yf78%2BQCAQYMG4cGDB5g2bRoePnyIAQMGoE2bNtK9iERERK8odkjFe%2BUK0ri4uHLnN23aFGfPnlU9/uI55wt169YNe/fuLXdZ3759n1lElnnygqgyOjo6GDt2LMaOHVvuNuXlbW9vj127dj0zjre3N7y9vZ%2BbCxEREYnDglQ8DtkTERERkaxeuQ4pERER0cvEDql47JASERERkazYISUiIiISgR1S8ViQEhEREYnAglQ8DtkTERERkazYISUiIiISgR1S8ViQEhEREYnAglQ8DtkTERERkazYISUiIiISgR1S8dghJSIiIiJZsUNKREREJAI7pOKxICUiIiISgQWpeByyJyIiIiJZsUNKREREJAI7pOKxQ0pEREREsmKHlIiIiEgETeyQPnr0CGFhYYiLi0NRURH69u2L0NBQ1KtX76l1Q0JCEB0drTYvLy8PPXr0wObNmwEAAwcOxL1796Ct/W%2Bvc9%2B%2BfWjZsmWF8mFBSkRERCSCJhakYWFhSE1NRWxsLIqLixEUFISIiAiEhoY%2Bte7ChQuxcOFC1eNff/0VM2bMwNy5cwEA2dnZuHXrFn788UdYWVlVKR8O2RMRERG9QnJzcxEdHY3AwEAYGRnBxMQEM2fOxIEDB5Cbm/vcbbOysjBz5kzMnz8frVu3BgAkJibCyMioysUowA4pERERkShSdUiVSiXS09PV5pmZmcHc3PyF2%2Bbl5SEtLa3cZbm5uSgsLISNjY1qXsuWLZGXl4fbt2%2Bjbdu2z9xvREQE2rdvjyFDhqjmXbhwAYaGhhg9ejSuX78OKysrBAQEwNnZ%2BYV5lmFBSpVWgd8D0fT1S6fGxkD9%2BtLHQ8d3qyHIYz17Vk%2Bcn3%2BWPkaTJqXTXr2A5s2lj5efL32MwsJ/p9URT6GQPoaFRem0a9d/3zMpFRVJH6O4%2BN9pdcSbNEn6GE2blk6HDwe6dZM%2B3tq10sewtweCg4G9e4GEBOnjrVkjfYxqtGfPHkRGRqrN8/f3R0BAwAu3PX/%2BPHx8fMpdNnXqVABA3bp1VfMMDQ0BADk5Oc/cZ3JyMqKiorB37161%2BVpaWujQoQOmT58OS0tLfP/99wgICMDOnTvRsWPHF%2BYKsCAlIiIiEkWqDqmnpycU/zloNTMzq9C2Dg4OuHr1arnLLl26hBUrViA3N1d1EVPZUH3953SB9u/fD3t7%2B6c6qGPHjlV7PGTIEBw%2BfBixsbEsSImIiIiqg1QFqbm5eYWG5yvrjTfegJ6eHm7cuIG33noLAJCUlAQ9PT00f85o17Fjx/DBBx88NX/z5s1o164dunfvrppXUFCAOnXqVDgnXtRERERE9AoxNDTEwIEDERERgaysLGRlZSEiIgKDBg2CgYFBuds8ePAASUlJ6Nq161PLUlNTsWB40rpVAAAgAElEQVTBAiQnJ6OoqAj79u1DQkIChg4dWuGc2CElIiIiEkETb/sUGhqKJUuWYPDgwSgsLETfvn3x8ccfq5a7urpi8ODBmDhxIgDg7t27AIBGjRo9ta/Zs2dDW1sbI0eOxD///INWrVphw4YNsLa2rnA%2BLEiJiIiIXjH169dHWFgYwsLCyl1%2B5MgRtccdOnR45jmp%2Bvr6mDdvHubNm1flfFiQEhEREYmgiR3SmoYFKREREZEILEjF40VNRERERCQrdkiJiIiIRGCHVDx2SImIiIhIVuyQEhEREYnADql4LEiJiIiIRGBBKh6H7ImIiIhIVuyQEhEREYnADql47JASERERkazYISUiIiISgR1S8ViQEhEREYnAglQ8DtkTERERkazYISUiIiISgR1S8dghJSIiIiJZsUNKREREJAI7pOKxICUiIiISgQWpeJUqSBUKBdLT06GrW7qZIAjQ1tZG27ZtMX/%2BfLRr106SJGsChUIBf39/uLu7AwAKCgqwdetWHD58GPfu3UOdOnXw1ltvwd/fH2%2B%2B%2BSYAYO7cuQCA8PBw2fImIiIiqukqfQ7pggULkJCQgISEBJw7dw7Hjh3Da6%2B9Bn9/f5S8IocI%2Bfn5GD16NE6ePIklS5YgPj4eP/zwA%2Bzs7DB69Gj8%2BeefcqdIRERE1aSkRJqfV4noi5pMTU3h6emJlJQU/P3338jIyMDMmTPRs2dP9OrVCyEhIcjOzlat/9tvv8HDwwP29vZQKBTYuXOnatnx48fh7u6OTp06oX///ti2bRtKSkpw584d2Nra4ubNm6p1k5KS8Oabb0KpVEIQBOzYsQP9%2B/dHly5dMHLkSCQmJqrWVSgUCAkJQc%2BePeHm5oaSkhJcvHgR3t7e6Nq1K1xcXLBt2zYIggCgtPO7bt069OrVC126dMGSJUtQXFys2t9XX32Fu3fvYt26dWjXrh20tbVRr149TJo0CV5eXrh27Zpq3czMTAQGBsLBwQG9evVSe75JSUmYMGECnJycYGdnh3fffRc//fQTAODu3bto06YN9u7dC4VCgc6dO2PMmDG4f/%2B%2BavsjR46onvOHH36Ijz/%2BWNWVfdFrQkRERFRTiD6HNDU1FTt37kSHDh1gZGQELy8vNG/eHLGxsSgsLERwcDBCQkKwfPly3Lp1CxMnTkRoaCjc3Nxw5coV%2BPj4wNraGnp6eggKCsLSpUvh4uKCq1evYvLkyQAAPz8/ODg44NChQ5g2bRoA4MCBA%2BjduzfMzc2xa9cubN26FWvXrkXLli1x6NAhjBkzBkePHoWpqSkA4M8//8TRo0cBAOnp6fD19cW0adOwZcsW/PXXX5g8eTIMDAzg5eWF/fv3Y/v27di0aRNat26NyMhItUIwLi4OTk5OqF%2B//lOvx5w5c9Qenzp1CuvXr8eKFStw8OBBBAcHo1%2B/fmjUqBECAgLQt29fREZGQhAERERE4JNPPoGzs7Nq%2B59//hkHDx5EQUEBxowZgzVr1mDhwoVISEjAnDlzsHLlSvTp0wc//fQTgoKCMHjwYADA119//cLXpCKUSiXS09PV5hUXm8HMzLzC%2B6iKx2eFqKZUBU2aSB/D3Fx9KrU6daSPYWamPpVadfwnL/udr8TvvigGBtLHMDZWn0qtOtpVjRqpT6Vmby99DFtb9amUEhKkj/EMr1o3UxJCJTg7Owt2dnZC586dhbfeekto166doFAohMWLFwtZWVnC%2BfPnhXbt2gnZ2dmqbW7evCnY2NgIWVlZwqpVqwRPT0%2B1fV6%2BfFnIzMwUZs2aJQQGBqot27lzp9C/f39BEAQhOjpacHJyEkpKSoSioiKhV69ewg8//CAIgiAMHDhQ2L17t9q2np6ewubNm1V5r1mzRrVsw4YNwogRI9TW/%2Babb4RBgwYJgiAIo0ePFpYvX65aVlRUJDg4OAj79%2B8XBEEQ%2Bvfvr7b8WebMmSNMmDBB9Tg/P1%2BwsbER4uPjBUEQhDt37gj5%2BflCfn6%2BcPPmTWHVqlVCmzZtBEEQhOTkZMHGxkZISEhQbb98%2BXLB29tbEARBmD9/vjBt2jS1eIGBgcKcOXMq9JpU1MqVKwUbGxu1nxUrVlZqH0RERJKrXEnzUjVrJs3Pq6TSh%2BahoaFwd3dHQUEBduzYgXXr1sHR0RENGzbE77//juLiYjg6Oqpto6%2Bvj%2BTkZCiVSlhaWqots3181JSZmYm2bduqLWvSpAlSUlIAAC4uLggLC8Pp06eRn58PQRDg5OQEAEhJScGSJUsQERGh2raoqAjt27dXPTZ/ooOTkpKCixcvokuXLqp5JSUl0NHRAVDaFbSwsFAt09HRUcvbzMwMSqWy3Nfn4cOHMDQ0hL6%2BPgDAyMhI7XUAoBr%2Bv3LlCiZPnoz09HS0bNkSxsbGqtMGyjzZzdTV1VUtT01NfeoisqZNmyIjI6PCr0lFeHp6QqFQqM0rLjZDamqldlNpurqlDar0dKCoSNpYAGBhWih9EADQ0wMKqynWypXSxzA3B7y9ga%2B%2BAp7xO/FSVVeH1NMT2LOn9D%2Bg1KqrQ%2BrhAezbBzz%2BjJBUdXVIhwwBoqKArCzp40n9oQeUdkY/%2BADYsgVIS5M%2B3t690sewtQW%2B/hoYORK4ckX6eKSxqvxJqK%2Bvj7Fjx%2BLhw4eYPHkydu/ejcaNG8PAwACnT59WFXcFBQVITk6GtbU1LCwscOLECbX97N%2B/HyYmJrCyssKdO3fUliUnJ8Ps8bCZvr4%2BhgwZgsOHDyM3Nxdubm6qq/0bN26MwMBAuLq6qra9c%2BeOWjGopaWl%2Bnfjxo3h4OCAzZs3q%2BY9ePAAOTk5quXJycmqZYIgqBWgCoUCmzZtQnZ29lPD9vPnz0dubq7avsuTlpaGqVOnIjIyUlXwxcbG4tixY8/droyVlRXu3bunNu/evXuqorcir0lFmJubqxXzAPDXX0BBQaV2U2VFRdUXq9a5e7f6YimV1RPP0FD6GGXS04H//I5JQk9P%2BhhlMjKqp7CqW1f6GGWysqqneHvib4Lk0tKqJ151DnFfuSLrkLrUOGQvnuiLmoKCgtCmTRtMnz4dNjY2sLa2Rnh4OHJycpCXl4fPPvsMfn5%2BKC4uhqurKy5duoSDBw%2BiuLgYiYmJCA8Ph66uLoYNG4a4uDgcPXoUxcXFuHTpEjZu3Ihhw4apYo0YMQLHjx9HXFwcPDw81OavXbsWSUlJAICTJ0/C1dUV8fHx5eY8ePBgnDt3DlFRUSgqKoJSqcTEiRNVt2caPnw4vv32WyQkJKCwsBBr165VO49y5MiRMDU1xaRJk3DlyhUIgoAHDx5g2bJl%2BO233xAYGPjC1y0nJwfFxcUwfPwH9saNG1i9ejWA0iL%2BRYYPH44ffvgBJ0%2BeRHFxMU6cOKFWzFb2NSEiIiKSi%2BixIh0dHXz%2B%2Bedwc3PDsmXLsH79eixZsgQuLi7Iz8%2BHnZ0dtm7dijp16qBZs2bYsGEDli1bhrCwMJiYmGDu3Lno1asXAGDFihVYvXo15s2bh4YNG%2BL999/HuHHjVLFat26N5s2bQ1dXF82bN1fN9/PzgyAImDx5MpRKJRo1aoSQkBD07du33JytrKywadMmREREYNGiRdDR0YGTkxPmz58PABg0aBAePHiAadOm4eHDhxgwYADatGmj2r5OnTrYtWsXVq9ejcDAQGRkZMDAwAAdO3bEzp07VfchfZ4WLVpg9uzZmDVrFnJzc9G4cWOMGDECn3/%2BOa5du/bCTmaHDh2wYMECfPLJJ3jw4AG6dOmC7t27Q%2B9xt6WyrwkRERFVDTuk4mkJ/z1pkTTCrVu3UFJSgpYtW6rmBQQEoEWLFqo7EUjlr78k3T0AQF8fsLAoHV2sjiF7a8taeA7p7NnSx2jSBJgxA1i2rPYM2VtaAv7%2BQGRk7Rmyt7AAJk4E1q2rPUP2jRoBfn7Atm3VM2RfHR98TZsCwcHA4sXVM2S/dq30MeztgT/%2BADp1qp4he5lKmicuO3mpquPXtaYQPWRP8rhx4wZ8fX1V592ePn0aJ0%2BefOqCMiIiIqKajnd51FD9%2BvXDjRs34OPjg4cPH8LKygphYWHo1KmT3KkRERG9UjhkLx4LUg02adIkTJo0Se40iIiIXmksSMXjkD0RERERyYodUiIiIiIR2CEVjx1SIiIiIpIVO6REREREIrBDKh4LUiIiIiIRWJCKxyF7IiIiIpIVO6REREREIrBDKh47pEREREQkK3ZIiYiIiERgh1Q8FqREREREIrAgFY9D9kREREQkK3ZIiYiIiERgh1Q8dkiJiIiISFYsSImIiIhEKCmR5qc65ObmwtPTEwcOHHjueufPn8fw4cNhb28PhUKBvXv3qi3/7rvv0K9fP3Ts2BHu7u5ISEioVB4sSImIiIhE0NSC9Pr16xg1ahTOnTv33PUePnyI8ePHw83NDfHx8fj000%2BxePFi/PnnnwCA06dPIywsDOHh4YiPj8eQIUMwadIk5ObmVjgXFqREREREr5jff/8dvr6%2BGDp0KCwtLZ%2B77rFjx2BkZIRRo0ZBV1cX3bt3x%2BDBg7Fr1y4AwN69e%2BHq6orOnTtDT08Pfn5%2BaNiwIWJiYiqcDy9qIiIiIhJBqm6mUqlEenq62jwzMzOYm5u/cNu8vDykpaWVu8zMzAy2trb46aefUKdOHWzduvW5%2B7p%2B/TpsbGzU5rVq1Qr79u0DANy4cQPDhg17avmVK1demGcZFqRUadbW0sdQKpVYtWoPPD09YW394l888fQkj6BUKrFnT%2BlzqsiHiWhffCF5CKVSiT2rVsHT27t6nlM1UD2n6nqfqgGfk2ZQPacPP6ye57RmjeQhVM/p%2B%2B9rzftUHkGQZr%2BrVu1BZGSk2jx/f38EBAS8cNvz58/Dx8en3GWrV6/GO%2B%2B8U%2BE8cnJyYGhoqDbPwMAAjx49qtDyimBBSjVSeno6IiMjoVAoas2HGJ%2BTZuBz0gx8TpqhNj6n6uTp6QmFQqE2z8zMrELbOjg44OrVqy8lD0NDQ/zzzz9q8/Ly8lCvXj3V8ry8vKeWN2zYsMIxWJASERER1UDm5uY1opC3sbHBb7/9pjbvxo0baN26NQCgdevWuH79%2BlPL%2B/TpU%2BEYvKiJiIiIiJ6pX79%2ByMjIwLZt21BYWIhTp04hOjpadd6oh4cHoqOjcerUKRQWFmLbtm3IzMxEv379KhyDBSkRERERqXF1dcW6desAAA0bNsSWLVvw/fffw8HBAR999BE%2B%2BugjdOvWDQDQvXt3hIaG4pNPPsHbb7%2BNI0eOYOPGjTAyMqpwPA7ZU41kZmYGf3//Cp8rown4nDQDn5Nm4HPSDLXxOdVGcXFxT807cuSI2uMOHTrgm2%2B%2BeeY%2B3nvvPbz33ntVzkFLEKS6NoyIiIiI6MU4ZE9EREREsmJBSkRERESyYkFKRERERLJiQUpEREREsmJBSkRERESyYkFKRERERLJiQUpEREREsmJBSkRERESyYkFKRERERLJiQUpEREREsmJBSjVeQUGB3CkQERGRhHTlToCozIwZM7Bo0SIYGhqq5iUlJWH69Ok4dOiQjJmJk5%2Bfj4cPH8LIyAj6%2Bvpyp1NlBw8efOE6bm5u1ZCJNLKyshAVFYWUlBRMnToV8fHxcHZ2ljstKselS5dw9%2B5dODk54Z9//oGJiYncKRGRSCxIqcZISUmBu7s7Vq5cidatW2P37t1YsmQJ3n33XblTq5KzZ88iIiIC58%2BfhyAI0NHRgb29PWbNmgU7Ozu506u0lStXAgBKSkqQlpYGIyMjWFpaQqlUIiMjA23atNHYgvTixYsYM2YMWrRogatXr8LHxwdTp05FaGgohg0bJnd6VZaYmIj27dvjf//7H9avXw9jY2P4%2BvpCV1czP/ozMzMxZcoUJCYmQk9PD/v27YOHhwe2bNkCe3t7udOrFB7gEanTEgRBkDsJIgAoLi7GihUrsHPnTrz55pu4desWFi5cCIVCIXdqlXb27FmMGTMGLi4ucHZ2RsOGDZGZmYm4uDj8/PPP%2BPrrr9G2bVu506ySJUuWQF9fH1OnToW2dulZP2vWrMHdu3fx2WefyZxd1YwePRru7u5wd3dH165dER8fj5MnT2Lx4sWIiYmRO70qWbt2LTZt2oSzZ89i9uzZSExMhLa2Nrp374758%2BfLnV6VzJgxA/Xq1UNwcDD69OmD%2BPh4rF27Fr/88gt2794td3qVUva59rwDvIoUrTXRfw/woqKi4OrqqvEHeCQxgagGSUhIEBwdHYU333xTmDRpkvD333/LnVKV%2BPr6CmvWrCl32apVq4SAgIBqzujl6dq1q1BQUKA2r7CwUOjUqZNMGYnXtWtXoaioSPXvMpr8nN59913h8uXLQn5%2BvmBnZydcvnxZyMjIEHr06CF3alXWo0cP4dGjR4Ig/Ps%2BFRQUCF26dJEzLVHCw8OF5cuXC8XFxap5q1evFoKDg2XMSpxRo0YJ%2B/fvFwRBUL03v/zyizBw4EA506Iajhc1UY3x%2Beefw9vbG0OHDkVcXByKioowaNAgnDhxQu7UKu3SpUvw9vYud5mPjw/OnTtXzRm9PHXq1EFSUpLavMTERLz%2B%2BusyZSSesbExbt68qTbv5s2bMDU1lSkj8ZRKJWxtbXH27Fm89tprsLW1hYmJCXJzc%2BVOrcr09PSQl5cHABAeD%2B7l5OSgXr16cqYlyv79%2B%2BHv768abQCA8ePHIzY2VsasxLl27Rree%2B89AICWlhYAoHfv3khLS5MzLarhNPNEIqqVDh8%2BjM2bN%2BPtt98GAGzYsAHbt29HYGAgzp8/L3N2lVNYWIj69euXu%2Bz1119HTk5ONWf08owaNQoffvghhg8fDktLSyQnJ%2BPbb79FYGCg3KlV2ciRIzFhwgRMnDgRRUVFiImJwdq1a%2BHp6Sl3alXWqFEjxMfH4%2BDBg%2BjevTuA0t%2Bxpk2bypxZ1SkUCsyaNQsfffQRtLS0kJmZiUWLFsHR0VHu1Kqs7ADP1tZWNa%2B2HOC1bt1aNU/TD/BIeixIqcY4dOgQjIyM1Ob5%2BvrCwcFBpoyqrqwr8CyCBp%2B6PXHiRJiamiIqKgpHjx6FhYUFQkJC4OrqKndqVebj4wMdHR1s374dJSUlWLFiBTw9PeHn5yd3alUWEBCAsWPHwsDAALt378bvv/%2BO4OBgrFq1Su7UqmzGjBkIDg7GgAEDAAC9evWCo6MjFi5cKHNmVccDPKJSvKiJapSkpCTs3r0b9%2B/fR1hYGI4cOYLRo0fLnVal2dvbIyYm5pmFp6urKxISEqo5K3rV5OfnAyjtwmVnZ%2BPRo0cwNzeXOSvxsrKycPfuXTRu3LhWPJ99%2B/YhKioKaWlpsLCwwPDhwzX6AA8Adu3aha%2B//hopKSlo1KiR6gDvyVMTiJ7EgpRqjN9%2B%2Bw0BAQFwdnbGTz/9hCNHjsDd3R1jxozB%2BPHj5U6vUmxtbaGlpfXMglRLSwuXL1%2Bu5qxenm%2B//RY7d%2B5EWloavvvuO4SHh2Px4sUaey5fcHBwufP19PRgbGwMJycndOzYsZqzEi89PR3JyckoLi5Wm9%2B1a1eZMhLnWVedl71PHTt2VLuPMRFpDg7ZU42xfPlyfPHFF3B0dETXrl1hYWGBDRs2ICgoSOMK0h9//FHuFCSzbds27N69Gx9%2B%2BCGWLl2KevXqIS0tDYsXL8aiRYvkTq9K9PT0cODAAbzzzjto2rQp7t27h2PHjqFHjx74%2B%2B%2B/sX37dnz66acadU/cXbt2YdGiRU8dFGnywdCePXtw7tw5mJiYwMrKCqmpqUhPT0fjxo2Rm5sLLS0tbNmyReNuqcYDPCIWpFSD/PXXX%2BjTpw%2BAf8/B7NChAx4%2BfChnWlXy3XffvXAdf3//asjk5du9ezfWrFmDli1bIiIiAg0aNMCqVaswdOhQuVOrstTUVHz55Zd45513VPNOnDiB3bt3Y%2BXKlTh9%2BjQWLVqkUQXp%2BvXrsXjxYri6ukJPT0/udF6KNm3aoGvXrggKClIN/UZGRuLhw4eYP38%2BtmzZgsWLF2PHjh0yZ1pxPMAjKsWClGoMS0tL/PHHH%2BjcubNq3oULF2BhYSFjVlVz%2BvTp5y5/0UVPNdmDBw/wxhtvAPj34iwTExMUFRXJmZYo58%2Bfx/r169Xm9e7dGzNmzAAAODg4ICUlRY7UqqygoECjv%2BmnPMePH8dPP/2kdh7ihAkT4OzsjPnz58PHxwdr1qyRMcPK4wEeUSkWpFRjTJgwAZMmTcL777%2BPwsJCbNy4EV999RWmT58ud2qV9tVXX8mdgmRsbW2xZ88evP/%2B%2B6rCOiYmRu0WL5rG2NgYJ0%2BeVLt90O%2B//66660NycjIaNGggV3pV4uDggFOnTqFbt25yp/JSJScno0WLFqrHKSkpqoOhvLw8jesG8wCPqBQLUqoxXF1dUb9%2BfezatQuWlpY4deoU5s%2Bfj/79%2B8udGj1hzpw58PPzw6FDh/Do0SOMGzcO586dw6ZNm%2BROrcoCAgLg7%2B8PFxcXNGnSBCkpKTh%2B/Dg%2B%2BeQT3Lx5E76%2Bvhpzt4ey8/dyc3MxYcIE9OjR46nbqS1evFiO1ETz8PDA%2BPHjMWHCBFhaWuLevXvYvHkz3N3dkZmZidmzZ2vcPUl5gEdUilfZE1GlpaWlISoqCvfu3UPjxo0xePBgWFpayp2WKAkJCThw4ABSU1NhaWmJESNGoH379rh9%2BzZu3LihNvxYkz3rgpInaWpBWlJSgk2bNmH//v2q98nT0xO%2Bvr5ITExEdHQ0goKCNOpioIsXL8LPzw8tW7ZEYmIiunfvrjrAe%2Butt%2BROr0qOHDmCuXPnlnuAZ2dnpzrAmzBhgtypUg3CgpRkV5v/gBLJ5fz58%2BUWNL/88ovq4kGqGZRKJaKiopCSksIDPHplsSAl2ZUVpA8ePMDJkyfh7OyMpk2bIi0tDT/88ANcXFywbNkymbOkMidOnMCiRYuQkpLy1C2FNPV2QmlpaVi7di1u376NkpIStWWadMX2kzp16oQ//vhDbV52djZ69%2B6tsV/KUFxcjNjY2HLfJ029a4W7uzt27NjxzK8aJnpV8BxSkl1Z93PixIlYuXIl%2Bvbtq1r266%2B/Yt26dXKlRuVYuHAhXFxc4OjoWGu%2BdSU4OBgZGRlwdnbWuItinvTXX3/B1dUVxcXFEASh3PtxdurUSYbMXo7Q0FAcOXIEtra20NX998%2BXJt%2B1QqlUyp3CS1cbD/BIeuyQUo1hb2%2BPs2fPqhU5xcXF6NKli8Z2dGqjzp0748yZM9DR0ZE7lZema9euiI2NhbGxsdypiHb58mX873//w/jx47Fx40a1ZXXq1IGNjY3GfptRz549sW7dOnTo0EHuVF6a0NBQXLhwAf3794e5ublaca2pt%2B364IMPnnmAp6mdbJIeO6RUY1hZWeHo0aNq3%2BF84MABWFtby5gV/ZezszNOnDgBhUIhdyovzWuvvQZ9fX2503gpyrqihw8fRtOmTWXO5uUqKSlBu3bt5E7jpTp58iSA0m%2BhepKWlpbGFqQXLlyoNQd4VH3YIaUa48cff8TUqVNhZ2cHCwsL3L17F9euXcO6devg4OAgd3r02J9//omRI0eiVatWeP3119WWaepw3L59%2B3DixAmMGzcOpqamass09eKSBw8e4KuvvkJaWppq2LSwsBDXrl1DVFSUzNlVzaeffgozMzON%2ByrhV41CoUBUVBTPi6VKYUFKNcrNmzcRExMDpVKputq0tnV5NJ2bmxtee%2B01dOnS5alhe00djrO1tVX9u2zIVBAEjf7e94kTJ%2BL27dswNjZGTk4OLCws8Ouvv2LUqFEVurNFTTRy5Ej88ccfMDQ0fKr79uOPP8qUlXhZWVmq26gFBgYiPj4ezs7OcqdVZbXxAI%2Bkx4KUiCrF3t4eZ86c0eiLf/7red8aY2VlVY2ZvDydO3dGTEwM0tLSsGHDBkRGRuLQoUM4fPjwU%2BeWaorvvvvumcs09as2L168iDFjxqBFixa4evUqoqKi4OrqitDQUAwbNkzu9KqkNh7gkfR4DinVGNevX8fSpUvLvTJTk7sftU3btm2f%2BvpGTVde0VlUVIRr165pbEGqq6uLRo0awdDQEFevXgVQ%2Bm1oS5culTmzqntW0anJX7O5ePFizJ07F%2B7u7ujatSuaNm2K1atXY/HixRpbkPLzmqqCBSnVGCEhITA0NMT48ePVbulCNUv37t3h4%2BODAQMGPPWVlJo6ZP/zzz9jwYIFSEtLU7u3qq6uLi5cuCBjZlVnZWWFxMREtG/fHjk5OcjKyoKuri7y8vLkTq3K7ty5g9WrVz91XuytW7dw6tQpmbOrmmvXruG9994D8G83sXfv3ggKCpIzLVFq4wEeSY9/9anGuHr1Kn755ReeCF/DnTlzBm%2B88Yaq61ZGk%2B8FGRERARcXF7z%2B%2Buu4evUqBg0ahNWrV8PDw0Pu1Kps5MiR8Pb2xpEjRzBo0CD4%2BvpCV1cXXbt2lTu1Kps/fz4EQUDDhg2RmZmJdu3a4eDBg/Dz85M7tSozNjbGzZs31b67/ubNm0%2Bde6lJauMBHkmPBSnVGObm5igoKJA7DXoBLy8vvPPOO6hTp47cqbw0ycnJmDVrFu7evYtTp07BxcUFLVq0wLRp0%2BDt7S13elXi4eEBGxsbmJqaYtasWdi6dStycnLwwQcfyJ1alSUmJuLnn3/GvXv38OWXX%2BKjjz5Cnz59sH79eo3tzo8cORITJkzAxIkTUVRUhJiYGKxduxaenp5yp1ZltfEAj6THgpRqjNGjR2PKlCnw8fF5qjugyV2d2mbBggVwcXGRO42XytjYGNra2rC0tERSUhIAoFWrVrh//77MmYljZ2eHhw8fIjk5GWPHjkVRUZFG32/V0NAQDRo0gK6uLq5duwYA6NOnD%2BbMmSNzZlXn4%2BMDHR0dbN%2B%2BHSUlJVi5ciVGjBih0V3f2niAR9JjQUo1xqJFiwDgqW9l4pWZNUuHDh0QExOjOu%2BtNmjTpg1WrFiBKVOmwMTEBCdOnICBgYFGd4FzcnIQEhKCI0eOwMDAAC7SVSMAABy1SURBVAcOHMCYMWOwdetWjb0grVmzZjhx4gQcHR1RUlKC5ORk6Ovra/RFTRkZGRg1ahRGjRoldyovTW09wCNpsSAl2d2/fx%2BNGzfGjz/%2BCC0tLfz3TmSafG5ibfT3339jzpw5%2BPjjj2Fqaqr2/mjq1bWzZs1CYGAgRowYgcDAQEyePBklJSWYPXu23KlV2dKlS/Ho0SMcPXoUI0aMQNOmTeHs7IxPP/0Umzdvlju9Khk/fjwCAwNx%2BPBheHp6wsvLCzo6Oujbt6/cqVWZk5MT%2BvTpg%2BHDh8PR0VHtq5M1VW08wCPp8T6kJLtOnTrhjz/%2BgK2t7TOLT3ZIa47aeC/I/1IqlcjJycEbb7whdypV1qdPH0RHR6NBgwZ4%2B%2B23cebMGeTl5aFPnz44c%2BaM3OlVWVpaGoyNjaGnp4eYmBhkZ2fDzc1NY09FSEpKwnfffYeoqCgIgoChQ4fCw8MDzZo1kzu1KktKSkJgYCA2bNiAS5cuISgoSHWAN2bMGLnToxqKBSnJLjU1FRYWFrXy5uSkOdLT05GcnIzi4mK1%2BZp6/nKvXr3www8/wNDQEF27dkV8fDwePXoEFxcX/Prrr3KnR/9RUlKCX3/9FYcOHcLPP/%2BMN998U2O/ive/asMBHkmPQ/YkOwsLCwAsOmu68ePHY8OGDfD29n5mJ1tT/4Du2rULixYtKvd0EU3tznfr1g0LFy5ESEiI6v368ssv8fbbb8ucWdXFx8cjJCSk3AMHTX2fymhra8PAwAB169aFvr4%2BCgsL5U5JlPIO8DIyMjT2AI%2Bkx4KUiCqkc%2BfOAAAHBweZM3n51q9fj8WLF8PV1bXWfCVqcHAwJk%2BejK5du6K4uBj29vZo3rw51q1bJ3dqVbZw4UJ06dIFH330Ua15n27fvo2DBw8iKioKubm5GDJkCL766iu0atVK7tSqrDYe4JH0OGRPRBXyzjvv4Pjx44iMjNTYez4%2BS7du3TT2m36eJScnB//3f/%2BHCxcuoGXLljAzM4O9vT10dHTkTq3KOnfujPj4%2BFpx4U%2BZtm3bolu3bvDw8EC/fv009lzYJ/Xp0wfTp0%2BvVQd4JD12SImoQjIzM3H58mVs3rwZw4YNe6r7AQCWlpYyZCaeg4MDTp06hW7dusmdykuxadMmREZGIj8/X/U%2B1atXD9OnT9fo2wu1bt0a9%2B7dQ5MmTeRO5aU5duwYmjZtKncaL1VBQQHc3NzkToM0DAtSIqoQhUKBoUOHQktLCwqFQm2ZIAgaORwXHBwMAMjNzcWECRPQo0cPGBkZqa2zePFiOVKrsr1792LdunWYP38%2BnJycVF%2BzGRcXhy%2B%2B%2BAKmpqbo37%2B/3GlWysGDBwEA7du3x7hx4%2BDp6fnU%2B6SpBVDTpk2xfft27NmzBykpKTAzM4OHhwcmTJigsbe8q20HeFQ9OGRPRBWWlpaGAQMG4PDhw%2BUu17QL08oK0ufRtIJ06NChmDx5Mvr16/fUspiYGHz99dfYuXOnDJlV3X8PgP5LS0tLY%2B%2BBu337dmzduhXjx49HkyZNcOfOHWzatAkjR47E%2BPHj5U6vUsp%2BnzIzM3H69OlacYBH1YcFKRFVyuXLl9G2bVu506BnsLe3R3x8PHR1nx4AKygogJOTE/7f//t/MmRG5Rk4cCCWLVuGdu3aqeb9//buPa7mPP8D%2BOuok4aQlJJNF7YtwpTVZYZcwszIWCW31CIWWZfGZZfHPBR2wvYYZoyQclmXMlqkSM3mMvahHXNcZ0phdt2S0eVUhnLpdPr9YTtbKbr49Tnfzuv5ePTH%2BXz64%2BWRHr0/96ysLCxYsEByRXZrHOBRy%2BGSPRE1So8ePRATE4M7d%2B5ArVbX6JPiH5vMzEzcvHkTvr6%2BAIDy8nIEBwdj0aJF6Nu3r%2BB0jSeTyeosRgHAwMAAz549a%2BFEb0dpaSn%2B/e9/o3///pq26OhoTJkyBR06dBCYrHny8/Ph4OBQo83BwQElJSWCEjWdFH//SXu0nqOKRNQiVqxYgb179%2BL58%2BeiozRbVlYWAgMDNe9tAy/3kxoaGmLatGmS2xPbWimVSvj4%2BGDXrl2atqKiIuzduxcTJ05EUVGRwHTNY21tjbS0tBptaWlpsLa2FpSoeTIzM3HkyBHN5/LycsyaNQsZGRkCU5EUcIaUiBrl%2B%2B%2B/x6FDh1rFyeAtW7Zgzpw5mDt3rqatY8eOiIyMxIYNG7BlyxZERkYKTNh4KpVKcwioLrUvlJeCzZs3o3fv3oiIiNC0mZiY4PTp01iwYAG2bNmClStXCkzYdPPmzUNISAhSU1NhZWWFe/fu4dSpU/jqq69ER2u0qgGev7%2B/pq36AC82Npbbfahe3ENKRI3i6emJkydPtor7Eqs/r1lbSUkJxowZI7lnNt90AAgATp8%2B3QJJ3p7hw4fjwIEDMDc3f6Xvzp07CAoKkty/qbrz588jISEBhYWF6N69O/z8/NCvXz/RsRrtj3/8I/r27VtjgFdlw4YNuH37tuQGeNRyOENKRI3i7%2B%2BP9evXY/78%2BTAxMREdp1mePXtWZzEKAMbGxpLcbynlwqw%2Bjx49qrMYBQAbGxtJ7resrqKiAsuXL0fnzp1x9uxZPHnyRHSkJvnhhx/w%2Beef19k3c%2BZMjBkzpoUTkZRwDykRNUp8fDzi4uLw/vvvw9HRscaX1FhaWuL69et19t24cQNdunRp4URUF2NjY%2BTl5dXZl5eXByMjoxZO9PbExsZi0aJFKCgoAPByv2xISMhrt11oq9Y4wKOWwxlSImqU9evXi47w1nh7eyM8PBzR0dE1/pCWlZVh7dq1GDFihMB0VGXIkCHYvn07QkNDX%2BmLiYmR9AXsu3fvxp49e2Bvbw8A8PX1hb29PZYsWSK5y/6rBni1bw0AOMCjN%2BMeUiJqNLVajczMTNy/fx9du3aFi4uLJN8Xf/HiBQICAvDgwQMMHToUpqamKCgowNmzZ2FmZobY2Fi0a9dOdEydV1BQgI8//hj9%2B/eHt7c3zMzMkJ%2Bfj5SUFFy6dAmHDh2S7Kl0Z2dnXLp0qcbvj1qthqurKy5evCgwWeNt374d586dq3OAFxwcDCcnJyxbtkxgQtJmLEiJqFEKCgowd%2B5cXL9%2BHcbGxiguLoaNjQ127doFCwsL0fEa7cWLF9i7dy/OnDmDoqIimJmZYfjw4fD3928VB7dai7t37yI8PBznzp2DWq2Gvr4%2BBg8ejD/96U%2BwtbUVHa/JJkyYAH9/f/j4%2BGjaEhMTERsbi/j4eIHJGo8DPGoOFqRE1ChLly5FZWUl1qxZg/bt2%2BPx48dYtWoVVCoVNm3aJDoetXLl5eV49OgRjI2N630AQErS09MRHByMPn36wNLSEj///DOysrIQHR0NV1dX0fEajQM8aioWpETUKIMGDUJqamqNgySPHz%2BGl5cXFAqFwGSN15CDI1Lbx9faZWZmwsnJCY8fP0ZUVBRMTEwwbdo0SRent2/fRnJyMgoKCtCtWzd4e3u3int%2BiRpDur/BRCSEWq2GTCar0SaTySCXywUlarqqy8fVajXy8vJgbGwMS0tL5Ofno7CwEL/5zW9YkGqRbdu2YceOHbh06RL%2B8pe/IDMzE23atMHDhw/x6aefio7XZLa2tggMDEROTg4cHR0l%2BXgBwAEeNQ9nSImoUT755BPo6%2Btj9erVaNeuHUpLSxEWFoaKigp88cUXouM1yV//%2BlcYGBhg0aJFmsMlW7duxf3797F27VrB6aiKt7c3NmzYADs7OwwcOBAHDx6EmZkZxo4di/T0dNHxmqS0tBShoaFITk6GoaEhjhw5ghkzZmD37t2ws7MTHa9Rqh5leN0AT4rXWVHL4AwpETXKsmXLMGPGDLi6usLY2BglJSXo2bMnoqOjRUdrssOHDyM9Pb3GSefZs2fDzc2NBakWyc/Ph4ODA7777jt06NBBc73Q06dPBSdruoiICJSVlSElJQUTJ06ElZUVhg0bhvDwcOzcuVN0vEapepThdQM8ovqwICWiBqusrIRKpUJycjIuXrwIpVKJ3NxczJw5E3p6eqLjNVnbtm3xn//8p8b9iZmZmejYsaPAVFSbubk5Lly4gKNHj8LDwwMAcPz4cUnvtzxz5gyOHTuGTp06aba%2BLF%2B%2BHJ6enqKjNRkHeNQULEiJqEHKysoQFBQEU1NTREZGwt3dHUqlEsOGDcO3336LHTt2SPZKl6lTp2LmzJmYMGECLC0tkZOTg/j4eCxcuFB0NKpmwYIFmDVrFgwNDXHgwAF89913WLFiBTZv3iw6WpOp1WrN6fOqHXTV26SIAzxqCu4hJaIG2bBhA65evYovv/yyxosrSqUSwcHB8PDwwCeffCIwYfMcOnQISUlJyMvLQ7du3TBhwgR4e3uLjkW1PH/%2BHMDLoufJkycoKytD165dBadquqVLl0IulyM0NBRDhgyBQqHA2rVrUVhYiI0bN4qO1yRRUVHYt29fnQO8qVOnio5HWooFKRE1yKhRoxATE1PnizjZ2dkICQnBN998IyAZ6ZKCggLk5OS8chJ94MCBghI1T9WALisrCxUVFTA0NISNjQ2ioqJgbm4uOl6TcYBHjcWClIgaZMCAAbh06VK9/S4uLrh8%2BXILJnq74uPjsX//fuTl5SEhIQHr16/HunXr0L59e9HR6L9iY2Px2WefofafLZlMhuzsbEGpmqekpASdOnVCRkYGcnNzYWFhAXt7e2zcuBErV64UHY%2BoxUjv8WkiEsLIyAjFxcV19pWUlNR4u1pq/va3v2Hnzp0ICAhARUUF2rdvj7y8PKxbt050NKpm%2B/btWLduHTIyMnD9%2BnXNlxSL0ezsbHh5ecHDwwOTJ0%2BGtbU1PvroI7Rr1w6TJk1CUlKS6IjNEh8fj7Fjx8LNzQ0PHjzAwoULUVpaKjoWaTEWpETUIB4eHoiNja2zLy4uDu%2B%2B%2B24LJ3p7Dhw4gK1bt2LixIlo06YNOnXqhM2bN%2BPMmTOio1E1L168wLhx4yT5CENt4eHhsLe3x7Zt22BkZISoqCicP38eU6ZMQYcOHZCQkCA6YpNxgEdNwVP2RNQgc%2BbMga%2BvL4qLizF69GiYmZkhPz8fKSkpOHz4MPbv3y86YpMVFxfD1tYWwP9OOnfp0gUqlUpkLKrFzc0N58%2Bfh7u7u%2BgozZadnY20tDSYmJjAwcEBAQEBOHz4MAICAhASElLjyiSpqRrg9ezZE59//rlmgOfj4yM6GmkxFqRE1CC2trbYuXMnwsLCEBsbC5lMhsrKStjb2yMmJgZOTk6iIzaZg4MDDh48iClTpmieRT1x4gR%2B/etfC05GALBixQoALy/AnzNnDt577z0YGxvX%2BB6pzb6p1WqYmJgAACwsLPDw4UMsXrwYQUFBgpM1Hwd41BQsSImowVxcXHDs2DHk5OSgqKgIZmZmsLS0FB2r2f785z9j%2BvTpSExMRFlZGf7whz/g6tWr2LFjh%2BhoVE2XLl0wevRo0THeiqqBTxW5XI7AwEBBad4uDvCoKXjKnogIQF5eHpKSkvDgwQNYWFjg448/bhXFdmvyww8/oH///q%2B0//Of/5Tcy0a1b6VwdXWFQqEQmOjtuXbtGqZPn46ePXsiMzMTHh4emgFeXT8/IoAFKRERSURdV4s9efIEgwcPxpUrVwSlapp%2B/fphzZo1ms%2BrV69GWFhYje8ZN25cS8d6a/Lz85GUlKS5yooDPHoTFqREpPPOnj2Lzz77DLm5ua/ccSnFK4Vak7t378Lb2xsVFRWorKx8ZakbeFmo1ncDhLYaPnz4a/tlMhlOnTrVQmneLl9fX%2BzduxdGRkaio5CEsCAlIp3n5eWFUaNGYciQIa%2BcbnZ1dRWUiqpkZ2fjl19%2BwezZsxETE1Ojr23btrC3t5f0PbitzaBBg5CamsqClBqFBSkR6bwBAwZAoVBAT09PdBR6jZycHFhZWYmOQW8QFhaGjIwMfPDBB%2BjatWuNWW0pb0Og/18sSIlI5y1duhSjR49%2B4zIqiVVcXIx9%2B/YhLy8ParUaAFBeXo6bN29K/mWj1qS%2B3yMpb0Og/38sSIlI5/3444/w9/dHr1690LFjxxp9e/fuFZSKaps7dy7u3LkDExMTlJaWolu3bjh37hymTp2quauUiKSJ95ASkc4LDQ2Fs7Mzfvvb33LZXotduHABJ06cQF5eHqKjoxEZGYnExEQcP35cdDSqpaioSHON2sKFC3HhwgUMGzZMdCzSYixIiUjn3b17FwqFolW8kd6a6evrw9zcHO%2B88w5u3LgBAPD29kZERITgZFTdtWvXMGPGDNjZ2eHGjRsIDAzEokWLEBYWhvHjx4uOR1pKuo/lEhG9JY6OjsjJyREdg96ge/fuyMzMRMeOHVFaWoqioiKUlZXh2bNnoqNRNevWrcPy5cvx9ddfQ19fH1ZWVtiyZQt27twpOhppMc6QEpHO8/DwwO9//3t8%2BOGHr7yRPn/%2BfEGpqDZ/f38EBgYiOTkZY8aMwbRp06Cvr4%2BBAweKjkbV3Lx5E7/73e8A/O%2BJ1MGDByMkJERkLNJyLEiJSOcpFArY2tpqloGr1HUJO4nj5%2BcHe3t7mJqaYtmyZdi9ezdKS0sRFBQkOhpVY2Jiglu3btV4u/7WrVswNTUVmIq0HQtSItJ5kydPxogRI9C2bVvRUegN%2BvXrh0ePHiEnJwezZs2CSqWCgYGB6FhUjb%2B/P%2BbMmYO5c%2BdCpVLhxIkT2LZtGyZNmiQ6GmkxXvtERDrP1dUV6enpPNSk5UpLSxEaGork5GQYGhriyJEjmDFjBnbv3g07OzvR8aia2NhYxMXFad6ynzhxIqZPn/7KS2hEVfg/g4h0Xt%2B%2BfXHixAnRMegNIiIiUFZWhpSUFMjlclhZWWHYsGEIDw8XHY2qKSwsxNSpU5GcnIyrV68iNTUVQUFBLEbptThDSkQ6b/z48bh27RoMDAxgampaY%2B8oX5bRHp6enjh27Bg6deoEV1dXKBQKPHv2DJ6enlAoFKLj0X85OTnB09MTEyZMwJAhQ1iIUoNwDykR6byAgADREagB1Gq1Zr9o1VxK9TbSDomJiUhISEBYWBgqKyvh4%2BMDPz8/9OjRQ3Q00mKcISUiIklYunQp5HI5QkNDMWTIECgUCqxduxaFhYXYuHGj6HhUi1qtxrlz55CYmIhvv/0Wffr04VO8VC/OkBKRzpo9ezaio6MRGBhY7xVP/AOqPVasWIF58%2BZh4MCBqKiogLOzM2xsbBAVFSU6GtWhTZs2MDQ0RLt27WBgYIDy8nLRkUiLsSAlIp01YMAAAICbm5vgJNQQhoaGmDdvHjIyMtCzZ0%2BYmZnB2dkZenp6oqNRNXfu3MHRo0eRlJSEp0%2BfYuzYsdi3bx969eolOhppMS7ZE5HOGjFiBE6ePInIyEi%2ByKTlduzYgcjISDx//lyzf7R9%2B/ZYvHgxpk6dKjgdVefo6Ah3d3f4%2Bflh5MiR3ONLDcIZUiLSWUqlEtnZ2di5cyfGjx%2BPusbnlpaWApJRdX//%2B98RFRWFTz/9FEOHDkXnzp2hVCpx%2BvRpfPHFFzA1NcUHH3wgOib91z/%2B8Q9YWVmJjkESwxlSItJZS5YsQXJycp37RysrKyGTyZCdnS0gGVXn4%2BODefPmYeTIka/0nThxAnFxcdi/f7%2BAZFSfPXv24ODBg8jNzYWZmRn8/PwwZ84cPsdL9WJBSkQ6LS8vDx9%2B%2BCGOHz9eZ3/37t1bOBHV5uzsjAsXLkBf/9VFvRcvXmDo0KH417/%2BJSAZ1WXPnj3YvXs3Zs%2BejV/96le4d%2B8eduzYAX9/f8yePVt0PNJSXLInIp1mbm6OuLg4Fp5aTCaT1VmMAoCBgQGePXvWwonodb7%2B%2Bmts3boVvXv31rS5uLhgwYIFLEipXixIiUjn9ejRAzExMbhz5w7UanWNvnXr1glKRSRN%2Bfn5cHBwqNHm4OCAkpISQYlICliQEpHOW7FiBa5cuQI3NzfI5XLRcagWlUqFo0eP1ttfUVHRgmnoTaytrZGWllbjoFlaWhqsra0FpiJtx4KUiHTe999/j0OHDvFksJYyNTXFV199VW9/ly5dWjANvcm8efMQEhKC1NRUWFlZ4d69ezh16tRrf4ZEPNRERDrP09MTJ0%2Be5H2JRG/J%2BfPnkZCQgMLCQnTv3h1%2Bfn7o16%2Bf6FikxViQEpHOi4qKQn5%2BPubPnw8TExPRcYgkLz09Hb1790bnzp1x9uxZyOVyvPfee6JjkRZrIzoAEZFo8fHxiIuLw/vvvw9HR8caX0TUOLGxsVi0aBEKCgoAvHyAIiQk5LX7gIk4Q0pEOk%2BhUNTb5%2Brq2oJJiKRvxIgR2LRpE/r06aNpy8zMxJIlS/DNN98ITEbajIeaiEjnubq6Qq1WIzMzE/fv30fXrl3h4uKCNm24iETUWEql8pXVhd69e0OpVApKRFLAgpSIdF5BQQHmzp2L69evw9jYGMXFxbCxscGuXbtgYWEhOh6RpPTq1QuJiYnw8fHRtB07dgx2dnYCU5G245I9Eem8pUuXorKyEmvWrEH79u3x%2BPFjrFq1CiqVCps2bRIdj0hS0tPTERwcjD59%2BsDS0hI///wzsrKyEB0dzS0wVC8WpESk8wYNGoTU1FQYGRlp2h4/fgwvL6/X7i8lorrdvn0bycnJKCgoQLdu3eDt7c17fum1uGRPRDpPrVZDJpPVaJPJZHy1iaiJbG1tERgYiJycHDg6OvI1LXoj7tgnIp3n5uaGVatWoaysDABQWlqKVatWcXmRqAlKS0uxZMkSuLm5ISAgAHfv3sXIkSNx69Yt0dFIi7EgJSKdt2zZMvz4449wdXXFoEGD4Obmhp9%2B%2BgnLly8XHY1IciIiIlBWVoaUlBTI5XJYWVlh2LBhCA8PFx2NtBiX7IlIp1VWVkKlUiE5ORkXL16EUqlEbm4uZs6cCT09PdHxiCTnzJkzOHbsGDp16qTZ%2BrJ8%2BXJ4enqKjkZajDOkRKSzysrKMGXKFEREREBfXx/u7u5wd3dHZGQkAgMDNUv4RNRwarUaBgYGAF4O%2BGq3EdWFBSkR6axt27ZBLpdj9erVmrYuXbrgzJkzUKlU2L59u8B0RNLk7u6ONWvW4OnTp5rDgl9%2B%2BSX3ZNNr8donItJZo0aNQkxMDKytrV/py87ORkhICJ86JGokpVKJ4OBgZGVloaKiAoaGhrCxsUFUVBTMzc1FxyMtxT2kRKSzlEplncUoADg6OqKgoKCFExFJn56eHg4ePIiMjAzk5ubCwsIC9vb22LhxI1auXCk6HmkpLtkTkc4yMjJCcXFxnX0lJSV45513WjgRkXRlZ2fDy8sLHh4emDx5MqytrfHRRx%2BhXbt2mDRpEpKSkkRHJC3GgpSIdJaHhwdiY2Pr7IuLi8O7777bwomIpCs8PBz29vbYtm0bjIyMEBUVhfPnz2PKlCno0KEDEhISREckLcY9pESks27fvg1fX1/4%2Bvpi9OjRMDMzQ35%2BPlJSUnD48GHs378fTk5OomMSScKAAQOQlpYGExMTPHz4EAEBAfjll18wefJkhISEoE0bzoFR/ViQEpFOu3z5MsLCwvDTTz9BJpOhsrIS9vb2WLlyJQYOHCg6HpFkODs748qVK5rPTk5OWLx4MYKCggSmIqlgQUpEBCAnJwdFRUUwMzODpaWl6DhEkuPi4oLLly9rPjs7O0OhUEAulwtMRVLBU/ZERACsrKxgZWUlOgZRqyGXy1mMUoOxICUiIqJmU6lUOHr0qOZzeXl5jc8AMG7cuJaORRLBJXsiIiJqtuHDh7%2B2XyaT4dSpUy2UhqSGBSkRERERCcU7GIiIiIhIKBakRERERCQUC1IiIiIiEooFKREREREJxYKUiIiIiIRiQUpEREREQrEgJSIiIiKh/g/8P16iZ7WnmgAAAABJRU5ErkJggg%3D%3D\" class=\"center-img\">\n",
       "</div>\n",
       "    <div class=\"row headerrow highlight\">\n",
       "        <h1>Sample</h1>\n",
       "    </div>\n",
       "    <div class=\"row variablerow\">\n",
       "    <div class=\"col-md-12\" style=\"overflow:scroll; width: 100%%; overflow-y: hidden;\">\n",
       "        <table border=\"1\" class=\"dataframe sample\">\n",
       "  <thead>\n",
       "    <tr style=\"text-align: right;\">\n",
       "      <th></th>\n",
       "      <th>ID</th>\n",
       "      <th>Updated</th>\n",
       "      <th>Confirmed</th>\n",
       "      <th>ConfirmedChange</th>\n",
       "      <th>Deaths</th>\n",
       "      <th>DeathsChange</th>\n",
       "      <th>Recovered</th>\n",
       "      <th>RecoveredChange</th>\n",
       "      <th>ISO2</th>\n",
       "      <th>ISO3</th>\n",
       "      <th>Country_Region</th>\n",
       "      <th>AdminRegion1</th>\n",
       "      <th>AdminRegion2</th>\n",
       "    </tr>\n",
       "  </thead>\n",
       "  <tbody>\n",
       "    <tr>\n",
       "      <th>40</th>\n",
       "      <td>339035</td>\n",
       "      <td>03/01/2020</td>\n",
       "      <td>87137</td>\n",
       "      <td>1734.0</td>\n",
       "      <td>2977.0</td>\n",
       "      <td>53.0</td>\n",
       "      <td>NaN</td>\n",
       "      <td>NaN</td>\n",
       "      <td>NaN</td>\n",
       "      <td>NaN</td>\n",
       "      <td>Worldwide</td>\n",
       "      <td>NaN</td>\n",
       "      <td>NaN</td>\n",
       "    </tr>\n",
       "    <tr>\n",
       "      <th>41</th>\n",
       "      <td>339036</td>\n",
       "      <td>03/02/2020</td>\n",
       "      <td>88948</td>\n",
       "      <td>1811.0</td>\n",
       "      <td>3043.0</td>\n",
       "      <td>66.0</td>\n",
       "      <td>NaN</td>\n",
       "      <td>NaN</td>\n",
       "      <td>NaN</td>\n",
       "      <td>NaN</td>\n",
       "      <td>Worldwide</td>\n",
       "      <td>NaN</td>\n",
       "      <td>NaN</td>\n",
       "    </tr>\n",
       "    <tr>\n",
       "      <th>42</th>\n",
       "      <td>339037</td>\n",
       "      <td>03/03/2020</td>\n",
       "      <td>90869</td>\n",
       "      <td>1921.0</td>\n",
       "      <td>3112.0</td>\n",
       "      <td>69.0</td>\n",
       "      <td>NaN</td>\n",
       "      <td>NaN</td>\n",
       "      <td>NaN</td>\n",
       "      <td>NaN</td>\n",
       "      <td>Worldwide</td>\n",
       "      <td>NaN</td>\n",
       "      <td>NaN</td>\n",
       "    </tr>\n",
       "    <tr>\n",
       "      <th>43</th>\n",
       "      <td>339038</td>\n",
       "      <td>03/04/2020</td>\n",
       "      <td>93091</td>\n",
       "      <td>2222.0</td>\n",
       "      <td>3198.0</td>\n",
       "      <td>86.0</td>\n",
       "      <td>NaN</td>\n",
       "      <td>NaN</td>\n",
       "      <td>NaN</td>\n",
       "      <td>NaN</td>\n",
       "      <td>Worldwide</td>\n",
       "      <td>NaN</td>\n",
       "      <td>NaN</td>\n",
       "    </tr>\n",
       "    <tr>\n",
       "      <th>44</th>\n",
       "      <td>339039</td>\n",
       "      <td>03/05/2020</td>\n",
       "      <td>95324</td>\n",
       "      <td>2233.0</td>\n",
       "      <td>3281.0</td>\n",
       "      <td>83.0</td>\n",
       "      <td>NaN</td>\n",
       "      <td>NaN</td>\n",
       "      <td>NaN</td>\n",
       "      <td>NaN</td>\n",
       "      <td>Worldwide</td>\n",
       "      <td>NaN</td>\n",
       "      <td>NaN</td>\n",
       "    </tr>\n",
       "  </tbody>\n",
       "</table>\n",
       "    </div>\n",
       "</div>\n",
       "</div>\n",
       "</body>\n",
       "</html>"
      ],
      "text/plain": [
       "<IPython.core.display.HTML object>"
      ]
     },
     "metadata": {},
     "output_type": "display_data"
    }
   ],
   "source": [
    "display(HTML(pp.ProfileReport(data_filtered).to_html()))"
   ]
  },
  {
   "cell_type": "code",
   "execution_count": 48,
   "metadata": {
    "scrolled": true
   },
   "outputs": [
    {
     "data": {
      "text/html": [
       "<div>\n",
       "<style scoped>\n",
       "    .dataframe tbody tr th:only-of-type {\n",
       "        vertical-align: middle;\n",
       "    }\n",
       "\n",
       "    .dataframe tbody tr th {\n",
       "        vertical-align: top;\n",
       "    }\n",
       "\n",
       "    .dataframe thead th {\n",
       "        text-align: right;\n",
       "    }\n",
       "</style>\n",
       "<table border=\"1\" class=\"dataframe\">\n",
       "  <thead>\n",
       "    <tr style=\"text-align: right;\">\n",
       "      <th></th>\n",
       "      <th>ID</th>\n",
       "      <th>Confirmed</th>\n",
       "      <th>ConfirmedChange</th>\n",
       "      <th>Deaths</th>\n",
       "      <th>DeathsChange</th>\n",
       "      <th>Recovered</th>\n",
       "      <th>RecoveredChange</th>\n",
       "    </tr>\n",
       "  </thead>\n",
       "  <tbody>\n",
       "    <tr>\n",
       "      <td>count</td>\n",
       "      <td>2.481430e+05</td>\n",
       "      <td>2.481430e+05</td>\n",
       "      <td>243363.000000</td>\n",
       "      <td>209420.000000</td>\n",
       "      <td>200433.000000</td>\n",
       "      <td>6.431200e+04</td>\n",
       "      <td>60024.000000</td>\n",
       "    </tr>\n",
       "    <tr>\n",
       "      <td>mean</td>\n",
       "      <td>1.000151e+07</td>\n",
       "      <td>2.526665e+03</td>\n",
       "      <td>72.459523</td>\n",
       "      <td>187.020810</td>\n",
       "      <td>5.278038</td>\n",
       "      <td>2.425051e+03</td>\n",
       "      <td>90.596528</td>\n",
       "    </tr>\n",
       "    <tr>\n",
       "      <td>std</td>\n",
       "      <td>5.894165e+06</td>\n",
       "      <td>5.950881e+04</td>\n",
       "      <td>1516.713818</td>\n",
       "      <td>4304.644936</td>\n",
       "      <td>112.096000</td>\n",
       "      <td>4.021273e+04</td>\n",
       "      <td>1731.059916</td>\n",
       "    </tr>\n",
       "    <tr>\n",
       "      <td>min</td>\n",
       "      <td>1.900000e+01</td>\n",
       "      <td>0.000000e+00</td>\n",
       "      <td>-15723.000000</td>\n",
       "      <td>0.000000</td>\n",
       "      <td>-1918.000000</td>\n",
       "      <td>0.000000e+00</td>\n",
       "      <td>-97486.000000</td>\n",
       "    </tr>\n",
       "    <tr>\n",
       "      <td>25%</td>\n",
       "      <td>5.407316e+06</td>\n",
       "      <td>5.000000e+00</td>\n",
       "      <td>0.000000</td>\n",
       "      <td>0.000000</td>\n",
       "      <td>0.000000</td>\n",
       "      <td>2.000000e+00</td>\n",
       "      <td>0.000000</td>\n",
       "    </tr>\n",
       "    <tr>\n",
       "      <td>50%</td>\n",
       "      <td>8.476357e+06</td>\n",
       "      <td>3.100000e+01</td>\n",
       "      <td>1.000000</td>\n",
       "      <td>1.000000</td>\n",
       "      <td>0.000000</td>\n",
       "      <td>1.800000e+01</td>\n",
       "      <td>0.000000</td>\n",
       "    </tr>\n",
       "    <tr>\n",
       "      <td>75%</td>\n",
       "      <td>1.521468e+07</td>\n",
       "      <td>2.360000e+02</td>\n",
       "      <td>6.000000</td>\n",
       "      <td>7.000000</td>\n",
       "      <td>0.000000</td>\n",
       "      <td>1.480000e+02</td>\n",
       "      <td>3.000000</td>\n",
       "    </tr>\n",
       "    <tr>\n",
       "      <td>max</td>\n",
       "      <td>2.201040e+07</td>\n",
       "      <td>5.916464e+06</td>\n",
       "      <td>123259.000000</td>\n",
       "      <td>364357.000000</td>\n",
       "      <td>11062.000000</td>\n",
       "      <td>2.486634e+06</td>\n",
       "      <td>206380.000000</td>\n",
       "    </tr>\n",
       "  </tbody>\n",
       "</table>\n",
       "</div>"
      ],
      "text/plain": [
       "                 ID     Confirmed  ConfirmedChange         Deaths  \\\n",
       "count  2.481430e+05  2.481430e+05    243363.000000  209420.000000   \n",
       "mean   1.000151e+07  2.526665e+03        72.459523     187.020810   \n",
       "std    5.894165e+06  5.950881e+04      1516.713818    4304.644936   \n",
       "min    1.900000e+01  0.000000e+00    -15723.000000       0.000000   \n",
       "25%    5.407316e+06  5.000000e+00         0.000000       0.000000   \n",
       "50%    8.476357e+06  3.100000e+01         1.000000       1.000000   \n",
       "75%    1.521468e+07  2.360000e+02         6.000000       7.000000   \n",
       "max    2.201040e+07  5.916464e+06    123259.000000  364357.000000   \n",
       "\n",
       "        DeathsChange     Recovered  RecoveredChange  \n",
       "count  200433.000000  6.431200e+04     60024.000000  \n",
       "mean        5.278038  2.425051e+03        90.596528  \n",
       "std       112.096000  4.021273e+04      1731.059916  \n",
       "min     -1918.000000  0.000000e+00    -97486.000000  \n",
       "25%         0.000000  2.000000e+00         0.000000  \n",
       "50%         0.000000  1.800000e+01         0.000000  \n",
       "75%         0.000000  1.480000e+02         3.000000  \n",
       "max     11062.000000  2.486634e+06    206380.000000  "
      ]
     },
     "execution_count": 48,
     "metadata": {},
     "output_type": "execute_result"
    }
   ],
   "source": [
    "data_filtered.describe()"
   ]
  },
  {
   "cell_type": "code",
   "execution_count": 49,
   "metadata": {
    "scrolled": false
   },
   "outputs": [
    {
     "name": "stderr",
     "output_type": "stream",
     "text": [
      "C:\\Users\\v-kirare\\AppData\\Local\\Continuum\\anaconda3\\lib\\site-packages\\ipykernel_launcher.py:1: SettingWithCopyWarning:\n",
      "\n",
      "\n",
      "A value is trying to be set on a copy of a slice from a DataFrame.\n",
      "Try using .loc[row_indexer,col_indexer] = value instead\n",
      "\n",
      "See the caveats in the documentation: http://pandas.pydata.org/pandas-docs/stable/user_guide/indexing.html#returning-a-view-versus-a-copy\n",
      "\n"
     ]
    }
   ],
   "source": [
    "data_filtered[\"Updated\"]=pd.to_datetime(data[\"Updated\"])"
   ]
  },
  {
   "cell_type": "code",
   "execution_count": 50,
   "metadata": {},
   "outputs": [],
   "source": [
    "grouped_country=data_filtered.groupby([\"Country_Region\",\"Updated\"]).agg({\"Confirmed\":'max',\"Recovered\":'max',\"Deaths\":'max'})"
   ]
  },
  {
   "cell_type": "code",
   "execution_count": 51,
   "metadata": {},
   "outputs": [],
   "source": [
    "grouped_country[\"Active Cases\"]=grouped_country[\"Confirmed\"]-grouped_country[\"Recovered\"]-grouped_country[\"Deaths\"]"
   ]
  },
  {
   "cell_type": "code",
   "execution_count": 55,
   "metadata": {},
   "outputs": [],
   "source": [
    "#Grouping different types of cases as per the date\n",
    "datewise=data_filtered.groupby([\"Updated\"]).agg({\"Confirmed\":'max',\"Recovered\":'max',\"Deaths\":'max'})\n",
    "datewise[\"Days Since\"]=datewise.index-datewise.index.max()"
   ]
  },
  {
   "cell_type": "markdown",
   "metadata": {},
   "source": [
    "Date Analysis"
   ]
  },
  {
   "cell_type": "code",
   "execution_count": 61,
   "metadata": {
    "scrolled": false
   },
   "outputs": [
    {
     "data": {
      "application/vnd.plotly.v1+json": {
       "config": {
        "plotlyServerURL": "https://plot.ly"
       },
       "data": [
        {
         "alignmentgroup": "True",
         "hovertemplate": "x=%{x}<br>y=%{y}<extra></extra>",
         "legendgroup": "",
         "marker": {
          "color": "#636efa"
         },
         "name": "",
         "offsetgroup": "",
         "orientation": "v",
         "showlegend": false,
         "textposition": "auto",
         "type": "bar",
         "x": [
          "2020-03-01T00:00:00",
          "2020-03-02T00:00:00",
          "2020-03-03T00:00:00",
          "2020-03-04T00:00:00",
          "2020-03-05T00:00:00",
          "2020-03-06T00:00:00",
          "2020-03-07T00:00:00",
          "2020-03-08T00:00:00",
          "2020-03-09T00:00:00",
          "2020-03-10T00:00:00",
          "2020-03-11T00:00:00",
          "2020-03-12T00:00:00",
          "2020-03-13T00:00:00",
          "2020-03-14T00:00:00",
          "2020-03-15T00:00:00",
          "2020-03-16T00:00:00",
          "2020-03-17T00:00:00",
          "2020-03-18T00:00:00",
          "2020-03-19T00:00:00",
          "2020-03-20T00:00:00",
          "2020-03-21T00:00:00",
          "2020-03-22T00:00:00",
          "2020-03-23T00:00:00",
          "2020-03-24T00:00:00",
          "2020-03-25T00:00:00",
          "2020-03-26T00:00:00",
          "2020-03-27T00:00:00",
          "2020-03-28T00:00:00",
          "2020-03-29T00:00:00",
          "2020-03-30T00:00:00",
          "2020-03-31T00:00:00",
          "2020-04-01T00:00:00",
          "2020-04-02T00:00:00",
          "2020-04-03T00:00:00",
          "2020-04-04T00:00:00",
          "2020-04-05T00:00:00",
          "2020-04-06T00:00:00",
          "2020-04-07T00:00:00",
          "2020-04-08T00:00:00",
          "2020-04-09T00:00:00",
          "2020-04-10T00:00:00",
          "2020-04-11T00:00:00",
          "2020-04-12T00:00:00",
          "2020-04-13T00:00:00",
          "2020-04-14T00:00:00",
          "2020-04-15T00:00:00",
          "2020-04-16T00:00:00",
          "2020-04-17T00:00:00",
          "2020-04-18T00:00:00",
          "2020-04-19T00:00:00",
          "2020-04-20T00:00:00",
          "2020-04-21T00:00:00",
          "2020-04-22T00:00:00",
          "2020-04-23T00:00:00",
          "2020-04-24T00:00:00",
          "2020-04-25T00:00:00",
          "2020-04-26T00:00:00",
          "2020-04-27T00:00:00",
          "2020-04-28T00:00:00",
          "2020-04-29T00:00:00",
          "2020-04-30T00:00:00",
          "2020-05-01T00:00:00",
          "2020-05-02T00:00:00",
          "2020-05-03T00:00:00",
          "2020-05-04T00:00:00",
          "2020-05-05T00:00:00",
          "2020-05-06T00:00:00",
          "2020-05-07T00:00:00",
          "2020-05-08T00:00:00",
          "2020-05-09T00:00:00",
          "2020-05-10T00:00:00",
          "2020-05-11T00:00:00",
          "2020-05-12T00:00:00",
          "2020-05-13T00:00:00",
          "2020-05-14T00:00:00",
          "2020-05-15T00:00:00",
          "2020-05-16T00:00:00",
          "2020-05-17T00:00:00",
          "2020-05-18T00:00:00",
          "2020-05-19T00:00:00",
          "2020-05-20T00:00:00",
          "2020-05-21T00:00:00",
          "2020-05-22T00:00:00",
          "2020-05-23T00:00:00",
          "2020-05-24T00:00:00",
          "2020-05-25T00:00:00",
          "2020-05-26T00:00:00",
          "2020-05-27T00:00:00",
          "2020-05-28T00:00:00",
          "2020-05-29T00:00:00",
          "2020-05-30T00:00:00"
         ],
         "xaxis": "x",
         "y": [
          42071,
          41070,
          40553,
          40037,
          42187,
          41098,
          43037,
          46501,
          47168,
          49776,
          52552,
          57832,
          63648,
          71573,
          80869,
          93157,
          89958,
          98874,
          147362,
          172811,
          197203,
          223156,
          260319,
          290746,
          328673,
          384446,
          428609,
          490234,
          535589,
          575700,
          636949,
          692537,
          748441,
          811334,
          885896,
          942794,
          991083,
          1044783,
          1088326,
          1139068,
          1207198,
          1270719,
          1309371,
          1345904,
          1372253,
          1411464,
          1465973,
          1513035,
          1561199,
          1617473,
          1655281,
          1703785,
          1736852,
          1773166,
          1813684,
          1855377,
          1895634,
          1915359,
          1953655,
          1987274,
          2012106,
          2028418,
          2083185,
          2130892,
          2164963,
          2205195,
          2243267,
          2288717,
          2345470,
          2375888,
          2411781,
          2430356,
          2462258,
          2500257,
          2548724,
          2592524,
          2635841,
          2663247,
          2692336,
          2887449,
          2756639,
          2807474,
          2852054,
          2849801,
          2881474,
          2903334,
          2939252,
          2990060,
          3044378,
          3065473,
          1269978
         ],
         "yaxis": "y"
        }
       ],
       "layout": {
        "barmode": "relative",
        "legend": {
         "tracegroupgap": 0
        },
        "margin": {
         "t": 60
        },
        "template": {
         "data": {
          "bar": [
           {
            "error_x": {
             "color": "#2a3f5f"
            },
            "error_y": {
             "color": "#2a3f5f"
            },
            "marker": {
             "line": {
              "color": "#E5ECF6",
              "width": 0.5
             }
            },
            "type": "bar"
           }
          ],
          "barpolar": [
           {
            "marker": {
             "line": {
              "color": "#E5ECF6",
              "width": 0.5
             }
            },
            "type": "barpolar"
           }
          ],
          "carpet": [
           {
            "aaxis": {
             "endlinecolor": "#2a3f5f",
             "gridcolor": "white",
             "linecolor": "white",
             "minorgridcolor": "white",
             "startlinecolor": "#2a3f5f"
            },
            "baxis": {
             "endlinecolor": "#2a3f5f",
             "gridcolor": "white",
             "linecolor": "white",
             "minorgridcolor": "white",
             "startlinecolor": "#2a3f5f"
            },
            "type": "carpet"
           }
          ],
          "choropleth": [
           {
            "colorbar": {
             "outlinewidth": 0,
             "ticks": ""
            },
            "type": "choropleth"
           }
          ],
          "contour": [
           {
            "colorbar": {
             "outlinewidth": 0,
             "ticks": ""
            },
            "colorscale": [
             [
              0,
              "#0d0887"
             ],
             [
              0.1111111111111111,
              "#46039f"
             ],
             [
              0.2222222222222222,
              "#7201a8"
             ],
             [
              0.3333333333333333,
              "#9c179e"
             ],
             [
              0.4444444444444444,
              "#bd3786"
             ],
             [
              0.5555555555555556,
              "#d8576b"
             ],
             [
              0.6666666666666666,
              "#ed7953"
             ],
             [
              0.7777777777777778,
              "#fb9f3a"
             ],
             [
              0.8888888888888888,
              "#fdca26"
             ],
             [
              1,
              "#f0f921"
             ]
            ],
            "type": "contour"
           }
          ],
          "contourcarpet": [
           {
            "colorbar": {
             "outlinewidth": 0,
             "ticks": ""
            },
            "type": "contourcarpet"
           }
          ],
          "heatmap": [
           {
            "colorbar": {
             "outlinewidth": 0,
             "ticks": ""
            },
            "colorscale": [
             [
              0,
              "#0d0887"
             ],
             [
              0.1111111111111111,
              "#46039f"
             ],
             [
              0.2222222222222222,
              "#7201a8"
             ],
             [
              0.3333333333333333,
              "#9c179e"
             ],
             [
              0.4444444444444444,
              "#bd3786"
             ],
             [
              0.5555555555555556,
              "#d8576b"
             ],
             [
              0.6666666666666666,
              "#ed7953"
             ],
             [
              0.7777777777777778,
              "#fb9f3a"
             ],
             [
              0.8888888888888888,
              "#fdca26"
             ],
             [
              1,
              "#f0f921"
             ]
            ],
            "type": "heatmap"
           }
          ],
          "heatmapgl": [
           {
            "colorbar": {
             "outlinewidth": 0,
             "ticks": ""
            },
            "colorscale": [
             [
              0,
              "#0d0887"
             ],
             [
              0.1111111111111111,
              "#46039f"
             ],
             [
              0.2222222222222222,
              "#7201a8"
             ],
             [
              0.3333333333333333,
              "#9c179e"
             ],
             [
              0.4444444444444444,
              "#bd3786"
             ],
             [
              0.5555555555555556,
              "#d8576b"
             ],
             [
              0.6666666666666666,
              "#ed7953"
             ],
             [
              0.7777777777777778,
              "#fb9f3a"
             ],
             [
              0.8888888888888888,
              "#fdca26"
             ],
             [
              1,
              "#f0f921"
             ]
            ],
            "type": "heatmapgl"
           }
          ],
          "histogram": [
           {
            "marker": {
             "colorbar": {
              "outlinewidth": 0,
              "ticks": ""
             }
            },
            "type": "histogram"
           }
          ],
          "histogram2d": [
           {
            "colorbar": {
             "outlinewidth": 0,
             "ticks": ""
            },
            "colorscale": [
             [
              0,
              "#0d0887"
             ],
             [
              0.1111111111111111,
              "#46039f"
             ],
             [
              0.2222222222222222,
              "#7201a8"
             ],
             [
              0.3333333333333333,
              "#9c179e"
             ],
             [
              0.4444444444444444,
              "#bd3786"
             ],
             [
              0.5555555555555556,
              "#d8576b"
             ],
             [
              0.6666666666666666,
              "#ed7953"
             ],
             [
              0.7777777777777778,
              "#fb9f3a"
             ],
             [
              0.8888888888888888,
              "#fdca26"
             ],
             [
              1,
              "#f0f921"
             ]
            ],
            "type": "histogram2d"
           }
          ],
          "histogram2dcontour": [
           {
            "colorbar": {
             "outlinewidth": 0,
             "ticks": ""
            },
            "colorscale": [
             [
              0,
              "#0d0887"
             ],
             [
              0.1111111111111111,
              "#46039f"
             ],
             [
              0.2222222222222222,
              "#7201a8"
             ],
             [
              0.3333333333333333,
              "#9c179e"
             ],
             [
              0.4444444444444444,
              "#bd3786"
             ],
             [
              0.5555555555555556,
              "#d8576b"
             ],
             [
              0.6666666666666666,
              "#ed7953"
             ],
             [
              0.7777777777777778,
              "#fb9f3a"
             ],
             [
              0.8888888888888888,
              "#fdca26"
             ],
             [
              1,
              "#f0f921"
             ]
            ],
            "type": "histogram2dcontour"
           }
          ],
          "mesh3d": [
           {
            "colorbar": {
             "outlinewidth": 0,
             "ticks": ""
            },
            "type": "mesh3d"
           }
          ],
          "parcoords": [
           {
            "line": {
             "colorbar": {
              "outlinewidth": 0,
              "ticks": ""
             }
            },
            "type": "parcoords"
           }
          ],
          "pie": [
           {
            "automargin": true,
            "type": "pie"
           }
          ],
          "scatter": [
           {
            "marker": {
             "colorbar": {
              "outlinewidth": 0,
              "ticks": ""
             }
            },
            "type": "scatter"
           }
          ],
          "scatter3d": [
           {
            "line": {
             "colorbar": {
              "outlinewidth": 0,
              "ticks": ""
             }
            },
            "marker": {
             "colorbar": {
              "outlinewidth": 0,
              "ticks": ""
             }
            },
            "type": "scatter3d"
           }
          ],
          "scattercarpet": [
           {
            "marker": {
             "colorbar": {
              "outlinewidth": 0,
              "ticks": ""
             }
            },
            "type": "scattercarpet"
           }
          ],
          "scattergeo": [
           {
            "marker": {
             "colorbar": {
              "outlinewidth": 0,
              "ticks": ""
             }
            },
            "type": "scattergeo"
           }
          ],
          "scattergl": [
           {
            "marker": {
             "colorbar": {
              "outlinewidth": 0,
              "ticks": ""
             }
            },
            "type": "scattergl"
           }
          ],
          "scattermapbox": [
           {
            "marker": {
             "colorbar": {
              "outlinewidth": 0,
              "ticks": ""
             }
            },
            "type": "scattermapbox"
           }
          ],
          "scatterpolar": [
           {
            "marker": {
             "colorbar": {
              "outlinewidth": 0,
              "ticks": ""
             }
            },
            "type": "scatterpolar"
           }
          ],
          "scatterpolargl": [
           {
            "marker": {
             "colorbar": {
              "outlinewidth": 0,
              "ticks": ""
             }
            },
            "type": "scatterpolargl"
           }
          ],
          "scatterternary": [
           {
            "marker": {
             "colorbar": {
              "outlinewidth": 0,
              "ticks": ""
             }
            },
            "type": "scatterternary"
           }
          ],
          "surface": [
           {
            "colorbar": {
             "outlinewidth": 0,
             "ticks": ""
            },
            "colorscale": [
             [
              0,
              "#0d0887"
             ],
             [
              0.1111111111111111,
              "#46039f"
             ],
             [
              0.2222222222222222,
              "#7201a8"
             ],
             [
              0.3333333333333333,
              "#9c179e"
             ],
             [
              0.4444444444444444,
              "#bd3786"
             ],
             [
              0.5555555555555556,
              "#d8576b"
             ],
             [
              0.6666666666666666,
              "#ed7953"
             ],
             [
              0.7777777777777778,
              "#fb9f3a"
             ],
             [
              0.8888888888888888,
              "#fdca26"
             ],
             [
              1,
              "#f0f921"
             ]
            ],
            "type": "surface"
           }
          ],
          "table": [
           {
            "cells": {
             "fill": {
              "color": "#EBF0F8"
             },
             "line": {
              "color": "white"
             }
            },
            "header": {
             "fill": {
              "color": "#C8D4E3"
             },
             "line": {
              "color": "white"
             }
            },
            "type": "table"
           }
          ]
         },
         "layout": {
          "annotationdefaults": {
           "arrowcolor": "#2a3f5f",
           "arrowhead": 0,
           "arrowwidth": 1
          },
          "coloraxis": {
           "colorbar": {
            "outlinewidth": 0,
            "ticks": ""
           }
          },
          "colorscale": {
           "diverging": [
            [
             0,
             "#8e0152"
            ],
            [
             0.1,
             "#c51b7d"
            ],
            [
             0.2,
             "#de77ae"
            ],
            [
             0.3,
             "#f1b6da"
            ],
            [
             0.4,
             "#fde0ef"
            ],
            [
             0.5,
             "#f7f7f7"
            ],
            [
             0.6,
             "#e6f5d0"
            ],
            [
             0.7,
             "#b8e186"
            ],
            [
             0.8,
             "#7fbc41"
            ],
            [
             0.9,
             "#4d9221"
            ],
            [
             1,
             "#276419"
            ]
           ],
           "sequential": [
            [
             0,
             "#0d0887"
            ],
            [
             0.1111111111111111,
             "#46039f"
            ],
            [
             0.2222222222222222,
             "#7201a8"
            ],
            [
             0.3333333333333333,
             "#9c179e"
            ],
            [
             0.4444444444444444,
             "#bd3786"
            ],
            [
             0.5555555555555556,
             "#d8576b"
            ],
            [
             0.6666666666666666,
             "#ed7953"
            ],
            [
             0.7777777777777778,
             "#fb9f3a"
            ],
            [
             0.8888888888888888,
             "#fdca26"
            ],
            [
             1,
             "#f0f921"
            ]
           ],
           "sequentialminus": [
            [
             0,
             "#0d0887"
            ],
            [
             0.1111111111111111,
             "#46039f"
            ],
            [
             0.2222222222222222,
             "#7201a8"
            ],
            [
             0.3333333333333333,
             "#9c179e"
            ],
            [
             0.4444444444444444,
             "#bd3786"
            ],
            [
             0.5555555555555556,
             "#d8576b"
            ],
            [
             0.6666666666666666,
             "#ed7953"
            ],
            [
             0.7777777777777778,
             "#fb9f3a"
            ],
            [
             0.8888888888888888,
             "#fdca26"
            ],
            [
             1,
             "#f0f921"
            ]
           ]
          },
          "colorway": [
           "#636efa",
           "#EF553B",
           "#00cc96",
           "#ab63fa",
           "#FFA15A",
           "#19d3f3",
           "#FF6692",
           "#B6E880",
           "#FF97FF",
           "#FECB52"
          ],
          "font": {
           "color": "#2a3f5f"
          },
          "geo": {
           "bgcolor": "white",
           "lakecolor": "white",
           "landcolor": "#E5ECF6",
           "showlakes": true,
           "showland": true,
           "subunitcolor": "white"
          },
          "hoverlabel": {
           "align": "left"
          },
          "hovermode": "closest",
          "mapbox": {
           "style": "light"
          },
          "paper_bgcolor": "white",
          "plot_bgcolor": "#E5ECF6",
          "polar": {
           "angularaxis": {
            "gridcolor": "white",
            "linecolor": "white",
            "ticks": ""
           },
           "bgcolor": "#E5ECF6",
           "radialaxis": {
            "gridcolor": "white",
            "linecolor": "white",
            "ticks": ""
           }
          },
          "scene": {
           "xaxis": {
            "backgroundcolor": "#E5ECF6",
            "gridcolor": "white",
            "gridwidth": 2,
            "linecolor": "white",
            "showbackground": true,
            "ticks": "",
            "zerolinecolor": "white"
           },
           "yaxis": {
            "backgroundcolor": "#E5ECF6",
            "gridcolor": "white",
            "gridwidth": 2,
            "linecolor": "white",
            "showbackground": true,
            "ticks": "",
            "zerolinecolor": "white"
           },
           "zaxis": {
            "backgroundcolor": "#E5ECF6",
            "gridcolor": "white",
            "gridwidth": 2,
            "linecolor": "white",
            "showbackground": true,
            "ticks": "",
            "zerolinecolor": "white"
           }
          },
          "shapedefaults": {
           "line": {
            "color": "#2a3f5f"
           }
          },
          "ternary": {
           "aaxis": {
            "gridcolor": "white",
            "linecolor": "white",
            "ticks": ""
           },
           "baxis": {
            "gridcolor": "white",
            "linecolor": "white",
            "ticks": ""
           },
           "bgcolor": "#E5ECF6",
           "caxis": {
            "gridcolor": "white",
            "linecolor": "white",
            "ticks": ""
           }
          },
          "title": {
           "x": 0.05
          },
          "xaxis": {
           "automargin": true,
           "gridcolor": "white",
           "linecolor": "white",
           "ticks": "",
           "title": {
            "standoff": 15
           },
           "zerolinecolor": "white",
           "zerolinewidth": 2
          },
          "yaxis": {
           "automargin": true,
           "gridcolor": "white",
           "linecolor": "white",
           "ticks": "",
           "title": {
            "standoff": 15
           },
           "zerolinecolor": "white",
           "zerolinewidth": 2
          }
         }
        },
        "title": {
         "text": "Distribution of Number of Active Cases"
        },
        "xaxis": {
         "anchor": "y",
         "domain": [
          0,
          1
         ],
         "title": {
          "text": "Date"
         }
        },
        "yaxis": {
         "anchor": "x",
         "domain": [
          0,
          1
         ],
         "title": {
          "text": "Number of Cases"
         }
        }
       }
      },
      "text/html": [
       "<div>\n",
       "        \n",
       "        \n",
       "            <div id=\"2759f414-fe1c-4473-842a-9bda06e1b4b8\" class=\"plotly-graph-div\" style=\"height:525px; width:100%;\"></div>\n",
       "            <script type=\"text/javascript\">\n",
       "                require([\"plotly\"], function(Plotly) {\n",
       "                    window.PLOTLYENV=window.PLOTLYENV || {};\n",
       "                    \n",
       "                if (document.getElementById(\"2759f414-fe1c-4473-842a-9bda06e1b4b8\")) {\n",
       "                    Plotly.newPlot(\n",
       "                        '2759f414-fe1c-4473-842a-9bda06e1b4b8',\n",
       "                        [{\"alignmentgroup\": \"True\", \"hovertemplate\": \"x=%{x}<br>y=%{y}<extra></extra>\", \"legendgroup\": \"\", \"marker\": {\"color\": \"#636efa\"}, \"name\": \"\", \"offsetgroup\": \"\", \"orientation\": \"v\", \"showlegend\": false, \"textposition\": \"auto\", \"type\": \"bar\", \"x\": [\"2020-03-01T00:00:00\", \"2020-03-02T00:00:00\", \"2020-03-03T00:00:00\", \"2020-03-04T00:00:00\", \"2020-03-05T00:00:00\", \"2020-03-06T00:00:00\", \"2020-03-07T00:00:00\", \"2020-03-08T00:00:00\", \"2020-03-09T00:00:00\", \"2020-03-10T00:00:00\", \"2020-03-11T00:00:00\", \"2020-03-12T00:00:00\", \"2020-03-13T00:00:00\", \"2020-03-14T00:00:00\", \"2020-03-15T00:00:00\", \"2020-03-16T00:00:00\", \"2020-03-17T00:00:00\", \"2020-03-18T00:00:00\", \"2020-03-19T00:00:00\", \"2020-03-20T00:00:00\", \"2020-03-21T00:00:00\", \"2020-03-22T00:00:00\", \"2020-03-23T00:00:00\", \"2020-03-24T00:00:00\", \"2020-03-25T00:00:00\", \"2020-03-26T00:00:00\", \"2020-03-27T00:00:00\", \"2020-03-28T00:00:00\", \"2020-03-29T00:00:00\", \"2020-03-30T00:00:00\", \"2020-03-31T00:00:00\", \"2020-04-01T00:00:00\", \"2020-04-02T00:00:00\", \"2020-04-03T00:00:00\", \"2020-04-04T00:00:00\", \"2020-04-05T00:00:00\", \"2020-04-06T00:00:00\", \"2020-04-07T00:00:00\", \"2020-04-08T00:00:00\", \"2020-04-09T00:00:00\", \"2020-04-10T00:00:00\", \"2020-04-11T00:00:00\", \"2020-04-12T00:00:00\", \"2020-04-13T00:00:00\", \"2020-04-14T00:00:00\", \"2020-04-15T00:00:00\", \"2020-04-16T00:00:00\", \"2020-04-17T00:00:00\", \"2020-04-18T00:00:00\", \"2020-04-19T00:00:00\", \"2020-04-20T00:00:00\", \"2020-04-21T00:00:00\", \"2020-04-22T00:00:00\", \"2020-04-23T00:00:00\", \"2020-04-24T00:00:00\", \"2020-04-25T00:00:00\", \"2020-04-26T00:00:00\", \"2020-04-27T00:00:00\", \"2020-04-28T00:00:00\", \"2020-04-29T00:00:00\", \"2020-04-30T00:00:00\", \"2020-05-01T00:00:00\", \"2020-05-02T00:00:00\", \"2020-05-03T00:00:00\", \"2020-05-04T00:00:00\", \"2020-05-05T00:00:00\", \"2020-05-06T00:00:00\", \"2020-05-07T00:00:00\", \"2020-05-08T00:00:00\", \"2020-05-09T00:00:00\", \"2020-05-10T00:00:00\", \"2020-05-11T00:00:00\", \"2020-05-12T00:00:00\", \"2020-05-13T00:00:00\", \"2020-05-14T00:00:00\", \"2020-05-15T00:00:00\", \"2020-05-16T00:00:00\", \"2020-05-17T00:00:00\", \"2020-05-18T00:00:00\", \"2020-05-19T00:00:00\", \"2020-05-20T00:00:00\", \"2020-05-21T00:00:00\", \"2020-05-22T00:00:00\", \"2020-05-23T00:00:00\", \"2020-05-24T00:00:00\", \"2020-05-25T00:00:00\", \"2020-05-26T00:00:00\", \"2020-05-27T00:00:00\", \"2020-05-28T00:00:00\", \"2020-05-29T00:00:00\", \"2020-05-30T00:00:00\"], \"xaxis\": \"x\", \"y\": [42071.0, 41070.0, 40553.0, 40037.0, 42187.0, 41098.0, 43037.0, 46501.0, 47168.0, 49776.0, 52552.0, 57832.0, 63648.0, 71573.0, 80869.0, 93157.0, 89958.0, 98874.0, 147362.0, 172811.0, 197203.0, 223156.0, 260319.0, 290746.0, 328673.0, 384446.0, 428609.0, 490234.0, 535589.0, 575700.0, 636949.0, 692537.0, 748441.0, 811334.0, 885896.0, 942794.0, 991083.0, 1044783.0, 1088326.0, 1139068.0, 1207198.0, 1270719.0, 1309371.0, 1345904.0, 1372253.0, 1411464.0, 1465973.0, 1513035.0, 1561199.0, 1617473.0, 1655281.0, 1703785.0, 1736852.0, 1773166.0, 1813684.0, 1855377.0, 1895634.0, 1915359.0, 1953655.0, 1987274.0, 2012106.0, 2028418.0, 2083185.0, 2130892.0, 2164963.0, 2205195.0, 2243267.0, 2288717.0, 2345470.0, 2375888.0, 2411781.0, 2430356.0, 2462258.0, 2500257.0, 2548724.0, 2592524.0, 2635841.0, 2663247.0, 2692336.0, 2887449.0, 2756639.0, 2807474.0, 2852054.0, 2849801.0, 2881474.0, 2903334.0, 2939252.0, 2990060.0, 3044378.0, 3065473.0, 1269978.0], \"yaxis\": \"y\"}],\n",
       "                        {\"barmode\": \"relative\", \"legend\": {\"tracegroupgap\": 0}, \"margin\": {\"t\": 60}, \"template\": {\"data\": {\"bar\": [{\"error_x\": {\"color\": \"#2a3f5f\"}, \"error_y\": {\"color\": \"#2a3f5f\"}, \"marker\": {\"line\": {\"color\": \"#E5ECF6\", \"width\": 0.5}}, \"type\": \"bar\"}], \"barpolar\": [{\"marker\": {\"line\": {\"color\": \"#E5ECF6\", \"width\": 0.5}}, \"type\": \"barpolar\"}], \"carpet\": [{\"aaxis\": {\"endlinecolor\": \"#2a3f5f\", \"gridcolor\": \"white\", \"linecolor\": \"white\", \"minorgridcolor\": \"white\", \"startlinecolor\": \"#2a3f5f\"}, \"baxis\": {\"endlinecolor\": \"#2a3f5f\", \"gridcolor\": \"white\", \"linecolor\": \"white\", \"minorgridcolor\": \"white\", \"startlinecolor\": \"#2a3f5f\"}, \"type\": \"carpet\"}], \"choropleth\": [{\"colorbar\": {\"outlinewidth\": 0, \"ticks\": \"\"}, \"type\": \"choropleth\"}], \"contour\": [{\"colorbar\": {\"outlinewidth\": 0, \"ticks\": \"\"}, \"colorscale\": [[0.0, \"#0d0887\"], [0.1111111111111111, \"#46039f\"], [0.2222222222222222, \"#7201a8\"], [0.3333333333333333, \"#9c179e\"], [0.4444444444444444, \"#bd3786\"], [0.5555555555555556, \"#d8576b\"], [0.6666666666666666, \"#ed7953\"], [0.7777777777777778, \"#fb9f3a\"], [0.8888888888888888, \"#fdca26\"], [1.0, \"#f0f921\"]], \"type\": \"contour\"}], \"contourcarpet\": [{\"colorbar\": {\"outlinewidth\": 0, \"ticks\": \"\"}, \"type\": \"contourcarpet\"}], \"heatmap\": [{\"colorbar\": {\"outlinewidth\": 0, \"ticks\": \"\"}, \"colorscale\": [[0.0, \"#0d0887\"], [0.1111111111111111, \"#46039f\"], [0.2222222222222222, \"#7201a8\"], [0.3333333333333333, \"#9c179e\"], [0.4444444444444444, \"#bd3786\"], [0.5555555555555556, \"#d8576b\"], [0.6666666666666666, \"#ed7953\"], [0.7777777777777778, \"#fb9f3a\"], [0.8888888888888888, \"#fdca26\"], [1.0, \"#f0f921\"]], \"type\": \"heatmap\"}], \"heatmapgl\": [{\"colorbar\": {\"outlinewidth\": 0, \"ticks\": \"\"}, \"colorscale\": [[0.0, \"#0d0887\"], [0.1111111111111111, \"#46039f\"], [0.2222222222222222, \"#7201a8\"], [0.3333333333333333, \"#9c179e\"], [0.4444444444444444, \"#bd3786\"], [0.5555555555555556, \"#d8576b\"], [0.6666666666666666, \"#ed7953\"], [0.7777777777777778, \"#fb9f3a\"], [0.8888888888888888, \"#fdca26\"], [1.0, \"#f0f921\"]], \"type\": \"heatmapgl\"}], \"histogram\": [{\"marker\": {\"colorbar\": {\"outlinewidth\": 0, \"ticks\": \"\"}}, \"type\": \"histogram\"}], \"histogram2d\": [{\"colorbar\": {\"outlinewidth\": 0, \"ticks\": \"\"}, \"colorscale\": [[0.0, \"#0d0887\"], [0.1111111111111111, \"#46039f\"], [0.2222222222222222, \"#7201a8\"], [0.3333333333333333, \"#9c179e\"], [0.4444444444444444, \"#bd3786\"], [0.5555555555555556, \"#d8576b\"], [0.6666666666666666, \"#ed7953\"], [0.7777777777777778, \"#fb9f3a\"], [0.8888888888888888, \"#fdca26\"], [1.0, \"#f0f921\"]], \"type\": \"histogram2d\"}], \"histogram2dcontour\": [{\"colorbar\": {\"outlinewidth\": 0, \"ticks\": \"\"}, \"colorscale\": [[0.0, \"#0d0887\"], [0.1111111111111111, \"#46039f\"], [0.2222222222222222, \"#7201a8\"], [0.3333333333333333, \"#9c179e\"], [0.4444444444444444, \"#bd3786\"], [0.5555555555555556, \"#d8576b\"], [0.6666666666666666, \"#ed7953\"], [0.7777777777777778, \"#fb9f3a\"], [0.8888888888888888, \"#fdca26\"], [1.0, \"#f0f921\"]], \"type\": \"histogram2dcontour\"}], \"mesh3d\": [{\"colorbar\": {\"outlinewidth\": 0, \"ticks\": \"\"}, \"type\": \"mesh3d\"}], \"parcoords\": [{\"line\": {\"colorbar\": {\"outlinewidth\": 0, \"ticks\": \"\"}}, \"type\": \"parcoords\"}], \"pie\": [{\"automargin\": true, \"type\": \"pie\"}], \"scatter\": [{\"marker\": {\"colorbar\": {\"outlinewidth\": 0, \"ticks\": \"\"}}, \"type\": \"scatter\"}], \"scatter3d\": [{\"line\": {\"colorbar\": {\"outlinewidth\": 0, \"ticks\": \"\"}}, \"marker\": {\"colorbar\": {\"outlinewidth\": 0, \"ticks\": \"\"}}, \"type\": \"scatter3d\"}], \"scattercarpet\": [{\"marker\": {\"colorbar\": {\"outlinewidth\": 0, \"ticks\": \"\"}}, \"type\": \"scattercarpet\"}], \"scattergeo\": [{\"marker\": {\"colorbar\": {\"outlinewidth\": 0, \"ticks\": \"\"}}, \"type\": \"scattergeo\"}], \"scattergl\": [{\"marker\": {\"colorbar\": {\"outlinewidth\": 0, \"ticks\": \"\"}}, \"type\": \"scattergl\"}], \"scattermapbox\": [{\"marker\": {\"colorbar\": {\"outlinewidth\": 0, \"ticks\": \"\"}}, \"type\": \"scattermapbox\"}], \"scatterpolar\": [{\"marker\": {\"colorbar\": {\"outlinewidth\": 0, \"ticks\": \"\"}}, \"type\": \"scatterpolar\"}], \"scatterpolargl\": [{\"marker\": {\"colorbar\": {\"outlinewidth\": 0, \"ticks\": \"\"}}, \"type\": \"scatterpolargl\"}], \"scatterternary\": [{\"marker\": {\"colorbar\": {\"outlinewidth\": 0, \"ticks\": \"\"}}, \"type\": \"scatterternary\"}], \"surface\": [{\"colorbar\": {\"outlinewidth\": 0, \"ticks\": \"\"}, \"colorscale\": [[0.0, \"#0d0887\"], [0.1111111111111111, \"#46039f\"], [0.2222222222222222, \"#7201a8\"], [0.3333333333333333, \"#9c179e\"], [0.4444444444444444, \"#bd3786\"], [0.5555555555555556, \"#d8576b\"], [0.6666666666666666, \"#ed7953\"], [0.7777777777777778, \"#fb9f3a\"], [0.8888888888888888, \"#fdca26\"], [1.0, \"#f0f921\"]], \"type\": \"surface\"}], \"table\": [{\"cells\": {\"fill\": {\"color\": \"#EBF0F8\"}, \"line\": {\"color\": \"white\"}}, \"header\": {\"fill\": {\"color\": \"#C8D4E3\"}, \"line\": {\"color\": \"white\"}}, \"type\": \"table\"}]}, \"layout\": {\"annotationdefaults\": {\"arrowcolor\": \"#2a3f5f\", \"arrowhead\": 0, \"arrowwidth\": 1}, \"coloraxis\": {\"colorbar\": {\"outlinewidth\": 0, \"ticks\": \"\"}}, \"colorscale\": {\"diverging\": [[0, \"#8e0152\"], [0.1, \"#c51b7d\"], [0.2, \"#de77ae\"], [0.3, \"#f1b6da\"], [0.4, \"#fde0ef\"], [0.5, \"#f7f7f7\"], [0.6, \"#e6f5d0\"], [0.7, \"#b8e186\"], [0.8, \"#7fbc41\"], [0.9, \"#4d9221\"], [1, \"#276419\"]], \"sequential\": [[0.0, \"#0d0887\"], [0.1111111111111111, \"#46039f\"], [0.2222222222222222, \"#7201a8\"], [0.3333333333333333, \"#9c179e\"], [0.4444444444444444, \"#bd3786\"], [0.5555555555555556, \"#d8576b\"], [0.6666666666666666, \"#ed7953\"], [0.7777777777777778, \"#fb9f3a\"], [0.8888888888888888, \"#fdca26\"], [1.0, \"#f0f921\"]], \"sequentialminus\": [[0.0, \"#0d0887\"], [0.1111111111111111, \"#46039f\"], [0.2222222222222222, \"#7201a8\"], [0.3333333333333333, \"#9c179e\"], [0.4444444444444444, \"#bd3786\"], [0.5555555555555556, \"#d8576b\"], [0.6666666666666666, \"#ed7953\"], [0.7777777777777778, \"#fb9f3a\"], [0.8888888888888888, \"#fdca26\"], [1.0, \"#f0f921\"]]}, \"colorway\": [\"#636efa\", \"#EF553B\", \"#00cc96\", \"#ab63fa\", \"#FFA15A\", \"#19d3f3\", \"#FF6692\", \"#B6E880\", \"#FF97FF\", \"#FECB52\"], \"font\": {\"color\": \"#2a3f5f\"}, \"geo\": {\"bgcolor\": \"white\", \"lakecolor\": \"white\", \"landcolor\": \"#E5ECF6\", \"showlakes\": true, \"showland\": true, \"subunitcolor\": \"white\"}, \"hoverlabel\": {\"align\": \"left\"}, \"hovermode\": \"closest\", \"mapbox\": {\"style\": \"light\"}, \"paper_bgcolor\": \"white\", \"plot_bgcolor\": \"#E5ECF6\", \"polar\": {\"angularaxis\": {\"gridcolor\": \"white\", \"linecolor\": \"white\", \"ticks\": \"\"}, \"bgcolor\": \"#E5ECF6\", \"radialaxis\": {\"gridcolor\": \"white\", \"linecolor\": \"white\", \"ticks\": \"\"}}, \"scene\": {\"xaxis\": {\"backgroundcolor\": \"#E5ECF6\", \"gridcolor\": \"white\", \"gridwidth\": 2, \"linecolor\": \"white\", \"showbackground\": true, \"ticks\": \"\", \"zerolinecolor\": \"white\"}, \"yaxis\": {\"backgroundcolor\": \"#E5ECF6\", \"gridcolor\": \"white\", \"gridwidth\": 2, \"linecolor\": \"white\", \"showbackground\": true, \"ticks\": \"\", \"zerolinecolor\": \"white\"}, \"zaxis\": {\"backgroundcolor\": \"#E5ECF6\", \"gridcolor\": \"white\", \"gridwidth\": 2, \"linecolor\": \"white\", \"showbackground\": true, \"ticks\": \"\", \"zerolinecolor\": \"white\"}}, \"shapedefaults\": {\"line\": {\"color\": \"#2a3f5f\"}}, \"ternary\": {\"aaxis\": {\"gridcolor\": \"white\", \"linecolor\": \"white\", \"ticks\": \"\"}, \"baxis\": {\"gridcolor\": \"white\", \"linecolor\": \"white\", \"ticks\": \"\"}, \"bgcolor\": \"#E5ECF6\", \"caxis\": {\"gridcolor\": \"white\", \"linecolor\": \"white\", \"ticks\": \"\"}}, \"title\": {\"x\": 0.05}, \"xaxis\": {\"automargin\": true, \"gridcolor\": \"white\", \"linecolor\": \"white\", \"ticks\": \"\", \"title\": {\"standoff\": 15}, \"zerolinecolor\": \"white\", \"zerolinewidth\": 2}, \"yaxis\": {\"automargin\": true, \"gridcolor\": \"white\", \"linecolor\": \"white\", \"ticks\": \"\", \"title\": {\"standoff\": 15}, \"zerolinecolor\": \"white\", \"zerolinewidth\": 2}}}, \"title\": {\"text\": \"Distribution of Number of Active Cases\"}, \"xaxis\": {\"anchor\": \"y\", \"domain\": [0.0, 1.0], \"title\": {\"text\": \"Date\"}}, \"yaxis\": {\"anchor\": \"x\", \"domain\": [0.0, 1.0], \"title\": {\"text\": \"Number of Cases\"}}},\n",
       "                        {\"responsive\": true}\n",
       "                    ).then(function(){\n",
       "                            \n",
       "var gd = document.getElementById('2759f414-fe1c-4473-842a-9bda06e1b4b8');\n",
       "var x = new MutationObserver(function (mutations, observer) {{\n",
       "        var display = window.getComputedStyle(gd).display;\n",
       "        if (!display || display === 'none') {{\n",
       "            console.log([gd, 'removed!']);\n",
       "            Plotly.purge(gd);\n",
       "            observer.disconnect();\n",
       "        }}\n",
       "}});\n",
       "\n",
       "// Listen for the removal of the full notebook cells\n",
       "var notebookContainer = gd.closest('#notebook-container');\n",
       "if (notebookContainer) {{\n",
       "    x.observe(notebookContainer, {childList: true});\n",
       "}}\n",
       "\n",
       "// Listen for the clearing of the current output cell\n",
       "var outputEl = gd.closest('.output');\n",
       "if (outputEl) {{\n",
       "    x.observe(outputEl, {childList: true});\n",
       "}}\n",
       "\n",
       "                        })\n",
       "                };\n",
       "                });\n",
       "            </script>\n",
       "        </div>"
      ]
     },
     "metadata": {},
     "output_type": "display_data"
    }
   ],
   "source": [
    "fig=px.bar(x=datewise.index,y=datewise[\"Confirmed\"]-datewise[\"Recovered\"]-datewise[\"Deaths\"])\n",
    "fig.update_layout(title=\"Distribution of Number of Active Cases\",\n",
    "                  xaxis_title=\"Date\",yaxis_title=\"Number of Cases\",)\n",
    "fig.show()"
   ]
  },
  {
   "cell_type": "code",
   "execution_count": 62,
   "metadata": {},
   "outputs": [],
   "source": [
    "datewise[\"WeekOfYear\"]=datewise.index.weekofyear\n",
    "\n",
    "week_num=[]\n",
    "weekwise_confirmed=[]\n",
    "weekwise_recovered=[]\n",
    "weekwise_deaths=[]\n",
    "w=1\n",
    "for i in list(datewise[\"WeekOfYear\"].unique()):\n",
    "    weekwise_confirmed.append(datewise[datewise[\"WeekOfYear\"]==i][\"Confirmed\"].iloc[-1])\n",
    "    weekwise_recovered.append(datewise[datewise[\"WeekOfYear\"]==i][\"Recovered\"].iloc[-1])\n",
    "    weekwise_deaths.append(datewise[datewise[\"WeekOfYear\"]==i][\"Deaths\"].iloc[-1])\n",
    "    week_num.append(w)\n",
    "    w=w+1\n"
   ]
  },
  {
   "cell_type": "code",
   "execution_count": 63,
   "metadata": {},
   "outputs": [
    {
     "name": "stdout",
     "output_type": "stream",
     "text": [
      "Average Fatality Rate 5.651474085033171\n",
      "Median Fatality Rate 6.199641728251085\n",
      "Average Recovery Rate 33.469376441528105\n",
      "Median Recovery Rate 32.481308866973464\n"
     ]
    },
    {
     "data": {
      "application/vnd.plotly.v1+json": {
       "config": {
        "plotlyServerURL": "https://plot.ly"
       },
       "data": [
        {
         "name": "Recovery Rate",
         "type": "scatter",
         "x": [
          "2020-03-01T00:00:00",
          "2020-03-02T00:00:00",
          "2020-03-03T00:00:00",
          "2020-03-04T00:00:00",
          "2020-03-05T00:00:00",
          "2020-03-06T00:00:00",
          "2020-03-07T00:00:00",
          "2020-03-08T00:00:00",
          "2020-03-09T00:00:00",
          "2020-03-10T00:00:00",
          "2020-03-11T00:00:00",
          "2020-03-12T00:00:00",
          "2020-03-13T00:00:00",
          "2020-03-14T00:00:00",
          "2020-03-15T00:00:00",
          "2020-03-16T00:00:00",
          "2020-03-17T00:00:00",
          "2020-03-18T00:00:00",
          "2020-03-19T00:00:00",
          "2020-03-20T00:00:00",
          "2020-03-21T00:00:00",
          "2020-03-22T00:00:00",
          "2020-03-23T00:00:00",
          "2020-03-24T00:00:00",
          "2020-03-25T00:00:00",
          "2020-03-26T00:00:00",
          "2020-03-27T00:00:00",
          "2020-03-28T00:00:00",
          "2020-03-29T00:00:00",
          "2020-03-30T00:00:00",
          "2020-03-31T00:00:00",
          "2020-04-01T00:00:00",
          "2020-04-02T00:00:00",
          "2020-04-03T00:00:00",
          "2020-04-04T00:00:00",
          "2020-04-05T00:00:00",
          "2020-04-06T00:00:00",
          "2020-04-07T00:00:00",
          "2020-04-08T00:00:00",
          "2020-04-09T00:00:00",
          "2020-04-10T00:00:00",
          "2020-04-11T00:00:00",
          "2020-04-12T00:00:00",
          "2020-04-13T00:00:00",
          "2020-04-14T00:00:00",
          "2020-04-15T00:00:00",
          "2020-04-16T00:00:00",
          "2020-04-17T00:00:00",
          "2020-04-18T00:00:00",
          "2020-04-19T00:00:00",
          "2020-04-20T00:00:00",
          "2020-04-21T00:00:00",
          "2020-04-22T00:00:00",
          "2020-04-23T00:00:00",
          "2020-04-24T00:00:00",
          "2020-04-25T00:00:00",
          "2020-04-26T00:00:00",
          "2020-04-27T00:00:00",
          "2020-04-28T00:00:00",
          "2020-04-29T00:00:00",
          "2020-04-30T00:00:00",
          "2020-05-01T00:00:00",
          "2020-05-02T00:00:00",
          "2020-05-03T00:00:00",
          "2020-05-04T00:00:00",
          "2020-05-05T00:00:00",
          "2020-05-06T00:00:00",
          "2020-05-07T00:00:00",
          "2020-05-08T00:00:00",
          "2020-05-09T00:00:00",
          "2020-05-10T00:00:00",
          "2020-05-11T00:00:00",
          "2020-05-12T00:00:00",
          "2020-05-13T00:00:00",
          "2020-05-14T00:00:00",
          "2020-05-15T00:00:00",
          "2020-05-16T00:00:00",
          "2020-05-17T00:00:00",
          "2020-05-18T00:00:00",
          "2020-05-19T00:00:00",
          "2020-05-20T00:00:00",
          "2020-05-21T00:00:00",
          "2020-05-22T00:00:00",
          "2020-05-23T00:00:00",
          "2020-05-24T00:00:00",
          "2020-05-25T00:00:00",
          "2020-05-26T00:00:00",
          "2020-05-27T00:00:00",
          "2020-05-28T00:00:00",
          "2020-05-29T00:00:00",
          "2020-05-30T00:00:00"
         ],
         "xaxis": "x",
         "y": [
          48.30209899353891,
          50.40585510635427,
          51.94730876316456,
          53.55619769902569,
          52.301623935210436,
          54.70303079680626,
          54.35654929508373,
          52.56473396094179,
          53.478375936556034,
          52.693884012594324,
          51.95699760816099,
          50.14769279897813,
          48.323603630748366,
          46.002357332285634,
          43.58670375267886,
          40.44533325373847,
          45.629246668267164,
          44.183187095491476,
          35.70561971249882,
          33.05455602805946,
          31.07977403204601,
          29.110055664379864,
          26.846091639930865,
          25.932869322875142,
          24.558738160543996,
          22.93255087667622,
          22.525418482272546,
          21.352338949589537,
          20.948758701581728,
          21.156434053874634,
          20.761533569440633,
          20.722492373512903,
          20.77983964250759,
          20.60338511036876,
          20.568081815013628,
          20.43934707160909,
          20.587045152905528,
          21.040238525316667,
          21.838361004962888,
          22.25863134596641,
          22.287015983186464,
          21.874316425840775,
          22.922744092252874,
          23.42242735332264,
          23.996805486283023,
          24.85434484972435,
          25.172055212000377,
          25.410353747288067,
          25.564319138291296,
          25.555790837454595,
          26.122586939010123,
          26.549187191271717,
          26.97141839876389,
          27.33021948344372,
          27.996629148265168,
          28.2952401902153,
          29.11832379374802,
          29.27129606838484,
          29.70643110498669,
          30.228761313867462,
          30.966610875518846,
          31.471233580036422,
          31.95627962695193,
          32.09841679025826,
          32.481308866973464,
          32.72072497500185,
          33.06774983075561,
          33.32709454501377,
          33.385169605298486,
          33.9368326538657,
          34.240368567675446,
          34.84830128967114,
          34.99025866043826,
          35.51933572102017,
          35.71759734270812,
          36.01840412144284,
          36.29914806278087,
          36.77533332172834,
          37.116414076418856,
          34.34355561455075,
          37.94834009534507,
          38.1525655889503,
          38.45788308085224,
          39.58656954144521,
          40.085411534550786,
          40.636280631781176,
          40.85653690415587,
          41.13384352954365,
          41.34197858640497,
          42.02905654458473,
          22.167443380175218
         ],
         "yaxis": "y"
        },
        {
         "name": "Fatality Rate",
         "type": "scatter",
         "x": [
          "2020-03-01T00:00:00",
          "2020-03-02T00:00:00",
          "2020-03-03T00:00:00",
          "2020-03-04T00:00:00",
          "2020-03-05T00:00:00",
          "2020-03-06T00:00:00",
          "2020-03-07T00:00:00",
          "2020-03-08T00:00:00",
          "2020-03-09T00:00:00",
          "2020-03-10T00:00:00",
          "2020-03-11T00:00:00",
          "2020-03-12T00:00:00",
          "2020-03-13T00:00:00",
          "2020-03-14T00:00:00",
          "2020-03-15T00:00:00",
          "2020-03-16T00:00:00",
          "2020-03-17T00:00:00",
          "2020-03-18T00:00:00",
          "2020-03-19T00:00:00",
          "2020-03-20T00:00:00",
          "2020-03-21T00:00:00",
          "2020-03-22T00:00:00",
          "2020-03-23T00:00:00",
          "2020-03-24T00:00:00",
          "2020-03-25T00:00:00",
          "2020-03-26T00:00:00",
          "2020-03-27T00:00:00",
          "2020-03-28T00:00:00",
          "2020-03-29T00:00:00",
          "2020-03-30T00:00:00",
          "2020-03-31T00:00:00",
          "2020-04-01T00:00:00",
          "2020-04-02T00:00:00",
          "2020-04-03T00:00:00",
          "2020-04-04T00:00:00",
          "2020-04-05T00:00:00",
          "2020-04-06T00:00:00",
          "2020-04-07T00:00:00",
          "2020-04-08T00:00:00",
          "2020-04-09T00:00:00",
          "2020-04-10T00:00:00",
          "2020-04-11T00:00:00",
          "2020-04-12T00:00:00",
          "2020-04-13T00:00:00",
          "2020-04-14T00:00:00",
          "2020-04-15T00:00:00",
          "2020-04-16T00:00:00",
          "2020-04-17T00:00:00",
          "2020-04-18T00:00:00",
          "2020-04-19T00:00:00",
          "2020-04-20T00:00:00",
          "2020-04-21T00:00:00",
          "2020-04-22T00:00:00",
          "2020-04-23T00:00:00",
          "2020-04-24T00:00:00",
          "2020-04-25T00:00:00",
          "2020-04-26T00:00:00",
          "2020-04-27T00:00:00",
          "2020-04-28T00:00:00",
          "2020-04-29T00:00:00",
          "2020-04-30T00:00:00",
          "2020-05-01T00:00:00",
          "2020-05-02T00:00:00",
          "2020-05-03T00:00:00",
          "2020-05-04T00:00:00",
          "2020-05-05T00:00:00",
          "2020-05-06T00:00:00",
          "2020-05-07T00:00:00",
          "2020-05-08T00:00:00",
          "2020-05-09T00:00:00",
          "2020-05-10T00:00:00",
          "2020-05-11T00:00:00",
          "2020-05-12T00:00:00",
          "2020-05-13T00:00:00",
          "2020-05-14T00:00:00",
          "2020-05-15T00:00:00",
          "2020-05-16T00:00:00",
          "2020-05-17T00:00:00",
          "2020-05-18T00:00:00",
          "2020-05-19T00:00:00",
          "2020-05-20T00:00:00",
          "2020-05-21T00:00:00",
          "2020-05-22T00:00:00",
          "2020-05-23T00:00:00",
          "2020-05-24T00:00:00",
          "2020-05-25T00:00:00",
          "2020-05-26T00:00:00",
          "2020-05-27T00:00:00",
          "2020-05-28T00:00:00",
          "2020-05-29T00:00:00",
          "2020-05-30T00:00:00"
         ],
         "xaxis": "x2",
         "y": [
          3.4164591390568875,
          3.421099968520933,
          3.4247102972410834,
          3.4353482076677664,
          3.4419453652805165,
          3.4422356200097766,
          3.4200947737105967,
          3.3943894076866252,
          3.4760944358761416,
          3.528521925735695,
          3.627481638621016,
          3.6827399010059074,
          3.7324394561410115,
          3.782957048844486,
          3.7357426213383533,
          3.9435274453034053,
          4.146032348655304,
          4.084718537935509,
          4.0972389593094745,
          4.1347726529277065,
          4.263292666533333,
          4.35625203113866,
          4.358155784711174,
          4.454548284142958,
          4.5128585825670555,
          4.477600667656066,
          4.576687450464148,
          4.654655334537787,
          4.7067315366837175,
          4.7781640219944785,
          4.91145976159775,
          5.019166742618793,
          5.2262503830982014,
          5.364183601495369,
          5.3945792622641875,
          5.448328177877,
          5.556644387427743,
          5.698003500465607,
          5.846225608333981,
          5.975898574163831,
          6.062084491459984,
          6.114850659234669,
          5.868264254622106,
          6.219068932727559,
          6.376748648699388,
          6.496518818805917,
          6.681157810132861,
          6.865331995887399,
          6.8680396023149255,
          6.888803407772906,
          6.873110131516631,
          6.909811505859784,
          6.960797962945635,
          6.980859751539081,
          7.0197414103832845,
          7.024551522569503,
          6.9558094573918945,
          6.932378244301125,
          6.934531811107432,
          7.087831412137834,
          7.103799235585355,
          7.122885748052854,
          7.117341447550059,
          7.0559140362168575,
          7.016150961028712,
          7.0160422663421205,
          7.0252911871408985,
          7.012093951981314,
          6.9776063236861585,
          6.937089973924569,
          6.894901294995213,
          6.847786946970643,
          6.848511304111204,
          6.830847229161906,
          6.808679043609443,
          6.774355770794502,
          6.729798263618115,
          6.687514621236213,
          6.637074777632559,
          6.599796657467643,
          6.57145174511828,
          6.547864560004381,
          6.493595229630213,
          6.447520737138694,
          6.39122799652722,
          6.303465351601164,
          6.270945273810829,
          6.246386862990196,
          6.199641728251085,
          6.158357424299378,
          5.54167584549065
         ],
         "yaxis": "y2"
        }
       ],
       "layout": {
        "annotations": [
         {
          "font": {
           "size": 16
          },
          "showarrow": false,
          "text": "Recovery Rate",
          "x": 0.5,
          "xanchor": "center",
          "xref": "paper",
          "y": 1,
          "yanchor": "bottom",
          "yref": "paper"
         },
         {
          "font": {
           "size": 16
          },
          "showarrow": false,
          "text": "Fatality Rate",
          "x": 0.5,
          "xanchor": "center",
          "xref": "paper",
          "y": 0.375,
          "yanchor": "bottom",
          "yref": "paper"
         }
        ],
        "height": 1000,
        "legend": {
         "traceorder": "normal",
         "x": -0.1,
         "y": 1.2
        },
        "template": {
         "data": {
          "bar": [
           {
            "error_x": {
             "color": "#2a3f5f"
            },
            "error_y": {
             "color": "#2a3f5f"
            },
            "marker": {
             "line": {
              "color": "#E5ECF6",
              "width": 0.5
             }
            },
            "type": "bar"
           }
          ],
          "barpolar": [
           {
            "marker": {
             "line": {
              "color": "#E5ECF6",
              "width": 0.5
             }
            },
            "type": "barpolar"
           }
          ],
          "carpet": [
           {
            "aaxis": {
             "endlinecolor": "#2a3f5f",
             "gridcolor": "white",
             "linecolor": "white",
             "minorgridcolor": "white",
             "startlinecolor": "#2a3f5f"
            },
            "baxis": {
             "endlinecolor": "#2a3f5f",
             "gridcolor": "white",
             "linecolor": "white",
             "minorgridcolor": "white",
             "startlinecolor": "#2a3f5f"
            },
            "type": "carpet"
           }
          ],
          "choropleth": [
           {
            "colorbar": {
             "outlinewidth": 0,
             "ticks": ""
            },
            "type": "choropleth"
           }
          ],
          "contour": [
           {
            "colorbar": {
             "outlinewidth": 0,
             "ticks": ""
            },
            "colorscale": [
             [
              0,
              "#0d0887"
             ],
             [
              0.1111111111111111,
              "#46039f"
             ],
             [
              0.2222222222222222,
              "#7201a8"
             ],
             [
              0.3333333333333333,
              "#9c179e"
             ],
             [
              0.4444444444444444,
              "#bd3786"
             ],
             [
              0.5555555555555556,
              "#d8576b"
             ],
             [
              0.6666666666666666,
              "#ed7953"
             ],
             [
              0.7777777777777778,
              "#fb9f3a"
             ],
             [
              0.8888888888888888,
              "#fdca26"
             ],
             [
              1,
              "#f0f921"
             ]
            ],
            "type": "contour"
           }
          ],
          "contourcarpet": [
           {
            "colorbar": {
             "outlinewidth": 0,
             "ticks": ""
            },
            "type": "contourcarpet"
           }
          ],
          "heatmap": [
           {
            "colorbar": {
             "outlinewidth": 0,
             "ticks": ""
            },
            "colorscale": [
             [
              0,
              "#0d0887"
             ],
             [
              0.1111111111111111,
              "#46039f"
             ],
             [
              0.2222222222222222,
              "#7201a8"
             ],
             [
              0.3333333333333333,
              "#9c179e"
             ],
             [
              0.4444444444444444,
              "#bd3786"
             ],
             [
              0.5555555555555556,
              "#d8576b"
             ],
             [
              0.6666666666666666,
              "#ed7953"
             ],
             [
              0.7777777777777778,
              "#fb9f3a"
             ],
             [
              0.8888888888888888,
              "#fdca26"
             ],
             [
              1,
              "#f0f921"
             ]
            ],
            "type": "heatmap"
           }
          ],
          "heatmapgl": [
           {
            "colorbar": {
             "outlinewidth": 0,
             "ticks": ""
            },
            "colorscale": [
             [
              0,
              "#0d0887"
             ],
             [
              0.1111111111111111,
              "#46039f"
             ],
             [
              0.2222222222222222,
              "#7201a8"
             ],
             [
              0.3333333333333333,
              "#9c179e"
             ],
             [
              0.4444444444444444,
              "#bd3786"
             ],
             [
              0.5555555555555556,
              "#d8576b"
             ],
             [
              0.6666666666666666,
              "#ed7953"
             ],
             [
              0.7777777777777778,
              "#fb9f3a"
             ],
             [
              0.8888888888888888,
              "#fdca26"
             ],
             [
              1,
              "#f0f921"
             ]
            ],
            "type": "heatmapgl"
           }
          ],
          "histogram": [
           {
            "marker": {
             "colorbar": {
              "outlinewidth": 0,
              "ticks": ""
             }
            },
            "type": "histogram"
           }
          ],
          "histogram2d": [
           {
            "colorbar": {
             "outlinewidth": 0,
             "ticks": ""
            },
            "colorscale": [
             [
              0,
              "#0d0887"
             ],
             [
              0.1111111111111111,
              "#46039f"
             ],
             [
              0.2222222222222222,
              "#7201a8"
             ],
             [
              0.3333333333333333,
              "#9c179e"
             ],
             [
              0.4444444444444444,
              "#bd3786"
             ],
             [
              0.5555555555555556,
              "#d8576b"
             ],
             [
              0.6666666666666666,
              "#ed7953"
             ],
             [
              0.7777777777777778,
              "#fb9f3a"
             ],
             [
              0.8888888888888888,
              "#fdca26"
             ],
             [
              1,
              "#f0f921"
             ]
            ],
            "type": "histogram2d"
           }
          ],
          "histogram2dcontour": [
           {
            "colorbar": {
             "outlinewidth": 0,
             "ticks": ""
            },
            "colorscale": [
             [
              0,
              "#0d0887"
             ],
             [
              0.1111111111111111,
              "#46039f"
             ],
             [
              0.2222222222222222,
              "#7201a8"
             ],
             [
              0.3333333333333333,
              "#9c179e"
             ],
             [
              0.4444444444444444,
              "#bd3786"
             ],
             [
              0.5555555555555556,
              "#d8576b"
             ],
             [
              0.6666666666666666,
              "#ed7953"
             ],
             [
              0.7777777777777778,
              "#fb9f3a"
             ],
             [
              0.8888888888888888,
              "#fdca26"
             ],
             [
              1,
              "#f0f921"
             ]
            ],
            "type": "histogram2dcontour"
           }
          ],
          "mesh3d": [
           {
            "colorbar": {
             "outlinewidth": 0,
             "ticks": ""
            },
            "type": "mesh3d"
           }
          ],
          "parcoords": [
           {
            "line": {
             "colorbar": {
              "outlinewidth": 0,
              "ticks": ""
             }
            },
            "type": "parcoords"
           }
          ],
          "pie": [
           {
            "automargin": true,
            "type": "pie"
           }
          ],
          "scatter": [
           {
            "marker": {
             "colorbar": {
              "outlinewidth": 0,
              "ticks": ""
             }
            },
            "type": "scatter"
           }
          ],
          "scatter3d": [
           {
            "line": {
             "colorbar": {
              "outlinewidth": 0,
              "ticks": ""
             }
            },
            "marker": {
             "colorbar": {
              "outlinewidth": 0,
              "ticks": ""
             }
            },
            "type": "scatter3d"
           }
          ],
          "scattercarpet": [
           {
            "marker": {
             "colorbar": {
              "outlinewidth": 0,
              "ticks": ""
             }
            },
            "type": "scattercarpet"
           }
          ],
          "scattergeo": [
           {
            "marker": {
             "colorbar": {
              "outlinewidth": 0,
              "ticks": ""
             }
            },
            "type": "scattergeo"
           }
          ],
          "scattergl": [
           {
            "marker": {
             "colorbar": {
              "outlinewidth": 0,
              "ticks": ""
             }
            },
            "type": "scattergl"
           }
          ],
          "scattermapbox": [
           {
            "marker": {
             "colorbar": {
              "outlinewidth": 0,
              "ticks": ""
             }
            },
            "type": "scattermapbox"
           }
          ],
          "scatterpolar": [
           {
            "marker": {
             "colorbar": {
              "outlinewidth": 0,
              "ticks": ""
             }
            },
            "type": "scatterpolar"
           }
          ],
          "scatterpolargl": [
           {
            "marker": {
             "colorbar": {
              "outlinewidth": 0,
              "ticks": ""
             }
            },
            "type": "scatterpolargl"
           }
          ],
          "scatterternary": [
           {
            "marker": {
             "colorbar": {
              "outlinewidth": 0,
              "ticks": ""
             }
            },
            "type": "scatterternary"
           }
          ],
          "surface": [
           {
            "colorbar": {
             "outlinewidth": 0,
             "ticks": ""
            },
            "colorscale": [
             [
              0,
              "#0d0887"
             ],
             [
              0.1111111111111111,
              "#46039f"
             ],
             [
              0.2222222222222222,
              "#7201a8"
             ],
             [
              0.3333333333333333,
              "#9c179e"
             ],
             [
              0.4444444444444444,
              "#bd3786"
             ],
             [
              0.5555555555555556,
              "#d8576b"
             ],
             [
              0.6666666666666666,
              "#ed7953"
             ],
             [
              0.7777777777777778,
              "#fb9f3a"
             ],
             [
              0.8888888888888888,
              "#fdca26"
             ],
             [
              1,
              "#f0f921"
             ]
            ],
            "type": "surface"
           }
          ],
          "table": [
           {
            "cells": {
             "fill": {
              "color": "#EBF0F8"
             },
             "line": {
              "color": "white"
             }
            },
            "header": {
             "fill": {
              "color": "#C8D4E3"
             },
             "line": {
              "color": "white"
             }
            },
            "type": "table"
           }
          ]
         },
         "layout": {
          "annotationdefaults": {
           "arrowcolor": "#2a3f5f",
           "arrowhead": 0,
           "arrowwidth": 1
          },
          "coloraxis": {
           "colorbar": {
            "outlinewidth": 0,
            "ticks": ""
           }
          },
          "colorscale": {
           "diverging": [
            [
             0,
             "#8e0152"
            ],
            [
             0.1,
             "#c51b7d"
            ],
            [
             0.2,
             "#de77ae"
            ],
            [
             0.3,
             "#f1b6da"
            ],
            [
             0.4,
             "#fde0ef"
            ],
            [
             0.5,
             "#f7f7f7"
            ],
            [
             0.6,
             "#e6f5d0"
            ],
            [
             0.7,
             "#b8e186"
            ],
            [
             0.8,
             "#7fbc41"
            ],
            [
             0.9,
             "#4d9221"
            ],
            [
             1,
             "#276419"
            ]
           ],
           "sequential": [
            [
             0,
             "#0d0887"
            ],
            [
             0.1111111111111111,
             "#46039f"
            ],
            [
             0.2222222222222222,
             "#7201a8"
            ],
            [
             0.3333333333333333,
             "#9c179e"
            ],
            [
             0.4444444444444444,
             "#bd3786"
            ],
            [
             0.5555555555555556,
             "#d8576b"
            ],
            [
             0.6666666666666666,
             "#ed7953"
            ],
            [
             0.7777777777777778,
             "#fb9f3a"
            ],
            [
             0.8888888888888888,
             "#fdca26"
            ],
            [
             1,
             "#f0f921"
            ]
           ],
           "sequentialminus": [
            [
             0,
             "#0d0887"
            ],
            [
             0.1111111111111111,
             "#46039f"
            ],
            [
             0.2222222222222222,
             "#7201a8"
            ],
            [
             0.3333333333333333,
             "#9c179e"
            ],
            [
             0.4444444444444444,
             "#bd3786"
            ],
            [
             0.5555555555555556,
             "#d8576b"
            ],
            [
             0.6666666666666666,
             "#ed7953"
            ],
            [
             0.7777777777777778,
             "#fb9f3a"
            ],
            [
             0.8888888888888888,
             "#fdca26"
            ],
            [
             1,
             "#f0f921"
            ]
           ]
          },
          "colorway": [
           "#636efa",
           "#EF553B",
           "#00cc96",
           "#ab63fa",
           "#FFA15A",
           "#19d3f3",
           "#FF6692",
           "#B6E880",
           "#FF97FF",
           "#FECB52"
          ],
          "font": {
           "color": "#2a3f5f"
          },
          "geo": {
           "bgcolor": "white",
           "lakecolor": "white",
           "landcolor": "#E5ECF6",
           "showlakes": true,
           "showland": true,
           "subunitcolor": "white"
          },
          "hoverlabel": {
           "align": "left"
          },
          "hovermode": "closest",
          "mapbox": {
           "style": "light"
          },
          "paper_bgcolor": "white",
          "plot_bgcolor": "#E5ECF6",
          "polar": {
           "angularaxis": {
            "gridcolor": "white",
            "linecolor": "white",
            "ticks": ""
           },
           "bgcolor": "#E5ECF6",
           "radialaxis": {
            "gridcolor": "white",
            "linecolor": "white",
            "ticks": ""
           }
          },
          "scene": {
           "xaxis": {
            "backgroundcolor": "#E5ECF6",
            "gridcolor": "white",
            "gridwidth": 2,
            "linecolor": "white",
            "showbackground": true,
            "ticks": "",
            "zerolinecolor": "white"
           },
           "yaxis": {
            "backgroundcolor": "#E5ECF6",
            "gridcolor": "white",
            "gridwidth": 2,
            "linecolor": "white",
            "showbackground": true,
            "ticks": "",
            "zerolinecolor": "white"
           },
           "zaxis": {
            "backgroundcolor": "#E5ECF6",
            "gridcolor": "white",
            "gridwidth": 2,
            "linecolor": "white",
            "showbackground": true,
            "ticks": "",
            "zerolinecolor": "white"
           }
          },
          "shapedefaults": {
           "line": {
            "color": "#2a3f5f"
           }
          },
          "ternary": {
           "aaxis": {
            "gridcolor": "white",
            "linecolor": "white",
            "ticks": ""
           },
           "baxis": {
            "gridcolor": "white",
            "linecolor": "white",
            "ticks": ""
           },
           "bgcolor": "#E5ECF6",
           "caxis": {
            "gridcolor": "white",
            "linecolor": "white",
            "ticks": ""
           }
          },
          "title": {
           "x": 0.05
          },
          "xaxis": {
           "automargin": true,
           "gridcolor": "white",
           "linecolor": "white",
           "ticks": "",
           "title": {
            "standoff": 15
           },
           "zerolinecolor": "white",
           "zerolinewidth": 2
          },
          "yaxis": {
           "automargin": true,
           "gridcolor": "white",
           "linecolor": "white",
           "ticks": "",
           "title": {
            "standoff": 15
           },
           "zerolinecolor": "white",
           "zerolinewidth": 2
          }
         }
        },
        "xaxis": {
         "anchor": "y",
         "domain": [
          0,
          1
         ],
         "title": {
          "text": "Date"
         }
        },
        "xaxis2": {
         "anchor": "y2",
         "domain": [
          0,
          1
         ],
         "title": {
          "text": "Date"
         }
        },
        "yaxis": {
         "anchor": "x",
         "domain": [
          0.625,
          1
         ],
         "title": {
          "text": "Recovery Rate"
         }
        },
        "yaxis2": {
         "anchor": "x2",
         "domain": [
          0,
          0.375
         ],
         "title": {
          "text": "Fatality Rate"
         }
        }
       }
      },
      "text/html": [
       "<div>\n",
       "        \n",
       "        \n",
       "            <div id=\"1b361d2b-8802-40cc-b5d4-8ef20f3529db\" class=\"plotly-graph-div\" style=\"height:1000px; width:100%;\"></div>\n",
       "            <script type=\"text/javascript\">\n",
       "                require([\"plotly\"], function(Plotly) {\n",
       "                    window.PLOTLYENV=window.PLOTLYENV || {};\n",
       "                    \n",
       "                if (document.getElementById(\"1b361d2b-8802-40cc-b5d4-8ef20f3529db\")) {\n",
       "                    Plotly.newPlot(\n",
       "                        '1b361d2b-8802-40cc-b5d4-8ef20f3529db',\n",
       "                        [{\"name\": \"Recovery Rate\", \"type\": \"scatter\", \"x\": [\"2020-03-01T00:00:00\", \"2020-03-02T00:00:00\", \"2020-03-03T00:00:00\", \"2020-03-04T00:00:00\", \"2020-03-05T00:00:00\", \"2020-03-06T00:00:00\", \"2020-03-07T00:00:00\", \"2020-03-08T00:00:00\", \"2020-03-09T00:00:00\", \"2020-03-10T00:00:00\", \"2020-03-11T00:00:00\", \"2020-03-12T00:00:00\", \"2020-03-13T00:00:00\", \"2020-03-14T00:00:00\", \"2020-03-15T00:00:00\", \"2020-03-16T00:00:00\", \"2020-03-17T00:00:00\", \"2020-03-18T00:00:00\", \"2020-03-19T00:00:00\", \"2020-03-20T00:00:00\", \"2020-03-21T00:00:00\", \"2020-03-22T00:00:00\", \"2020-03-23T00:00:00\", \"2020-03-24T00:00:00\", \"2020-03-25T00:00:00\", \"2020-03-26T00:00:00\", \"2020-03-27T00:00:00\", \"2020-03-28T00:00:00\", \"2020-03-29T00:00:00\", \"2020-03-30T00:00:00\", \"2020-03-31T00:00:00\", \"2020-04-01T00:00:00\", \"2020-04-02T00:00:00\", \"2020-04-03T00:00:00\", \"2020-04-04T00:00:00\", \"2020-04-05T00:00:00\", \"2020-04-06T00:00:00\", \"2020-04-07T00:00:00\", \"2020-04-08T00:00:00\", \"2020-04-09T00:00:00\", \"2020-04-10T00:00:00\", \"2020-04-11T00:00:00\", \"2020-04-12T00:00:00\", \"2020-04-13T00:00:00\", \"2020-04-14T00:00:00\", \"2020-04-15T00:00:00\", \"2020-04-16T00:00:00\", \"2020-04-17T00:00:00\", \"2020-04-18T00:00:00\", \"2020-04-19T00:00:00\", \"2020-04-20T00:00:00\", \"2020-04-21T00:00:00\", \"2020-04-22T00:00:00\", \"2020-04-23T00:00:00\", \"2020-04-24T00:00:00\", \"2020-04-25T00:00:00\", \"2020-04-26T00:00:00\", \"2020-04-27T00:00:00\", \"2020-04-28T00:00:00\", \"2020-04-29T00:00:00\", \"2020-04-30T00:00:00\", \"2020-05-01T00:00:00\", \"2020-05-02T00:00:00\", \"2020-05-03T00:00:00\", \"2020-05-04T00:00:00\", \"2020-05-05T00:00:00\", \"2020-05-06T00:00:00\", \"2020-05-07T00:00:00\", \"2020-05-08T00:00:00\", \"2020-05-09T00:00:00\", \"2020-05-10T00:00:00\", \"2020-05-11T00:00:00\", \"2020-05-12T00:00:00\", \"2020-05-13T00:00:00\", \"2020-05-14T00:00:00\", \"2020-05-15T00:00:00\", \"2020-05-16T00:00:00\", \"2020-05-17T00:00:00\", \"2020-05-18T00:00:00\", \"2020-05-19T00:00:00\", \"2020-05-20T00:00:00\", \"2020-05-21T00:00:00\", \"2020-05-22T00:00:00\", \"2020-05-23T00:00:00\", \"2020-05-24T00:00:00\", \"2020-05-25T00:00:00\", \"2020-05-26T00:00:00\", \"2020-05-27T00:00:00\", \"2020-05-28T00:00:00\", \"2020-05-29T00:00:00\", \"2020-05-30T00:00:00\"], \"xaxis\": \"x\", \"y\": [48.30209899353891, 50.40585510635427, 51.94730876316456, 53.55619769902569, 52.301623935210436, 54.70303079680626, 54.35654929508373, 52.56473396094179, 53.478375936556034, 52.693884012594324, 51.95699760816099, 50.14769279897813, 48.323603630748366, 46.002357332285634, 43.58670375267886, 40.44533325373847, 45.629246668267164, 44.183187095491476, 35.70561971249882, 33.05455602805946, 31.07977403204601, 29.110055664379864, 26.846091639930865, 25.932869322875142, 24.558738160543996, 22.93255087667622, 22.525418482272546, 21.352338949589537, 20.948758701581728, 21.156434053874634, 20.761533569440633, 20.722492373512903, 20.77983964250759, 20.60338511036876, 20.568081815013628, 20.43934707160909, 20.587045152905528, 21.040238525316667, 21.838361004962888, 22.25863134596641, 22.287015983186464, 21.874316425840775, 22.922744092252874, 23.42242735332264, 23.996805486283023, 24.85434484972435, 25.172055212000377, 25.410353747288067, 25.564319138291296, 25.555790837454595, 26.122586939010123, 26.549187191271717, 26.97141839876389, 27.33021948344372, 27.996629148265168, 28.2952401902153, 29.11832379374802, 29.27129606838484, 29.70643110498669, 30.228761313867462, 30.966610875518846, 31.471233580036422, 31.95627962695193, 32.09841679025826, 32.481308866973464, 32.72072497500185, 33.06774983075561, 33.32709454501377, 33.385169605298486, 33.9368326538657, 34.240368567675446, 34.84830128967114, 34.99025866043826, 35.51933572102017, 35.71759734270812, 36.01840412144284, 36.29914806278087, 36.77533332172834, 37.116414076418856, 34.34355561455075, 37.94834009534507, 38.1525655889503, 38.45788308085224, 39.58656954144521, 40.085411534550786, 40.636280631781176, 40.85653690415587, 41.13384352954365, 41.34197858640497, 42.02905654458473, 22.167443380175218], \"yaxis\": \"y\"}, {\"name\": \"Fatality Rate\", \"type\": \"scatter\", \"x\": [\"2020-03-01T00:00:00\", \"2020-03-02T00:00:00\", \"2020-03-03T00:00:00\", \"2020-03-04T00:00:00\", \"2020-03-05T00:00:00\", \"2020-03-06T00:00:00\", \"2020-03-07T00:00:00\", \"2020-03-08T00:00:00\", \"2020-03-09T00:00:00\", \"2020-03-10T00:00:00\", \"2020-03-11T00:00:00\", \"2020-03-12T00:00:00\", \"2020-03-13T00:00:00\", \"2020-03-14T00:00:00\", \"2020-03-15T00:00:00\", \"2020-03-16T00:00:00\", \"2020-03-17T00:00:00\", \"2020-03-18T00:00:00\", \"2020-03-19T00:00:00\", \"2020-03-20T00:00:00\", \"2020-03-21T00:00:00\", \"2020-03-22T00:00:00\", \"2020-03-23T00:00:00\", \"2020-03-24T00:00:00\", \"2020-03-25T00:00:00\", \"2020-03-26T00:00:00\", \"2020-03-27T00:00:00\", \"2020-03-28T00:00:00\", \"2020-03-29T00:00:00\", \"2020-03-30T00:00:00\", \"2020-03-31T00:00:00\", \"2020-04-01T00:00:00\", \"2020-04-02T00:00:00\", \"2020-04-03T00:00:00\", \"2020-04-04T00:00:00\", \"2020-04-05T00:00:00\", \"2020-04-06T00:00:00\", \"2020-04-07T00:00:00\", \"2020-04-08T00:00:00\", \"2020-04-09T00:00:00\", \"2020-04-10T00:00:00\", \"2020-04-11T00:00:00\", \"2020-04-12T00:00:00\", \"2020-04-13T00:00:00\", \"2020-04-14T00:00:00\", \"2020-04-15T00:00:00\", \"2020-04-16T00:00:00\", \"2020-04-17T00:00:00\", \"2020-04-18T00:00:00\", \"2020-04-19T00:00:00\", \"2020-04-20T00:00:00\", \"2020-04-21T00:00:00\", \"2020-04-22T00:00:00\", \"2020-04-23T00:00:00\", \"2020-04-24T00:00:00\", \"2020-04-25T00:00:00\", \"2020-04-26T00:00:00\", \"2020-04-27T00:00:00\", \"2020-04-28T00:00:00\", \"2020-04-29T00:00:00\", \"2020-04-30T00:00:00\", \"2020-05-01T00:00:00\", \"2020-05-02T00:00:00\", \"2020-05-03T00:00:00\", \"2020-05-04T00:00:00\", \"2020-05-05T00:00:00\", \"2020-05-06T00:00:00\", \"2020-05-07T00:00:00\", \"2020-05-08T00:00:00\", \"2020-05-09T00:00:00\", \"2020-05-10T00:00:00\", \"2020-05-11T00:00:00\", \"2020-05-12T00:00:00\", \"2020-05-13T00:00:00\", \"2020-05-14T00:00:00\", \"2020-05-15T00:00:00\", \"2020-05-16T00:00:00\", \"2020-05-17T00:00:00\", \"2020-05-18T00:00:00\", \"2020-05-19T00:00:00\", \"2020-05-20T00:00:00\", \"2020-05-21T00:00:00\", \"2020-05-22T00:00:00\", \"2020-05-23T00:00:00\", \"2020-05-24T00:00:00\", \"2020-05-25T00:00:00\", \"2020-05-26T00:00:00\", \"2020-05-27T00:00:00\", \"2020-05-28T00:00:00\", \"2020-05-29T00:00:00\", \"2020-05-30T00:00:00\"], \"xaxis\": \"x2\", \"y\": [3.4164591390568875, 3.421099968520933, 3.4247102972410834, 3.4353482076677664, 3.4419453652805165, 3.4422356200097766, 3.4200947737105967, 3.3943894076866252, 3.4760944358761416, 3.528521925735695, 3.627481638621016, 3.6827399010059074, 3.7324394561410115, 3.782957048844486, 3.7357426213383533, 3.9435274453034053, 4.146032348655304, 4.084718537935509, 4.0972389593094745, 4.1347726529277065, 4.263292666533333, 4.35625203113866, 4.358155784711174, 4.454548284142958, 4.5128585825670555, 4.477600667656066, 4.576687450464148, 4.654655334537787, 4.7067315366837175, 4.7781640219944785, 4.91145976159775, 5.019166742618793, 5.2262503830982014, 5.364183601495369, 5.3945792622641875, 5.448328177877, 5.556644387427743, 5.698003500465607, 5.846225608333981, 5.975898574163831, 6.062084491459984, 6.114850659234669, 5.868264254622106, 6.219068932727559, 6.376748648699388, 6.496518818805917, 6.681157810132861, 6.865331995887399, 6.8680396023149255, 6.888803407772906, 6.873110131516631, 6.909811505859784, 6.960797962945635, 6.980859751539081, 7.0197414103832845, 7.024551522569503, 6.9558094573918945, 6.932378244301125, 6.934531811107432, 7.087831412137834, 7.103799235585355, 7.122885748052854, 7.117341447550059, 7.0559140362168575, 7.016150961028712, 7.0160422663421205, 7.0252911871408985, 7.012093951981314, 6.9776063236861585, 6.937089973924569, 6.894901294995213, 6.847786946970643, 6.848511304111204, 6.830847229161906, 6.808679043609443, 6.774355770794502, 6.729798263618115, 6.687514621236213, 6.637074777632559, 6.599796657467643, 6.57145174511828, 6.547864560004381, 6.493595229630213, 6.447520737138694, 6.39122799652722, 6.303465351601164, 6.270945273810829, 6.246386862990196, 6.199641728251085, 6.158357424299378, 5.54167584549065], \"yaxis\": \"y2\"}],\n",
       "                        {\"annotations\": [{\"font\": {\"size\": 16}, \"showarrow\": false, \"text\": \"Recovery Rate\", \"x\": 0.5, \"xanchor\": \"center\", \"xref\": \"paper\", \"y\": 1.0, \"yanchor\": \"bottom\", \"yref\": \"paper\"}, {\"font\": {\"size\": 16}, \"showarrow\": false, \"text\": \"Fatality Rate\", \"x\": 0.5, \"xanchor\": \"center\", \"xref\": \"paper\", \"y\": 0.375, \"yanchor\": \"bottom\", \"yref\": \"paper\"}], \"height\": 1000, \"legend\": {\"traceorder\": \"normal\", \"x\": -0.1, \"y\": 1.2}, \"template\": {\"data\": {\"bar\": [{\"error_x\": {\"color\": \"#2a3f5f\"}, \"error_y\": {\"color\": \"#2a3f5f\"}, \"marker\": {\"line\": {\"color\": \"#E5ECF6\", \"width\": 0.5}}, \"type\": \"bar\"}], \"barpolar\": [{\"marker\": {\"line\": {\"color\": \"#E5ECF6\", \"width\": 0.5}}, \"type\": \"barpolar\"}], \"carpet\": [{\"aaxis\": {\"endlinecolor\": \"#2a3f5f\", \"gridcolor\": \"white\", \"linecolor\": \"white\", \"minorgridcolor\": \"white\", \"startlinecolor\": \"#2a3f5f\"}, \"baxis\": {\"endlinecolor\": \"#2a3f5f\", \"gridcolor\": \"white\", \"linecolor\": \"white\", \"minorgridcolor\": \"white\", \"startlinecolor\": \"#2a3f5f\"}, \"type\": \"carpet\"}], \"choropleth\": [{\"colorbar\": {\"outlinewidth\": 0, \"ticks\": \"\"}, \"type\": \"choropleth\"}], \"contour\": [{\"colorbar\": {\"outlinewidth\": 0, \"ticks\": \"\"}, \"colorscale\": [[0.0, \"#0d0887\"], [0.1111111111111111, \"#46039f\"], [0.2222222222222222, \"#7201a8\"], [0.3333333333333333, \"#9c179e\"], [0.4444444444444444, \"#bd3786\"], [0.5555555555555556, \"#d8576b\"], [0.6666666666666666, \"#ed7953\"], [0.7777777777777778, \"#fb9f3a\"], [0.8888888888888888, \"#fdca26\"], [1.0, \"#f0f921\"]], \"type\": \"contour\"}], \"contourcarpet\": [{\"colorbar\": {\"outlinewidth\": 0, \"ticks\": \"\"}, \"type\": \"contourcarpet\"}], \"heatmap\": [{\"colorbar\": {\"outlinewidth\": 0, \"ticks\": \"\"}, \"colorscale\": [[0.0, \"#0d0887\"], [0.1111111111111111, \"#46039f\"], [0.2222222222222222, \"#7201a8\"], [0.3333333333333333, \"#9c179e\"], [0.4444444444444444, \"#bd3786\"], [0.5555555555555556, \"#d8576b\"], [0.6666666666666666, \"#ed7953\"], [0.7777777777777778, \"#fb9f3a\"], [0.8888888888888888, \"#fdca26\"], [1.0, \"#f0f921\"]], \"type\": \"heatmap\"}], \"heatmapgl\": [{\"colorbar\": {\"outlinewidth\": 0, \"ticks\": \"\"}, \"colorscale\": [[0.0, \"#0d0887\"], [0.1111111111111111, \"#46039f\"], [0.2222222222222222, \"#7201a8\"], [0.3333333333333333, \"#9c179e\"], [0.4444444444444444, \"#bd3786\"], [0.5555555555555556, \"#d8576b\"], [0.6666666666666666, \"#ed7953\"], [0.7777777777777778, \"#fb9f3a\"], [0.8888888888888888, \"#fdca26\"], [1.0, \"#f0f921\"]], \"type\": \"heatmapgl\"}], \"histogram\": [{\"marker\": {\"colorbar\": {\"outlinewidth\": 0, \"ticks\": \"\"}}, \"type\": \"histogram\"}], \"histogram2d\": [{\"colorbar\": {\"outlinewidth\": 0, \"ticks\": \"\"}, \"colorscale\": [[0.0, \"#0d0887\"], [0.1111111111111111, \"#46039f\"], [0.2222222222222222, \"#7201a8\"], [0.3333333333333333, \"#9c179e\"], [0.4444444444444444, \"#bd3786\"], [0.5555555555555556, \"#d8576b\"], [0.6666666666666666, \"#ed7953\"], [0.7777777777777778, \"#fb9f3a\"], [0.8888888888888888, \"#fdca26\"], [1.0, \"#f0f921\"]], \"type\": \"histogram2d\"}], \"histogram2dcontour\": [{\"colorbar\": {\"outlinewidth\": 0, \"ticks\": \"\"}, \"colorscale\": [[0.0, \"#0d0887\"], [0.1111111111111111, \"#46039f\"], [0.2222222222222222, \"#7201a8\"], [0.3333333333333333, \"#9c179e\"], [0.4444444444444444, \"#bd3786\"], [0.5555555555555556, \"#d8576b\"], [0.6666666666666666, \"#ed7953\"], [0.7777777777777778, \"#fb9f3a\"], [0.8888888888888888, \"#fdca26\"], [1.0, \"#f0f921\"]], \"type\": \"histogram2dcontour\"}], \"mesh3d\": [{\"colorbar\": {\"outlinewidth\": 0, \"ticks\": \"\"}, \"type\": \"mesh3d\"}], \"parcoords\": [{\"line\": {\"colorbar\": {\"outlinewidth\": 0, \"ticks\": \"\"}}, \"type\": \"parcoords\"}], \"pie\": [{\"automargin\": true, \"type\": \"pie\"}], \"scatter\": [{\"marker\": {\"colorbar\": {\"outlinewidth\": 0, \"ticks\": \"\"}}, \"type\": \"scatter\"}], \"scatter3d\": [{\"line\": {\"colorbar\": {\"outlinewidth\": 0, \"ticks\": \"\"}}, \"marker\": {\"colorbar\": {\"outlinewidth\": 0, \"ticks\": \"\"}}, \"type\": \"scatter3d\"}], \"scattercarpet\": [{\"marker\": {\"colorbar\": {\"outlinewidth\": 0, \"ticks\": \"\"}}, \"type\": \"scattercarpet\"}], \"scattergeo\": [{\"marker\": {\"colorbar\": {\"outlinewidth\": 0, \"ticks\": \"\"}}, \"type\": \"scattergeo\"}], \"scattergl\": [{\"marker\": {\"colorbar\": {\"outlinewidth\": 0, \"ticks\": \"\"}}, \"type\": \"scattergl\"}], \"scattermapbox\": [{\"marker\": {\"colorbar\": {\"outlinewidth\": 0, \"ticks\": \"\"}}, \"type\": \"scattermapbox\"}], \"scatterpolar\": [{\"marker\": {\"colorbar\": {\"outlinewidth\": 0, \"ticks\": \"\"}}, \"type\": \"scatterpolar\"}], \"scatterpolargl\": [{\"marker\": {\"colorbar\": {\"outlinewidth\": 0, \"ticks\": \"\"}}, \"type\": \"scatterpolargl\"}], \"scatterternary\": [{\"marker\": {\"colorbar\": {\"outlinewidth\": 0, \"ticks\": \"\"}}, \"type\": \"scatterternary\"}], \"surface\": [{\"colorbar\": {\"outlinewidth\": 0, \"ticks\": \"\"}, \"colorscale\": [[0.0, \"#0d0887\"], [0.1111111111111111, \"#46039f\"], [0.2222222222222222, \"#7201a8\"], [0.3333333333333333, \"#9c179e\"], [0.4444444444444444, \"#bd3786\"], [0.5555555555555556, \"#d8576b\"], [0.6666666666666666, \"#ed7953\"], [0.7777777777777778, \"#fb9f3a\"], [0.8888888888888888, \"#fdca26\"], [1.0, \"#f0f921\"]], \"type\": \"surface\"}], \"table\": [{\"cells\": {\"fill\": {\"color\": \"#EBF0F8\"}, \"line\": {\"color\": \"white\"}}, \"header\": {\"fill\": {\"color\": \"#C8D4E3\"}, \"line\": {\"color\": \"white\"}}, \"type\": \"table\"}]}, \"layout\": {\"annotationdefaults\": {\"arrowcolor\": \"#2a3f5f\", \"arrowhead\": 0, \"arrowwidth\": 1}, \"coloraxis\": {\"colorbar\": {\"outlinewidth\": 0, \"ticks\": \"\"}}, \"colorscale\": {\"diverging\": [[0, \"#8e0152\"], [0.1, \"#c51b7d\"], [0.2, \"#de77ae\"], [0.3, \"#f1b6da\"], [0.4, \"#fde0ef\"], [0.5, \"#f7f7f7\"], [0.6, \"#e6f5d0\"], [0.7, \"#b8e186\"], [0.8, \"#7fbc41\"], [0.9, \"#4d9221\"], [1, \"#276419\"]], \"sequential\": [[0.0, \"#0d0887\"], [0.1111111111111111, \"#46039f\"], [0.2222222222222222, \"#7201a8\"], [0.3333333333333333, \"#9c179e\"], [0.4444444444444444, \"#bd3786\"], [0.5555555555555556, \"#d8576b\"], [0.6666666666666666, \"#ed7953\"], [0.7777777777777778, \"#fb9f3a\"], [0.8888888888888888, \"#fdca26\"], [1.0, \"#f0f921\"]], \"sequentialminus\": [[0.0, \"#0d0887\"], [0.1111111111111111, \"#46039f\"], [0.2222222222222222, \"#7201a8\"], [0.3333333333333333, \"#9c179e\"], [0.4444444444444444, \"#bd3786\"], [0.5555555555555556, \"#d8576b\"], [0.6666666666666666, \"#ed7953\"], [0.7777777777777778, \"#fb9f3a\"], [0.8888888888888888, \"#fdca26\"], [1.0, \"#f0f921\"]]}, \"colorway\": [\"#636efa\", \"#EF553B\", \"#00cc96\", \"#ab63fa\", \"#FFA15A\", \"#19d3f3\", \"#FF6692\", \"#B6E880\", \"#FF97FF\", \"#FECB52\"], \"font\": {\"color\": \"#2a3f5f\"}, \"geo\": {\"bgcolor\": \"white\", \"lakecolor\": \"white\", \"landcolor\": \"#E5ECF6\", \"showlakes\": true, \"showland\": true, \"subunitcolor\": \"white\"}, \"hoverlabel\": {\"align\": \"left\"}, \"hovermode\": \"closest\", \"mapbox\": {\"style\": \"light\"}, \"paper_bgcolor\": \"white\", \"plot_bgcolor\": \"#E5ECF6\", \"polar\": {\"angularaxis\": {\"gridcolor\": \"white\", \"linecolor\": \"white\", \"ticks\": \"\"}, \"bgcolor\": \"#E5ECF6\", \"radialaxis\": {\"gridcolor\": \"white\", \"linecolor\": \"white\", \"ticks\": \"\"}}, \"scene\": {\"xaxis\": {\"backgroundcolor\": \"#E5ECF6\", \"gridcolor\": \"white\", \"gridwidth\": 2, \"linecolor\": \"white\", \"showbackground\": true, \"ticks\": \"\", \"zerolinecolor\": \"white\"}, \"yaxis\": {\"backgroundcolor\": \"#E5ECF6\", \"gridcolor\": \"white\", \"gridwidth\": 2, \"linecolor\": \"white\", \"showbackground\": true, \"ticks\": \"\", \"zerolinecolor\": \"white\"}, \"zaxis\": {\"backgroundcolor\": \"#E5ECF6\", \"gridcolor\": \"white\", \"gridwidth\": 2, \"linecolor\": \"white\", \"showbackground\": true, \"ticks\": \"\", \"zerolinecolor\": \"white\"}}, \"shapedefaults\": {\"line\": {\"color\": \"#2a3f5f\"}}, \"ternary\": {\"aaxis\": {\"gridcolor\": \"white\", \"linecolor\": \"white\", \"ticks\": \"\"}, \"baxis\": {\"gridcolor\": \"white\", \"linecolor\": \"white\", \"ticks\": \"\"}, \"bgcolor\": \"#E5ECF6\", \"caxis\": {\"gridcolor\": \"white\", \"linecolor\": \"white\", \"ticks\": \"\"}}, \"title\": {\"x\": 0.05}, \"xaxis\": {\"automargin\": true, \"gridcolor\": \"white\", \"linecolor\": \"white\", \"ticks\": \"\", \"title\": {\"standoff\": 15}, \"zerolinecolor\": \"white\", \"zerolinewidth\": 2}, \"yaxis\": {\"automargin\": true, \"gridcolor\": \"white\", \"linecolor\": \"white\", \"ticks\": \"\", \"title\": {\"standoff\": 15}, \"zerolinecolor\": \"white\", \"zerolinewidth\": 2}}}, \"xaxis\": {\"anchor\": \"y\", \"domain\": [0.0, 1.0], \"title\": {\"text\": \"Date\"}}, \"xaxis2\": {\"anchor\": \"y2\", \"domain\": [0.0, 1.0], \"title\": {\"text\": \"Date\"}}, \"yaxis\": {\"anchor\": \"x\", \"domain\": [0.625, 1.0], \"title\": {\"text\": \"Recovery Rate\"}}, \"yaxis2\": {\"anchor\": \"x2\", \"domain\": [0.0, 0.375], \"title\": {\"text\": \"Fatality Rate\"}}},\n",
       "                        {\"responsive\": true}\n",
       "                    ).then(function(){\n",
       "                            \n",
       "var gd = document.getElementById('1b361d2b-8802-40cc-b5d4-8ef20f3529db');\n",
       "var x = new MutationObserver(function (mutations, observer) {{\n",
       "        var display = window.getComputedStyle(gd).display;\n",
       "        if (!display || display === 'none') {{\n",
       "            console.log([gd, 'removed!']);\n",
       "            Plotly.purge(gd);\n",
       "            observer.disconnect();\n",
       "        }}\n",
       "}});\n",
       "\n",
       "// Listen for the removal of the full notebook cells\n",
       "var notebookContainer = gd.closest('#notebook-container');\n",
       "if (notebookContainer) {{\n",
       "    x.observe(notebookContainer, {childList: true});\n",
       "}}\n",
       "\n",
       "// Listen for the clearing of the current output cell\n",
       "var outputEl = gd.closest('.output');\n",
       "if (outputEl) {{\n",
       "    x.observe(outputEl, {childList: true});\n",
       "}}\n",
       "\n",
       "                        })\n",
       "                };\n",
       "                });\n",
       "            </script>\n",
       "        </div>"
      ]
     },
     "metadata": {},
     "output_type": "display_data"
    }
   ],
   "source": [
    "#Calculating the Fatality Rate and Recovery Rate\n",
    "datewise[\"Fatality Rate\"]=(datewise[\"Deaths\"]/datewise[\"Confirmed\"])*100\n",
    "datewise[\"Recovery Rate\"]=(datewise[\"Recovered\"]/datewise[\"Confirmed\"])*100\n",
    "datewise[\"Active Cases\"]=datewise[\"Confirmed\"]-datewise[\"Recovered\"]-datewise[\"Deaths\"]\n",
    "datewise[\"Closed Cases\"]=datewise[\"Recovered\"]+datewise[\"Deaths\"]\n",
    "\n",
    "print(\"Average Fatality Rate\",datewise[\"Fatality Rate\"].mean())\n",
    "print(\"Median Fatality Rate\",datewise[\"Fatality Rate\"].median())\n",
    "print(\"Average Recovery Rate\",datewise[\"Recovery Rate\"].mean())\n",
    "print(\"Median Recovery Rate\",datewise[\"Recovery Rate\"].median())\n",
    "\n",
    "\n",
    "#Plotting Fatality and Recovery Rate \n",
    "fig = make_subplots(rows=2, cols=1,\n",
    "                   subplot_titles=(\"Recovery Rate\", \"Fatality Rate\"))\n",
    "fig.add_trace(\n",
    "    go.Scatter(x=datewise.index, y=(datewise[\"Recovered\"]/datewise[\"Confirmed\"])*100,name=\"Recovery Rate\"),\n",
    "    row=1, col=1\n",
    ")\n",
    "fig.add_trace(\n",
    "    go.Scatter(x=datewise.index, y=(datewise[\"Deaths\"]/datewise[\"Confirmed\"])*100,name=\"Fatality Rate\"),\n",
    "    row=2, col=1\n",
    ")\n",
    "fig.update_layout(height=1000,legend=dict(x=-0.1,y=1.2,traceorder=\"normal\"))\n",
    "fig.update_xaxes(title_text=\"Date\", row=1, col=1)\n",
    "fig.update_yaxes(title_text=\"Recovery Rate\", row=1, col=1)\n",
    "fig.update_xaxes(title_text=\"Date\", row=2, col=1)\n",
    "fig.update_yaxes(title_text=\"Fatality Rate\", row=2, col=1)\n",
    "fig.show()"
   ]
  },
  {
   "cell_type": "markdown",
   "metadata": {},
   "source": [
    "USA Analysis"
   ]
  },
  {
   "cell_type": "code",
   "execution_count": 64,
   "metadata": {},
   "outputs": [],
   "source": [
    "data_usa = data_filtered[data_filtered['Country_Region']=='United States']"
   ]
  },
  {
   "cell_type": "code",
   "execution_count": 65,
   "metadata": {
    "scrolled": true
   },
   "outputs": [
    {
     "data": {
      "text/html": [
       "<div>\n",
       "<style scoped>\n",
       "    .dataframe tbody tr th:only-of-type {\n",
       "        vertical-align: middle;\n",
       "    }\n",
       "\n",
       "    .dataframe tbody tr th {\n",
       "        vertical-align: top;\n",
       "    }\n",
       "\n",
       "    .dataframe thead th {\n",
       "        text-align: right;\n",
       "    }\n",
       "</style>\n",
       "<table border=\"1\" class=\"dataframe\">\n",
       "  <thead>\n",
       "    <tr style=\"text-align: right;\">\n",
       "      <th></th>\n",
       "      <th>ID</th>\n",
       "      <th>Updated</th>\n",
       "      <th>Confirmed</th>\n",
       "      <th>ConfirmedChange</th>\n",
       "      <th>Deaths</th>\n",
       "      <th>DeathsChange</th>\n",
       "      <th>Recovered</th>\n",
       "      <th>RecoveredChange</th>\n",
       "      <th>ISO2</th>\n",
       "      <th>ISO3</th>\n",
       "      <th>Country_Region</th>\n",
       "      <th>AdminRegion1</th>\n",
       "      <th>AdminRegion2</th>\n",
       "    </tr>\n",
       "  </thead>\n",
       "  <tbody>\n",
       "    <tr>\n",
       "      <td>72761</td>\n",
       "      <td>7157182</td>\n",
       "      <td>2020-03-01</td>\n",
       "      <td>42</td>\n",
       "      <td>2.0</td>\n",
       "      <td>4.0</td>\n",
       "      <td>1.0</td>\n",
       "      <td>9.0</td>\n",
       "      <td>3.0</td>\n",
       "      <td>US</td>\n",
       "      <td>USA</td>\n",
       "      <td>United States</td>\n",
       "      <td>NaN</td>\n",
       "      <td>NaN</td>\n",
       "    </tr>\n",
       "    <tr>\n",
       "      <td>72762</td>\n",
       "      <td>7157184</td>\n",
       "      <td>2020-03-02</td>\n",
       "      <td>57</td>\n",
       "      <td>15.0</td>\n",
       "      <td>8.0</td>\n",
       "      <td>4.0</td>\n",
       "      <td>9.0</td>\n",
       "      <td>0.0</td>\n",
       "      <td>US</td>\n",
       "      <td>USA</td>\n",
       "      <td>United States</td>\n",
       "      <td>NaN</td>\n",
       "      <td>NaN</td>\n",
       "    </tr>\n",
       "    <tr>\n",
       "      <td>72763</td>\n",
       "      <td>7157186</td>\n",
       "      <td>2020-03-03</td>\n",
       "      <td>85</td>\n",
       "      <td>28.0</td>\n",
       "      <td>11.0</td>\n",
       "      <td>3.0</td>\n",
       "      <td>9.0</td>\n",
       "      <td>0.0</td>\n",
       "      <td>US</td>\n",
       "      <td>USA</td>\n",
       "      <td>United States</td>\n",
       "      <td>NaN</td>\n",
       "      <td>NaN</td>\n",
       "    </tr>\n",
       "    <tr>\n",
       "      <td>72764</td>\n",
       "      <td>7157188</td>\n",
       "      <td>2020-03-04</td>\n",
       "      <td>111</td>\n",
       "      <td>26.0</td>\n",
       "      <td>13.0</td>\n",
       "      <td>2.0</td>\n",
       "      <td>9.0</td>\n",
       "      <td>0.0</td>\n",
       "      <td>US</td>\n",
       "      <td>USA</td>\n",
       "      <td>United States</td>\n",
       "      <td>NaN</td>\n",
       "      <td>NaN</td>\n",
       "    </tr>\n",
       "    <tr>\n",
       "      <td>72765</td>\n",
       "      <td>7157190</td>\n",
       "      <td>2020-03-05</td>\n",
       "      <td>175</td>\n",
       "      <td>64.0</td>\n",
       "      <td>13.0</td>\n",
       "      <td>0.0</td>\n",
       "      <td>9.0</td>\n",
       "      <td>0.0</td>\n",
       "      <td>US</td>\n",
       "      <td>USA</td>\n",
       "      <td>United States</td>\n",
       "      <td>NaN</td>\n",
       "      <td>NaN</td>\n",
       "    </tr>\n",
       "  </tbody>\n",
       "</table>\n",
       "</div>"
      ],
      "text/plain": [
       "            ID    Updated  Confirmed  ConfirmedChange  Deaths  DeathsChange  \\\n",
       "72761  7157182 2020-03-01         42              2.0     4.0           1.0   \n",
       "72762  7157184 2020-03-02         57             15.0     8.0           4.0   \n",
       "72763  7157186 2020-03-03         85             28.0    11.0           3.0   \n",
       "72764  7157188 2020-03-04        111             26.0    13.0           2.0   \n",
       "72765  7157190 2020-03-05        175             64.0    13.0           0.0   \n",
       "\n",
       "       Recovered  RecoveredChange ISO2 ISO3 Country_Region AdminRegion1  \\\n",
       "72761        9.0              3.0   US  USA  United States          NaN   \n",
       "72762        9.0              0.0   US  USA  United States          NaN   \n",
       "72763        9.0              0.0   US  USA  United States          NaN   \n",
       "72764        9.0              0.0   US  USA  United States          NaN   \n",
       "72765        9.0              0.0   US  USA  United States          NaN   \n",
       "\n",
       "      AdminRegion2  \n",
       "72761          NaN  \n",
       "72762          NaN  \n",
       "72763          NaN  \n",
       "72764          NaN  \n",
       "72765          NaN  "
      ]
     },
     "execution_count": 65,
     "metadata": {},
     "output_type": "execute_result"
    }
   ],
   "source": [
    "data_usa.head()"
   ]
  },
  {
   "cell_type": "code",
   "execution_count": 66,
   "metadata": {},
   "outputs": [
    {
     "data": {
      "text/html": [
       "<div>\n",
       "<style scoped>\n",
       "    .dataframe tbody tr th:only-of-type {\n",
       "        vertical-align: middle;\n",
       "    }\n",
       "\n",
       "    .dataframe tbody tr th {\n",
       "        vertical-align: top;\n",
       "    }\n",
       "\n",
       "    .dataframe thead th {\n",
       "        text-align: right;\n",
       "    }\n",
       "</style>\n",
       "<table border=\"1\" class=\"dataframe\">\n",
       "  <thead>\n",
       "    <tr style=\"text-align: right;\">\n",
       "      <th></th>\n",
       "      <th>ID</th>\n",
       "      <th>Updated</th>\n",
       "      <th>Confirmed</th>\n",
       "      <th>ConfirmedChange</th>\n",
       "      <th>Deaths</th>\n",
       "      <th>DeathsChange</th>\n",
       "      <th>Recovered</th>\n",
       "      <th>RecoveredChange</th>\n",
       "      <th>ISO2</th>\n",
       "      <th>ISO3</th>\n",
       "      <th>Country_Region</th>\n",
       "      <th>AdminRegion1</th>\n",
       "      <th>AdminRegion2</th>\n",
       "    </tr>\n",
       "  </thead>\n",
       "  <tbody>\n",
       "    <tr>\n",
       "      <td>249452</td>\n",
       "      <td>17388377</td>\n",
       "      <td>2020-05-21</td>\n",
       "      <td>0</td>\n",
       "      <td>0.0</td>\n",
       "      <td>0.0</td>\n",
       "      <td>0.0</td>\n",
       "      <td>NaN</td>\n",
       "      <td>NaN</td>\n",
       "      <td>US</td>\n",
       "      <td>USA</td>\n",
       "      <td>United States</td>\n",
       "      <td>Wyoming</td>\n",
       "      <td>Weston County</td>\n",
       "    </tr>\n",
       "    <tr>\n",
       "      <td>249453</td>\n",
       "      <td>18142165</td>\n",
       "      <td>2020-05-23</td>\n",
       "      <td>0</td>\n",
       "      <td>0.0</td>\n",
       "      <td>0.0</td>\n",
       "      <td>0.0</td>\n",
       "      <td>NaN</td>\n",
       "      <td>NaN</td>\n",
       "      <td>US</td>\n",
       "      <td>USA</td>\n",
       "      <td>United States</td>\n",
       "      <td>Wyoming</td>\n",
       "      <td>Weston County</td>\n",
       "    </tr>\n",
       "    <tr>\n",
       "      <td>249454</td>\n",
       "      <td>20070536</td>\n",
       "      <td>2020-05-27</td>\n",
       "      <td>1</td>\n",
       "      <td>1.0</td>\n",
       "      <td>0.0</td>\n",
       "      <td>0.0</td>\n",
       "      <td>NaN</td>\n",
       "      <td>NaN</td>\n",
       "      <td>US</td>\n",
       "      <td>USA</td>\n",
       "      <td>United States</td>\n",
       "      <td>Wyoming</td>\n",
       "      <td>Weston County</td>\n",
       "    </tr>\n",
       "    <tr>\n",
       "      <td>249455</td>\n",
       "      <td>20653630</td>\n",
       "      <td>2020-05-28</td>\n",
       "      <td>1</td>\n",
       "      <td>0.0</td>\n",
       "      <td>0.0</td>\n",
       "      <td>0.0</td>\n",
       "      <td>NaN</td>\n",
       "      <td>NaN</td>\n",
       "      <td>US</td>\n",
       "      <td>USA</td>\n",
       "      <td>United States</td>\n",
       "      <td>Wyoming</td>\n",
       "      <td>Weston County</td>\n",
       "    </tr>\n",
       "    <tr>\n",
       "      <td>249456</td>\n",
       "      <td>20996817</td>\n",
       "      <td>2020-05-29</td>\n",
       "      <td>1</td>\n",
       "      <td>0.0</td>\n",
       "      <td>0.0</td>\n",
       "      <td>0.0</td>\n",
       "      <td>NaN</td>\n",
       "      <td>NaN</td>\n",
       "      <td>US</td>\n",
       "      <td>USA</td>\n",
       "      <td>United States</td>\n",
       "      <td>Wyoming</td>\n",
       "      <td>Weston County</td>\n",
       "    </tr>\n",
       "  </tbody>\n",
       "</table>\n",
       "</div>"
      ],
      "text/plain": [
       "              ID    Updated  Confirmed  ConfirmedChange  Deaths  DeathsChange  \\\n",
       "249452  17388377 2020-05-21          0              0.0     0.0           0.0   \n",
       "249453  18142165 2020-05-23          0              0.0     0.0           0.0   \n",
       "249454  20070536 2020-05-27          1              1.0     0.0           0.0   \n",
       "249455  20653630 2020-05-28          1              0.0     0.0           0.0   \n",
       "249456  20996817 2020-05-29          1              0.0     0.0           0.0   \n",
       "\n",
       "        Recovered  RecoveredChange ISO2 ISO3 Country_Region AdminRegion1  \\\n",
       "249452        NaN              NaN   US  USA  United States      Wyoming   \n",
       "249453        NaN              NaN   US  USA  United States      Wyoming   \n",
       "249454        NaN              NaN   US  USA  United States      Wyoming   \n",
       "249455        NaN              NaN   US  USA  United States      Wyoming   \n",
       "249456        NaN              NaN   US  USA  United States      Wyoming   \n",
       "\n",
       "         AdminRegion2  \n",
       "249452  Weston County  \n",
       "249453  Weston County  \n",
       "249454  Weston County  \n",
       "249455  Weston County  \n",
       "249456  Weston County  "
      ]
     },
     "execution_count": 66,
     "metadata": {},
     "output_type": "execute_result"
    }
   ],
   "source": [
    "data_usa.tail()"
   ]
  },
  {
   "cell_type": "code",
   "execution_count": 67,
   "metadata": {},
   "outputs": [],
   "source": [
    "#Grouping different types of cases as per the date\n",
    "datewise2=data_usa.groupby([\"Updated\"]).agg({\"Confirmed\":'max',\"Recovered\":'max',\"Deaths\":'max'})\n",
    "datewise2[\"Days Since\"]=datewise.index-datewise.index.min()"
   ]
  },
  {
   "cell_type": "code",
   "execution_count": 69,
   "metadata": {},
   "outputs": [
    {
     "data": {
      "application/vnd.plotly.v1+json": {
       "config": {
        "plotlyServerURL": "https://plot.ly"
       },
       "data": [
        {
         "alignmentgroup": "True",
         "hovertemplate": "x=%{x}<br>y=%{y}<extra></extra>",
         "legendgroup": "",
         "marker": {
          "color": "#636efa"
         },
         "name": "",
         "offsetgroup": "",
         "orientation": "v",
         "showlegend": false,
         "textposition": "auto",
         "type": "bar",
         "x": [
          "2020-03-01T00:00:00",
          "2020-03-02T00:00:00",
          "2020-03-03T00:00:00",
          "2020-03-04T00:00:00",
          "2020-03-05T00:00:00",
          "2020-03-06T00:00:00",
          "2020-03-07T00:00:00",
          "2020-03-08T00:00:00",
          "2020-03-09T00:00:00",
          "2020-03-10T00:00:00",
          "2020-03-11T00:00:00",
          "2020-03-12T00:00:00",
          "2020-03-13T00:00:00",
          "2020-03-14T00:00:00",
          "2020-03-15T00:00:00",
          "2020-03-16T00:00:00",
          "2020-03-17T00:00:00",
          "2020-03-18T00:00:00",
          "2020-03-19T00:00:00",
          "2020-03-20T00:00:00",
          "2020-03-21T00:00:00",
          "2020-03-22T00:00:00",
          "2020-03-23T00:00:00",
          "2020-03-24T00:00:00",
          "2020-03-25T00:00:00",
          "2020-03-26T00:00:00",
          "2020-03-27T00:00:00",
          "2020-03-28T00:00:00",
          "2020-03-29T00:00:00",
          "2020-03-30T00:00:00",
          "2020-03-31T00:00:00",
          "2020-04-01T00:00:00",
          "2020-04-02T00:00:00",
          "2020-04-03T00:00:00",
          "2020-04-04T00:00:00",
          "2020-04-05T00:00:00",
          "2020-04-06T00:00:00",
          "2020-04-07T00:00:00",
          "2020-04-08T00:00:00",
          "2020-04-09T00:00:00",
          "2020-04-10T00:00:00",
          "2020-04-11T00:00:00",
          "2020-04-12T00:00:00",
          "2020-04-13T00:00:00",
          "2020-04-14T00:00:00",
          "2020-04-15T00:00:00",
          "2020-04-16T00:00:00",
          "2020-04-17T00:00:00",
          "2020-04-18T00:00:00",
          "2020-04-19T00:00:00",
          "2020-04-20T00:00:00",
          "2020-04-21T00:00:00",
          "2020-04-22T00:00:00",
          "2020-04-23T00:00:00",
          "2020-04-24T00:00:00",
          "2020-04-25T00:00:00",
          "2020-04-26T00:00:00",
          "2020-04-27T00:00:00",
          "2020-04-28T00:00:00",
          "2020-04-29T00:00:00",
          "2020-04-30T00:00:00",
          "2020-05-01T00:00:00",
          "2020-05-02T00:00:00",
          "2020-05-03T00:00:00",
          "2020-05-04T00:00:00",
          "2020-05-05T00:00:00",
          "2020-05-06T00:00:00",
          "2020-05-07T00:00:00",
          "2020-05-08T00:00:00",
          "2020-05-09T00:00:00",
          "2020-05-10T00:00:00",
          "2020-05-11T00:00:00",
          "2020-05-12T00:00:00",
          "2020-05-13T00:00:00",
          "2020-05-14T00:00:00",
          "2020-05-15T00:00:00",
          "2020-05-16T00:00:00",
          "2020-05-17T00:00:00",
          "2020-05-18T00:00:00",
          "2020-05-19T00:00:00",
          "2020-05-20T00:00:00",
          "2020-05-21T00:00:00",
          "2020-05-22T00:00:00",
          "2020-05-23T00:00:00",
          "2020-05-24T00:00:00",
          "2020-05-25T00:00:00",
          "2020-05-26T00:00:00",
          "2020-05-27T00:00:00",
          "2020-05-28T00:00:00",
          "2020-05-29T00:00:00",
          "2020-05-30T00:00:00"
         ],
         "xaxis": "x",
         "y": [
          25,
          37,
          62,
          86,
          146,
          218,
          318,
          458,
          602,
          891,
          1150,
          1539,
          2080,
          2725,
          3380,
          4221,
          5547,
          7842,
          11736,
          17081,
          23399,
          31894,
          42051,
          51746,
          63709,
          80188,
          96952,
          115832,
          133354,
          152931,
          175269,
          200857,
          225437,
          256731,
          285063,
          306662,
          332681,
          359001,
          387637,
          419462,
          446314,
          473650,
          498650,
          511184,
          534179,
          555556,
          580841,
          605747,
          625119,
          644731,
          666220,
          686124,
          710866,
          736775,
          753322,
          783673,
          802257,
          818974,
          836889,
          855201,
          877102,
          898807,
          914975,
          936723,
          950489,
          966498,
          981791,
          1003928,
          1020981,
          1037964,
          1038702,
          1044906,
          1050659,
          1059330,
          1076154,
          1092438,
          1102386,
          1112526,
          1125191,
          1135117,
          1151769,
          1168646,
          1186071,
          1186745,
          1201173,
          1206307,
          1214414,
          1221362,
          1235560,
          1253359,
          1269978
         ],
         "yaxis": "y"
        }
       ],
       "layout": {
        "barmode": "relative",
        "legend": {
         "tracegroupgap": 0
        },
        "margin": {
         "t": 60
        },
        "template": {
         "data": {
          "bar": [
           {
            "error_x": {
             "color": "#2a3f5f"
            },
            "error_y": {
             "color": "#2a3f5f"
            },
            "marker": {
             "line": {
              "color": "#E5ECF6",
              "width": 0.5
             }
            },
            "type": "bar"
           }
          ],
          "barpolar": [
           {
            "marker": {
             "line": {
              "color": "#E5ECF6",
              "width": 0.5
             }
            },
            "type": "barpolar"
           }
          ],
          "carpet": [
           {
            "aaxis": {
             "endlinecolor": "#2a3f5f",
             "gridcolor": "white",
             "linecolor": "white",
             "minorgridcolor": "white",
             "startlinecolor": "#2a3f5f"
            },
            "baxis": {
             "endlinecolor": "#2a3f5f",
             "gridcolor": "white",
             "linecolor": "white",
             "minorgridcolor": "white",
             "startlinecolor": "#2a3f5f"
            },
            "type": "carpet"
           }
          ],
          "choropleth": [
           {
            "colorbar": {
             "outlinewidth": 0,
             "ticks": ""
            },
            "type": "choropleth"
           }
          ],
          "contour": [
           {
            "colorbar": {
             "outlinewidth": 0,
             "ticks": ""
            },
            "colorscale": [
             [
              0,
              "#0d0887"
             ],
             [
              0.1111111111111111,
              "#46039f"
             ],
             [
              0.2222222222222222,
              "#7201a8"
             ],
             [
              0.3333333333333333,
              "#9c179e"
             ],
             [
              0.4444444444444444,
              "#bd3786"
             ],
             [
              0.5555555555555556,
              "#d8576b"
             ],
             [
              0.6666666666666666,
              "#ed7953"
             ],
             [
              0.7777777777777778,
              "#fb9f3a"
             ],
             [
              0.8888888888888888,
              "#fdca26"
             ],
             [
              1,
              "#f0f921"
             ]
            ],
            "type": "contour"
           }
          ],
          "contourcarpet": [
           {
            "colorbar": {
             "outlinewidth": 0,
             "ticks": ""
            },
            "type": "contourcarpet"
           }
          ],
          "heatmap": [
           {
            "colorbar": {
             "outlinewidth": 0,
             "ticks": ""
            },
            "colorscale": [
             [
              0,
              "#0d0887"
             ],
             [
              0.1111111111111111,
              "#46039f"
             ],
             [
              0.2222222222222222,
              "#7201a8"
             ],
             [
              0.3333333333333333,
              "#9c179e"
             ],
             [
              0.4444444444444444,
              "#bd3786"
             ],
             [
              0.5555555555555556,
              "#d8576b"
             ],
             [
              0.6666666666666666,
              "#ed7953"
             ],
             [
              0.7777777777777778,
              "#fb9f3a"
             ],
             [
              0.8888888888888888,
              "#fdca26"
             ],
             [
              1,
              "#f0f921"
             ]
            ],
            "type": "heatmap"
           }
          ],
          "heatmapgl": [
           {
            "colorbar": {
             "outlinewidth": 0,
             "ticks": ""
            },
            "colorscale": [
             [
              0,
              "#0d0887"
             ],
             [
              0.1111111111111111,
              "#46039f"
             ],
             [
              0.2222222222222222,
              "#7201a8"
             ],
             [
              0.3333333333333333,
              "#9c179e"
             ],
             [
              0.4444444444444444,
              "#bd3786"
             ],
             [
              0.5555555555555556,
              "#d8576b"
             ],
             [
              0.6666666666666666,
              "#ed7953"
             ],
             [
              0.7777777777777778,
              "#fb9f3a"
             ],
             [
              0.8888888888888888,
              "#fdca26"
             ],
             [
              1,
              "#f0f921"
             ]
            ],
            "type": "heatmapgl"
           }
          ],
          "histogram": [
           {
            "marker": {
             "colorbar": {
              "outlinewidth": 0,
              "ticks": ""
             }
            },
            "type": "histogram"
           }
          ],
          "histogram2d": [
           {
            "colorbar": {
             "outlinewidth": 0,
             "ticks": ""
            },
            "colorscale": [
             [
              0,
              "#0d0887"
             ],
             [
              0.1111111111111111,
              "#46039f"
             ],
             [
              0.2222222222222222,
              "#7201a8"
             ],
             [
              0.3333333333333333,
              "#9c179e"
             ],
             [
              0.4444444444444444,
              "#bd3786"
             ],
             [
              0.5555555555555556,
              "#d8576b"
             ],
             [
              0.6666666666666666,
              "#ed7953"
             ],
             [
              0.7777777777777778,
              "#fb9f3a"
             ],
             [
              0.8888888888888888,
              "#fdca26"
             ],
             [
              1,
              "#f0f921"
             ]
            ],
            "type": "histogram2d"
           }
          ],
          "histogram2dcontour": [
           {
            "colorbar": {
             "outlinewidth": 0,
             "ticks": ""
            },
            "colorscale": [
             [
              0,
              "#0d0887"
             ],
             [
              0.1111111111111111,
              "#46039f"
             ],
             [
              0.2222222222222222,
              "#7201a8"
             ],
             [
              0.3333333333333333,
              "#9c179e"
             ],
             [
              0.4444444444444444,
              "#bd3786"
             ],
             [
              0.5555555555555556,
              "#d8576b"
             ],
             [
              0.6666666666666666,
              "#ed7953"
             ],
             [
              0.7777777777777778,
              "#fb9f3a"
             ],
             [
              0.8888888888888888,
              "#fdca26"
             ],
             [
              1,
              "#f0f921"
             ]
            ],
            "type": "histogram2dcontour"
           }
          ],
          "mesh3d": [
           {
            "colorbar": {
             "outlinewidth": 0,
             "ticks": ""
            },
            "type": "mesh3d"
           }
          ],
          "parcoords": [
           {
            "line": {
             "colorbar": {
              "outlinewidth": 0,
              "ticks": ""
             }
            },
            "type": "parcoords"
           }
          ],
          "pie": [
           {
            "automargin": true,
            "type": "pie"
           }
          ],
          "scatter": [
           {
            "marker": {
             "colorbar": {
              "outlinewidth": 0,
              "ticks": ""
             }
            },
            "type": "scatter"
           }
          ],
          "scatter3d": [
           {
            "line": {
             "colorbar": {
              "outlinewidth": 0,
              "ticks": ""
             }
            },
            "marker": {
             "colorbar": {
              "outlinewidth": 0,
              "ticks": ""
             }
            },
            "type": "scatter3d"
           }
          ],
          "scattercarpet": [
           {
            "marker": {
             "colorbar": {
              "outlinewidth": 0,
              "ticks": ""
             }
            },
            "type": "scattercarpet"
           }
          ],
          "scattergeo": [
           {
            "marker": {
             "colorbar": {
              "outlinewidth": 0,
              "ticks": ""
             }
            },
            "type": "scattergeo"
           }
          ],
          "scattergl": [
           {
            "marker": {
             "colorbar": {
              "outlinewidth": 0,
              "ticks": ""
             }
            },
            "type": "scattergl"
           }
          ],
          "scattermapbox": [
           {
            "marker": {
             "colorbar": {
              "outlinewidth": 0,
              "ticks": ""
             }
            },
            "type": "scattermapbox"
           }
          ],
          "scatterpolar": [
           {
            "marker": {
             "colorbar": {
              "outlinewidth": 0,
              "ticks": ""
             }
            },
            "type": "scatterpolar"
           }
          ],
          "scatterpolargl": [
           {
            "marker": {
             "colorbar": {
              "outlinewidth": 0,
              "ticks": ""
             }
            },
            "type": "scatterpolargl"
           }
          ],
          "scatterternary": [
           {
            "marker": {
             "colorbar": {
              "outlinewidth": 0,
              "ticks": ""
             }
            },
            "type": "scatterternary"
           }
          ],
          "surface": [
           {
            "colorbar": {
             "outlinewidth": 0,
             "ticks": ""
            },
            "colorscale": [
             [
              0,
              "#0d0887"
             ],
             [
              0.1111111111111111,
              "#46039f"
             ],
             [
              0.2222222222222222,
              "#7201a8"
             ],
             [
              0.3333333333333333,
              "#9c179e"
             ],
             [
              0.4444444444444444,
              "#bd3786"
             ],
             [
              0.5555555555555556,
              "#d8576b"
             ],
             [
              0.6666666666666666,
              "#ed7953"
             ],
             [
              0.7777777777777778,
              "#fb9f3a"
             ],
             [
              0.8888888888888888,
              "#fdca26"
             ],
             [
              1,
              "#f0f921"
             ]
            ],
            "type": "surface"
           }
          ],
          "table": [
           {
            "cells": {
             "fill": {
              "color": "#EBF0F8"
             },
             "line": {
              "color": "white"
             }
            },
            "header": {
             "fill": {
              "color": "#C8D4E3"
             },
             "line": {
              "color": "white"
             }
            },
            "type": "table"
           }
          ]
         },
         "layout": {
          "annotationdefaults": {
           "arrowcolor": "#2a3f5f",
           "arrowhead": 0,
           "arrowwidth": 1
          },
          "coloraxis": {
           "colorbar": {
            "outlinewidth": 0,
            "ticks": ""
           }
          },
          "colorscale": {
           "diverging": [
            [
             0,
             "#8e0152"
            ],
            [
             0.1,
             "#c51b7d"
            ],
            [
             0.2,
             "#de77ae"
            ],
            [
             0.3,
             "#f1b6da"
            ],
            [
             0.4,
             "#fde0ef"
            ],
            [
             0.5,
             "#f7f7f7"
            ],
            [
             0.6,
             "#e6f5d0"
            ],
            [
             0.7,
             "#b8e186"
            ],
            [
             0.8,
             "#7fbc41"
            ],
            [
             0.9,
             "#4d9221"
            ],
            [
             1,
             "#276419"
            ]
           ],
           "sequential": [
            [
             0,
             "#0d0887"
            ],
            [
             0.1111111111111111,
             "#46039f"
            ],
            [
             0.2222222222222222,
             "#7201a8"
            ],
            [
             0.3333333333333333,
             "#9c179e"
            ],
            [
             0.4444444444444444,
             "#bd3786"
            ],
            [
             0.5555555555555556,
             "#d8576b"
            ],
            [
             0.6666666666666666,
             "#ed7953"
            ],
            [
             0.7777777777777778,
             "#fb9f3a"
            ],
            [
             0.8888888888888888,
             "#fdca26"
            ],
            [
             1,
             "#f0f921"
            ]
           ],
           "sequentialminus": [
            [
             0,
             "#0d0887"
            ],
            [
             0.1111111111111111,
             "#46039f"
            ],
            [
             0.2222222222222222,
             "#7201a8"
            ],
            [
             0.3333333333333333,
             "#9c179e"
            ],
            [
             0.4444444444444444,
             "#bd3786"
            ],
            [
             0.5555555555555556,
             "#d8576b"
            ],
            [
             0.6666666666666666,
             "#ed7953"
            ],
            [
             0.7777777777777778,
             "#fb9f3a"
            ],
            [
             0.8888888888888888,
             "#fdca26"
            ],
            [
             1,
             "#f0f921"
            ]
           ]
          },
          "colorway": [
           "#636efa",
           "#EF553B",
           "#00cc96",
           "#ab63fa",
           "#FFA15A",
           "#19d3f3",
           "#FF6692",
           "#B6E880",
           "#FF97FF",
           "#FECB52"
          ],
          "font": {
           "color": "#2a3f5f"
          },
          "geo": {
           "bgcolor": "white",
           "lakecolor": "white",
           "landcolor": "#E5ECF6",
           "showlakes": true,
           "showland": true,
           "subunitcolor": "white"
          },
          "hoverlabel": {
           "align": "left"
          },
          "hovermode": "closest",
          "mapbox": {
           "style": "light"
          },
          "paper_bgcolor": "white",
          "plot_bgcolor": "#E5ECF6",
          "polar": {
           "angularaxis": {
            "gridcolor": "white",
            "linecolor": "white",
            "ticks": ""
           },
           "bgcolor": "#E5ECF6",
           "radialaxis": {
            "gridcolor": "white",
            "linecolor": "white",
            "ticks": ""
           }
          },
          "scene": {
           "xaxis": {
            "backgroundcolor": "#E5ECF6",
            "gridcolor": "white",
            "gridwidth": 2,
            "linecolor": "white",
            "showbackground": true,
            "ticks": "",
            "zerolinecolor": "white"
           },
           "yaxis": {
            "backgroundcolor": "#E5ECF6",
            "gridcolor": "white",
            "gridwidth": 2,
            "linecolor": "white",
            "showbackground": true,
            "ticks": "",
            "zerolinecolor": "white"
           },
           "zaxis": {
            "backgroundcolor": "#E5ECF6",
            "gridcolor": "white",
            "gridwidth": 2,
            "linecolor": "white",
            "showbackground": true,
            "ticks": "",
            "zerolinecolor": "white"
           }
          },
          "shapedefaults": {
           "line": {
            "color": "#2a3f5f"
           }
          },
          "ternary": {
           "aaxis": {
            "gridcolor": "white",
            "linecolor": "white",
            "ticks": ""
           },
           "baxis": {
            "gridcolor": "white",
            "linecolor": "white",
            "ticks": ""
           },
           "bgcolor": "#E5ECF6",
           "caxis": {
            "gridcolor": "white",
            "linecolor": "white",
            "ticks": ""
           }
          },
          "title": {
           "x": 0.05
          },
          "xaxis": {
           "automargin": true,
           "gridcolor": "white",
           "linecolor": "white",
           "ticks": "",
           "title": {
            "standoff": 15
           },
           "zerolinecolor": "white",
           "zerolinewidth": 2
          },
          "yaxis": {
           "automargin": true,
           "gridcolor": "white",
           "linecolor": "white",
           "ticks": "",
           "title": {
            "standoff": 15
           },
           "zerolinecolor": "white",
           "zerolinewidth": 2
          }
         }
        },
        "title": {
         "text": "Distribution of Number of Active Cases"
        },
        "xaxis": {
         "anchor": "y",
         "domain": [
          0,
          1
         ],
         "title": {
          "text": "Date"
         }
        },
        "yaxis": {
         "anchor": "x",
         "domain": [
          0,
          1
         ],
         "title": {
          "text": "Number of Cases"
         }
        }
       }
      },
      "text/html": [
       "<div>\n",
       "        \n",
       "        \n",
       "            <div id=\"98acb165-ab51-488d-943a-c43b99a7a360\" class=\"plotly-graph-div\" style=\"height:525px; width:100%;\"></div>\n",
       "            <script type=\"text/javascript\">\n",
       "                require([\"plotly\"], function(Plotly) {\n",
       "                    window.PLOTLYENV=window.PLOTLYENV || {};\n",
       "                    \n",
       "                if (document.getElementById(\"98acb165-ab51-488d-943a-c43b99a7a360\")) {\n",
       "                    Plotly.newPlot(\n",
       "                        '98acb165-ab51-488d-943a-c43b99a7a360',\n",
       "                        [{\"alignmentgroup\": \"True\", \"hovertemplate\": \"x=%{x}<br>y=%{y}<extra></extra>\", \"legendgroup\": \"\", \"marker\": {\"color\": \"#636efa\"}, \"name\": \"\", \"offsetgroup\": \"\", \"orientation\": \"v\", \"showlegend\": false, \"textposition\": \"auto\", \"type\": \"bar\", \"x\": [\"2020-03-01T00:00:00\", \"2020-03-02T00:00:00\", \"2020-03-03T00:00:00\", \"2020-03-04T00:00:00\", \"2020-03-05T00:00:00\", \"2020-03-06T00:00:00\", \"2020-03-07T00:00:00\", \"2020-03-08T00:00:00\", \"2020-03-09T00:00:00\", \"2020-03-10T00:00:00\", \"2020-03-11T00:00:00\", \"2020-03-12T00:00:00\", \"2020-03-13T00:00:00\", \"2020-03-14T00:00:00\", \"2020-03-15T00:00:00\", \"2020-03-16T00:00:00\", \"2020-03-17T00:00:00\", \"2020-03-18T00:00:00\", \"2020-03-19T00:00:00\", \"2020-03-20T00:00:00\", \"2020-03-21T00:00:00\", \"2020-03-22T00:00:00\", \"2020-03-23T00:00:00\", \"2020-03-24T00:00:00\", \"2020-03-25T00:00:00\", \"2020-03-26T00:00:00\", \"2020-03-27T00:00:00\", \"2020-03-28T00:00:00\", \"2020-03-29T00:00:00\", \"2020-03-30T00:00:00\", \"2020-03-31T00:00:00\", \"2020-04-01T00:00:00\", \"2020-04-02T00:00:00\", \"2020-04-03T00:00:00\", \"2020-04-04T00:00:00\", \"2020-04-05T00:00:00\", \"2020-04-06T00:00:00\", \"2020-04-07T00:00:00\", \"2020-04-08T00:00:00\", \"2020-04-09T00:00:00\", \"2020-04-10T00:00:00\", \"2020-04-11T00:00:00\", \"2020-04-12T00:00:00\", \"2020-04-13T00:00:00\", \"2020-04-14T00:00:00\", \"2020-04-15T00:00:00\", \"2020-04-16T00:00:00\", \"2020-04-17T00:00:00\", \"2020-04-18T00:00:00\", \"2020-04-19T00:00:00\", \"2020-04-20T00:00:00\", \"2020-04-21T00:00:00\", \"2020-04-22T00:00:00\", \"2020-04-23T00:00:00\", \"2020-04-24T00:00:00\", \"2020-04-25T00:00:00\", \"2020-04-26T00:00:00\", \"2020-04-27T00:00:00\", \"2020-04-28T00:00:00\", \"2020-04-29T00:00:00\", \"2020-04-30T00:00:00\", \"2020-05-01T00:00:00\", \"2020-05-02T00:00:00\", \"2020-05-03T00:00:00\", \"2020-05-04T00:00:00\", \"2020-05-05T00:00:00\", \"2020-05-06T00:00:00\", \"2020-05-07T00:00:00\", \"2020-05-08T00:00:00\", \"2020-05-09T00:00:00\", \"2020-05-10T00:00:00\", \"2020-05-11T00:00:00\", \"2020-05-12T00:00:00\", \"2020-05-13T00:00:00\", \"2020-05-14T00:00:00\", \"2020-05-15T00:00:00\", \"2020-05-16T00:00:00\", \"2020-05-17T00:00:00\", \"2020-05-18T00:00:00\", \"2020-05-19T00:00:00\", \"2020-05-20T00:00:00\", \"2020-05-21T00:00:00\", \"2020-05-22T00:00:00\", \"2020-05-23T00:00:00\", \"2020-05-24T00:00:00\", \"2020-05-25T00:00:00\", \"2020-05-26T00:00:00\", \"2020-05-27T00:00:00\", \"2020-05-28T00:00:00\", \"2020-05-29T00:00:00\", \"2020-05-30T00:00:00\"], \"xaxis\": \"x\", \"y\": [25.0, 37.0, 62.0, 86.0, 146.0, 218.0, 318.0, 458.0, 602.0, 891.0, 1150.0, 1539.0, 2080.0, 2725.0, 3380.0, 4221.0, 5547.0, 7842.0, 11736.0, 17081.0, 23399.0, 31894.0, 42051.0, 51746.0, 63709.0, 80188.0, 96952.0, 115832.0, 133354.0, 152931.0, 175269.0, 200857.0, 225437.0, 256731.0, 285063.0, 306662.0, 332681.0, 359001.0, 387637.0, 419462.0, 446314.0, 473650.0, 498650.0, 511184.0, 534179.0, 555556.0, 580841.0, 605747.0, 625119.0, 644731.0, 666220.0, 686124.0, 710866.0, 736775.0, 753322.0, 783673.0, 802257.0, 818974.0, 836889.0, 855201.0, 877102.0, 898807.0, 914975.0, 936723.0, 950489.0, 966498.0, 981791.0, 1003928.0, 1020981.0, 1037964.0, 1038702.0, 1044906.0, 1050659.0, 1059330.0, 1076154.0, 1092438.0, 1102386.0, 1112526.0, 1125191.0, 1135117.0, 1151769.0, 1168646.0, 1186071.0, 1186745.0, 1201173.0, 1206307.0, 1214414.0, 1221362.0, 1235560.0, 1253359.0, 1269978.0], \"yaxis\": \"y\"}],\n",
       "                        {\"barmode\": \"relative\", \"legend\": {\"tracegroupgap\": 0}, \"margin\": {\"t\": 60}, \"template\": {\"data\": {\"bar\": [{\"error_x\": {\"color\": \"#2a3f5f\"}, \"error_y\": {\"color\": \"#2a3f5f\"}, \"marker\": {\"line\": {\"color\": \"#E5ECF6\", \"width\": 0.5}}, \"type\": \"bar\"}], \"barpolar\": [{\"marker\": {\"line\": {\"color\": \"#E5ECF6\", \"width\": 0.5}}, \"type\": \"barpolar\"}], \"carpet\": [{\"aaxis\": {\"endlinecolor\": \"#2a3f5f\", \"gridcolor\": \"white\", \"linecolor\": \"white\", \"minorgridcolor\": \"white\", \"startlinecolor\": \"#2a3f5f\"}, \"baxis\": {\"endlinecolor\": \"#2a3f5f\", \"gridcolor\": \"white\", \"linecolor\": \"white\", \"minorgridcolor\": \"white\", \"startlinecolor\": \"#2a3f5f\"}, \"type\": \"carpet\"}], \"choropleth\": [{\"colorbar\": {\"outlinewidth\": 0, \"ticks\": \"\"}, \"type\": \"choropleth\"}], \"contour\": [{\"colorbar\": {\"outlinewidth\": 0, \"ticks\": \"\"}, \"colorscale\": [[0.0, \"#0d0887\"], [0.1111111111111111, \"#46039f\"], [0.2222222222222222, \"#7201a8\"], [0.3333333333333333, \"#9c179e\"], [0.4444444444444444, \"#bd3786\"], [0.5555555555555556, \"#d8576b\"], [0.6666666666666666, \"#ed7953\"], [0.7777777777777778, \"#fb9f3a\"], [0.8888888888888888, \"#fdca26\"], [1.0, \"#f0f921\"]], \"type\": \"contour\"}], \"contourcarpet\": [{\"colorbar\": {\"outlinewidth\": 0, \"ticks\": \"\"}, \"type\": \"contourcarpet\"}], \"heatmap\": [{\"colorbar\": {\"outlinewidth\": 0, \"ticks\": \"\"}, \"colorscale\": [[0.0, \"#0d0887\"], [0.1111111111111111, \"#46039f\"], [0.2222222222222222, \"#7201a8\"], [0.3333333333333333, \"#9c179e\"], [0.4444444444444444, \"#bd3786\"], [0.5555555555555556, \"#d8576b\"], [0.6666666666666666, \"#ed7953\"], [0.7777777777777778, \"#fb9f3a\"], [0.8888888888888888, \"#fdca26\"], [1.0, \"#f0f921\"]], \"type\": \"heatmap\"}], \"heatmapgl\": [{\"colorbar\": {\"outlinewidth\": 0, \"ticks\": \"\"}, \"colorscale\": [[0.0, \"#0d0887\"], [0.1111111111111111, \"#46039f\"], [0.2222222222222222, \"#7201a8\"], [0.3333333333333333, \"#9c179e\"], [0.4444444444444444, \"#bd3786\"], [0.5555555555555556, \"#d8576b\"], [0.6666666666666666, \"#ed7953\"], [0.7777777777777778, \"#fb9f3a\"], [0.8888888888888888, \"#fdca26\"], [1.0, \"#f0f921\"]], \"type\": \"heatmapgl\"}], \"histogram\": [{\"marker\": {\"colorbar\": {\"outlinewidth\": 0, \"ticks\": \"\"}}, \"type\": \"histogram\"}], \"histogram2d\": [{\"colorbar\": {\"outlinewidth\": 0, \"ticks\": \"\"}, \"colorscale\": [[0.0, \"#0d0887\"], [0.1111111111111111, \"#46039f\"], [0.2222222222222222, \"#7201a8\"], [0.3333333333333333, \"#9c179e\"], [0.4444444444444444, \"#bd3786\"], [0.5555555555555556, \"#d8576b\"], [0.6666666666666666, \"#ed7953\"], [0.7777777777777778, \"#fb9f3a\"], [0.8888888888888888, \"#fdca26\"], [1.0, \"#f0f921\"]], \"type\": \"histogram2d\"}], \"histogram2dcontour\": [{\"colorbar\": {\"outlinewidth\": 0, \"ticks\": \"\"}, \"colorscale\": [[0.0, \"#0d0887\"], [0.1111111111111111, \"#46039f\"], [0.2222222222222222, \"#7201a8\"], [0.3333333333333333, \"#9c179e\"], [0.4444444444444444, \"#bd3786\"], [0.5555555555555556, \"#d8576b\"], [0.6666666666666666, \"#ed7953\"], [0.7777777777777778, \"#fb9f3a\"], [0.8888888888888888, \"#fdca26\"], [1.0, \"#f0f921\"]], \"type\": \"histogram2dcontour\"}], \"mesh3d\": [{\"colorbar\": {\"outlinewidth\": 0, \"ticks\": \"\"}, \"type\": \"mesh3d\"}], \"parcoords\": [{\"line\": {\"colorbar\": {\"outlinewidth\": 0, \"ticks\": \"\"}}, \"type\": \"parcoords\"}], \"pie\": [{\"automargin\": true, \"type\": \"pie\"}], \"scatter\": [{\"marker\": {\"colorbar\": {\"outlinewidth\": 0, \"ticks\": \"\"}}, \"type\": \"scatter\"}], \"scatter3d\": [{\"line\": {\"colorbar\": {\"outlinewidth\": 0, \"ticks\": \"\"}}, \"marker\": {\"colorbar\": {\"outlinewidth\": 0, \"ticks\": \"\"}}, \"type\": \"scatter3d\"}], \"scattercarpet\": [{\"marker\": {\"colorbar\": {\"outlinewidth\": 0, \"ticks\": \"\"}}, \"type\": \"scattercarpet\"}], \"scattergeo\": [{\"marker\": {\"colorbar\": {\"outlinewidth\": 0, \"ticks\": \"\"}}, \"type\": \"scattergeo\"}], \"scattergl\": [{\"marker\": {\"colorbar\": {\"outlinewidth\": 0, \"ticks\": \"\"}}, \"type\": \"scattergl\"}], \"scattermapbox\": [{\"marker\": {\"colorbar\": {\"outlinewidth\": 0, \"ticks\": \"\"}}, \"type\": \"scattermapbox\"}], \"scatterpolar\": [{\"marker\": {\"colorbar\": {\"outlinewidth\": 0, \"ticks\": \"\"}}, \"type\": \"scatterpolar\"}], \"scatterpolargl\": [{\"marker\": {\"colorbar\": {\"outlinewidth\": 0, \"ticks\": \"\"}}, \"type\": \"scatterpolargl\"}], \"scatterternary\": [{\"marker\": {\"colorbar\": {\"outlinewidth\": 0, \"ticks\": \"\"}}, \"type\": \"scatterternary\"}], \"surface\": [{\"colorbar\": {\"outlinewidth\": 0, \"ticks\": \"\"}, \"colorscale\": [[0.0, \"#0d0887\"], [0.1111111111111111, \"#46039f\"], [0.2222222222222222, \"#7201a8\"], [0.3333333333333333, \"#9c179e\"], [0.4444444444444444, \"#bd3786\"], [0.5555555555555556, \"#d8576b\"], [0.6666666666666666, \"#ed7953\"], [0.7777777777777778, \"#fb9f3a\"], [0.8888888888888888, \"#fdca26\"], [1.0, \"#f0f921\"]], \"type\": \"surface\"}], \"table\": [{\"cells\": {\"fill\": {\"color\": \"#EBF0F8\"}, \"line\": {\"color\": \"white\"}}, \"header\": {\"fill\": {\"color\": \"#C8D4E3\"}, \"line\": {\"color\": \"white\"}}, \"type\": \"table\"}]}, \"layout\": {\"annotationdefaults\": {\"arrowcolor\": \"#2a3f5f\", \"arrowhead\": 0, \"arrowwidth\": 1}, \"coloraxis\": {\"colorbar\": {\"outlinewidth\": 0, \"ticks\": \"\"}}, \"colorscale\": {\"diverging\": [[0, \"#8e0152\"], [0.1, \"#c51b7d\"], [0.2, \"#de77ae\"], [0.3, \"#f1b6da\"], [0.4, \"#fde0ef\"], [0.5, \"#f7f7f7\"], [0.6, \"#e6f5d0\"], [0.7, \"#b8e186\"], [0.8, \"#7fbc41\"], [0.9, \"#4d9221\"], [1, \"#276419\"]], \"sequential\": [[0.0, \"#0d0887\"], [0.1111111111111111, \"#46039f\"], [0.2222222222222222, \"#7201a8\"], [0.3333333333333333, \"#9c179e\"], [0.4444444444444444, \"#bd3786\"], [0.5555555555555556, \"#d8576b\"], [0.6666666666666666, \"#ed7953\"], [0.7777777777777778, \"#fb9f3a\"], [0.8888888888888888, \"#fdca26\"], [1.0, \"#f0f921\"]], \"sequentialminus\": [[0.0, \"#0d0887\"], [0.1111111111111111, \"#46039f\"], [0.2222222222222222, \"#7201a8\"], [0.3333333333333333, \"#9c179e\"], [0.4444444444444444, \"#bd3786\"], [0.5555555555555556, \"#d8576b\"], [0.6666666666666666, \"#ed7953\"], [0.7777777777777778, \"#fb9f3a\"], [0.8888888888888888, \"#fdca26\"], [1.0, \"#f0f921\"]]}, \"colorway\": [\"#636efa\", \"#EF553B\", \"#00cc96\", \"#ab63fa\", \"#FFA15A\", \"#19d3f3\", \"#FF6692\", \"#B6E880\", \"#FF97FF\", \"#FECB52\"], \"font\": {\"color\": \"#2a3f5f\"}, \"geo\": {\"bgcolor\": \"white\", \"lakecolor\": \"white\", \"landcolor\": \"#E5ECF6\", \"showlakes\": true, \"showland\": true, \"subunitcolor\": \"white\"}, \"hoverlabel\": {\"align\": \"left\"}, \"hovermode\": \"closest\", \"mapbox\": {\"style\": \"light\"}, \"paper_bgcolor\": \"white\", \"plot_bgcolor\": \"#E5ECF6\", \"polar\": {\"angularaxis\": {\"gridcolor\": \"white\", \"linecolor\": \"white\", \"ticks\": \"\"}, \"bgcolor\": \"#E5ECF6\", \"radialaxis\": {\"gridcolor\": \"white\", \"linecolor\": \"white\", \"ticks\": \"\"}}, \"scene\": {\"xaxis\": {\"backgroundcolor\": \"#E5ECF6\", \"gridcolor\": \"white\", \"gridwidth\": 2, \"linecolor\": \"white\", \"showbackground\": true, \"ticks\": \"\", \"zerolinecolor\": \"white\"}, \"yaxis\": {\"backgroundcolor\": \"#E5ECF6\", \"gridcolor\": \"white\", \"gridwidth\": 2, \"linecolor\": \"white\", \"showbackground\": true, \"ticks\": \"\", \"zerolinecolor\": \"white\"}, \"zaxis\": {\"backgroundcolor\": \"#E5ECF6\", \"gridcolor\": \"white\", \"gridwidth\": 2, \"linecolor\": \"white\", \"showbackground\": true, \"ticks\": \"\", \"zerolinecolor\": \"white\"}}, \"shapedefaults\": {\"line\": {\"color\": \"#2a3f5f\"}}, \"ternary\": {\"aaxis\": {\"gridcolor\": \"white\", \"linecolor\": \"white\", \"ticks\": \"\"}, \"baxis\": {\"gridcolor\": \"white\", \"linecolor\": \"white\", \"ticks\": \"\"}, \"bgcolor\": \"#E5ECF6\", \"caxis\": {\"gridcolor\": \"white\", \"linecolor\": \"white\", \"ticks\": \"\"}}, \"title\": {\"x\": 0.05}, \"xaxis\": {\"automargin\": true, \"gridcolor\": \"white\", \"linecolor\": \"white\", \"ticks\": \"\", \"title\": {\"standoff\": 15}, \"zerolinecolor\": \"white\", \"zerolinewidth\": 2}, \"yaxis\": {\"automargin\": true, \"gridcolor\": \"white\", \"linecolor\": \"white\", \"ticks\": \"\", \"title\": {\"standoff\": 15}, \"zerolinecolor\": \"white\", \"zerolinewidth\": 2}}}, \"title\": {\"text\": \"Distribution of Number of Active Cases\"}, \"xaxis\": {\"anchor\": \"y\", \"domain\": [0.0, 1.0], \"title\": {\"text\": \"Date\"}}, \"yaxis\": {\"anchor\": \"x\", \"domain\": [0.0, 1.0], \"title\": {\"text\": \"Number of Cases\"}}},\n",
       "                        {\"responsive\": true}\n",
       "                    ).then(function(){\n",
       "                            \n",
       "var gd = document.getElementById('98acb165-ab51-488d-943a-c43b99a7a360');\n",
       "var x = new MutationObserver(function (mutations, observer) {{\n",
       "        var display = window.getComputedStyle(gd).display;\n",
       "        if (!display || display === 'none') {{\n",
       "            console.log([gd, 'removed!']);\n",
       "            Plotly.purge(gd);\n",
       "            observer.disconnect();\n",
       "        }}\n",
       "}});\n",
       "\n",
       "// Listen for the removal of the full notebook cells\n",
       "var notebookContainer = gd.closest('#notebook-container');\n",
       "if (notebookContainer) {{\n",
       "    x.observe(notebookContainer, {childList: true});\n",
       "}}\n",
       "\n",
       "// Listen for the clearing of the current output cell\n",
       "var outputEl = gd.closest('.output');\n",
       "if (outputEl) {{\n",
       "    x.observe(outputEl, {childList: true});\n",
       "}}\n",
       "\n",
       "                        })\n",
       "                };\n",
       "                });\n",
       "            </script>\n",
       "        </div>"
      ]
     },
     "metadata": {},
     "output_type": "display_data"
    }
   ],
   "source": [
    "fig=px.bar(x=datewise.index,y=datewise2[\"Confirmed\"]-datewise2[\"Recovered\"]-datewise2[\"Deaths\"])\n",
    "fig.update_layout(title=\"Distribution of Number of Active Cases\",\n",
    "                  xaxis_title=\"Date\",yaxis_title=\"Number of Cases\",)\n",
    "fig.show()"
   ]
  },
  {
   "cell_type": "code",
   "execution_count": 35,
   "metadata": {},
   "outputs": [
    {
     "name": "stdout",
     "output_type": "stream",
     "text": [
      "Average Fatality Rate 4.879914887996324\n",
      "Median Fatality Rate 5.109281596092222\n",
      "Average Recovery Rate 9.562186579743868\n",
      "Median Recovery Rate 9.025051572708895\n"
     ]
    },
    {
     "data": {
      "application/vnd.plotly.v1+json": {
       "config": {
        "plotlyServerURL": "https://plot.ly"
       },
       "data": [
        {
         "name": "Recovery Rate",
         "type": "scatter",
         "x": [
          "2020-03-01T00:00:00",
          "2020-03-02T00:00:00",
          "2020-03-03T00:00:00",
          "2020-03-04T00:00:00",
          "2020-03-05T00:00:00",
          "2020-03-06T00:00:00",
          "2020-03-07T00:00:00",
          "2020-03-08T00:00:00",
          "2020-03-09T00:00:00",
          "2020-03-10T00:00:00",
          "2020-03-11T00:00:00",
          "2020-03-12T00:00:00",
          "2020-03-13T00:00:00",
          "2020-03-14T00:00:00",
          "2020-03-15T00:00:00",
          "2020-03-16T00:00:00",
          "2020-03-17T00:00:00",
          "2020-03-18T00:00:00",
          "2020-03-19T00:00:00",
          "2020-03-20T00:00:00",
          "2020-03-21T00:00:00",
          "2020-03-22T00:00:00",
          "2020-03-23T00:00:00",
          "2020-03-24T00:00:00",
          "2020-03-25T00:00:00",
          "2020-03-26T00:00:00",
          "2020-03-27T00:00:00",
          "2020-03-28T00:00:00",
          "2020-03-29T00:00:00",
          "2020-03-30T00:00:00",
          "2020-03-31T00:00:00",
          "2020-04-01T00:00:00",
          "2020-04-02T00:00:00",
          "2020-04-03T00:00:00",
          "2020-04-04T00:00:00",
          "2020-04-05T00:00:00",
          "2020-04-06T00:00:00",
          "2020-04-07T00:00:00",
          "2020-04-08T00:00:00",
          "2020-04-09T00:00:00",
          "2020-04-10T00:00:00",
          "2020-04-11T00:00:00",
          "2020-04-12T00:00:00",
          "2020-04-13T00:00:00",
          "2020-04-14T00:00:00",
          "2020-04-15T00:00:00",
          "2020-04-16T00:00:00",
          "2020-04-17T00:00:00",
          "2020-04-18T00:00:00",
          "2020-04-19T00:00:00",
          "2020-04-20T00:00:00",
          "2020-04-21T00:00:00",
          "2020-04-22T00:00:00",
          "2020-04-23T00:00:00",
          "2020-04-24T00:00:00",
          "2020-04-25T00:00:00",
          "2020-04-26T00:00:00",
          "2020-04-27T00:00:00",
          "2020-04-28T00:00:00",
          "2020-04-29T00:00:00",
          "2020-04-30T00:00:00",
          "2020-05-01T00:00:00",
          "2020-05-02T00:00:00",
          "2020-05-03T00:00:00",
          "2020-05-04T00:00:00",
          "2020-05-05T00:00:00",
          "2020-05-06T00:00:00",
          "2020-05-07T00:00:00",
          "2020-05-08T00:00:00",
          "2020-05-09T00:00:00",
          "2020-05-10T00:00:00",
          "2020-05-11T00:00:00",
          "2020-05-12T00:00:00",
          "2020-05-13T00:00:00",
          "2020-05-14T00:00:00",
          "2020-05-15T00:00:00",
          "2020-05-16T00:00:00",
          "2020-05-17T00:00:00",
          "2020-05-18T00:00:00",
          "2020-05-19T00:00:00",
          "2020-05-20T00:00:00",
          "2020-05-21T00:00:00",
          "2020-05-22T00:00:00",
          "2020-05-23T00:00:00",
          "2020-05-24T00:00:00",
          "2020-05-25T00:00:00",
          "2020-05-26T00:00:00",
          "2020-05-27T00:00:00",
          "2020-05-28T00:00:00",
          "2020-05-29T00:00:00",
          "2020-05-30T00:00:00"
         ],
         "xaxis": "x",
         "y": [
          21.428571428571427,
          15.789473684210526,
          10.588235294117647,
          8.108108108108109,
          5.142857142857142,
          3.1746031746031744,
          2.26628895184136,
          1.6096579476861168,
          1.2403100775193798,
          0.8547008547008548,
          1.2448132780082988,
          0.9386733416770965,
          1.4331946370781323,
          1.4513274336283186,
          1.5995429877177951,
          1.669334552938486,
          0.3001412429378531,
          1.3128560812484518,
          0.8983530194643154,
          0.7167842192786283,
          0.04217629692113033,
          0.11131381218886242,
          0.41636452948469044,
          0.4934522679825394,
          0.4590547784829626,
          0.7515311226606154,
          2.4403041222825013,
          2.6679327855992736,
          3.162819223665162,
          2.9666554646951195,
          3.716846514078638,
          3.356569070304164,
          4.28968736808125,
          3.79754223037669,
          4.693772817627876,
          5.214138186352831,
          5.37867266194979,
          5.536974157737429,
          5.518783500021139,
          5.230125068208153,
          5.816029029493463,
          5.964570375840254,
          5.944790629691794,
          7.5397196019219,
          7.317040874595516,
          7.86847213673595,
          8.187848689962236,
          8.388492451419065,
          9.025051572708895,
          9.347318167407735,
          9.302700264226333,
          9.36375164123071,
          9.299339736038945,
          9.481976107256509,
          11.052102770202382,
          10.928250021154284,
          11.369783435670962,
          11.537976203560103,
          11.686064003765278,
          11.88246671590831,
          12.086103465311595,
          12.589784262222068,
          13.393549945045091,
          13.303080902675568,
          13.627431003452065,
          13.69232738691386,
          13.976026858311913,
          13.94225720943244,
          14.302009679284463,
          14.561113144917414,
          15.772392559546567,
          16.364811162901876,
          17.145335779061092,
          17.626878048603846,
          17.865787766684168,
          18.07789662774557,
          18.689525231469727,
          19.036026637655983,
          19.278444920254376,
          19.576250752671736,
          19.563862483396026,
          19.689058596023408,
          19.72214286882863,
          20.74741100905821,
          20.808868936178555,
          21.3589033793893,
          21.622281256184074,
          21.9965758684716,
          22.146727525246913,
          22.112382243893993,
          22.167443380175218
         ],
         "yaxis": "y"
        },
        {
         "name": "Fatality Rate",
         "type": "scatter",
         "x": [
          "2020-03-01T00:00:00",
          "2020-03-02T00:00:00",
          "2020-03-03T00:00:00",
          "2020-03-04T00:00:00",
          "2020-03-05T00:00:00",
          "2020-03-06T00:00:00",
          "2020-03-07T00:00:00",
          "2020-03-08T00:00:00",
          "2020-03-09T00:00:00",
          "2020-03-10T00:00:00",
          "2020-03-11T00:00:00",
          "2020-03-12T00:00:00",
          "2020-03-13T00:00:00",
          "2020-03-14T00:00:00",
          "2020-03-15T00:00:00",
          "2020-03-16T00:00:00",
          "2020-03-17T00:00:00",
          "2020-03-18T00:00:00",
          "2020-03-19T00:00:00",
          "2020-03-20T00:00:00",
          "2020-03-21T00:00:00",
          "2020-03-22T00:00:00",
          "2020-03-23T00:00:00",
          "2020-03-24T00:00:00",
          "2020-03-25T00:00:00",
          "2020-03-26T00:00:00",
          "2020-03-27T00:00:00",
          "2020-03-28T00:00:00",
          "2020-03-29T00:00:00",
          "2020-03-30T00:00:00",
          "2020-03-31T00:00:00",
          "2020-04-01T00:00:00",
          "2020-04-02T00:00:00",
          "2020-04-03T00:00:00",
          "2020-04-04T00:00:00",
          "2020-04-05T00:00:00",
          "2020-04-06T00:00:00",
          "2020-04-07T00:00:00",
          "2020-04-08T00:00:00",
          "2020-04-09T00:00:00",
          "2020-04-10T00:00:00",
          "2020-04-11T00:00:00",
          "2020-04-12T00:00:00",
          "2020-04-13T00:00:00",
          "2020-04-14T00:00:00",
          "2020-04-15T00:00:00",
          "2020-04-16T00:00:00",
          "2020-04-17T00:00:00",
          "2020-04-18T00:00:00",
          "2020-04-19T00:00:00",
          "2020-04-20T00:00:00",
          "2020-04-21T00:00:00",
          "2020-04-22T00:00:00",
          "2020-04-23T00:00:00",
          "2020-04-24T00:00:00",
          "2020-04-25T00:00:00",
          "2020-04-26T00:00:00",
          "2020-04-27T00:00:00",
          "2020-04-28T00:00:00",
          "2020-04-29T00:00:00",
          "2020-04-30T00:00:00",
          "2020-05-01T00:00:00",
          "2020-05-02T00:00:00",
          "2020-05-03T00:00:00",
          "2020-05-04T00:00:00",
          "2020-05-05T00:00:00",
          "2020-05-06T00:00:00",
          "2020-05-07T00:00:00",
          "2020-05-08T00:00:00",
          "2020-05-09T00:00:00",
          "2020-05-10T00:00:00",
          "2020-05-11T00:00:00",
          "2020-05-12T00:00:00",
          "2020-05-13T00:00:00",
          "2020-05-14T00:00:00",
          "2020-05-15T00:00:00",
          "2020-05-16T00:00:00",
          "2020-05-17T00:00:00",
          "2020-05-18T00:00:00",
          "2020-05-19T00:00:00",
          "2020-05-20T00:00:00",
          "2020-05-21T00:00:00",
          "2020-05-22T00:00:00",
          "2020-05-23T00:00:00",
          "2020-05-24T00:00:00",
          "2020-05-25T00:00:00",
          "2020-05-26T00:00:00",
          "2020-05-27T00:00:00",
          "2020-05-28T00:00:00",
          "2020-05-29T00:00:00",
          "2020-05-30T00:00:00"
         ],
         "xaxis": "x2",
         "y": [
          19.047619047619047,
          19.298245614035086,
          16.470588235294116,
          14.414414414414415,
          11.428571428571429,
          10.317460317460316,
          7.64872521246459,
          6.237424547283702,
          5.426356589147287,
          3.9529914529914527,
          3.319502074688797,
          2.753441802252816,
          2.4040684234858993,
          2.088495575221239,
          1.8566123964581547,
          1.8065401326320605,
          1.765536723163842,
          1.5605647758236314,
          1.4806188654134087,
          1.336085784735363,
          1.2695065373260228,
          1.2708326891561794,
          1.2210240696124066,
          1.2981590434617574,
          1.4002711196007147,
          1.4176609813825245,
          1.5790203144180888,
          1.68614012633665,
          1.7358065367307787,
          1.8595272768007167,
          2.047948556650591,
          2.232228891594241,
          2.4103366359580507,
          2.5566202567198366,
          2.7160285309670127,
          2.8588729379813125,
          2.961548634530186,
          3.2218957769961163,
          3.4323281956847507,
          3.5803030072458255,
          3.7577471751555516,
          3.89124460448085,
          3.963735765402634,
          4.0473694952073584,
          4.266880736222721,
          4.453229802881808,
          4.560271351016816,
          4.656477482016764,
          4.716539833449473,
          4.770766119901214,
          4.827608429464458,
          5.00219662817575,
          5.082418575072807,
          5.105233565768804,
          5.128384866418988,
          5.1322972910733204,
          5.109281596092222,
          5.120142306455486,
          5.214790630892555,
          5.3295204941718355,
          5.376714423506717,
          5.378476601787745,
          5.374838642089955,
          5.358952383681402,
          5.336506039196161,
          5.440885963789343,
          5.551411766248754,
          5.586874292122187,
          5.60100919367277,
          5.610485416583349,
          5.594118132452547,
          5.58257141149755,
          5.611401306430328,
          5.652052681322899,
          5.676592183256046,
          5.682396316837404,
          5.671231335244465,
          5.648620965814737,
          5.621906419696395,
          5.642962832180225,
          5.660218114204171,
          5.65191198426383,
          5.646242151879459,
          5.633994161355519,
          5.603551789372568,
          5.570995039039548,
          5.553223514173148,
          5.573494588935205,
          5.569472737079935,
          5.5614062928285986,
          5.54167584549065
         ],
         "yaxis": "y2"
        }
       ],
       "layout": {
        "annotations": [
         {
          "font": {
           "size": 16
          },
          "showarrow": false,
          "text": "Recovery Rate",
          "x": 0.5,
          "xanchor": "center",
          "xref": "paper",
          "y": 1,
          "yanchor": "bottom",
          "yref": "paper"
         },
         {
          "font": {
           "size": 16
          },
          "showarrow": false,
          "text": "Fatality Rate",
          "x": 0.5,
          "xanchor": "center",
          "xref": "paper",
          "y": 0.375,
          "yanchor": "bottom",
          "yref": "paper"
         }
        ],
        "height": 1000,
        "legend": {
         "traceorder": "normal",
         "x": -0.1,
         "y": 1.2
        },
        "template": {
         "data": {
          "bar": [
           {
            "error_x": {
             "color": "#2a3f5f"
            },
            "error_y": {
             "color": "#2a3f5f"
            },
            "marker": {
             "line": {
              "color": "#E5ECF6",
              "width": 0.5
             }
            },
            "type": "bar"
           }
          ],
          "barpolar": [
           {
            "marker": {
             "line": {
              "color": "#E5ECF6",
              "width": 0.5
             }
            },
            "type": "barpolar"
           }
          ],
          "carpet": [
           {
            "aaxis": {
             "endlinecolor": "#2a3f5f",
             "gridcolor": "white",
             "linecolor": "white",
             "minorgridcolor": "white",
             "startlinecolor": "#2a3f5f"
            },
            "baxis": {
             "endlinecolor": "#2a3f5f",
             "gridcolor": "white",
             "linecolor": "white",
             "minorgridcolor": "white",
             "startlinecolor": "#2a3f5f"
            },
            "type": "carpet"
           }
          ],
          "choropleth": [
           {
            "colorbar": {
             "outlinewidth": 0,
             "ticks": ""
            },
            "type": "choropleth"
           }
          ],
          "contour": [
           {
            "colorbar": {
             "outlinewidth": 0,
             "ticks": ""
            },
            "colorscale": [
             [
              0,
              "#0d0887"
             ],
             [
              0.1111111111111111,
              "#46039f"
             ],
             [
              0.2222222222222222,
              "#7201a8"
             ],
             [
              0.3333333333333333,
              "#9c179e"
             ],
             [
              0.4444444444444444,
              "#bd3786"
             ],
             [
              0.5555555555555556,
              "#d8576b"
             ],
             [
              0.6666666666666666,
              "#ed7953"
             ],
             [
              0.7777777777777778,
              "#fb9f3a"
             ],
             [
              0.8888888888888888,
              "#fdca26"
             ],
             [
              1,
              "#f0f921"
             ]
            ],
            "type": "contour"
           }
          ],
          "contourcarpet": [
           {
            "colorbar": {
             "outlinewidth": 0,
             "ticks": ""
            },
            "type": "contourcarpet"
           }
          ],
          "heatmap": [
           {
            "colorbar": {
             "outlinewidth": 0,
             "ticks": ""
            },
            "colorscale": [
             [
              0,
              "#0d0887"
             ],
             [
              0.1111111111111111,
              "#46039f"
             ],
             [
              0.2222222222222222,
              "#7201a8"
             ],
             [
              0.3333333333333333,
              "#9c179e"
             ],
             [
              0.4444444444444444,
              "#bd3786"
             ],
             [
              0.5555555555555556,
              "#d8576b"
             ],
             [
              0.6666666666666666,
              "#ed7953"
             ],
             [
              0.7777777777777778,
              "#fb9f3a"
             ],
             [
              0.8888888888888888,
              "#fdca26"
             ],
             [
              1,
              "#f0f921"
             ]
            ],
            "type": "heatmap"
           }
          ],
          "heatmapgl": [
           {
            "colorbar": {
             "outlinewidth": 0,
             "ticks": ""
            },
            "colorscale": [
             [
              0,
              "#0d0887"
             ],
             [
              0.1111111111111111,
              "#46039f"
             ],
             [
              0.2222222222222222,
              "#7201a8"
             ],
             [
              0.3333333333333333,
              "#9c179e"
             ],
             [
              0.4444444444444444,
              "#bd3786"
             ],
             [
              0.5555555555555556,
              "#d8576b"
             ],
             [
              0.6666666666666666,
              "#ed7953"
             ],
             [
              0.7777777777777778,
              "#fb9f3a"
             ],
             [
              0.8888888888888888,
              "#fdca26"
             ],
             [
              1,
              "#f0f921"
             ]
            ],
            "type": "heatmapgl"
           }
          ],
          "histogram": [
           {
            "marker": {
             "colorbar": {
              "outlinewidth": 0,
              "ticks": ""
             }
            },
            "type": "histogram"
           }
          ],
          "histogram2d": [
           {
            "colorbar": {
             "outlinewidth": 0,
             "ticks": ""
            },
            "colorscale": [
             [
              0,
              "#0d0887"
             ],
             [
              0.1111111111111111,
              "#46039f"
             ],
             [
              0.2222222222222222,
              "#7201a8"
             ],
             [
              0.3333333333333333,
              "#9c179e"
             ],
             [
              0.4444444444444444,
              "#bd3786"
             ],
             [
              0.5555555555555556,
              "#d8576b"
             ],
             [
              0.6666666666666666,
              "#ed7953"
             ],
             [
              0.7777777777777778,
              "#fb9f3a"
             ],
             [
              0.8888888888888888,
              "#fdca26"
             ],
             [
              1,
              "#f0f921"
             ]
            ],
            "type": "histogram2d"
           }
          ],
          "histogram2dcontour": [
           {
            "colorbar": {
             "outlinewidth": 0,
             "ticks": ""
            },
            "colorscale": [
             [
              0,
              "#0d0887"
             ],
             [
              0.1111111111111111,
              "#46039f"
             ],
             [
              0.2222222222222222,
              "#7201a8"
             ],
             [
              0.3333333333333333,
              "#9c179e"
             ],
             [
              0.4444444444444444,
              "#bd3786"
             ],
             [
              0.5555555555555556,
              "#d8576b"
             ],
             [
              0.6666666666666666,
              "#ed7953"
             ],
             [
              0.7777777777777778,
              "#fb9f3a"
             ],
             [
              0.8888888888888888,
              "#fdca26"
             ],
             [
              1,
              "#f0f921"
             ]
            ],
            "type": "histogram2dcontour"
           }
          ],
          "mesh3d": [
           {
            "colorbar": {
             "outlinewidth": 0,
             "ticks": ""
            },
            "type": "mesh3d"
           }
          ],
          "parcoords": [
           {
            "line": {
             "colorbar": {
              "outlinewidth": 0,
              "ticks": ""
             }
            },
            "type": "parcoords"
           }
          ],
          "pie": [
           {
            "automargin": true,
            "type": "pie"
           }
          ],
          "scatter": [
           {
            "marker": {
             "colorbar": {
              "outlinewidth": 0,
              "ticks": ""
             }
            },
            "type": "scatter"
           }
          ],
          "scatter3d": [
           {
            "line": {
             "colorbar": {
              "outlinewidth": 0,
              "ticks": ""
             }
            },
            "marker": {
             "colorbar": {
              "outlinewidth": 0,
              "ticks": ""
             }
            },
            "type": "scatter3d"
           }
          ],
          "scattercarpet": [
           {
            "marker": {
             "colorbar": {
              "outlinewidth": 0,
              "ticks": ""
             }
            },
            "type": "scattercarpet"
           }
          ],
          "scattergeo": [
           {
            "marker": {
             "colorbar": {
              "outlinewidth": 0,
              "ticks": ""
             }
            },
            "type": "scattergeo"
           }
          ],
          "scattergl": [
           {
            "marker": {
             "colorbar": {
              "outlinewidth": 0,
              "ticks": ""
             }
            },
            "type": "scattergl"
           }
          ],
          "scattermapbox": [
           {
            "marker": {
             "colorbar": {
              "outlinewidth": 0,
              "ticks": ""
             }
            },
            "type": "scattermapbox"
           }
          ],
          "scatterpolar": [
           {
            "marker": {
             "colorbar": {
              "outlinewidth": 0,
              "ticks": ""
             }
            },
            "type": "scatterpolar"
           }
          ],
          "scatterpolargl": [
           {
            "marker": {
             "colorbar": {
              "outlinewidth": 0,
              "ticks": ""
             }
            },
            "type": "scatterpolargl"
           }
          ],
          "scatterternary": [
           {
            "marker": {
             "colorbar": {
              "outlinewidth": 0,
              "ticks": ""
             }
            },
            "type": "scatterternary"
           }
          ],
          "surface": [
           {
            "colorbar": {
             "outlinewidth": 0,
             "ticks": ""
            },
            "colorscale": [
             [
              0,
              "#0d0887"
             ],
             [
              0.1111111111111111,
              "#46039f"
             ],
             [
              0.2222222222222222,
              "#7201a8"
             ],
             [
              0.3333333333333333,
              "#9c179e"
             ],
             [
              0.4444444444444444,
              "#bd3786"
             ],
             [
              0.5555555555555556,
              "#d8576b"
             ],
             [
              0.6666666666666666,
              "#ed7953"
             ],
             [
              0.7777777777777778,
              "#fb9f3a"
             ],
             [
              0.8888888888888888,
              "#fdca26"
             ],
             [
              1,
              "#f0f921"
             ]
            ],
            "type": "surface"
           }
          ],
          "table": [
           {
            "cells": {
             "fill": {
              "color": "#EBF0F8"
             },
             "line": {
              "color": "white"
             }
            },
            "header": {
             "fill": {
              "color": "#C8D4E3"
             },
             "line": {
              "color": "white"
             }
            },
            "type": "table"
           }
          ]
         },
         "layout": {
          "annotationdefaults": {
           "arrowcolor": "#2a3f5f",
           "arrowhead": 0,
           "arrowwidth": 1
          },
          "coloraxis": {
           "colorbar": {
            "outlinewidth": 0,
            "ticks": ""
           }
          },
          "colorscale": {
           "diverging": [
            [
             0,
             "#8e0152"
            ],
            [
             0.1,
             "#c51b7d"
            ],
            [
             0.2,
             "#de77ae"
            ],
            [
             0.3,
             "#f1b6da"
            ],
            [
             0.4,
             "#fde0ef"
            ],
            [
             0.5,
             "#f7f7f7"
            ],
            [
             0.6,
             "#e6f5d0"
            ],
            [
             0.7,
             "#b8e186"
            ],
            [
             0.8,
             "#7fbc41"
            ],
            [
             0.9,
             "#4d9221"
            ],
            [
             1,
             "#276419"
            ]
           ],
           "sequential": [
            [
             0,
             "#0d0887"
            ],
            [
             0.1111111111111111,
             "#46039f"
            ],
            [
             0.2222222222222222,
             "#7201a8"
            ],
            [
             0.3333333333333333,
             "#9c179e"
            ],
            [
             0.4444444444444444,
             "#bd3786"
            ],
            [
             0.5555555555555556,
             "#d8576b"
            ],
            [
             0.6666666666666666,
             "#ed7953"
            ],
            [
             0.7777777777777778,
             "#fb9f3a"
            ],
            [
             0.8888888888888888,
             "#fdca26"
            ],
            [
             1,
             "#f0f921"
            ]
           ],
           "sequentialminus": [
            [
             0,
             "#0d0887"
            ],
            [
             0.1111111111111111,
             "#46039f"
            ],
            [
             0.2222222222222222,
             "#7201a8"
            ],
            [
             0.3333333333333333,
             "#9c179e"
            ],
            [
             0.4444444444444444,
             "#bd3786"
            ],
            [
             0.5555555555555556,
             "#d8576b"
            ],
            [
             0.6666666666666666,
             "#ed7953"
            ],
            [
             0.7777777777777778,
             "#fb9f3a"
            ],
            [
             0.8888888888888888,
             "#fdca26"
            ],
            [
             1,
             "#f0f921"
            ]
           ]
          },
          "colorway": [
           "#636efa",
           "#EF553B",
           "#00cc96",
           "#ab63fa",
           "#FFA15A",
           "#19d3f3",
           "#FF6692",
           "#B6E880",
           "#FF97FF",
           "#FECB52"
          ],
          "font": {
           "color": "#2a3f5f"
          },
          "geo": {
           "bgcolor": "white",
           "lakecolor": "white",
           "landcolor": "#E5ECF6",
           "showlakes": true,
           "showland": true,
           "subunitcolor": "white"
          },
          "hoverlabel": {
           "align": "left"
          },
          "hovermode": "closest",
          "mapbox": {
           "style": "light"
          },
          "paper_bgcolor": "white",
          "plot_bgcolor": "#E5ECF6",
          "polar": {
           "angularaxis": {
            "gridcolor": "white",
            "linecolor": "white",
            "ticks": ""
           },
           "bgcolor": "#E5ECF6",
           "radialaxis": {
            "gridcolor": "white",
            "linecolor": "white",
            "ticks": ""
           }
          },
          "scene": {
           "xaxis": {
            "backgroundcolor": "#E5ECF6",
            "gridcolor": "white",
            "gridwidth": 2,
            "linecolor": "white",
            "showbackground": true,
            "ticks": "",
            "zerolinecolor": "white"
           },
           "yaxis": {
            "backgroundcolor": "#E5ECF6",
            "gridcolor": "white",
            "gridwidth": 2,
            "linecolor": "white",
            "showbackground": true,
            "ticks": "",
            "zerolinecolor": "white"
           },
           "zaxis": {
            "backgroundcolor": "#E5ECF6",
            "gridcolor": "white",
            "gridwidth": 2,
            "linecolor": "white",
            "showbackground": true,
            "ticks": "",
            "zerolinecolor": "white"
           }
          },
          "shapedefaults": {
           "line": {
            "color": "#2a3f5f"
           }
          },
          "ternary": {
           "aaxis": {
            "gridcolor": "white",
            "linecolor": "white",
            "ticks": ""
           },
           "baxis": {
            "gridcolor": "white",
            "linecolor": "white",
            "ticks": ""
           },
           "bgcolor": "#E5ECF6",
           "caxis": {
            "gridcolor": "white",
            "linecolor": "white",
            "ticks": ""
           }
          },
          "title": {
           "x": 0.05
          },
          "xaxis": {
           "automargin": true,
           "gridcolor": "white",
           "linecolor": "white",
           "ticks": "",
           "title": {
            "standoff": 15
           },
           "zerolinecolor": "white",
           "zerolinewidth": 2
          },
          "yaxis": {
           "automargin": true,
           "gridcolor": "white",
           "linecolor": "white",
           "ticks": "",
           "title": {
            "standoff": 15
           },
           "zerolinecolor": "white",
           "zerolinewidth": 2
          }
         }
        },
        "xaxis": {
         "anchor": "y",
         "domain": [
          0,
          1
         ],
         "title": {
          "text": "Date"
         }
        },
        "xaxis2": {
         "anchor": "y2",
         "domain": [
          0,
          1
         ],
         "title": {
          "text": "Date"
         }
        },
        "yaxis": {
         "anchor": "x",
         "domain": [
          0.625,
          1
         ],
         "title": {
          "text": "Recovery Rate"
         }
        },
        "yaxis2": {
         "anchor": "x2",
         "domain": [
          0,
          0.375
         ],
         "title": {
          "text": "Fatality Rate"
         }
        }
       }
      },
      "text/html": [
       "<div>\n",
       "        \n",
       "        \n",
       "            <div id=\"accdb74c-f7fd-4d30-aa74-d201de9451a9\" class=\"plotly-graph-div\" style=\"height:1000px; width:100%;\"></div>\n",
       "            <script type=\"text/javascript\">\n",
       "                require([\"plotly\"], function(Plotly) {\n",
       "                    window.PLOTLYENV=window.PLOTLYENV || {};\n",
       "                    \n",
       "                if (document.getElementById(\"accdb74c-f7fd-4d30-aa74-d201de9451a9\")) {\n",
       "                    Plotly.newPlot(\n",
       "                        'accdb74c-f7fd-4d30-aa74-d201de9451a9',\n",
       "                        [{\"name\": \"Recovery Rate\", \"type\": \"scatter\", \"x\": [\"2020-03-01T00:00:00\", \"2020-03-02T00:00:00\", \"2020-03-03T00:00:00\", \"2020-03-04T00:00:00\", \"2020-03-05T00:00:00\", \"2020-03-06T00:00:00\", \"2020-03-07T00:00:00\", \"2020-03-08T00:00:00\", \"2020-03-09T00:00:00\", \"2020-03-10T00:00:00\", \"2020-03-11T00:00:00\", \"2020-03-12T00:00:00\", \"2020-03-13T00:00:00\", \"2020-03-14T00:00:00\", \"2020-03-15T00:00:00\", \"2020-03-16T00:00:00\", \"2020-03-17T00:00:00\", \"2020-03-18T00:00:00\", \"2020-03-19T00:00:00\", \"2020-03-20T00:00:00\", \"2020-03-21T00:00:00\", \"2020-03-22T00:00:00\", \"2020-03-23T00:00:00\", \"2020-03-24T00:00:00\", \"2020-03-25T00:00:00\", \"2020-03-26T00:00:00\", \"2020-03-27T00:00:00\", \"2020-03-28T00:00:00\", \"2020-03-29T00:00:00\", \"2020-03-30T00:00:00\", \"2020-03-31T00:00:00\", \"2020-04-01T00:00:00\", \"2020-04-02T00:00:00\", \"2020-04-03T00:00:00\", \"2020-04-04T00:00:00\", \"2020-04-05T00:00:00\", \"2020-04-06T00:00:00\", \"2020-04-07T00:00:00\", \"2020-04-08T00:00:00\", \"2020-04-09T00:00:00\", \"2020-04-10T00:00:00\", \"2020-04-11T00:00:00\", \"2020-04-12T00:00:00\", \"2020-04-13T00:00:00\", \"2020-04-14T00:00:00\", \"2020-04-15T00:00:00\", \"2020-04-16T00:00:00\", \"2020-04-17T00:00:00\", \"2020-04-18T00:00:00\", \"2020-04-19T00:00:00\", \"2020-04-20T00:00:00\", \"2020-04-21T00:00:00\", \"2020-04-22T00:00:00\", \"2020-04-23T00:00:00\", \"2020-04-24T00:00:00\", \"2020-04-25T00:00:00\", \"2020-04-26T00:00:00\", \"2020-04-27T00:00:00\", \"2020-04-28T00:00:00\", \"2020-04-29T00:00:00\", \"2020-04-30T00:00:00\", \"2020-05-01T00:00:00\", \"2020-05-02T00:00:00\", \"2020-05-03T00:00:00\", \"2020-05-04T00:00:00\", \"2020-05-05T00:00:00\", \"2020-05-06T00:00:00\", \"2020-05-07T00:00:00\", \"2020-05-08T00:00:00\", \"2020-05-09T00:00:00\", \"2020-05-10T00:00:00\", \"2020-05-11T00:00:00\", \"2020-05-12T00:00:00\", \"2020-05-13T00:00:00\", \"2020-05-14T00:00:00\", \"2020-05-15T00:00:00\", \"2020-05-16T00:00:00\", \"2020-05-17T00:00:00\", \"2020-05-18T00:00:00\", \"2020-05-19T00:00:00\", \"2020-05-20T00:00:00\", \"2020-05-21T00:00:00\", \"2020-05-22T00:00:00\", \"2020-05-23T00:00:00\", \"2020-05-24T00:00:00\", \"2020-05-25T00:00:00\", \"2020-05-26T00:00:00\", \"2020-05-27T00:00:00\", \"2020-05-28T00:00:00\", \"2020-05-29T00:00:00\", \"2020-05-30T00:00:00\"], \"xaxis\": \"x\", \"y\": [21.428571428571427, 15.789473684210526, 10.588235294117647, 8.108108108108109, 5.142857142857142, 3.1746031746031744, 2.26628895184136, 1.6096579476861168, 1.2403100775193798, 0.8547008547008548, 1.2448132780082988, 0.9386733416770965, 1.4331946370781323, 1.4513274336283186, 1.5995429877177951, 1.669334552938486, 0.3001412429378531, 1.3128560812484518, 0.8983530194643154, 0.7167842192786283, 0.04217629692113033, 0.11131381218886242, 0.41636452948469044, 0.4934522679825394, 0.4590547784829626, 0.7515311226606154, 2.4403041222825013, 2.6679327855992736, 3.162819223665162, 2.9666554646951195, 3.716846514078638, 3.356569070304164, 4.28968736808125, 3.79754223037669, 4.693772817627876, 5.214138186352831, 5.37867266194979, 5.536974157737429, 5.518783500021139, 5.230125068208153, 5.816029029493463, 5.964570375840254, 5.944790629691794, 7.5397196019219, 7.317040874595516, 7.86847213673595, 8.187848689962236, 8.388492451419065, 9.025051572708895, 9.347318167407735, 9.302700264226333, 9.36375164123071, 9.299339736038945, 9.481976107256509, 11.052102770202382, 10.928250021154284, 11.369783435670962, 11.537976203560103, 11.686064003765278, 11.88246671590831, 12.086103465311595, 12.589784262222068, 13.393549945045091, 13.303080902675568, 13.627431003452065, 13.69232738691386, 13.976026858311913, 13.94225720943244, 14.302009679284463, 14.561113144917414, 15.772392559546567, 16.364811162901876, 17.145335779061092, 17.626878048603846, 17.865787766684168, 18.07789662774557, 18.689525231469727, 19.036026637655983, 19.278444920254376, 19.576250752671736, 19.563862483396026, 19.689058596023408, 19.72214286882863, 20.74741100905821, 20.808868936178555, 21.3589033793893, 21.622281256184074, 21.9965758684716, 22.146727525246913, 22.112382243893993, 22.167443380175218], \"yaxis\": \"y\"}, {\"name\": \"Fatality Rate\", \"type\": \"scatter\", \"x\": [\"2020-03-01T00:00:00\", \"2020-03-02T00:00:00\", \"2020-03-03T00:00:00\", \"2020-03-04T00:00:00\", \"2020-03-05T00:00:00\", \"2020-03-06T00:00:00\", \"2020-03-07T00:00:00\", \"2020-03-08T00:00:00\", \"2020-03-09T00:00:00\", \"2020-03-10T00:00:00\", \"2020-03-11T00:00:00\", \"2020-03-12T00:00:00\", \"2020-03-13T00:00:00\", \"2020-03-14T00:00:00\", \"2020-03-15T00:00:00\", \"2020-03-16T00:00:00\", \"2020-03-17T00:00:00\", \"2020-03-18T00:00:00\", \"2020-03-19T00:00:00\", \"2020-03-20T00:00:00\", \"2020-03-21T00:00:00\", \"2020-03-22T00:00:00\", \"2020-03-23T00:00:00\", \"2020-03-24T00:00:00\", \"2020-03-25T00:00:00\", \"2020-03-26T00:00:00\", \"2020-03-27T00:00:00\", \"2020-03-28T00:00:00\", \"2020-03-29T00:00:00\", \"2020-03-30T00:00:00\", \"2020-03-31T00:00:00\", \"2020-04-01T00:00:00\", \"2020-04-02T00:00:00\", \"2020-04-03T00:00:00\", \"2020-04-04T00:00:00\", \"2020-04-05T00:00:00\", \"2020-04-06T00:00:00\", \"2020-04-07T00:00:00\", \"2020-04-08T00:00:00\", \"2020-04-09T00:00:00\", \"2020-04-10T00:00:00\", \"2020-04-11T00:00:00\", \"2020-04-12T00:00:00\", \"2020-04-13T00:00:00\", \"2020-04-14T00:00:00\", \"2020-04-15T00:00:00\", \"2020-04-16T00:00:00\", \"2020-04-17T00:00:00\", \"2020-04-18T00:00:00\", \"2020-04-19T00:00:00\", \"2020-04-20T00:00:00\", \"2020-04-21T00:00:00\", \"2020-04-22T00:00:00\", \"2020-04-23T00:00:00\", \"2020-04-24T00:00:00\", \"2020-04-25T00:00:00\", \"2020-04-26T00:00:00\", \"2020-04-27T00:00:00\", \"2020-04-28T00:00:00\", \"2020-04-29T00:00:00\", \"2020-04-30T00:00:00\", \"2020-05-01T00:00:00\", \"2020-05-02T00:00:00\", \"2020-05-03T00:00:00\", \"2020-05-04T00:00:00\", \"2020-05-05T00:00:00\", \"2020-05-06T00:00:00\", \"2020-05-07T00:00:00\", \"2020-05-08T00:00:00\", \"2020-05-09T00:00:00\", \"2020-05-10T00:00:00\", \"2020-05-11T00:00:00\", \"2020-05-12T00:00:00\", \"2020-05-13T00:00:00\", \"2020-05-14T00:00:00\", \"2020-05-15T00:00:00\", \"2020-05-16T00:00:00\", \"2020-05-17T00:00:00\", \"2020-05-18T00:00:00\", \"2020-05-19T00:00:00\", \"2020-05-20T00:00:00\", \"2020-05-21T00:00:00\", \"2020-05-22T00:00:00\", \"2020-05-23T00:00:00\", \"2020-05-24T00:00:00\", \"2020-05-25T00:00:00\", \"2020-05-26T00:00:00\", \"2020-05-27T00:00:00\", \"2020-05-28T00:00:00\", \"2020-05-29T00:00:00\", \"2020-05-30T00:00:00\"], \"xaxis\": \"x2\", \"y\": [19.047619047619047, 19.298245614035086, 16.470588235294116, 14.414414414414415, 11.428571428571429, 10.317460317460316, 7.64872521246459, 6.237424547283702, 5.426356589147287, 3.9529914529914527, 3.319502074688797, 2.753441802252816, 2.4040684234858993, 2.088495575221239, 1.8566123964581547, 1.8065401326320605, 1.765536723163842, 1.5605647758236314, 1.4806188654134087, 1.336085784735363, 1.2695065373260228, 1.2708326891561794, 1.2210240696124066, 1.2981590434617574, 1.4002711196007147, 1.4176609813825245, 1.5790203144180888, 1.68614012633665, 1.7358065367307787, 1.8595272768007167, 2.047948556650591, 2.232228891594241, 2.4103366359580507, 2.5566202567198366, 2.7160285309670127, 2.8588729379813125, 2.961548634530186, 3.2218957769961163, 3.4323281956847507, 3.5803030072458255, 3.7577471751555516, 3.89124460448085, 3.963735765402634, 4.0473694952073584, 4.266880736222721, 4.453229802881808, 4.560271351016816, 4.656477482016764, 4.716539833449473, 4.770766119901214, 4.827608429464458, 5.00219662817575, 5.082418575072807, 5.105233565768804, 5.128384866418988, 5.1322972910733204, 5.109281596092222, 5.120142306455486, 5.214790630892555, 5.3295204941718355, 5.376714423506717, 5.378476601787745, 5.374838642089955, 5.358952383681402, 5.336506039196161, 5.440885963789343, 5.551411766248754, 5.586874292122187, 5.60100919367277, 5.610485416583349, 5.594118132452547, 5.58257141149755, 5.611401306430328, 5.652052681322899, 5.676592183256046, 5.682396316837404, 5.671231335244465, 5.648620965814737, 5.621906419696395, 5.642962832180225, 5.660218114204171, 5.65191198426383, 5.646242151879459, 5.633994161355519, 5.603551789372568, 5.570995039039548, 5.553223514173148, 5.573494588935205, 5.569472737079935, 5.5614062928285986, 5.54167584549065], \"yaxis\": \"y2\"}],\n",
       "                        {\"annotations\": [{\"font\": {\"size\": 16}, \"showarrow\": false, \"text\": \"Recovery Rate\", \"x\": 0.5, \"xanchor\": \"center\", \"xref\": \"paper\", \"y\": 1.0, \"yanchor\": \"bottom\", \"yref\": \"paper\"}, {\"font\": {\"size\": 16}, \"showarrow\": false, \"text\": \"Fatality Rate\", \"x\": 0.5, \"xanchor\": \"center\", \"xref\": \"paper\", \"y\": 0.375, \"yanchor\": \"bottom\", \"yref\": \"paper\"}], \"height\": 1000, \"legend\": {\"traceorder\": \"normal\", \"x\": -0.1, \"y\": 1.2}, \"template\": {\"data\": {\"bar\": [{\"error_x\": {\"color\": \"#2a3f5f\"}, \"error_y\": {\"color\": \"#2a3f5f\"}, \"marker\": {\"line\": {\"color\": \"#E5ECF6\", \"width\": 0.5}}, \"type\": \"bar\"}], \"barpolar\": [{\"marker\": {\"line\": {\"color\": \"#E5ECF6\", \"width\": 0.5}}, \"type\": \"barpolar\"}], \"carpet\": [{\"aaxis\": {\"endlinecolor\": \"#2a3f5f\", \"gridcolor\": \"white\", \"linecolor\": \"white\", \"minorgridcolor\": \"white\", \"startlinecolor\": \"#2a3f5f\"}, \"baxis\": {\"endlinecolor\": \"#2a3f5f\", \"gridcolor\": \"white\", \"linecolor\": \"white\", \"minorgridcolor\": \"white\", \"startlinecolor\": \"#2a3f5f\"}, \"type\": \"carpet\"}], \"choropleth\": [{\"colorbar\": {\"outlinewidth\": 0, \"ticks\": \"\"}, \"type\": \"choropleth\"}], \"contour\": [{\"colorbar\": {\"outlinewidth\": 0, \"ticks\": \"\"}, \"colorscale\": [[0.0, \"#0d0887\"], [0.1111111111111111, \"#46039f\"], [0.2222222222222222, \"#7201a8\"], [0.3333333333333333, \"#9c179e\"], [0.4444444444444444, \"#bd3786\"], [0.5555555555555556, \"#d8576b\"], [0.6666666666666666, \"#ed7953\"], [0.7777777777777778, \"#fb9f3a\"], [0.8888888888888888, \"#fdca26\"], [1.0, \"#f0f921\"]], \"type\": \"contour\"}], \"contourcarpet\": [{\"colorbar\": {\"outlinewidth\": 0, \"ticks\": \"\"}, \"type\": \"contourcarpet\"}], \"heatmap\": [{\"colorbar\": {\"outlinewidth\": 0, \"ticks\": \"\"}, \"colorscale\": [[0.0, \"#0d0887\"], [0.1111111111111111, \"#46039f\"], [0.2222222222222222, \"#7201a8\"], [0.3333333333333333, \"#9c179e\"], [0.4444444444444444, \"#bd3786\"], [0.5555555555555556, \"#d8576b\"], [0.6666666666666666, \"#ed7953\"], [0.7777777777777778, \"#fb9f3a\"], [0.8888888888888888, \"#fdca26\"], [1.0, \"#f0f921\"]], \"type\": \"heatmap\"}], \"heatmapgl\": [{\"colorbar\": {\"outlinewidth\": 0, \"ticks\": \"\"}, \"colorscale\": [[0.0, \"#0d0887\"], [0.1111111111111111, \"#46039f\"], [0.2222222222222222, \"#7201a8\"], [0.3333333333333333, \"#9c179e\"], [0.4444444444444444, \"#bd3786\"], [0.5555555555555556, \"#d8576b\"], [0.6666666666666666, \"#ed7953\"], [0.7777777777777778, \"#fb9f3a\"], [0.8888888888888888, \"#fdca26\"], [1.0, \"#f0f921\"]], \"type\": \"heatmapgl\"}], \"histogram\": [{\"marker\": {\"colorbar\": {\"outlinewidth\": 0, \"ticks\": \"\"}}, \"type\": \"histogram\"}], \"histogram2d\": [{\"colorbar\": {\"outlinewidth\": 0, \"ticks\": \"\"}, \"colorscale\": [[0.0, \"#0d0887\"], [0.1111111111111111, \"#46039f\"], [0.2222222222222222, \"#7201a8\"], [0.3333333333333333, \"#9c179e\"], [0.4444444444444444, \"#bd3786\"], [0.5555555555555556, \"#d8576b\"], [0.6666666666666666, \"#ed7953\"], [0.7777777777777778, \"#fb9f3a\"], [0.8888888888888888, \"#fdca26\"], [1.0, \"#f0f921\"]], \"type\": \"histogram2d\"}], \"histogram2dcontour\": [{\"colorbar\": {\"outlinewidth\": 0, \"ticks\": \"\"}, \"colorscale\": [[0.0, \"#0d0887\"], [0.1111111111111111, \"#46039f\"], [0.2222222222222222, \"#7201a8\"], [0.3333333333333333, \"#9c179e\"], [0.4444444444444444, \"#bd3786\"], [0.5555555555555556, \"#d8576b\"], [0.6666666666666666, \"#ed7953\"], [0.7777777777777778, \"#fb9f3a\"], [0.8888888888888888, \"#fdca26\"], [1.0, \"#f0f921\"]], \"type\": \"histogram2dcontour\"}], \"mesh3d\": [{\"colorbar\": {\"outlinewidth\": 0, \"ticks\": \"\"}, \"type\": \"mesh3d\"}], \"parcoords\": [{\"line\": {\"colorbar\": {\"outlinewidth\": 0, \"ticks\": \"\"}}, \"type\": \"parcoords\"}], \"pie\": [{\"automargin\": true, \"type\": \"pie\"}], \"scatter\": [{\"marker\": {\"colorbar\": {\"outlinewidth\": 0, \"ticks\": \"\"}}, \"type\": \"scatter\"}], \"scatter3d\": [{\"line\": {\"colorbar\": {\"outlinewidth\": 0, \"ticks\": \"\"}}, \"marker\": {\"colorbar\": {\"outlinewidth\": 0, \"ticks\": \"\"}}, \"type\": \"scatter3d\"}], \"scattercarpet\": [{\"marker\": {\"colorbar\": {\"outlinewidth\": 0, \"ticks\": \"\"}}, \"type\": \"scattercarpet\"}], \"scattergeo\": [{\"marker\": {\"colorbar\": {\"outlinewidth\": 0, \"ticks\": \"\"}}, \"type\": \"scattergeo\"}], \"scattergl\": [{\"marker\": {\"colorbar\": {\"outlinewidth\": 0, \"ticks\": \"\"}}, \"type\": \"scattergl\"}], \"scattermapbox\": [{\"marker\": {\"colorbar\": {\"outlinewidth\": 0, \"ticks\": \"\"}}, \"type\": \"scattermapbox\"}], \"scatterpolar\": [{\"marker\": {\"colorbar\": {\"outlinewidth\": 0, \"ticks\": \"\"}}, \"type\": \"scatterpolar\"}], \"scatterpolargl\": [{\"marker\": {\"colorbar\": {\"outlinewidth\": 0, \"ticks\": \"\"}}, \"type\": \"scatterpolargl\"}], \"scatterternary\": [{\"marker\": {\"colorbar\": {\"outlinewidth\": 0, \"ticks\": \"\"}}, \"type\": \"scatterternary\"}], \"surface\": [{\"colorbar\": {\"outlinewidth\": 0, \"ticks\": \"\"}, \"colorscale\": [[0.0, \"#0d0887\"], [0.1111111111111111, \"#46039f\"], [0.2222222222222222, \"#7201a8\"], [0.3333333333333333, \"#9c179e\"], [0.4444444444444444, \"#bd3786\"], [0.5555555555555556, \"#d8576b\"], [0.6666666666666666, \"#ed7953\"], [0.7777777777777778, \"#fb9f3a\"], [0.8888888888888888, \"#fdca26\"], [1.0, \"#f0f921\"]], \"type\": \"surface\"}], \"table\": [{\"cells\": {\"fill\": {\"color\": \"#EBF0F8\"}, \"line\": {\"color\": \"white\"}}, \"header\": {\"fill\": {\"color\": \"#C8D4E3\"}, \"line\": {\"color\": \"white\"}}, \"type\": \"table\"}]}, \"layout\": {\"annotationdefaults\": {\"arrowcolor\": \"#2a3f5f\", \"arrowhead\": 0, \"arrowwidth\": 1}, \"coloraxis\": {\"colorbar\": {\"outlinewidth\": 0, \"ticks\": \"\"}}, \"colorscale\": {\"diverging\": [[0, \"#8e0152\"], [0.1, \"#c51b7d\"], [0.2, \"#de77ae\"], [0.3, \"#f1b6da\"], [0.4, \"#fde0ef\"], [0.5, \"#f7f7f7\"], [0.6, \"#e6f5d0\"], [0.7, \"#b8e186\"], [0.8, \"#7fbc41\"], [0.9, \"#4d9221\"], [1, \"#276419\"]], \"sequential\": [[0.0, \"#0d0887\"], [0.1111111111111111, \"#46039f\"], [0.2222222222222222, \"#7201a8\"], [0.3333333333333333, \"#9c179e\"], [0.4444444444444444, \"#bd3786\"], [0.5555555555555556, \"#d8576b\"], [0.6666666666666666, \"#ed7953\"], [0.7777777777777778, \"#fb9f3a\"], [0.8888888888888888, \"#fdca26\"], [1.0, \"#f0f921\"]], \"sequentialminus\": [[0.0, \"#0d0887\"], [0.1111111111111111, \"#46039f\"], [0.2222222222222222, \"#7201a8\"], [0.3333333333333333, \"#9c179e\"], [0.4444444444444444, \"#bd3786\"], [0.5555555555555556, \"#d8576b\"], [0.6666666666666666, \"#ed7953\"], [0.7777777777777778, \"#fb9f3a\"], [0.8888888888888888, \"#fdca26\"], [1.0, \"#f0f921\"]]}, \"colorway\": [\"#636efa\", \"#EF553B\", \"#00cc96\", \"#ab63fa\", \"#FFA15A\", \"#19d3f3\", \"#FF6692\", \"#B6E880\", \"#FF97FF\", \"#FECB52\"], \"font\": {\"color\": \"#2a3f5f\"}, \"geo\": {\"bgcolor\": \"white\", \"lakecolor\": \"white\", \"landcolor\": \"#E5ECF6\", \"showlakes\": true, \"showland\": true, \"subunitcolor\": \"white\"}, \"hoverlabel\": {\"align\": \"left\"}, \"hovermode\": \"closest\", \"mapbox\": {\"style\": \"light\"}, \"paper_bgcolor\": \"white\", \"plot_bgcolor\": \"#E5ECF6\", \"polar\": {\"angularaxis\": {\"gridcolor\": \"white\", \"linecolor\": \"white\", \"ticks\": \"\"}, \"bgcolor\": \"#E5ECF6\", \"radialaxis\": {\"gridcolor\": \"white\", \"linecolor\": \"white\", \"ticks\": \"\"}}, \"scene\": {\"xaxis\": {\"backgroundcolor\": \"#E5ECF6\", \"gridcolor\": \"white\", \"gridwidth\": 2, \"linecolor\": \"white\", \"showbackground\": true, \"ticks\": \"\", \"zerolinecolor\": \"white\"}, \"yaxis\": {\"backgroundcolor\": \"#E5ECF6\", \"gridcolor\": \"white\", \"gridwidth\": 2, \"linecolor\": \"white\", \"showbackground\": true, \"ticks\": \"\", \"zerolinecolor\": \"white\"}, \"zaxis\": {\"backgroundcolor\": \"#E5ECF6\", \"gridcolor\": \"white\", \"gridwidth\": 2, \"linecolor\": \"white\", \"showbackground\": true, \"ticks\": \"\", \"zerolinecolor\": \"white\"}}, \"shapedefaults\": {\"line\": {\"color\": \"#2a3f5f\"}}, \"ternary\": {\"aaxis\": {\"gridcolor\": \"white\", \"linecolor\": \"white\", \"ticks\": \"\"}, \"baxis\": {\"gridcolor\": \"white\", \"linecolor\": \"white\", \"ticks\": \"\"}, \"bgcolor\": \"#E5ECF6\", \"caxis\": {\"gridcolor\": \"white\", \"linecolor\": \"white\", \"ticks\": \"\"}}, \"title\": {\"x\": 0.05}, \"xaxis\": {\"automargin\": true, \"gridcolor\": \"white\", \"linecolor\": \"white\", \"ticks\": \"\", \"title\": {\"standoff\": 15}, \"zerolinecolor\": \"white\", \"zerolinewidth\": 2}, \"yaxis\": {\"automargin\": true, \"gridcolor\": \"white\", \"linecolor\": \"white\", \"ticks\": \"\", \"title\": {\"standoff\": 15}, \"zerolinecolor\": \"white\", \"zerolinewidth\": 2}}}, \"xaxis\": {\"anchor\": \"y\", \"domain\": [0.0, 1.0], \"title\": {\"text\": \"Date\"}}, \"xaxis2\": {\"anchor\": \"y2\", \"domain\": [0.0, 1.0], \"title\": {\"text\": \"Date\"}}, \"yaxis\": {\"anchor\": \"x\", \"domain\": [0.625, 1.0], \"title\": {\"text\": \"Recovery Rate\"}}, \"yaxis2\": {\"anchor\": \"x2\", \"domain\": [0.0, 0.375], \"title\": {\"text\": \"Fatality Rate\"}}},\n",
       "                        {\"responsive\": true}\n",
       "                    ).then(function(){\n",
       "                            \n",
       "var gd = document.getElementById('accdb74c-f7fd-4d30-aa74-d201de9451a9');\n",
       "var x = new MutationObserver(function (mutations, observer) {{\n",
       "        var display = window.getComputedStyle(gd).display;\n",
       "        if (!display || display === 'none') {{\n",
       "            console.log([gd, 'removed!']);\n",
       "            Plotly.purge(gd);\n",
       "            observer.disconnect();\n",
       "        }}\n",
       "}});\n",
       "\n",
       "// Listen for the removal of the full notebook cells\n",
       "var notebookContainer = gd.closest('#notebook-container');\n",
       "if (notebookContainer) {{\n",
       "    x.observe(notebookContainer, {childList: true});\n",
       "}}\n",
       "\n",
       "// Listen for the clearing of the current output cell\n",
       "var outputEl = gd.closest('.output');\n",
       "if (outputEl) {{\n",
       "    x.observe(outputEl, {childList: true});\n",
       "}}\n",
       "\n",
       "                        })\n",
       "                };\n",
       "                });\n",
       "            </script>\n",
       "        </div>"
      ]
     },
     "metadata": {},
     "output_type": "display_data"
    }
   ],
   "source": [
    "#Calculating the Fatality Rate and Recovery Rate\n",
    "datewise2[\"Fatality Rate\"]=(datewise2[\"Deaths\"]/datewise2[\"Confirmed\"])*100\n",
    "datewise2[\"Recovery Rate\"]=(datewise2[\"Recovered\"]/datewise2[\"Confirmed\"])*100\n",
    "datewise2[\"Active Cases\"]=datewise2[\"Confirmed\"]-datewise2[\"Recovered\"]-datewise2[\"Deaths\"]\n",
    "datewise2[\"Closed Cases\"]=datewise2[\"Recovered\"]+datewise2[\"Deaths\"]\n",
    "\n",
    "print(\"Average Fatality Rate\",datewise2[\"Fatality Rate\"].mean())\n",
    "print(\"Median Fatality Rate\",datewise2[\"Fatality Rate\"].median())\n",
    "print(\"Average Recovery Rate\",datewise2[\"Recovery Rate\"].mean())\n",
    "print(\"Median Recovery Rate\",datewise2[\"Recovery Rate\"].median())\n",
    "\n",
    "\n",
    "#Plotting Fatality and Recovery Rate \n",
    "fig = make_subplots(rows=2, cols=1,\n",
    "                   subplot_titles=(\"Recovery Rate\", \"Fatality Rate\"))\n",
    "fig.add_trace(\n",
    "    go.Scatter(x=datewise.index, y=(datewise2[\"Recovered\"]/datewise2[\"Confirmed\"])*100,name=\"Recovery Rate\"),\n",
    "    row=1, col=1\n",
    ")\n",
    "fig.add_trace(\n",
    "    go.Scatter(x=datewise.index, y=(datewise2[\"Deaths\"]/datewise2[\"Confirmed\"])*100,name=\"Fatality Rate\"),\n",
    "    row=2, col=1\n",
    ")\n",
    "fig.update_layout(height=1000,legend=dict(x=-0.1,y=1.2,traceorder=\"normal\"))\n",
    "fig.update_xaxes(title_text=\"Date\", row=1, col=1)\n",
    "fig.update_yaxes(title_text=\"Recovery Rate\", row=1, col=1)\n",
    "fig.update_xaxes(title_text=\"Date\", row=2, col=1)\n",
    "fig.update_yaxes(title_text=\"Fatality Rate\", row=2, col=1)\n",
    "fig.show()"
   ]
  },
  {
   "cell_type": "code",
   "execution_count": null,
   "metadata": {},
   "outputs": [],
   "source": []
  }
 ],
 "metadata": {
  "kernelspec": {
   "display_name": "Python 3",
   "language": "python",
   "name": "python3"
  },
  "language_info": {
   "codemirror_mode": {
    "name": "ipython",
    "version": 3
   },
   "file_extension": ".py",
   "mimetype": "text/x-python",
   "name": "python",
   "nbconvert_exporter": "python",
   "pygments_lexer": "ipython3",
   "version": "3.7.4"
  }
 },
 "nbformat": 4,
 "nbformat_minor": 2
}
